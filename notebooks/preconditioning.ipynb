{
 "cells": [
  {
   "cell_type": "code",
   "execution_count": null,
   "metadata": {},
   "outputs": [],
   "source": [
    "using MagneticLaplacianSparsifier\n",
    "using Graphs, MetaGraphs, Random, IterTools, LinearAlgebra, GraphPlot, Arpack, Plots, SparseArrays\n",
    "using Statistics\n",
    "using Measures\n",
    "using CSV, DelimitedFiles, DataFrames, JLD"
   ]
  },
  {
   "cell_type": "markdown",
   "metadata": {},
   "source": [
    "## Combinatorial Laplacian with random graphs"
   ]
  },
  {
   "cell_type": "markdown",
   "metadata": {},
   "source": [
    "ER graph"
   ]
  },
  {
   "cell_type": "code",
   "execution_count": null,
   "metadata": {},
   "outputs": [],
   "source": [
    "rng = Random.default_rng()\n",
    "\n",
    "# connection graph parameters\n",
    "n = 100\n",
    "p = 0.9\n",
    "eta = 0.\n",
    "\n",
    "# regularization parameter\n",
    "q = 0.001\n",
    "\n",
    "# simulation parameters\n",
    "n_batch = 6 # maximum number of batches considered\n",
    "n_rep = 3 # number of runs\n",
    "\n",
    "# storing settings\n",
    "D_params = Dict(\"n\" => n,\"p\" => p,\"eta\" => eta,\"q\" => q,\"n_batch\" => n_batch,\"n_rep\" => n_rep)\n",
    "\n",
    "# simple ER graph\n",
    "meta_g = gen_graph_mun(rng, n, p, eta)\n",
    "for e in edges(meta_g)\n",
    "    set_prop!(meta_g, e, :angle, 0.0)\n",
    "end\n",
    "\n",
    "# print least eigenvalues\n",
    "B = magnetic_incidence(meta_g)\n",
    "l = eigvals(B' * B)\n",
    "println(\"least eigenvalue: \", l[1:3])\n",
    "\n",
    "# compute condition numbers\n",
    "D_results = cond_numbers(meta_g,q,n_batch,n_rep,rng)\n",
    "name = \"precond\"*\"n\"*string(n)*\"p\"*string(p)*\"eta\"*string(eta)*\"q\"*string(q)\n",
    "\n",
    "# saving results\n",
    "save(\"figures/\"*name*\"_data.jld\", \"D_results\", D_results,\"D_params\", D_params)\n",
    "\n",
    "# plotting\n",
    "y_limits = (1,1e6)\n",
    "plot_comparison_cond(D_results,y_limits;legendposition=:topright)\n",
    "\n",
    "# saving plot\n",
    "savefig(\"figures/\"*name*\".pdf\")\n"
   ]
  },
  {
   "cell_type": "code",
   "execution_count": null,
   "metadata": {},
   "outputs": [],
   "source": [
    "method = \"DPP(K) unif\"\n",
    "plot_nb_roots(D_results, method; legendposition=:topleft)\n",
    "\n",
    "# saving\n",
    "foldername = \"figures/\"*name*\"_nb_roots\"*\".pdf\"\n",
    "savefig(foldername)"
   ]
  },
  {
   "cell_type": "markdown",
   "metadata": {},
   "source": [
    " SBM graph"
   ]
  },
  {
   "cell_type": "code",
   "execution_count": null,
   "metadata": {},
   "outputs": [],
   "source": [
    "rng = Random.default_rng()\n",
    "\n",
    "# graph parameters\n",
    "c = [100 0.01 ;\n",
    "0.01 20]\n",
    "n = [400 ; 400]\n",
    "\n",
    "# regularization parameter\n",
    "q = 0.1\n",
    "\n",
    "# simulation parameters\n",
    "n_batch = 6 # maximum number of batches considered\n",
    "n_rep = 3 # number of runs\n",
    "\n",
    "# storing settings\n",
    "D_params = Dict(\"n\" => n,\"p\" => p,\"eta\" => eta,\"q\" => q,\"n_batch\" => n_batch,\"n_rep\" => n_rep)\n",
    "\n",
    "# simple SBM graph\n",
    "g =  stochastic_block_model(c, n)\n",
    "meta_g = MetaGraph(g)\n",
    "for e in edges(meta_g)\n",
    "    set_prop!(meta_g, e, :angle, 0.0)\n",
    "end\n",
    "\n",
    "# print least eigenvalues\n",
    "B = magnetic_incidence(meta_g)\n",
    "l = eigvals(B' * B)\n",
    "println(\"least eigenvalue: \", l[1:3])\n",
    "\n",
    "# compute condition numbers\n",
    "D_results = cond_numbers(meta_g,q,n_batch,n_rep,rng)\n",
    "name = \"precond\"*\"SBM\"*\"q\"*string(q)\n",
    "\n",
    "# saving results\n",
    "save(\"figures/\"*name*\"_data.jld\", \"D_results\", D_results,\"D_params\", D_params)\n",
    "\n",
    "# plotting\n",
    "y_limits = (1,1e5)\n",
    "plot_comparison_cond(D_results,y_limits;legendposition=:topright)\n",
    "\n",
    "# saving plot\n",
    "savefig(\"figures/\"*name*\".pdf\")\n"
   ]
  },
  {
   "cell_type": "code",
   "execution_count": null,
   "metadata": {},
   "outputs": [],
   "source": [
    "method = \"DPP(K) unif\"\n",
    "plot_nb_roots(D_results, method; legendposition=:topleft)\n",
    "\n",
    "# saving\n",
    "foldername = \"figures/\"*name*\"_nb_roots\"*\".pdf\"\n",
    "savefig(foldername)"
   ]
  },
  {
   "cell_type": "markdown",
   "metadata": {},
   "source": [
    "## Magnetic Laplacian with random graphs"
   ]
  },
  {
   "cell_type": "markdown",
   "metadata": {},
   "source": [
    "MUN graph model"
   ]
  },
  {
   "cell_type": "code",
   "execution_count": null,
   "metadata": {},
   "outputs": [],
   "source": [
    "type = \"MUN\" \n",
    "\n",
    "rng = Random.default_rng()\n",
    "\n",
    "# connection graph parameters\n",
    "n = 100\n",
    "p = 0.9\n",
    "eta = 1e-2\n",
    "\n",
    "# regularization parameter\n",
    "q = 0\n",
    "\n",
    "# simulation parameters\n",
    "n_batch = 6 # maximum number of batches considered\n",
    "n_rep = 10 # number of runs\n",
    "\n",
    "# storing settings\n",
    "D_params = Dict(\"n\" => n,\"p\" => p,\"eta\" => eta,\"q\" => q,\"n_batch\" => n_batch,\"n_rep\" => n_rep)\n",
    "\n",
    "# planted ranking score\n",
    "planted_score = randperm(rng,n)\n",
    "\n",
    "# graph model\n",
    "if type==\"MUN\"\n",
    "    meta_g = gen_graph_mun(rng, n, p, eta;planted_score)\n",
    "elseif type==\"ERO\"\n",
    "    meta_g = gen_graph_ero(rng, n, p, eta;planted_score)\n",
    "end\n",
    "\n",
    "# print least eigenvalues\n",
    "B = magnetic_incidence(meta_g)\n",
    "l = eigvals(B' * B)\n",
    "println(\"least eigenvalue: \", l[1:3])\n",
    "\n",
    "# compute condition numbers\n",
    "D_results = cond_numbers(meta_g,q,n_batch,n_rep,rng; q_system=1e-13)\n",
    "name = \"precond\"*type*\"n\"*string(n)*\"p\"*string(p)*\"eta\"*string(eta)*\"q\"*string(q)\n",
    "\n",
    "# saving results\n",
    "save(\"figures/\"*name*\"_data.jld\", \"D_results\", D_results,\"D_params\", D_params)\n",
    "\n",
    "# plotting\n",
    "y_limits = (1,1e18)\n",
    "plot_comparison_cond(D_results,y_limits;legendposition=:topright)\n",
    "\n",
    "# saving plot\n",
    "savefig(\"figures/\"*name*\".pdf\")\n"
   ]
  },
  {
   "cell_type": "markdown",
   "metadata": {},
   "source": [
    "ERO graph model"
   ]
  },
  {
   "cell_type": "code",
   "execution_count": null,
   "metadata": {},
   "outputs": [],
   "source": [
    "type = \"ERO\" \n",
    "\n",
    "rng = Random.default_rng()\n",
    "\n",
    "# connection graph parameters\n",
    "n = 100\n",
    "p = 0.9\n",
    "eta = 1e-3\n",
    "\n",
    "# regularization parameter\n",
    "q = 0\n",
    "\n",
    "# simulation parameters\n",
    "n_batch = 6 # maximum number of batches considered\n",
    "n_rep = 10 # number of runs\n",
    "\n",
    "# storing settings\n",
    "D_params = Dict(\"n\" => n,\"p\" => p,\"eta\" => eta,\"q\" => q,\"n_batch\" => n_batch,\"n_rep\" => n_rep)\n",
    "\n",
    "# planted ranking score\n",
    "planted_score = randperm(rng,n)\n",
    "\n",
    "# graph model\n",
    "if type==\"MUN\"\n",
    "    meta_g = gen_graph_mun(rng, n, p, eta;planted_score)\n",
    "elseif type==\"ERO\"\n",
    "    meta_g = gen_graph_ero(rng, n, p, eta;planted_score)\n",
    "end\n",
    "\n",
    "# print least eigenvalues\n",
    "B = magnetic_incidence(meta_g)\n",
    "l = eigvals(B' * B)\n",
    "println(\"least eigenvalue: \", l[1:3])\n",
    "\n",
    "# compute condition numbers\n",
    "D_results = cond_numbers(meta_g,q,n_batch,n_rep,rng; q_system=1e-13)\n",
    "name = \"precond\"*type*\"n\"*string(n)*\"p\"*string(p)*\"eta\"*string(eta)*\"q\"*string(q)\n",
    "\n",
    "# saving results\n",
    "save(\"figures/\"*name*\"_data.jld\", \"D_results\", D_results,\"D_params\", D_params)\n",
    "\n",
    "# plotting\n",
    "y_limits = (1,1e18)\n",
    "plot_comparison_cond(D_results,y_limits;legendposition=:topright)\n",
    "\n",
    "# saving plot\n",
    "savefig(\"figures/\"*name*\".pdf\")\n"
   ]
  },
  {
   "cell_type": "markdown",
   "metadata": {},
   "source": [
    "## Combinatorial Laplacian with a real graph\n"
   ]
  },
  {
   "cell_type": "code",
   "execution_count": null,
   "metadata": {},
   "outputs": [],
   "source": [
    "using MagneticLaplacianSparsifier\n",
    "using Graphs, MetaGraphs, Random, IterTools, LinearAlgebra, GraphPlot, Arpack, Plots, SparseArrays\n",
    "using Statistics\n",
    "using Measures\n",
    "using GraphIO \n",
    "using ParserCombinator "
   ]
  },
  {
   "cell_type": "code",
   "execution_count": null,
   "metadata": {},
   "outputs": [],
   "source": [
    "real_g = \"polblogs.gml\"\n",
    "g = loadgraph(real_g, \"digraph\", GraphIO.GML.GMLFormat())\n",
    "g = SimpleGraph(g)\n",
    "\n",
    "rng = Random.default_rng()"
   ]
  },
  {
   "cell_type": "code",
   "execution_count": null,
   "metadata": {},
   "outputs": [],
   "source": [
    "# select largest connected component\n",
    "temp = connected_components(g)\n",
    "g = g[temp[1]]\n",
    "\n",
    "meta_g = MetaGraph(g)\n",
    "for e in edges(meta_g)\n",
    "    set_prop!(meta_g, e, :angle, 0.0)\n",
    "end\n",
    "\n",
    "# Laplacian \n",
    "B = magnetic_incidence(meta_g)\n",
    "L = B' * B\n",
    "l = eigvals(L)\n",
    "# least eigenvalues to check the graph has one connected component\n",
    "println(l[1:5]')"
   ]
  },
  {
   "cell_type": "code",
   "execution_count": null,
   "metadata": {},
   "outputs": [],
   "source": [
    "# simulation parameters\n",
    "n_batch = 6 # maximum number of batches considered\n",
    "n_rep = 3 # number of runs\n",
    "\n",
    "# regularization parameter\n",
    "q = 0.1\n",
    "\n",
    "# storing settings\n",
    "D_params = Dict(\"q\" => q,\"n_batch\" => n_batch,\"n_rep\" => n_rep)\n",
    "\n",
    "# compute condition numbers\n",
    "D_results = cond_numbers(meta_g,q,n_batch,n_rep,rng)\n",
    "name = \"precond_PolBlogs_\"*\"q\"*string(q)\n",
    "\n",
    "# saving results\n",
    "save(\"figures/\"*name*\"_data.jld\", \"D_results\", D_results,\"D_params\", D_params)\n",
    "\n",
    "# plotting\n",
    "y_limits = (1,1e4)\n",
    "plot_comparison_cond(D_results,y_limits;legendposition=:topright)\n",
    "\n",
    "# saving plot\n",
    "savefig(\"figures/\"*name*\".pdf\")"
   ]
  },
  {
   "cell_type": "code",
   "execution_count": null,
   "metadata": {},
   "outputs": [],
   "source": [
    "# average number of roots\n",
    "method = \"DPP(K) unif\"\n",
    "plot_nb_roots(D_results, method; legendposition=:topleft)\n",
    "\n",
    "# saving\n",
    "foldername = \"figures/\"*name*\"_nb_roots\"*\".pdf\"\n",
    "savefig(foldername)"
   ]
  },
  {
   "cell_type": "code",
   "execution_count": null,
   "metadata": {},
   "outputs": [],
   "source": []
  }
 ],
 "metadata": {
  "kernelspec": {
   "display_name": "Julia 1.6.3",
   "language": "julia",
   "name": "julia-1.6"
  },
  "language_info": {
   "file_extension": ".jl",
   "mimetype": "application/julia",
   "name": "julia",
   "version": "1.6.3"
  },
  "orig_nbformat": 4
 },
 "nbformat": 4,
 "nbformat_minor": 2
}
