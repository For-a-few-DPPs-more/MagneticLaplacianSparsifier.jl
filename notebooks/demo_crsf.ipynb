{
 "cells": [
  {
   "cell_type": "code",
   "execution_count": null,
   "metadata": {},
   "outputs": [],
   "source": [
    "using MagneticLaplacianSparsifier\n",
    "using Graphs, MetaGraphs, Random, IterTools, LinearAlgebra, GraphPlot, Arpack, Plots, SparseArrays"
   ]
  },
  {
   "cell_type": "code",
   "execution_count": null,
   "metadata": {},
   "outputs": [],
   "source": [
    "n = 50\n",
    "p = 0.5\n",
    "eta = 0.1\n",
    "\n",
    "rng = Random.default_rng();\n",
    "meta_g = gen_graph_mun(rng, n, p, eta);\n",
    "B = magnetic_incidence(meta_g; oriented=true);\n",
    "L = B*B';"
   ]
  },
  {
   "cell_type": "markdown",
   "metadata": {},
   "source": [
    "### LS approx with MC"
   ]
  },
  {
   "cell_type": "code",
   "execution_count": null,
   "metadata": {},
   "outputs": [],
   "source": [
    "t= 50000;\n",
    "q = 0;\n",
    "emp_lev = emp_leverage_score(rng, meta_g, q,  t);\n",
    "lev = leverage_score(B, q);\n",
    "\n",
    "print(\"relative error: \",norm(emp_lev - lev)/norm(lev))\n",
    "plot(emp_lev,xlabel = \"edge index\",ylabel = \"leverage score\",labels=\"empirical leverage score (q = 0)\");\n",
    "plot!(lev,labels=\"leverage score (q = 0)\")"
   ]
  },
  {
   "cell_type": "markdown",
   "metadata": {},
   "source": [
    "condition number of precond system vs nb of CRSFs"
   ]
  },
  {
   "cell_type": "code",
   "execution_count": null,
   "metadata": {},
   "outputs": [],
   "source": [
    "n = nv(meta_g);\n",
    "m = ne(meta_g);\n",
    "\n",
    "q = 0.;\n",
    "lev = leverage_score(B, q);\n",
    "\n",
    "n_tot = 10;\n",
    "cnd_number = zeros(n_tot,1);\n",
    "cnd_number_no_lev = zeros(n_tot,1);\n",
    "\n",
    "percent_edges = zeros(n_tot,1);\n",
    "for i=1:n_tot\n",
    "    avgL = average_sparsifier(rng, meta_g, lev, q, i)\n",
    "    avgL_no_lev = average_sparsifier(rng,meta_g,nothing,q,i);\n",
    "    cnd_number[i] = cond(inv(avgL)*L);\n",
    "    cnd_number_no_lev[i] = cond(inv(avgL_no_lev)*L);\n",
    "    percent_edges[i] = nb_of_edges(avgL)/m;\n",
    "end\n",
    "scatter(1:n_tot,cnd_number, yaxis=:log,xlabel = \"batch size\",labels = \"precond\")\n",
    "scatter!(1:n_tot,cnd_number_no_lev, yaxis=:log,xlabel = \"batch size\",labels = \"precond w/o LS\")\n",
    "scatter!(1:n_tot,percent_edges,labels = \"percentage of edges\")\n",
    "plot!(1:n_tot,cond(L)*ones(n_tot,1),labels = \"cond Laplacian\")"
   ]
  },
  {
   "cell_type": "markdown",
   "metadata": {},
   "source": [
    "### eigenvalue approximation"
   ]
  },
  {
   "cell_type": "code",
   "execution_count": null,
   "metadata": {},
   "outputs": [],
   "source": [
    "\n",
    "\n",
    "t = 3;\n",
    "q = 0;\n",
    "n = nv(meta_g);\n",
    "m = ne(meta_g);\n",
    "\n",
    "lev = leverage_score(B, q);\n",
    "\n",
    "avgL = average_sparsifier(rng, meta_g, lev, q, t)\n",
    "avgL_no_lev = average_sparsifier(rng, meta_g, nothing, q, t)\n",
    "\n",
    "\n",
    "percent = ((nnz(sparse(avgL))-n)/2)/m;\n",
    "print(\"percentage of number of edges : \", percent )\n",
    "plot(real(eigvals(L)), real(eigvals(avgL)),xlabel = \"exact eigenvalues\",ylabel = \"approximate eigenvalues\", labels = \"empirical result\")\n",
    "plot!(real(eigvals(L)), real(eigvals(avgL_no_lev)), labels = \"empirical result w/o LS\")\n",
    "\n",
    "plot!(real(eigvals(L)), real(eigvals(L)),linestyle= :dash, labels = \"ideal case\",legend=:bottomright)\n",
    "\n"
   ]
  },
  {
   "cell_type": "markdown",
   "metadata": {},
   "source": [
    "### Ranking"
   ]
  },
  {
   "cell_type": "code",
   "execution_count": null,
   "metadata": {},
   "outputs": [],
   "source": [
    "B = magnetic_incidence(meta_g; oriented=true);\n",
    "L = B*B';\n",
    "\n",
    "lam,v = eigs(L, nev=1, which=:SM);\n",
    "print(\"nb of edges: \", nb_of_edges(L))\n",
    "\n",
    "scatter(angular_score(v))\n"
   ]
  },
  {
   "cell_type": "code",
   "execution_count": null,
   "metadata": {},
   "outputs": [],
   "source": [
    "\n",
    "\n",
    "t = 3;\n",
    "q = 0;\n",
    "lev = leverage_score(B, q);\n",
    "\n",
    "avgL = average_sparsifier(rng, meta_g, lev, q, t)\n",
    "print(\"nb of edges: \", nb_of_edges(avgL), \" over \", nb_of_edges(L))\n",
    "\n",
    "lam,v = eigs(avgL, nev=1, which=:SM);\n",
    "scatter(angular_score(v))\n",
    "\n"
   ]
  },
  {
   "cell_type": "code",
   "execution_count": null,
   "metadata": {},
   "outputs": [],
   "source": [
    "\n",
    "\n",
    "t = 3;\n",
    "q = 0;\n",
    "lev = leverage_score(B, q);\n",
    "# without LS\n",
    "avgL = average_sparsifier(rng, meta_g, nothing, q, t)\n",
    "print(\"nb of edges: \", nb_of_edges(avgL), \" over \", nb_of_edges(L))\n",
    "lam,v = eigs(avgL, nev=1, which=:SM);\n",
    "scatter(angular_score(v))\n",
    "\n"
   ]
  },
  {
   "cell_type": "code",
   "execution_count": null,
   "metadata": {},
   "outputs": [],
   "source": []
  }
 ],
 "metadata": {
  "kernelspec": {
   "display_name": "Julia 1.6.3",
   "language": "julia",
   "name": "julia-1.6"
  },
  "language_info": {
   "file_extension": ".jl",
   "mimetype": "application/julia",
   "name": "julia",
   "version": "1.6.3"
  },
  "orig_nbformat": 4
 },
 "nbformat": 4,
 "nbformat_minor": 2
}
