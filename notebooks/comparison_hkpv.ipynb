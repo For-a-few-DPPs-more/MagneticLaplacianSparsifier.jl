{
 "cells": [
  {
   "cell_type": "code",
   "execution_count": 16,
   "metadata": {},
   "outputs": [],
   "source": [
    "using MagneticLaplacianSparsifier\n",
    "using Graphs, MetaGraphs, Random, IterTools, LinearAlgebra, GraphPlot, Arpack, Plots, SparseArrays\n",
    "using Statistics\n",
    "using Measures\n",
    "using StatsBase#, JLD\n",
    "using PlotlyJS"
   ]
  },
  {
   "cell_type": "markdown",
   "metadata": {},
   "source": [
    "### Performance of the algebraic sampler of HKPV\n",
    "1. [MUN graph  with $\\eta$ small](#graph_small_eta)<br />\n",
    "    1.2 [Sampling several times CRSFs with cycle popping and HKPV with $\\eta$ small](#sampling_small_eta) <br />\n",
    "    1.3 [Distributions of cycle-rooted trees with $\\eta$ small](#CTRs_small_eta) <br />\n",
    "    1.4 [Distributions of connected subgraphs with $0$ cycles (trees) with $\\eta$ small ](#Ts_small_eta) <br />\n",
    "    1.5 [Distributions of connected subgraphs with at least $2$ cycles with $\\eta$ small](#Morecycles_small_eta) <br />\n",
    "    1.6 [Timings with $\\eta$ small](#Timing_small_eta) <br />\n",
    "2. [MUN graph  with $\\eta$ large](#graph_large_eta)<br />\n",
    "    1.2 [Sampling several times CRSFs with cycle popping and HKPV with $\\eta$ large](#sampling_large_eta) <br />\n",
    "    1.3 [Distributions of cycle-rooted trees with $\\eta$ large](#CTRs_large_eta) <br />\n",
    "    1.4 [Distributions of connected subgraphs with $0$ cycles (trees) with $\\eta$ large](#Ts_large_eta) <br />\n",
    "    1.5 [Distributions of connected subgraphs with at least $2$ cycles with $\\eta$ large](#Morecycles_large_eta) <br />\n",
    "    1.6 [Timings with $\\eta$ large](#Timing_large_eta) <br />"
   ]
  },
  {
   "cell_type": "markdown",
   "metadata": {},
   "source": [
    "#### 1. MUN graph  with $\\eta$ small <a name=\"graph_small_eta\"></a>\n"
   ]
  },
  {
   "cell_type": "code",
   "execution_count": 17,
   "metadata": {},
   "outputs": [],
   "source": [
    "type=\"MUN\"\n",
    "\n",
    "rng = Random.default_rng()\n",
    "\n",
    "# graph parameters\n",
    "n = 2000\n",
    "p = 0.01\n",
    "eta = 1e-3\n",
    "\n",
    "q = 0\n",
    "\n",
    "# planted ranking score\n",
    "planted_score = randperm(rng,n)\n",
    "\n",
    "# graph model\n",
    "if type==\"MUN\"\n",
    "    meta_g = gen_graph_mun(rng, n, p, eta;planted_score)\n",
    "elseif type==\"ERO\"\n",
    "    meta_g = gen_graph_ero(rng, n, p, eta;planted_score)\n",
    "end\n",
    "\n",
    "sparseB = sp_magnetic_incidence(meta_g; oriented=true);"
   ]
  },
  {
   "cell_type": "markdown",
   "metadata": {},
   "source": [
    "1.1 Sampling several times CRSFs with cycle popping and HKPV  with $\\eta$ small <a name=\"sampling_small_eta\"></a>\n"
   ]
  },
  {
   "cell_type": "code",
   "execution_count": 18,
   "metadata": {},
   "outputs": [],
   "source": [
    "n = nv(meta_g)\n",
    "\n",
    "nb_samples = 30\n",
    "\n",
    "nb_edges = zeros(nb_samples)\n",
    "nb_cc = zeros(nb_samples)\n",
    "\n",
    "cc_with_1_cycle = zeros(nb_samples)\n",
    "cc_with_0_cycle = zeros(nb_samples)\n",
    "cc_with_more_than_1_cycle = zeros(nb_samples)\n",
    "\n",
    "\n",
    "time_hkpv = zeros(nb_samples)\n",
    "time_mtsf = zeros(nb_samples)\n",
    "\n",
    "\n",
    "V = Matrix(qr(Matrix(sparseB)).Q)\n",
    "\n",
    "for i_sample in 1:nb_samples\n",
    "\n",
    "    id, t = @timed sample_pdpp(V)\n",
    "    e = collect(edges(meta_g))\n",
    "    subgraph,_ = induced_subgraph(meta_g, e[id])\n",
    "\n",
    "    nb_edges[i_sample] = ne(subgraph)\n",
    "    cc = connected_components(subgraph)\n",
    "\n",
    "    nb_cc[i_sample] = length(cc)\n",
    "\n",
    "    cc = [induced_subgraph(subgraph, cc)[1] for cc in connected_components(subgraph)]\n",
    "\n",
    "    temp_cc_with_1_cycle = 0\n",
    "    temp_cc_with_0_cycle = 0\n",
    "    temp_cc_with_more_than_1_cycle = 0\n",
    "\n",
    "    for i in cc\n",
    "        l = length(cycle_basis(i))\n",
    "        if l == 1\n",
    "            temp_cc_with_1_cycle += 1\n",
    "        elseif l == 0\n",
    "            temp_cc_with_0_cycle += 1\n",
    "        else\n",
    "            temp_cc_with_more_than_1_cycle += 1\n",
    "        end\n",
    "    end\n",
    "\n",
    "    cc_with_1_cycle[i_sample] = temp_cc_with_1_cycle\n",
    "    cc_with_0_cycle[i_sample] = temp_cc_with_0_cycle\n",
    "    cc_with_more_than_1_cycle[i_sample] = temp_cc_with_more_than_1_cycle\n",
    "\n",
    "    time_hkpv[i_sample] = t\n",
    "    mtsf, t_mtsf = @timed multi_type_spanning_forest(rng, meta_g, q)\n",
    "    time_mtsf[i_sample] = t_mtsf\n",
    "\n",
    "end    \n",
    "\n",
    "println(cc_with_1_cycle)\n",
    "println(cc_with_0_cycle)\n",
    "println(cc_with_more_than_1_cycle)\n",
    "#println(nb_cc)\n",
    "println(\" \")\n",
    "println([mean(time_hkpv) mean(time_mtsf)])"
   ]
  },
  {
   "cell_type": "markdown",
   "metadata": {},
   "source": [
    "1.2 Distributions of cycle-rooted trees  with $\\eta$ small <a name=\"CTRs_small_eta\"></a>\n"
   ]
  },
  {
   "cell_type": "code",
   "execution_count": null,
   "metadata": {},
   "outputs": [],
   "source": [
    "cat_nb_cc_1_cycle = string.(sort(Int.(cc_with_1_cycle)))\n",
    "trace = PlotlyJS.histogram(x=cat_nb_cc_1_cycle, histnorm=\"probability density\")\n",
    "layout = Layout(\n",
    "    autosize=false,\n",
    "    width=500,\n",
    "    height=200,\n",
    "    margin=attr(l=1, r=1, b=1, t=1, pad=4),\n",
    "    font_size=35,\n",
    "    xaxis_type=\"category\",\n",
    ")\n",
    "p_1 = PlotlyJS.plot(trace,layout)"
   ]
  },
  {
   "cell_type": "markdown",
   "metadata": {},
   "source": [
    "1.3 Distributions of connected subgraphs with $0$ cycles (trees) with $\\eta$ small <a name=\"Ts_small_eta\"></a>\n"
   ]
  },
  {
   "cell_type": "code",
   "execution_count": null,
   "metadata": {},
   "outputs": [],
   "source": [
    "cat_nb_cc_0_cycle = string.(sort(Int.(cc_with_0_cycle)))\n",
    "trace = PlotlyJS.histogram(x=cat_nb_cc_0_cycle, histnorm=\"probability density\")\n",
    "layout = Layout(\n",
    "    autosize=false,\n",
    "    width=500,\n",
    "    height=200,\n",
    "    margin=attr(l=1, r=1, b=1, t=1, pad=4),\n",
    "    font_size=35,\n",
    "    xaxis_type=\"category\",\n",
    ")\n",
    "p_0 = PlotlyJS.plot(trace,layout)"
   ]
  },
  {
   "cell_type": "markdown",
   "metadata": {},
   "source": [
    "1.4 Distributions of connected subgraphs with at least $2$ cycles with $\\eta$ small <a name=\"Morecycles_small_eta\"></a>"
   ]
  },
  {
   "cell_type": "code",
   "execution_count": null,
   "metadata": {},
   "outputs": [],
   "source": [
    "cat_nb_cc_with_more_than_1_cycle = string.(sort(Int.(cc_with_more_than_1_cycle\n",
    ")))\n",
    "trace = PlotlyJS.histogram(x=cat_nb_cc_with_more_than_1_cycle, histnorm=\"probability density\")\n",
    "layout = Layout(\n",
    "    autosize=false,\n",
    "    width=500,\n",
    "    height=200,\n",
    "    margin=attr(l=1, r=1, b=1, t=1, pad=4),\n",
    "    font_size=35,\n",
    "    xaxis_type=\"category\",\n",
    ")\n",
    "p_more_than_1 = PlotlyJS.plot(trace,layout)"
   ]
  },
  {
   "cell_type": "markdown",
   "metadata": {},
   "source": [
    "1.5 Timings with $\\eta$ small <a name=\"Timing_small_eta\"></a>\n"
   ]
  },
  {
   "cell_type": "markdown",
   "metadata": {},
   "source": [
    "HKPV timing"
   ]
  },
  {
   "cell_type": "code",
   "execution_count": null,
   "metadata": {},
   "outputs": [],
   "source": [
    "trace = box(y=(time_hkpv),\n",
    "boxpoints=\"all\",\n",
    "marker=attr(\n",
    "        color=\"LightSkyBlue\",\n",
    "        size=3),\n",
    "quartilemethod=\"linear\",\n",
    "name=\"\",\n",
    "marker_color=\"royalblue\",\n",
    "boxmean=true)\n",
    "\n",
    "layout = Layout(\n",
    "    autosize=false,\n",
    "    width=500,\n",
    "    height=200,\n",
    "    margin=attr(l=1, r=1, b=1, t=1, pad=4),\n",
    "    font_size=20,\n",
    ")\n",
    "p_time_hkpv = PlotlyJS.plot(trace,layout)"
   ]
  },
  {
   "cell_type": "markdown",
   "metadata": {},
   "source": [
    "cycle popping timing"
   ]
  },
  {
   "cell_type": "code",
   "execution_count": null,
   "metadata": {},
   "outputs": [],
   "source": [
    "trace = box(y=(time_mtsf),\n",
    "boxpoints=\"all\",\n",
    "marker=attr(\n",
    "        color=\"LightSkyBlue\",\n",
    "        size=3),\n",
    "quartilemethod=\"linear\",\n",
    "name=\"\",\n",
    "marker_color=\"royalblue\",\n",
    "boxmean=true)\n",
    "\n",
    "layout = Layout(\n",
    "    autosize=false,\n",
    "    width=500,\n",
    "    height=200,\n",
    "    margin=attr(l=1, r=1, b=1, t=1, pad=4),\n",
    "    font_size=20,\n",
    ")\n",
    "p_time_hkpv = PlotlyJS.plot(trace,layout)"
   ]
  },
  {
   "cell_type": "markdown",
   "metadata": {},
   "source": [
    "### 2. MUN graph  with $\\eta$ large <a name=\"graph_large_eta\"></a>\n"
   ]
  },
  {
   "cell_type": "code",
   "execution_count": null,
   "metadata": {},
   "outputs": [],
   "source": [
    "type=\"MUN\"\n",
    "\n",
    "rng = Random.default_rng()\n",
    "\n",
    "# graph parameters\n",
    "# graph parameters\n",
    "n = 2000\n",
    "p = 0.01\n",
    "eta = 1e-1\n",
    "\n",
    "q = 0\n",
    "\n",
    "# planted ranking score\n",
    "planted_score = randperm(rng,n)\n",
    "\n",
    "# graph model\n",
    "if type==\"MUN\"\n",
    "    meta_g = gen_graph_mun(rng, n, p, eta;planted_score)\n",
    "elseif type==\"ERO\"\n",
    "    meta_g = gen_graph_ero(rng, n, p, eta;planted_score)\n",
    "end\n",
    "\n",
    "sparseB = sp_magnetic_incidence(meta_g; oriented=true);"
   ]
  },
  {
   "cell_type": "markdown",
   "metadata": {},
   "source": [
    "2.1 Sampling several times CRSFs with cycle popping and HKPV with $\\eta$ large <a name=\"sampling_large_eta\"></a>\n"
   ]
  },
  {
   "cell_type": "code",
   "execution_count": null,
   "metadata": {},
   "outputs": [],
   "source": [
    "n = nv(meta_g)\n",
    "\n",
    "nb_samples = 30\n",
    "\n",
    "nb_edges = zeros(nb_samples)\n",
    "nb_cc = zeros(nb_samples)\n",
    "\n",
    "cc_with_1_cycle = zeros(nb_samples)\n",
    "cc_with_0_cycle = zeros(nb_samples)\n",
    "cc_with_more_than_1_cycle = zeros(nb_samples)\n",
    "\n",
    "\n",
    "time_hkpv = zeros(nb_samples)\n",
    "time_mtsf = zeros(nb_samples)\n",
    "\n",
    "\n",
    "V = Matrix(qr(Matrix(sparseB)).Q)\n",
    "\n",
    "for i_sample in 1:nb_samples\n",
    "\n",
    "    id, t = @timed sample_pdpp(V)\n",
    "    e = collect(edges(meta_g))\n",
    "    subgraph,_ = induced_subgraph(meta_g, e[id])\n",
    "\n",
    "    nb_edges[i_sample] = ne(subgraph)\n",
    "    cc = connected_components(subgraph)\n",
    "\n",
    "    nb_cc[i_sample] = length(cc)\n",
    "\n",
    "    cc = [induced_subgraph(subgraph, cc)[1] for cc in connected_components(subgraph)]\n",
    "\n",
    "    temp_cc_with_1_cycle = 0\n",
    "    temp_cc_with_0_cycle = 0\n",
    "    temp_cc_with_more_than_1_cycle = 0\n",
    "\n",
    "    for i in cc\n",
    "        l = length(cycle_basis(i))\n",
    "        if l == 1\n",
    "            temp_cc_with_1_cycle += 1\n",
    "        elseif l == 0\n",
    "            temp_cc_with_0_cycle += 1\n",
    "        else\n",
    "            temp_cc_with_more_than_1_cycle += 1\n",
    "        end\n",
    "    end\n",
    "\n",
    "    cc_with_1_cycle[i_sample] = temp_cc_with_1_cycle\n",
    "    cc_with_0_cycle[i_sample] = temp_cc_with_0_cycle\n",
    "    cc_with_more_than_1_cycle[i_sample] = temp_cc_with_more_than_1_cycle\n",
    "\n",
    "    time_hkpv[i_sample] = t\n",
    "    mtsf, t_mtsf = @timed multi_type_spanning_forest(rng, meta_g, q)\n",
    "    time_mtsf[i_sample] = t_mtsf\n",
    "\n",
    "end    \n",
    "\n",
    "println(cc_with_1_cycle)\n",
    "println(cc_with_0_cycle)\n",
    "println(cc_with_more_than_1_cycle)\n",
    "#println(nb_cc)\n",
    "println(\" \")\n",
    "println([mean(time_hkpv) mean(time_mtsf)])"
   ]
  },
  {
   "cell_type": "markdown",
   "metadata": {},
   "source": [
    "2.2 Distributions of cycle-rooted trees with $\\eta$ large <a name=\"CTRs_large_eta\"></a>\n"
   ]
  },
  {
   "cell_type": "code",
   "execution_count": null,
   "metadata": {},
   "outputs": [],
   "source": [
    "cat_nb_cc_1_cycle = string.(sort(Int.(cc_with_1_cycle)))\n",
    "trace = PlotlyJS.histogram(x=cat_nb_cc_1_cycle, histnorm=\"probability density\")\n",
    "layout = Layout(\n",
    "    autosize=false,\n",
    "    width=500,\n",
    "    height=200,\n",
    "    margin=attr(l=1, r=1, b=1, t=1, pad=4),\n",
    "    font_size=35,\n",
    "    xaxis_type=\"category\",\n",
    ")\n",
    "p_1 = PlotlyJS.plot(trace,layout)"
   ]
  },
  {
   "cell_type": "markdown",
   "metadata": {},
   "source": [
    "2.3 Distributions of connected subgraphs with $0$ cycles (trees) with $\\eta$ large <a name=\"Ts_large_eta\"></a>\n"
   ]
  },
  {
   "cell_type": "code",
   "execution_count": null,
   "metadata": {},
   "outputs": [],
   "source": [
    "cat_nb_cc_0_cycle = string.(sort(Int.(cc_with_0_cycle)))\n",
    "trace = PlotlyJS.histogram(x=cat_nb_cc_0_cycle, histnorm=\"probability density\")\n",
    "layout = Layout(\n",
    "    autosize=false,\n",
    "    width=500,\n",
    "    height=200,\n",
    "    margin=attr(l=1, r=1, b=1, t=1, pad=4),\n",
    "    font_size=35,\n",
    "    xaxis_type=\"category\",\n",
    ")\n",
    "p_0 = PlotlyJS.plot(trace,layout)"
   ]
  },
  {
   "cell_type": "markdown",
   "metadata": {},
   "source": [
    "2.4 Distributions of connected subgraphs with at least $2$ cycles with $\\eta$ large <a name=\"Morecycles_large_eta\"></a>\n"
   ]
  },
  {
   "cell_type": "code",
   "execution_count": null,
   "metadata": {},
   "outputs": [],
   "source": [
    "cat_nb_cc_with_more_than_1_cycle = string.(sort(Int.(cc_with_more_than_1_cycle\n",
    ")))\n",
    "trace = PlotlyJS.histogram(x=cat_nb_cc_with_more_than_1_cycle, histnorm=\"probability density\")\n",
    "layout = Layout(\n",
    "    autosize=false,\n",
    "    width=500,\n",
    "    height=200,\n",
    "    margin=attr(l=1, r=1, b=1, t=1, pad=4),\n",
    "    font_size=35,\n",
    "    xaxis_type=\"category\",\n",
    ")\n",
    "p_more_than_1 = PlotlyJS.plot(trace,layout)"
   ]
  },
  {
   "cell_type": "markdown",
   "metadata": {},
   "source": [
    "2.5 Timings with $\\eta$ large <a name=\"Timing_large_eta\"></a>\n"
   ]
  },
  {
   "cell_type": "markdown",
   "metadata": {},
   "source": [
    "HKPV timing"
   ]
  },
  {
   "cell_type": "markdown",
   "metadata": {},
   "source": [
    "trace = box(y=(time_hkpv),\n",
    "boxpoints=\"all\",\n",
    "marker=attr(\n",
    "        color=\"LightSkyBlue\",\n",
    "        size=3),\n",
    "quartilemethod=\"linear\",\n",
    "name=\"\",\n",
    "marker_color=\"royalblue\",\n",
    "boxmean=true)\n",
    "\n",
    "layout = Layout(\n",
    "    autosize=false,\n",
    "    width=500,\n",
    "    height=200,\n",
    "    margin=attr(l=1, r=1, b=1, t=1, pad=4),\n",
    "    font_size=20,\n",
    ")\n",
    "p_time_hkpv = PlotlyJS.plot(trace,layout)"
   ]
  },
  {
   "cell_type": "markdown",
   "metadata": {},
   "source": [
    "cycle popping timing"
   ]
  },
  {
   "cell_type": "code",
   "execution_count": null,
   "metadata": {},
   "outputs": [],
   "source": [
    "trace = box(y=(time_mtsf),\n",
    "boxpoints=\"all\",\n",
    "marker=attr(\n",
    "        color=\"LightSkyBlue\",\n",
    "        size=3),\n",
    "quartilemethod=\"linear\",\n",
    "name=\"\",\n",
    "marker_color=\"royalblue\",\n",
    "boxmean=true)\n",
    "\n",
    "layout = Layout(\n",
    "    autosize=false,\n",
    "    width=500,\n",
    "    height=200,\n",
    "    margin=attr(l=1, r=1, b=1, t=1, pad=4),\n",
    "    font_size=20,\n",
    ")\n",
    "p_time_hkpv = PlotlyJS.plot(trace,layout)"
   ]
  }
 ],
 "metadata": {
  "kernelspec": {
   "display_name": "Julia 1.6.7",
   "language": "julia",
   "name": "julia-1.6"
  },
  "language_info": {
   "file_extension": ".jl",
   "mimetype": "application/julia",
   "name": "julia",
   "version": "1.6.7"
  }
 },
 "nbformat": 4,
 "nbformat_minor": 2
}
