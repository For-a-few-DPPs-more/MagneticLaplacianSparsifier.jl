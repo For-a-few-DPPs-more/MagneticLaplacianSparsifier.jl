{
 "cells": [
  {
   "cell_type": "code",
   "execution_count": 1,
   "metadata": {},
   "outputs": [],
   "source": [
    "using MagneticLaplacianSparsifier\n",
    "using Graphs, MetaGraphs, Random, IterTools, LinearAlgebra, GraphPlot, Arpack, Plots, SparseArrays\n",
    "using Statistics\n",
    "using Measures\n",
    "using StatsBase#, JLD\n",
    "using PlotlyJS"
   ]
  },
  {
   "cell_type": "markdown",
   "metadata": {},
   "source": [
    "### Performance of the algebraic sampler of HKPV\n",
    "* 1. [MUN graph  with $\\eta$ small](#graph_small_eta)\n",
    "    * 1.2 [Sampling several times CRSFs with cycle popping and HKPV with $\\eta$ small](#sampling_small_eta) \n",
    "    * 1.3 [Distributions of cycle-rooted trees with $\\eta$ small](#CTRs_small_eta) \n",
    "    * 1.4 [Distributions of connected subgraphs with $0$ cycles (trees) with $\\eta$ small ](#Ts_small_eta) \n",
    "    * 1.5 [Distributions of connected subgraphs with at least $2$ cycles with $\\eta$ small](#Morecycles_small_eta) \n",
    "    * 1.6 [Timings with $\\eta$ small](#Timing_small_eta) \n",
    "* 2. [MUN graph  with $\\eta$ large](#graph_large_eta)\n",
    "    * 1.2 [Sampling several times CRSFs with cycle popping and HKPV with $\\eta$ large](#sampling_large_eta) \n",
    "    * 1.3 [Distributions of cycle-rooted trees with $\\eta$ large](#CTRs_large_eta) \n",
    "    * 1.4 [Distributions of connected subgraphs with $0$ cycles (trees) with $\\eta$ large](#Ts_large_eta) \n",
    "    * 1.5 [Distributions of connected subgraphs with at least $2$ cycles with $\\eta$ large](#Morecycles_large_eta) \n",
    "    * 1.6 [Timings with $\\eta$ large](#Timing_large_eta) "
   ]
  },
  {
   "cell_type": "code",
   "execution_count": 4,
   "metadata": {},
   "outputs": [
    {
     "data": {
      "text/plain": [
       "100"
      ]
     },
     "metadata": {},
     "output_type": "display_data"
    }
   ],
   "source": [
    "# common parameters\n",
    "type=\"MUN\"\n",
    "rng = Random.default_rng()\n",
    "\n",
    "# graph parameters\n",
    "n = 100\n",
    "p = 0.6\n",
    "\n",
    "# regularization\n",
    "q = 0\n",
    "\n",
    "# planted ranking score\n",
    "planted_score = randperm(rng,n)\n",
    "\n",
    "# for MC evaluations\n",
    "nb_samples = 100"
   ]
  },
  {
   "cell_type": "markdown",
   "metadata": {},
   "source": [
    "#### 1. MUN graph  with $\\eta$ small <a id=\"graph_small_eta\"></a>\n"
   ]
  },
  {
   "cell_type": "code",
   "execution_count": 5,
   "metadata": {},
   "outputs": [
    {
     "data": {
      "text/plain": [
       "100"
      ]
     },
     "metadata": {},
     "output_type": "display_data"
    }
   ],
   "source": [
    "eta = 0.1\n",
    "# graph model\n",
    "if type==\"MUN\"\n",
    "    meta_g = gen_graph_mun(rng, n, p, eta;planted_score)\n",
    "elseif type==\"ERO\"\n",
    "    meta_g = gen_graph_ero(rng, n, p, eta;planted_score)\n",
    "end\n",
    "sparseB = sp_magnetic_incidence(meta_g; oriented=true);\n",
    "n = nv(meta_g)"
   ]
  },
  {
   "cell_type": "markdown",
   "metadata": {},
   "source": [
    "1.1 Sampling several times CRSFs with cycle popping and HKPV  with $\\eta$ small <a id=\"sampling_small_eta\"></a>\n"
   ]
  },
  {
   "cell_type": "code",
   "execution_count": 164,
   "metadata": {},
   "outputs": [
    {
     "name": "stdout",
     "output_type": "stream",
     "text": [
      "[1.0, 3.0, 0.0, 2.0, 0.0, 2.0, 2.0, 0.0, 1.0, 2.0, 1.0, 1.0, 3.0, 0.0, 1.0, 1.0, 1.0, 0.0, 0.0, 3.0, 0.0, 0.0, 0.0, 0.0, 1.0, 0.0, 3.0, 1.0, 1.0, 1.0, 0.0, 2.0, 2.0, 2.0, 0.0, 0.0, 1.0, 2.0, 1.0, 1.0, 1.0, 1.0, 0.0, 1.0, 1.0, 0.0, 0.0, 3.0, 0.0, 2.0, 1.0, 2.0, 2.0, 0.0, 1.0, 0.0, 3.0, 0.0, 1.0, 2.0, 1.0, 1.0, 0.0, 0.0, 1.0, 2.0, 2.0, 2.0, 0.0, 1.0, 2.0, 0.0, 0.0, 2.0, 0.0, 0.0, 1.0, 1.0, 0.0, 3.0, 2.0, 1.0, 1.0, 1.0, 1.0, 1.0, 0.0, 1.0, 0.0, 2.0, 0.0, 1.0, 0.0, 0.0, 1.0, 0.0, 0.0, 0.0, 0.0, 0.0]\n",
      "[0.0, 0.0, 2.0, 0.0, 2.0, 0.0, 0.0, 0.0, 0.0, 0.0, 0.0, 0.0, 0.0, 2.0, 0.0, 0.0, 0.0, 1.0, 0.0, 0.0, 0.0, 0.0, 0.0, 1.0, 0.0, 1.0, 0.0, 0.0, 1.0, 1.0, 2.0, 0.0, 0.0, 0.0, 1.0, 2.0, 0.0, 0.0, 0.0, 0.0, 0.0, 0.0, 0.0, 0.0, 0.0, 0.0, 1.0, 0.0, 1.0, 0.0, 0.0, 0.0, 0.0, 1.0, 0.0, 1.0, 0.0, 1.0, 0.0, 0.0, 0.0, 0.0, 2.0, 0.0, 1.0, 0.0, 0.0, 0.0, 1.0, 0.0, 0.0, 1.0, 1.0, 0.0, 0.0, 2.0, 0.0, 0.0, 1.0, 0.0, 0.0, 0.0, 0.0, 0.0, 0.0, 0.0, 1.0, 0.0, 1.0, 0.0, 2.0, 1.0, 0.0, 0.0, 1.0, 1.0, 1.0, 0.0, 0.0, 1.0]\n",
      "[0.0, 0.0, 1.0, 0.0, 1.0, 0.0, 0.0, 1.0, 0.0, 0.0, 0.0, 1.0, 0.0, 1.0, 0.0, 0.0, 0.0, 1.0, 1.0, 0.0, 1.0, 1.0, 1.0, 1.0, 0.0, 1.0, 0.0, 0.0, 1.0, 1.0, 1.0, 0.0, 0.0, 0.0, 1.0, 1.0, 0.0, 0.0, 1.0, 1.0, 0.0, 0.0, 1.0, 0.0, 0.0, 1.0, 1.0, 0.0, 1.0, 0.0, 0.0, 0.0, 0.0, 1.0, 0.0, 1.0, 0.0, 1.0, 0.0, 0.0, 0.0, 1.0, 1.0, 1.0, 1.0, 0.0, 0.0, 0.0, 1.0, 0.0, 0.0, 1.0, 1.0, 0.0, 1.0, 1.0, 1.0, 0.0, 1.0, 0.0, 1.0, 0.0, 0.0, 0.0, 0.0, 0.0, 1.0, 0.0, 1.0, 1.0, 1.0, 1.0, 1.0, 1.0, 1.0, 1.0, 1.0, 1.0, 1.0, 1.0]\n",
      " \n",
      "[0.04089173765 0.0019393553000000001]\n"
     ]
    }
   ],
   "source": [
    "nb_edges = zeros(nb_samples)\n",
    "nb_cc = zeros(nb_samples)\n",
    "\n",
    "cc_with_1_cycle = zeros(nb_samples)\n",
    "cc_with_0_cycle = zeros(nb_samples)\n",
    "cc_with_more_than_1_cycle = zeros(nb_samples)\n",
    "\n",
    "time_hkpv = zeros(nb_samples)\n",
    "time_mtsf = zeros(nb_samples)\n",
    "\n",
    "\n",
    "V = Matrix(qr(Matrix(sparseB)).Q)\n",
    "\n",
    "for i_sample in 1:nb_samples\n",
    "\n",
    "    id, t = @timed sample_pdpp(V)\n",
    "    e = collect(edges(meta_g))\n",
    "    subgraph,_ = induced_subgraph(meta_g, e[id])\n",
    "\n",
    "    nb_edges[i_sample] = ne(subgraph)\n",
    "    cc = connected_components(subgraph)\n",
    "\n",
    "    nb_cc[i_sample] = length(cc)\n",
    "\n",
    "    cc = [induced_subgraph(subgraph, cc)[1] for cc in connected_components(subgraph)]\n",
    "\n",
    "    temp_cc_with_1_cycle = 0\n",
    "    temp_cc_with_0_cycle = 0\n",
    "    temp_cc_with_more_than_1_cycle = 0\n",
    "\n",
    "    for i in cc\n",
    "        l = length(cycle_basis(i))\n",
    "        if l == 1\n",
    "            temp_cc_with_1_cycle += 1\n",
    "        elseif l == 0\n",
    "            temp_cc_with_0_cycle += 1\n",
    "        else\n",
    "            temp_cc_with_more_than_1_cycle += 1\n",
    "        end\n",
    "    end\n",
    "\n",
    "    cc_with_1_cycle[i_sample] = temp_cc_with_1_cycle\n",
    "    cc_with_0_cycle[i_sample] = temp_cc_with_0_cycle\n",
    "    cc_with_more_than_1_cycle[i_sample] = temp_cc_with_more_than_1_cycle\n",
    "\n",
    "    time_hkpv[i_sample] = t\n",
    "    mtsf, t_mtsf = @timed multi_type_spanning_forest(rng, meta_g, q)\n",
    "    time_mtsf[i_sample] = t_mtsf\n",
    "\n",
    "end    \n",
    "\n",
    "println(cc_with_1_cycle)\n",
    "println(cc_with_0_cycle)\n",
    "println(cc_with_more_than_1_cycle)\n",
    "println(\" \")\n",
    "println([mean(time_hkpv) mean(time_mtsf)])"
   ]
  },
  {
   "cell_type": "markdown",
   "metadata": {},
   "source": [
    "1.2 Distributions of cycle-rooted trees  with $\\eta$ small <a id=\"CTRs_small_eta\"></a>\n"
   ]
  },
  {
   "cell_type": "code",
   "execution_count": 165,
   "metadata": {},
   "outputs": [
    {
     "data": {
      "text/plain": [
       "\"figures/comparison_hpkv_MUN_cc_with_1_cycle_n100p0.6eta0.1q0.pdf\""
      ]
     },
     "metadata": {},
     "output_type": "display_data"
    }
   ],
   "source": [
    "cat_nb_cc_1_cycle = string.(sort(Int.(cc_with_1_cycle)))\n",
    "trace = PlotlyJS.histogram(x=cat_nb_cc_1_cycle, histnorm=\"probability density\")\n",
    "layout = Layout(\n",
    "    autosize=false,\n",
    "    width=500,\n",
    "    height=200,\n",
    "    margin=attr(l=1, r=1, b=1, t=1, pad=4),\n",
    "    font_size=35,\n",
    "    xaxis_type=\"category\",\n",
    ")\n",
    "name = \"comparison_hpkv_MUN_cc_with_1_cycle_\"*\"n\"*string(n)*\"p\"*string(p)*\"eta\"*string(eta)*\"q\"*string(q)\n",
    "\n",
    "p_1 = PlotlyJS.plot(trace,layout)\n",
    "PlotlyJS.savefig(p_1,\"figures/\"*name*\".pdf\")"
   ]
  },
  {
   "cell_type": "markdown",
   "metadata": {},
   "source": [
    "1.3 Distributions of connected subgraphs with $0$ cycles (trees) with $\\eta$ small <a id=\"Ts_small_eta\"></a>\n"
   ]
  },
  {
   "cell_type": "code",
   "execution_count": 166,
   "metadata": {},
   "outputs": [
    {
     "data": {
      "text/plain": [
       "\"figures/comparison_hpkv_MUN_cc_with_0_cycle_n100p0.6eta0.1q0.pdf\""
      ]
     },
     "metadata": {},
     "output_type": "display_data"
    }
   ],
   "source": [
    "cat_nb_cc_0_cycle = string.(sort(Int.(cc_with_0_cycle)))\n",
    "trace = PlotlyJS.histogram(x=cat_nb_cc_0_cycle, histnorm=\"probability density\")\n",
    "layout = Layout(\n",
    "    autosize=false,\n",
    "    width=500,\n",
    "    height=200,\n",
    "    margin=attr(l=1, r=1, b=1, t=1, pad=4),\n",
    "    font_size=35,\n",
    "    xaxis_type=\"category\",\n",
    ")\n",
    "p_0 = PlotlyJS.plot(trace,layout)\n",
    "name = \"comparison_hpkv_MUN_cc_with_0_cycle_\"*\"n\"*string(n)*\"p\"*string(p)*\"eta\"*string(eta)*\"q\"*string(q)\n",
    "\n",
    "PlotlyJS.savefig(p_0,\"figures/\"*name*\".pdf\")"
   ]
  },
  {
   "cell_type": "markdown",
   "metadata": {},
   "source": [
    "1.4 Distributions of connected subgraphs with at least $2$ cycles with $\\eta$ small <a id=\"Morecycles_small_eta\"></a>"
   ]
  },
  {
   "cell_type": "code",
   "execution_count": 167,
   "metadata": {},
   "outputs": [
    {
     "data": {
      "text/plain": [
       "\"figures/comparison_hpkv_MUN_cc_more_than_1_cycle_n100p0.6eta0.1q0.pdf\""
      ]
     },
     "metadata": {},
     "output_type": "display_data"
    }
   ],
   "source": [
    "cat_nb_cc_with_more_than_1_cycle = string.(sort(Int.(cc_with_more_than_1_cycle\n",
    ")))\n",
    "trace = PlotlyJS.histogram(x=cat_nb_cc_with_more_than_1_cycle, histnorm=\"probability density\")\n",
    "layout = Layout(\n",
    "    autosize=false,\n",
    "    width=500,\n",
    "    height=200,\n",
    "    margin=attr(l=1, r=1, b=1, t=1, pad=4),\n",
    "    font_size=35,\n",
    "    xaxis_type=\"category\",\n",
    ")\n",
    "p_more_than_1 = PlotlyJS.plot(trace,layout)\n",
    "name = \"comparison_hpkv_MUN_cc_more_than_1_cycle_\"*\"n\"*string(n)*\"p\"*string(p)*\"eta\"*string(eta)*\"q\"*string(q)\n",
    "\n",
    "PlotlyJS.savefig(p_more_than_1,\"figures/\"*name*\".pdf\")"
   ]
  },
  {
   "cell_type": "markdown",
   "metadata": {},
   "source": [
    "1.5 Timings with $\\eta$ small <a id=\"Timing_small_eta\"></a>\n"
   ]
  },
  {
   "cell_type": "markdown",
   "metadata": {},
   "source": [
    "HKPV timing"
   ]
  },
  {
   "cell_type": "code",
   "execution_count": 168,
   "metadata": {},
   "outputs": [
    {
     "data": {
      "text/plain": [
       "\"figures/comparison_hpkv_MUN_time_hkpv_n100p0.6eta0.1q0.pdf\""
      ]
     },
     "metadata": {},
     "output_type": "display_data"
    }
   ],
   "source": [
    "trace = box(y=(time_hkpv),\n",
    "boxpoints=\"all\",\n",
    "marker=attr(\n",
    "        color=\"LightSkyBlue\",\n",
    "        size=3),\n",
    "quartilemethod=\"linear\",\n",
    "name=\"\",\n",
    "marker_color=\"royalblue\",\n",
    "boxmean=true)\n",
    "\n",
    "layout = Layout(\n",
    "    autosize=false,\n",
    "    width=500,\n",
    "    height=200,\n",
    "    margin=attr(l=1, r=1, b=1, t=1, pad=4),\n",
    "    font_size=20,\n",
    ")\n",
    "p_time_hkpv = PlotlyJS.plot(trace,layout)\n",
    "name = \"comparison_hpkv_MUN_time_hkpv_\"*\"n\"*string(n)*\"p\"*string(p)*\"eta\"*string(eta)*\"q\"*string(q)\n",
    "PlotlyJS.savefig(p_time_hkpv,\"figures/\"*name*\".pdf\")"
   ]
  },
  {
   "cell_type": "markdown",
   "metadata": {},
   "source": [
    "cycle popping timing"
   ]
  },
  {
   "cell_type": "code",
   "execution_count": 169,
   "metadata": {},
   "outputs": [
    {
     "data": {
      "text/plain": [
       "\"figures/comparison_hpkv_MUN_time_mtsf_n100p0.6eta0.1q0.pdf\""
      ]
     },
     "metadata": {},
     "output_type": "display_data"
    }
   ],
   "source": [
    "trace = box(y=(time_mtsf),\n",
    "boxpoints=\"all\",\n",
    "marker=attr(\n",
    "        color=\"LightSkyBlue\",\n",
    "        size=3),\n",
    "quartilemethod=\"linear\",\n",
    "name=\"\",\n",
    "marker_color=\"royalblue\",\n",
    "boxmean=true)\n",
    "\n",
    "layout = Layout(\n",
    "    autosize=false,\n",
    "    width=500,\n",
    "    height=200,\n",
    "    margin=attr(l=1, r=1, b=1, t=1, pad=4),\n",
    "    font_size=20,\n",
    ")\n",
    "p_time_mtsf = PlotlyJS.plot(trace,layout)\n",
    "name = \"comparison_hpkv_MUN_time_mtsf_\"*\"n\"*string(n)*\"p\"*string(p)*\"eta\"*string(eta)*\"q\"*string(q)\n",
    "PlotlyJS.savefig(p_time_mtsf,\"figures/\"*name*\".pdf\")"
   ]
  },
  {
   "cell_type": "markdown",
   "metadata": {},
   "source": [
    "### 2. MUN graph  with $\\eta$ large <a id=\"graph_large_eta\"></a>\n"
   ]
  },
  {
   "cell_type": "code",
   "execution_count": 170,
   "metadata": {},
   "outputs": [],
   "source": [
    "eta = 0.7\n",
    "# graph model\n",
    "if type==\"MUN\"\n",
    "    meta_g = gen_graph_mun(rng, n, p, eta;planted_score)\n",
    "elseif type==\"ERO\"\n",
    "    meta_g = gen_graph_ero(rng, n, p, eta;planted_score)\n",
    "end\n",
    "sparseB = sp_magnetic_incidence(meta_g; oriented=true);"
   ]
  },
  {
   "cell_type": "markdown",
   "metadata": {},
   "source": [
    "2.1 Sampling several times CRSFs with cycle popping and HKPV with $\\eta$ large <a id=\"sampling_large_eta\"></a>\n"
   ]
  },
  {
   "cell_type": "code",
   "execution_count": 171,
   "metadata": {},
   "outputs": [
    {
     "name": "stdout",
     "output_type": "stream",
     "text": [
      "[1.0, 1.0, 3.0, 2.0, 2.0, 1.0, 1.0, 1.0, 2.0, 1.0, 0.0, 1.0, 1.0, 1.0, 2.0, 1.0, 0.0, 1.0, 2.0, 1.0, 2.0, 1.0, 1.0, 1.0, 1.0, 2.0, 1.0, 1.0, 1.0, 3.0, 1.0, 2.0, 1.0, 0.0, 1.0, 1.0, 2.0, 1.0, 0.0, 1.0, 2.0, 0.0, 3.0, 2.0, 0.0, 0.0, 0.0, 1.0, 1.0, 1.0, 1.0, 1.0, 1.0, 1.0, 3.0, 2.0, 1.0, 1.0, 2.0, 1.0, 1.0, 2.0, 1.0, 2.0, 1.0, 1.0, 0.0, 1.0, 2.0, 1.0, 2.0, 2.0, 1.0, 4.0, 0.0, 1.0, 2.0, 2.0, 1.0, 1.0, 1.0, 2.0, 2.0, 2.0, 1.0, 1.0, 1.0, 3.0, 2.0, 2.0, 2.0, 0.0, 1.0, 2.0, 2.0, 1.0, 2.0, 2.0, 3.0, 1.0]\n",
      "[0.0, 0.0, 0.0, 0.0, 0.0, 0.0, 0.0, 0.0, 0.0, 0.0, 1.0, 1.0, 0.0, 0.0, 0.0, 0.0, 0.0, 0.0, 1.0, 0.0, 0.0, 1.0, 0.0, 0.0, 0.0, 0.0, 0.0, 0.0, 0.0, 0.0, 0.0, 0.0, 0.0, 0.0, 0.0, 0.0, 0.0, 0.0, 1.0, 0.0, 0.0, 0.0, 0.0, 0.0, 1.0, 0.0, 1.0, 1.0, 0.0, 0.0, 0.0, 0.0, 0.0, 0.0, 0.0, 0.0, 0.0, 0.0, 0.0, 0.0, 0.0, 0.0, 0.0, 1.0, 0.0, 1.0, 1.0, 0.0, 0.0, 0.0, 0.0, 0.0, 0.0, 0.0, 1.0, 0.0, 0.0, 0.0, 0.0, 0.0, 0.0, 0.0, 0.0, 1.0, 0.0, 0.0, 0.0, 0.0, 0.0, 0.0, 0.0, 0.0, 0.0, 0.0, 0.0, 0.0, 0.0, 0.0, 0.0, 0.0]\n",
      "[0.0, 0.0, 0.0, 0.0, 0.0, 0.0, 0.0, 0.0, 0.0, 0.0, 1.0, 1.0, 0.0, 0.0, 1.0, 0.0, 1.0, 0.0, 1.0, 0.0, 0.0, 1.0, 0.0, 0.0, 0.0, 0.0, 0.0, 0.0, 0.0, 0.0, 0.0, 0.0, 0.0, 1.0, 0.0, 0.0, 0.0, 0.0, 1.0, 0.0, 0.0, 1.0, 0.0, 0.0, 1.0, 1.0, 1.0, 1.0, 0.0, 1.0, 0.0, 0.0, 0.0, 0.0, 0.0, 0.0, 0.0, 0.0, 0.0, 0.0, 0.0, 0.0, 0.0, 1.0, 0.0, 1.0, 1.0, 0.0, 0.0, 0.0, 0.0, 0.0, 0.0, 0.0, 1.0, 0.0, 0.0, 0.0, 0.0, 0.0, 0.0, 0.0, 0.0, 1.0, 0.0, 0.0, 0.0, 0.0, 0.0, 0.0, 0.0, 1.0, 0.0, 0.0, 0.0, 0.0, 0.0, 0.0, 0.0, 0.0]\n",
      " \n",
      "[0.11436684444 0.00196887859]\n"
     ]
    }
   ],
   "source": [
    "nb_edges = zeros(nb_samples)\n",
    "nb_cc = zeros(nb_samples)\n",
    "\n",
    "cc_with_1_cycle = zeros(nb_samples)\n",
    "cc_with_0_cycle = zeros(nb_samples)\n",
    "cc_with_more_than_1_cycle = zeros(nb_samples)\n",
    "\n",
    "time_hkpv = zeros(nb_samples)\n",
    "time_mtsf = zeros(nb_samples)\n",
    "\n",
    "V = Matrix(qr(Matrix(sparseB)).Q)\n",
    "\n",
    "for i_sample in 1:nb_samples\n",
    "\n",
    "    id, t = @timed sample_pdpp(V)\n",
    "    e = collect(edges(meta_g))\n",
    "    subgraph,_ = induced_subgraph(meta_g, e[id])\n",
    "\n",
    "    nb_edges[i_sample] = ne(subgraph)\n",
    "    cc = connected_components(subgraph)\n",
    "\n",
    "    nb_cc[i_sample] = length(cc)\n",
    "\n",
    "    cc = [induced_subgraph(subgraph, cc)[1] for cc in connected_components(subgraph)]\n",
    "\n",
    "    temp_cc_with_1_cycle = 0\n",
    "    temp_cc_with_0_cycle = 0\n",
    "    temp_cc_with_more_than_1_cycle = 0\n",
    "\n",
    "    for i in cc\n",
    "        l = length(cycle_basis(i))\n",
    "        if l == 1\n",
    "            temp_cc_with_1_cycle += 1\n",
    "        elseif l == 0\n",
    "            temp_cc_with_0_cycle += 1\n",
    "        else\n",
    "            temp_cc_with_more_than_1_cycle += 1\n",
    "        end\n",
    "    end\n",
    "\n",
    "    cc_with_1_cycle[i_sample] = temp_cc_with_1_cycle\n",
    "    cc_with_0_cycle[i_sample] = temp_cc_with_0_cycle\n",
    "    cc_with_more_than_1_cycle[i_sample] = temp_cc_with_more_than_1_cycle\n",
    "\n",
    "    time_hkpv[i_sample] = t\n",
    "    mtsf, t_mtsf = @timed multi_type_spanning_forest(rng, meta_g, q)\n",
    "    time_mtsf[i_sample] = t_mtsf\n",
    "\n",
    "end    \n",
    "\n",
    "println(cc_with_1_cycle)\n",
    "println(cc_with_0_cycle)\n",
    "println(cc_with_more_than_1_cycle)\n",
    "println(\" \")\n",
    "println([mean(time_hkpv) mean(time_mtsf)])"
   ]
  },
  {
   "cell_type": "markdown",
   "metadata": {},
   "source": [
    "2.2 Distributions of cycle-rooted trees with $\\eta$ large <a id=\"CTRs_large_eta\"></a>\n"
   ]
  },
  {
   "cell_type": "code",
   "execution_count": 172,
   "metadata": {},
   "outputs": [
    {
     "data": {
      "text/plain": [
       "\"figures/comparison_hpkv_MUN_cc_with_1_cycle_n100p0.6eta0.7q0.pdf\""
      ]
     },
     "metadata": {},
     "output_type": "display_data"
    }
   ],
   "source": [
    "cat_nb_cc_1_cycle = string.(sort(Int.(cc_with_1_cycle)))\n",
    "trace = PlotlyJS.histogram(x=cat_nb_cc_1_cycle, histnorm=\"probability density\")\n",
    "layout = Layout(\n",
    "    autosize=false,\n",
    "    width=500,\n",
    "    height=200,\n",
    "    margin=attr(l=1, r=1, b=1, t=1, pad=4),\n",
    "    font_size=35,\n",
    "    xaxis_type=\"category\",\n",
    ")\n",
    "name = \"comparison_hpkv_MUN_cc_with_1_cycle_\"*\"n\"*string(n)*\"p\"*string(p)*\"eta\"*string(eta)*\"q\"*string(q)\n",
    "p_1 = PlotlyJS.plot(trace,layout)\n",
    "PlotlyJS.savefig(p_1,\"figures/\"*name*\".pdf\")"
   ]
  },
  {
   "cell_type": "markdown",
   "metadata": {},
   "source": [
    "2.3 Distributions of connected subgraphs with $0$ cycles (trees) with $\\eta$ large <a id=\"Ts_large_eta\"></a>\n"
   ]
  },
  {
   "cell_type": "code",
   "execution_count": 173,
   "metadata": {},
   "outputs": [
    {
     "data": {
      "text/plain": [
       "\"figures/comparison_hpkv_MUN_cc_with_0_cycle_n100p0.6eta0.7q0.pdf\""
      ]
     },
     "metadata": {},
     "output_type": "display_data"
    }
   ],
   "source": [
    "cat_nb_cc_0_cycle = string.(sort(Int.(cc_with_0_cycle)))\n",
    "trace = PlotlyJS.histogram(x=cat_nb_cc_0_cycle, histnorm=\"probability density\")\n",
    "layout = Layout(\n",
    "    autosize=false,\n",
    "    width=500,\n",
    "    height=200,\n",
    "    margin=attr(l=1, r=1, b=1, t=1, pad=4),\n",
    "    font_size=35,\n",
    "    xaxis_type=\"category\",\n",
    ")\n",
    "name = \"comparison_hpkv_MUN_cc_with_0_cycle_\"*\"n\"*string(n)*\"p\"*string(p)*\"eta\"*string(eta)*\"q\"*string(q)\n",
    "p_0 = PlotlyJS.plot(trace,layout)\n",
    "PlotlyJS.savefig(p_0,\"figures/\"*name*\".pdf\")"
   ]
  },
  {
   "cell_type": "markdown",
   "metadata": {},
   "source": [
    "2.4 Distributions of connected subgraphs with at least $2$ cycles with $\\eta$ large <a id=\"Morecycles_large_eta\"></a>\n"
   ]
  },
  {
   "cell_type": "code",
   "execution_count": 174,
   "metadata": {},
   "outputs": [
    {
     "data": {
      "text/plain": [
       "\"figures/comparison_hpkv_MUN_cc_more_than_1_cycle_n100p0.6eta0.7q0.pdf\""
      ]
     },
     "metadata": {},
     "output_type": "display_data"
    }
   ],
   "source": [
    "cat_nb_cc_with_more_than_1_cycle = string.(sort(Int.(cc_with_more_than_1_cycle\n",
    ")))\n",
    "trace = PlotlyJS.histogram(x=cat_nb_cc_with_more_than_1_cycle, histnorm=\"probability density\")\n",
    "layout = Layout(\n",
    "    autosize=false,\n",
    "    width=500,\n",
    "    height=200,\n",
    "    margin=attr(l=1, r=1, b=1, t=1, pad=4),\n",
    "    font_size=35,\n",
    "    xaxis_type=\"category\",\n",
    ")\n",
    "name = \"comparison_hpkv_MUN_cc_more_than_1_cycle_\"*\"n\"*string(n)*\"p\"*string(p)*\"eta\"*string(eta)*\"q\"*string(q)\n",
    "p_more_than_1 = PlotlyJS.plot(trace,layout)\n",
    "PlotlyJS.savefig(p_more_than_1,\"figures/\"*name*\".pdf\")"
   ]
  },
  {
   "cell_type": "markdown",
   "metadata": {},
   "source": [
    "2.5 Timings with $\\eta$ large <a id=\"Timing_large_eta\"></a>\n"
   ]
  },
  {
   "cell_type": "markdown",
   "metadata": {},
   "source": [
    "HKPV timing"
   ]
  },
  {
   "cell_type": "code",
   "execution_count": 175,
   "metadata": {},
   "outputs": [
    {
     "data": {
      "text/plain": [
       "\"figures/comparison_hpkv_MUN_time_hkpv_n100p0.6eta0.7q0.pdf\""
      ]
     },
     "metadata": {},
     "output_type": "display_data"
    }
   ],
   "source": [
    "trace = box(y=(time_hkpv),\n",
    "boxpoints=\"all\",\n",
    "marker=attr(\n",
    "        color=\"LightSkyBlue\",\n",
    "        size=3),\n",
    "quartilemethod=\"linear\",\n",
    "name=\"\",\n",
    "marker_color=\"royalblue\",\n",
    "boxmean=true)\n",
    "\n",
    "layout = Layout(\n",
    "    autosize=false,\n",
    "    width=500,\n",
    "    height=200,\n",
    "    margin=attr(l=1, r=1, b=1, t=1, pad=4),\n",
    "    font_size=20,\n",
    ")\n",
    "name = \"comparison_hpkv_MUN_time_hkpv_\"*\"n\"*string(n)*\"p\"*string(p)*\"eta\"*string(eta)*\"q\"*string(q)\n",
    "p_time_hpkv = PlotlyJS.plot(trace,layout)\n",
    "PlotlyJS.savefig(p_time_hpkv,\"figures/\"*name*\".pdf\")"
   ]
  },
  {
   "cell_type": "markdown",
   "metadata": {},
   "source": [
    "cycle popping timing"
   ]
  },
  {
   "cell_type": "code",
   "execution_count": 176,
   "metadata": {},
   "outputs": [
    {
     "data": {
      "text/plain": [
       "\"figures/comparison_hpkv_MUN_time_mtsf_n100p0.6eta0.7q0.pdf\""
      ]
     },
     "metadata": {},
     "output_type": "display_data"
    }
   ],
   "source": [
    "trace = box(y=(time_mtsf),\n",
    "boxpoints=\"all\",\n",
    "marker=attr(\n",
    "        color=\"LightSkyBlue\",\n",
    "        size=3),\n",
    "quartilemethod=\"linear\",\n",
    "name=\"\",\n",
    "marker_color=\"royalblue\",\n",
    "boxmean=true)\n",
    "\n",
    "layout = Layout(\n",
    "    autosize=false,\n",
    "    width=500,\n",
    "    height=200,\n",
    "    margin=attr(l=1, r=1, b=1, t=1, pad=4),\n",
    "    font_size=20,\n",
    ")\n",
    "name = \"comparison_hpkv_MUN_time_mtsf_\"*\"n\"*string(n)*\"p\"*string(p)*\"eta\"*string(eta)*\"q\"*string(q)\n",
    "\n",
    "p_time_mtsf = PlotlyJS.plot(trace,layout)\n",
    "PlotlyJS.savefig(p_time_mtsf,\"figures/\"*name*\".pdf\")"
   ]
  },
  {
   "cell_type": "markdown",
   "metadata": {},
   "source": [
    "#### Leverage scores with HKPV"
   ]
  },
  {
   "cell_type": "code",
   "execution_count": 19,
   "metadata": {},
   "outputs": [
    {
     "data": {
      "text/plain": [
       "0"
      ]
     },
     "metadata": {},
     "output_type": "display_data"
    }
   ],
   "source": [
    "# common parameters\n",
    "type=\"MUN\"\n",
    "rng = Random.default_rng()\n",
    "\n",
    "# graph parameters\n",
    "n = 20\n",
    "p = 0.3\n",
    "eta = 0.1\n",
    "\n",
    "# planted ranking score\n",
    "planted_score = randperm(rng,n)\n",
    "\n",
    "\n",
    "# graph model\n",
    "if type==\"MUN\"\n",
    "    meta_g = gen_graph_mun(rng, n, p, eta;planted_score)\n",
    "elseif type==\"ERO\"\n",
    "    meta_g = gen_graph_ero(rng, n, p, eta;planted_score)\n",
    "end\n",
    "sparseB = sp_magnetic_incidence(meta_g; oriented=true);\n",
    "n = nv(meta_g)\n",
    "\n",
    "# regularization\n",
    "q = 0\n"
   ]
  },
  {
   "cell_type": "code",
   "execution_count": 22,
   "metadata": {},
   "outputs": [
    {
     "name": "stdout",
     "output_type": "stream",
     "text": [
      "HKPV\n"
     ]
    },
    {
     "name": "stdout",
     "output_type": "stream",
     "text": [
      "mean: -0.010390178959469231 std: 0.0881566404152816\n"
     ]
    },
    {
     "data": {
      "application/vnd.plotly.v1+json": {
       "config": {
        "editable": false,
        "responsive": true,
        "scrollZoom": true,
        "showLink": false,
        "staticPlot": false
       },
       "data": [
        {
         "boxmean": true,
         "boxpoints": "all",
         "marker": {
          "color": "royalblue",
          "size": 1
         },
         "name": "",
         "quartilemethod": "linear",
         "type": "box",
         "y": [
          0.05379704023541701,
          0.06518032450436048,
          -0.0251146659045128,
          0.08319014713450802,
          0.03543015876044932,
          0.029317582600015955,
          -0.05916400038801162,
          0.005845424263927817,
          0.057994878546078724,
          0.036630139646983105,
          -0.01005148564228457,
          0.04306948863456415,
          0.1370273310151764,
          0.10798016784382017,
          0.06430972811121297,
          0.011368715773502734,
          0.06650843682840182,
          0.22246064454793768,
          -0.08017762794330938,
          -0.061469737160163386,
          -0.028675145706714953,
          0.02808244552151115,
          0.09966384486090203,
          -0.04131774518659376,
          -0.039937023351008544,
          -0.03589981882364346,
          0.051337868441115056,
          0.050882718103872925,
          0.12810726094421138,
          -0.06622630999716057,
          0.017104101904450462,
          -0.05335045479640417,
          -0.07793868344463757,
          -0.05607313149366043,
          0.0243892054563831,
          0.03522847756894835,
          -0.055318341204164054,
          0.04055927723643946,
          0.12058796176297529,
          -0.006555845023913437,
          -0.04166403241630782,
          -0.14360036791475078,
          -0.14096866382395806,
          -0.13122413486098475,
          -0.06757144803069973,
          0.02707789476467203,
          0.0053898899534588875,
          -0.15871821544495696,
          -0.06355903441218302,
          -0.11229529499082652,
          -0.1894931789951564,
          -0.03713586948555427,
          -0.050619806177340174,
          -0.15276068964365183,
          -0.23310024547355127
         ]
        }
       ],
       "frames": [],
       "layout": {
        "autosize": false,
        "font": {
         "size": 20
        },
        "height": 500,
        "margin": {
         "b": 1,
         "l": 1,
         "pad": 4,
         "r": 1,
         "t": 1
        },
        "template": {
         "data": {
          "bar": [
           {
            "error_x": {
             "color": "#2a3f5f"
            },
            "error_y": {
             "color": "#2a3f5f"
            },
            "marker": {
             "line": {
              "color": "#E5ECF6",
              "width": 0.5
             }
            },
            "type": "bar"
           }
          ],
          "barpolar": [
           {
            "marker": {
             "line": {
              "color": "#E5ECF6",
              "width": 0.5
             }
            },
            "type": "barpolar"
           }
          ],
          "carpet": [
           {
            "aaxis": {
             "endlinecolor": "#2a3f5f",
             "gridcolor": "white",
             "linecolor": "white",
             "minorgridcolor": "white",
             "startlinecolor": "#2a3f5f"
            },
            "baxis": {
             "endlinecolor": "#2a3f5f",
             "gridcolor": "white",
             "linecolor": "white",
             "minorgridcolor": "white",
             "startlinecolor": "#2a3f5f"
            },
            "type": "carpet"
           }
          ],
          "choropleth": [
           {
            "colorbar": {
             "outlinewidth": 0,
             "ticks": ""
            },
            "type": "choropleth"
           }
          ],
          "contour": [
           {
            "colorbar": {
             "outlinewidth": 0,
             "ticks": ""
            },
            "colorscale": [
             [
              0,
              "#0d0887"
             ],
             [
              0.1111111111111111,
              "#46039f"
             ],
             [
              0.2222222222222222,
              "#7201a8"
             ],
             [
              0.3333333333333333,
              "#9c179e"
             ],
             [
              0.4444444444444444,
              "#bd3786"
             ],
             [
              0.5555555555555556,
              "#d8576b"
             ],
             [
              0.6666666666666666,
              "#ed7953"
             ],
             [
              0.7777777777777778,
              "#fb9f3a"
             ],
             [
              0.8888888888888888,
              "#fdca26"
             ],
             [
              1,
              "#f0f921"
             ]
            ],
            "type": "contour"
           }
          ],
          "contourcarpet": [
           {
            "colorbar": {
             "outlinewidth": 0,
             "ticks": ""
            },
            "type": "contourcarpet"
           }
          ],
          "heatmap": [
           {
            "colorbar": {
             "outlinewidth": 0,
             "ticks": ""
            },
            "colorscale": [
             [
              0,
              "#0d0887"
             ],
             [
              0.1111111111111111,
              "#46039f"
             ],
             [
              0.2222222222222222,
              "#7201a8"
             ],
             [
              0.3333333333333333,
              "#9c179e"
             ],
             [
              0.4444444444444444,
              "#bd3786"
             ],
             [
              0.5555555555555556,
              "#d8576b"
             ],
             [
              0.6666666666666666,
              "#ed7953"
             ],
             [
              0.7777777777777778,
              "#fb9f3a"
             ],
             [
              0.8888888888888888,
              "#fdca26"
             ],
             [
              1,
              "#f0f921"
             ]
            ],
            "type": "heatmap"
           }
          ],
          "heatmapgl": [
           {
            "colorbar": {
             "outlinewidth": 0,
             "ticks": ""
            },
            "colorscale": [
             [
              0,
              "#0d0887"
             ],
             [
              0.1111111111111111,
              "#46039f"
             ],
             [
              0.2222222222222222,
              "#7201a8"
             ],
             [
              0.3333333333333333,
              "#9c179e"
             ],
             [
              0.4444444444444444,
              "#bd3786"
             ],
             [
              0.5555555555555556,
              "#d8576b"
             ],
             [
              0.6666666666666666,
              "#ed7953"
             ],
             [
              0.7777777777777778,
              "#fb9f3a"
             ],
             [
              0.8888888888888888,
              "#fdca26"
             ],
             [
              1,
              "#f0f921"
             ]
            ],
            "type": "heatmapgl"
           }
          ],
          "histogram": [
           {
            "marker": {
             "colorbar": {
              "outlinewidth": 0,
              "ticks": ""
             }
            },
            "type": "histogram"
           }
          ],
          "histogram2d": [
           {
            "colorbar": {
             "outlinewidth": 0,
             "ticks": ""
            },
            "colorscale": [
             [
              0,
              "#0d0887"
             ],
             [
              0.1111111111111111,
              "#46039f"
             ],
             [
              0.2222222222222222,
              "#7201a8"
             ],
             [
              0.3333333333333333,
              "#9c179e"
             ],
             [
              0.4444444444444444,
              "#bd3786"
             ],
             [
              0.5555555555555556,
              "#d8576b"
             ],
             [
              0.6666666666666666,
              "#ed7953"
             ],
             [
              0.7777777777777778,
              "#fb9f3a"
             ],
             [
              0.8888888888888888,
              "#fdca26"
             ],
             [
              1,
              "#f0f921"
             ]
            ],
            "type": "histogram2d"
           }
          ],
          "histogram2dcontour": [
           {
            "colorbar": {
             "outlinewidth": 0,
             "ticks": ""
            },
            "colorscale": [
             [
              0,
              "#0d0887"
             ],
             [
              0.1111111111111111,
              "#46039f"
             ],
             [
              0.2222222222222222,
              "#7201a8"
             ],
             [
              0.3333333333333333,
              "#9c179e"
             ],
             [
              0.4444444444444444,
              "#bd3786"
             ],
             [
              0.5555555555555556,
              "#d8576b"
             ],
             [
              0.6666666666666666,
              "#ed7953"
             ],
             [
              0.7777777777777778,
              "#fb9f3a"
             ],
             [
              0.8888888888888888,
              "#fdca26"
             ],
             [
              1,
              "#f0f921"
             ]
            ],
            "type": "histogram2dcontour"
           }
          ],
          "mesh3d": [
           {
            "colorbar": {
             "outlinewidth": 0,
             "ticks": ""
            },
            "type": "mesh3d"
           }
          ],
          "parcoords": [
           {
            "line": {
             "colorbar": {
              "outlinewidth": 0,
              "ticks": ""
             }
            },
            "type": "parcoords"
           }
          ],
          "pie": [
           {
            "automargin": true,
            "type": "pie"
           }
          ],
          "scatter": [
           {
            "marker": {
             "colorbar": {
              "outlinewidth": 0,
              "ticks": ""
             }
            },
            "type": "scatter"
           }
          ],
          "scatter3d": [
           {
            "line": {
             "colorbar": {
              "outlinewidth": 0,
              "ticks": ""
             }
            },
            "marker": {
             "colorbar": {
              "outlinewidth": 0,
              "ticks": ""
             }
            },
            "type": "scatter3d"
           }
          ],
          "scattercarpet": [
           {
            "marker": {
             "colorbar": {
              "outlinewidth": 0,
              "ticks": ""
             }
            },
            "type": "scattercarpet"
           }
          ],
          "scattergeo": [
           {
            "marker": {
             "colorbar": {
              "outlinewidth": 0,
              "ticks": ""
             }
            },
            "type": "scattergeo"
           }
          ],
          "scattergl": [
           {
            "marker": {
             "colorbar": {
              "outlinewidth": 0,
              "ticks": ""
             }
            },
            "type": "scattergl"
           }
          ],
          "scattermapbox": [
           {
            "marker": {
             "colorbar": {
              "outlinewidth": 0,
              "ticks": ""
             }
            },
            "type": "scattermapbox"
           }
          ],
          "scatterpolar": [
           {
            "marker": {
             "colorbar": {
              "outlinewidth": 0,
              "ticks": ""
             }
            },
            "type": "scatterpolar"
           }
          ],
          "scatterpolargl": [
           {
            "marker": {
             "colorbar": {
              "outlinewidth": 0,
              "ticks": ""
             }
            },
            "type": "scatterpolargl"
           }
          ],
          "scatterternary": [
           {
            "marker": {
             "colorbar": {
              "outlinewidth": 0,
              "ticks": ""
             }
            },
            "type": "scatterternary"
           }
          ],
          "surface": [
           {
            "colorbar": {
             "outlinewidth": 0,
             "ticks": ""
            },
            "colorscale": [
             [
              0,
              "#0d0887"
             ],
             [
              0.1111111111111111,
              "#46039f"
             ],
             [
              0.2222222222222222,
              "#7201a8"
             ],
             [
              0.3333333333333333,
              "#9c179e"
             ],
             [
              0.4444444444444444,
              "#bd3786"
             ],
             [
              0.5555555555555556,
              "#d8576b"
             ],
             [
              0.6666666666666666,
              "#ed7953"
             ],
             [
              0.7777777777777778,
              "#fb9f3a"
             ],
             [
              0.8888888888888888,
              "#fdca26"
             ],
             [
              1,
              "#f0f921"
             ]
            ],
            "type": "surface"
           }
          ],
          "table": [
           {
            "cells": {
             "fill": {
              "color": "#EBF0F8"
             },
             "line": {
              "color": "white"
             }
            },
            "header": {
             "fill": {
              "color": "#C8D4E3"
             },
             "line": {
              "color": "white"
             }
            },
            "type": "table"
           }
          ]
         },
         "layout": {
          "annotationdefaults": {
           "arrowcolor": "#2a3f5f",
           "arrowhead": 0,
           "arrowwidth": 1
          },
          "autotypenumbers": "strict",
          "coloraxis": {
           "colorbar": {
            "outlinewidth": 0,
            "ticks": ""
           }
          },
          "colorscale": {
           "diverging": [
            [
             0,
             "#8e0152"
            ],
            [
             0.1,
             "#c51b7d"
            ],
            [
             0.2,
             "#de77ae"
            ],
            [
             0.3,
             "#f1b6da"
            ],
            [
             0.4,
             "#fde0ef"
            ],
            [
             0.5,
             "#f7f7f7"
            ],
            [
             0.6,
             "#e6f5d0"
            ],
            [
             0.7,
             "#b8e186"
            ],
            [
             0.8,
             "#7fbc41"
            ],
            [
             0.9,
             "#4d9221"
            ],
            [
             1,
             "#276419"
            ]
           ],
           "sequential": [
            [
             0,
             "#0d0887"
            ],
            [
             0.1111111111111111,
             "#46039f"
            ],
            [
             0.2222222222222222,
             "#7201a8"
            ],
            [
             0.3333333333333333,
             "#9c179e"
            ],
            [
             0.4444444444444444,
             "#bd3786"
            ],
            [
             0.5555555555555556,
             "#d8576b"
            ],
            [
             0.6666666666666666,
             "#ed7953"
            ],
            [
             0.7777777777777778,
             "#fb9f3a"
            ],
            [
             0.8888888888888888,
             "#fdca26"
            ],
            [
             1,
             "#f0f921"
            ]
           ],
           "sequentialminus": [
            [
             0,
             "#0d0887"
            ],
            [
             0.1111111111111111,
             "#46039f"
            ],
            [
             0.2222222222222222,
             "#7201a8"
            ],
            [
             0.3333333333333333,
             "#9c179e"
            ],
            [
             0.4444444444444444,
             "#bd3786"
            ],
            [
             0.5555555555555556,
             "#d8576b"
            ],
            [
             0.6666666666666666,
             "#ed7953"
            ],
            [
             0.7777777777777778,
             "#fb9f3a"
            ],
            [
             0.8888888888888888,
             "#fdca26"
            ],
            [
             1,
             "#f0f921"
            ]
           ]
          },
          "colorway": [
           "#636efa",
           "#EF553B",
           "#00cc96",
           "#ab63fa",
           "#FFA15A",
           "#19d3f3",
           "#FF6692",
           "#B6E880",
           "#FF97FF",
           "#FECB52"
          ],
          "font": {
           "color": "#2a3f5f"
          },
          "geo": {
           "bgcolor": "white",
           "lakecolor": "white",
           "landcolor": "#E5ECF6",
           "showlakes": true,
           "showland": true,
           "subunitcolor": "white"
          },
          "hoverlabel": {
           "align": "left"
          },
          "hovermode": "closest",
          "mapbox": {
           "style": "light"
          },
          "paper_bgcolor": "white",
          "plot_bgcolor": "#E5ECF6",
          "polar": {
           "angularaxis": {
            "gridcolor": "white",
            "linecolor": "white",
            "ticks": ""
           },
           "bgcolor": "#E5ECF6",
           "radialaxis": {
            "gridcolor": "white",
            "linecolor": "white",
            "ticks": ""
           }
          },
          "scene": {
           "xaxis": {
            "backgroundcolor": "#E5ECF6",
            "gridcolor": "white",
            "gridwidth": 2,
            "linecolor": "white",
            "showbackground": true,
            "ticks": "",
            "zerolinecolor": "white"
           },
           "yaxis": {
            "backgroundcolor": "#E5ECF6",
            "gridcolor": "white",
            "gridwidth": 2,
            "linecolor": "white",
            "showbackground": true,
            "ticks": "",
            "zerolinecolor": "white"
           },
           "zaxis": {
            "backgroundcolor": "#E5ECF6",
            "gridcolor": "white",
            "gridwidth": 2,
            "linecolor": "white",
            "showbackground": true,
            "ticks": "",
            "zerolinecolor": "white"
           }
          },
          "shapedefaults": {
           "line": {
            "color": "#2a3f5f"
           }
          },
          "ternary": {
           "aaxis": {
            "gridcolor": "white",
            "linecolor": "white",
            "ticks": ""
           },
           "baxis": {
            "gridcolor": "white",
            "linecolor": "white",
            "ticks": ""
           },
           "bgcolor": "#E5ECF6",
           "caxis": {
            "gridcolor": "white",
            "linecolor": "white",
            "ticks": ""
           }
          },
          "title": {
           "x": 0.05
          },
          "xaxis": {
           "automargin": true,
           "gridcolor": "white",
           "linecolor": "white",
           "ticks": "",
           "title": {
            "standoff": 15
           },
           "zerolinecolor": "white",
           "zerolinewidth": 2
          },
          "yaxis": {
           "automargin": true,
           "gridcolor": "white",
           "linecolor": "white",
           "ticks": "",
           "title": {
            "standoff": 15
           },
           "zerolinecolor": "white",
           "zerolinewidth": 2
          }
         }
        },
        "width": 500
       }
      },
      "image/png": "[encoded data removed]",
      "image/svg+xml": [
       "<svg class=\"main-svg\" xmlns=\"http://www.w3.org/2000/svg\" xmlns:xlink=\"http://www.w3.org/1999/xlink\" width=\"700\" height=\"500\" style=\"\" viewBox=\"0 0 700 500\"><rect x=\"0\" y=\"0\" width=\"700\" height=\"500\" style=\"fill: rgb(255, 255, 255); fill-opacity: 1;\"/><defs id=\"defs-45565c\"><g class=\"clips\"><clipPath id=\"clip45565cxyplot\" class=\"plotclip\"><rect width=\"644\" height=\"498\"/></clipPath><clipPath class=\"axesclip\" id=\"clip45565cx\"><rect x=\"55\" y=\"0\" width=\"644\" height=\"500\"/></clipPath><clipPath class=\"axesclip\" id=\"clip45565cy\"><rect x=\"0\" y=\"1\" width=\"700\" height=\"498\"/></clipPath><clipPath class=\"axesclip\" id=\"clip45565cxy\"><rect x=\"55\" y=\"1\" width=\"644\" height=\"498\"/></clipPath></g><g class=\"gradients\"/></defs><g class=\"bglayer\"><rect class=\"bg\" x=\"51\" y=\"-3\" width=\"652\" height=\"506\" style=\"fill: rgb(229, 236, 246); fill-opacity: 1; stroke-width: 0;\"/></g><g class=\"layer-below\"><g class=\"imagelayer\"/><g class=\"shapelayer\"/></g><g class=\"cartesianlayer\"><g class=\"subplot xy\"><g class=\"layer-subplot\"><g class=\"shapelayer\"/><g class=\"imagelayer\"/></g><g class=\"gridlayer\"><g class=\"x\"/><g class=\"y\"><path class=\"ygrid crisp\" transform=\"translate(0,441.53)\" d=\"M55,0h644\" style=\"stroke: rgb(255, 255, 255); stroke-opacity: 1; stroke-width: 1px;\"/><path class=\"ygrid crisp\" transform=\"translate(0,343.15)\" d=\"M55,0h644\" style=\"stroke: rgb(255, 255, 255); stroke-opacity: 1; stroke-width: 1px;\"/><path class=\"ygrid crisp\" transform=\"translate(0,146.38)\" d=\"M55,0h644\" style=\"stroke: rgb(255, 255, 255); stroke-opacity: 1; stroke-width: 1px;\"/><path class=\"ygrid crisp\" transform=\"translate(0,48)\" d=\"M55,0h644\" style=\"stroke: rgb(255, 255, 255); stroke-opacity: 1; stroke-width: 1px;\"/></g></g><g class=\"zerolinelayer\"><path class=\"yzl zl crisp\" transform=\"translate(0,244.77)\" d=\"M55,0h644\" style=\"stroke: rgb(255, 255, 255); stroke-opacity: 1; stroke-width: 2px;\"/></g><path class=\"xlines-below\"/><path class=\"ylines-below\"/><g class=\"overlines-below\"/><g class=\"xaxislayer-below\"/><g class=\"yaxislayer-below\"/><g class=\"overaxes-below\"/><g class=\"plot\" transform=\"translate(55,1)\" clip-path=\"url('#clip45565cxyplot')\"><g class=\"boxlayer mlayer\"><g class=\"trace boxes\" style=\"opacity: 1;\"><path class=\"box\" d=\"M164.59,250.22H479.91M164.59,303.68H479.91V195.63H164.59ZM322.25,303.68V430.2M322.25,195.63V108.95M243.42,430.2H401.08M243.42,108.95H401.08\" style=\"vector-effect: non-scaling-stroke; stroke-width: 2px; stroke: rgb(65, 105, 225); stroke-opacity: 1; fill: rgb(65, 105, 225); fill-opacity: 0.5;\"/><g class=\"points\"><path class=\"point\" transform=\"translate(94.91,473.1)\" d=\"M0.5,0A0.5,0.5 0 1,1 0,-0.5A0.5,0.5 0 0,1 0.5,0Z\" style=\"opacity: 1; stroke-width: 0px; fill: rgb(65, 105, 225); fill-opacity: 1;\"/><path class=\"point\" transform=\"translate(74.06,430.2)\" d=\"M0.5,0A0.5,0.5 0 1,1 0,-0.5A0.5,0.5 0 0,1 0.5,0Z\" style=\"opacity: 1; stroke-width: 0px; fill: rgb(65, 105, 225); fill-opacity: 1;\"/><path class=\"point\" transform=\"translate(99.88,399.92)\" d=\"M0.5,0A0.5,0.5 0 1,1 0,-0.5A0.5,0.5 0 0,1 0.5,0Z\" style=\"opacity: 1; stroke-width: 0px; fill: rgb(65, 105, 225); fill-opacity: 1;\"/><path class=\"point\" transform=\"translate(71.13,394.06)\" d=\"M0.5,0A0.5,0.5 0 1,1 0,-0.5A0.5,0.5 0 0,1 0.5,0Z\" style=\"opacity: 1; stroke-width: 0px; fill: rgb(65, 105, 225); fill-opacity: 1;\"/><path class=\"point\" transform=\"translate(81.28,385.05)\" d=\"M0.5,0A0.5,0.5 0 1,1 0,-0.5A0.5,0.5 0 0,1 0.5,0Z\" style=\"opacity: 1; stroke-width: 0px; fill: rgb(65, 105, 225); fill-opacity: 1;\"/><path class=\"point\" transform=\"translate(95.52,382.46)\" d=\"M0.5,0A0.5,0.5 0 1,1 0,-0.5A0.5,0.5 0 0,1 0.5,0Z\" style=\"opacity: 1; stroke-width: 0px; fill: rgb(65, 105, 225); fill-opacity: 1;\"/><path class=\"point\" transform=\"translate(84.96,372.87)\" d=\"M0.5,0A0.5,0.5 0 1,1 0,-0.5A0.5,0.5 0 0,1 0.5,0Z\" style=\"opacity: 1; stroke-width: 0px; fill: rgb(65, 105, 225); fill-opacity: 1;\"/><path class=\"point\" transform=\"translate(92.87,354.25)\" d=\"M0.5,0A0.5,0.5 0 1,1 0,-0.5A0.5,0.5 0 0,1 0.5,0Z\" style=\"opacity: 1; stroke-width: 0px; fill: rgb(65, 105, 225); fill-opacity: 1;\"/><path class=\"point\" transform=\"translate(77.78,322.65)\" d=\"M0.5,0A0.5,0.5 0 1,1 0,-0.5A0.5,0.5 0 0,1 0.5,0Z\" style=\"opacity: 1; stroke-width: 0px; fill: rgb(65, 105, 225); fill-opacity: 1;\"/><path class=\"point\" transform=\"translate(66.69,320.45)\" d=\"M0.5,0A0.5,0.5 0 1,1 0,-0.5A0.5,0.5 0 0,1 0.5,0Z\" style=\"opacity: 1; stroke-width: 0px; fill: rgb(65, 105, 225); fill-opacity: 1;\"/><path class=\"point\" transform=\"translate(92.7,310.25)\" d=\"M0.5,0A0.5,0.5 0 1,1 0,-0.5A0.5,0.5 0 0,1 0.5,0Z\" style=\"opacity: 1; stroke-width: 0px; fill: rgb(65, 105, 225); fill-opacity: 1;\"/><path class=\"point\" transform=\"translate(76.73,308.92)\" d=\"M0.5,0A0.5,0.5 0 1,1 0,-0.5A0.5,0.5 0 0,1 0.5,0Z\" style=\"opacity: 1; stroke-width: 0px; fill: rgb(65, 105, 225); fill-opacity: 1;\"/><path class=\"point\" transform=\"translate(105.51,306.3)\" d=\"M0.5,0A0.5,0.5 0 1,1 0,-0.5A0.5,0.5 0 0,1 0.5,0Z\" style=\"opacity: 1; stroke-width: 0px; fill: rgb(65, 105, 225); fill-opacity: 1;\"/><path class=\"point\" transform=\"translate(42.94,304.24)\" d=\"M0.5,0A0.5,0.5 0 1,1 0,-0.5A0.5,0.5 0 0,1 0.5,0Z\" style=\"opacity: 1; stroke-width: 0px; fill: rgb(65, 105, 225); fill-opacity: 1;\"/><path class=\"point\" transform=\"translate(62.79,301.97)\" d=\"M0.5,0A0.5,0.5 0 1,1 0,-0.5A0.5,0.5 0 0,1 0.5,0Z\" style=\"opacity: 1; stroke-width: 0px; fill: rgb(65, 105, 225); fill-opacity: 1;\"/><path class=\"point\" transform=\"translate(127.05,298.93)\" d=\"M0.5,0A0.5,0.5 0 1,1 0,-0.5A0.5,0.5 0 0,1 0.5,0Z\" style=\"opacity: 1; stroke-width: 0px; fill: rgb(65, 105, 225); fill-opacity: 1;\"/><path class=\"point\" transform=\"translate(74.07,298.19)\" d=\"M0.5,0A0.5,0.5 0 1,1 0,-0.5A0.5,0.5 0 0,1 0.5,0Z\" style=\"opacity: 1; stroke-width: 0px; fill: rgb(65, 105, 225); fill-opacity: 1;\"/><path class=\"point\" transform=\"translate(45.83,296.25)\" d=\"M0.5,0A0.5,0.5 0 1,1 0,-0.5A0.5,0.5 0 0,1 0.5,0Z\" style=\"opacity: 1; stroke-width: 0px; fill: rgb(65, 105, 225); fill-opacity: 1;\"/><path class=\"point\" transform=\"translate(70.13,293.57)\" d=\"M0.5,0A0.5,0.5 0 1,1 0,-0.5A0.5,0.5 0 0,1 0.5,0Z\" style=\"opacity: 1; stroke-width: 0px; fill: rgb(65, 105, 225); fill-opacity: 1;\"/><path class=\"point\" transform=\"translate(84.84,284.76)\" d=\"M0.5,0A0.5,0.5 0 1,1 0,-0.5A0.5,0.5 0 0,1 0.5,0Z\" style=\"opacity: 1; stroke-width: 0px; fill: rgb(65, 105, 225); fill-opacity: 1;\"/><path class=\"point\" transform=\"translate(105.1,284.42)\" d=\"M0.5,0A0.5,0.5 0 1,1 0,-0.5A0.5,0.5 0 0,1 0.5,0Z\" style=\"opacity: 1; stroke-width: 0px; fill: rgb(65, 105, 225); fill-opacity: 1;\"/><path class=\"point\" transform=\"translate(89.71,283.06)\" d=\"M0.5,0A0.5,0.5 0 1,1 0,-0.5A0.5,0.5 0 0,1 0.5,0Z\" style=\"opacity: 1; stroke-width: 0px; fill: rgb(65, 105, 225); fill-opacity: 1;\"/><path class=\"point\" transform=\"translate(75.9,280.3)\" d=\"M0.5,0A0.5,0.5 0 1,1 0,-0.5A0.5,0.5 0 0,1 0.5,0Z\" style=\"opacity: 1; stroke-width: 0px; fill: rgb(65, 105, 225); fill-opacity: 1;\"/><path class=\"point\" transform=\"translate(59.05,279.09)\" d=\"M0.5,0A0.5,0.5 0 1,1 0,-0.5A0.5,0.5 0 0,1 0.5,0Z\" style=\"opacity: 1; stroke-width: 0px; fill: rgb(65, 105, 225); fill-opacity: 1;\"/><path class=\"point\" transform=\"translate(85.66,271.98)\" d=\"M0.5,0A0.5,0.5 0 1,1 0,-0.5A0.5,0.5 0 0,1 0.5,0Z\" style=\"opacity: 1; stroke-width: 0px; fill: rgb(65, 105, 225); fill-opacity: 1;\"/><path class=\"point\" transform=\"translate(76.13,268.48)\" d=\"M0.5,0A0.5,0.5 0 1,1 0,-0.5A0.5,0.5 0 0,1 0.5,0Z\" style=\"opacity: 1; stroke-width: 0px; fill: rgb(65, 105, 225); fill-opacity: 1;\"/><path class=\"point\" transform=\"translate(100.51,253.66)\" d=\"M0.5,0A0.5,0.5 0 1,1 0,-0.5A0.5,0.5 0 0,1 0.5,0Z\" style=\"opacity: 1; stroke-width: 0px; fill: rgb(65, 105, 225); fill-opacity: 1;\"/><path class=\"point\" transform=\"translate(83.06,250.22)\" d=\"M0.5,0A0.5,0.5 0 1,1 0,-0.5A0.5,0.5 0 0,1 0.5,0Z\" style=\"opacity: 1; stroke-width: 0px; fill: rgb(65, 105, 225); fill-opacity: 1;\"/><path class=\"point\" transform=\"translate(66.04,238.46)\" d=\"M0.5,0A0.5,0.5 0 1,1 0,-0.5A0.5,0.5 0 0,1 0.5,0Z\" style=\"opacity: 1; stroke-width: 0px; fill: rgb(65, 105, 225); fill-opacity: 1;\"/><path class=\"point\" transform=\"translate(56.14,238.02)\" d=\"M0.5,0A0.5,0.5 0 1,1 0,-0.5A0.5,0.5 0 0,1 0.5,0Z\" style=\"opacity: 1; stroke-width: 0px; fill: rgb(65, 105, 225); fill-opacity: 1;\"/><path class=\"point\" transform=\"translate(104.05,232.58)\" d=\"M0.5,0A0.5,0.5 0 1,1 0,-0.5A0.5,0.5 0 0,1 0.5,0Z\" style=\"opacity: 1; stroke-width: 0px; fill: rgb(65, 105, 225); fill-opacity: 1;\"/><path class=\"point\" transform=\"translate(55.4,226.94)\" d=\"M0.5,0A0.5,0.5 0 1,1 0,-0.5A0.5,0.5 0 0,1 0.5,0Z\" style=\"opacity: 1; stroke-width: 0px; fill: rgb(65, 105, 225); fill-opacity: 1;\"/><path class=\"point\" transform=\"translate(107.7,219.77)\" d=\"M0.5,0A0.5,0.5 0 1,1 0,-0.5A0.5,0.5 0 0,1 0.5,0Z\" style=\"opacity: 1; stroke-width: 0px; fill: rgb(65, 105, 225); fill-opacity: 1;\"/><path class=\"point\" transform=\"translate(95.11,217.13)\" d=\"M0.5,0A0.5,0.5 0 1,1 0,-0.5A0.5,0.5 0 0,1 0.5,0Z\" style=\"opacity: 1; stroke-width: 0px; fill: rgb(65, 105, 225); fill-opacity: 1;\"/><path class=\"point\" transform=\"translate(73.66,216.14)\" d=\"M0.5,0A0.5,0.5 0 1,1 0,-0.5A0.5,0.5 0 0,1 0.5,0Z\" style=\"opacity: 1; stroke-width: 0px; fill: rgb(65, 105, 225); fill-opacity: 1;\"/><path class=\"point\" transform=\"translate(60.61,214.92)\" d=\"M0.5,0A0.5,0.5 0 1,1 0,-0.5A0.5,0.5 0 0,1 0.5,0Z\" style=\"opacity: 1; stroke-width: 0px; fill: rgb(65, 105, 225); fill-opacity: 1;\"/><path class=\"point\" transform=\"translate(104.33,209.11)\" d=\"M0.5,0A0.5,0.5 0 1,1 0,-0.5A0.5,0.5 0 0,1 0.5,0Z\" style=\"opacity: 1; stroke-width: 0px; fill: rgb(65, 105, 225); fill-opacity: 1;\"/><path class=\"point\" transform=\"translate(80.82,208.91)\" d=\"M0.5,0A0.5,0.5 0 1,1 0,-0.5A0.5,0.5 0 0,1 0.5,0Z\" style=\"opacity: 1; stroke-width: 0px; fill: rgb(65, 105, 225); fill-opacity: 1;\"/><path class=\"point\" transform=\"translate(117.54,207.73)\" d=\"M0.5,0A0.5,0.5 0 1,1 0,-0.5A0.5,0.5 0 0,1 0.5,0Z\" style=\"opacity: 1; stroke-width: 0px; fill: rgb(65, 105, 225); fill-opacity: 1;\"/><path class=\"point\" transform=\"translate(48.99,203.86)\" d=\"M0.5,0A0.5,0.5 0 1,1 0,-0.5A0.5,0.5 0 0,1 0.5,0Z\" style=\"opacity: 1; stroke-width: 0px; fill: rgb(65, 105, 225); fill-opacity: 1;\"/><path class=\"point\" transform=\"translate(111.58,201.39)\" d=\"M0.5,0A0.5,0.5 0 1,1 0,-0.5A0.5,0.5 0 0,1 0.5,0Z\" style=\"opacity: 1; stroke-width: 0px; fill: rgb(65, 105, 225); fill-opacity: 1;\"/><path class=\"point\" transform=\"translate(82.15,193.71)\" d=\"M0.5,0A0.5,0.5 0 1,1 0,-0.5A0.5,0.5 0 0,1 0.5,0Z\" style=\"opacity: 1; stroke-width: 0px; fill: rgb(65, 105, 225); fill-opacity: 1;\"/><path class=\"point\" transform=\"translate(68.91,193.26)\" d=\"M0.5,0A0.5,0.5 0 1,1 0,-0.5A0.5,0.5 0 0,1 0.5,0Z\" style=\"opacity: 1; stroke-width: 0px; fill: rgb(65, 105, 225); fill-opacity: 1;\"/><path class=\"point\" transform=\"translate(51.26,190.84)\" d=\"M0.5,0A0.5,0.5 0 1,1 0,-0.5A0.5,0.5 0 0,1 0.5,0Z\" style=\"opacity: 1; stroke-width: 0px; fill: rgb(65, 105, 225); fill-opacity: 1;\"/><path class=\"point\" transform=\"translate(73.59,186.71)\" d=\"M0.5,0A0.5,0.5 0 1,1 0,-0.5A0.5,0.5 0 0,1 0.5,0Z\" style=\"opacity: 1; stroke-width: 0px; fill: rgb(65, 105, 225); fill-opacity: 1;\"/><path class=\"point\" transform=\"translate(105.59,180.5)\" d=\"M0.5,0A0.5,0.5 0 1,1 0,-0.5A0.5,0.5 0 0,1 0.5,0Z\" style=\"opacity: 1; stroke-width: 0px; fill: rgb(65, 105, 225); fill-opacity: 1;\"/><path class=\"point\" transform=\"translate(78.91,179.64)\" d=\"M0.5,0A0.5,0.5 0 1,1 0,-0.5A0.5,0.5 0 0,1 0.5,0Z\" style=\"opacity: 1; stroke-width: 0px; fill: rgb(65, 105, 225); fill-opacity: 1;\"/><path class=\"point\" transform=\"translate(64.56,178.33)\" d=\"M0.5,0A0.5,0.5 0 1,1 0,-0.5A0.5,0.5 0 0,1 0.5,0Z\" style=\"opacity: 1; stroke-width: 0px; fill: rgb(65, 105, 225); fill-opacity: 1;\"/><path class=\"point\" transform=\"translate(98.44,161.92)\" d=\"M0.5,0A0.5,0.5 0 1,1 0,-0.5A0.5,0.5 0 0,1 0.5,0Z\" style=\"opacity: 1; stroke-width: 0px; fill: rgb(65, 105, 225); fill-opacity: 1;\"/><path class=\"point\" transform=\"translate(75.77,145.71)\" d=\"M0.5,0A0.5,0.5 0 1,1 0,-0.5A0.5,0.5 0 0,1 0.5,0Z\" style=\"opacity: 1; stroke-width: 0px; fill: rgb(65, 105, 225); fill-opacity: 1;\"/><path class=\"point\" transform=\"translate(85.77,137.53)\" d=\"M0.5,0A0.5,0.5 0 1,1 0,-0.5A0.5,0.5 0 0,1 0.5,0Z\" style=\"opacity: 1; stroke-width: 0px; fill: rgb(65, 105, 225); fill-opacity: 1;\"/><path class=\"point\" transform=\"translate(93.06,125.13)\" d=\"M0.5,0A0.5,0.5 0 1,1 0,-0.5A0.5,0.5 0 0,1 0.5,0Z\" style=\"opacity: 1; stroke-width: 0px; fill: rgb(65, 105, 225); fill-opacity: 1;\"/><path class=\"point\" transform=\"translate(70.21,117.73)\" d=\"M0.5,0A0.5,0.5 0 1,1 0,-0.5A0.5,0.5 0 0,1 0.5,0Z\" style=\"opacity: 1; stroke-width: 0px; fill: rgb(65, 105, 225); fill-opacity: 1;\"/><path class=\"point\" transform=\"translate(100.47,108.95)\" d=\"M0.5,0A0.5,0.5 0 1,1 0,-0.5A0.5,0.5 0 0,1 0.5,0Z\" style=\"opacity: 1; stroke-width: 0px; fill: rgb(65, 105, 225); fill-opacity: 1;\"/><path class=\"point\" transform=\"translate(92.1,24.9)\" d=\"M0.5,0A0.5,0.5 0 1,1 0,-0.5A0.5,0.5 0 0,1 0.5,0Z\" style=\"opacity: 1; stroke-width: 0px; fill: rgb(65, 105, 225); fill-opacity: 1;\"/></g><path class=\"mean\" d=\"M164.59,253.99H479.91\" style=\"fill: none; vector-effect: non-scaling-stroke; stroke-width: 2; stroke-dasharray: 4px, 2px; stroke: rgb(65, 105, 225); stroke-opacity: 1;\"/></g></g></g><g class=\"overplot\"/><path class=\"xlines-above crisp\" d=\"M0,0\" style=\"fill: none;\"/><path class=\"ylines-above crisp\" d=\"M0,0\" style=\"fill: none;\"/><g class=\"overlines-above\"/><g class=\"xaxislayer-above\"><g class=\"xtick\"><text text-anchor=\"middle\" x=\"0\" y=\"524\" transform=\"translate(377.25,0)\" style=\"font-family: 'Open Sans', verdana, arial, sans-serif; font-size: 20px; fill: rgb(42, 63, 95); fill-opacity: 1; white-space: pre;\"></text></g></g><g class=\"yaxislayer-above\"><g class=\"ytick\"><text text-anchor=\"end\" x=\"50\" y=\"7\" transform=\"translate(0,441.53)\" style=\"font-family: 'Open Sans', verdana, arial, sans-serif; font-size: 20px; fill: rgb(42, 63, 95); fill-opacity: 1; white-space: pre;\">−0.2</text></g><g class=\"ytick\"><text text-anchor=\"end\" x=\"50\" y=\"7\" transform=\"translate(0,343.15)\" style=\"font-family: 'Open Sans', verdana, arial, sans-serif; font-size: 20px; fill: rgb(42, 63, 95); fill-opacity: 1; white-space: pre;\">−0.1</text></g><g class=\"ytick\"><text text-anchor=\"end\" x=\"50\" y=\"7\" transform=\"translate(0,244.77)\" style=\"font-family: 'Open Sans', verdana, arial, sans-serif; font-size: 20px; fill: rgb(42, 63, 95); fill-opacity: 1; white-space: pre;\">0</text></g><g class=\"ytick\"><text text-anchor=\"end\" x=\"50\" y=\"7\" transform=\"translate(0,146.38)\" style=\"font-family: 'Open Sans', verdana, arial, sans-serif; font-size: 20px; fill: rgb(42, 63, 95); fill-opacity: 1; white-space: pre;\">0.1</text></g><g class=\"ytick\"><text text-anchor=\"end\" x=\"50\" y=\"7\" transform=\"translate(0,48)\" style=\"font-family: 'Open Sans', verdana, arial, sans-serif; font-size: 20px; fill: rgb(42, 63, 95); fill-opacity: 1; white-space: pre;\">0.2</text></g></g><g class=\"overaxes-above\"/></g></g><g class=\"polarlayer\"/><g class=\"ternarylayer\"/><g class=\"geolayer\"/><g class=\"funnelarealayer\"/><g class=\"pielayer\"/><g class=\"treemaplayer\"/><g class=\"sunburstlayer\"/><g class=\"glimages\"/><defs id=\"topdefs-45565c\"><g class=\"clips\"/></defs><g class=\"layer-above\"><g class=\"imagelayer\"/><g class=\"shapelayer\"/></g><g class=\"infolayer\"><g class=\"g-gtitle\"/><g class=\"g-xtitle\"/><g class=\"g-ytitle\"/></g></svg>"
      ],
      "text/html": [
       "<div\n",
       "    class=\"webio-mountpoint\"\n",
       "    data-webio-mountpoint=\"10392736730181020996\"\n",
       ">\n",
       "    <script>\n",
       "    (function(){\n",
       "    // Some integrations (namely, IJulia/Jupyter) use an alternate render pathway than\n",
       "    // just putting the html on the page. If WebIO isn't defined, then it's pretty likely\n",
       "    // that we're in one of those situations and the integration just isn't installed\n",
       "    // correctly.\n",
       "    if (typeof window.WebIO === \"undefined\") {\n",
       "        document\n",
       "            .querySelector('[data-webio-mountpoint=\"10392736730181020996\"]')\n",
       "            .innerHTML = (\n",
       "                '<div style=\"padding: 1em; background-color: #f8d6da; border: 1px solid #f5c6cb; font-weight: bold;\">' +\n",
       "                '<p><strong>WebIO not detected.</strong></p>' +\n",
       "                '<p>Please read ' +\n",
       "                '<a href=\"https://juliagizmos.github.io/WebIO.jl/latest/troubleshooting/not-detected/\" target=\"_blank\">the troubleshooting guide</a> ' +\n",
       "                'for more information on how to resolve this issue.</p>' +\n",
       "                '<p><a href=\"https://juliagizmos.github.io/WebIO.jl/latest/troubleshooting/not-detected/\" target=\"_blank\">https://juliagizmos.github.io/WebIO.jl/latest/troubleshooting/not-detected/</a></p>' +\n",
       "                '</div>'\n",
       "            );\n",
       "        return;\n",
       "    }\n",
       "    WebIO.mount(\n",
       "        document.querySelector('[data-webio-mountpoint=\"10392736730181020996\"]'),\n",
       "        {\"props\":{},\"nodeType\":\"Scope\",\"type\":\"node\",\"instanceArgs\":{\"imports\":{\"data\":[{\"name\":\"Plotly\",\"type\":\"js\",\"url\":\"\\/assetserver\\/6ce5a5e5b28ac6ffdcfcd49d44ebd4d6dbe36ed4-plotly.min.js\"},{\"name\":null,\"type\":\"js\",\"url\":\"\\/assetserver\\/6f85150d15f92ccf38dc2254479a8612ce6d040e-plotly_webio.bundle.js\"}],\"type\":\"async_block\"},\"id\":\"16695167544606464283\",\"handlers\":{\"_toImage\":[\"(function (options){return this.Plotly.toImage(this.plotElem,options).then((function (data){return WebIO.setval({\\\"name\\\":\\\"image\\\",\\\"scope\\\":\\\"16695167544606464283\\\",\\\"id\\\":\\\"135\\\",\\\"type\\\":\\\"observable\\\"},data)}))})\"],\"__get_gd_contents\":[\"(function (prop){prop==\\\"data\\\" ? (WebIO.setval({\\\"name\\\":\\\"__gd_contents\\\",\\\"scope\\\":\\\"16695167544606464283\\\",\\\"id\\\":\\\"136\\\",\\\"type\\\":\\\"observable\\\"},this.plotElem.data)) : undefined; return prop==\\\"layout\\\" ? (WebIO.setval({\\\"name\\\":\\\"__gd_contents\\\",\\\"scope\\\":\\\"16695167544606464283\\\",\\\"id\\\":\\\"136\\\",\\\"type\\\":\\\"observable\\\"},this.plotElem.layout)) : undefined})\"],\"_downloadImage\":[\"(function (options){return this.Plotly.downloadImage(this.plotElem,options)})\"],\"_commands\":[\"(function (args){var fn=args.shift(); var elem=this.plotElem; var Plotly=this.Plotly; args.unshift(elem); return Plotly[fn].apply(this,args)})\"]},\"systemjs_options\":null,\"mount_callbacks\":[\"function () {\\n    var handler = ((function (Plotly,PlotlyWebIO){PlotlyWebIO.init(WebIO); var gd=this.dom.querySelector(\\\"#plot-4fe90129-da78-4fb0-bc24-25ff56e037aa\\\"); this.plotElem=gd; this.Plotly=Plotly; (window.Blink!==undefined) ? (gd.style.width=\\\"100%\\\", gd.style.height=\\\"100vh\\\", gd.style.marginLeft=\\\"0%\\\", gd.style.marginTop=\\\"0vh\\\") : undefined; window.onresize=(function (){return Plotly.Plots.resize(gd)}); Plotly.newPlot(gd,[{\\\"boxpoints\\\":\\\"all\\\",\\\"boxmean\\\":true,\\\"y\\\":[0.05379704023541701,0.06518032450436048,-0.0251146659045128,0.08319014713450802,0.03543015876044932,0.029317582600015955,-0.05916400038801162,0.005845424263927817,0.057994878546078724,0.036630139646983105,-0.01005148564228457,0.04306948863456415,0.1370273310151764,0.10798016784382017,0.06430972811121297,0.011368715773502734,0.06650843682840182,0.22246064454793768,-0.08017762794330938,-0.061469737160163386,-0.028675145706714953,0.02808244552151115,0.09966384486090203,-0.04131774518659376,-0.039937023351008544,-0.03589981882364346,0.051337868441115056,0.050882718103872925,0.12810726094421138,-0.06622630999716057,0.017104101904450462,-0.05335045479640417,-0.07793868344463757,-0.05607313149366043,0.0243892054563831,0.03522847756894835,-0.055318341204164054,0.04055927723643946,0.12058796176297529,-0.006555845023913437,-0.04166403241630782,-0.14360036791475078,-0.14096866382395806,-0.13122413486098475,-0.06757144803069973,0.02707789476467203,0.0053898899534588875,-0.15871821544495696,-0.06355903441218302,-0.11229529499082652,-0.1894931789951564,-0.03713586948555427,-0.050619806177340174,-0.15276068964365183,-0.23310024547355127],\\\"type\\\":\\\"box\\\",\\\"quartilemethod\\\":\\\"linear\\\",\\\"name\\\":\\\"\\\",\\\"marker\\\":{\\\"color\\\":\\\"royalblue\\\",\\\"size\\\":1}}],{\\\"autosize\\\":false,\\\"font\\\":{\\\"size\\\":20},\\\"template\\\":{\\\"layout\\\":{\\\"coloraxis\\\":{\\\"colorbar\\\":{\\\"ticks\\\":\\\"\\\",\\\"outlinewidth\\\":0}},\\\"xaxis\\\":{\\\"gridcolor\\\":\\\"white\\\",\\\"zerolinewidth\\\":2,\\\"title\\\":{\\\"standoff\\\":15},\\\"ticks\\\":\\\"\\\",\\\"zerolinecolor\\\":\\\"white\\\",\\\"automargin\\\":true,\\\"linecolor\\\":\\\"white\\\"},\\\"hovermode\\\":\\\"closest\\\",\\\"paper_bgcolor\\\":\\\"white\\\",\\\"geo\\\":{\\\"showlakes\\\":true,\\\"showland\\\":true,\\\"landcolor\\\":\\\"#E5ECF6\\\",\\\"bgcolor\\\":\\\"white\\\",\\\"subunitcolor\\\":\\\"white\\\",\\\"lakecolor\\\":\\\"white\\\"},\\\"colorscale\\\":{\\\"sequential\\\":[[0.0,\\\"#0d0887\\\"],[0.1111111111111111,\\\"#46039f\\\"],[0.2222222222222222,\\\"#7201a8\\\"],[0.3333333333333333,\\\"#9c179e\\\"],[0.4444444444444444,\\\"#bd3786\\\"],[0.5555555555555556,\\\"#d8576b\\\"],[0.6666666666666666,\\\"#ed7953\\\"],[0.7777777777777778,\\\"#fb9f3a\\\"],[0.8888888888888888,\\\"#fdca26\\\"],[1.0,\\\"#f0f921\\\"]],\\\"diverging\\\":[[0,\\\"#8e0152\\\"],[0.1,\\\"#c51b7d\\\"],[0.2,\\\"#de77ae\\\"],[0.3,\\\"#f1b6da\\\"],[0.4,\\\"#fde0ef\\\"],[0.5,\\\"#f7f7f7\\\"],[0.6,\\\"#e6f5d0\\\"],[0.7,\\\"#b8e186\\\"],[0.8,\\\"#7fbc41\\\"],[0.9,\\\"#4d9221\\\"],[1,\\\"#276419\\\"]],\\\"sequentialminus\\\":[[0.0,\\\"#0d0887\\\"],[0.1111111111111111,\\\"#46039f\\\"],[0.2222222222222222,\\\"#7201a8\\\"],[0.3333333333333333,\\\"#9c179e\\\"],[0.4444444444444444,\\\"#bd3786\\\"],[0.5555555555555556,\\\"#d8576b\\\"],[0.6666666666666666,\\\"#ed7953\\\"],[0.7777777777777778,\\\"#fb9f3a\\\"],[0.8888888888888888,\\\"#fdca26\\\"],[1.0,\\\"#f0f921\\\"]]},\\\"yaxis\\\":{\\\"gridcolor\\\":\\\"white\\\",\\\"zerolinewidth\\\":2,\\\"title\\\":{\\\"standoff\\\":15},\\\"ticks\\\":\\\"\\\",\\\"zerolinecolor\\\":\\\"white\\\",\\\"automargin\\\":true,\\\"linecolor\\\":\\\"white\\\"},\\\"shapedefaults\\\":{\\\"line\\\":{\\\"color\\\":\\\"#2a3f5f\\\"}},\\\"hoverlabel\\\":{\\\"align\\\":\\\"left\\\"},\\\"mapbox\\\":{\\\"style\\\":\\\"light\\\"},\\\"polar\\\":{\\\"angularaxis\\\":{\\\"gridcolor\\\":\\\"white\\\",\\\"ticks\\\":\\\"\\\",\\\"linecolor\\\":\\\"white\\\"},\\\"bgcolor\\\":\\\"#E5ECF6\\\",\\\"radialaxis\\\":{\\\"gridcolor\\\":\\\"white\\\",\\\"ticks\\\":\\\"\\\",\\\"linecolor\\\":\\\"white\\\"}},\\\"autotypenumbers\\\":\\\"strict\\\",\\\"font\\\":{\\\"color\\\":\\\"#2a3f5f\\\"},\\\"ternary\\\":{\\\"baxis\\\":{\\\"gridcolor\\\":\\\"white\\\",\\\"ticks\\\":\\\"\\\",\\\"linecolor\\\":\\\"white\\\"},\\\"bgcolor\\\":\\\"#E5ECF6\\\",\\\"caxis\\\":{\\\"gridcolor\\\":\\\"white\\\",\\\"ticks\\\":\\\"\\\",\\\"linecolor\\\":\\\"white\\\"},\\\"aaxis\\\":{\\\"gridcolor\\\":\\\"white\\\",\\\"ticks\\\":\\\"\\\",\\\"linecolor\\\":\\\"white\\\"}},\\\"annotationdefaults\\\":{\\\"arrowhead\\\":0,\\\"arrowwidth\\\":1,\\\"arrowcolor\\\":\\\"#2a3f5f\\\"},\\\"plot_bgcolor\\\":\\\"#E5ECF6\\\",\\\"title\\\":{\\\"x\\\":0.05},\\\"scene\\\":{\\\"xaxis\\\":{\\\"gridcolor\\\":\\\"white\\\",\\\"gridwidth\\\":2,\\\"backgroundcolor\\\":\\\"#E5ECF6\\\",\\\"ticks\\\":\\\"\\\",\\\"showbackground\\\":true,\\\"zerolinecolor\\\":\\\"white\\\",\\\"linecolor\\\":\\\"white\\\"},\\\"zaxis\\\":{\\\"gridcolor\\\":\\\"white\\\",\\\"gridwidth\\\":2,\\\"backgroundcolor\\\":\\\"#E5ECF6\\\",\\\"ticks\\\":\\\"\\\",\\\"showbackground\\\":true,\\\"zerolinecolor\\\":\\\"white\\\",\\\"linecolor\\\":\\\"white\\\"},\\\"yaxis\\\":{\\\"gridcolor\\\":\\\"white\\\",\\\"gridwidth\\\":2,\\\"backgroundcolor\\\":\\\"#E5ECF6\\\",\\\"ticks\\\":\\\"\\\",\\\"showbackground\\\":true,\\\"zerolinecolor\\\":\\\"white\\\",\\\"linecolor\\\":\\\"white\\\"}},\\\"colorway\\\":[\\\"#636efa\\\",\\\"#EF553B\\\",\\\"#00cc96\\\",\\\"#ab63fa\\\",\\\"#FFA15A\\\",\\\"#19d3f3\\\",\\\"#FF6692\\\",\\\"#B6E880\\\",\\\"#FF97FF\\\",\\\"#FECB52\\\"]},\\\"data\\\":{\\\"barpolar\\\":[{\\\"type\\\":\\\"barpolar\\\",\\\"marker\\\":{\\\"line\\\":{\\\"color\\\":\\\"#E5ECF6\\\",\\\"width\\\":0.5}}}],\\\"carpet\\\":[{\\\"aaxis\\\":{\\\"gridcolor\\\":\\\"white\\\",\\\"endlinecolor\\\":\\\"#2a3f5f\\\",\\\"minorgridcolor\\\":\\\"white\\\",\\\"startlinecolor\\\":\\\"#2a3f5f\\\",\\\"linecolor\\\":\\\"white\\\"},\\\"type\\\":\\\"carpet\\\",\\\"baxis\\\":{\\\"gridcolor\\\":\\\"white\\\",\\\"endlinecolor\\\":\\\"#2a3f5f\\\",\\\"minorgridcolor\\\":\\\"white\\\",\\\"startlinecolor\\\":\\\"#2a3f5f\\\",\\\"linecolor\\\":\\\"white\\\"}}],\\\"scatterpolar\\\":[{\\\"type\\\":\\\"scatterpolar\\\",\\\"marker\\\":{\\\"colorbar\\\":{\\\"ticks\\\":\\\"\\\",\\\"outlinewidth\\\":0}}}],\\\"parcoords\\\":[{\\\"line\\\":{\\\"colorbar\\\":{\\\"ticks\\\":\\\"\\\",\\\"outlinewidth\\\":0}},\\\"type\\\":\\\"parcoords\\\"}],\\\"scatter\\\":[{\\\"type\\\":\\\"scatter\\\",\\\"marker\\\":{\\\"colorbar\\\":{\\\"ticks\\\":\\\"\\\",\\\"outlinewidth\\\":0}}}],\\\"histogram2dcontour\\\":[{\\\"colorbar\\\":{\\\"ticks\\\":\\\"\\\",\\\"outlinewidth\\\":0},\\\"type\\\":\\\"histogram2dcontour\\\",\\\"colorscale\\\":[[0.0,\\\"#0d0887\\\"],[0.1111111111111111,\\\"#46039f\\\"],[0.2222222222222222,\\\"#7201a8\\\"],[0.3333333333333333,\\\"#9c179e\\\"],[0.4444444444444444,\\\"#bd3786\\\"],[0.5555555555555556,\\\"#d8576b\\\"],[0.6666666666666666,\\\"#ed7953\\\"],[0.7777777777777778,\\\"#fb9f3a\\\"],[0.8888888888888888,\\\"#fdca26\\\"],[1.0,\\\"#f0f921\\\"]]}],\\\"contour\\\":[{\\\"colorbar\\\":{\\\"ticks\\\":\\\"\\\",\\\"outlinewidth\\\":0},\\\"type\\\":\\\"contour\\\",\\\"colorscale\\\":[[0.0,\\\"#0d0887\\\"],[0.1111111111111111,\\\"#46039f\\\"],[0.2222222222222222,\\\"#7201a8\\\"],[0.3333333333333333,\\\"#9c179e\\\"],[0.4444444444444444,\\\"#bd3786\\\"],[0.5555555555555556,\\\"#d8576b\\\"],[0.6666666666666666,\\\"#ed7953\\\"],[0.7777777777777778,\\\"#fb9f3a\\\"],[0.8888888888888888,\\\"#fdca26\\\"],[1.0,\\\"#f0f921\\\"]]}],\\\"scattercarpet\\\":[{\\\"type\\\":\\\"scattercarpet\\\",\\\"marker\\\":{\\\"colorbar\\\":{\\\"ticks\\\":\\\"\\\",\\\"outlinewidth\\\":0}}}],\\\"mesh3d\\\":[{\\\"colorbar\\\":{\\\"ticks\\\":\\\"\\\",\\\"outlinewidth\\\":0},\\\"type\\\":\\\"mesh3d\\\"}],\\\"surface\\\":[{\\\"colorbar\\\":{\\\"ticks\\\":\\\"\\\",\\\"outlinewidth\\\":0},\\\"type\\\":\\\"surface\\\",\\\"colorscale\\\":[[0.0,\\\"#0d0887\\\"],[0.1111111111111111,\\\"#46039f\\\"],[0.2222222222222222,\\\"#7201a8\\\"],[0.3333333333333333,\\\"#9c179e\\\"],[0.4444444444444444,\\\"#bd3786\\\"],[0.5555555555555556,\\\"#d8576b\\\"],[0.6666666666666666,\\\"#ed7953\\\"],[0.7777777777777778,\\\"#fb9f3a\\\"],[0.8888888888888888,\\\"#fdca26\\\"],[1.0,\\\"#f0f921\\\"]]}],\\\"scattermapbox\\\":[{\\\"type\\\":\\\"scattermapbox\\\",\\\"marker\\\":{\\\"colorbar\\\":{\\\"ticks\\\":\\\"\\\",\\\"outlinewidth\\\":0}}}],\\\"scattergeo\\\":[{\\\"type\\\":\\\"scattergeo\\\",\\\"marker\\\":{\\\"colorbar\\\":{\\\"ticks\\\":\\\"\\\",\\\"outlinewidth\\\":0}}}],\\\"histogram\\\":[{\\\"type\\\":\\\"histogram\\\",\\\"marker\\\":{\\\"colorbar\\\":{\\\"ticks\\\":\\\"\\\",\\\"outlinewidth\\\":0}}}],\\\"pie\\\":[{\\\"type\\\":\\\"pie\\\",\\\"automargin\\\":true}],\\\"choropleth\\\":[{\\\"colorbar\\\":{\\\"ticks\\\":\\\"\\\",\\\"outlinewidth\\\":0},\\\"type\\\":\\\"choropleth\\\"}],\\\"heatmapgl\\\":[{\\\"colorbar\\\":{\\\"ticks\\\":\\\"\\\",\\\"outlinewidth\\\":0},\\\"type\\\":\\\"heatmapgl\\\",\\\"colorscale\\\":[[0.0,\\\"#0d0887\\\"],[0.1111111111111111,\\\"#46039f\\\"],[0.2222222222222222,\\\"#7201a8\\\"],[0.3333333333333333,\\\"#9c179e\\\"],[0.4444444444444444,\\\"#bd3786\\\"],[0.5555555555555556,\\\"#d8576b\\\"],[0.6666666666666666,\\\"#ed7953\\\"],[0.7777777777777778,\\\"#fb9f3a\\\"],[0.8888888888888888,\\\"#fdca26\\\"],[1.0,\\\"#f0f921\\\"]]}],\\\"bar\\\":[{\\\"type\\\":\\\"bar\\\",\\\"error_y\\\":{\\\"color\\\":\\\"#2a3f5f\\\"},\\\"error_x\\\":{\\\"color\\\":\\\"#2a3f5f\\\"},\\\"marker\\\":{\\\"line\\\":{\\\"color\\\":\\\"#E5ECF6\\\",\\\"width\\\":0.5}}}],\\\"heatmap\\\":[{\\\"colorbar\\\":{\\\"ticks\\\":\\\"\\\",\\\"outlinewidth\\\":0},\\\"type\\\":\\\"heatmap\\\",\\\"colorscale\\\":[[0.0,\\\"#0d0887\\\"],[0.1111111111111111,\\\"#46039f\\\"],[0.2222222222222222,\\\"#7201a8\\\"],[0.3333333333333333,\\\"#9c179e\\\"],[0.4444444444444444,\\\"#bd3786\\\"],[0.5555555555555556,\\\"#d8576b\\\"],[0.6666666666666666,\\\"#ed7953\\\"],[0.7777777777777778,\\\"#fb9f3a\\\"],[0.8888888888888888,\\\"#fdca26\\\"],[1.0,\\\"#f0f921\\\"]]}],\\\"contourcarpet\\\":[{\\\"colorbar\\\":{\\\"ticks\\\":\\\"\\\",\\\"outlinewidth\\\":0},\\\"type\\\":\\\"contourcarpet\\\"}],\\\"table\\\":[{\\\"type\\\":\\\"table\\\",\\\"header\\\":{\\\"line\\\":{\\\"color\\\":\\\"white\\\"},\\\"fill\\\":{\\\"color\\\":\\\"#C8D4E3\\\"}},\\\"cells\\\":{\\\"line\\\":{\\\"color\\\":\\\"white\\\"},\\\"fill\\\":{\\\"color\\\":\\\"#EBF0F8\\\"}}}],\\\"scatter3d\\\":[{\\\"line\\\":{\\\"colorbar\\\":{\\\"ticks\\\":\\\"\\\",\\\"outlinewidth\\\":0}},\\\"type\\\":\\\"scatter3d\\\",\\\"marker\\\":{\\\"colorbar\\\":{\\\"ticks\\\":\\\"\\\",\\\"outlinewidth\\\":0}}}],\\\"scattergl\\\":[{\\\"type\\\":\\\"scattergl\\\",\\\"marker\\\":{\\\"colorbar\\\":{\\\"ticks\\\":\\\"\\\",\\\"outlinewidth\\\":0}}}],\\\"histogram2d\\\":[{\\\"colorbar\\\":{\\\"ticks\\\":\\\"\\\",\\\"outlinewidth\\\":0},\\\"type\\\":\\\"histogram2d\\\",\\\"colorscale\\\":[[0.0,\\\"#0d0887\\\"],[0.1111111111111111,\\\"#46039f\\\"],[0.2222222222222222,\\\"#7201a8\\\"],[0.3333333333333333,\\\"#9c179e\\\"],[0.4444444444444444,\\\"#bd3786\\\"],[0.5555555555555556,\\\"#d8576b\\\"],[0.6666666666666666,\\\"#ed7953\\\"],[0.7777777777777778,\\\"#fb9f3a\\\"],[0.8888888888888888,\\\"#fdca26\\\"],[1.0,\\\"#f0f921\\\"]]}],\\\"scatterternary\\\":[{\\\"type\\\":\\\"scatterternary\\\",\\\"marker\\\":{\\\"colorbar\\\":{\\\"ticks\\\":\\\"\\\",\\\"outlinewidth\\\":0}}}],\\\"scatterpolargl\\\":[{\\\"type\\\":\\\"scatterpolargl\\\",\\\"marker\\\":{\\\"colorbar\\\":{\\\"ticks\\\":\\\"\\\",\\\"outlinewidth\\\":0}}}]}},\\\"height\\\":500,\\\"margin\\\":{\\\"l\\\":1,\\\"b\\\":1,\\\"pad\\\":4,\\\"r\\\":1,\\\"t\\\":1},\\\"width\\\":500},{\\\"showLink\\\":false,\\\"editable\\\":false,\\\"responsive\\\":true,\\\"staticPlot\\\":false,\\\"scrollZoom\\\":true}); gd.on(\\\"plotly_hover\\\",(function (data){var filtered_data=WebIO.PlotlyCommands.filterEventData(gd,data,\\\"hover\\\"); return !(filtered_data.isnil) ? (WebIO.setval({\\\"name\\\":\\\"hover\\\",\\\"scope\\\":\\\"16695167544606464283\\\",\\\"id\\\":\\\"131\\\",\\\"type\\\":\\\"observable\\\"},filtered_data.out)) : undefined})); gd.on(\\\"plotly_unhover\\\",(function (){return WebIO.setval({\\\"name\\\":\\\"hover\\\",\\\"scope\\\":\\\"16695167544606464283\\\",\\\"id\\\":\\\"131\\\",\\\"type\\\":\\\"observable\\\"},{})})); gd.on(\\\"plotly_selected\\\",(function (data){var filtered_data=WebIO.PlotlyCommands.filterEventData(gd,data,\\\"selected\\\"); return !(filtered_data.isnil) ? (WebIO.setval({\\\"name\\\":\\\"selected\\\",\\\"scope\\\":\\\"16695167544606464283\\\",\\\"id\\\":\\\"132\\\",\\\"type\\\":\\\"observable\\\"},filtered_data.out)) : undefined})); gd.on(\\\"plotly_deselect\\\",(function (){return WebIO.setval({\\\"name\\\":\\\"selected\\\",\\\"scope\\\":\\\"16695167544606464283\\\",\\\"id\\\":\\\"132\\\",\\\"type\\\":\\\"observable\\\"},{})})); gd.on(\\\"plotly_relayout\\\",(function (data){var filtered_data=WebIO.PlotlyCommands.filterEventData(gd,data,\\\"relayout\\\"); return !(filtered_data.isnil) ? (WebIO.setval({\\\"name\\\":\\\"relayout\\\",\\\"scope\\\":\\\"16695167544606464283\\\",\\\"id\\\":\\\"134\\\",\\\"type\\\":\\\"observable\\\"},filtered_data.out)) : undefined})); return gd.on(\\\"plotly_click\\\",(function (data){var filtered_data=WebIO.PlotlyCommands.filterEventData(gd,data,\\\"click\\\"); return !(filtered_data.isnil) ? (WebIO.setval({\\\"name\\\":\\\"click\\\",\\\"scope\\\":\\\"16695167544606464283\\\",\\\"id\\\":\\\"133\\\",\\\"type\\\":\\\"observable\\\"},filtered_data.out)) : undefined}))}));\\n    (WebIO.importBlock({\\\"data\\\":[{\\\"name\\\":\\\"Plotly\\\",\\\"type\\\":\\\"js\\\",\\\"url\\\":\\\"\\/assetserver\\/6ce5a5e5b28ac6ffdcfcd49d44ebd4d6dbe36ed4-plotly.min.js\\\"},{\\\"name\\\":null,\\\"type\\\":\\\"js\\\",\\\"url\\\":\\\"\\/assetserver\\/6f85150d15f92ccf38dc2254479a8612ce6d040e-plotly_webio.bundle.js\\\"}],\\\"type\\\":\\\"async_block\\\"})).then((imports) => handler.apply(this, imports));\\n}\\n\"],\"observables\":{\"_toImage\":{\"sync\":false,\"id\":\"138\",\"value\":{}},\"hover\":{\"sync\":false,\"id\":\"131\",\"value\":{}},\"selected\":{\"sync\":false,\"id\":\"132\",\"value\":{}},\"__gd_contents\":{\"sync\":false,\"id\":\"136\",\"value\":{}},\"click\":{\"sync\":false,\"id\":\"133\",\"value\":{}},\"image\":{\"sync\":true,\"id\":\"135\",\"value\":\"\"},\"__get_gd_contents\":{\"sync\":false,\"id\":\"140\",\"value\":\"\"},\"_downloadImage\":{\"sync\":false,\"id\":\"139\",\"value\":{}},\"relayout\":{\"sync\":false,\"id\":\"134\",\"value\":{}},\"_commands\":{\"sync\":false,\"id\":\"137\",\"value\":[]}}},\"children\":[{\"props\":{\"id\":\"plot-4fe90129-da78-4fb0-bc24-25ff56e037aa\"},\"nodeType\":\"DOM\",\"type\":\"node\",\"instanceArgs\":{\"namespace\":\"html\",\"tag\":\"div\"},\"children\":[]}]},\n",
       "        window,\n",
       "    );\n",
       "    })()\n",
       "    </script>\n",
       "</div>\n"
      ],
      "text/plain": [
       "data: [\n",
       "  \"box with fields boxmean, boxpoints, marker, name, quartilemethod, type, and y\"\n",
       "]\n",
       "\n",
       "layout: \"layout with fields autosize, font, height, margin, template, and width\"\n",
       "\n"
      ]
     },
     "metadata": {},
     "output_type": "display_data"
    }
   ],
   "source": [
    "nb_samples = Int(1e6)\n",
    "\n",
    "q = 0.\n",
    "\n",
    "lev = leverage_score(sparseB, q)\n",
    "hkpv = true\n",
    "emp_lev = emp_leverage_score(rng, meta_g, q, nb_samples;hkpv)\n",
    "\n",
    "rel_diff = vec((lev-emp_lev)./lev);\n",
    "println(\"mean: \", mean(rel_diff), \" std: \", std(rel_diff))\n",
    "\n",
    "trace = box(y=rel_diff,\n",
    "boxpoints=\"all\",\n",
    "marker=attr(\n",
    "        color=\"LightSkyBlue\",\n",
    "        size=1),\n",
    "quartilemethod=\"linear\",\n",
    "name=\"\",\n",
    "marker_color=\"royalblue\",\n",
    "boxmean=true)\n",
    "\n",
    "layout = Layout(\n",
    "    autosize=false,\n",
    "    width=500,\n",
    "    height=500,\n",
    "    margin=attr(l=1, r=1, b=1, t=1, pad=4),\n",
    "    font_size=20,\n",
    ")\n",
    "PlotlyJS.plot(trace,layout)\n",
    "\n",
    "name = \"emp_LS_HKPV\"*\"n\"*string(n)*\"p\"*string(p)*\"eta\"*string(eta)*\"q\"*string(q)\n",
    "\n",
    "plt = PlotlyJS.plot(trace,layout)\n",
    "# PlotlyJS.savefig(plt,\"figures/\"*name*\".pdf\")"
   ]
  },
  {
   "cell_type": "code",
   "execution_count": 23,
   "metadata": {},
   "outputs": [
    {
     "data": {
      "image/png": "[encoded data removed]",
      "image/svg+xml": [
       "<?xml version=\"1.0\" encoding=\"utf-8\"?>\n",
       "<svg xmlns=\"http://www.w3.org/2000/svg\" xmlns:xlink=\"http://www.w3.org/1999/xlink\" width=\"600\" height=\"400\" viewBox=\"0 0 2400 1600\">\n",
       "<defs>\n",
       "  <clipPath id=\"clip640\">\n",
       "    <rect x=\"0\" y=\"0\" width=\"2400\" height=\"1600\"/>\n",
       "  </clipPath>\n",
       "</defs>\n",
       "<path clip-path=\"url(#clip640)\" d=\"M0 1600 L2400 1600 L2400 0 L0 0  Z\" fill=\"#ffffff\" fill-rule=\"evenodd\" fill-opacity=\"1\"/>\n",
       "<defs>\n",
       "  <clipPath id=\"clip641\">\n",
       "    <rect x=\"480\" y=\"0\" width=\"1681\" height=\"1600\"/>\n",
       "  </clipPath>\n",
       "</defs>\n",
       "<path clip-path=\"url(#clip640)\" d=\"M156.598 1486.45 L2352.76 1486.45 L2352.76 47.2441 L156.598 47.2441  Z\" fill=\"#ffffff\" fill-rule=\"evenodd\" fill-opacity=\"1\"/>\n",
       "<defs>\n",
       "  <clipPath id=\"clip642\">\n",
       "    <rect x=\"156\" y=\"47\" width=\"2197\" height=\"1440\"/>\n",
       "  </clipPath>\n",
       "</defs>\n",
       "<polyline clip-path=\"url(#clip642)\" style=\"stroke:#000000; stroke-linecap:round; stroke-linejoin:round; stroke-width:2; stroke-opacity:0.1; fill:none\" points=\"180.386,1486.45 180.386,47.2441 \"/>\n",
       "<polyline clip-path=\"url(#clip642)\" style=\"stroke:#000000; stroke-linecap:round; stroke-linejoin:round; stroke-width:2; stroke-opacity:0.1; fill:none\" points=\"564.061,1486.45 564.061,47.2441 \"/>\n",
       "<polyline clip-path=\"url(#clip642)\" style=\"stroke:#000000; stroke-linecap:round; stroke-linejoin:round; stroke-width:2; stroke-opacity:0.1; fill:none\" points=\"947.737,1486.45 947.737,47.2441 \"/>\n",
       "<polyline clip-path=\"url(#clip642)\" style=\"stroke:#000000; stroke-linecap:round; stroke-linejoin:round; stroke-width:2; stroke-opacity:0.1; fill:none\" points=\"1331.41,1486.45 1331.41,47.2441 \"/>\n",
       "<polyline clip-path=\"url(#clip642)\" style=\"stroke:#000000; stroke-linecap:round; stroke-linejoin:round; stroke-width:2; stroke-opacity:0.1; fill:none\" points=\"1715.09,1486.45 1715.09,47.2441 \"/>\n",
       "<polyline clip-path=\"url(#clip642)\" style=\"stroke:#000000; stroke-linecap:round; stroke-linejoin:round; stroke-width:2; stroke-opacity:0.1; fill:none\" points=\"2098.76,1486.45 2098.76,47.2441 \"/>\n",
       "<polyline clip-path=\"url(#clip640)\" style=\"stroke:#000000; stroke-linecap:round; stroke-linejoin:round; stroke-width:4; stroke-opacity:1; fill:none\" points=\"156.598,1486.45 2352.76,1486.45 \"/>\n",
       "<polyline clip-path=\"url(#clip640)\" style=\"stroke:#000000; stroke-linecap:round; stroke-linejoin:round; stroke-width:4; stroke-opacity:1; fill:none\" points=\"180.386,1486.45 180.386,1467.55 \"/>\n",
       "<polyline clip-path=\"url(#clip640)\" style=\"stroke:#000000; stroke-linecap:round; stroke-linejoin:round; stroke-width:4; stroke-opacity:1; fill:none\" points=\"564.061,1486.45 564.061,1467.55 \"/>\n",
       "<polyline clip-path=\"url(#clip640)\" style=\"stroke:#000000; stroke-linecap:round; stroke-linejoin:round; stroke-width:4; stroke-opacity:1; fill:none\" points=\"947.737,1486.45 947.737,1467.55 \"/>\n",
       "<polyline clip-path=\"url(#clip640)\" style=\"stroke:#000000; stroke-linecap:round; stroke-linejoin:round; stroke-width:4; stroke-opacity:1; fill:none\" points=\"1331.41,1486.45 1331.41,1467.55 \"/>\n",
       "<polyline clip-path=\"url(#clip640)\" style=\"stroke:#000000; stroke-linecap:round; stroke-linejoin:round; stroke-width:4; stroke-opacity:1; fill:none\" points=\"1715.09,1486.45 1715.09,1467.55 \"/>\n",
       "<polyline clip-path=\"url(#clip640)\" style=\"stroke:#000000; stroke-linecap:round; stroke-linejoin:round; stroke-width:4; stroke-opacity:1; fill:none\" points=\"2098.76,1486.45 2098.76,1467.55 \"/>\n",
       "<path clip-path=\"url(#clip640)\" d=\"M180.386 1517.37 Q176.775 1517.37 174.946 1520.93 Q173.141 1524.47 173.141 1531.6 Q173.141 1538.71 174.946 1542.27 Q176.775 1545.82 180.386 1545.82 Q184.02 1545.82 185.826 1542.27 Q187.655 1538.71 187.655 1531.6 Q187.655 1524.47 185.826 1520.93 Q184.02 1517.37 180.386 1517.37 M180.386 1513.66 Q186.196 1513.66 189.252 1518.27 Q192.33 1522.85 192.33 1531.6 Q192.33 1540.33 189.252 1544.94 Q186.196 1549.52 180.386 1549.52 Q174.576 1549.52 171.497 1544.94 Q168.442 1540.33 168.442 1531.6 Q168.442 1522.85 171.497 1518.27 Q174.576 1513.66 180.386 1513.66 Z\" fill=\"#000000\" fill-rule=\"nonzero\" fill-opacity=\"1\" /><path clip-path=\"url(#clip640)\" d=\"M538.749 1544.91 L546.388 1544.91 L546.388 1518.55 L538.078 1520.21 L538.078 1515.95 L546.342 1514.29 L551.018 1514.29 L551.018 1544.91 L558.656 1544.91 L558.656 1548.85 L538.749 1548.85 L538.749 1544.91 Z\" fill=\"#000000\" fill-rule=\"nonzero\" fill-opacity=\"1\" /><path clip-path=\"url(#clip640)\" d=\"M578.101 1517.37 Q574.49 1517.37 572.661 1520.93 Q570.855 1524.47 570.855 1531.6 Q570.855 1538.71 572.661 1542.27 Q574.49 1545.82 578.101 1545.82 Q581.735 1545.82 583.541 1542.27 Q585.369 1538.71 585.369 1531.6 Q585.369 1524.47 583.541 1520.93 Q581.735 1517.37 578.101 1517.37 M578.101 1513.66 Q583.911 1513.66 586.966 1518.27 Q590.045 1522.85 590.045 1531.6 Q590.045 1540.33 586.966 1544.94 Q583.911 1549.52 578.101 1549.52 Q572.291 1549.52 569.212 1544.94 Q566.156 1540.33 566.156 1531.6 Q566.156 1522.85 569.212 1518.27 Q572.291 1513.66 578.101 1513.66 Z\" fill=\"#000000\" fill-rule=\"nonzero\" fill-opacity=\"1\" /><path clip-path=\"url(#clip640)\" d=\"M926.51 1544.91 L942.829 1544.91 L942.829 1548.85 L920.885 1548.85 L920.885 1544.91 Q923.547 1542.16 928.13 1537.53 Q932.737 1532.88 933.917 1531.53 Q936.163 1529.01 937.042 1527.27 Q937.945 1525.51 937.945 1523.82 Q937.945 1521.07 936.001 1519.33 Q934.079 1517.6 930.978 1517.6 Q928.779 1517.6 926.325 1518.36 Q923.894 1519.13 921.117 1520.68 L921.117 1515.95 Q923.941 1514.82 926.394 1514.24 Q928.848 1513.66 930.885 1513.66 Q936.255 1513.66 939.45 1516.35 Q942.644 1519.03 942.644 1523.52 Q942.644 1525.65 941.834 1527.57 Q941.047 1529.47 938.941 1532.07 Q938.362 1532.74 935.26 1535.95 Q932.158 1539.15 926.51 1544.91 Z\" fill=\"#000000\" fill-rule=\"nonzero\" fill-opacity=\"1\" /><path clip-path=\"url(#clip640)\" d=\"M962.644 1517.37 Q959.033 1517.37 957.204 1520.93 Q955.399 1524.47 955.399 1531.6 Q955.399 1538.71 957.204 1542.27 Q959.033 1545.82 962.644 1545.82 Q966.278 1545.82 968.084 1542.27 Q969.913 1538.71 969.913 1531.6 Q969.913 1524.47 968.084 1520.93 Q966.278 1517.37 962.644 1517.37 M962.644 1513.66 Q968.454 1513.66 971.51 1518.27 Q974.589 1522.85 974.589 1531.6 Q974.589 1540.33 971.51 1544.94 Q968.454 1549.52 962.644 1549.52 Q956.834 1549.52 953.755 1544.94 Q950.7 1540.33 950.7 1531.6 Q950.7 1522.85 953.755 1518.27 Q956.834 1513.66 962.644 1513.66 Z\" fill=\"#000000\" fill-rule=\"nonzero\" fill-opacity=\"1\" /><path clip-path=\"url(#clip640)\" d=\"M1320.25 1530.21 Q1323.61 1530.93 1325.49 1533.2 Q1327.38 1535.47 1327.38 1538.8 Q1327.38 1543.92 1323.87 1546.72 Q1320.35 1549.52 1313.87 1549.52 Q1311.69 1549.52 1309.38 1549.08 Q1307.08 1548.66 1304.63 1547.81 L1304.63 1543.29 Q1306.57 1544.43 1308.89 1545.01 Q1311.2 1545.58 1313.73 1545.58 Q1318.13 1545.58 1320.42 1543.85 Q1322.73 1542.11 1322.73 1538.8 Q1322.73 1535.75 1320.58 1534.03 Q1318.45 1532.3 1314.63 1532.3 L1310.6 1532.3 L1310.6 1528.45 L1314.82 1528.45 Q1318.26 1528.45 1320.09 1527.09 Q1321.92 1525.7 1321.92 1523.11 Q1321.92 1520.45 1320.02 1519.03 Q1318.15 1517.6 1314.63 1517.6 Q1312.71 1517.6 1310.51 1518.01 Q1308.31 1518.43 1305.67 1519.31 L1305.67 1515.14 Q1308.33 1514.4 1310.65 1514.03 Q1312.99 1513.66 1315.05 1513.66 Q1320.37 1513.66 1323.47 1516.09 Q1326.57 1518.5 1326.57 1522.62 Q1326.57 1525.49 1324.93 1527.48 Q1323.29 1529.45 1320.25 1530.21 Z\" fill=\"#000000\" fill-rule=\"nonzero\" fill-opacity=\"1\" /><path clip-path=\"url(#clip640)\" d=\"M1346.25 1517.37 Q1342.64 1517.37 1340.81 1520.93 Q1339 1524.47 1339 1531.6 Q1339 1538.71 1340.81 1542.27 Q1342.64 1545.82 1346.25 1545.82 Q1349.88 1545.82 1351.69 1542.27 Q1353.52 1538.71 1353.52 1531.6 Q1353.52 1524.47 1351.69 1520.93 Q1349.88 1517.37 1346.25 1517.37 M1346.25 1513.66 Q1352.06 1513.66 1355.12 1518.27 Q1358.19 1522.85 1358.19 1531.6 Q1358.19 1540.33 1355.12 1544.94 Q1352.06 1549.52 1346.25 1549.52 Q1340.44 1549.52 1337.36 1544.94 Q1334.31 1540.33 1334.31 1531.6 Q1334.31 1522.85 1337.36 1518.27 Q1340.44 1513.66 1346.25 1513.66 Z\" fill=\"#000000\" fill-rule=\"nonzero\" fill-opacity=\"1\" /><path clip-path=\"url(#clip640)\" d=\"M1703.26 1518.36 L1691.45 1536.81 L1703.26 1536.81 L1703.26 1518.36 M1702.03 1514.29 L1707.91 1514.29 L1707.91 1536.81 L1712.84 1536.81 L1712.84 1540.7 L1707.91 1540.7 L1707.91 1548.85 L1703.26 1548.85 L1703.26 1540.7 L1687.66 1540.7 L1687.66 1536.19 L1702.03 1514.29 Z\" fill=\"#000000\" fill-rule=\"nonzero\" fill-opacity=\"1\" /><path clip-path=\"url(#clip640)\" d=\"M1730.57 1517.37 Q1726.96 1517.37 1725.13 1520.93 Q1723.33 1524.47 1723.33 1531.6 Q1723.33 1538.71 1725.13 1542.27 Q1726.96 1545.82 1730.57 1545.82 Q1734.21 1545.82 1736.01 1542.27 Q1737.84 1538.71 1737.84 1531.6 Q1737.84 1524.47 1736.01 1520.93 Q1734.21 1517.37 1730.57 1517.37 M1730.57 1513.66 Q1736.38 1513.66 1739.44 1518.27 Q1742.52 1522.85 1742.52 1531.6 Q1742.52 1540.33 1739.44 1544.94 Q1736.38 1549.52 1730.57 1549.52 Q1724.76 1549.52 1721.68 1544.94 Q1718.63 1540.33 1718.63 1531.6 Q1718.63 1522.85 1721.68 1518.27 Q1724.76 1513.66 1730.57 1513.66 Z\" fill=\"#000000\" fill-rule=\"nonzero\" fill-opacity=\"1\" /><path clip-path=\"url(#clip640)\" d=\"M2073.46 1514.29 L2091.82 1514.29 L2091.82 1518.22 L2077.74 1518.22 L2077.74 1526.7 Q2078.76 1526.35 2079.78 1526.19 Q2080.8 1526 2081.82 1526 Q2087.61 1526 2090.99 1529.17 Q2094.36 1532.34 2094.36 1537.76 Q2094.36 1543.34 2090.89 1546.44 Q2087.42 1549.52 2081.1 1549.52 Q2078.92 1549.52 2076.66 1549.15 Q2074.41 1548.78 2072 1548.04 L2072 1543.34 Q2074.09 1544.47 2076.31 1545.03 Q2078.53 1545.58 2081.01 1545.58 Q2085.01 1545.58 2087.35 1543.48 Q2089.69 1541.37 2089.69 1537.76 Q2089.69 1534.15 2087.35 1532.04 Q2085.01 1529.94 2081.01 1529.94 Q2079.13 1529.94 2077.26 1530.35 Q2075.41 1530.77 2073.46 1531.65 L2073.46 1514.29 Z\" fill=\"#000000\" fill-rule=\"nonzero\" fill-opacity=\"1\" /><path clip-path=\"url(#clip640)\" d=\"M2113.58 1517.37 Q2109.97 1517.37 2108.14 1520.93 Q2106.33 1524.47 2106.33 1531.6 Q2106.33 1538.71 2108.14 1542.27 Q2109.97 1545.82 2113.58 1545.82 Q2117.21 1545.82 2119.02 1542.27 Q2120.85 1538.71 2120.85 1531.6 Q2120.85 1524.47 2119.02 1520.93 Q2117.21 1517.37 2113.58 1517.37 M2113.58 1513.66 Q2119.39 1513.66 2122.44 1518.27 Q2125.52 1522.85 2125.52 1531.6 Q2125.52 1540.33 2122.44 1544.94 Q2119.39 1549.52 2113.58 1549.52 Q2107.77 1549.52 2104.69 1544.94 Q2101.63 1540.33 2101.63 1531.6 Q2101.63 1522.85 2104.69 1518.27 Q2107.77 1513.66 2113.58 1513.66 Z\" fill=\"#000000\" fill-rule=\"nonzero\" fill-opacity=\"1\" /><polyline clip-path=\"url(#clip642)\" style=\"stroke:#000000; stroke-linecap:round; stroke-linejoin:round; stroke-width:2; stroke-opacity:0.1; fill:none\" points=\"156.598,1247.02 2352.76,1247.02 \"/>\n",
       "<polyline clip-path=\"url(#clip642)\" style=\"stroke:#000000; stroke-linecap:round; stroke-linejoin:round; stroke-width:2; stroke-opacity:0.1; fill:none\" points=\"156.598,899.114 2352.76,899.114 \"/>\n",
       "<polyline clip-path=\"url(#clip642)\" style=\"stroke:#000000; stroke-linecap:round; stroke-linejoin:round; stroke-width:2; stroke-opacity:0.1; fill:none\" points=\"156.598,551.206 2352.76,551.206 \"/>\n",
       "<polyline clip-path=\"url(#clip642)\" style=\"stroke:#000000; stroke-linecap:round; stroke-linejoin:round; stroke-width:2; stroke-opacity:0.1; fill:none\" points=\"156.598,203.299 2352.76,203.299 \"/>\n",
       "<polyline clip-path=\"url(#clip640)\" style=\"stroke:#000000; stroke-linecap:round; stroke-linejoin:round; stroke-width:4; stroke-opacity:1; fill:none\" points=\"156.598,1486.45 156.598,47.2441 \"/>\n",
       "<polyline clip-path=\"url(#clip640)\" style=\"stroke:#000000; stroke-linecap:round; stroke-linejoin:round; stroke-width:4; stroke-opacity:1; fill:none\" points=\"156.598,1247.02 175.496,1247.02 \"/>\n",
       "<polyline clip-path=\"url(#clip640)\" style=\"stroke:#000000; stroke-linecap:round; stroke-linejoin:round; stroke-width:4; stroke-opacity:1; fill:none\" points=\"156.598,899.114 175.496,899.114 \"/>\n",
       "<polyline clip-path=\"url(#clip640)\" style=\"stroke:#000000; stroke-linecap:round; stroke-linejoin:round; stroke-width:4; stroke-opacity:1; fill:none\" points=\"156.598,551.206 175.496,551.206 \"/>\n",
       "<polyline clip-path=\"url(#clip640)\" style=\"stroke:#000000; stroke-linecap:round; stroke-linejoin:round; stroke-width:4; stroke-opacity:1; fill:none\" points=\"156.598,203.299 175.496,203.299 \"/>\n",
       "<path clip-path=\"url(#clip640)\" d=\"M64.0708 1232.82 Q60.4597 1232.82 58.631 1236.38 Q56.8254 1239.93 56.8254 1247.06 Q56.8254 1254.16 58.631 1257.73 Q60.4597 1261.27 64.0708 1261.27 Q67.705 1261.27 69.5105 1257.73 Q71.3392 1254.16 71.3392 1247.06 Q71.3392 1239.93 69.5105 1236.38 Q67.705 1232.82 64.0708 1232.82 M64.0708 1229.12 Q69.8809 1229.12 72.9365 1233.72 Q76.0151 1238.31 76.0151 1247.06 Q76.0151 1255.78 72.9365 1260.39 Q69.8809 1264.97 64.0708 1264.97 Q58.2606 1264.97 55.1819 1260.39 Q52.1264 1255.78 52.1264 1247.06 Q52.1264 1238.31 55.1819 1233.72 Q58.2606 1229.12 64.0708 1229.12 Z\" fill=\"#000000\" fill-rule=\"nonzero\" fill-opacity=\"1\" /><path clip-path=\"url(#clip640)\" d=\"M84.2327 1258.42 L89.1169 1258.42 L89.1169 1264.3 L84.2327 1264.3 L84.2327 1258.42 Z\" fill=\"#000000\" fill-rule=\"nonzero\" fill-opacity=\"1\" /><path clip-path=\"url(#clip640)\" d=\"M113.469 1245.67 Q116.825 1246.38 118.7 1248.65 Q120.598 1250.92 120.598 1254.26 Q120.598 1259.37 117.08 1262.17 Q113.561 1264.97 107.08 1264.97 Q104.904 1264.97 102.589 1264.53 Q100.297 1264.12 97.8437 1263.26 L97.8437 1258.75 Q99.7882 1259.88 102.103 1260.46 Q104.418 1261.04 106.941 1261.04 Q111.339 1261.04 113.631 1259.3 Q115.945 1257.57 115.945 1254.26 Q115.945 1251.2 113.793 1249.49 Q111.663 1247.75 107.844 1247.75 L103.816 1247.75 L103.816 1243.91 L108.029 1243.91 Q111.478 1243.91 113.307 1242.54 Q115.135 1241.15 115.135 1238.56 Q115.135 1235.9 113.237 1234.49 Q111.362 1233.05 107.844 1233.05 Q105.922 1233.05 103.723 1233.47 Q101.524 1233.88 98.8854 1234.76 L98.8854 1230.6 Q101.547 1229.86 103.862 1229.49 Q106.2 1229.12 108.26 1229.12 Q113.584 1229.12 116.686 1231.55 Q119.788 1233.95 119.788 1238.07 Q119.788 1240.94 118.145 1242.94 Q116.501 1244.9 113.469 1245.67 Z\" fill=\"#000000\" fill-rule=\"nonzero\" fill-opacity=\"1\" /><path clip-path=\"url(#clip640)\" d=\"M62.9365 884.912 Q59.3254 884.912 57.4967 888.477 Q55.6912 892.019 55.6912 899.148 Q55.6912 906.255 57.4967 909.82 Q59.3254 913.361 62.9365 913.361 Q66.5707 913.361 68.3763 909.82 Q70.205 906.255 70.205 899.148 Q70.205 892.019 68.3763 888.477 Q66.5707 884.912 62.9365 884.912 M62.9365 881.209 Q68.7467 881.209 71.8022 885.815 Q74.8809 890.398 74.8809 899.148 Q74.8809 907.875 71.8022 912.482 Q68.7467 917.065 62.9365 917.065 Q57.1264 917.065 54.0477 912.482 Q50.9921 907.875 50.9921 899.148 Q50.9921 890.398 54.0477 885.815 Q57.1264 881.209 62.9365 881.209 Z\" fill=\"#000000\" fill-rule=\"nonzero\" fill-opacity=\"1\" /><path clip-path=\"url(#clip640)\" d=\"M83.0984 910.514 L87.9827 910.514 L87.9827 916.394 L83.0984 916.394 L83.0984 910.514 Z\" fill=\"#000000\" fill-rule=\"nonzero\" fill-opacity=\"1\" /><path clip-path=\"url(#clip640)\" d=\"M111.015 885.908 L99.2095 904.357 L111.015 904.357 L111.015 885.908 M109.788 881.834 L115.668 881.834 L115.668 904.357 L120.598 904.357 L120.598 908.246 L115.668 908.246 L115.668 916.394 L111.015 916.394 L111.015 908.246 L95.4132 908.246 L95.4132 903.732 L109.788 881.834 Z\" fill=\"#000000\" fill-rule=\"nonzero\" fill-opacity=\"1\" /><path clip-path=\"url(#clip640)\" d=\"M64.418 537.005 Q60.8069 537.005 58.9782 540.57 Q57.1726 544.111 57.1726 551.241 Q57.1726 558.347 58.9782 561.912 Q60.8069 565.454 64.418 565.454 Q68.0522 565.454 69.8578 561.912 Q71.6865 558.347 71.6865 551.241 Q71.6865 544.111 69.8578 540.57 Q68.0522 537.005 64.418 537.005 M64.418 533.301 Q70.2281 533.301 73.2837 537.908 Q76.3624 542.491 76.3624 551.241 Q76.3624 559.968 73.2837 564.574 Q70.2281 569.157 64.418 569.157 Q58.6078 569.157 55.5291 564.574 Q52.4736 559.968 52.4736 551.241 Q52.4736 542.491 55.5291 537.908 Q58.6078 533.301 64.418 533.301 Z\" fill=\"#000000\" fill-rule=\"nonzero\" fill-opacity=\"1\" /><path clip-path=\"url(#clip640)\" d=\"M84.5799 562.606 L89.4641 562.606 L89.4641 568.486 L84.5799 568.486 L84.5799 562.606 Z\" fill=\"#000000\" fill-rule=\"nonzero\" fill-opacity=\"1\" /><path clip-path=\"url(#clip640)\" d=\"M99.6956 533.926 L118.052 533.926 L118.052 537.861 L103.978 537.861 L103.978 546.333 Q104.996 545.986 106.015 545.824 Q107.033 545.639 108.052 545.639 Q113.839 545.639 117.219 548.81 Q120.598 551.982 120.598 557.398 Q120.598 562.977 117.126 566.079 Q113.654 569.157 107.334 569.157 Q105.159 569.157 102.89 568.787 Q100.645 568.417 98.2372 567.676 L98.2372 562.977 Q100.321 564.111 102.543 564.667 Q104.765 565.222 107.242 565.222 Q111.246 565.222 113.584 563.116 Q115.922 561.009 115.922 557.398 Q115.922 553.787 113.584 551.681 Q111.246 549.574 107.242 549.574 Q105.367 549.574 103.492 549.991 Q101.64 550.407 99.6956 551.287 L99.6956 533.926 Z\" fill=\"#000000\" fill-rule=\"nonzero\" fill-opacity=\"1\" /><path clip-path=\"url(#clip640)\" d=\"M63.2606 189.097 Q59.6495 189.097 57.8208 192.662 Q56.0152 196.204 56.0152 203.333 Q56.0152 210.44 57.8208 214.004 Q59.6495 217.546 63.2606 217.546 Q66.8948 217.546 68.7004 214.004 Q70.5291 210.44 70.5291 203.333 Q70.5291 196.204 68.7004 192.662 Q66.8948 189.097 63.2606 189.097 M63.2606 185.394 Q69.0707 185.394 72.1263 190 Q75.205 194.583 75.205 203.333 Q75.205 212.06 72.1263 216.666 Q69.0707 221.25 63.2606 221.25 Q57.4504 221.25 54.3717 216.666 Q51.3162 212.06 51.3162 203.333 Q51.3162 194.583 54.3717 190 Q57.4504 185.394 63.2606 185.394 Z\" fill=\"#000000\" fill-rule=\"nonzero\" fill-opacity=\"1\" /><path clip-path=\"url(#clip640)\" d=\"M83.4225 214.699 L88.3067 214.699 L88.3067 220.579 L83.4225 220.579 L83.4225 214.699 Z\" fill=\"#000000\" fill-rule=\"nonzero\" fill-opacity=\"1\" /><path clip-path=\"url(#clip640)\" d=\"M109.071 201.435 Q105.922 201.435 104.071 203.588 Q102.242 205.741 102.242 209.491 Q102.242 213.217 104.071 215.393 Q105.922 217.546 109.071 217.546 Q112.219 217.546 114.047 215.393 Q115.899 213.217 115.899 209.491 Q115.899 205.741 114.047 203.588 Q112.219 201.435 109.071 201.435 M118.353 186.782 L118.353 191.042 Q116.594 190.208 114.788 189.768 Q113.006 189.329 111.246 189.329 Q106.617 189.329 104.163 192.454 Q101.733 195.579 101.385 201.898 Q102.751 199.884 104.811 198.819 Q106.871 197.731 109.348 197.731 Q114.557 197.731 117.566 200.903 Q120.598 204.051 120.598 209.491 Q120.598 214.815 117.45 218.032 Q114.302 221.25 109.071 221.25 Q103.075 221.25 99.9039 216.666 Q96.7326 212.06 96.7326 203.333 Q96.7326 195.139 100.621 190.278 Q104.51 185.394 111.061 185.394 Q112.82 185.394 114.603 185.741 Q116.408 186.088 118.353 186.782 Z\" fill=\"#000000\" fill-rule=\"nonzero\" fill-opacity=\"1\" /><polyline clip-path=\"url(#clip642)\" style=\"stroke:#009af9; stroke-linecap:round; stroke-linejoin:round; stroke-width:4; stroke-opacity:1; fill:none\" points=\"218.754,914.668 257.121,736.633 295.489,828.189 333.856,743.672 372.224,1261.53 410.591,998.818 448.959,1445.72 487.326,1133.42 525.694,1066.31 564.061,1181.42 602.429,1378.3 640.797,614.893 679.164,613.397 717.532,620.552 755.899,710.118 794.267,943.713 832.634,895.229 871.002,87.9763 909.369,1341.64 947.737,1264.04 986.104,784.755 1024.47,1187.1 1062.84,527.755 1101.21,1139.17 1139.57,1298.45 1177.94,1107.15 1216.31,1175.02 1254.68,1070.18 1293.04,716.46 1331.41,1433.51 1369.78,1113.3 1408.15,1324.34 1446.51,1126.02 1484.88,1139.9 1523.25,1064.28 1561.62,993.015 1599.98,1033.57 1638.35,1110.29 1676.72,830.446 1715.09,1266.92 1753.46,1051.95 1791.82,1061.26 1830.19,1209.59 1868.56,1066.85 1906.93,975.178 1945.29,666.83 1983.66,1175.4 2022.03,1198.05 2060.4,1231.55 2098.76,1166.97 2137.13,691.574 2175.5,1110.68 2213.87,1239.12 2252.23,1164.77 2290.6,1177.74 \"/>\n",
       "<polyline clip-path=\"url(#clip642)\" style=\"stroke:#e26f46; stroke-linecap:round; stroke-linejoin:round; stroke-width:4; stroke-opacity:1; fill:none\" points=\"218.754,988.696 257.121,837.931 295.489,791.457 333.856,872.373 372.224,1297.99 410.591,1036.69 448.959,1395.72 487.326,1140.19 525.694,1137.32 564.061,1222.06 602.429,1369.13 640.797,687.071 679.164,843.24 717.532,800.899 755.899,811.768 794.267,959.027 832.634,988.042 871.002,578.005 909.369,1265.55 947.737,1200.93 986.104,741.571 1024.47,1218.09 1062.84,703.461 1101.21,1091.59 1139.57,1258.83 1177.94,1064.66 1216.31,1232.3 1254.68,1132.29 1293.04,918.137 1331.41,1376.74 1369.78,1133.44 1408.15,1272.78 1446.51,1035.25 1484.88,1075.36 1523.25,1094.2 1561.62,1038.73 1599.98,964.023 1638.35,1158.17 1676.72,1006.54 1715.09,1260.21 1753.46,1000.33 1791.82,884.707 1830.19,1057.19 1868.56,906.242 1906.93,886.283 1945.29,710.802 1983.66,1181.42 2022.03,1024.62 2060.4,1164.23 2098.76,1040.78 2137.13,388.542 2175.5,1066.86 2213.87,1185.89 2252.23,992.77 2290.6,918.297 \"/>\n",
       "<path clip-path=\"url(#clip640)\" d=\"M229.803 250.738 L501.85 250.738 L501.85 95.2176 L229.803 95.2176  Z\" fill=\"#ffffff\" fill-rule=\"evenodd\" fill-opacity=\"1\"/>\n",
       "<polyline clip-path=\"url(#clip640)\" style=\"stroke:#000000; stroke-linecap:round; stroke-linejoin:round; stroke-width:4; stroke-opacity:1; fill:none\" points=\"229.803,250.738 501.85,250.738 501.85,95.2176 229.803,95.2176 229.803,250.738 \"/>\n",
       "<polyline clip-path=\"url(#clip640)\" style=\"stroke:#009af9; stroke-linecap:round; stroke-linejoin:round; stroke-width:4; stroke-opacity:1; fill:none\" points=\"254.205,147.058 400.616,147.058 \"/>\n",
       "<path clip-path=\"url(#clip640)\" d=\"M438.86 166.745 Q437.054 171.375 435.342 172.787 Q433.629 174.199 430.758 174.199 L427.355 174.199 L427.355 170.634 L429.855 170.634 Q431.615 170.634 432.587 169.8 Q433.559 168.967 434.74 165.865 L435.504 163.921 L425.018 138.412 L429.531 138.412 L437.633 158.689 L445.735 138.412 L450.249 138.412 L438.86 166.745 Z\" fill=\"#000000\" fill-rule=\"nonzero\" fill-opacity=\"1\" /><path clip-path=\"url(#clip640)\" d=\"M457.54 160.402 L465.179 160.402 L465.179 134.037 L456.869 135.703 L456.869 131.444 L465.133 129.778 L469.809 129.778 L469.809 160.402 L477.448 160.402 L477.448 164.338 L457.54 164.338 L457.54 160.402 Z\" fill=\"#000000\" fill-rule=\"nonzero\" fill-opacity=\"1\" /><polyline clip-path=\"url(#clip640)\" style=\"stroke:#e26f46; stroke-linecap:round; stroke-linejoin:round; stroke-width:4; stroke-opacity:1; fill:none\" points=\"254.205,198.898 400.616,198.898 \"/>\n",
       "<path clip-path=\"url(#clip640)\" d=\"M438.86 218.585 Q437.054 223.215 435.342 224.627 Q433.629 226.039 430.758 226.039 L427.355 226.039 L427.355 222.474 L429.855 222.474 Q431.615 222.474 432.587 221.64 Q433.559 220.807 434.74 217.705 L435.504 215.761 L425.018 190.252 L429.531 190.252 L437.633 210.529 L445.735 190.252 L450.249 190.252 L438.86 218.585 Z\" fill=\"#000000\" fill-rule=\"nonzero\" fill-opacity=\"1\" /><path clip-path=\"url(#clip640)\" d=\"M460.758 212.242 L477.077 212.242 L477.077 216.178 L455.133 216.178 L455.133 212.242 Q457.795 209.488 462.378 204.858 Q466.985 200.205 468.165 198.863 Q470.411 196.34 471.29 194.604 Q472.193 192.844 472.193 191.155 Q472.193 188.4 470.249 186.664 Q468.327 184.928 465.226 184.928 Q463.027 184.928 460.573 185.692 Q458.142 186.455 455.365 188.006 L455.365 183.284 Q458.189 182.15 460.642 181.571 Q463.096 180.993 465.133 180.993 Q470.503 180.993 473.698 183.678 Q476.892 186.363 476.892 190.854 Q476.892 192.983 476.082 194.905 Q475.295 196.803 473.189 199.395 Q472.61 200.067 469.508 203.284 Q466.406 206.479 460.758 212.242 Z\" fill=\"#000000\" fill-rule=\"nonzero\" fill-opacity=\"1\" /></svg>\n"
      ],
      "text/html": [
       "<?xml version=\"1.0\" encoding=\"utf-8\"?>\n",
       "<svg xmlns=\"http://www.w3.org/2000/svg\" xmlns:xlink=\"http://www.w3.org/1999/xlink\" width=\"600\" height=\"400\" viewBox=\"0 0 2400 1600\">\n",
       "<defs>\n",
       "  <clipPath id=\"clip690\">\n",
       "    <rect x=\"0\" y=\"0\" width=\"2400\" height=\"1600\"/>\n",
       "  </clipPath>\n",
       "</defs>\n",
       "<path clip-path=\"url(#clip690)\" d=\"M0 1600 L2400 1600 L2400 0 L0 0  Z\" fill=\"#ffffff\" fill-rule=\"evenodd\" fill-opacity=\"1\"/>\n",
       "<defs>\n",
       "  <clipPath id=\"clip691\">\n",
       "    <rect x=\"480\" y=\"0\" width=\"1681\" height=\"1600\"/>\n",
       "  </clipPath>\n",
       "</defs>\n",
       "<path clip-path=\"url(#clip690)\" d=\"M156.598 1486.45 L2352.76 1486.45 L2352.76 47.2441 L156.598 47.2441  Z\" fill=\"#ffffff\" fill-rule=\"evenodd\" fill-opacity=\"1\"/>\n",
       "<defs>\n",
       "  <clipPath id=\"clip692\">\n",
       "    <rect x=\"156\" y=\"47\" width=\"2197\" height=\"1440\"/>\n",
       "  </clipPath>\n",
       "</defs>\n",
       "<polyline clip-path=\"url(#clip692)\" style=\"stroke:#000000; stroke-linecap:round; stroke-linejoin:round; stroke-width:2; stroke-opacity:0.1; fill:none\" points=\"180.386,1486.45 180.386,47.2441 \"/>\n",
       "<polyline clip-path=\"url(#clip692)\" style=\"stroke:#000000; stroke-linecap:round; stroke-linejoin:round; stroke-width:2; stroke-opacity:0.1; fill:none\" points=\"564.061,1486.45 564.061,47.2441 \"/>\n",
       "<polyline clip-path=\"url(#clip692)\" style=\"stroke:#000000; stroke-linecap:round; stroke-linejoin:round; stroke-width:2; stroke-opacity:0.1; fill:none\" points=\"947.737,1486.45 947.737,47.2441 \"/>\n",
       "<polyline clip-path=\"url(#clip692)\" style=\"stroke:#000000; stroke-linecap:round; stroke-linejoin:round; stroke-width:2; stroke-opacity:0.1; fill:none\" points=\"1331.41,1486.45 1331.41,47.2441 \"/>\n",
       "<polyline clip-path=\"url(#clip692)\" style=\"stroke:#000000; stroke-linecap:round; stroke-linejoin:round; stroke-width:2; stroke-opacity:0.1; fill:none\" points=\"1715.09,1486.45 1715.09,47.2441 \"/>\n",
       "<polyline clip-path=\"url(#clip692)\" style=\"stroke:#000000; stroke-linecap:round; stroke-linejoin:round; stroke-width:2; stroke-opacity:0.1; fill:none\" points=\"2098.76,1486.45 2098.76,47.2441 \"/>\n",
       "<polyline clip-path=\"url(#clip690)\" style=\"stroke:#000000; stroke-linecap:round; stroke-linejoin:round; stroke-width:4; stroke-opacity:1; fill:none\" points=\"156.598,1486.45 2352.76,1486.45 \"/>\n",
       "<polyline clip-path=\"url(#clip690)\" style=\"stroke:#000000; stroke-linecap:round; stroke-linejoin:round; stroke-width:4; stroke-opacity:1; fill:none\" points=\"180.386,1486.45 180.386,1467.55 \"/>\n",
       "<polyline clip-path=\"url(#clip690)\" style=\"stroke:#000000; stroke-linecap:round; stroke-linejoin:round; stroke-width:4; stroke-opacity:1; fill:none\" points=\"564.061,1486.45 564.061,1467.55 \"/>\n",
       "<polyline clip-path=\"url(#clip690)\" style=\"stroke:#000000; stroke-linecap:round; stroke-linejoin:round; stroke-width:4; stroke-opacity:1; fill:none\" points=\"947.737,1486.45 947.737,1467.55 \"/>\n",
       "<polyline clip-path=\"url(#clip690)\" style=\"stroke:#000000; stroke-linecap:round; stroke-linejoin:round; stroke-width:4; stroke-opacity:1; fill:none\" points=\"1331.41,1486.45 1331.41,1467.55 \"/>\n",
       "<polyline clip-path=\"url(#clip690)\" style=\"stroke:#000000; stroke-linecap:round; stroke-linejoin:round; stroke-width:4; stroke-opacity:1; fill:none\" points=\"1715.09,1486.45 1715.09,1467.55 \"/>\n",
       "<polyline clip-path=\"url(#clip690)\" style=\"stroke:#000000; stroke-linecap:round; stroke-linejoin:round; stroke-width:4; stroke-opacity:1; fill:none\" points=\"2098.76,1486.45 2098.76,1467.55 \"/>\n",
       "<path clip-path=\"url(#clip690)\" d=\"M180.386 1517.37 Q176.775 1517.37 174.946 1520.93 Q173.141 1524.47 173.141 1531.6 Q173.141 1538.71 174.946 1542.27 Q176.775 1545.82 180.386 1545.82 Q184.02 1545.82 185.826 1542.27 Q187.655 1538.71 187.655 1531.6 Q187.655 1524.47 185.826 1520.93 Q184.02 1517.37 180.386 1517.37 M180.386 1513.66 Q186.196 1513.66 189.252 1518.27 Q192.33 1522.85 192.33 1531.6 Q192.33 1540.33 189.252 1544.94 Q186.196 1549.52 180.386 1549.52 Q174.576 1549.52 171.497 1544.94 Q168.442 1540.33 168.442 1531.6 Q168.442 1522.85 171.497 1518.27 Q174.576 1513.66 180.386 1513.66 Z\" fill=\"#000000\" fill-rule=\"nonzero\" fill-opacity=\"1\" /><path clip-path=\"url(#clip690)\" d=\"M538.749 1544.91 L546.388 1544.91 L546.388 1518.55 L538.078 1520.21 L538.078 1515.95 L546.342 1514.29 L551.018 1514.29 L551.018 1544.91 L558.656 1544.91 L558.656 1548.85 L538.749 1548.85 L538.749 1544.91 Z\" fill=\"#000000\" fill-rule=\"nonzero\" fill-opacity=\"1\" /><path clip-path=\"url(#clip690)\" d=\"M578.101 1517.37 Q574.49 1517.37 572.661 1520.93 Q570.855 1524.47 570.855 1531.6 Q570.855 1538.71 572.661 1542.27 Q574.49 1545.82 578.101 1545.82 Q581.735 1545.82 583.541 1542.27 Q585.369 1538.71 585.369 1531.6 Q585.369 1524.47 583.541 1520.93 Q581.735 1517.37 578.101 1517.37 M578.101 1513.66 Q583.911 1513.66 586.966 1518.27 Q590.045 1522.85 590.045 1531.6 Q590.045 1540.33 586.966 1544.94 Q583.911 1549.52 578.101 1549.52 Q572.291 1549.52 569.212 1544.94 Q566.156 1540.33 566.156 1531.6 Q566.156 1522.85 569.212 1518.27 Q572.291 1513.66 578.101 1513.66 Z\" fill=\"#000000\" fill-rule=\"nonzero\" fill-opacity=\"1\" /><path clip-path=\"url(#clip690)\" d=\"M926.51 1544.91 L942.829 1544.91 L942.829 1548.85 L920.885 1548.85 L920.885 1544.91 Q923.547 1542.16 928.13 1537.53 Q932.737 1532.88 933.917 1531.53 Q936.163 1529.01 937.042 1527.27 Q937.945 1525.51 937.945 1523.82 Q937.945 1521.07 936.001 1519.33 Q934.079 1517.6 930.978 1517.6 Q928.779 1517.6 926.325 1518.36 Q923.894 1519.13 921.117 1520.68 L921.117 1515.95 Q923.941 1514.82 926.394 1514.24 Q928.848 1513.66 930.885 1513.66 Q936.255 1513.66 939.45 1516.35 Q942.644 1519.03 942.644 1523.52 Q942.644 1525.65 941.834 1527.57 Q941.047 1529.47 938.941 1532.07 Q938.362 1532.74 935.26 1535.95 Q932.158 1539.15 926.51 1544.91 Z\" fill=\"#000000\" fill-rule=\"nonzero\" fill-opacity=\"1\" /><path clip-path=\"url(#clip690)\" d=\"M962.644 1517.37 Q959.033 1517.37 957.204 1520.93 Q955.399 1524.47 955.399 1531.6 Q955.399 1538.71 957.204 1542.27 Q959.033 1545.82 962.644 1545.82 Q966.278 1545.82 968.084 1542.27 Q969.913 1538.71 969.913 1531.6 Q969.913 1524.47 968.084 1520.93 Q966.278 1517.37 962.644 1517.37 M962.644 1513.66 Q968.454 1513.66 971.51 1518.27 Q974.589 1522.85 974.589 1531.6 Q974.589 1540.33 971.51 1544.94 Q968.454 1549.52 962.644 1549.52 Q956.834 1549.52 953.755 1544.94 Q950.7 1540.33 950.7 1531.6 Q950.7 1522.85 953.755 1518.27 Q956.834 1513.66 962.644 1513.66 Z\" fill=\"#000000\" fill-rule=\"nonzero\" fill-opacity=\"1\" /><path clip-path=\"url(#clip690)\" d=\"M1320.25 1530.21 Q1323.61 1530.93 1325.49 1533.2 Q1327.38 1535.47 1327.38 1538.8 Q1327.38 1543.92 1323.87 1546.72 Q1320.35 1549.52 1313.87 1549.52 Q1311.69 1549.52 1309.38 1549.08 Q1307.08 1548.66 1304.63 1547.81 L1304.63 1543.29 Q1306.57 1544.43 1308.89 1545.01 Q1311.2 1545.58 1313.73 1545.58 Q1318.13 1545.58 1320.42 1543.85 Q1322.73 1542.11 1322.73 1538.8 Q1322.73 1535.75 1320.58 1534.03 Q1318.45 1532.3 1314.63 1532.3 L1310.6 1532.3 L1310.6 1528.45 L1314.82 1528.45 Q1318.26 1528.45 1320.09 1527.09 Q1321.92 1525.7 1321.92 1523.11 Q1321.92 1520.45 1320.02 1519.03 Q1318.15 1517.6 1314.63 1517.6 Q1312.71 1517.6 1310.51 1518.01 Q1308.31 1518.43 1305.67 1519.31 L1305.67 1515.14 Q1308.33 1514.4 1310.65 1514.03 Q1312.99 1513.66 1315.05 1513.66 Q1320.37 1513.66 1323.47 1516.09 Q1326.57 1518.5 1326.57 1522.62 Q1326.57 1525.49 1324.93 1527.48 Q1323.29 1529.45 1320.25 1530.21 Z\" fill=\"#000000\" fill-rule=\"nonzero\" fill-opacity=\"1\" /><path clip-path=\"url(#clip690)\" d=\"M1346.25 1517.37 Q1342.64 1517.37 1340.81 1520.93 Q1339 1524.47 1339 1531.6 Q1339 1538.71 1340.81 1542.27 Q1342.64 1545.82 1346.25 1545.82 Q1349.88 1545.82 1351.69 1542.27 Q1353.52 1538.71 1353.52 1531.6 Q1353.52 1524.47 1351.69 1520.93 Q1349.88 1517.37 1346.25 1517.37 M1346.25 1513.66 Q1352.06 1513.66 1355.12 1518.27 Q1358.19 1522.85 1358.19 1531.6 Q1358.19 1540.33 1355.12 1544.94 Q1352.06 1549.52 1346.25 1549.52 Q1340.44 1549.52 1337.36 1544.94 Q1334.31 1540.33 1334.31 1531.6 Q1334.31 1522.85 1337.36 1518.27 Q1340.44 1513.66 1346.25 1513.66 Z\" fill=\"#000000\" fill-rule=\"nonzero\" fill-opacity=\"1\" /><path clip-path=\"url(#clip690)\" d=\"M1703.26 1518.36 L1691.45 1536.81 L1703.26 1536.81 L1703.26 1518.36 M1702.03 1514.29 L1707.91 1514.29 L1707.91 1536.81 L1712.84 1536.81 L1712.84 1540.7 L1707.91 1540.7 L1707.91 1548.85 L1703.26 1548.85 L1703.26 1540.7 L1687.66 1540.7 L1687.66 1536.19 L1702.03 1514.29 Z\" fill=\"#000000\" fill-rule=\"nonzero\" fill-opacity=\"1\" /><path clip-path=\"url(#clip690)\" d=\"M1730.57 1517.37 Q1726.96 1517.37 1725.13 1520.93 Q1723.33 1524.47 1723.33 1531.6 Q1723.33 1538.71 1725.13 1542.27 Q1726.96 1545.82 1730.57 1545.82 Q1734.21 1545.82 1736.01 1542.27 Q1737.84 1538.71 1737.84 1531.6 Q1737.84 1524.47 1736.01 1520.93 Q1734.21 1517.37 1730.57 1517.37 M1730.57 1513.66 Q1736.38 1513.66 1739.44 1518.27 Q1742.52 1522.85 1742.52 1531.6 Q1742.52 1540.33 1739.44 1544.94 Q1736.38 1549.52 1730.57 1549.52 Q1724.76 1549.52 1721.68 1544.94 Q1718.63 1540.33 1718.63 1531.6 Q1718.63 1522.85 1721.68 1518.27 Q1724.76 1513.66 1730.57 1513.66 Z\" fill=\"#000000\" fill-rule=\"nonzero\" fill-opacity=\"1\" /><path clip-path=\"url(#clip690)\" d=\"M2073.46 1514.29 L2091.82 1514.29 L2091.82 1518.22 L2077.74 1518.22 L2077.74 1526.7 Q2078.76 1526.35 2079.78 1526.19 Q2080.8 1526 2081.82 1526 Q2087.61 1526 2090.99 1529.17 Q2094.36 1532.34 2094.36 1537.76 Q2094.36 1543.34 2090.89 1546.44 Q2087.42 1549.52 2081.1 1549.52 Q2078.92 1549.52 2076.66 1549.15 Q2074.41 1548.78 2072 1548.04 L2072 1543.34 Q2074.09 1544.47 2076.31 1545.03 Q2078.53 1545.58 2081.01 1545.58 Q2085.01 1545.58 2087.35 1543.48 Q2089.69 1541.37 2089.69 1537.76 Q2089.69 1534.15 2087.35 1532.04 Q2085.01 1529.94 2081.01 1529.94 Q2079.13 1529.94 2077.26 1530.35 Q2075.41 1530.77 2073.46 1531.65 L2073.46 1514.29 Z\" fill=\"#000000\" fill-rule=\"nonzero\" fill-opacity=\"1\" /><path clip-path=\"url(#clip690)\" d=\"M2113.58 1517.37 Q2109.97 1517.37 2108.14 1520.93 Q2106.33 1524.47 2106.33 1531.6 Q2106.33 1538.71 2108.14 1542.27 Q2109.97 1545.82 2113.58 1545.82 Q2117.21 1545.82 2119.02 1542.27 Q2120.85 1538.71 2120.85 1531.6 Q2120.85 1524.47 2119.02 1520.93 Q2117.21 1517.37 2113.58 1517.37 M2113.58 1513.66 Q2119.39 1513.66 2122.44 1518.27 Q2125.52 1522.85 2125.52 1531.6 Q2125.52 1540.33 2122.44 1544.94 Q2119.39 1549.52 2113.58 1549.52 Q2107.77 1549.52 2104.69 1544.94 Q2101.63 1540.33 2101.63 1531.6 Q2101.63 1522.85 2104.69 1518.27 Q2107.77 1513.66 2113.58 1513.66 Z\" fill=\"#000000\" fill-rule=\"nonzero\" fill-opacity=\"1\" /><polyline clip-path=\"url(#clip692)\" style=\"stroke:#000000; stroke-linecap:round; stroke-linejoin:round; stroke-width:2; stroke-opacity:0.1; fill:none\" points=\"156.598,1247.02 2352.76,1247.02 \"/>\n",
       "<polyline clip-path=\"url(#clip692)\" style=\"stroke:#000000; stroke-linecap:round; stroke-linejoin:round; stroke-width:2; stroke-opacity:0.1; fill:none\" points=\"156.598,899.114 2352.76,899.114 \"/>\n",
       "<polyline clip-path=\"url(#clip692)\" style=\"stroke:#000000; stroke-linecap:round; stroke-linejoin:round; stroke-width:2; stroke-opacity:0.1; fill:none\" points=\"156.598,551.206 2352.76,551.206 \"/>\n",
       "<polyline clip-path=\"url(#clip692)\" style=\"stroke:#000000; stroke-linecap:round; stroke-linejoin:round; stroke-width:2; stroke-opacity:0.1; fill:none\" points=\"156.598,203.299 2352.76,203.299 \"/>\n",
       "<polyline clip-path=\"url(#clip690)\" style=\"stroke:#000000; stroke-linecap:round; stroke-linejoin:round; stroke-width:4; stroke-opacity:1; fill:none\" points=\"156.598,1486.45 156.598,47.2441 \"/>\n",
       "<polyline clip-path=\"url(#clip690)\" style=\"stroke:#000000; stroke-linecap:round; stroke-linejoin:round; stroke-width:4; stroke-opacity:1; fill:none\" points=\"156.598,1247.02 175.496,1247.02 \"/>\n",
       "<polyline clip-path=\"url(#clip690)\" style=\"stroke:#000000; stroke-linecap:round; stroke-linejoin:round; stroke-width:4; stroke-opacity:1; fill:none\" points=\"156.598,899.114 175.496,899.114 \"/>\n",
       "<polyline clip-path=\"url(#clip690)\" style=\"stroke:#000000; stroke-linecap:round; stroke-linejoin:round; stroke-width:4; stroke-opacity:1; fill:none\" points=\"156.598,551.206 175.496,551.206 \"/>\n",
       "<polyline clip-path=\"url(#clip690)\" style=\"stroke:#000000; stroke-linecap:round; stroke-linejoin:round; stroke-width:4; stroke-opacity:1; fill:none\" points=\"156.598,203.299 175.496,203.299 \"/>\n",
       "<path clip-path=\"url(#clip690)\" d=\"M64.0708 1232.82 Q60.4597 1232.82 58.631 1236.38 Q56.8254 1239.93 56.8254 1247.06 Q56.8254 1254.16 58.631 1257.73 Q60.4597 1261.27 64.0708 1261.27 Q67.705 1261.27 69.5105 1257.73 Q71.3392 1254.16 71.3392 1247.06 Q71.3392 1239.93 69.5105 1236.38 Q67.705 1232.82 64.0708 1232.82 M64.0708 1229.12 Q69.8809 1229.12 72.9365 1233.72 Q76.0151 1238.31 76.0151 1247.06 Q76.0151 1255.78 72.9365 1260.39 Q69.8809 1264.97 64.0708 1264.97 Q58.2606 1264.97 55.1819 1260.39 Q52.1264 1255.78 52.1264 1247.06 Q52.1264 1238.31 55.1819 1233.72 Q58.2606 1229.12 64.0708 1229.12 Z\" fill=\"#000000\" fill-rule=\"nonzero\" fill-opacity=\"1\" /><path clip-path=\"url(#clip690)\" d=\"M84.2327 1258.42 L89.1169 1258.42 L89.1169 1264.3 L84.2327 1264.3 L84.2327 1258.42 Z\" fill=\"#000000\" fill-rule=\"nonzero\" fill-opacity=\"1\" /><path clip-path=\"url(#clip690)\" d=\"M113.469 1245.67 Q116.825 1246.38 118.7 1248.65 Q120.598 1250.92 120.598 1254.26 Q120.598 1259.37 117.08 1262.17 Q113.561 1264.97 107.08 1264.97 Q104.904 1264.97 102.589 1264.53 Q100.297 1264.12 97.8437 1263.26 L97.8437 1258.75 Q99.7882 1259.88 102.103 1260.46 Q104.418 1261.04 106.941 1261.04 Q111.339 1261.04 113.631 1259.3 Q115.945 1257.57 115.945 1254.26 Q115.945 1251.2 113.793 1249.49 Q111.663 1247.75 107.844 1247.75 L103.816 1247.75 L103.816 1243.91 L108.029 1243.91 Q111.478 1243.91 113.307 1242.54 Q115.135 1241.15 115.135 1238.56 Q115.135 1235.9 113.237 1234.49 Q111.362 1233.05 107.844 1233.05 Q105.922 1233.05 103.723 1233.47 Q101.524 1233.88 98.8854 1234.76 L98.8854 1230.6 Q101.547 1229.86 103.862 1229.49 Q106.2 1229.12 108.26 1229.12 Q113.584 1229.12 116.686 1231.55 Q119.788 1233.95 119.788 1238.07 Q119.788 1240.94 118.145 1242.94 Q116.501 1244.9 113.469 1245.67 Z\" fill=\"#000000\" fill-rule=\"nonzero\" fill-opacity=\"1\" /><path clip-path=\"url(#clip690)\" d=\"M62.9365 884.912 Q59.3254 884.912 57.4967 888.477 Q55.6912 892.019 55.6912 899.148 Q55.6912 906.255 57.4967 909.82 Q59.3254 913.361 62.9365 913.361 Q66.5707 913.361 68.3763 909.82 Q70.205 906.255 70.205 899.148 Q70.205 892.019 68.3763 888.477 Q66.5707 884.912 62.9365 884.912 M62.9365 881.209 Q68.7467 881.209 71.8022 885.815 Q74.8809 890.398 74.8809 899.148 Q74.8809 907.875 71.8022 912.482 Q68.7467 917.065 62.9365 917.065 Q57.1264 917.065 54.0477 912.482 Q50.9921 907.875 50.9921 899.148 Q50.9921 890.398 54.0477 885.815 Q57.1264 881.209 62.9365 881.209 Z\" fill=\"#000000\" fill-rule=\"nonzero\" fill-opacity=\"1\" /><path clip-path=\"url(#clip690)\" d=\"M83.0984 910.514 L87.9827 910.514 L87.9827 916.394 L83.0984 916.394 L83.0984 910.514 Z\" fill=\"#000000\" fill-rule=\"nonzero\" fill-opacity=\"1\" /><path clip-path=\"url(#clip690)\" d=\"M111.015 885.908 L99.2095 904.357 L111.015 904.357 L111.015 885.908 M109.788 881.834 L115.668 881.834 L115.668 904.357 L120.598 904.357 L120.598 908.246 L115.668 908.246 L115.668 916.394 L111.015 916.394 L111.015 908.246 L95.4132 908.246 L95.4132 903.732 L109.788 881.834 Z\" fill=\"#000000\" fill-rule=\"nonzero\" fill-opacity=\"1\" /><path clip-path=\"url(#clip690)\" d=\"M64.418 537.005 Q60.8069 537.005 58.9782 540.57 Q57.1726 544.111 57.1726 551.241 Q57.1726 558.347 58.9782 561.912 Q60.8069 565.454 64.418 565.454 Q68.0522 565.454 69.8578 561.912 Q71.6865 558.347 71.6865 551.241 Q71.6865 544.111 69.8578 540.57 Q68.0522 537.005 64.418 537.005 M64.418 533.301 Q70.2281 533.301 73.2837 537.908 Q76.3624 542.491 76.3624 551.241 Q76.3624 559.968 73.2837 564.574 Q70.2281 569.157 64.418 569.157 Q58.6078 569.157 55.5291 564.574 Q52.4736 559.968 52.4736 551.241 Q52.4736 542.491 55.5291 537.908 Q58.6078 533.301 64.418 533.301 Z\" fill=\"#000000\" fill-rule=\"nonzero\" fill-opacity=\"1\" /><path clip-path=\"url(#clip690)\" d=\"M84.5799 562.606 L89.4641 562.606 L89.4641 568.486 L84.5799 568.486 L84.5799 562.606 Z\" fill=\"#000000\" fill-rule=\"nonzero\" fill-opacity=\"1\" /><path clip-path=\"url(#clip690)\" d=\"M99.6956 533.926 L118.052 533.926 L118.052 537.861 L103.978 537.861 L103.978 546.333 Q104.996 545.986 106.015 545.824 Q107.033 545.639 108.052 545.639 Q113.839 545.639 117.219 548.81 Q120.598 551.982 120.598 557.398 Q120.598 562.977 117.126 566.079 Q113.654 569.157 107.334 569.157 Q105.159 569.157 102.89 568.787 Q100.645 568.417 98.2372 567.676 L98.2372 562.977 Q100.321 564.111 102.543 564.667 Q104.765 565.222 107.242 565.222 Q111.246 565.222 113.584 563.116 Q115.922 561.009 115.922 557.398 Q115.922 553.787 113.584 551.681 Q111.246 549.574 107.242 549.574 Q105.367 549.574 103.492 549.991 Q101.64 550.407 99.6956 551.287 L99.6956 533.926 Z\" fill=\"#000000\" fill-rule=\"nonzero\" fill-opacity=\"1\" /><path clip-path=\"url(#clip690)\" d=\"M63.2606 189.097 Q59.6495 189.097 57.8208 192.662 Q56.0152 196.204 56.0152 203.333 Q56.0152 210.44 57.8208 214.004 Q59.6495 217.546 63.2606 217.546 Q66.8948 217.546 68.7004 214.004 Q70.5291 210.44 70.5291 203.333 Q70.5291 196.204 68.7004 192.662 Q66.8948 189.097 63.2606 189.097 M63.2606 185.394 Q69.0707 185.394 72.1263 190 Q75.205 194.583 75.205 203.333 Q75.205 212.06 72.1263 216.666 Q69.0707 221.25 63.2606 221.25 Q57.4504 221.25 54.3717 216.666 Q51.3162 212.06 51.3162 203.333 Q51.3162 194.583 54.3717 190 Q57.4504 185.394 63.2606 185.394 Z\" fill=\"#000000\" fill-rule=\"nonzero\" fill-opacity=\"1\" /><path clip-path=\"url(#clip690)\" d=\"M83.4225 214.699 L88.3067 214.699 L88.3067 220.579 L83.4225 220.579 L83.4225 214.699 Z\" fill=\"#000000\" fill-rule=\"nonzero\" fill-opacity=\"1\" /><path clip-path=\"url(#clip690)\" d=\"M109.071 201.435 Q105.922 201.435 104.071 203.588 Q102.242 205.741 102.242 209.491 Q102.242 213.217 104.071 215.393 Q105.922 217.546 109.071 217.546 Q112.219 217.546 114.047 215.393 Q115.899 213.217 115.899 209.491 Q115.899 205.741 114.047 203.588 Q112.219 201.435 109.071 201.435 M118.353 186.782 L118.353 191.042 Q116.594 190.208 114.788 189.768 Q113.006 189.329 111.246 189.329 Q106.617 189.329 104.163 192.454 Q101.733 195.579 101.385 201.898 Q102.751 199.884 104.811 198.819 Q106.871 197.731 109.348 197.731 Q114.557 197.731 117.566 200.903 Q120.598 204.051 120.598 209.491 Q120.598 214.815 117.45 218.032 Q114.302 221.25 109.071 221.25 Q103.075 221.25 99.9039 216.666 Q96.7326 212.06 96.7326 203.333 Q96.7326 195.139 100.621 190.278 Q104.51 185.394 111.061 185.394 Q112.82 185.394 114.603 185.741 Q116.408 186.088 118.353 186.782 Z\" fill=\"#000000\" fill-rule=\"nonzero\" fill-opacity=\"1\" /><polyline clip-path=\"url(#clip692)\" style=\"stroke:#009af9; stroke-linecap:round; stroke-linejoin:round; stroke-width:4; stroke-opacity:1; fill:none\" points=\"218.754,914.668 257.121,736.633 295.489,828.189 333.856,743.672 372.224,1261.53 410.591,998.818 448.959,1445.72 487.326,1133.42 525.694,1066.31 564.061,1181.42 602.429,1378.3 640.797,614.893 679.164,613.397 717.532,620.552 755.899,710.118 794.267,943.713 832.634,895.229 871.002,87.9763 909.369,1341.64 947.737,1264.04 986.104,784.755 1024.47,1187.1 1062.84,527.755 1101.21,1139.17 1139.57,1298.45 1177.94,1107.15 1216.31,1175.02 1254.68,1070.18 1293.04,716.46 1331.41,1433.51 1369.78,1113.3 1408.15,1324.34 1446.51,1126.02 1484.88,1139.9 1523.25,1064.28 1561.62,993.015 1599.98,1033.57 1638.35,1110.29 1676.72,830.446 1715.09,1266.92 1753.46,1051.95 1791.82,1061.26 1830.19,1209.59 1868.56,1066.85 1906.93,975.178 1945.29,666.83 1983.66,1175.4 2022.03,1198.05 2060.4,1231.55 2098.76,1166.97 2137.13,691.574 2175.5,1110.68 2213.87,1239.12 2252.23,1164.77 2290.6,1177.74 \"/>\n",
       "<polyline clip-path=\"url(#clip692)\" style=\"stroke:#e26f46; stroke-linecap:round; stroke-linejoin:round; stroke-width:4; stroke-opacity:1; fill:none\" points=\"218.754,988.696 257.121,837.931 295.489,791.457 333.856,872.373 372.224,1297.99 410.591,1036.69 448.959,1395.72 487.326,1140.19 525.694,1137.32 564.061,1222.06 602.429,1369.13 640.797,687.071 679.164,843.24 717.532,800.899 755.899,811.768 794.267,959.027 832.634,988.042 871.002,578.005 909.369,1265.55 947.737,1200.93 986.104,741.571 1024.47,1218.09 1062.84,703.461 1101.21,1091.59 1139.57,1258.83 1177.94,1064.66 1216.31,1232.3 1254.68,1132.29 1293.04,918.137 1331.41,1376.74 1369.78,1133.44 1408.15,1272.78 1446.51,1035.25 1484.88,1075.36 1523.25,1094.2 1561.62,1038.73 1599.98,964.023 1638.35,1158.17 1676.72,1006.54 1715.09,1260.21 1753.46,1000.33 1791.82,884.707 1830.19,1057.19 1868.56,906.242 1906.93,886.283 1945.29,710.802 1983.66,1181.42 2022.03,1024.62 2060.4,1164.23 2098.76,1040.78 2137.13,388.542 2175.5,1066.86 2213.87,1185.89 2252.23,992.77 2290.6,918.297 \"/>\n",
       "<path clip-path=\"url(#clip690)\" d=\"M229.803 250.738 L501.85 250.738 L501.85 95.2176 L229.803 95.2176  Z\" fill=\"#ffffff\" fill-rule=\"evenodd\" fill-opacity=\"1\"/>\n",
       "<polyline clip-path=\"url(#clip690)\" style=\"stroke:#000000; stroke-linecap:round; stroke-linejoin:round; stroke-width:4; stroke-opacity:1; fill:none\" points=\"229.803,250.738 501.85,250.738 501.85,95.2176 229.803,95.2176 229.803,250.738 \"/>\n",
       "<polyline clip-path=\"url(#clip690)\" style=\"stroke:#009af9; stroke-linecap:round; stroke-linejoin:round; stroke-width:4; stroke-opacity:1; fill:none\" points=\"254.205,147.058 400.616,147.058 \"/>\n",
       "<path clip-path=\"url(#clip690)\" d=\"M438.86 166.745 Q437.054 171.375 435.342 172.787 Q433.629 174.199 430.758 174.199 L427.355 174.199 L427.355 170.634 L429.855 170.634 Q431.615 170.634 432.587 169.8 Q433.559 168.967 434.74 165.865 L435.504 163.921 L425.018 138.412 L429.531 138.412 L437.633 158.689 L445.735 138.412 L450.249 138.412 L438.86 166.745 Z\" fill=\"#000000\" fill-rule=\"nonzero\" fill-opacity=\"1\" /><path clip-path=\"url(#clip690)\" d=\"M457.54 160.402 L465.179 160.402 L465.179 134.037 L456.869 135.703 L456.869 131.444 L465.133 129.778 L469.809 129.778 L469.809 160.402 L477.448 160.402 L477.448 164.338 L457.54 164.338 L457.54 160.402 Z\" fill=\"#000000\" fill-rule=\"nonzero\" fill-opacity=\"1\" /><polyline clip-path=\"url(#clip690)\" style=\"stroke:#e26f46; stroke-linecap:round; stroke-linejoin:round; stroke-width:4; stroke-opacity:1; fill:none\" points=\"254.205,198.898 400.616,198.898 \"/>\n",
       "<path clip-path=\"url(#clip690)\" d=\"M438.86 218.585 Q437.054 223.215 435.342 224.627 Q433.629 226.039 430.758 226.039 L427.355 226.039 L427.355 222.474 L429.855 222.474 Q431.615 222.474 432.587 221.64 Q433.559 220.807 434.74 217.705 L435.504 215.761 L425.018 190.252 L429.531 190.252 L437.633 210.529 L445.735 190.252 L450.249 190.252 L438.86 218.585 Z\" fill=\"#000000\" fill-rule=\"nonzero\" fill-opacity=\"1\" /><path clip-path=\"url(#clip690)\" d=\"M460.758 212.242 L477.077 212.242 L477.077 216.178 L455.133 216.178 L455.133 212.242 Q457.795 209.488 462.378 204.858 Q466.985 200.205 468.165 198.863 Q470.411 196.34 471.29 194.604 Q472.193 192.844 472.193 191.155 Q472.193 188.4 470.249 186.664 Q468.327 184.928 465.226 184.928 Q463.027 184.928 460.573 185.692 Q458.142 186.455 455.365 188.006 L455.365 183.284 Q458.189 182.15 460.642 181.571 Q463.096 180.993 465.133 180.993 Q470.503 180.993 473.698 183.678 Q476.892 186.363 476.892 190.854 Q476.892 192.983 476.082 194.905 Q475.295 196.803 473.189 199.395 Q472.61 200.067 469.508 203.284 Q466.406 206.479 460.758 212.242 Z\" fill=\"#000000\" fill-rule=\"nonzero\" fill-opacity=\"1\" /></svg>\n"
      ]
     },
     "metadata": {},
     "output_type": "display_data"
    }
   ],
   "source": [
    "Plots.plot(lev);Plots.plot!(emp_lev)"
   ]
  },
  {
   "cell_type": "markdown",
   "metadata": {},
   "source": [
    "##### Small graph with large inconsistenties"
   ]
  },
  {
   "cell_type": "code",
   "execution_count": 7,
   "metadata": {},
   "outputs": [
    {
     "data": {
      "text/plain": [
       "0"
      ]
     },
     "metadata": {},
     "output_type": "display_data"
    }
   ],
   "source": [
    "# common parameters\n",
    "type=\"MUN\"\n",
    "rng = Random.default_rng()\n",
    "\n",
    "# graph parameters\n",
    "n = 20\n",
    "p = 0.9\n",
    "\n",
    "# regularization\n",
    "q = 0\n",
    "\n",
    "# planted ranking score\n",
    "planted_score = randperm(rng,n)\n",
    "\n",
    "# for MC evaluations\n",
    "nb_samples = 100\n",
    "\n",
    "eta = 0.9\n",
    "\n",
    "# planted ranking score\n",
    "planted_score = randperm(rng,n)\n",
    "\n",
    "# graph model\n",
    "if type==\"MUN\"\n",
    "    meta_g = gen_graph_mun(rng, n, p, eta;planted_score)\n",
    "elseif type==\"ERO\"\n",
    "    meta_g = gen_graph_ero(rng, n, p, eta;planted_score)\n",
    "end\n",
    "sparseB = sp_magnetic_incidence(meta_g; oriented=true);\n",
    "n = nv(meta_g)\n",
    "\n",
    "# regularization\n",
    "q = 0"
   ]
  },
  {
   "cell_type": "code",
   "execution_count": 8,
   "metadata": {},
   "outputs": [
    {
     "name": "stdout",
     "output_type": "stream",
     "text": [
      "[1.0, 1.0, 1.0, 2.0, 1.0, 1.0, 1.0, 0.0, 1.0, 0.0, 1.0, 1.0, 2.0, 2.0, 1.0, 1.0, 2.0, 1.0, 0.0, 1.0, 1.0, 1.0, 1.0, 1.0, 2.0, 1.0, 1.0, 2.0, 1.0, 0.0, 2.0, 1.0, 1.0, 1.0, 1.0, 1.0, 1.0, 1.0, 1.0, 1.0, 1.0, 1.0, 1.0, 1.0, 1.0, 2.0, 0.0, 1.0, 1.0, 1.0, 0.0, 0.0, 1.0, 1.0, 1.0, 0.0, 1.0, 1.0, 1.0, 2.0, 0.0, 0.0, 0.0, 2.0, 1.0, 1.0, 2.0, 1.0, 0.0, 1.0, 2.0, 1.0, 1.0, 1.0, 2.0, 0.0, 1.0, 1.0, 2.0, 1.0, 1.0, 1.0, 1.0, 1.0, 0.0, 0.0, 0.0, 1.0, 1.0, 1.0, 1.0, 1.0, 1.0, 1.0, 2.0, 1.0, 1.0, 1.0, 3.0, 1.0]\n",
      "[0.0, 0.0, 0.0, 0.0, 0.0, 0.0, 0.0, 0.0, 0.0, 1.0, 0.0, 0.0, 0.0, 0.0, 0.0, 0.0, 0.0, 0.0, 0.0, 1.0, 0.0"
     ]
    },
    {
     "name": "stdout",
     "output_type": "stream",
     "text": [
      ", 0.0, 0.0, 0.0, 0.0, 0.0, 0.0, 0.0, 0.0, 2.0, 0.0, 0.0, 0.0, 0.0, 0.0, 0.0, 0.0, 0.0, 0.0, 0.0, 0.0, 0.0, 0.0, 0.0, 0.0, 0.0, 2.0, 0.0, 0.0, 0.0, 0.0, 2.0, 0.0, 0.0, 0.0, 2.0, 0.0, 0.0, 0.0, 0.0, 1.0, 0.0, 1.0, 0.0, 0.0, 0.0, 0.0, 0.0, 1.0, 0.0, 0.0, 0.0, 0.0, 0.0, 0.0, 0.0, 0.0, 0.0, 0.0, 0.0, 0.0, 0.0, 0.0, 0.0, 1.0, 1.0, 0.0, 0.0, 0.0, 0.0, 0.0, 0.0, 0.0, 0.0, 0.0, 0.0, 0.0, 0.0, 0.0, 0.0]\n",
      "[0.0, 0.0, 0.0, 0.0, 0.0, 0.0, 0.0, 1.0, 0.0, 1.0, 0.0, 0.0, 0.0, 0.0, 0.0, 0.0, 0.0, 0.0, 1.0, 1.0, 0.0, 0.0, 0.0, 0.0, 0.0, "
     ]
    },
    {
     "name": "stdout",
     "output_type": "stream",
     "text": [
      "0.0, 0.0, 0.0, 0.0, 1.0, 0.0, 0.0, 0.0, 0.0, 0.0, 0.0, 0.0, 0.0, 0.0, 0.0, 0.0, 0.0, 0.0, 0.0, 0.0, 0.0, 1.0, 0.0, 0.0, 0.0, 1.0, 1.0, 0.0, 0.0, 0.0, 1.0, 0.0, 0.0, 0.0, 0.0, 1.0, 1.0, 1.0, 0.0, 0.0, 0.0, 0.0, 0.0, 1.0, 0.0, 0.0, 0.0, 0.0, 0.0, 0.0, 1.0, 0.0, 0.0, 0.0, 0.0, 0.0, 0.0, 0.0, 0.0, 1.0, 1.0, 1.0, 0.0, 0.0, 0.0, 0.0, 0.0, 0.0, 0.0, 0.0, 0.0, 0.0, 0.0, 0.0, 0.0]\n",
      " \n",
      "[0.0006312525399999999 0.00030051451]\n"
     ]
    }
   ],
   "source": [
    "nb_edges = zeros(nb_samples)\n",
    "nb_cc = zeros(nb_samples)\n",
    "\n",
    "\n",
    "cc_with_1_cycle = zeros(nb_samples)\n",
    "cc_with_0_cycle = zeros(nb_samples)\n",
    "cc_with_more_than_1_cycle = zeros(nb_samples)\n",
    "\n",
    "time_hkpv = zeros(nb_samples)\n",
    "time_mtsf = zeros(nb_samples)\n",
    "\n",
    "V = Matrix(qr(Matrix(sparseB)).Q)\n",
    "\n",
    "for i_sample in 1:nb_samples\n",
    "\n",
    "    id, t = @timed sample_pdpp(V)\n",
    "    e = collect(edges(meta_g))\n",
    "    subgraph,_ = induced_subgraph(meta_g, e[id])\n",
    "\n",
    "    nb_edges[i_sample] = ne(subgraph)\n",
    "    cc = connected_components(subgraph)\n",
    "\n",
    "    nb_cc[i_sample] = length(cc)\n",
    "\n",
    "    cc = [induced_subgraph(subgraph, cc)[1] for cc in connected_components(subgraph)]\n",
    "\n",
    "    temp_cc_with_1_cycle = 0\n",
    "    temp_cc_with_0_cycle = 0\n",
    "    temp_cc_with_more_than_1_cycle = 0\n",
    "\n",
    "    for i in cc\n",
    "        l = length(cycle_basis(i))\n",
    "        if l == 1\n",
    "            temp_cc_with_1_cycle += 1\n",
    "        elseif l == 0\n",
    "            temp_cc_with_0_cycle += 1\n",
    "        else\n",
    "            temp_cc_with_more_than_1_cycle += 1\n",
    "        end\n",
    "    end\n",
    "\n",
    "    cc_with_1_cycle[i_sample] = temp_cc_with_1_cycle\n",
    "    cc_with_0_cycle[i_sample] = temp_cc_with_0_cycle\n",
    "    cc_with_more_than_1_cycle[i_sample] = temp_cc_with_more_than_1_cycle\n",
    "\n",
    "    time_hkpv[i_sample] = t\n",
    "    mtsf, t_mtsf = @timed multi_type_spanning_forest(rng, meta_g, q)\n",
    "    time_mtsf[i_sample] = t_mtsf\n",
    "\n",
    "end    \n",
    "\n",
    "println(cc_with_1_cycle)\n",
    "println(cc_with_0_cycle)\n",
    "println(cc_with_more_than_1_cycle)\n",
    "println(\" \")\n",
    "println([mean(time_hkpv) mean(time_mtsf)])"
   ]
  },
  {
   "cell_type": "code",
   "execution_count": 9,
   "metadata": {},
   "outputs": [
    {
     "data": {
      "application/vnd.plotly.v1+json": {
       "config": {
        "editable": false,
        "responsive": true,
        "scrollZoom": true,
        "showLink": false,
        "staticPlot": false
       },
       "data": [
        {
         "histnorm": "probability density",
         "type": "histogram",
         "x": [
          "0",
          "0",
          "0",
          "0",
          "0",
          "0",
          "0",
          "0",
          "0",
          "0",
          "0",
          "0",
          "0",
          "0",
          "0",
          "0",
          "1",
          "1",
          "1",
          "1",
          "1",
          "1",
          "1",
          "1",
          "1",
          "1",
          "1",
          "1",
          "1",
          "1",
          "1",
          "1",
          "1",
          "1",
          "1",
          "1",
          "1",
          "1",
          "1",
          "1",
          "1",
          "1",
          "1",
          "1",
          "1",
          "1",
          "1",
          "1",
          "1",
          "1",
          "1",
          "1",
          "1",
          "1",
          "1",
          "1",
          "1",
          "1",
          "1",
          "1",
          "1",
          "1",
          "1",
          "1",
          "1",
          "1",
          "1",
          "1",
          "1",
          "1",
          "1",
          "1",
          "1",
          "1",
          "1",
          "1",
          "1",
          "1",
          "1",
          "1",
          "1",
          "1",
          "1",
          "1",
          "2",
          "2",
          "2",
          "2",
          "2",
          "2",
          "2",
          "2",
          "2",
          "2",
          "2",
          "2",
          "2",
          "2",
          "2",
          "3"
         ]
        }
       ],
       "frames": [],
       "layout": {
        "autosize": false,
        "font": {
         "size": 35
        },
        "height": 200,
        "margin": {
         "b": 1,
         "l": 1,
         "pad": 4,
         "r": 1,
         "t": 1
        },
        "template": {
         "data": {
          "bar": [
           {
            "error_x": {
             "color": "#2a3f5f"
            },
            "error_y": {
             "color": "#2a3f5f"
            },
            "marker": {
             "line": {
              "color": "#E5ECF6",
              "width": 0.5
             }
            },
            "type": "bar"
           }
          ],
          "barpolar": [
           {
            "marker": {
             "line": {
              "color": "#E5ECF6",
              "width": 0.5
             }
            },
            "type": "barpolar"
           }
          ],
          "carpet": [
           {
            "aaxis": {
             "endlinecolor": "#2a3f5f",
             "gridcolor": "white",
             "linecolor": "white",
             "minorgridcolor": "white",
             "startlinecolor": "#2a3f5f"
            },
            "baxis": {
             "endlinecolor": "#2a3f5f",
             "gridcolor": "white",
             "linecolor": "white",
             "minorgridcolor": "white",
             "startlinecolor": "#2a3f5f"
            },
            "type": "carpet"
           }
          ],
          "choropleth": [
           {
            "colorbar": {
             "outlinewidth": 0,
             "ticks": ""
            },
            "type": "choropleth"
           }
          ],
          "contour": [
           {
            "colorbar": {
             "outlinewidth": 0,
             "ticks": ""
            },
            "colorscale": [
             [
              0,
              "#0d0887"
             ],
             [
              0.1111111111111111,
              "#46039f"
             ],
             [
              0.2222222222222222,
              "#7201a8"
             ],
             [
              0.3333333333333333,
              "#9c179e"
             ],
             [
              0.4444444444444444,
              "#bd3786"
             ],
             [
              0.5555555555555556,
              "#d8576b"
             ],
             [
              0.6666666666666666,
              "#ed7953"
             ],
             [
              0.7777777777777778,
              "#fb9f3a"
             ],
             [
              0.8888888888888888,
              "#fdca26"
             ],
             [
              1,
              "#f0f921"
             ]
            ],
            "type": "contour"
           }
          ],
          "contourcarpet": [
           {
            "colorbar": {
             "outlinewidth": 0,
             "ticks": ""
            },
            "type": "contourcarpet"
           }
          ],
          "heatmap": [
           {
            "colorbar": {
             "outlinewidth": 0,
             "ticks": ""
            },
            "colorscale": [
             [
              0,
              "#0d0887"
             ],
             [
              0.1111111111111111,
              "#46039f"
             ],
             [
              0.2222222222222222,
              "#7201a8"
             ],
             [
              0.3333333333333333,
              "#9c179e"
             ],
             [
              0.4444444444444444,
              "#bd3786"
             ],
             [
              0.5555555555555556,
              "#d8576b"
             ],
             [
              0.6666666666666666,
              "#ed7953"
             ],
             [
              0.7777777777777778,
              "#fb9f3a"
             ],
             [
              0.8888888888888888,
              "#fdca26"
             ],
             [
              1,
              "#f0f921"
             ]
            ],
            "type": "heatmap"
           }
          ],
          "heatmapgl": [
           {
            "colorbar": {
             "outlinewidth": 0,
             "ticks": ""
            },
            "colorscale": [
             [
              0,
              "#0d0887"
             ],
             [
              0.1111111111111111,
              "#46039f"
             ],
             [
              0.2222222222222222,
              "#7201a8"
             ],
             [
              0.3333333333333333,
              "#9c179e"
             ],
             [
              0.4444444444444444,
              "#bd3786"
             ],
             [
              0.5555555555555556,
              "#d8576b"
             ],
             [
              0.6666666666666666,
              "#ed7953"
             ],
             [
              0.7777777777777778,
              "#fb9f3a"
             ],
             [
              0.8888888888888888,
              "#fdca26"
             ],
             [
              1,
              "#f0f921"
             ]
            ],
            "type": "heatmapgl"
           }
          ],
          "histogram": [
           {
            "marker": {
             "colorbar": {
              "outlinewidth": 0,
              "ticks": ""
             }
            },
            "type": "histogram"
           }
          ],
          "histogram2d": [
           {
            "colorbar": {
             "outlinewidth": 0,
             "ticks": ""
            },
            "colorscale": [
             [
              0,
              "#0d0887"
             ],
             [
              0.1111111111111111,
              "#46039f"
             ],
             [
              0.2222222222222222,
              "#7201a8"
             ],
             [
              0.3333333333333333,
              "#9c179e"
             ],
             [
              0.4444444444444444,
              "#bd3786"
             ],
             [
              0.5555555555555556,
              "#d8576b"
             ],
             [
              0.6666666666666666,
              "#ed7953"
             ],
             [
              0.7777777777777778,
              "#fb9f3a"
             ],
             [
              0.8888888888888888,
              "#fdca26"
             ],
             [
              1,
              "#f0f921"
             ]
            ],
            "type": "histogram2d"
           }
          ],
          "histogram2dcontour": [
           {
            "colorbar": {
             "outlinewidth": 0,
             "ticks": ""
            },
            "colorscale": [
             [
              0,
              "#0d0887"
             ],
             [
              0.1111111111111111,
              "#46039f"
             ],
             [
              0.2222222222222222,
              "#7201a8"
             ],
             [
              0.3333333333333333,
              "#9c179e"
             ],
             [
              0.4444444444444444,
              "#bd3786"
             ],
             [
              0.5555555555555556,
              "#d8576b"
             ],
             [
              0.6666666666666666,
              "#ed7953"
             ],
             [
              0.7777777777777778,
              "#fb9f3a"
             ],
             [
              0.8888888888888888,
              "#fdca26"
             ],
             [
              1,
              "#f0f921"
             ]
            ],
            "type": "histogram2dcontour"
           }
          ],
          "mesh3d": [
           {
            "colorbar": {
             "outlinewidth": 0,
             "ticks": ""
            },
            "type": "mesh3d"
           }
          ],
          "parcoords": [
           {
            "line": {
             "colorbar": {
              "outlinewidth": 0,
              "ticks": ""
             }
            },
            "type": "parcoords"
           }
          ],
          "pie": [
           {
            "automargin": true,
            "type": "pie"
           }
          ],
          "scatter": [
           {
            "marker": {
             "colorbar": {
              "outlinewidth": 0,
              "ticks": ""
             }
            },
            "type": "scatter"
           }
          ],
          "scatter3d": [
           {
            "line": {
             "colorbar": {
              "outlinewidth": 0,
              "ticks": ""
             }
            },
            "marker": {
             "colorbar": {
              "outlinewidth": 0,
              "ticks": ""
             }
            },
            "type": "scatter3d"
           }
          ],
          "scattercarpet": [
           {
            "marker": {
             "colorbar": {
              "outlinewidth": 0,
              "ticks": ""
             }
            },
            "type": "scattercarpet"
           }
          ],
          "scattergeo": [
           {
            "marker": {
             "colorbar": {
              "outlinewidth": 0,
              "ticks": ""
             }
            },
            "type": "scattergeo"
           }
          ],
          "scattergl": [
           {
            "marker": {
             "colorbar": {
              "outlinewidth": 0,
              "ticks": ""
             }
            },
            "type": "scattergl"
           }
          ],
          "scattermapbox": [
           {
            "marker": {
             "colorbar": {
              "outlinewidth": 0,
              "ticks": ""
             }
            },
            "type": "scattermapbox"
           }
          ],
          "scatterpolar": [
           {
            "marker": {
             "colorbar": {
              "outlinewidth": 0,
              "ticks": ""
             }
            },
            "type": "scatterpolar"
           }
          ],
          "scatterpolargl": [
           {
            "marker": {
             "colorbar": {
              "outlinewidth": 0,
              "ticks": ""
             }
            },
            "type": "scatterpolargl"
           }
          ],
          "scatterternary": [
           {
            "marker": {
             "colorbar": {
              "outlinewidth": 0,
              "ticks": ""
             }
            },
            "type": "scatterternary"
           }
          ],
          "surface": [
           {
            "colorbar": {
             "outlinewidth": 0,
             "ticks": ""
            },
            "colorscale": [
             [
              0,
              "#0d0887"
             ],
             [
              0.1111111111111111,
              "#46039f"
             ],
             [
              0.2222222222222222,
              "#7201a8"
             ],
             [
              0.3333333333333333,
              "#9c179e"
             ],
             [
              0.4444444444444444,
              "#bd3786"
             ],
             [
              0.5555555555555556,
              "#d8576b"
             ],
             [
              0.6666666666666666,
              "#ed7953"
             ],
             [
              0.7777777777777778,
              "#fb9f3a"
             ],
             [
              0.8888888888888888,
              "#fdca26"
             ],
             [
              1,
              "#f0f921"
             ]
            ],
            "type": "surface"
           }
          ],
          "table": [
           {
            "cells": {
             "fill": {
              "color": "#EBF0F8"
             },
             "line": {
              "color": "white"
             }
            },
            "header": {
             "fill": {
              "color": "#C8D4E3"
             },
             "line": {
              "color": "white"
             }
            },
            "type": "table"
           }
          ]
         },
         "layout": {
          "annotationdefaults": {
           "arrowcolor": "#2a3f5f",
           "arrowhead": 0,
           "arrowwidth": 1
          },
          "autotypenumbers": "strict",
          "coloraxis": {
           "colorbar": {
            "outlinewidth": 0,
            "ticks": ""
           }
          },
          "colorscale": {
           "diverging": [
            [
             0,
             "#8e0152"
            ],
            [
             0.1,
             "#c51b7d"
            ],
            [
             0.2,
             "#de77ae"
            ],
            [
             0.3,
             "#f1b6da"
            ],
            [
             0.4,
             "#fde0ef"
            ],
            [
             0.5,
             "#f7f7f7"
            ],
            [
             0.6,
             "#e6f5d0"
            ],
            [
             0.7,
             "#b8e186"
            ],
            [
             0.8,
             "#7fbc41"
            ],
            [
             0.9,
             "#4d9221"
            ],
            [
             1,
             "#276419"
            ]
           ],
           "sequential": [
            [
             0,
             "#0d0887"
            ],
            [
             0.1111111111111111,
             "#46039f"
            ],
            [
             0.2222222222222222,
             "#7201a8"
            ],
            [
             0.3333333333333333,
             "#9c179e"
            ],
            [
             0.4444444444444444,
             "#bd3786"
            ],
            [
             0.5555555555555556,
             "#d8576b"
            ],
            [
             0.6666666666666666,
             "#ed7953"
            ],
            [
             0.7777777777777778,
             "#fb9f3a"
            ],
            [
             0.8888888888888888,
             "#fdca26"
            ],
            [
             1,
             "#f0f921"
            ]
           ],
           "sequentialminus": [
            [
             0,
             "#0d0887"
            ],
            [
             0.1111111111111111,
             "#46039f"
            ],
            [
             0.2222222222222222,
             "#7201a8"
            ],
            [
             0.3333333333333333,
             "#9c179e"
            ],
            [
             0.4444444444444444,
             "#bd3786"
            ],
            [
             0.5555555555555556,
             "#d8576b"
            ],
            [
             0.6666666666666666,
             "#ed7953"
            ],
            [
             0.7777777777777778,
             "#fb9f3a"
            ],
            [
             0.8888888888888888,
             "#fdca26"
            ],
            [
             1,
             "#f0f921"
            ]
           ]
          },
          "colorway": [
           "#636efa",
           "#EF553B",
           "#00cc96",
           "#ab63fa",
           "#FFA15A",
           "#19d3f3",
           "#FF6692",
           "#B6E880",
           "#FF97FF",
           "#FECB52"
          ],
          "font": {
           "color": "#2a3f5f"
          },
          "geo": {
           "bgcolor": "white",
           "lakecolor": "white",
           "landcolor": "#E5ECF6",
           "showlakes": true,
           "showland": true,
           "subunitcolor": "white"
          },
          "hoverlabel": {
           "align": "left"
          },
          "hovermode": "closest",
          "mapbox": {
           "style": "light"
          },
          "paper_bgcolor": "white",
          "plot_bgcolor": "#E5ECF6",
          "polar": {
           "angularaxis": {
            "gridcolor": "white",
            "linecolor": "white",
            "ticks": ""
           },
           "bgcolor": "#E5ECF6",
           "radialaxis": {
            "gridcolor": "white",
            "linecolor": "white",
            "ticks": ""
           }
          },
          "scene": {
           "xaxis": {
            "backgroundcolor": "#E5ECF6",
            "gridcolor": "white",
            "gridwidth": 2,
            "linecolor": "white",
            "showbackground": true,
            "ticks": "",
            "zerolinecolor": "white"
           },
           "yaxis": {
            "backgroundcolor": "#E5ECF6",
            "gridcolor": "white",
            "gridwidth": 2,
            "linecolor": "white",
            "showbackground": true,
            "ticks": "",
            "zerolinecolor": "white"
           },
           "zaxis": {
            "backgroundcolor": "#E5ECF6",
            "gridcolor": "white",
            "gridwidth": 2,
            "linecolor": "white",
            "showbackground": true,
            "ticks": "",
            "zerolinecolor": "white"
           }
          },
          "shapedefaults": {
           "line": {
            "color": "#2a3f5f"
           }
          },
          "ternary": {
           "aaxis": {
            "gridcolor": "white",
            "linecolor": "white",
            "ticks": ""
           },
           "baxis": {
            "gridcolor": "white",
            "linecolor": "white",
            "ticks": ""
           },
           "bgcolor": "#E5ECF6",
           "caxis": {
            "gridcolor": "white",
            "linecolor": "white",
            "ticks": ""
           }
          },
          "title": {
           "x": 0.05
          },
          "xaxis": {
           "automargin": true,
           "gridcolor": "white",
           "linecolor": "white",
           "ticks": "",
           "title": {
            "standoff": 15
           },
           "zerolinecolor": "white",
           "zerolinewidth": 2
          },
          "yaxis": {
           "automargin": true,
           "gridcolor": "white",
           "linecolor": "white",
           "ticks": "",
           "title": {
            "standoff": 15
           },
           "zerolinecolor": "white",
           "zerolinewidth": 2
          }
         }
        },
        "width": 500,
        "xaxis": {
         "type": "category"
        }
       }
      },
      "image/png": "[encoded data removed]",
      "image/svg+xml": [
       "<svg class=\"main-svg\" xmlns=\"http://www.w3.org/2000/svg\" xmlns:xlink=\"http://www.w3.org/1999/xlink\" width=\"700\" height=\"500\" style=\"\" viewBox=\"0 0 700 500\"><rect x=\"0\" y=\"0\" width=\"700\" height=\"500\" style=\"fill: rgb(255, 255, 255); fill-opacity: 1;\"/><defs id=\"defs-0e2ba0\"><g class=\"clips\"><clipPath id=\"clip0e2ba0xyplot\" class=\"plotclip\"><rect width=\"636\" height=\"438\"/></clipPath><clipPath class=\"axesclip\" id=\"clip0e2ba0x\"><rect x=\"63\" y=\"0\" width=\"636\" height=\"500\"/></clipPath><clipPath class=\"axesclip\" id=\"clip0e2ba0y\"><rect x=\"0\" y=\"13\" width=\"700\" height=\"438\"/></clipPath><clipPath class=\"axesclip\" id=\"clip0e2ba0xy\"><rect x=\"63\" y=\"13\" width=\"636\" height=\"438\"/></clipPath></g><g class=\"gradients\"/></defs><g class=\"bglayer\"><rect class=\"bg\" x=\"59\" y=\"9\" width=\"644\" height=\"446\" style=\"fill: rgb(229, 236, 246); fill-opacity: 1; stroke-width: 0;\"/></g><g class=\"layer-below\"><g class=\"imagelayer\"/><g class=\"shapelayer\"/></g><g class=\"cartesianlayer\"><g class=\"subplot xy\"><g class=\"layer-subplot\"><g class=\"shapelayer\"/><g class=\"imagelayer\"/></g><g class=\"gridlayer\"><g class=\"x\"/><g class=\"y\"><path class=\"ygrid crisp\" transform=\"translate(0,389.81)\" d=\"M63,0h636\" style=\"stroke: rgb(255, 255, 255); stroke-opacity: 1; stroke-width: 1px;\"/><path class=\"ygrid crisp\" transform=\"translate(0,328.62)\" d=\"M63,0h636\" style=\"stroke: rgb(255, 255, 255); stroke-opacity: 1; stroke-width: 1px;\"/><path class=\"ygrid crisp\" transform=\"translate(0,267.43)\" d=\"M63,0h636\" style=\"stroke: rgb(255, 255, 255); stroke-opacity: 1; stroke-width: 1px;\"/><path class=\"ygrid crisp\" transform=\"translate(0,206.24)\" d=\"M63,0h636\" style=\"stroke: rgb(255, 255, 255); stroke-opacity: 1; stroke-width: 1px;\"/><path class=\"ygrid crisp\" transform=\"translate(0,145.04)\" d=\"M63,0h636\" style=\"stroke: rgb(255, 255, 255); stroke-opacity: 1; stroke-width: 1px;\"/><path class=\"ygrid crisp\" transform=\"translate(0,83.85)\" d=\"M63,0h636\" style=\"stroke: rgb(255, 255, 255); stroke-opacity: 1; stroke-width: 1px;\"/><path class=\"ygrid crisp\" transform=\"translate(0,22.66)\" d=\"M63,0h636\" style=\"stroke: rgb(255, 255, 255); stroke-opacity: 1; stroke-width: 1px;\"/></g></g><g class=\"zerolinelayer\"><path class=\"yzl zl crisp\" transform=\"translate(0,451)\" d=\"M63,0h636\" style=\"stroke: rgb(255, 255, 255); stroke-opacity: 1; stroke-width: 2px;\"/></g><path class=\"xlines-below\"/><path class=\"ylines-below\"/><g class=\"overlines-below\"/><g class=\"xaxislayer-below\"/><g class=\"yaxislayer-below\"/><g class=\"overaxes-below\"/><g class=\"plot\" transform=\"translate(63,13)\" clip-path=\"url('#clip0e2ba0xyplot')\"><g class=\"barlayer mlayer\"><g class=\"trace bars\" style=\"opacity: 1;\"><g class=\"points\"><g class=\"point\"><path d=\"M15.9,438V340.09H143.1V438Z\" style=\"vector-effect: non-scaling-stroke; opacity: 1; stroke-width: 0px; fill: rgb(99, 110, 250); fill-opacity: 1;\"/></g><g class=\"point\"><path d=\"M174.9,438V21.9H302.1V438Z\" style=\"vector-effect: non-scaling-stroke; opacity: 1; stroke-width: 0px; fill: rgb(99, 110, 250); fill-opacity: 1;\"/></g><g class=\"point\"><path d=\"M333.9,438V346.21H461.1V438Z\" style=\"vector-effect: non-scaling-stroke; opacity: 1; stroke-width: 0px; fill: rgb(99, 110, 250); fill-opacity: 1;\"/></g><g class=\"point\"><path d=\"M492.9,438V431.88H620.1V438Z\" style=\"vector-effect: non-scaling-stroke; opacity: 1; stroke-width: 0px; fill: rgb(99, 110, 250); fill-opacity: 1;\"/></g></g></g></g></g><g class=\"overplot\"/><path class=\"xlines-above crisp\" d=\"M0,0\" style=\"fill: none;\"/><path class=\"ylines-above crisp\" d=\"M0,0\" style=\"fill: none;\"/><g class=\"overlines-above\"/><g class=\"xaxislayer-above\"><g class=\"xtick\"><text text-anchor=\"middle\" x=\"0\" y=\"491\" transform=\"translate(142.5,0)\" style=\"font-family: 'Open Sans', verdana, arial, sans-serif; font-size: 35px; fill: rgb(42, 63, 95); fill-opacity: 1; white-space: pre;\">0</text></g><g class=\"xtick\"><text text-anchor=\"middle\" x=\"0\" y=\"491\" transform=\"translate(301.5,0)\" style=\"font-family: 'Open Sans', verdana, arial, sans-serif; font-size: 35px; fill: rgb(42, 63, 95); fill-opacity: 1; white-space: pre;\">1</text></g><g class=\"xtick\"><text text-anchor=\"middle\" x=\"0\" y=\"491\" transform=\"translate(460.5,0)\" style=\"font-family: 'Open Sans', verdana, arial, sans-serif; font-size: 35px; fill: rgb(42, 63, 95); fill-opacity: 1; white-space: pre;\">2</text></g><g class=\"xtick\"><text text-anchor=\"middle\" x=\"0\" y=\"491\" transform=\"translate(619.5,0)\" style=\"font-family: 'Open Sans', verdana, arial, sans-serif; font-size: 35px; fill: rgb(42, 63, 95); fill-opacity: 1; white-space: pre;\">3</text></g></g><g class=\"yaxislayer-above\"><g class=\"ytick\"><text text-anchor=\"end\" x=\"58\" y=\"12.25\" transform=\"translate(0,451)\" style=\"font-family: 'Open Sans', verdana, arial, sans-serif; font-size: 35px; fill: rgb(42, 63, 95); fill-opacity: 1; white-space: pre;\">0</text></g><g class=\"ytick\"><text text-anchor=\"end\" x=\"58\" y=\"12.25\" transform=\"translate(0,389.81)\" style=\"font-family: 'Open Sans', verdana, arial, sans-serif; font-size: 35px; fill: rgb(42, 63, 95); fill-opacity: 1; white-space: pre;\">0.1</text></g><g class=\"ytick\"><text text-anchor=\"end\" x=\"58\" y=\"12.25\" transform=\"translate(0,328.62)\" style=\"font-family: 'Open Sans', verdana, arial, sans-serif; font-size: 35px; fill: rgb(42, 63, 95); fill-opacity: 1; white-space: pre;\">0.2</text></g><g class=\"ytick\"><text text-anchor=\"end\" x=\"58\" y=\"12.25\" transform=\"translate(0,267.43)\" style=\"font-family: 'Open Sans', verdana, arial, sans-serif; font-size: 35px; fill: rgb(42, 63, 95); fill-opacity: 1; white-space: pre;\">0.3</text></g><g class=\"ytick\"><text text-anchor=\"end\" x=\"58\" y=\"12.25\" transform=\"translate(0,206.24)\" style=\"font-family: 'Open Sans', verdana, arial, sans-serif; font-size: 35px; fill: rgb(42, 63, 95); fill-opacity: 1; white-space: pre;\">0.4</text></g><g class=\"ytick\"><text text-anchor=\"end\" x=\"58\" y=\"12.25\" transform=\"translate(0,145.04)\" style=\"font-family: 'Open Sans', verdana, arial, sans-serif; font-size: 35px; fill: rgb(42, 63, 95); fill-opacity: 1; white-space: pre;\">0.5</text></g><g class=\"ytick\"><text text-anchor=\"end\" x=\"58\" y=\"12.25\" transform=\"translate(0,83.85)\" style=\"font-family: 'Open Sans', verdana, arial, sans-serif; font-size: 35px; fill: rgb(42, 63, 95); fill-opacity: 1; white-space: pre;\">0.6</text></g><g class=\"ytick\"><text text-anchor=\"end\" x=\"58\" y=\"12.25\" transform=\"translate(0,22.66)\" style=\"font-family: 'Open Sans', verdana, arial, sans-serif; font-size: 35px; fill: rgb(42, 63, 95); fill-opacity: 1; white-space: pre;\">0.7</text></g></g><g class=\"overaxes-above\"/></g></g><g class=\"polarlayer\"/><g class=\"ternarylayer\"/><g class=\"geolayer\"/><g class=\"funnelarealayer\"/><g class=\"pielayer\"/><g class=\"treemaplayer\"/><g class=\"sunburstlayer\"/><g class=\"glimages\"/><defs id=\"topdefs-0e2ba0\"><g class=\"clips\"/></defs><g class=\"layer-above\"><g class=\"imagelayer\"/><g class=\"shapelayer\"/></g><g class=\"infolayer\"><g class=\"g-gtitle\"/><g class=\"g-xtitle\"/><g class=\"g-ytitle\"/></g></svg>"
      ],
      "text/html": [
       "<div\n",
       "    class=\"webio-mountpoint\"\n",
       "    data-webio-mountpoint=\"17861952104704504839\"\n",
       ">\n",
       "    <script>\n",
       "    (function(){\n",
       "    // Some integrations (namely, IJulia/Jupyter) use an alternate render pathway than\n",
       "    // just putting the html on the page. If WebIO isn't defined, then it's pretty likely\n",
       "    // that we're in one of those situations and the integration just isn't installed\n",
       "    // correctly.\n",
       "    if (typeof window.WebIO === \"undefined\") {\n",
       "        document\n",
       "            .querySelector('[data-webio-mountpoint=\"17861952104704504839\"]')\n",
       "            .innerHTML = (\n",
       "                '<div style=\"padding: 1em; background-color: #f8d6da; border: 1px solid #f5c6cb; font-weight: bold;\">' +\n",
       "                '<p><strong>WebIO not detected.</strong></p>' +\n",
       "                '<p>Please read ' +\n",
       "                '<a href=\"https://juliagizmos.github.io/WebIO.jl/latest/troubleshooting/not-detected/\" target=\"_blank\">the troubleshooting guide</a> ' +\n",
       "                'for more information on how to resolve this issue.</p>' +\n",
       "                '<p><a href=\"https://juliagizmos.github.io/WebIO.jl/latest/troubleshooting/not-detected/\" target=\"_blank\">https://juliagizmos.github.io/WebIO.jl/latest/troubleshooting/not-detected/</a></p>' +\n",
       "                '</div>'\n",
       "            );\n",
       "        return;\n",
       "    }\n",
       "    WebIO.mount(\n",
       "        document.querySelector('[data-webio-mountpoint=\"17861952104704504839\"]'),\n",
       "        {\"props\":{},\"nodeType\":\"Scope\",\"type\":\"node\",\"instanceArgs\":{\"imports\":{\"data\":[{\"name\":\"Plotly\",\"type\":\"js\",\"url\":\"\\/assetserver\\/6ce5a5e5b28ac6ffdcfcd49d44ebd4d6dbe36ed4-plotly.min.js\"},{\"name\":null,\"type\":\"js\",\"url\":\"\\/assetserver\\/6f85150d15f92ccf38dc2254479a8612ce6d040e-plotly_webio.bundle.js\"}],\"type\":\"async_block\"},\"id\":\"15484735260957235017\",\"handlers\":{\"_toImage\":[\"(function (options){return this.Plotly.toImage(this.plotElem,options).then((function (data){return WebIO.setval({\\\"name\\\":\\\"image\\\",\\\"scope\\\":\\\"15484735260957235017\\\",\\\"id\\\":\\\"35\\\",\\\"type\\\":\\\"observable\\\"},data)}))})\"],\"__get_gd_contents\":[\"(function (prop){prop==\\\"data\\\" ? (WebIO.setval({\\\"name\\\":\\\"__gd_contents\\\",\\\"scope\\\":\\\"15484735260957235017\\\",\\\"id\\\":\\\"36\\\",\\\"type\\\":\\\"observable\\\"},this.plotElem.data)) : undefined; return prop==\\\"layout\\\" ? (WebIO.setval({\\\"name\\\":\\\"__gd_contents\\\",\\\"scope\\\":\\\"15484735260957235017\\\",\\\"id\\\":\\\"36\\\",\\\"type\\\":\\\"observable\\\"},this.plotElem.layout)) : undefined})\"],\"_downloadImage\":[\"(function (options){return this.Plotly.downloadImage(this.plotElem,options)})\"],\"_commands\":[\"(function (args){var fn=args.shift(); var elem=this.plotElem; var Plotly=this.Plotly; args.unshift(elem); return Plotly[fn].apply(this,args)})\"]},\"systemjs_options\":null,\"mount_callbacks\":[\"function () {\\n    var handler = ((function (Plotly,PlotlyWebIO){PlotlyWebIO.init(WebIO); var gd=this.dom.querySelector(\\\"#plot-a66000d0-28ee-4e4a-b9d1-d2940651ec72\\\"); this.plotElem=gd; this.Plotly=Plotly; (window.Blink!==undefined) ? (gd.style.width=\\\"100%\\\", gd.style.height=\\\"100vh\\\", gd.style.marginLeft=\\\"0%\\\", gd.style.marginTop=\\\"0vh\\\") : undefined; window.onresize=(function (){return Plotly.Plots.resize(gd)}); Plotly.newPlot(gd,[{\\\"type\\\":\\\"histogram\\\",\\\"histnorm\\\":\\\"probability density\\\",\\\"x\\\":[\\\"0\\\",\\\"0\\\",\\\"0\\\",\\\"0\\\",\\\"0\\\",\\\"0\\\",\\\"0\\\",\\\"0\\\",\\\"0\\\",\\\"0\\\",\\\"0\\\",\\\"0\\\",\\\"0\\\",\\\"0\\\",\\\"0\\\",\\\"0\\\",\\\"1\\\",\\\"1\\\",\\\"1\\\",\\\"1\\\",\\\"1\\\",\\\"1\\\",\\\"1\\\",\\\"1\\\",\\\"1\\\",\\\"1\\\",\\\"1\\\",\\\"1\\\",\\\"1\\\",\\\"1\\\",\\\"1\\\",\\\"1\\\",\\\"1\\\",\\\"1\\\",\\\"1\\\",\\\"1\\\",\\\"1\\\",\\\"1\\\",\\\"1\\\",\\\"1\\\",\\\"1\\\",\\\"1\\\",\\\"1\\\",\\\"1\\\",\\\"1\\\",\\\"1\\\",\\\"1\\\",\\\"1\\\",\\\"1\\\",\\\"1\\\",\\\"1\\\",\\\"1\\\",\\\"1\\\",\\\"1\\\",\\\"1\\\",\\\"1\\\",\\\"1\\\",\\\"1\\\",\\\"1\\\",\\\"1\\\",\\\"1\\\",\\\"1\\\",\\\"1\\\",\\\"1\\\",\\\"1\\\",\\\"1\\\",\\\"1\\\",\\\"1\\\",\\\"1\\\",\\\"1\\\",\\\"1\\\",\\\"1\\\",\\\"1\\\",\\\"1\\\",\\\"1\\\",\\\"1\\\",\\\"1\\\",\\\"1\\\",\\\"1\\\",\\\"1\\\",\\\"1\\\",\\\"1\\\",\\\"1\\\",\\\"1\\\",\\\"2\\\",\\\"2\\\",\\\"2\\\",\\\"2\\\",\\\"2\\\",\\\"2\\\",\\\"2\\\",\\\"2\\\",\\\"2\\\",\\\"2\\\",\\\"2\\\",\\\"2\\\",\\\"2\\\",\\\"2\\\",\\\"2\\\",\\\"3\\\"]}],{\\\"autosize\\\":false,\\\"xaxis\\\":{\\\"type\\\":\\\"category\\\"},\\\"font\\\":{\\\"size\\\":35},\\\"template\\\":{\\\"layout\\\":{\\\"coloraxis\\\":{\\\"colorbar\\\":{\\\"ticks\\\":\\\"\\\",\\\"outlinewidth\\\":0}},\\\"xaxis\\\":{\\\"gridcolor\\\":\\\"white\\\",\\\"zerolinewidth\\\":2,\\\"title\\\":{\\\"standoff\\\":15},\\\"ticks\\\":\\\"\\\",\\\"zerolinecolor\\\":\\\"white\\\",\\\"automargin\\\":true,\\\"linecolor\\\":\\\"white\\\"},\\\"hovermode\\\":\\\"closest\\\",\\\"paper_bgcolor\\\":\\\"white\\\",\\\"geo\\\":{\\\"showlakes\\\":true,\\\"showland\\\":true,\\\"landcolor\\\":\\\"#E5ECF6\\\",\\\"bgcolor\\\":\\\"white\\\",\\\"subunitcolor\\\":\\\"white\\\",\\\"lakecolor\\\":\\\"white\\\"},\\\"colorscale\\\":{\\\"sequential\\\":[[0.0,\\\"#0d0887\\\"],[0.1111111111111111,\\\"#46039f\\\"],[0.2222222222222222,\\\"#7201a8\\\"],[0.3333333333333333,\\\"#9c179e\\\"],[0.4444444444444444,\\\"#bd3786\\\"],[0.5555555555555556,\\\"#d8576b\\\"],[0.6666666666666666,\\\"#ed7953\\\"],[0.7777777777777778,\\\"#fb9f3a\\\"],[0.8888888888888888,\\\"#fdca26\\\"],[1.0,\\\"#f0f921\\\"]],\\\"diverging\\\":[[0,\\\"#8e0152\\\"],[0.1,\\\"#c51b7d\\\"],[0.2,\\\"#de77ae\\\"],[0.3,\\\"#f1b6da\\\"],[0.4,\\\"#fde0ef\\\"],[0.5,\\\"#f7f7f7\\\"],[0.6,\\\"#e6f5d0\\\"],[0.7,\\\"#b8e186\\\"],[0.8,\\\"#7fbc41\\\"],[0.9,\\\"#4d9221\\\"],[1,\\\"#276419\\\"]],\\\"sequentialminus\\\":[[0.0,\\\"#0d0887\\\"],[0.1111111111111111,\\\"#46039f\\\"],[0.2222222222222222,\\\"#7201a8\\\"],[0.3333333333333333,\\\"#9c179e\\\"],[0.4444444444444444,\\\"#bd3786\\\"],[0.5555555555555556,\\\"#d8576b\\\"],[0.6666666666666666,\\\"#ed7953\\\"],[0.7777777777777778,\\\"#fb9f3a\\\"],[0.8888888888888888,\\\"#fdca26\\\"],[1.0,\\\"#f0f921\\\"]]},\\\"yaxis\\\":{\\\"gridcolor\\\":\\\"white\\\",\\\"zerolinewidth\\\":2,\\\"title\\\":{\\\"standoff\\\":15},\\\"ticks\\\":\\\"\\\",\\\"zerolinecolor\\\":\\\"white\\\",\\\"automargin\\\":true,\\\"linecolor\\\":\\\"white\\\"},\\\"shapedefaults\\\":{\\\"line\\\":{\\\"color\\\":\\\"#2a3f5f\\\"}},\\\"hoverlabel\\\":{\\\"align\\\":\\\"left\\\"},\\\"mapbox\\\":{\\\"style\\\":\\\"light\\\"},\\\"polar\\\":{\\\"angularaxis\\\":{\\\"gridcolor\\\":\\\"white\\\",\\\"ticks\\\":\\\"\\\",\\\"linecolor\\\":\\\"white\\\"},\\\"bgcolor\\\":\\\"#E5ECF6\\\",\\\"radialaxis\\\":{\\\"gridcolor\\\":\\\"white\\\",\\\"ticks\\\":\\\"\\\",\\\"linecolor\\\":\\\"white\\\"}},\\\"autotypenumbers\\\":\\\"strict\\\",\\\"font\\\":{\\\"color\\\":\\\"#2a3f5f\\\"},\\\"ternary\\\":{\\\"baxis\\\":{\\\"gridcolor\\\":\\\"white\\\",\\\"ticks\\\":\\\"\\\",\\\"linecolor\\\":\\\"white\\\"},\\\"bgcolor\\\":\\\"#E5ECF6\\\",\\\"caxis\\\":{\\\"gridcolor\\\":\\\"white\\\",\\\"ticks\\\":\\\"\\\",\\\"linecolor\\\":\\\"white\\\"},\\\"aaxis\\\":{\\\"gridcolor\\\":\\\"white\\\",\\\"ticks\\\":\\\"\\\",\\\"linecolor\\\":\\\"white\\\"}},\\\"annotationdefaults\\\":{\\\"arrowhead\\\":0,\\\"arrowwidth\\\":1,\\\"arrowcolor\\\":\\\"#2a3f5f\\\"},\\\"plot_bgcolor\\\":\\\"#E5ECF6\\\",\\\"title\\\":{\\\"x\\\":0.05},\\\"scene\\\":{\\\"xaxis\\\":{\\\"gridcolor\\\":\\\"white\\\",\\\"gridwidth\\\":2,\\\"backgroundcolor\\\":\\\"#E5ECF6\\\",\\\"ticks\\\":\\\"\\\",\\\"showbackground\\\":true,\\\"zerolinecolor\\\":\\\"white\\\",\\\"linecolor\\\":\\\"white\\\"},\\\"zaxis\\\":{\\\"gridcolor\\\":\\\"white\\\",\\\"gridwidth\\\":2,\\\"backgroundcolor\\\":\\\"#E5ECF6\\\",\\\"ticks\\\":\\\"\\\",\\\"showbackground\\\":true,\\\"zerolinecolor\\\":\\\"white\\\",\\\"linecolor\\\":\\\"white\\\"},\\\"yaxis\\\":{\\\"gridcolor\\\":\\\"white\\\",\\\"gridwidth\\\":2,\\\"backgroundcolor\\\":\\\"#E5ECF6\\\",\\\"ticks\\\":\\\"\\\",\\\"showbackground\\\":true,\\\"zerolinecolor\\\":\\\"white\\\",\\\"linecolor\\\":\\\"white\\\"}},\\\"colorway\\\":[\\\"#636efa\\\",\\\"#EF553B\\\",\\\"#00cc96\\\",\\\"#ab63fa\\\",\\\"#FFA15A\\\",\\\"#19d3f3\\\",\\\"#FF6692\\\",\\\"#B6E880\\\",\\\"#FF97FF\\\",\\\"#FECB52\\\"]},\\\"data\\\":{\\\"barpolar\\\":[{\\\"type\\\":\\\"barpolar\\\",\\\"marker\\\":{\\\"line\\\":{\\\"color\\\":\\\"#E5ECF6\\\",\\\"width\\\":0.5}}}],\\\"carpet\\\":[{\\\"aaxis\\\":{\\\"gridcolor\\\":\\\"white\\\",\\\"endlinecolor\\\":\\\"#2a3f5f\\\",\\\"minorgridcolor\\\":\\\"white\\\",\\\"startlinecolor\\\":\\\"#2a3f5f\\\",\\\"linecolor\\\":\\\"white\\\"},\\\"type\\\":\\\"carpet\\\",\\\"baxis\\\":{\\\"gridcolor\\\":\\\"white\\\",\\\"endlinecolor\\\":\\\"#2a3f5f\\\",\\\"minorgridcolor\\\":\\\"white\\\",\\\"startlinecolor\\\":\\\"#2a3f5f\\\",\\\"linecolor\\\":\\\"white\\\"}}],\\\"scatterpolar\\\":[{\\\"type\\\":\\\"scatterpolar\\\",\\\"marker\\\":{\\\"colorbar\\\":{\\\"ticks\\\":\\\"\\\",\\\"outlinewidth\\\":0}}}],\\\"parcoords\\\":[{\\\"line\\\":{\\\"colorbar\\\":{\\\"ticks\\\":\\\"\\\",\\\"outlinewidth\\\":0}},\\\"type\\\":\\\"parcoords\\\"}],\\\"scatter\\\":[{\\\"type\\\":\\\"scatter\\\",\\\"marker\\\":{\\\"colorbar\\\":{\\\"ticks\\\":\\\"\\\",\\\"outlinewidth\\\":0}}}],\\\"histogram2dcontour\\\":[{\\\"colorbar\\\":{\\\"ticks\\\":\\\"\\\",\\\"outlinewidth\\\":0},\\\"type\\\":\\\"histogram2dcontour\\\",\\\"colorscale\\\":[[0.0,\\\"#0d0887\\\"],[0.1111111111111111,\\\"#46039f\\\"],[0.2222222222222222,\\\"#7201a8\\\"],[0.3333333333333333,\\\"#9c179e\\\"],[0.4444444444444444,\\\"#bd3786\\\"],[0.5555555555555556,\\\"#d8576b\\\"],[0.6666666666666666,\\\"#ed7953\\\"],[0.7777777777777778,\\\"#fb9f3a\\\"],[0.8888888888888888,\\\"#fdca26\\\"],[1.0,\\\"#f0f921\\\"]]}],\\\"contour\\\":[{\\\"colorbar\\\":{\\\"ticks\\\":\\\"\\\",\\\"outlinewidth\\\":0},\\\"type\\\":\\\"contour\\\",\\\"colorscale\\\":[[0.0,\\\"#0d0887\\\"],[0.1111111111111111,\\\"#46039f\\\"],[0.2222222222222222,\\\"#7201a8\\\"],[0.3333333333333333,\\\"#9c179e\\\"],[0.4444444444444444,\\\"#bd3786\\\"],[0.5555555555555556,\\\"#d8576b\\\"],[0.6666666666666666,\\\"#ed7953\\\"],[0.7777777777777778,\\\"#fb9f3a\\\"],[0.8888888888888888,\\\"#fdca26\\\"],[1.0,\\\"#f0f921\\\"]]}],\\\"scattercarpet\\\":[{\\\"type\\\":\\\"scattercarpet\\\",\\\"marker\\\":{\\\"colorbar\\\":{\\\"ticks\\\":\\\"\\\",\\\"outlinewidth\\\":0}}}],\\\"mesh3d\\\":[{\\\"colorbar\\\":{\\\"ticks\\\":\\\"\\\",\\\"outlinewidth\\\":0},\\\"type\\\":\\\"mesh3d\\\"}],\\\"surface\\\":[{\\\"colorbar\\\":{\\\"ticks\\\":\\\"\\\",\\\"outlinewidth\\\":0},\\\"type\\\":\\\"surface\\\",\\\"colorscale\\\":[[0.0,\\\"#0d0887\\\"],[0.1111111111111111,\\\"#46039f\\\"],[0.2222222222222222,\\\"#7201a8\\\"],[0.3333333333333333,\\\"#9c179e\\\"],[0.4444444444444444,\\\"#bd3786\\\"],[0.5555555555555556,\\\"#d8576b\\\"],[0.6666666666666666,\\\"#ed7953\\\"],[0.7777777777777778,\\\"#fb9f3a\\\"],[0.8888888888888888,\\\"#fdca26\\\"],[1.0,\\\"#f0f921\\\"]]}],\\\"scattermapbox\\\":[{\\\"type\\\":\\\"scattermapbox\\\",\\\"marker\\\":{\\\"colorbar\\\":{\\\"ticks\\\":\\\"\\\",\\\"outlinewidth\\\":0}}}],\\\"scattergeo\\\":[{\\\"type\\\":\\\"scattergeo\\\",\\\"marker\\\":{\\\"colorbar\\\":{\\\"ticks\\\":\\\"\\\",\\\"outlinewidth\\\":0}}}],\\\"histogram\\\":[{\\\"type\\\":\\\"histogram\\\",\\\"marker\\\":{\\\"colorbar\\\":{\\\"ticks\\\":\\\"\\\",\\\"outlinewidth\\\":0}}}],\\\"pie\\\":[{\\\"type\\\":\\\"pie\\\",\\\"automargin\\\":true}],\\\"choropleth\\\":[{\\\"colorbar\\\":{\\\"ticks\\\":\\\"\\\",\\\"outlinewidth\\\":0},\\\"type\\\":\\\"choropleth\\\"}],\\\"heatmapgl\\\":[{\\\"colorbar\\\":{\\\"ticks\\\":\\\"\\\",\\\"outlinewidth\\\":0},\\\"type\\\":\\\"heatmapgl\\\",\\\"colorscale\\\":[[0.0,\\\"#0d0887\\\"],[0.1111111111111111,\\\"#46039f\\\"],[0.2222222222222222,\\\"#7201a8\\\"],[0.3333333333333333,\\\"#9c179e\\\"],[0.4444444444444444,\\\"#bd3786\\\"],[0.5555555555555556,\\\"#d8576b\\\"],[0.6666666666666666,\\\"#ed7953\\\"],[0.7777777777777778,\\\"#fb9f3a\\\"],[0.8888888888888888,\\\"#fdca26\\\"],[1.0,\\\"#f0f921\\\"]]}],\\\"bar\\\":[{\\\"type\\\":\\\"bar\\\",\\\"error_y\\\":{\\\"color\\\":\\\"#2a3f5f\\\"},\\\"error_x\\\":{\\\"color\\\":\\\"#2a3f5f\\\"},\\\"marker\\\":{\\\"line\\\":{\\\"color\\\":\\\"#E5ECF6\\\",\\\"width\\\":0.5}}}],\\\"heatmap\\\":[{\\\"colorbar\\\":{\\\"ticks\\\":\\\"\\\",\\\"outlinewidth\\\":0},\\\"type\\\":\\\"heatmap\\\",\\\"colorscale\\\":[[0.0,\\\"#0d0887\\\"],[0.1111111111111111,\\\"#46039f\\\"],[0.2222222222222222,\\\"#7201a8\\\"],[0.3333333333333333,\\\"#9c179e\\\"],[0.4444444444444444,\\\"#bd3786\\\"],[0.5555555555555556,\\\"#d8576b\\\"],[0.6666666666666666,\\\"#ed7953\\\"],[0.7777777777777778,\\\"#fb9f3a\\\"],[0.8888888888888888,\\\"#fdca26\\\"],[1.0,\\\"#f0f921\\\"]]}],\\\"contourcarpet\\\":[{\\\"colorbar\\\":{\\\"ticks\\\":\\\"\\\",\\\"outlinewidth\\\":0},\\\"type\\\":\\\"contourcarpet\\\"}],\\\"table\\\":[{\\\"type\\\":\\\"table\\\",\\\"header\\\":{\\\"line\\\":{\\\"color\\\":\\\"white\\\"},\\\"fill\\\":{\\\"color\\\":\\\"#C8D4E3\\\"}},\\\"cells\\\":{\\\"line\\\":{\\\"color\\\":\\\"white\\\"},\\\"fill\\\":{\\\"color\\\":\\\"#EBF0F8\\\"}}}],\\\"scatter3d\\\":[{\\\"line\\\":{\\\"colorbar\\\":{\\\"ticks\\\":\\\"\\\",\\\"outlinewidth\\\":0}},\\\"type\\\":\\\"scatter3d\\\",\\\"marker\\\":{\\\"colorbar\\\":{\\\"ticks\\\":\\\"\\\",\\\"outlinewidth\\\":0}}}],\\\"scattergl\\\":[{\\\"type\\\":\\\"scattergl\\\",\\\"marker\\\":{\\\"colorbar\\\":{\\\"ticks\\\":\\\"\\\",\\\"outlinewidth\\\":0}}}],\\\"histogram2d\\\":[{\\\"colorbar\\\":{\\\"ticks\\\":\\\"\\\",\\\"outlinewidth\\\":0},\\\"type\\\":\\\"histogram2d\\\",\\\"colorscale\\\":[[0.0,\\\"#0d0887\\\"],[0.1111111111111111,\\\"#46039f\\\"],[0.2222222222222222,\\\"#7201a8\\\"],[0.3333333333333333,\\\"#9c179e\\\"],[0.4444444444444444,\\\"#bd3786\\\"],[0.5555555555555556,\\\"#d8576b\\\"],[0.6666666666666666,\\\"#ed7953\\\"],[0.7777777777777778,\\\"#fb9f3a\\\"],[0.8888888888888888,\\\"#fdca26\\\"],[1.0,\\\"#f0f921\\\"]]}],\\\"scatterternary\\\":[{\\\"type\\\":\\\"scatterternary\\\",\\\"marker\\\":{\\\"colorbar\\\":{\\\"ticks\\\":\\\"\\\",\\\"outlinewidth\\\":0}}}],\\\"scatterpolargl\\\":[{\\\"type\\\":\\\"scatterpolargl\\\",\\\"marker\\\":{\\\"colorbar\\\":{\\\"ticks\\\":\\\"\\\",\\\"outlinewidth\\\":0}}}]}},\\\"height\\\":200,\\\"margin\\\":{\\\"l\\\":1,\\\"b\\\":1,\\\"pad\\\":4,\\\"r\\\":1,\\\"t\\\":1},\\\"width\\\":500},{\\\"showLink\\\":false,\\\"editable\\\":false,\\\"responsive\\\":true,\\\"staticPlot\\\":false,\\\"scrollZoom\\\":true}); gd.on(\\\"plotly_hover\\\",(function (data){var filtered_data=WebIO.PlotlyCommands.filterEventData(gd,data,\\\"hover\\\"); return !(filtered_data.isnil) ? (WebIO.setval({\\\"name\\\":\\\"hover\\\",\\\"scope\\\":\\\"15484735260957235017\\\",\\\"id\\\":\\\"31\\\",\\\"type\\\":\\\"observable\\\"},filtered_data.out)) : undefined})); gd.on(\\\"plotly_unhover\\\",(function (){return WebIO.setval({\\\"name\\\":\\\"hover\\\",\\\"scope\\\":\\\"15484735260957235017\\\",\\\"id\\\":\\\"31\\\",\\\"type\\\":\\\"observable\\\"},{})})); gd.on(\\\"plotly_selected\\\",(function (data){var filtered_data=WebIO.PlotlyCommands.filterEventData(gd,data,\\\"selected\\\"); return !(filtered_data.isnil) ? (WebIO.setval({\\\"name\\\":\\\"selected\\\",\\\"scope\\\":\\\"15484735260957235017\\\",\\\"id\\\":\\\"32\\\",\\\"type\\\":\\\"observable\\\"},filtered_data.out)) : undefined})); gd.on(\\\"plotly_deselect\\\",(function (){return WebIO.setval({\\\"name\\\":\\\"selected\\\",\\\"scope\\\":\\\"15484735260957235017\\\",\\\"id\\\":\\\"32\\\",\\\"type\\\":\\\"observable\\\"},{})})); gd.on(\\\"plotly_relayout\\\",(function (data){var filtered_data=WebIO.PlotlyCommands.filterEventData(gd,data,\\\"relayout\\\"); return !(filtered_data.isnil) ? (WebIO.setval({\\\"name\\\":\\\"relayout\\\",\\\"scope\\\":\\\"15484735260957235017\\\",\\\"id\\\":\\\"34\\\",\\\"type\\\":\\\"observable\\\"},filtered_data.out)) : undefined})); return gd.on(\\\"plotly_click\\\",(function (data){var filtered_data=WebIO.PlotlyCommands.filterEventData(gd,data,\\\"click\\\"); return !(filtered_data.isnil) ? (WebIO.setval({\\\"name\\\":\\\"click\\\",\\\"scope\\\":\\\"15484735260957235017\\\",\\\"id\\\":\\\"33\\\",\\\"type\\\":\\\"observable\\\"},filtered_data.out)) : undefined}))}));\\n    (WebIO.importBlock({\\\"data\\\":[{\\\"name\\\":\\\"Plotly\\\",\\\"type\\\":\\\"js\\\",\\\"url\\\":\\\"\\/assetserver\\/6ce5a5e5b28ac6ffdcfcd49d44ebd4d6dbe36ed4-plotly.min.js\\\"},{\\\"name\\\":null,\\\"type\\\":\\\"js\\\",\\\"url\\\":\\\"\\/assetserver\\/6f85150d15f92ccf38dc2254479a8612ce6d040e-plotly_webio.bundle.js\\\"}],\\\"type\\\":\\\"async_block\\\"})).then((imports) => handler.apply(this, imports));\\n}\\n\"],\"observables\":{\"_toImage\":{\"sync\":false,\"id\":\"38\",\"value\":{}},\"hover\":{\"sync\":false,\"id\":\"31\",\"value\":{}},\"selected\":{\"sync\":false,\"id\":\"32\",\"value\":{}},\"__gd_contents\":{\"sync\":false,\"id\":\"36\",\"value\":{}},\"click\":{\"sync\":false,\"id\":\"33\",\"value\":{}},\"image\":{\"sync\":true,\"id\":\"35\",\"value\":\"\"},\"__get_gd_contents\":{\"sync\":false,\"id\":\"40\",\"value\":\"\"},\"_downloadImage\":{\"sync\":false,\"id\":\"39\",\"value\":{}},\"relayout\":{\"sync\":false,\"id\":\"34\",\"value\":{}},\"_commands\":{\"sync\":false,\"id\":\"37\",\"value\":[]}}},\"children\":[{\"props\":{\"id\":\"plot-a66000d0-28ee-4e4a-b9d1-d2940651ec72\"},\"nodeType\":\"DOM\",\"type\":\"node\",\"instanceArgs\":{\"namespace\":\"html\",\"tag\":\"div\"},\"children\":[]}]},\n",
       "        window,\n",
       "    );\n",
       "    })()\n",
       "    </script>\n",
       "</div>\n"
      ],
      "text/plain": [
       "data: [\n",
       "  \"histogram with fields histnorm, type, and x\"\n",
       "]\n",
       "\n",
       "layout: \"layout with fields autosize, font, height, margin, template, width, and xaxis\"\n",
       "\n"
      ]
     },
     "metadata": {},
     "output_type": "display_data"
    }
   ],
   "source": [
    "cat_nb_cc_1_cycle = string.(sort(Int.(cc_with_1_cycle)))\n",
    "trace = PlotlyJS.histogram(x=cat_nb_cc_1_cycle, histnorm=\"probability density\")\n",
    "layout = Layout(\n",
    "    autosize=false,\n",
    "    width=500,\n",
    "    height=200,\n",
    "    margin=attr(l=1, r=1, b=1, t=1, pad=4),\n",
    "    font_size=35,\n",
    "    xaxis_type=\"category\",\n",
    ")\n",
    "name = \"comparison_hpkv_MUN_cc_with_1_cycle_\"*\"n\"*string(n)*\"p\"*string(p)*\"eta\"*string(eta)*\"q\"*string(q)\n",
    "p_1 = PlotlyJS.plot(trace,layout)\n"
   ]
  },
  {
   "cell_type": "code",
   "execution_count": 10,
   "metadata": {},
   "outputs": [
    {
     "data": {
      "application/vnd.plotly.v1+json": {
       "config": {
        "editable": false,
        "responsive": true,
        "scrollZoom": true,
        "showLink": false,
        "staticPlot": false
       },
       "data": [
        {
         "histnorm": "probability density",
         "type": "histogram",
         "x": [
          "0",
          "0",
          "0",
          "0",
          "0",
          "0",
          "0",
          "0",
          "0",
          "0",
          "0",
          "0",
          "0",
          "0",
          "0",
          "0",
          "0",
          "0",
          "0",
          "0",
          "0",
          "0",
          "0",
          "0",
          "0",
          "0",
          "0",
          "0",
          "0",
          "0",
          "0",
          "0",
          "0",
          "0",
          "0",
          "0",
          "0",
          "0",
          "0",
          "0",
          "0",
          "0",
          "0",
          "0",
          "0",
          "0",
          "0",
          "0",
          "0",
          "0",
          "0",
          "0",
          "0",
          "0",
          "0",
          "0",
          "0",
          "0",
          "0",
          "0",
          "0",
          "0",
          "0",
          "0",
          "0",
          "0",
          "0",
          "0",
          "0",
          "0",
          "0",
          "0",
          "0",
          "0",
          "0",
          "0",
          "0",
          "0",
          "0",
          "0",
          "0",
          "0",
          "0",
          "1",
          "1",
          "1",
          "1",
          "1",
          "1",
          "1",
          "1",
          "1",
          "1",
          "1",
          "1",
          "1",
          "1",
          "1",
          "1",
          "1"
         ]
        }
       ],
       "frames": [],
       "layout": {
        "autosize": false,
        "font": {
         "size": 35
        },
        "height": 200,
        "margin": {
         "b": 1,
         "l": 1,
         "pad": 4,
         "r": 1,
         "t": 1
        },
        "template": {
         "data": {
          "bar": [
           {
            "error_x": {
             "color": "#2a3f5f"
            },
            "error_y": {
             "color": "#2a3f5f"
            },
            "marker": {
             "line": {
              "color": "#E5ECF6",
              "width": 0.5
             }
            },
            "type": "bar"
           }
          ],
          "barpolar": [
           {
            "marker": {
             "line": {
              "color": "#E5ECF6",
              "width": 0.5
             }
            },
            "type": "barpolar"
           }
          ],
          "carpet": [
           {
            "aaxis": {
             "endlinecolor": "#2a3f5f",
             "gridcolor": "white",
             "linecolor": "white",
             "minorgridcolor": "white",
             "startlinecolor": "#2a3f5f"
            },
            "baxis": {
             "endlinecolor": "#2a3f5f",
             "gridcolor": "white",
             "linecolor": "white",
             "minorgridcolor": "white",
             "startlinecolor": "#2a3f5f"
            },
            "type": "carpet"
           }
          ],
          "choropleth": [
           {
            "colorbar": {
             "outlinewidth": 0,
             "ticks": ""
            },
            "type": "choropleth"
           }
          ],
          "contour": [
           {
            "colorbar": {
             "outlinewidth": 0,
             "ticks": ""
            },
            "colorscale": [
             [
              0,
              "#0d0887"
             ],
             [
              0.1111111111111111,
              "#46039f"
             ],
             [
              0.2222222222222222,
              "#7201a8"
             ],
             [
              0.3333333333333333,
              "#9c179e"
             ],
             [
              0.4444444444444444,
              "#bd3786"
             ],
             [
              0.5555555555555556,
              "#d8576b"
             ],
             [
              0.6666666666666666,
              "#ed7953"
             ],
             [
              0.7777777777777778,
              "#fb9f3a"
             ],
             [
              0.8888888888888888,
              "#fdca26"
             ],
             [
              1,
              "#f0f921"
             ]
            ],
            "type": "contour"
           }
          ],
          "contourcarpet": [
           {
            "colorbar": {
             "outlinewidth": 0,
             "ticks": ""
            },
            "type": "contourcarpet"
           }
          ],
          "heatmap": [
           {
            "colorbar": {
             "outlinewidth": 0,
             "ticks": ""
            },
            "colorscale": [
             [
              0,
              "#0d0887"
             ],
             [
              0.1111111111111111,
              "#46039f"
             ],
             [
              0.2222222222222222,
              "#7201a8"
             ],
             [
              0.3333333333333333,
              "#9c179e"
             ],
             [
              0.4444444444444444,
              "#bd3786"
             ],
             [
              0.5555555555555556,
              "#d8576b"
             ],
             [
              0.6666666666666666,
              "#ed7953"
             ],
             [
              0.7777777777777778,
              "#fb9f3a"
             ],
             [
              0.8888888888888888,
              "#fdca26"
             ],
             [
              1,
              "#f0f921"
             ]
            ],
            "type": "heatmap"
           }
          ],
          "heatmapgl": [
           {
            "colorbar": {
             "outlinewidth": 0,
             "ticks": ""
            },
            "colorscale": [
             [
              0,
              "#0d0887"
             ],
             [
              0.1111111111111111,
              "#46039f"
             ],
             [
              0.2222222222222222,
              "#7201a8"
             ],
             [
              0.3333333333333333,
              "#9c179e"
             ],
             [
              0.4444444444444444,
              "#bd3786"
             ],
             [
              0.5555555555555556,
              "#d8576b"
             ],
             [
              0.6666666666666666,
              "#ed7953"
             ],
             [
              0.7777777777777778,
              "#fb9f3a"
             ],
             [
              0.8888888888888888,
              "#fdca26"
             ],
             [
              1,
              "#f0f921"
             ]
            ],
            "type": "heatmapgl"
           }
          ],
          "histogram": [
           {
            "marker": {
             "colorbar": {
              "outlinewidth": 0,
              "ticks": ""
             }
            },
            "type": "histogram"
           }
          ],
          "histogram2d": [
           {
            "colorbar": {
             "outlinewidth": 0,
             "ticks": ""
            },
            "colorscale": [
             [
              0,
              "#0d0887"
             ],
             [
              0.1111111111111111,
              "#46039f"
             ],
             [
              0.2222222222222222,
              "#7201a8"
             ],
             [
              0.3333333333333333,
              "#9c179e"
             ],
             [
              0.4444444444444444,
              "#bd3786"
             ],
             [
              0.5555555555555556,
              "#d8576b"
             ],
             [
              0.6666666666666666,
              "#ed7953"
             ],
             [
              0.7777777777777778,
              "#fb9f3a"
             ],
             [
              0.8888888888888888,
              "#fdca26"
             ],
             [
              1,
              "#f0f921"
             ]
            ],
            "type": "histogram2d"
           }
          ],
          "histogram2dcontour": [
           {
            "colorbar": {
             "outlinewidth": 0,
             "ticks": ""
            },
            "colorscale": [
             [
              0,
              "#0d0887"
             ],
             [
              0.1111111111111111,
              "#46039f"
             ],
             [
              0.2222222222222222,
              "#7201a8"
             ],
             [
              0.3333333333333333,
              "#9c179e"
             ],
             [
              0.4444444444444444,
              "#bd3786"
             ],
             [
              0.5555555555555556,
              "#d8576b"
             ],
             [
              0.6666666666666666,
              "#ed7953"
             ],
             [
              0.7777777777777778,
              "#fb9f3a"
             ],
             [
              0.8888888888888888,
              "#fdca26"
             ],
             [
              1,
              "#f0f921"
             ]
            ],
            "type": "histogram2dcontour"
           }
          ],
          "mesh3d": [
           {
            "colorbar": {
             "outlinewidth": 0,
             "ticks": ""
            },
            "type": "mesh3d"
           }
          ],
          "parcoords": [
           {
            "line": {
             "colorbar": {
              "outlinewidth": 0,
              "ticks": ""
             }
            },
            "type": "parcoords"
           }
          ],
          "pie": [
           {
            "automargin": true,
            "type": "pie"
           }
          ],
          "scatter": [
           {
            "marker": {
             "colorbar": {
              "outlinewidth": 0,
              "ticks": ""
             }
            },
            "type": "scatter"
           }
          ],
          "scatter3d": [
           {
            "line": {
             "colorbar": {
              "outlinewidth": 0,
              "ticks": ""
             }
            },
            "marker": {
             "colorbar": {
              "outlinewidth": 0,
              "ticks": ""
             }
            },
            "type": "scatter3d"
           }
          ],
          "scattercarpet": [
           {
            "marker": {
             "colorbar": {
              "outlinewidth": 0,
              "ticks": ""
             }
            },
            "type": "scattercarpet"
           }
          ],
          "scattergeo": [
           {
            "marker": {
             "colorbar": {
              "outlinewidth": 0,
              "ticks": ""
             }
            },
            "type": "scattergeo"
           }
          ],
          "scattergl": [
           {
            "marker": {
             "colorbar": {
              "outlinewidth": 0,
              "ticks": ""
             }
            },
            "type": "scattergl"
           }
          ],
          "scattermapbox": [
           {
            "marker": {
             "colorbar": {
              "outlinewidth": 0,
              "ticks": ""
             }
            },
            "type": "scattermapbox"
           }
          ],
          "scatterpolar": [
           {
            "marker": {
             "colorbar": {
              "outlinewidth": 0,
              "ticks": ""
             }
            },
            "type": "scatterpolar"
           }
          ],
          "scatterpolargl": [
           {
            "marker": {
             "colorbar": {
              "outlinewidth": 0,
              "ticks": ""
             }
            },
            "type": "scatterpolargl"
           }
          ],
          "scatterternary": [
           {
            "marker": {
             "colorbar": {
              "outlinewidth": 0,
              "ticks": ""
             }
            },
            "type": "scatterternary"
           }
          ],
          "surface": [
           {
            "colorbar": {
             "outlinewidth": 0,
             "ticks": ""
            },
            "colorscale": [
             [
              0,
              "#0d0887"
             ],
             [
              0.1111111111111111,
              "#46039f"
             ],
             [
              0.2222222222222222,
              "#7201a8"
             ],
             [
              0.3333333333333333,
              "#9c179e"
             ],
             [
              0.4444444444444444,
              "#bd3786"
             ],
             [
              0.5555555555555556,
              "#d8576b"
             ],
             [
              0.6666666666666666,
              "#ed7953"
             ],
             [
              0.7777777777777778,
              "#fb9f3a"
             ],
             [
              0.8888888888888888,
              "#fdca26"
             ],
             [
              1,
              "#f0f921"
             ]
            ],
            "type": "surface"
           }
          ],
          "table": [
           {
            "cells": {
             "fill": {
              "color": "#EBF0F8"
             },
             "line": {
              "color": "white"
             }
            },
            "header": {
             "fill": {
              "color": "#C8D4E3"
             },
             "line": {
              "color": "white"
             }
            },
            "type": "table"
           }
          ]
         },
         "layout": {
          "annotationdefaults": {
           "arrowcolor": "#2a3f5f",
           "arrowhead": 0,
           "arrowwidth": 1
          },
          "autotypenumbers": "strict",
          "coloraxis": {
           "colorbar": {
            "outlinewidth": 0,
            "ticks": ""
           }
          },
          "colorscale": {
           "diverging": [
            [
             0,
             "#8e0152"
            ],
            [
             0.1,
             "#c51b7d"
            ],
            [
             0.2,
             "#de77ae"
            ],
            [
             0.3,
             "#f1b6da"
            ],
            [
             0.4,
             "#fde0ef"
            ],
            [
             0.5,
             "#f7f7f7"
            ],
            [
             0.6,
             "#e6f5d0"
            ],
            [
             0.7,
             "#b8e186"
            ],
            [
             0.8,
             "#7fbc41"
            ],
            [
             0.9,
             "#4d9221"
            ],
            [
             1,
             "#276419"
            ]
           ],
           "sequential": [
            [
             0,
             "#0d0887"
            ],
            [
             0.1111111111111111,
             "#46039f"
            ],
            [
             0.2222222222222222,
             "#7201a8"
            ],
            [
             0.3333333333333333,
             "#9c179e"
            ],
            [
             0.4444444444444444,
             "#bd3786"
            ],
            [
             0.5555555555555556,
             "#d8576b"
            ],
            [
             0.6666666666666666,
             "#ed7953"
            ],
            [
             0.7777777777777778,
             "#fb9f3a"
            ],
            [
             0.8888888888888888,
             "#fdca26"
            ],
            [
             1,
             "#f0f921"
            ]
           ],
           "sequentialminus": [
            [
             0,
             "#0d0887"
            ],
            [
             0.1111111111111111,
             "#46039f"
            ],
            [
             0.2222222222222222,
             "#7201a8"
            ],
            [
             0.3333333333333333,
             "#9c179e"
            ],
            [
             0.4444444444444444,
             "#bd3786"
            ],
            [
             0.5555555555555556,
             "#d8576b"
            ],
            [
             0.6666666666666666,
             "#ed7953"
            ],
            [
             0.7777777777777778,
             "#fb9f3a"
            ],
            [
             0.8888888888888888,
             "#fdca26"
            ],
            [
             1,
             "#f0f921"
            ]
           ]
          },
          "colorway": [
           "#636efa",
           "#EF553B",
           "#00cc96",
           "#ab63fa",
           "#FFA15A",
           "#19d3f3",
           "#FF6692",
           "#B6E880",
           "#FF97FF",
           "#FECB52"
          ],
          "font": {
           "color": "#2a3f5f"
          },
          "geo": {
           "bgcolor": "white",
           "lakecolor": "white",
           "landcolor": "#E5ECF6",
           "showlakes": true,
           "showland": true,
           "subunitcolor": "white"
          },
          "hoverlabel": {
           "align": "left"
          },
          "hovermode": "closest",
          "mapbox": {
           "style": "light"
          },
          "paper_bgcolor": "white",
          "plot_bgcolor": "#E5ECF6",
          "polar": {
           "angularaxis": {
            "gridcolor": "white",
            "linecolor": "white",
            "ticks": ""
           },
           "bgcolor": "#E5ECF6",
           "radialaxis": {
            "gridcolor": "white",
            "linecolor": "white",
            "ticks": ""
           }
          },
          "scene": {
           "xaxis": {
            "backgroundcolor": "#E5ECF6",
            "gridcolor": "white",
            "gridwidth": 2,
            "linecolor": "white",
            "showbackground": true,
            "ticks": "",
            "zerolinecolor": "white"
           },
           "yaxis": {
            "backgroundcolor": "#E5ECF6",
            "gridcolor": "white",
            "gridwidth": 2,
            "linecolor": "white",
            "showbackground": true,
            "ticks": "",
            "zerolinecolor": "white"
           },
           "zaxis": {
            "backgroundcolor": "#E5ECF6",
            "gridcolor": "white",
            "gridwidth": 2,
            "linecolor": "white",
            "showbackground": true,
            "ticks": "",
            "zerolinecolor": "white"
           }
          },
          "shapedefaults": {
           "line": {
            "color": "#2a3f5f"
           }
          },
          "ternary": {
           "aaxis": {
            "gridcolor": "white",
            "linecolor": "white",
            "ticks": ""
           },
           "baxis": {
            "gridcolor": "white",
            "linecolor": "white",
            "ticks": ""
           },
           "bgcolor": "#E5ECF6",
           "caxis": {
            "gridcolor": "white",
            "linecolor": "white",
            "ticks": ""
           }
          },
          "title": {
           "x": 0.05
          },
          "xaxis": {
           "automargin": true,
           "gridcolor": "white",
           "linecolor": "white",
           "ticks": "",
           "title": {
            "standoff": 15
           },
           "zerolinecolor": "white",
           "zerolinewidth": 2
          },
          "yaxis": {
           "automargin": true,
           "gridcolor": "white",
           "linecolor": "white",
           "ticks": "",
           "title": {
            "standoff": 15
           },
           "zerolinecolor": "white",
           "zerolinewidth": 2
          }
         }
        },
        "width": 500,
        "xaxis": {
         "type": "category"
        }
       }
      },
      "image/png": "[encoded data removed]",
      "image/svg+xml": [
       "<svg class=\"main-svg\" xmlns=\"http://www.w3.org/2000/svg\" xmlns:xlink=\"http://www.w3.org/1999/xlink\" width=\"700\" height=\"500\" style=\"\" viewBox=\"0 0 700 500\"><rect x=\"0\" y=\"0\" width=\"700\" height=\"500\" style=\"fill: rgb(255, 255, 255); fill-opacity: 1;\"/><defs id=\"defs-a5fb95\"><g class=\"clips\"><clipPath id=\"clipa5fb95xyplot\" class=\"plotclip\"><rect width=\"636\" height=\"450\"/></clipPath><clipPath class=\"axesclip\" id=\"clipa5fb95x\"><rect x=\"63\" y=\"0\" width=\"636\" height=\"500\"/></clipPath><clipPath class=\"axesclip\" id=\"clipa5fb95y\"><rect x=\"0\" y=\"1\" width=\"700\" height=\"450\"/></clipPath><clipPath class=\"axesclip\" id=\"clipa5fb95xy\"><rect x=\"63\" y=\"1\" width=\"636\" height=\"450\"/></clipPath></g><g class=\"gradients\"/></defs><g class=\"bglayer\"><rect class=\"bg\" x=\"59\" y=\"-3\" width=\"644\" height=\"458\" style=\"fill: rgb(229, 236, 246); fill-opacity: 1; stroke-width: 0;\"/></g><g class=\"layer-below\"><g class=\"imagelayer\"/><g class=\"shapelayer\"/></g><g class=\"cartesianlayer\"><g class=\"subplot xy\"><g class=\"layer-subplot\"><g class=\"shapelayer\"/><g class=\"imagelayer\"/></g><g class=\"gridlayer\"><g class=\"x\"/><g class=\"y\"><path class=\"ygrid crisp\" transform=\"translate(0,399.49)\" d=\"M63,0h636\" style=\"stroke: rgb(255, 255, 255); stroke-opacity: 1; stroke-width: 1px;\"/><path class=\"ygrid crisp\" transform=\"translate(0,347.99)\" d=\"M63,0h636\" style=\"stroke: rgb(255, 255, 255); stroke-opacity: 1; stroke-width: 1px;\"/><path class=\"ygrid crisp\" transform=\"translate(0,296.48)\" d=\"M63,0h636\" style=\"stroke: rgb(255, 255, 255); stroke-opacity: 1; stroke-width: 1px;\"/><path class=\"ygrid crisp\" transform=\"translate(0,244.98)\" d=\"M63,0h636\" style=\"stroke: rgb(255, 255, 255); stroke-opacity: 1; stroke-width: 1px;\"/><path class=\"ygrid crisp\" transform=\"translate(0,193.47)\" d=\"M63,0h636\" style=\"stroke: rgb(255, 255, 255); stroke-opacity: 1; stroke-width: 1px;\"/><path class=\"ygrid crisp\" transform=\"translate(0,141.96)\" d=\"M63,0h636\" style=\"stroke: rgb(255, 255, 255); stroke-opacity: 1; stroke-width: 1px;\"/><path class=\"ygrid crisp\" transform=\"translate(0,90.46)\" d=\"M63,0h636\" style=\"stroke: rgb(255, 255, 255); stroke-opacity: 1; stroke-width: 1px;\"/><path class=\"ygrid crisp\" transform=\"translate(0,38.95)\" d=\"M63,0h636\" style=\"stroke: rgb(255, 255, 255); stroke-opacity: 1; stroke-width: 1px;\"/></g></g><g class=\"zerolinelayer\"><path class=\"yzl zl crisp\" transform=\"translate(0,451)\" d=\"M63,0h636\" style=\"stroke: rgb(255, 255, 255); stroke-opacity: 1; stroke-width: 2px;\"/></g><path class=\"xlines-below\"/><path class=\"ylines-below\"/><g class=\"overlines-below\"/><g class=\"xaxislayer-below\"/><g class=\"yaxislayer-below\"/><g class=\"overaxes-below\"/><g class=\"plot\" transform=\"translate(63,1)\" clip-path=\"url('#clipa5fb95xyplot')\"><g class=\"barlayer mlayer\"><g class=\"trace bars\" style=\"opacity: 1;\"><g class=\"points\"><g class=\"point\"><path d=\"M31.8,450V22.5H286.2V450Z\" style=\"vector-effect: non-scaling-stroke; opacity: 1; stroke-width: 0px; fill: rgb(99, 110, 250); fill-opacity: 1;\"/></g><g class=\"point\"><path d=\"M349.8,450V362.44H604.2V450Z\" style=\"vector-effect: non-scaling-stroke; opacity: 1; stroke-width: 0px; fill: rgb(99, 110, 250); fill-opacity: 1;\"/></g></g></g></g></g><g class=\"overplot\"/><path class=\"xlines-above crisp\" d=\"M0,0\" style=\"fill: none;\"/><path class=\"ylines-above crisp\" d=\"M0,0\" style=\"fill: none;\"/><g class=\"overlines-above\"/><g class=\"xaxislayer-above\"><g class=\"xtick\"><text text-anchor=\"middle\" x=\"0\" y=\"491\" transform=\"translate(222,0)\" style=\"font-family: 'Open Sans', verdana, arial, sans-serif; font-size: 35px; fill: rgb(42, 63, 95); fill-opacity: 1; white-space: pre;\">0</text></g><g class=\"xtick\"><text text-anchor=\"middle\" x=\"0\" y=\"491\" transform=\"translate(540,0)\" style=\"font-family: 'Open Sans', verdana, arial, sans-serif; font-size: 35px; fill: rgb(42, 63, 95); fill-opacity: 1; white-space: pre;\">1</text></g></g><g class=\"yaxislayer-above\"><g class=\"ytick\"><text text-anchor=\"end\" x=\"58\" y=\"12.25\" transform=\"translate(0,451)\" style=\"font-family: 'Open Sans', verdana, arial, sans-serif; font-size: 35px; fill: rgb(42, 63, 95); fill-opacity: 1; white-space: pre;\">0</text></g><g class=\"ytick\"><text text-anchor=\"end\" x=\"58\" y=\"12.25\" transform=\"translate(0,399.49)\" style=\"font-family: 'Open Sans', verdana, arial, sans-serif; font-size: 35px; fill: rgb(42, 63, 95); fill-opacity: 1; white-space: pre;\">0.1</text></g><g class=\"ytick\"><text text-anchor=\"end\" x=\"58\" y=\"12.25\" transform=\"translate(0,347.99)\" style=\"font-family: 'Open Sans', verdana, arial, sans-serif; font-size: 35px; fill: rgb(42, 63, 95); fill-opacity: 1; white-space: pre;\">0.2</text></g><g class=\"ytick\"><text text-anchor=\"end\" x=\"58\" y=\"12.25\" transform=\"translate(0,296.48)\" style=\"font-family: 'Open Sans', verdana, arial, sans-serif; font-size: 35px; fill: rgb(42, 63, 95); fill-opacity: 1; white-space: pre;\">0.3</text></g><g class=\"ytick\"><text text-anchor=\"end\" x=\"58\" y=\"12.25\" transform=\"translate(0,244.98)\" style=\"font-family: 'Open Sans', verdana, arial, sans-serif; font-size: 35px; fill: rgb(42, 63, 95); fill-opacity: 1; white-space: pre;\">0.4</text></g><g class=\"ytick\"><text text-anchor=\"end\" x=\"58\" y=\"12.25\" transform=\"translate(0,193.47)\" style=\"font-family: 'Open Sans', verdana, arial, sans-serif; font-size: 35px; fill: rgb(42, 63, 95); fill-opacity: 1; white-space: pre;\">0.5</text></g><g class=\"ytick\"><text text-anchor=\"end\" x=\"58\" y=\"12.25\" transform=\"translate(0,141.96)\" style=\"font-family: 'Open Sans', verdana, arial, sans-serif; font-size: 35px; fill: rgb(42, 63, 95); fill-opacity: 1; white-space: pre;\">0.6</text></g><g class=\"ytick\"><text text-anchor=\"end\" x=\"58\" y=\"12.25\" transform=\"translate(0,90.46)\" style=\"font-family: 'Open Sans', verdana, arial, sans-serif; font-size: 35px; fill: rgb(42, 63, 95); fill-opacity: 1; white-space: pre;\">0.7</text></g><g class=\"ytick\"><text text-anchor=\"end\" x=\"58\" y=\"12.25\" transform=\"translate(0,38.95)\" style=\"font-family: 'Open Sans', verdana, arial, sans-serif; font-size: 35px; fill: rgb(42, 63, 95); fill-opacity: 1; white-space: pre;\">0.8</text></g></g><g class=\"overaxes-above\"/></g></g><g class=\"polarlayer\"/><g class=\"ternarylayer\"/><g class=\"geolayer\"/><g class=\"funnelarealayer\"/><g class=\"pielayer\"/><g class=\"treemaplayer\"/><g class=\"sunburstlayer\"/><g class=\"glimages\"/><defs id=\"topdefs-a5fb95\"><g class=\"clips\"/></defs><g class=\"layer-above\"><g class=\"imagelayer\"/><g class=\"shapelayer\"/></g><g class=\"infolayer\"><g class=\"g-gtitle\"/><g class=\"g-xtitle\"/><g class=\"g-ytitle\"/></g></svg>"
      ],
      "text/html": [
       "<div\n",
       "    class=\"webio-mountpoint\"\n",
       "    data-webio-mountpoint=\"5520650280589143241\"\n",
       ">\n",
       "    <script>\n",
       "    (function(){\n",
       "    // Some integrations (namely, IJulia/Jupyter) use an alternate render pathway than\n",
       "    // just putting the html on the page. If WebIO isn't defined, then it's pretty likely\n",
       "    // that we're in one of those situations and the integration just isn't installed\n",
       "    // correctly.\n",
       "    if (typeof window.WebIO === \"undefined\") {\n",
       "        document\n",
       "            .querySelector('[data-webio-mountpoint=\"5520650280589143241\"]')\n",
       "            .innerHTML = (\n",
       "                '<div style=\"padding: 1em; background-color: #f8d6da; border: 1px solid #f5c6cb; font-weight: bold;\">' +\n",
       "                '<p><strong>WebIO not detected.</strong></p>' +\n",
       "                '<p>Please read ' +\n",
       "                '<a href=\"https://juliagizmos.github.io/WebIO.jl/latest/troubleshooting/not-detected/\" target=\"_blank\">the troubleshooting guide</a> ' +\n",
       "                'for more information on how to resolve this issue.</p>' +\n",
       "                '<p><a href=\"https://juliagizmos.github.io/WebIO.jl/latest/troubleshooting/not-detected/\" target=\"_blank\">https://juliagizmos.github.io/WebIO.jl/latest/troubleshooting/not-detected/</a></p>' +\n",
       "                '</div>'\n",
       "            );\n",
       "        return;\n",
       "    }\n",
       "    WebIO.mount(\n",
       "        document.querySelector('[data-webio-mountpoint=\"5520650280589143241\"]'),\n",
       "        {\"props\":{},\"nodeType\":\"Scope\",\"type\":\"node\",\"instanceArgs\":{\"imports\":{\"data\":[{\"name\":\"Plotly\",\"type\":\"js\",\"url\":\"\\/assetserver\\/6ce5a5e5b28ac6ffdcfcd49d44ebd4d6dbe36ed4-plotly.min.js\"},{\"name\":null,\"type\":\"js\",\"url\":\"\\/assetserver\\/6f85150d15f92ccf38dc2254479a8612ce6d040e-plotly_webio.bundle.js\"}],\"type\":\"async_block\"},\"id\":\"13630989968069765714\",\"handlers\":{\"_toImage\":[\"(function (options){return this.Plotly.toImage(this.plotElem,options).then((function (data){return WebIO.setval({\\\"name\\\":\\\"image\\\",\\\"scope\\\":\\\"13630989968069765714\\\",\\\"id\\\":\\\"45\\\",\\\"type\\\":\\\"observable\\\"},data)}))})\"],\"__get_gd_contents\":[\"(function (prop){prop==\\\"data\\\" ? (WebIO.setval({\\\"name\\\":\\\"__gd_contents\\\",\\\"scope\\\":\\\"13630989968069765714\\\",\\\"id\\\":\\\"46\\\",\\\"type\\\":\\\"observable\\\"},this.plotElem.data)) : undefined; return prop==\\\"layout\\\" ? (WebIO.setval({\\\"name\\\":\\\"__gd_contents\\\",\\\"scope\\\":\\\"13630989968069765714\\\",\\\"id\\\":\\\"46\\\",\\\"type\\\":\\\"observable\\\"},this.plotElem.layout)) : undefined})\"],\"_downloadImage\":[\"(function (options){return this.Plotly.downloadImage(this.plotElem,options)})\"],\"_commands\":[\"(function (args){var fn=args.shift(); var elem=this.plotElem; var Plotly=this.Plotly; args.unshift(elem); return Plotly[fn].apply(this,args)})\"]},\"systemjs_options\":null,\"mount_callbacks\":[\"function () {\\n    var handler = ((function (Plotly,PlotlyWebIO){PlotlyWebIO.init(WebIO); var gd=this.dom.querySelector(\\\"#plot-92725241-b1ba-4528-90ac-33076da31df7\\\"); this.plotElem=gd; this.Plotly=Plotly; (window.Blink!==undefined) ? (gd.style.width=\\\"100%\\\", gd.style.height=\\\"100vh\\\", gd.style.marginLeft=\\\"0%\\\", gd.style.marginTop=\\\"0vh\\\") : undefined; window.onresize=(function (){return Plotly.Plots.resize(gd)}); Plotly.newPlot(gd,[{\\\"type\\\":\\\"histogram\\\",\\\"histnorm\\\":\\\"probability density\\\",\\\"x\\\":[\\\"0\\\",\\\"0\\\",\\\"0\\\",\\\"0\\\",\\\"0\\\",\\\"0\\\",\\\"0\\\",\\\"0\\\",\\\"0\\\",\\\"0\\\",\\\"0\\\",\\\"0\\\",\\\"0\\\",\\\"0\\\",\\\"0\\\",\\\"0\\\",\\\"0\\\",\\\"0\\\",\\\"0\\\",\\\"0\\\",\\\"0\\\",\\\"0\\\",\\\"0\\\",\\\"0\\\",\\\"0\\\",\\\"0\\\",\\\"0\\\",\\\"0\\\",\\\"0\\\",\\\"0\\\",\\\"0\\\",\\\"0\\\",\\\"0\\\",\\\"0\\\",\\\"0\\\",\\\"0\\\",\\\"0\\\",\\\"0\\\",\\\"0\\\",\\\"0\\\",\\\"0\\\",\\\"0\\\",\\\"0\\\",\\\"0\\\",\\\"0\\\",\\\"0\\\",\\\"0\\\",\\\"0\\\",\\\"0\\\",\\\"0\\\",\\\"0\\\",\\\"0\\\",\\\"0\\\",\\\"0\\\",\\\"0\\\",\\\"0\\\",\\\"0\\\",\\\"0\\\",\\\"0\\\",\\\"0\\\",\\\"0\\\",\\\"0\\\",\\\"0\\\",\\\"0\\\",\\\"0\\\",\\\"0\\\",\\\"0\\\",\\\"0\\\",\\\"0\\\",\\\"0\\\",\\\"0\\\",\\\"0\\\",\\\"0\\\",\\\"0\\\",\\\"0\\\",\\\"0\\\",\\\"0\\\",\\\"0\\\",\\\"0\\\",\\\"0\\\",\\\"0\\\",\\\"0\\\",\\\"0\\\",\\\"1\\\",\\\"1\\\",\\\"1\\\",\\\"1\\\",\\\"1\\\",\\\"1\\\",\\\"1\\\",\\\"1\\\",\\\"1\\\",\\\"1\\\",\\\"1\\\",\\\"1\\\",\\\"1\\\",\\\"1\\\",\\\"1\\\",\\\"1\\\",\\\"1\\\"]}],{\\\"autosize\\\":false,\\\"xaxis\\\":{\\\"type\\\":\\\"category\\\"},\\\"font\\\":{\\\"size\\\":35},\\\"template\\\":{\\\"layout\\\":{\\\"coloraxis\\\":{\\\"colorbar\\\":{\\\"ticks\\\":\\\"\\\",\\\"outlinewidth\\\":0}},\\\"xaxis\\\":{\\\"gridcolor\\\":\\\"white\\\",\\\"zerolinewidth\\\":2,\\\"title\\\":{\\\"standoff\\\":15},\\\"ticks\\\":\\\"\\\",\\\"zerolinecolor\\\":\\\"white\\\",\\\"automargin\\\":true,\\\"linecolor\\\":\\\"white\\\"},\\\"hovermode\\\":\\\"closest\\\",\\\"paper_bgcolor\\\":\\\"white\\\",\\\"geo\\\":{\\\"showlakes\\\":true,\\\"showland\\\":true,\\\"landcolor\\\":\\\"#E5ECF6\\\",\\\"bgcolor\\\":\\\"white\\\",\\\"subunitcolor\\\":\\\"white\\\",\\\"lakecolor\\\":\\\"white\\\"},\\\"colorscale\\\":{\\\"sequential\\\":[[0.0,\\\"#0d0887\\\"],[0.1111111111111111,\\\"#46039f\\\"],[0.2222222222222222,\\\"#7201a8\\\"],[0.3333333333333333,\\\"#9c179e\\\"],[0.4444444444444444,\\\"#bd3786\\\"],[0.5555555555555556,\\\"#d8576b\\\"],[0.6666666666666666,\\\"#ed7953\\\"],[0.7777777777777778,\\\"#fb9f3a\\\"],[0.8888888888888888,\\\"#fdca26\\\"],[1.0,\\\"#f0f921\\\"]],\\\"diverging\\\":[[0,\\\"#8e0152\\\"],[0.1,\\\"#c51b7d\\\"],[0.2,\\\"#de77ae\\\"],[0.3,\\\"#f1b6da\\\"],[0.4,\\\"#fde0ef\\\"],[0.5,\\\"#f7f7f7\\\"],[0.6,\\\"#e6f5d0\\\"],[0.7,\\\"#b8e186\\\"],[0.8,\\\"#7fbc41\\\"],[0.9,\\\"#4d9221\\\"],[1,\\\"#276419\\\"]],\\\"sequentialminus\\\":[[0.0,\\\"#0d0887\\\"],[0.1111111111111111,\\\"#46039f\\\"],[0.2222222222222222,\\\"#7201a8\\\"],[0.3333333333333333,\\\"#9c179e\\\"],[0.4444444444444444,\\\"#bd3786\\\"],[0.5555555555555556,\\\"#d8576b\\\"],[0.6666666666666666,\\\"#ed7953\\\"],[0.7777777777777778,\\\"#fb9f3a\\\"],[0.8888888888888888,\\\"#fdca26\\\"],[1.0,\\\"#f0f921\\\"]]},\\\"yaxis\\\":{\\\"gridcolor\\\":\\\"white\\\",\\\"zerolinewidth\\\":2,\\\"title\\\":{\\\"standoff\\\":15},\\\"ticks\\\":\\\"\\\",\\\"zerolinecolor\\\":\\\"white\\\",\\\"automargin\\\":true,\\\"linecolor\\\":\\\"white\\\"},\\\"shapedefaults\\\":{\\\"line\\\":{\\\"color\\\":\\\"#2a3f5f\\\"}},\\\"hoverlabel\\\":{\\\"align\\\":\\\"left\\\"},\\\"mapbox\\\":{\\\"style\\\":\\\"light\\\"},\\\"polar\\\":{\\\"angularaxis\\\":{\\\"gridcolor\\\":\\\"white\\\",\\\"ticks\\\":\\\"\\\",\\\"linecolor\\\":\\\"white\\\"},\\\"bgcolor\\\":\\\"#E5ECF6\\\",\\\"radialaxis\\\":{\\\"gridcolor\\\":\\\"white\\\",\\\"ticks\\\":\\\"\\\",\\\"linecolor\\\":\\\"white\\\"}},\\\"autotypenumbers\\\":\\\"strict\\\",\\\"font\\\":{\\\"color\\\":\\\"#2a3f5f\\\"},\\\"ternary\\\":{\\\"baxis\\\":{\\\"gridcolor\\\":\\\"white\\\",\\\"ticks\\\":\\\"\\\",\\\"linecolor\\\":\\\"white\\\"},\\\"bgcolor\\\":\\\"#E5ECF6\\\",\\\"caxis\\\":{\\\"gridcolor\\\":\\\"white\\\",\\\"ticks\\\":\\\"\\\",\\\"linecolor\\\":\\\"white\\\"},\\\"aaxis\\\":{\\\"gridcolor\\\":\\\"white\\\",\\\"ticks\\\":\\\"\\\",\\\"linecolor\\\":\\\"white\\\"}},\\\"annotationdefaults\\\":{\\\"arrowhead\\\":0,\\\"arrowwidth\\\":1,\\\"arrowcolor\\\":\\\"#2a3f5f\\\"},\\\"plot_bgcolor\\\":\\\"#E5ECF6\\\",\\\"title\\\":{\\\"x\\\":0.05},\\\"scene\\\":{\\\"xaxis\\\":{\\\"gridcolor\\\":\\\"white\\\",\\\"gridwidth\\\":2,\\\"backgroundcolor\\\":\\\"#E5ECF6\\\",\\\"ticks\\\":\\\"\\\",\\\"showbackground\\\":true,\\\"zerolinecolor\\\":\\\"white\\\",\\\"linecolor\\\":\\\"white\\\"},\\\"zaxis\\\":{\\\"gridcolor\\\":\\\"white\\\",\\\"gridwidth\\\":2,\\\"backgroundcolor\\\":\\\"#E5ECF6\\\",\\\"ticks\\\":\\\"\\\",\\\"showbackground\\\":true,\\\"zerolinecolor\\\":\\\"white\\\",\\\"linecolor\\\":\\\"white\\\"},\\\"yaxis\\\":{\\\"gridcolor\\\":\\\"white\\\",\\\"gridwidth\\\":2,\\\"backgroundcolor\\\":\\\"#E5ECF6\\\",\\\"ticks\\\":\\\"\\\",\\\"showbackground\\\":true,\\\"zerolinecolor\\\":\\\"white\\\",\\\"linecolor\\\":\\\"white\\\"}},\\\"colorway\\\":[\\\"#636efa\\\",\\\"#EF553B\\\",\\\"#00cc96\\\",\\\"#ab63fa\\\",\\\"#FFA15A\\\",\\\"#19d3f3\\\",\\\"#FF6692\\\",\\\"#B6E880\\\",\\\"#FF97FF\\\",\\\"#FECB52\\\"]},\\\"data\\\":{\\\"barpolar\\\":[{\\\"type\\\":\\\"barpolar\\\",\\\"marker\\\":{\\\"line\\\":{\\\"color\\\":\\\"#E5ECF6\\\",\\\"width\\\":0.5}}}],\\\"carpet\\\":[{\\\"aaxis\\\":{\\\"gridcolor\\\":\\\"white\\\",\\\"endlinecolor\\\":\\\"#2a3f5f\\\",\\\"minorgridcolor\\\":\\\"white\\\",\\\"startlinecolor\\\":\\\"#2a3f5f\\\",\\\"linecolor\\\":\\\"white\\\"},\\\"type\\\":\\\"carpet\\\",\\\"baxis\\\":{\\\"gridcolor\\\":\\\"white\\\",\\\"endlinecolor\\\":\\\"#2a3f5f\\\",\\\"minorgridcolor\\\":\\\"white\\\",\\\"startlinecolor\\\":\\\"#2a3f5f\\\",\\\"linecolor\\\":\\\"white\\\"}}],\\\"scatterpolar\\\":[{\\\"type\\\":\\\"scatterpolar\\\",\\\"marker\\\":{\\\"colorbar\\\":{\\\"ticks\\\":\\\"\\\",\\\"outlinewidth\\\":0}}}],\\\"parcoords\\\":[{\\\"line\\\":{\\\"colorbar\\\":{\\\"ticks\\\":\\\"\\\",\\\"outlinewidth\\\":0}},\\\"type\\\":\\\"parcoords\\\"}],\\\"scatter\\\":[{\\\"type\\\":\\\"scatter\\\",\\\"marker\\\":{\\\"colorbar\\\":{\\\"ticks\\\":\\\"\\\",\\\"outlinewidth\\\":0}}}],\\\"histogram2dcontour\\\":[{\\\"colorbar\\\":{\\\"ticks\\\":\\\"\\\",\\\"outlinewidth\\\":0},\\\"type\\\":\\\"histogram2dcontour\\\",\\\"colorscale\\\":[[0.0,\\\"#0d0887\\\"],[0.1111111111111111,\\\"#46039f\\\"],[0.2222222222222222,\\\"#7201a8\\\"],[0.3333333333333333,\\\"#9c179e\\\"],[0.4444444444444444,\\\"#bd3786\\\"],[0.5555555555555556,\\\"#d8576b\\\"],[0.6666666666666666,\\\"#ed7953\\\"],[0.7777777777777778,\\\"#fb9f3a\\\"],[0.8888888888888888,\\\"#fdca26\\\"],[1.0,\\\"#f0f921\\\"]]}],\\\"contour\\\":[{\\\"colorbar\\\":{\\\"ticks\\\":\\\"\\\",\\\"outlinewidth\\\":0},\\\"type\\\":\\\"contour\\\",\\\"colorscale\\\":[[0.0,\\\"#0d0887\\\"],[0.1111111111111111,\\\"#46039f\\\"],[0.2222222222222222,\\\"#7201a8\\\"],[0.3333333333333333,\\\"#9c179e\\\"],[0.4444444444444444,\\\"#bd3786\\\"],[0.5555555555555556,\\\"#d8576b\\\"],[0.6666666666666666,\\\"#ed7953\\\"],[0.7777777777777778,\\\"#fb9f3a\\\"],[0.8888888888888888,\\\"#fdca26\\\"],[1.0,\\\"#f0f921\\\"]]}],\\\"scattercarpet\\\":[{\\\"type\\\":\\\"scattercarpet\\\",\\\"marker\\\":{\\\"colorbar\\\":{\\\"ticks\\\":\\\"\\\",\\\"outlinewidth\\\":0}}}],\\\"mesh3d\\\":[{\\\"colorbar\\\":{\\\"ticks\\\":\\\"\\\",\\\"outlinewidth\\\":0},\\\"type\\\":\\\"mesh3d\\\"}],\\\"surface\\\":[{\\\"colorbar\\\":{\\\"ticks\\\":\\\"\\\",\\\"outlinewidth\\\":0},\\\"type\\\":\\\"surface\\\",\\\"colorscale\\\":[[0.0,\\\"#0d0887\\\"],[0.1111111111111111,\\\"#46039f\\\"],[0.2222222222222222,\\\"#7201a8\\\"],[0.3333333333333333,\\\"#9c179e\\\"],[0.4444444444444444,\\\"#bd3786\\\"],[0.5555555555555556,\\\"#d8576b\\\"],[0.6666666666666666,\\\"#ed7953\\\"],[0.7777777777777778,\\\"#fb9f3a\\\"],[0.8888888888888888,\\\"#fdca26\\\"],[1.0,\\\"#f0f921\\\"]]}],\\\"scattermapbox\\\":[{\\\"type\\\":\\\"scattermapbox\\\",\\\"marker\\\":{\\\"colorbar\\\":{\\\"ticks\\\":\\\"\\\",\\\"outlinewidth\\\":0}}}],\\\"scattergeo\\\":[{\\\"type\\\":\\\"scattergeo\\\",\\\"marker\\\":{\\\"colorbar\\\":{\\\"ticks\\\":\\\"\\\",\\\"outlinewidth\\\":0}}}],\\\"histogram\\\":[{\\\"type\\\":\\\"histogram\\\",\\\"marker\\\":{\\\"colorbar\\\":{\\\"ticks\\\":\\\"\\\",\\\"outlinewidth\\\":0}}}],\\\"pie\\\":[{\\\"type\\\":\\\"pie\\\",\\\"automargin\\\":true}],\\\"choropleth\\\":[{\\\"colorbar\\\":{\\\"ticks\\\":\\\"\\\",\\\"outlinewidth\\\":0},\\\"type\\\":\\\"choropleth\\\"}],\\\"heatmapgl\\\":[{\\\"colorbar\\\":{\\\"ticks\\\":\\\"\\\",\\\"outlinewidth\\\":0},\\\"type\\\":\\\"heatmapgl\\\",\\\"colorscale\\\":[[0.0,\\\"#0d0887\\\"],[0.1111111111111111,\\\"#46039f\\\"],[0.2222222222222222,\\\"#7201a8\\\"],[0.3333333333333333,\\\"#9c179e\\\"],[0.4444444444444444,\\\"#bd3786\\\"],[0.5555555555555556,\\\"#d8576b\\\"],[0.6666666666666666,\\\"#ed7953\\\"],[0.7777777777777778,\\\"#fb9f3a\\\"],[0.8888888888888888,\\\"#fdca26\\\"],[1.0,\\\"#f0f921\\\"]]}],\\\"bar\\\":[{\\\"type\\\":\\\"bar\\\",\\\"error_y\\\":{\\\"color\\\":\\\"#2a3f5f\\\"},\\\"error_x\\\":{\\\"color\\\":\\\"#2a3f5f\\\"},\\\"marker\\\":{\\\"line\\\":{\\\"color\\\":\\\"#E5ECF6\\\",\\\"width\\\":0.5}}}],\\\"heatmap\\\":[{\\\"colorbar\\\":{\\\"ticks\\\":\\\"\\\",\\\"outlinewidth\\\":0},\\\"type\\\":\\\"heatmap\\\",\\\"colorscale\\\":[[0.0,\\\"#0d0887\\\"],[0.1111111111111111,\\\"#46039f\\\"],[0.2222222222222222,\\\"#7201a8\\\"],[0.3333333333333333,\\\"#9c179e\\\"],[0.4444444444444444,\\\"#bd3786\\\"],[0.5555555555555556,\\\"#d8576b\\\"],[0.6666666666666666,\\\"#ed7953\\\"],[0.7777777777777778,\\\"#fb9f3a\\\"],[0.8888888888888888,\\\"#fdca26\\\"],[1.0,\\\"#f0f921\\\"]]}],\\\"contourcarpet\\\":[{\\\"colorbar\\\":{\\\"ticks\\\":\\\"\\\",\\\"outlinewidth\\\":0},\\\"type\\\":\\\"contourcarpet\\\"}],\\\"table\\\":[{\\\"type\\\":\\\"table\\\",\\\"header\\\":{\\\"line\\\":{\\\"color\\\":\\\"white\\\"},\\\"fill\\\":{\\\"color\\\":\\\"#C8D4E3\\\"}},\\\"cells\\\":{\\\"line\\\":{\\\"color\\\":\\\"white\\\"},\\\"fill\\\":{\\\"color\\\":\\\"#EBF0F8\\\"}}}],\\\"scatter3d\\\":[{\\\"line\\\":{\\\"colorbar\\\":{\\\"ticks\\\":\\\"\\\",\\\"outlinewidth\\\":0}},\\\"type\\\":\\\"scatter3d\\\",\\\"marker\\\":{\\\"colorbar\\\":{\\\"ticks\\\":\\\"\\\",\\\"outlinewidth\\\":0}}}],\\\"scattergl\\\":[{\\\"type\\\":\\\"scattergl\\\",\\\"marker\\\":{\\\"colorbar\\\":{\\\"ticks\\\":\\\"\\\",\\\"outlinewidth\\\":0}}}],\\\"histogram2d\\\":[{\\\"colorbar\\\":{\\\"ticks\\\":\\\"\\\",\\\"outlinewidth\\\":0},\\\"type\\\":\\\"histogram2d\\\",\\\"colorscale\\\":[[0.0,\\\"#0d0887\\\"],[0.1111111111111111,\\\"#46039f\\\"],[0.2222222222222222,\\\"#7201a8\\\"],[0.3333333333333333,\\\"#9c179e\\\"],[0.4444444444444444,\\\"#bd3786\\\"],[0.5555555555555556,\\\"#d8576b\\\"],[0.6666666666666666,\\\"#ed7953\\\"],[0.7777777777777778,\\\"#fb9f3a\\\"],[0.8888888888888888,\\\"#fdca26\\\"],[1.0,\\\"#f0f921\\\"]]}],\\\"scatterternary\\\":[{\\\"type\\\":\\\"scatterternary\\\",\\\"marker\\\":{\\\"colorbar\\\":{\\\"ticks\\\":\\\"\\\",\\\"outlinewidth\\\":0}}}],\\\"scatterpolargl\\\":[{\\\"type\\\":\\\"scatterpolargl\\\",\\\"marker\\\":{\\\"colorbar\\\":{\\\"ticks\\\":\\\"\\\",\\\"outlinewidth\\\":0}}}]}},\\\"height\\\":200,\\\"margin\\\":{\\\"l\\\":1,\\\"b\\\":1,\\\"pad\\\":4,\\\"r\\\":1,\\\"t\\\":1},\\\"width\\\":500},{\\\"showLink\\\":false,\\\"editable\\\":false,\\\"responsive\\\":true,\\\"staticPlot\\\":false,\\\"scrollZoom\\\":true}); gd.on(\\\"plotly_hover\\\",(function (data){var filtered_data=WebIO.PlotlyCommands.filterEventData(gd,data,\\\"hover\\\"); return !(filtered_data.isnil) ? (WebIO.setval({\\\"name\\\":\\\"hover\\\",\\\"scope\\\":\\\"13630989968069765714\\\",\\\"id\\\":\\\"41\\\",\\\"type\\\":\\\"observable\\\"},filtered_data.out)) : undefined})); gd.on(\\\"plotly_unhover\\\",(function (){return WebIO.setval({\\\"name\\\":\\\"hover\\\",\\\"scope\\\":\\\"13630989968069765714\\\",\\\"id\\\":\\\"41\\\",\\\"type\\\":\\\"observable\\\"},{})})); gd.on(\\\"plotly_selected\\\",(function (data){var filtered_data=WebIO.PlotlyCommands.filterEventData(gd,data,\\\"selected\\\"); return !(filtered_data.isnil) ? (WebIO.setval({\\\"name\\\":\\\"selected\\\",\\\"scope\\\":\\\"13630989968069765714\\\",\\\"id\\\":\\\"42\\\",\\\"type\\\":\\\"observable\\\"},filtered_data.out)) : undefined})); gd.on(\\\"plotly_deselect\\\",(function (){return WebIO.setval({\\\"name\\\":\\\"selected\\\",\\\"scope\\\":\\\"13630989968069765714\\\",\\\"id\\\":\\\"42\\\",\\\"type\\\":\\\"observable\\\"},{})})); gd.on(\\\"plotly_relayout\\\",(function (data){var filtered_data=WebIO.PlotlyCommands.filterEventData(gd,data,\\\"relayout\\\"); return !(filtered_data.isnil) ? (WebIO.setval({\\\"name\\\":\\\"relayout\\\",\\\"scope\\\":\\\"13630989968069765714\\\",\\\"id\\\":\\\"44\\\",\\\"type\\\":\\\"observable\\\"},filtered_data.out)) : undefined})); return gd.on(\\\"plotly_click\\\",(function (data){var filtered_data=WebIO.PlotlyCommands.filterEventData(gd,data,\\\"click\\\"); return !(filtered_data.isnil) ? (WebIO.setval({\\\"name\\\":\\\"click\\\",\\\"scope\\\":\\\"13630989968069765714\\\",\\\"id\\\":\\\"43\\\",\\\"type\\\":\\\"observable\\\"},filtered_data.out)) : undefined}))}));\\n    (WebIO.importBlock({\\\"data\\\":[{\\\"name\\\":\\\"Plotly\\\",\\\"type\\\":\\\"js\\\",\\\"url\\\":\\\"\\/assetserver\\/6ce5a5e5b28ac6ffdcfcd49d44ebd4d6dbe36ed4-plotly.min.js\\\"},{\\\"name\\\":null,\\\"type\\\":\\\"js\\\",\\\"url\\\":\\\"\\/assetserver\\/6f85150d15f92ccf38dc2254479a8612ce6d040e-plotly_webio.bundle.js\\\"}],\\\"type\\\":\\\"async_block\\\"})).then((imports) => handler.apply(this, imports));\\n}\\n\"],\"observables\":{\"_toImage\":{\"sync\":false,\"id\":\"48\",\"value\":{}},\"hover\":{\"sync\":false,\"id\":\"41\",\"value\":{}},\"selected\":{\"sync\":false,\"id\":\"42\",\"value\":{}},\"__gd_contents\":{\"sync\":false,\"id\":\"46\",\"value\":{}},\"click\":{\"sync\":false,\"id\":\"43\",\"value\":{}},\"image\":{\"sync\":true,\"id\":\"45\",\"value\":\"\"},\"__get_gd_contents\":{\"sync\":false,\"id\":\"50\",\"value\":\"\"},\"_downloadImage\":{\"sync\":false,\"id\":\"49\",\"value\":{}},\"relayout\":{\"sync\":false,\"id\":\"44\",\"value\":{}},\"_commands\":{\"sync\":false,\"id\":\"47\",\"value\":[]}}},\"children\":[{\"props\":{\"id\":\"plot-92725241-b1ba-4528-90ac-33076da31df7\"},\"nodeType\":\"DOM\",\"type\":\"node\",\"instanceArgs\":{\"namespace\":\"html\",\"tag\":\"div\"},\"children\":[]}]},\n",
       "        window,\n",
       "    );\n",
       "    })()\n",
       "    </script>\n",
       "</div>\n"
      ],
      "text/plain": [
       "data: [\n",
       "  \"histogram with fields histnorm, type, and x\"\n",
       "]\n",
       "\n",
       "layout: \"layout with fields autosize, font, height, margin, template, width, and xaxis\"\n",
       "\n"
      ]
     },
     "metadata": {},
     "output_type": "display_data"
    }
   ],
   "source": [
    "cat_nb_cc_with_more_than_1_cycle = string.(sort(Int.(cc_with_more_than_1_cycle\n",
    ")))\n",
    "trace = PlotlyJS.histogram(x=cat_nb_cc_with_more_than_1_cycle, histnorm=\"probability density\")\n",
    "layout = Layout(\n",
    "    autosize=false,\n",
    "    width=500,\n",
    "    height=200,\n",
    "    margin=attr(l=1, r=1, b=1, t=1, pad=4),\n",
    "    font_size=35,\n",
    "    xaxis_type=\"category\",\n",
    ")\n",
    "name = \"comparison_hpkv_MUN_cc_more_than_1_cycle_\"*\"n\"*string(n)*\"p\"*string(p)*\"eta\"*string(eta)*\"q\"*string(q)\n",
    "p_more_than_1 = PlotlyJS.plot(trace,layout)\n"
   ]
  },
  {
   "cell_type": "code",
   "execution_count": null,
   "metadata": {},
   "outputs": [],
   "source": []
  }
 ],
 "metadata": {
  "kernelspec": {
   "display_name": "Julia 1.6.7",
   "language": "julia",
   "name": "julia-1.6"
  },
  "language_info": {
   "file_extension": ".jl",
   "mimetype": "application/julia",
   "name": "julia",
   "version": "1.6.7"
  }
 },
 "nbformat": 4,
 "nbformat_minor": 2
}
