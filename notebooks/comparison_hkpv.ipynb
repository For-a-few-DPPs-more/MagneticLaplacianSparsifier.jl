{
 "cells": [
  {
   "cell_type": "code",
   "execution_count": 161,
   "metadata": {},
   "outputs": [],
   "source": [
    "using MagneticLaplacianSparsifier\n",
    "using Graphs, MetaGraphs, Random, IterTools, LinearAlgebra, GraphPlot, Arpack, Plots, SparseArrays\n",
    "using Statistics\n",
    "using Measures\n",
    "using StatsBase#, JLD\n",
    "using PlotlyJS"
   ]
  },
  {
   "cell_type": "markdown",
   "metadata": {},
   "source": [
    "### Performance of the algebraic sampler of HKPV\n",
    "* 1. [MUN graph  with $\\eta$ small](#graph_small_eta)\n",
    "    * 1.2 [Sampling several times CRSFs with cycle popping and HKPV with $\\eta$ small](#sampling_small_eta) \n",
    "    * 1.3 [Distributions of cycle-rooted trees with $\\eta$ small](#CTRs_small_eta) \n",
    "    * 1.4 [Distributions of connected subgraphs with $0$ cycles (trees) with $\\eta$ small ](#Ts_small_eta) \n",
    "    * 1.5 [Distributions of connected subgraphs with at least $2$ cycles with $\\eta$ small](#Morecycles_small_eta) \n",
    "    * 1.6 [Timings with $\\eta$ small](#Timing_small_eta) \n",
    "* 2. [MUN graph  with $\\eta$ large](#graph_large_eta)\n",
    "    * 1.2 [Sampling several times CRSFs with cycle popping and HKPV with $\\eta$ large](#sampling_large_eta) \n",
    "    * 1.3 [Distributions of cycle-rooted trees with $\\eta$ large](#CTRs_large_eta) \n",
    "    * 1.4 [Distributions of connected subgraphs with $0$ cycles (trees) with $\\eta$ large](#Ts_large_eta) \n",
    "    * 1.5 [Distributions of connected subgraphs with at least $2$ cycles with $\\eta$ large](#Morecycles_large_eta) \n",
    "    * 1.6 [Timings with $\\eta$ large](#Timing_large_eta) "
   ]
  },
  {
   "cell_type": "code",
   "execution_count": 162,
   "metadata": {},
   "outputs": [
    {
     "data": {
      "text/plain": [
       "100"
      ]
     },
     "metadata": {},
     "output_type": "display_data"
    }
   ],
   "source": [
    "# common parameters\n",
    "type=\"MUN\"\n",
    "rng = Random.default_rng()\n",
    "\n",
    "# graph parameters\n",
    "n = 100\n",
    "p = 0.6\n",
    "\n",
    "# regularization\n",
    "q = 0\n",
    "\n",
    "# planted ranking score\n",
    "planted_score = randperm(rng,n)\n",
    "\n",
    "# for MC evaluations\n",
    "nb_samples = 100"
   ]
  },
  {
   "cell_type": "markdown",
   "metadata": {},
   "source": [
    "#### 1. MUN graph  with $\\eta$ small <a id=\"graph_small_eta\"></a>\n"
   ]
  },
  {
   "cell_type": "code",
   "execution_count": 163,
   "metadata": {},
   "outputs": [
    {
     "data": {
      "text/plain": [
       "100"
      ]
     },
     "metadata": {},
     "output_type": "display_data"
    }
   ],
   "source": [
    "eta = 0.1\n",
    "# graph model\n",
    "if type==\"MUN\"\n",
    "    meta_g = gen_graph_mun(rng, n, p, eta;planted_score)\n",
    "elseif type==\"ERO\"\n",
    "    meta_g = gen_graph_ero(rng, n, p, eta;planted_score)\n",
    "end\n",
    "sparseB = sp_magnetic_incidence(meta_g; oriented=true);\n",
    "n = nv(meta_g)"
   ]
  },
  {
   "cell_type": "markdown",
   "metadata": {},
   "source": [
    "1.1 Sampling several times CRSFs with cycle popping and HKPV  with $\\eta$ small <a id=\"sampling_small_eta\"></a>\n"
   ]
  },
  {
   "cell_type": "code",
   "execution_count": 164,
   "metadata": {},
   "outputs": [
    {
     "name": "stdout",
     "output_type": "stream",
     "text": [
      "[1.0, 3.0, 0.0, 2.0, 0.0, 2.0, 2.0, 0.0, 1.0, 2.0, 1.0, 1.0, 3.0, 0.0, 1.0, 1.0, 1.0, 0.0, 0.0, 3.0, 0.0, 0.0, 0.0, 0.0, 1.0, 0.0, 3.0, 1.0, 1.0, 1.0, 0.0, 2.0, 2.0, 2.0, 0.0, 0.0, 1.0, 2.0, 1.0, 1.0, 1.0, 1.0, 0.0, 1.0, 1.0, 0.0, 0.0, 3.0, 0.0, 2.0, 1.0, 2.0, 2.0, 0.0, 1.0, 0.0, 3.0, 0.0, 1.0, 2.0, 1.0, 1.0, 0.0, 0.0, 1.0, 2.0, 2.0, 2.0, 0.0, 1.0, 2.0, 0.0, 0.0, 2.0, 0.0, 0.0, 1.0, 1.0, 0.0, 3.0, 2.0, 1.0, 1.0, 1.0, 1.0, 1.0, 0.0, 1.0, 0.0, 2.0, 0.0, 1.0, 0.0, 0.0, 1.0, 0.0, 0.0, 0.0, 0.0, 0.0]\n",
      "[0.0, 0.0, 2.0, 0.0, 2.0, 0.0, 0.0, 0.0, 0.0, 0.0, 0.0, 0.0, 0.0, 2.0, 0.0, 0.0, 0.0, 1.0, 0.0, 0.0, 0.0, 0.0, 0.0, 1.0, 0.0, 1.0, 0.0, 0.0, 1.0, 1.0, 2.0, 0.0, 0.0, 0.0, 1.0, 2.0, 0.0, 0.0, 0.0, 0.0, 0.0, 0.0, 0.0, 0.0, 0.0, 0.0, 1.0, 0.0, 1.0, 0.0, 0.0, 0.0, 0.0, 1.0, 0.0, 1.0, 0.0, 1.0, 0.0, 0.0, 0.0, 0.0, 2.0, 0.0, 1.0, 0.0, 0.0, 0.0, 1.0, 0.0, 0.0, 1.0, 1.0, 0.0, 0.0, 2.0, 0.0, 0.0, 1.0, 0.0, 0.0, 0.0, 0.0, 0.0, 0.0, 0.0, 1.0, 0.0, 1.0, 0.0, 2.0, 1.0, 0.0, 0.0, 1.0, 1.0, 1.0, 0.0, 0.0, 1.0]\n",
      "[0.0, 0.0, 1.0, 0.0, 1.0, 0.0, 0.0, 1.0, 0.0, 0.0, 0.0, 1.0, 0.0, 1.0, 0.0, 0.0, 0.0, 1.0, 1.0, 0.0, 1.0, 1.0, 1.0, 1.0, 0.0, 1.0, 0.0, 0.0, 1.0, 1.0, 1.0, 0.0, 0.0, 0.0, 1.0, 1.0, 0.0, 0.0, 1.0, 1.0, 0.0, 0.0, 1.0, 0.0, 0.0, 1.0, 1.0, 0.0, 1.0, 0.0, 0.0, 0.0, 0.0, 1.0, 0.0, 1.0, 0.0, 1.0, 0.0, 0.0, 0.0, 1.0, 1.0, 1.0, 1.0, 0.0, 0.0, 0.0, 1.0, 0.0, 0.0, 1.0, 1.0, 0.0, 1.0, 1.0, 1.0, 0.0, 1.0, 0.0, 1.0, 0.0, 0.0, 0.0, 0.0, 0.0, 1.0, 0.0, 1.0, 1.0, 1.0, 1.0, 1.0, 1.0, 1.0, 1.0, 1.0, 1.0, 1.0, 1.0]\n",
      " \n",
      "[0.04089173765 0.0019393553000000001]\n"
     ]
    }
   ],
   "source": [
    "nb_edges = zeros(nb_samples)\n",
    "nb_cc = zeros(nb_samples)\n",
    "\n",
    "cc_with_1_cycle = zeros(nb_samples)\n",
    "cc_with_0_cycle = zeros(nb_samples)\n",
    "cc_with_more_than_1_cycle = zeros(nb_samples)\n",
    "\n",
    "time_hkpv = zeros(nb_samples)\n",
    "time_mtsf = zeros(nb_samples)\n",
    "\n",
    "\n",
    "V = Matrix(qr(Matrix(sparseB)).Q)\n",
    "\n",
    "for i_sample in 1:nb_samples\n",
    "\n",
    "    id, t = @timed sample_pdpp(V)\n",
    "    e = collect(edges(meta_g))\n",
    "    subgraph,_ = induced_subgraph(meta_g, e[id])\n",
    "\n",
    "    nb_edges[i_sample] = ne(subgraph)\n",
    "    cc = connected_components(subgraph)\n",
    "\n",
    "    nb_cc[i_sample] = length(cc)\n",
    "\n",
    "    cc = [induced_subgraph(subgraph, cc)[1] for cc in connected_components(subgraph)]\n",
    "\n",
    "    temp_cc_with_1_cycle = 0\n",
    "    temp_cc_with_0_cycle = 0\n",
    "    temp_cc_with_more_than_1_cycle = 0\n",
    "\n",
    "    for i in cc\n",
    "        l = length(cycle_basis(i))\n",
    "        if l == 1\n",
    "            temp_cc_with_1_cycle += 1\n",
    "        elseif l == 0\n",
    "            temp_cc_with_0_cycle += 1\n",
    "        else\n",
    "            temp_cc_with_more_than_1_cycle += 1\n",
    "        end\n",
    "    end\n",
    "\n",
    "    cc_with_1_cycle[i_sample] = temp_cc_with_1_cycle\n",
    "    cc_with_0_cycle[i_sample] = temp_cc_with_0_cycle\n",
    "    cc_with_more_than_1_cycle[i_sample] = temp_cc_with_more_than_1_cycle\n",
    "\n",
    "    time_hkpv[i_sample] = t\n",
    "    mtsf, t_mtsf = @timed multi_type_spanning_forest(rng, meta_g, q)\n",
    "    time_mtsf[i_sample] = t_mtsf\n",
    "\n",
    "end    \n",
    "\n",
    "println(cc_with_1_cycle)\n",
    "println(cc_with_0_cycle)\n",
    "println(cc_with_more_than_1_cycle)\n",
    "println(\" \")\n",
    "println([mean(time_hkpv) mean(time_mtsf)])"
   ]
  },
  {
   "cell_type": "markdown",
   "metadata": {},
   "source": [
    "1.2 Distributions of cycle-rooted trees  with $\\eta$ small <a id=\"CTRs_small_eta\"></a>\n"
   ]
  },
  {
   "cell_type": "code",
   "execution_count": 165,
   "metadata": {},
   "outputs": [
    {
     "data": {
      "text/plain": [
       "\"figures/comparison_hpkv_MUN_cc_with_1_cycle_n100p0.6eta0.1q0.pdf\""
      ]
     },
     "metadata": {},
     "output_type": "display_data"
    }
   ],
   "source": [
    "cat_nb_cc_1_cycle = string.(sort(Int.(cc_with_1_cycle)))\n",
    "trace = PlotlyJS.histogram(x=cat_nb_cc_1_cycle, histnorm=\"probability density\")\n",
    "layout = Layout(\n",
    "    autosize=false,\n",
    "    width=500,\n",
    "    height=200,\n",
    "    margin=attr(l=1, r=1, b=1, t=1, pad=4),\n",
    "    font_size=35,\n",
    "    xaxis_type=\"category\",\n",
    ")\n",
    "name = \"comparison_hpkv_MUN_cc_with_1_cycle_\"*\"n\"*string(n)*\"p\"*string(p)*\"eta\"*string(eta)*\"q\"*string(q)\n",
    "\n",
    "p_1 = PlotlyJS.plot(trace,layout)\n",
    "PlotlyJS.savefig(p_1,\"figures/\"*name*\".pdf\")"
   ]
  },
  {
   "cell_type": "markdown",
   "metadata": {},
   "source": [
    "1.3 Distributions of connected subgraphs with $0$ cycles (trees) with $\\eta$ small <a id=\"Ts_small_eta\"></a>\n"
   ]
  },
  {
   "cell_type": "code",
   "execution_count": 166,
   "metadata": {},
   "outputs": [
    {
     "data": {
      "text/plain": [
       "\"figures/comparison_hpkv_MUN_cc_with_0_cycle_n100p0.6eta0.1q0.pdf\""
      ]
     },
     "metadata": {},
     "output_type": "display_data"
    }
   ],
   "source": [
    "cat_nb_cc_0_cycle = string.(sort(Int.(cc_with_0_cycle)))\n",
    "trace = PlotlyJS.histogram(x=cat_nb_cc_0_cycle, histnorm=\"probability density\")\n",
    "layout = Layout(\n",
    "    autosize=false,\n",
    "    width=500,\n",
    "    height=200,\n",
    "    margin=attr(l=1, r=1, b=1, t=1, pad=4),\n",
    "    font_size=35,\n",
    "    xaxis_type=\"category\",\n",
    ")\n",
    "p_0 = PlotlyJS.plot(trace,layout)\n",
    "name = \"comparison_hpkv_MUN_cc_with_0_cycle_\"*\"n\"*string(n)*\"p\"*string(p)*\"eta\"*string(eta)*\"q\"*string(q)\n",
    "\n",
    "PlotlyJS.savefig(p_0,\"figures/\"*name*\".pdf\")"
   ]
  },
  {
   "cell_type": "markdown",
   "metadata": {},
   "source": [
    "1.4 Distributions of connected subgraphs with at least $2$ cycles with $\\eta$ small <a id=\"Morecycles_small_eta\"></a>"
   ]
  },
  {
   "cell_type": "code",
   "execution_count": 167,
   "metadata": {},
   "outputs": [
    {
     "data": {
      "text/plain": [
       "\"figures/comparison_hpkv_MUN_cc_more_than_1_cycle_n100p0.6eta0.1q0.pdf\""
      ]
     },
     "metadata": {},
     "output_type": "display_data"
    }
   ],
   "source": [
    "cat_nb_cc_with_more_than_1_cycle = string.(sort(Int.(cc_with_more_than_1_cycle\n",
    ")))\n",
    "trace = PlotlyJS.histogram(x=cat_nb_cc_with_more_than_1_cycle, histnorm=\"probability density\")\n",
    "layout = Layout(\n",
    "    autosize=false,\n",
    "    width=500,\n",
    "    height=200,\n",
    "    margin=attr(l=1, r=1, b=1, t=1, pad=4),\n",
    "    font_size=35,\n",
    "    xaxis_type=\"category\",\n",
    ")\n",
    "p_more_than_1 = PlotlyJS.plot(trace,layout)\n",
    "name = \"comparison_hpkv_MUN_cc_more_than_1_cycle_\"*\"n\"*string(n)*\"p\"*string(p)*\"eta\"*string(eta)*\"q\"*string(q)\n",
    "\n",
    "PlotlyJS.savefig(p_more_than_1,\"figures/\"*name*\".pdf\")"
   ]
  },
  {
   "cell_type": "markdown",
   "metadata": {},
   "source": [
    "1.5 Timings with $\\eta$ small <a id=\"Timing_small_eta\"></a>\n"
   ]
  },
  {
   "cell_type": "markdown",
   "metadata": {},
   "source": [
    "HKPV timing"
   ]
  },
  {
   "cell_type": "code",
   "execution_count": 168,
   "metadata": {},
   "outputs": [
    {
     "data": {
      "text/plain": [
       "\"figures/comparison_hpkv_MUN_time_hkpv_n100p0.6eta0.1q0.pdf\""
      ]
     },
     "metadata": {},
     "output_type": "display_data"
    }
   ],
   "source": [
    "trace = box(y=(time_hkpv),\n",
    "boxpoints=\"all\",\n",
    "marker=attr(\n",
    "        color=\"LightSkyBlue\",\n",
    "        size=3),\n",
    "quartilemethod=\"linear\",\n",
    "name=\"\",\n",
    "marker_color=\"royalblue\",\n",
    "boxmean=true)\n",
    "\n",
    "layout = Layout(\n",
    "    autosize=false,\n",
    "    width=500,\n",
    "    height=200,\n",
    "    margin=attr(l=1, r=1, b=1, t=1, pad=4),\n",
    "    font_size=20,\n",
    ")\n",
    "p_time_hkpv = PlotlyJS.plot(trace,layout)\n",
    "name = \"comparison_hpkv_MUN_time_hkpv_\"*\"n\"*string(n)*\"p\"*string(p)*\"eta\"*string(eta)*\"q\"*string(q)\n",
    "PlotlyJS.savefig(p_time_hkpv,\"figures/\"*name*\".pdf\")"
   ]
  },
  {
   "cell_type": "markdown",
   "metadata": {},
   "source": [
    "cycle popping timing"
   ]
  },
  {
   "cell_type": "code",
   "execution_count": 169,
   "metadata": {},
   "outputs": [
    {
     "data": {
      "text/plain": [
       "\"figures/comparison_hpkv_MUN_time_mtsf_n100p0.6eta0.1q0.pdf\""
      ]
     },
     "metadata": {},
     "output_type": "display_data"
    }
   ],
   "source": [
    "trace = box(y=(time_mtsf),\n",
    "boxpoints=\"all\",\n",
    "marker=attr(\n",
    "        color=\"LightSkyBlue\",\n",
    "        size=3),\n",
    "quartilemethod=\"linear\",\n",
    "name=\"\",\n",
    "marker_color=\"royalblue\",\n",
    "boxmean=true)\n",
    "\n",
    "layout = Layout(\n",
    "    autosize=false,\n",
    "    width=500,\n",
    "    height=200,\n",
    "    margin=attr(l=1, r=1, b=1, t=1, pad=4),\n",
    "    font_size=20,\n",
    ")\n",
    "p_time_mtsf = PlotlyJS.plot(trace,layout)\n",
    "name = \"comparison_hpkv_MUN_time_mtsf_\"*\"n\"*string(n)*\"p\"*string(p)*\"eta\"*string(eta)*\"q\"*string(q)\n",
    "PlotlyJS.savefig(p_time_mtsf,\"figures/\"*name*\".pdf\")"
   ]
  },
  {
   "cell_type": "markdown",
   "metadata": {},
   "source": [
    "### 2. MUN graph  with $\\eta$ large <a id=\"graph_large_eta\"></a>\n"
   ]
  },
  {
   "cell_type": "code",
   "execution_count": 170,
   "metadata": {},
   "outputs": [],
   "source": [
    "eta = 0.7\n",
    "# graph model\n",
    "if type==\"MUN\"\n",
    "    meta_g = gen_graph_mun(rng, n, p, eta;planted_score)\n",
    "elseif type==\"ERO\"\n",
    "    meta_g = gen_graph_ero(rng, n, p, eta;planted_score)\n",
    "end\n",
    "sparseB = sp_magnetic_incidence(meta_g; oriented=true);"
   ]
  },
  {
   "cell_type": "markdown",
   "metadata": {},
   "source": [
    "2.1 Sampling several times CRSFs with cycle popping and HKPV with $\\eta$ large <a id=\"sampling_large_eta\"></a>\n"
   ]
  },
  {
   "cell_type": "code",
   "execution_count": 171,
   "metadata": {},
   "outputs": [
    {
     "name": "stdout",
     "output_type": "stream",
     "text": [
      "[1.0, 1.0, 3.0, 2.0, 2.0, 1.0, 1.0, 1.0, 2.0, 1.0, 0.0, 1.0, 1.0, 1.0, 2.0, 1.0, 0.0, 1.0, 2.0, 1.0, 2.0, 1.0, 1.0, 1.0, 1.0, 2.0, 1.0, 1.0, 1.0, 3.0, 1.0, 2.0, 1.0, 0.0, 1.0, 1.0, 2.0, 1.0, 0.0, 1.0, 2.0, 0.0, 3.0, 2.0, 0.0, 0.0, 0.0, 1.0, 1.0, 1.0, 1.0, 1.0, 1.0, 1.0, 3.0, 2.0, 1.0, 1.0, 2.0, 1.0, 1.0, 2.0, 1.0, 2.0, 1.0, 1.0, 0.0, 1.0, 2.0, 1.0, 2.0, 2.0, 1.0, 4.0, 0.0, 1.0, 2.0, 2.0, 1.0, 1.0, 1.0, 2.0, 2.0, 2.0, 1.0, 1.0, 1.0, 3.0, 2.0, 2.0, 2.0, 0.0, 1.0, 2.0, 2.0, 1.0, 2.0, 2.0, 3.0, 1.0]\n",
      "[0.0, 0.0, 0.0, 0.0, 0.0, 0.0, 0.0, 0.0, 0.0, 0.0, 1.0, 1.0, 0.0, 0.0, 0.0, 0.0, 0.0, 0.0, 1.0, 0.0, 0.0, 1.0, 0.0, 0.0, 0.0, 0.0, 0.0, 0.0, 0.0, 0.0, 0.0, 0.0, 0.0, 0.0, 0.0, 0.0, 0.0, 0.0, 1.0, 0.0, 0.0, 0.0, 0.0, 0.0, 1.0, 0.0, 1.0, 1.0, 0.0, 0.0, 0.0, 0.0, 0.0, 0.0, 0.0, 0.0, 0.0, 0.0, 0.0, 0.0, 0.0, 0.0, 0.0, 1.0, 0.0, 1.0, 1.0, 0.0, 0.0, 0.0, 0.0, 0.0, 0.0, 0.0, 1.0, 0.0, 0.0, 0.0, 0.0, 0.0, 0.0, 0.0, 0.0, 1.0, 0.0, 0.0, 0.0, 0.0, 0.0, 0.0, 0.0, 0.0, 0.0, 0.0, 0.0, 0.0, 0.0, 0.0, 0.0, 0.0]\n",
      "[0.0, 0.0, 0.0, 0.0, 0.0, 0.0, 0.0, 0.0, 0.0, 0.0, 1.0, 1.0, 0.0, 0.0, 1.0, 0.0, 1.0, 0.0, 1.0, 0.0, 0.0, 1.0, 0.0, 0.0, 0.0, 0.0, 0.0, 0.0, 0.0, 0.0, 0.0, 0.0, 0.0, 1.0, 0.0, 0.0, 0.0, 0.0, 1.0, 0.0, 0.0, 1.0, 0.0, 0.0, 1.0, 1.0, 1.0, 1.0, 0.0, 1.0, 0.0, 0.0, 0.0, 0.0, 0.0, 0.0, 0.0, 0.0, 0.0, 0.0, 0.0, 0.0, 0.0, 1.0, 0.0, 1.0, 1.0, 0.0, 0.0, 0.0, 0.0, 0.0, 0.0, 0.0, 1.0, 0.0, 0.0, 0.0, 0.0, 0.0, 0.0, 0.0, 0.0, 1.0, 0.0, 0.0, 0.0, 0.0, 0.0, 0.0, 0.0, 1.0, 0.0, 0.0, 0.0, 0.0, 0.0, 0.0, 0.0, 0.0]\n",
      " \n",
      "[0.11436684444 0.00196887859]\n"
     ]
    }
   ],
   "source": [
    "nb_edges = zeros(nb_samples)\n",
    "nb_cc = zeros(nb_samples)\n",
    "\n",
    "cc_with_1_cycle = zeros(nb_samples)\n",
    "cc_with_0_cycle = zeros(nb_samples)\n",
    "cc_with_more_than_1_cycle = zeros(nb_samples)\n",
    "\n",
    "time_hkpv = zeros(nb_samples)\n",
    "time_mtsf = zeros(nb_samples)\n",
    "\n",
    "V = Matrix(qr(Matrix(sparseB)).Q)\n",
    "\n",
    "for i_sample in 1:nb_samples\n",
    "\n",
    "    id, t = @timed sample_pdpp(V)\n",
    "    e = collect(edges(meta_g))\n",
    "    subgraph,_ = induced_subgraph(meta_g, e[id])\n",
    "\n",
    "    nb_edges[i_sample] = ne(subgraph)\n",
    "    cc = connected_components(subgraph)\n",
    "\n",
    "    nb_cc[i_sample] = length(cc)\n",
    "\n",
    "    cc = [induced_subgraph(subgraph, cc)[1] for cc in connected_components(subgraph)]\n",
    "\n",
    "    temp_cc_with_1_cycle = 0\n",
    "    temp_cc_with_0_cycle = 0\n",
    "    temp_cc_with_more_than_1_cycle = 0\n",
    "\n",
    "    for i in cc\n",
    "        l = length(cycle_basis(i))\n",
    "        if l == 1\n",
    "            temp_cc_with_1_cycle += 1\n",
    "        elseif l == 0\n",
    "            temp_cc_with_0_cycle += 1\n",
    "        else\n",
    "            temp_cc_with_more_than_1_cycle += 1\n",
    "        end\n",
    "    end\n",
    "\n",
    "    cc_with_1_cycle[i_sample] = temp_cc_with_1_cycle\n",
    "    cc_with_0_cycle[i_sample] = temp_cc_with_0_cycle\n",
    "    cc_with_more_than_1_cycle[i_sample] = temp_cc_with_more_than_1_cycle\n",
    "\n",
    "    time_hkpv[i_sample] = t\n",
    "    mtsf, t_mtsf = @timed multi_type_spanning_forest(rng, meta_g, q)\n",
    "    time_mtsf[i_sample] = t_mtsf\n",
    "\n",
    "end    \n",
    "\n",
    "println(cc_with_1_cycle)\n",
    "println(cc_with_0_cycle)\n",
    "println(cc_with_more_than_1_cycle)\n",
    "println(\" \")\n",
    "println([mean(time_hkpv) mean(time_mtsf)])"
   ]
  },
  {
   "cell_type": "markdown",
   "metadata": {},
   "source": [
    "2.2 Distributions of cycle-rooted trees with $\\eta$ large <a id=\"CTRs_large_eta\"></a>\n"
   ]
  },
  {
   "cell_type": "code",
   "execution_count": 172,
   "metadata": {},
   "outputs": [
    {
     "data": {
      "text/plain": [
       "\"figures/comparison_hpkv_MUN_cc_with_1_cycle_n100p0.6eta0.7q0.pdf\""
      ]
     },
     "metadata": {},
     "output_type": "display_data"
    }
   ],
   "source": [
    "cat_nb_cc_1_cycle = string.(sort(Int.(cc_with_1_cycle)))\n",
    "trace = PlotlyJS.histogram(x=cat_nb_cc_1_cycle, histnorm=\"probability density\")\n",
    "layout = Layout(\n",
    "    autosize=false,\n",
    "    width=500,\n",
    "    height=200,\n",
    "    margin=attr(l=1, r=1, b=1, t=1, pad=4),\n",
    "    font_size=35,\n",
    "    xaxis_type=\"category\",\n",
    ")\n",
    "name = \"comparison_hpkv_MUN_cc_with_1_cycle_\"*\"n\"*string(n)*\"p\"*string(p)*\"eta\"*string(eta)*\"q\"*string(q)\n",
    "p_1 = PlotlyJS.plot(trace,layout)\n",
    "PlotlyJS.savefig(p_1,\"figures/\"*name*\".pdf\")"
   ]
  },
  {
   "cell_type": "markdown",
   "metadata": {},
   "source": [
    "2.3 Distributions of connected subgraphs with $0$ cycles (trees) with $\\eta$ large <a id=\"Ts_large_eta\"></a>\n"
   ]
  },
  {
   "cell_type": "code",
   "execution_count": 173,
   "metadata": {},
   "outputs": [
    {
     "data": {
      "text/plain": [
       "\"figures/comparison_hpkv_MUN_cc_with_0_cycle_n100p0.6eta0.7q0.pdf\""
      ]
     },
     "metadata": {},
     "output_type": "display_data"
    }
   ],
   "source": [
    "cat_nb_cc_0_cycle = string.(sort(Int.(cc_with_0_cycle)))\n",
    "trace = PlotlyJS.histogram(x=cat_nb_cc_0_cycle, histnorm=\"probability density\")\n",
    "layout = Layout(\n",
    "    autosize=false,\n",
    "    width=500,\n",
    "    height=200,\n",
    "    margin=attr(l=1, r=1, b=1, t=1, pad=4),\n",
    "    font_size=35,\n",
    "    xaxis_type=\"category\",\n",
    ")\n",
    "name = \"comparison_hpkv_MUN_cc_with_0_cycle_\"*\"n\"*string(n)*\"p\"*string(p)*\"eta\"*string(eta)*\"q\"*string(q)\n",
    "p_0 = PlotlyJS.plot(trace,layout)\n",
    "PlotlyJS.savefig(p_0,\"figures/\"*name*\".pdf\")"
   ]
  },
  {
   "cell_type": "markdown",
   "metadata": {},
   "source": [
    "2.4 Distributions of connected subgraphs with at least $2$ cycles with $\\eta$ large <a id=\"Morecycles_large_eta\"></a>\n"
   ]
  },
  {
   "cell_type": "code",
   "execution_count": 174,
   "metadata": {},
   "outputs": [
    {
     "data": {
      "text/plain": [
       "\"figures/comparison_hpkv_MUN_cc_more_than_1_cycle_n100p0.6eta0.7q0.pdf\""
      ]
     },
     "metadata": {},
     "output_type": "display_data"
    }
   ],
   "source": [
    "cat_nb_cc_with_more_than_1_cycle = string.(sort(Int.(cc_with_more_than_1_cycle\n",
    ")))\n",
    "trace = PlotlyJS.histogram(x=cat_nb_cc_with_more_than_1_cycle, histnorm=\"probability density\")\n",
    "layout = Layout(\n",
    "    autosize=false,\n",
    "    width=500,\n",
    "    height=200,\n",
    "    margin=attr(l=1, r=1, b=1, t=1, pad=4),\n",
    "    font_size=35,\n",
    "    xaxis_type=\"category\",\n",
    ")\n",
    "name = \"comparison_hpkv_MUN_cc_more_than_1_cycle_\"*\"n\"*string(n)*\"p\"*string(p)*\"eta\"*string(eta)*\"q\"*string(q)\n",
    "p_more_than_1 = PlotlyJS.plot(trace,layout)\n",
    "PlotlyJS.savefig(p_more_than_1,\"figures/\"*name*\".pdf\")"
   ]
  },
  {
   "cell_type": "markdown",
   "metadata": {},
   "source": [
    "2.5 Timings with $\\eta$ large <a id=\"Timing_large_eta\"></a>\n"
   ]
  },
  {
   "cell_type": "markdown",
   "metadata": {},
   "source": [
    "HKPV timing"
   ]
  },
  {
   "cell_type": "code",
   "execution_count": 175,
   "metadata": {},
   "outputs": [
    {
     "data": {
      "text/plain": [
       "\"figures/comparison_hpkv_MUN_time_hkpv_n100p0.6eta0.7q0.pdf\""
      ]
     },
     "metadata": {},
     "output_type": "display_data"
    }
   ],
   "source": [
    "trace = box(y=(time_hkpv),\n",
    "boxpoints=\"all\",\n",
    "marker=attr(\n",
    "        color=\"LightSkyBlue\",\n",
    "        size=3),\n",
    "quartilemethod=\"linear\",\n",
    "name=\"\",\n",
    "marker_color=\"royalblue\",\n",
    "boxmean=true)\n",
    "\n",
    "layout = Layout(\n",
    "    autosize=false,\n",
    "    width=500,\n",
    "    height=200,\n",
    "    margin=attr(l=1, r=1, b=1, t=1, pad=4),\n",
    "    font_size=20,\n",
    ")\n",
    "name = \"comparison_hpkv_MUN_time_hkpv_\"*\"n\"*string(n)*\"p\"*string(p)*\"eta\"*string(eta)*\"q\"*string(q)\n",
    "p_time_hpkv = PlotlyJS.plot(trace,layout)\n",
    "PlotlyJS.savefig(p_time_hpkv,\"figures/\"*name*\".pdf\")"
   ]
  },
  {
   "cell_type": "markdown",
   "metadata": {},
   "source": [
    "cycle popping timing"
   ]
  },
  {
   "cell_type": "code",
   "execution_count": 176,
   "metadata": {},
   "outputs": [
    {
     "data": {
      "text/plain": [
       "\"figures/comparison_hpkv_MUN_time_mtsf_n100p0.6eta0.7q0.pdf\""
      ]
     },
     "metadata": {},
     "output_type": "display_data"
    }
   ],
   "source": [
    "trace = box(y=(time_mtsf),\n",
    "boxpoints=\"all\",\n",
    "marker=attr(\n",
    "        color=\"LightSkyBlue\",\n",
    "        size=3),\n",
    "quartilemethod=\"linear\",\n",
    "name=\"\",\n",
    "marker_color=\"royalblue\",\n",
    "boxmean=true)\n",
    "\n",
    "layout = Layout(\n",
    "    autosize=false,\n",
    "    width=500,\n",
    "    height=200,\n",
    "    margin=attr(l=1, r=1, b=1, t=1, pad=4),\n",
    "    font_size=20,\n",
    ")\n",
    "name = \"comparison_hpkv_MUN_time_mtsf_\"*\"n\"*string(n)*\"p\"*string(p)*\"eta\"*string(eta)*\"q\"*string(q)\n",
    "\n",
    "p_time_mtsf = PlotlyJS.plot(trace,layout)\n",
    "PlotlyJS.savefig(p_time_mtsf,\"figures/\"*name*\".pdf\")"
   ]
  },
  {
   "cell_type": "code",
   "execution_count": 177,
   "metadata": {},
   "outputs": [],
   "source": []
  }
 ],
 "metadata": {
  "kernelspec": {
   "display_name": "Julia 1.6.7",
   "language": "julia",
   "name": "julia-1.6"
  },
  "language_info": {
   "file_extension": ".jl",
   "mimetype": "application/julia",
   "name": "julia",
   "version": "1.6.7"
  }
 },
 "nbformat": 4,
 "nbformat_minor": 2
}
