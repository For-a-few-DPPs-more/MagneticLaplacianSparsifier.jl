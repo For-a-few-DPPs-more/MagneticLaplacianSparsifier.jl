{
 "cells": [
  {
   "cell_type": "code",
   "execution_count": 1,
   "metadata": {},
   "outputs": [],
   "source": [
    "using MagneticLaplacianSparsifier\n",
    "using Graphs, MetaGraphs, Random, IterTools, LinearAlgebra, GraphPlot, Arpack, Plots, SparseArrays\n",
    "using Statistics\n",
    "using Measures\n",
    "using StatsBase\n",
    "using PlotlyJS, JLD2"
   ]
  },
  {
   "cell_type": "markdown",
   "metadata": {},
   "source": [
    "### Performance of the algebraic sampler of HKPV\n",
    "* 1. [MUN graph  with $\\eta$ small](#graph_small_eta)\n",
    "    * 1.2 [Sampling several times CRSFs with cycle popping and HKPV with $\\eta$ small](#sampling_small_eta) \n",
    "    * 1.3 [Distributions of cycle-rooted trees with $\\eta$ small](#CTRs_small_eta) \n",
    "    * 1.4 [Distributions of connected subgraphs with $0$ cycles (trees) with $\\eta$ small ](#Ts_small_eta) \n",
    "    * 1.5 [Distributions of connected subgraphs with at least $2$ cycles with $\\eta$ small](#Morecycles_small_eta) \n",
    "    * 1.6 [Timings with $\\eta$ small](#Timing_small_eta) \n",
    "* 2. [MUN graph  with $\\eta$ large](#graph_large_eta)\n",
    "    * 1.2 [Sampling several times CRSFs with cycle popping and HKPV with $\\eta$ large](#sampling_large_eta) \n",
    "    * 1.3 [Distributions of cycle-rooted trees with $\\eta$ large](#CTRs_large_eta) \n",
    "    * 1.4 [Distributions of connected subgraphs with $0$ cycles (trees) with $\\eta$ large](#Ts_large_eta) \n",
    "    * 1.5 [Distributions of connected subgraphs with at least $2$ cycles with $\\eta$ large](#Morecycles_large_eta) \n",
    "    * 1.6 [Timings with $\\eta$ large](#Timing_large_eta) "
   ]
  },
  {
   "cell_type": "code",
   "execution_count": 2,
   "metadata": {},
   "outputs": [
    {
     "data": {
      "text/plain": [
       "100"
      ]
     },
     "metadata": {},
     "output_type": "display_data"
    }
   ],
   "source": [
    "# common parameters\n",
    "type=\"MUN\"\n",
    "rng = Random.default_rng()\n",
    "\n",
    "# graph parameters\n",
    "n = 100\n",
    "p = 0.6\n",
    "\n",
    "# regularization\n",
    "q = 0\n",
    "\n",
    "# planted ranking score\n",
    "planted_score = randperm(rng,n)\n",
    "\n",
    "# for MC evaluations\n",
    "nb_samples = 100"
   ]
  },
  {
   "cell_type": "markdown",
   "metadata": {},
   "source": [
    "#### 1. MUN graph  with $\\eta$ small <a id=\"graph_small_eta\"></a>\n"
   ]
  },
  {
   "cell_type": "code",
   "execution_count": 3,
   "metadata": {},
   "outputs": [
    {
     "data": {
      "text/plain": [
       "100"
      ]
     },
     "metadata": {},
     "output_type": "display_data"
    }
   ],
   "source": [
    "eta = 0.1\n",
    "# graph model\n",
    "if type==\"MUN\"\n",
    "    meta_g = gen_graph_mun(rng, n, p, eta;planted_score)\n",
    "elseif type==\"ERO\"\n",
    "    meta_g = gen_graph_ero(rng, n, p, eta;planted_score)\n",
    "end\n",
    "sparseB = sp_magnetic_incidence(meta_g; oriented=true);\n",
    "n = nv(meta_g)"
   ]
  },
  {
   "cell_type": "markdown",
   "metadata": {},
   "source": [
    "1.1 Sampling several times CRSFs with cycle popping and HKPV  with $\\eta$ small <a id=\"sampling_small_eta\"></a>\n"
   ]
  },
  {
   "cell_type": "code",
   "execution_count": 4,
   "metadata": {},
   "outputs": [
    {
     "name": "stdout",
     "output_type": "stream",
     "text": [
      "[1.0, 1.0, 3.0, 1.0, 1.0, 1.0, 2.0, 3.0, 2.0, 1.0, 1.0, 1.0, 1.0, 1.0, 1.0, 1.0, 1.0, 1.0, 1.0, 2.0, 0.0, 1.0, 0.0, 1.0, 1.0, 1.0, 2.0, 1.0, 1.0, 0.0, 1.0, 0.0, 2.0, 1.0, 0.0, 1.0, 0.0, 1.0, 1.0, 1.0, 1.0, 1.0, 0.0, 0.0, 0.0, 2.0, 1.0, 1.0, 1.0, 3.0, 0.0, 0.0, 2.0, 2.0, 1.0, 0.0, 1.0, 1.0, 1.0, 0.0, 0.0, 0.0, 0.0, 1.0, 0.0, 2.0, 1.0, 1.0, 1.0, 1.0, 2.0, 0.0, 1.0, 0.0, 1.0, 0.0, 0.0, 1.0, 2.0, 0.0, 1.0, 0.0, 0.0, 0.0, 1.0, 0.0, 0.0, 2.0, 0.0, 1.0, 0.0, 1.0, 3.0, 1.0, 1.0, 1.0, 1.0, 0.0, 0.0, 2.0]\n",
      "[0.0, 1.0, 0.0, 0.0, 2.0, 0.0, 0.0, 0.0, 0.0, 1.0, 0.0, 0.0, 0.0, 0.0, 0.0, 0.0, 0.0, 0.0, 1.0, 1.0, 1.0, 0.0, 1.0, 2.0, 0.0, 0.0, 0.0, 0.0, 0.0, 0.0, 0.0, 2.0, 0.0, 1.0, 1.0, 0.0, 2.0, 0.0, 2.0, 0.0, 0.0, 0.0, 0.0, 1.0, 1.0, 0.0, 0.0, 0.0, 0.0, 0.0, 1.0, 2.0, 0.0, 0.0, 0.0, 0.0, 0.0, 0.0, 0.0, 1.0, 1.0, 2.0, 1.0, 0.0, 0.0, 0.0, 0.0, 0.0, 0.0, 0.0, 0.0, 1.0, 0.0, 1.0, 1.0, 2.0, 0.0, 0.0, 0.0, 0.0, 2.0, 2.0, 0.0, 0.0, 0.0, 1.0, 1.0, 0.0, 1.0, 1.0, 0.0, 0.0, 0.0, 0.0, 0.0, 1.0, 2.0, 1.0, 0.0, 0.0]\n",
      "[0.0, 1.0, 0.0, 1.0, 1.0, 0.0, 0.0, 0.0, 0.0, 1.0, 0.0, 0.0, 0.0, 0.0, 0.0, 1.0, 0.0, 0.0, 1.0, 1.0, 1.0, 0.0, 1.0, 1.0, 0.0, 0.0, 0.0, 1.0, 1.0, 1.0, 1.0, 1.0, 0.0, 1.0, 1.0, 0.0, 1.0, 0.0, 1.0, 0.0, 0.0, 0.0, 1.0, 1.0, 1.0, 0.0, 0.0, 0.0, 0.0, 0.0, 1.0, 1.0, 0.0, 1.0, 1.0, 1.0, 0.0, 0.0, 0.0, 1.0, 1.0, 1.0, 1.0, 0.0, 1.0, 0.0, 0.0, 1.0, 0.0, 0.0, 0.0, 1.0, 0.0, 1.0, 1.0, 2.0, 1.0, 1.0, 0.0, 1.0, 1.0, 1.0, 1.0, 1.0, 0.0, 1.0, 1.0, 0.0, 1.0, 1.0, 1.0, 0.0, 0.0, 0.0, 0.0, 1.0, 1.0, 1.0, 1.0, 0.0]\n",
      " \n"
     ]
    },
    {
     "name": "stdout",
     "output_type": "stream",
     "text": [
      "[0.04648093210000001 0.01290908619]\n"
     ]
    }
   ],
   "source": [
    "nb_edges = zeros(nb_samples)\n",
    "nb_cc = zeros(nb_samples)\n",
    "\n",
    "cc_with_1_cycle = zeros(nb_samples)\n",
    "cc_with_0_cycle = zeros(nb_samples)\n",
    "cc_with_more_than_1_cycle = zeros(nb_samples)\n",
    "\n",
    "time_hkpv = zeros(nb_samples)\n",
    "time_mtsf = zeros(nb_samples)\n",
    "\n",
    "\n",
    "V = Matrix(qr(Matrix(sparseB)).Q)\n",
    "\n",
    "for i_sample in 1:nb_samples\n",
    "\n",
    "    id, t = @timed sample_pdpp(V)\n",
    "    e = collect(edges(meta_g))\n",
    "    subgraph,_ = induced_subgraph(meta_g, e[id])\n",
    "\n",
    "    nb_edges[i_sample] = ne(subgraph)\n",
    "    cc = connected_components(subgraph)\n",
    "\n",
    "    nb_cc[i_sample] = length(cc)\n",
    "\n",
    "    cc = [induced_subgraph(subgraph, cc)[1] for cc in connected_components(subgraph)]\n",
    "\n",
    "    temp_cc_with_1_cycle = 0\n",
    "    temp_cc_with_0_cycle = 0\n",
    "    temp_cc_with_more_than_1_cycle = 0\n",
    "\n",
    "    for i in cc\n",
    "        l = length(cycle_basis(i))\n",
    "        if l == 1\n",
    "            temp_cc_with_1_cycle += 1\n",
    "        elseif l == 0\n",
    "            temp_cc_with_0_cycle += 1\n",
    "        else\n",
    "            temp_cc_with_more_than_1_cycle += 1\n",
    "        end\n",
    "    end\n",
    "\n",
    "    cc_with_1_cycle[i_sample] = temp_cc_with_1_cycle\n",
    "    cc_with_0_cycle[i_sample] = temp_cc_with_0_cycle\n",
    "    cc_with_more_than_1_cycle[i_sample] = temp_cc_with_more_than_1_cycle\n",
    "\n",
    "    time_hkpv[i_sample] = t\n",
    "    mtsf, t_mtsf = @timed multi_type_spanning_forest(rng, meta_g, q)\n",
    "    time_mtsf[i_sample] = t_mtsf\n",
    "\n",
    "end    \n",
    "\n",
    "println(cc_with_1_cycle)\n",
    "println(cc_with_0_cycle)\n",
    "println(cc_with_more_than_1_cycle)\n",
    "println(\" \")\n",
    "println([mean(time_hkpv) mean(time_mtsf)])"
   ]
  },
  {
   "cell_type": "code",
   "execution_count": 5,
   "metadata": {},
   "outputs": [],
   "source": [
    "name = \"comparison_hpkv_MUN_\"*\"n\"*string(n)*\"p\"*string(p)*\"eta\"*string(eta)*\"q\"*string(q)\n",
    "\n",
    "save(\"figures/data/\"*name*\"_data.jld2\",\n",
    " \"cc_with_1_cycle\", cc_with_1_cycle,\n",
    " \"cc_with_0_cycle\", cc_with_0_cycle,\n",
    " \"cc_with_more_than_1_cycle\", cc_with_more_than_1_cycle,\n",
    " \"time_hkpv\", time_hkpv,\n",
    " \"time_mtsf\", time_mtsf)"
   ]
  },
  {
   "cell_type": "markdown",
   "metadata": {},
   "source": [
    "1.2 Distributions of cycle-rooted trees  with $\\eta$ small <a id=\"CTRs_small_eta\"></a>\n"
   ]
  },
  {
   "cell_type": "code",
   "execution_count": 6,
   "metadata": {},
   "outputs": [
    {
     "data": {
      "text/plain": [
       "\"figures/comparison_hpkv_MUN_cc_with_1_cycle_n100p0.6eta0.1q0.pdf\""
      ]
     },
     "metadata": {},
     "output_type": "display_data"
    }
   ],
   "source": [
    "name = \"comparison_hpkv_MUN_\"*\"n\"*string(n)*\"p\"*string(p)*\"eta\"*string(eta)*\"q\"*string(q)\n",
    "load(\"figures/data/\"*name*\"_data.jld2\")\n",
    "\n",
    "cat_nb_cc_1_cycle = string.(sort(Int.(cc_with_1_cycle)))\n",
    "trace = PlotlyJS.histogram(x=cat_nb_cc_1_cycle, histnorm=\"probability density\")\n",
    "layout = Layout(\n",
    "    autosize=false,\n",
    "    width=500,\n",
    "    height=200,\n",
    "    margin=attr(l=1, r=1, b=1, t=1, pad=4),\n",
    "    font_size=35,\n",
    "    xaxis_type=\"category\",\n",
    ")\n",
    "name = \"comparison_hpkv_MUN_cc_with_1_cycle_\"*\"n\"*string(n)*\"p\"*string(p)*\"eta\"*string(eta)*\"q\"*string(q)\n",
    "\n",
    "p_1 = PlotlyJS.plot(trace,layout)\n",
    "PlotlyJS.savefig(p_1,\"figures/\"*name*\".pdf\")"
   ]
  },
  {
   "cell_type": "markdown",
   "metadata": {},
   "source": [
    "1.3 Distributions of connected subgraphs with $0$ cycles (trees) with $\\eta$ small <a id=\"Ts_small_eta\"></a>\n"
   ]
  },
  {
   "cell_type": "code",
   "execution_count": 7,
   "metadata": {},
   "outputs": [
    {
     "data": {
      "text/plain": [
       "\"figures/comparison_hpkv_MUN_cc_with_0_cycle_n100p0.6eta0.1q0.pdf\""
      ]
     },
     "metadata": {},
     "output_type": "display_data"
    }
   ],
   "source": [
    "name = \"comparison_hpkv_MUN_\"*\"n\"*string(n)*\"p\"*string(p)*\"eta\"*string(eta)*\"q\"*string(q)\n",
    "load(\"figures/data/\"*name*\"_data.jld2\")\n",
    "\n",
    "cat_nb_cc_0_cycle = string.(sort(Int.(cc_with_0_cycle)))\n",
    "trace = PlotlyJS.histogram(x=cat_nb_cc_0_cycle, histnorm=\"probability density\")\n",
    "layout = Layout(\n",
    "    autosize=false,\n",
    "    width=500,\n",
    "    height=200,\n",
    "    margin=attr(l=1, r=1, b=1, t=1, pad=4),\n",
    "    font_size=35,\n",
    "    xaxis_type=\"category\",\n",
    ")\n",
    "p_0 = PlotlyJS.plot(trace,layout)\n",
    "name = \"comparison_hpkv_MUN_cc_with_0_cycle_\"*\"n\"*string(n)*\"p\"*string(p)*\"eta\"*string(eta)*\"q\"*string(q)\n",
    "\n",
    "PlotlyJS.savefig(p_0,\"figures/\"*name*\".pdf\")"
   ]
  },
  {
   "cell_type": "markdown",
   "metadata": {},
   "source": [
    "1.4 Distributions of connected subgraphs with at least $2$ cycles with $\\eta$ small <a id=\"Morecycles_small_eta\"></a>"
   ]
  },
  {
   "cell_type": "code",
   "execution_count": 8,
   "metadata": {},
   "outputs": [
    {
     "data": {
      "text/plain": [
       "\"figures/comparison_hpkv_MUN_cc_more_than_1_cycle_n100p0.6eta0.1q0.pdf\""
      ]
     },
     "metadata": {},
     "output_type": "display_data"
    }
   ],
   "source": [
    "name = \"comparison_hpkv_MUN_\"*\"n\"*string(n)*\"p\"*string(p)*\"eta\"*string(eta)*\"q\"*string(q)\n",
    "load(\"figures/data/\"*name*\"_data.jld2\")\n",
    "\n",
    "cat_nb_cc_with_more_than_1_cycle = string.(sort(Int.(cc_with_more_than_1_cycle\n",
    ")))\n",
    "trace = PlotlyJS.histogram(x=cat_nb_cc_with_more_than_1_cycle, histnorm=\"probability density\")\n",
    "layout = Layout(\n",
    "    autosize=false,\n",
    "    width=500,\n",
    "    height=200,\n",
    "    margin=attr(l=1, r=1, b=1, t=1, pad=4),\n",
    "    font_size=35,\n",
    "    xaxis_type=\"category\",\n",
    ")\n",
    "p_more_than_1 = PlotlyJS.plot(trace,layout)\n",
    "name = \"comparison_hpkv_MUN_cc_more_than_1_cycle_\"*\"n\"*string(n)*\"p\"*string(p)*\"eta\"*string(eta)*\"q\"*string(q)\n",
    "\n",
    "PlotlyJS.savefig(p_more_than_1,\"figures/\"*name*\".pdf\")"
   ]
  },
  {
   "cell_type": "markdown",
   "metadata": {},
   "source": [
    "1.5 Timings with $\\eta$ small <a id=\"Timing_small_eta\"></a>\n"
   ]
  },
  {
   "cell_type": "markdown",
   "metadata": {},
   "source": [
    "HKPV timing"
   ]
  },
  {
   "cell_type": "code",
   "execution_count": 9,
   "metadata": {},
   "outputs": [
    {
     "data": {
      "text/plain": [
       "\"figures/comparison_hpkv_MUN_time_hkpv_n100p0.6eta0.1q0.pdf\""
      ]
     },
     "metadata": {},
     "output_type": "display_data"
    }
   ],
   "source": [
    "name = \"comparison_hpkv_MUN_\"*\"n\"*string(n)*\"p\"*string(p)*\"eta\"*string(eta)*\"q\"*string(q)\n",
    "load(\"figures/data/\"*name*\"_data.jld2\")\n",
    "\n",
    "trace = box(y=(time_hkpv),\n",
    "marker=attr(\n",
    "        color=\"LightSkyBlue\",\n",
    "        size=3),\n",
    "quartilemethod=\"linear\",\n",
    "name=\"\",\n",
    "marker_color=\"royalblue\",\n",
    "boxmean=true)\n",
    "\n",
    "layout = Layout(\n",
    "    autosize=false,\n",
    "    width=500,\n",
    "    height=200,\n",
    "    margin=attr(l=1, r=1, b=1, t=1, pad=4),\n",
    "    font_size=20,\n",
    ")\n",
    "p_time_hkpv = PlotlyJS.plot(trace,layout)\n",
    "name = \"comparison_hpkv_MUN_time_hkpv_\"*\"n\"*string(n)*\"p\"*string(p)*\"eta\"*string(eta)*\"q\"*string(q)\n",
    "PlotlyJS.savefig(p_time_hkpv,\"figures/\"*name*\".pdf\")"
   ]
  },
  {
   "cell_type": "markdown",
   "metadata": {},
   "source": [
    "cycle popping timing"
   ]
  },
  {
   "cell_type": "code",
   "execution_count": 10,
   "metadata": {},
   "outputs": [
    {
     "data": {
      "text/plain": [
       "\"figures/comparison_hpkv_MUN_time_mtsf_n100p0.6eta0.1q0.pdf\""
      ]
     },
     "metadata": {},
     "output_type": "display_data"
    }
   ],
   "source": [
    "name = \"comparison_hpkv_MUN_\"*\"n\"*string(n)*\"p\"*string(p)*\"eta\"*string(eta)*\"q\"*string(q)\n",
    "load(\"figures/data/\"*name*\"_data.jld2\")\n",
    "\n",
    "trace = box(y=(time_mtsf),\n",
    "marker=attr(\n",
    "        color=\"LightSkyBlue\",\n",
    "        size=3),\n",
    "quartilemethod=\"linear\",\n",
    "name=\"\",\n",
    "marker_color=\"royalblue\",\n",
    "boxmean=true)\n",
    "\n",
    "layout = Layout(\n",
    "    autosize=false,\n",
    "    width=500,\n",
    "    height=200,\n",
    "    margin=attr(l=1, r=1, b=1, t=1, pad=4),\n",
    "    font_size=20,\n",
    ")\n",
    "p_time_mtsf = PlotlyJS.plot(trace,layout)\n",
    "name = \"comparison_hpkv_MUN_time_mtsf_\"*\"n\"*string(n)*\"p\"*string(p)*\"eta\"*string(eta)*\"q\"*string(q)\n",
    "PlotlyJS.savefig(p_time_mtsf,\"figures/\"*name*\".pdf\")"
   ]
  },
  {
   "cell_type": "markdown",
   "metadata": {},
   "source": [
    "### 2. MUN graph  with $\\eta$ large <a id=\"graph_large_eta\"></a>\n"
   ]
  },
  {
   "cell_type": "code",
   "execution_count": 11,
   "metadata": {},
   "outputs": [],
   "source": [
    "eta = 0.7\n",
    "# graph model\n",
    "if type==\"MUN\"\n",
    "    meta_g = gen_graph_mun(rng, n, p, eta;planted_score)\n",
    "elseif type==\"ERO\"\n",
    "    meta_g = gen_graph_ero(rng, n, p, eta;planted_score)\n",
    "end\n",
    "sparseB = sp_magnetic_incidence(meta_g; oriented=true);"
   ]
  },
  {
   "cell_type": "markdown",
   "metadata": {},
   "source": [
    "2.1 Sampling several times CRSFs with cycle popping and HKPV with $\\eta$ large <a id=\"sampling_large_eta\"></a>\n"
   ]
  },
  {
   "cell_type": "code",
   "execution_count": 13,
   "metadata": {},
   "outputs": [
    {
     "name": "stdout",
     "output_type": "stream",
     "text": [
      "[2.0, 2.0, 3.0, 3.0, 1.0, 0.0, 2.0, 1.0, 1.0, 2.0, 0.0, 0.0, 3.0, 1.0, 2.0, 1.0, 3.0, 1.0, 2.0, 1.0, 1.0, 2.0, 3.0, 1.0, 0.0, 1.0, 1.0, 1.0, 2.0, 1.0, 0.0, 2.0, 1.0, 1.0, 2.0, 1.0, 1.0, 1.0, 2.0, 2.0, 2.0, 0.0, 1.0, 2.0, 1.0, 1.0, 2.0, 1.0, 0.0, 0.0, 2.0, 0.0, 1.0, 1.0, 0.0, 1.0, 1.0, 2.0, 1.0, 2.0, 1.0, 1.0, 1.0, 0.0, 2.0, 1.0, 1.0, 2.0, 2.0, 1.0, 2.0, 1.0, 2.0, 1.0, 3.0, 0.0, 2.0, 1.0, 1.0, 1.0, 1.0, 1.0, 3.0, 0.0, 1.0, 2.0, 0.0, 1.0, 2.0, 1.0, 3.0, 0.0, 1.0, 2.0, 1.0, 2.0, 2.0, 2.0, 1.0, 0.0]\n",
      "[0.0, 0.0, 0.0, 0.0, 0.0, 1.0, 0.0, 0.0, 0.0, 0.0, 1.0, 1.0, 0.0, 0.0, 0.0, 0.0, 0.0, 0.0, 0.0, 0.0, 0.0, 0.0, 0.0, 0.0, 1.0, 0.0, 0.0, 0.0, 0.0, 0.0, 1.0, 0.0, 0.0, 0.0, 0.0, 0.0, 1.0, 0.0, 0.0, 0.0, 0.0, 0.0, 0.0, 0.0, 0.0, 0.0, 0.0, 0.0, 1.0, 1.0, 0.0, 1.0, 0.0, 0.0, 1.0, 0.0, 0.0, 0.0, 0.0, 0.0, 0.0, 0.0, 0.0, 0.0, 0.0, 0.0, 0.0, 0.0, 0.0, 0.0, 0.0, 0.0, 0.0, 0.0, 0.0, 0.0, 0.0, 0.0, 0.0, 0.0, 0.0, 1.0, 0.0, 1.0, 0.0, 0.0, 1.0, 0.0, 0.0, 0.0, 0.0, 1.0, 0.0, 0.0, 0.0, 0.0, 0.0, 0.0, 0.0, 1.0]\n",
      "[0.0, 0.0, 0.0, 0.0, 0.0, 1.0, 0.0, 0.0, 1.0, 0.0, 1.0, 1.0, 0.0, 0.0, 0.0, 0.0, 0.0, 0.0, 0.0, 0.0, 0.0, 0.0, 0.0, 0.0, 1.0, 0.0, 0.0, 0.0, 0.0, 0.0, 1.0, 0.0, 0.0, 0.0, 0.0, 0.0, 1.0, 0.0, 0.0, 0.0, 0.0, 1.0, 1.0, 0.0, 0.0, 0.0, 0.0, 0.0, 1.0, 1.0, 0.0, 1.0, 0.0, 0.0, 1.0, 0.0, 0.0, 0.0, 0.0, 0.0, 0.0, 0.0, 0.0, 1.0, 0.0, 0.0, 0.0, 0.0, 0.0, 0.0, 0.0, 0.0, 0.0, 1.0, 0.0, 1.0, 0.0, 0.0, 0.0, 0.0, 0.0, 1.0, 0.0, 1.0, 0.0, 0.0, 1.0, 0.0, 0.0, 0.0, 0.0, 1.0, 0.0, 0.0, 0.0, 0.0, 0.0, 0.0, 0.0, 1.0]\n",
      " \n",
      "[0.031048193800000002 0.00048282197]\n"
     ]
    }
   ],
   "source": [
    "nb_edges = zeros(nb_samples)\n",
    "nb_cc = zeros(nb_samples)\n",
    "\n",
    "cc_with_1_cycle = zeros(nb_samples)\n",
    "cc_with_0_cycle = zeros(nb_samples)\n",
    "cc_with_more_than_1_cycle = zeros(nb_samples)\n",
    "\n",
    "time_hkpv = zeros(nb_samples)\n",
    "time_mtsf = zeros(nb_samples)\n",
    "\n",
    "V = Matrix(qr(Matrix(sparseB)).Q)\n",
    "\n",
    "for i_sample in 1:nb_samples\n",
    "\n",
    "    id, t = @timed sample_pdpp(V)\n",
    "    e = collect(edges(meta_g))\n",
    "    subgraph,_ = induced_subgraph(meta_g, e[id])\n",
    "\n",
    "    nb_edges[i_sample] = ne(subgraph)\n",
    "    cc = connected_components(subgraph)\n",
    "\n",
    "    nb_cc[i_sample] = length(cc)\n",
    "\n",
    "    cc = [induced_subgraph(subgraph, cc)[1] for cc in connected_components(subgraph)]\n",
    "\n",
    "    temp_cc_with_1_cycle = 0\n",
    "    temp_cc_with_0_cycle = 0\n",
    "    temp_cc_with_more_than_1_cycle = 0\n",
    "\n",
    "    for i in cc\n",
    "        l = length(cycle_basis(i))\n",
    "        if l == 1\n",
    "            temp_cc_with_1_cycle += 1\n",
    "        elseif l == 0\n",
    "            temp_cc_with_0_cycle += 1\n",
    "        else\n",
    "            temp_cc_with_more_than_1_cycle += 1\n",
    "        end\n",
    "    end\n",
    "\n",
    "    cc_with_1_cycle[i_sample] = temp_cc_with_1_cycle\n",
    "    cc_with_0_cycle[i_sample] = temp_cc_with_0_cycle\n",
    "    cc_with_more_than_1_cycle[i_sample] = temp_cc_with_more_than_1_cycle\n",
    "\n",
    "    time_hkpv[i_sample] = t\n",
    "    mtsf, t_mtsf = @timed multi_type_spanning_forest(rng, meta_g, q)\n",
    "    time_mtsf[i_sample] = t_mtsf\n",
    "\n",
    "end    \n",
    "\n",
    "println(cc_with_1_cycle)\n",
    "println(cc_with_0_cycle)\n",
    "println(cc_with_more_than_1_cycle)\n",
    "println(\" \")\n",
    "println([mean(time_hkpv) mean(time_mtsf)])"
   ]
  },
  {
   "cell_type": "code",
   "execution_count": 14,
   "metadata": {},
   "outputs": [],
   "source": [
    "name = \"comparison_hpkv_MUN_\"*\"n\"*string(n)*\"p\"*string(p)*\"eta\"*string(eta)*\"q\"*string(q)\n",
    "\n",
    "save(\"figures/data/\"*name*\"_data.jld2\",\n",
    " \"cc_with_1_cycle\", cc_with_1_cycle,\n",
    " \"cc_with_0_cycle\", cc_with_0_cycle,\n",
    " \"cc_with_more_than_1_cycle\", cc_with_more_than_1_cycle,\n",
    " \"time_hkpv\", time_hkpv,\n",
    " \"time_mtsf\", time_mtsf)"
   ]
  },
  {
   "cell_type": "markdown",
   "metadata": {},
   "source": [
    "2.2 Distributions of cycle-rooted trees with $\\eta$ large <a id=\"CTRs_large_eta\"></a>\n"
   ]
  },
  {
   "cell_type": "code",
   "execution_count": 15,
   "metadata": {},
   "outputs": [
    {
     "data": {
      "text/plain": [
       "\"figures/comparison_hpkv_MUN_cc_with_1_cycle_n100p0.6eta0.7q0.pdf\""
      ]
     },
     "metadata": {},
     "output_type": "display_data"
    }
   ],
   "source": [
    "name = \"comparison_hpkv_MUN_\"*\"n\"*string(n)*\"p\"*string(p)*\"eta\"*string(eta)*\"q\"*string(q)\n",
    "load(\"figures/data/\"*name*\"_data.jld2\")\n",
    "\n",
    "cat_nb_cc_1_cycle = string.(sort(Int.(cc_with_1_cycle)))\n",
    "trace = PlotlyJS.histogram(x=cat_nb_cc_1_cycle, histnorm=\"probability density\")\n",
    "layout = Layout(\n",
    "    autosize=false,\n",
    "    width=500,\n",
    "    height=200,\n",
    "    margin=attr(l=1, r=1, b=1, t=1, pad=4),\n",
    "    font_size=35,\n",
    "    xaxis_type=\"category\",\n",
    ")\n",
    "name = \"comparison_hpkv_MUN_cc_with_1_cycle_\"*\"n\"*string(n)*\"p\"*string(p)*\"eta\"*string(eta)*\"q\"*string(q)\n",
    "p_1 = PlotlyJS.plot(trace,layout)\n",
    "PlotlyJS.savefig(p_1,\"figures/\"*name*\".pdf\")"
   ]
  },
  {
   "cell_type": "markdown",
   "metadata": {},
   "source": [
    "2.3 Distributions of connected subgraphs with $0$ cycles (trees) with $\\eta$ large <a id=\"Ts_large_eta\"></a>\n"
   ]
  },
  {
   "cell_type": "code",
   "execution_count": 16,
   "metadata": {},
   "outputs": [
    {
     "data": {
      "text/plain": [
       "\"figures/comparison_hpkv_MUN_cc_with_0_cycle_n100p0.6eta0.7q0.pdf\""
      ]
     },
     "metadata": {},
     "output_type": "display_data"
    }
   ],
   "source": [
    "name = \"comparison_hpkv_MUN_\"*\"n\"*string(n)*\"p\"*string(p)*\"eta\"*string(eta)*\"q\"*string(q)\n",
    "load(\"figures/data/\"*name*\"_data.jld2\")\n",
    "\n",
    "cat_nb_cc_0_cycle = string.(sort(Int.(cc_with_0_cycle)))\n",
    "trace = PlotlyJS.histogram(x=cat_nb_cc_0_cycle, histnorm=\"probability density\")\n",
    "layout = Layout(\n",
    "    autosize=false,\n",
    "    width=500,\n",
    "    height=200,\n",
    "    margin=attr(l=1, r=1, b=1, t=1, pad=4),\n",
    "    font_size=35,\n",
    "    xaxis_type=\"category\",\n",
    ")\n",
    "name = \"comparison_hpkv_MUN_cc_with_0_cycle_\"*\"n\"*string(n)*\"p\"*string(p)*\"eta\"*string(eta)*\"q\"*string(q)\n",
    "p_0 = PlotlyJS.plot(trace,layout)\n",
    "PlotlyJS.savefig(p_0,\"figures/\"*name*\".pdf\")"
   ]
  },
  {
   "cell_type": "markdown",
   "metadata": {},
   "source": [
    "2.4 Distributions of connected subgraphs with at least $2$ cycles with $\\eta$ large <a id=\"Morecycles_large_eta\"></a>\n"
   ]
  },
  {
   "cell_type": "code",
   "execution_count": 17,
   "metadata": {},
   "outputs": [
    {
     "data": {
      "text/plain": [
       "\"figures/comparison_hpkv_MUN_cc_more_than_1_cycle_n100p0.6eta0.7q0.pdf\""
      ]
     },
     "metadata": {},
     "output_type": "display_data"
    }
   ],
   "source": [
    "name = \"comparison_hpkv_MUN_\"*\"n\"*string(n)*\"p\"*string(p)*\"eta\"*string(eta)*\"q\"*string(q)\n",
    "load(\"figures/data/\"*name*\"_data.jld2\")\n",
    "\n",
    "cat_nb_cc_with_more_than_1_cycle = string.(sort(Int.(cc_with_more_than_1_cycle\n",
    ")))\n",
    "trace = PlotlyJS.histogram(x=cat_nb_cc_with_more_than_1_cycle, histnorm=\"probability density\")\n",
    "layout = Layout(\n",
    "    autosize=false,\n",
    "    width=500,\n",
    "    height=200,\n",
    "    margin=attr(l=1, r=1, b=1, t=1, pad=4),\n",
    "    font_size=35,\n",
    "    xaxis_type=\"category\",\n",
    ")\n",
    "name = \"comparison_hpkv_MUN_cc_more_than_1_cycle_\"*\"n\"*string(n)*\"p\"*string(p)*\"eta\"*string(eta)*\"q\"*string(q)\n",
    "p_more_than_1 = PlotlyJS.plot(trace,layout)\n",
    "PlotlyJS.savefig(p_more_than_1,\"figures/\"*name*\".pdf\")"
   ]
  },
  {
   "cell_type": "markdown",
   "metadata": {},
   "source": [
    "2.5 Timings with $\\eta$ large <a id=\"Timing_large_eta\"></a>\n"
   ]
  },
  {
   "cell_type": "markdown",
   "metadata": {},
   "source": [
    "HKPV timing"
   ]
  },
  {
   "cell_type": "code",
   "execution_count": 18,
   "metadata": {},
   "outputs": [
    {
     "data": {
      "text/plain": [
       "\"figures/comparison_hpkv_MUN_time_hkpv_n100p0.6eta0.7q0.pdf\""
      ]
     },
     "metadata": {},
     "output_type": "display_data"
    }
   ],
   "source": [
    "name = \"comparison_hpkv_MUN_\"*\"n\"*string(n)*\"p\"*string(p)*\"eta\"*string(eta)*\"q\"*string(q)\n",
    "load(\"figures/data/\"*name*\"_data.jld2\")\n",
    "\n",
    "trace = box(y=(time_hkpv),\n",
    "marker=attr(\n",
    "        color=\"LightSkyBlue\",\n",
    "        size=3),\n",
    "quartilemethod=\"linear\",\n",
    "name=\"\",\n",
    "marker_color=\"royalblue\",\n",
    "boxmean=true)\n",
    "\n",
    "layout = Layout(\n",
    "    autosize=false,\n",
    "    width=500,\n",
    "    height=200,\n",
    "    margin=attr(l=1, r=1, b=1, t=1, pad=4),\n",
    "    font_size=20,\n",
    ")\n",
    "name = \"comparison_hpkv_MUN_time_hkpv_\"*\"n\"*string(n)*\"p\"*string(p)*\"eta\"*string(eta)*\"q\"*string(q)\n",
    "p_time_hpkv = PlotlyJS.plot(trace,layout)\n",
    "PlotlyJS.savefig(p_time_hpkv,\"figures/\"*name*\".pdf\")"
   ]
  },
  {
   "cell_type": "markdown",
   "metadata": {},
   "source": [
    "cycle popping timing"
   ]
  },
  {
   "cell_type": "code",
   "execution_count": 19,
   "metadata": {},
   "outputs": [
    {
     "data": {
      "text/plain": [
       "\"figures/comparison_hpkv_MUN_time_mtsf_n100p0.6eta0.7q0.pdf\""
      ]
     },
     "metadata": {},
     "output_type": "display_data"
    }
   ],
   "source": [
    "name = \"comparison_hpkv_MUN_\"*\"n\"*string(n)*\"p\"*string(p)*\"eta\"*string(eta)*\"q\"*string(q)\n",
    "load(\"figures/data/\"*name*\"_data.jld2\")\n",
    "\n",
    "trace = box(y=(time_mtsf),\n",
    "marker=attr(\n",
    "        color=\"LightSkyBlue\",\n",
    "        size=3),\n",
    "quartilemethod=\"linear\",\n",
    "name=\"\",\n",
    "marker_color=\"royalblue\",\n",
    "boxmean=true)\n",
    "\n",
    "layout = Layout(\n",
    "    autosize=false,\n",
    "    width=500,\n",
    "    height=200,\n",
    "    margin=attr(l=1, r=1, b=1, t=1, pad=4),\n",
    "    font_size=20,\n",
    ")\n",
    "name = \"comparison_hpkv_MUN_time_mtsf_\"*\"n\"*string(n)*\"p\"*string(p)*\"eta\"*string(eta)*\"q\"*string(q)\n",
    "\n",
    "p_time_mtsf = PlotlyJS.plot(trace,layout)\n",
    "PlotlyJS.savefig(p_time_mtsf,\"figures/\"*name*\".pdf\")"
   ]
  },
  {
   "cell_type": "markdown",
   "metadata": {},
   "source": [
    "#### Leverage scores with HKPV"
   ]
  },
  {
   "cell_type": "code",
   "execution_count": 2,
   "metadata": {},
   "outputs": [
    {
     "name": "stdout",
     "output_type": "stream",
     "text": [
      "ne: 53\n"
     ]
    }
   ],
   "source": [
    "# common parameters\n",
    "type=\"MUN\"\n",
    "rng = Random.default_rng()\n",
    "\n",
    "# graph parameters\n",
    "n = 20\n",
    "p = 0.3\n",
    "eta = 0.9\n",
    "\n",
    "# planted ranking score\n",
    "planted_score = randperm(rng,n)\n",
    "\n",
    "\n",
    "# graph model\n",
    "if type==\"MUN\"\n",
    "    meta_g = gen_graph_mun(rng, n, p, eta;planted_score)\n",
    "elseif type==\"ERO\"\n",
    "    meta_g = gen_graph_ero(rng, n, p, eta;planted_score)\n",
    "end\n",
    "sparseB = sp_magnetic_incidence(meta_g; oriented=true);\n",
    "n = nv(meta_g)\n",
    "\n",
    "# regularization\n",
    "q = 0\n",
    "\n",
    "println(\"ne: \", ne(meta_g))"
   ]
  },
  {
   "cell_type": "code",
   "execution_count": 54,
   "metadata": {},
   "outputs": [
    {
     "name": "stdout",
     "output_type": "stream",
     "text": [
      "HKPV\n"
     ]
    },
    {
     "name": "stdout",
     "output_type": "stream",
     "text": [
      "mean: -0.003986366966474786 std: 0.054319105965841046\n"
     ]
    }
   ],
   "source": [
    "nb_samples = Int(1e7)\n",
    "\n",
    "q = 0.\n",
    "\n",
    "lev = leverage_score(sparseB, q)\n",
    "hkpv = true\n",
    "emp_lev = emp_leverage_score(rng, meta_g, q, nb_samples;hkpv)\n",
    "\n",
    "rel_diff = vec((lev-emp_lev)./lev);\n",
    "println(\"mean: \", mean(rel_diff), \" std: \", std(rel_diff))\n"
   ]
  },
  {
   "cell_type": "code",
   "execution_count": 56,
   "metadata": {},
   "outputs": [
    {
     "data": {
      "application/vnd.plotly.v1+json": {
       "config": {
        "editable": false,
        "responsive": true,
        "scrollZoom": true,
        "showLink": false,
        "staticPlot": false
       },
       "data": [
        {
         "boxmean": true,
         "marker": {
          "color": "royalblue",
          "size": 1
         },
         "name": "",
         "quartilemethod": "linear",
         "type": "box",
         "y": [
          0.08547782578400175,
          -0.025904807806071767,
          0.09297945750246592,
          0.03243609262831311,
          0.02490580546456042,
          -0.018209067472620865,
          0.007199500000000025,
          0.10461215283898125,
          0.05118864215460142,
          0.05222495896053046,
          -0.01642194560546534,
          0.05326861755541656,
          -0.021329912529679668,
          -0.03762051566134159,
          -0.023513588349878836,
          0.003943407932050332,
          -0.022909692005871604,
          0.02933802388946575,
          0.038549858156483575,
          -0.02019133399780673,
          0.14057577863032494,
          0.007220021468589937,
          0.0026254957753356714,
          -0.08903807656446164,
          -0.059810285350672635,
          0.024522915340926096,
          0.03603082830633023,
          0.005956940184288805,
          0.0788196443982531,
          -0.021425463411985077,
          -0.046036034160126936,
          -0.012457683610507636,
          -0.056889335037778564,
          -0.031815483326674665,
          0.010187280374106511,
          0.04564132208095933,
          0.04541999428411072,
          -0.05984931967988474,
          -0.06451272417423212,
          -0.004203071987623892,
          -0.0575460837954984,
          0.006116793759732183,
          -0.0713279967538004,
          -0.011848000465979697,
          -0.03165155029193168,
          -0.05390664366318785,
          -0.007202707340639315,
          -0.012201863680041381,
          -0.04598318572611664,
          -0.09636412718853929,
          -0.13882537215066093,
          -0.0796137938059571,
          0.04809085890204514
         ]
        }
       ],
       "frames": [],
       "layout": {
        "autosize": false,
        "font": {
         "size": 20
        },
        "height": 500,
        "margin": {
         "b": 1,
         "l": 1,
         "pad": 4,
         "r": 1,
         "t": 1
        },
        "template": {
         "data": {
          "bar": [
           {
            "error_x": {
             "color": "#2a3f5f"
            },
            "error_y": {
             "color": "#2a3f5f"
            },
            "marker": {
             "line": {
              "color": "#E5ECF6",
              "width": 0.5
             }
            },
            "type": "bar"
           }
          ],
          "barpolar": [
           {
            "marker": {
             "line": {
              "color": "#E5ECF6",
              "width": 0.5
             }
            },
            "type": "barpolar"
           }
          ],
          "carpet": [
           {
            "aaxis": {
             "endlinecolor": "#2a3f5f",
             "gridcolor": "white",
             "linecolor": "white",
             "minorgridcolor": "white",
             "startlinecolor": "#2a3f5f"
            },
            "baxis": {
             "endlinecolor": "#2a3f5f",
             "gridcolor": "white",
             "linecolor": "white",
             "minorgridcolor": "white",
             "startlinecolor": "#2a3f5f"
            },
            "type": "carpet"
           }
          ],
          "choropleth": [
           {
            "colorbar": {
             "outlinewidth": 0,
             "ticks": ""
            },
            "type": "choropleth"
           }
          ],
          "contour": [
           {
            "colorbar": {
             "outlinewidth": 0,
             "ticks": ""
            },
            "colorscale": [
             [
              0,
              "#0d0887"
             ],
             [
              0.1111111111111111,
              "#46039f"
             ],
             [
              0.2222222222222222,
              "#7201a8"
             ],
             [
              0.3333333333333333,
              "#9c179e"
             ],
             [
              0.4444444444444444,
              "#bd3786"
             ],
             [
              0.5555555555555556,
              "#d8576b"
             ],
             [
              0.6666666666666666,
              "#ed7953"
             ],
             [
              0.7777777777777778,
              "#fb9f3a"
             ],
             [
              0.8888888888888888,
              "#fdca26"
             ],
             [
              1,
              "#f0f921"
             ]
            ],
            "type": "contour"
           }
          ],
          "contourcarpet": [
           {
            "colorbar": {
             "outlinewidth": 0,
             "ticks": ""
            },
            "type": "contourcarpet"
           }
          ],
          "heatmap": [
           {
            "colorbar": {
             "outlinewidth": 0,
             "ticks": ""
            },
            "colorscale": [
             [
              0,
              "#0d0887"
             ],
             [
              0.1111111111111111,
              "#46039f"
             ],
             [
              0.2222222222222222,
              "#7201a8"
             ],
             [
              0.3333333333333333,
              "#9c179e"
             ],
             [
              0.4444444444444444,
              "#bd3786"
             ],
             [
              0.5555555555555556,
              "#d8576b"
             ],
             [
              0.6666666666666666,
              "#ed7953"
             ],
             [
              0.7777777777777778,
              "#fb9f3a"
             ],
             [
              0.8888888888888888,
              "#fdca26"
             ],
             [
              1,
              "#f0f921"
             ]
            ],
            "type": "heatmap"
           }
          ],
          "heatmapgl": [
           {
            "colorbar": {
             "outlinewidth": 0,
             "ticks": ""
            },
            "colorscale": [
             [
              0,
              "#0d0887"
             ],
             [
              0.1111111111111111,
              "#46039f"
             ],
             [
              0.2222222222222222,
              "#7201a8"
             ],
             [
              0.3333333333333333,
              "#9c179e"
             ],
             [
              0.4444444444444444,
              "#bd3786"
             ],
             [
              0.5555555555555556,
              "#d8576b"
             ],
             [
              0.6666666666666666,
              "#ed7953"
             ],
             [
              0.7777777777777778,
              "#fb9f3a"
             ],
             [
              0.8888888888888888,
              "#fdca26"
             ],
             [
              1,
              "#f0f921"
             ]
            ],
            "type": "heatmapgl"
           }
          ],
          "histogram": [
           {
            "marker": {
             "colorbar": {
              "outlinewidth": 0,
              "ticks": ""
             }
            },
            "type": "histogram"
           }
          ],
          "histogram2d": [
           {
            "colorbar": {
             "outlinewidth": 0,
             "ticks": ""
            },
            "colorscale": [
             [
              0,
              "#0d0887"
             ],
             [
              0.1111111111111111,
              "#46039f"
             ],
             [
              0.2222222222222222,
              "#7201a8"
             ],
             [
              0.3333333333333333,
              "#9c179e"
             ],
             [
              0.4444444444444444,
              "#bd3786"
             ],
             [
              0.5555555555555556,
              "#d8576b"
             ],
             [
              0.6666666666666666,
              "#ed7953"
             ],
             [
              0.7777777777777778,
              "#fb9f3a"
             ],
             [
              0.8888888888888888,
              "#fdca26"
             ],
             [
              1,
              "#f0f921"
             ]
            ],
            "type": "histogram2d"
           }
          ],
          "histogram2dcontour": [
           {
            "colorbar": {
             "outlinewidth": 0,
             "ticks": ""
            },
            "colorscale": [
             [
              0,
              "#0d0887"
             ],
             [
              0.1111111111111111,
              "#46039f"
             ],
             [
              0.2222222222222222,
              "#7201a8"
             ],
             [
              0.3333333333333333,
              "#9c179e"
             ],
             [
              0.4444444444444444,
              "#bd3786"
             ],
             [
              0.5555555555555556,
              "#d8576b"
             ],
             [
              0.6666666666666666,
              "#ed7953"
             ],
             [
              0.7777777777777778,
              "#fb9f3a"
             ],
             [
              0.8888888888888888,
              "#fdca26"
             ],
             [
              1,
              "#f0f921"
             ]
            ],
            "type": "histogram2dcontour"
           }
          ],
          "mesh3d": [
           {
            "colorbar": {
             "outlinewidth": 0,
             "ticks": ""
            },
            "type": "mesh3d"
           }
          ],
          "parcoords": [
           {
            "line": {
             "colorbar": {
              "outlinewidth": 0,
              "ticks": ""
             }
            },
            "type": "parcoords"
           }
          ],
          "pie": [
           {
            "automargin": true,
            "type": "pie"
           }
          ],
          "scatter": [
           {
            "marker": {
             "colorbar": {
              "outlinewidth": 0,
              "ticks": ""
             }
            },
            "type": "scatter"
           }
          ],
          "scatter3d": [
           {
            "line": {
             "colorbar": {
              "outlinewidth": 0,
              "ticks": ""
             }
            },
            "marker": {
             "colorbar": {
              "outlinewidth": 0,
              "ticks": ""
             }
            },
            "type": "scatter3d"
           }
          ],
          "scattercarpet": [
           {
            "marker": {
             "colorbar": {
              "outlinewidth": 0,
              "ticks": ""
             }
            },
            "type": "scattercarpet"
           }
          ],
          "scattergeo": [
           {
            "marker": {
             "colorbar": {
              "outlinewidth": 0,
              "ticks": ""
             }
            },
            "type": "scattergeo"
           }
          ],
          "scattergl": [
           {
            "marker": {
             "colorbar": {
              "outlinewidth": 0,
              "ticks": ""
             }
            },
            "type": "scattergl"
           }
          ],
          "scattermapbox": [
           {
            "marker": {
             "colorbar": {
              "outlinewidth": 0,
              "ticks": ""
             }
            },
            "type": "scattermapbox"
           }
          ],
          "scatterpolar": [
           {
            "marker": {
             "colorbar": {
              "outlinewidth": 0,
              "ticks": ""
             }
            },
            "type": "scatterpolar"
           }
          ],
          "scatterpolargl": [
           {
            "marker": {
             "colorbar": {
              "outlinewidth": 0,
              "ticks": ""
             }
            },
            "type": "scatterpolargl"
           }
          ],
          "scatterternary": [
           {
            "marker": {
             "colorbar": {
              "outlinewidth": 0,
              "ticks": ""
             }
            },
            "type": "scatterternary"
           }
          ],
          "surface": [
           {
            "colorbar": {
             "outlinewidth": 0,
             "ticks": ""
            },
            "colorscale": [
             [
              0,
              "#0d0887"
             ],
             [
              0.1111111111111111,
              "#46039f"
             ],
             [
              0.2222222222222222,
              "#7201a8"
             ],
             [
              0.3333333333333333,
              "#9c179e"
             ],
             [
              0.4444444444444444,
              "#bd3786"
             ],
             [
              0.5555555555555556,
              "#d8576b"
             ],
             [
              0.6666666666666666,
              "#ed7953"
             ],
             [
              0.7777777777777778,
              "#fb9f3a"
             ],
             [
              0.8888888888888888,
              "#fdca26"
             ],
             [
              1,
              "#f0f921"
             ]
            ],
            "type": "surface"
           }
          ],
          "table": [
           {
            "cells": {
             "fill": {
              "color": "#EBF0F8"
             },
             "line": {
              "color": "white"
             }
            },
            "header": {
             "fill": {
              "color": "#C8D4E3"
             },
             "line": {
              "color": "white"
             }
            },
            "type": "table"
           }
          ]
         },
         "layout": {
          "annotationdefaults": {
           "arrowcolor": "#2a3f5f",
           "arrowhead": 0,
           "arrowwidth": 1
          },
          "autotypenumbers": "strict",
          "coloraxis": {
           "colorbar": {
            "outlinewidth": 0,
            "ticks": ""
           }
          },
          "colorscale": {
           "diverging": [
            [
             0,
             "#8e0152"
            ],
            [
             0.1,
             "#c51b7d"
            ],
            [
             0.2,
             "#de77ae"
            ],
            [
             0.3,
             "#f1b6da"
            ],
            [
             0.4,
             "#fde0ef"
            ],
            [
             0.5,
             "#f7f7f7"
            ],
            [
             0.6,
             "#e6f5d0"
            ],
            [
             0.7,
             "#b8e186"
            ],
            [
             0.8,
             "#7fbc41"
            ],
            [
             0.9,
             "#4d9221"
            ],
            [
             1,
             "#276419"
            ]
           ],
           "sequential": [
            [
             0,
             "#0d0887"
            ],
            [
             0.1111111111111111,
             "#46039f"
            ],
            [
             0.2222222222222222,
             "#7201a8"
            ],
            [
             0.3333333333333333,
             "#9c179e"
            ],
            [
             0.4444444444444444,
             "#bd3786"
            ],
            [
             0.5555555555555556,
             "#d8576b"
            ],
            [
             0.6666666666666666,
             "#ed7953"
            ],
            [
             0.7777777777777778,
             "#fb9f3a"
            ],
            [
             0.8888888888888888,
             "#fdca26"
            ],
            [
             1,
             "#f0f921"
            ]
           ],
           "sequentialminus": [
            [
             0,
             "#0d0887"
            ],
            [
             0.1111111111111111,
             "#46039f"
            ],
            [
             0.2222222222222222,
             "#7201a8"
            ],
            [
             0.3333333333333333,
             "#9c179e"
            ],
            [
             0.4444444444444444,
             "#bd3786"
            ],
            [
             0.5555555555555556,
             "#d8576b"
            ],
            [
             0.6666666666666666,
             "#ed7953"
            ],
            [
             0.7777777777777778,
             "#fb9f3a"
            ],
            [
             0.8888888888888888,
             "#fdca26"
            ],
            [
             1,
             "#f0f921"
            ]
           ]
          },
          "colorway": [
           "#636efa",
           "#EF553B",
           "#00cc96",
           "#ab63fa",
           "#FFA15A",
           "#19d3f3",
           "#FF6692",
           "#B6E880",
           "#FF97FF",
           "#FECB52"
          ],
          "font": {
           "color": "#2a3f5f"
          },
          "geo": {
           "bgcolor": "white",
           "lakecolor": "white",
           "landcolor": "#E5ECF6",
           "showlakes": true,
           "showland": true,
           "subunitcolor": "white"
          },
          "hoverlabel": {
           "align": "left"
          },
          "hovermode": "closest",
          "mapbox": {
           "style": "light"
          },
          "paper_bgcolor": "white",
          "plot_bgcolor": "#E5ECF6",
          "polar": {
           "angularaxis": {
            "gridcolor": "white",
            "linecolor": "white",
            "ticks": ""
           },
           "bgcolor": "#E5ECF6",
           "radialaxis": {
            "gridcolor": "white",
            "linecolor": "white",
            "ticks": ""
           }
          },
          "scene": {
           "xaxis": {
            "backgroundcolor": "#E5ECF6",
            "gridcolor": "white",
            "gridwidth": 2,
            "linecolor": "white",
            "showbackground": true,
            "ticks": "",
            "zerolinecolor": "white"
           },
           "yaxis": {
            "backgroundcolor": "#E5ECF6",
            "gridcolor": "white",
            "gridwidth": 2,
            "linecolor": "white",
            "showbackground": true,
            "ticks": "",
            "zerolinecolor": "white"
           },
           "zaxis": {
            "backgroundcolor": "#E5ECF6",
            "gridcolor": "white",
            "gridwidth": 2,
            "linecolor": "white",
            "showbackground": true,
            "ticks": "",
            "zerolinecolor": "white"
           }
          },
          "shapedefaults": {
           "line": {
            "color": "#2a3f5f"
           }
          },
          "ternary": {
           "aaxis": {
            "gridcolor": "white",
            "linecolor": "white",
            "ticks": ""
           },
           "baxis": {
            "gridcolor": "white",
            "linecolor": "white",
            "ticks": ""
           },
           "bgcolor": "#E5ECF6",
           "caxis": {
            "gridcolor": "white",
            "linecolor": "white",
            "ticks": ""
           }
          },
          "title": {
           "x": 0.05
          },
          "xaxis": {
           "automargin": true,
           "gridcolor": "white",
           "linecolor": "white",
           "ticks": "",
           "title": {
            "standoff": 15
           },
           "zerolinecolor": "white",
           "zerolinewidth": 2
          },
          "yaxis": {
           "automargin": true,
           "gridcolor": "white",
           "linecolor": "white",
           "ticks": "",
           "title": {
            "standoff": 15
           },
           "zerolinecolor": "white",
           "zerolinewidth": 2
          }
         }
        },
        "width": 500
       }
      },
      "image/png": "[encoded data removed]",
      "image/svg+xml": [
       "<svg class=\"main-svg\" xmlns=\"http://www.w3.org/2000/svg\" xmlns:xlink=\"http://www.w3.org/1999/xlink\" width=\"700\" height=\"500\" style=\"\" viewBox=\"0 0 700 500\"><rect x=\"0\" y=\"0\" width=\"700\" height=\"500\" style=\"fill: rgb(255, 255, 255); fill-opacity: 1;\"/><defs id=\"defs-490126\"><g class=\"clips\"><clipPath id=\"clip490126xyplot\" class=\"plotclip\"><rect width=\"631\" height=\"491\"/></clipPath><clipPath class=\"axesclip\" id=\"clip490126x\"><rect x=\"68\" y=\"0\" width=\"631\" height=\"500\"/></clipPath><clipPath class=\"axesclip\" id=\"clip490126y\"><rect x=\"0\" y=\"4\" width=\"700\" height=\"491\"/></clipPath><clipPath class=\"axesclip\" id=\"clip490126xy\"><rect x=\"68\" y=\"4\" width=\"631\" height=\"491\"/></clipPath></g><g class=\"gradients\"/></defs><g class=\"bglayer\"><rect class=\"bg\" x=\"64\" y=\"0\" width=\"639\" height=\"499\" style=\"fill: rgb(229, 236, 246); fill-opacity: 1; stroke-width: 0;\"/></g><g class=\"layer-below\"><g class=\"imagelayer\"/><g class=\"shapelayer\"/></g><g class=\"cartesianlayer\"><g class=\"subplot xy\"><g class=\"layer-subplot\"><g class=\"shapelayer\"/><g class=\"imagelayer\"/></g><g class=\"gridlayer\"><g class=\"x\"/><g class=\"y\"><path class=\"ygrid crisp\" transform=\"translate(0,488.12)\" d=\"M68,0h631\" style=\"stroke: rgb(255, 255, 255); stroke-opacity: 1; stroke-width: 1px;\"/><path class=\"ygrid crisp\" transform=\"translate(0,409.04)\" d=\"M68,0h631\" style=\"stroke: rgb(255, 255, 255); stroke-opacity: 1; stroke-width: 1px;\"/><path class=\"ygrid crisp\" transform=\"translate(0,329.96)\" d=\"M68,0h631\" style=\"stroke: rgb(255, 255, 255); stroke-opacity: 1; stroke-width: 1px;\"/><path class=\"ygrid crisp\" transform=\"translate(0,171.8)\" d=\"M68,0h631\" style=\"stroke: rgb(255, 255, 255); stroke-opacity: 1; stroke-width: 1px;\"/><path class=\"ygrid crisp\" transform=\"translate(0,92.72)\" d=\"M68,0h631\" style=\"stroke: rgb(255, 255, 255); stroke-opacity: 1; stroke-width: 1px;\"/><path class=\"ygrid crisp\" transform=\"translate(0,13.64)\" d=\"M68,0h631\" style=\"stroke: rgb(255, 255, 255); stroke-opacity: 1; stroke-width: 1px;\"/></g></g><g class=\"zerolinelayer\"><path class=\"yzl zl crisp\" transform=\"translate(0,250.88)\" d=\"M68,0h631\" style=\"stroke: rgb(255, 255, 255); stroke-opacity: 1; stroke-width: 2px;\"/></g><path class=\"xlines-below\"/><path class=\"ylines-below\"/><g class=\"overlines-below\"/><g class=\"xaxislayer-below\"/><g class=\"yaxislayer-below\"/><g class=\"overaxes-below\"/><g class=\"plot\" transform=\"translate(68,4)\" clip-path=\"url('#clip490126xyplot')\"><g class=\"boxlayer mlayer\"><g class=\"trace boxes\" style=\"opacity: 1;\"><path class=\"box\" d=\"M160.91,265.62H470.1M160.91,309.69H470.1V194.16H160.91ZM315.5,309.69V466.45M315.5,194.16V24.55M238.2,466.45H392.8M238.2,24.55H392.8\" style=\"vector-effect: non-scaling-stroke; stroke-width: 2px; stroke: rgb(65, 105, 225); stroke-opacity: 1; fill: rgb(65, 105, 225); fill-opacity: 0.5;\"/><g class=\"points\"/><path class=\"mean\" d=\"M160.91,253.19H470.1\" style=\"fill: none; vector-effect: non-scaling-stroke; stroke-width: 2; stroke-dasharray: 4px, 2px; stroke: rgb(65, 105, 225); stroke-opacity: 1;\"/></g></g></g><g class=\"overplot\"/><path class=\"xlines-above crisp\" d=\"M0,0\" style=\"fill: none;\"/><path class=\"ylines-above crisp\" d=\"M0,0\" style=\"fill: none;\"/><g class=\"overlines-above\"/><g class=\"xaxislayer-above\"><g class=\"xtick\"><text text-anchor=\"middle\" x=\"0\" y=\"520\" transform=\"translate(383.5,0)\" style=\"font-family: 'Open Sans', verdana, arial, sans-serif; font-size: 20px; fill: rgb(42, 63, 95); fill-opacity: 1; white-space: pre;\"></text></g></g><g class=\"yaxislayer-above\"><g class=\"ytick\"><text text-anchor=\"end\" x=\"63\" y=\"7\" transform=\"translate(0,488.12)\" style=\"font-family: 'Open Sans', verdana, arial, sans-serif; font-size: 20px; fill: rgb(42, 63, 95); fill-opacity: 1; white-space: pre;\">−0.15</text></g><g class=\"ytick\"><text text-anchor=\"end\" x=\"63\" y=\"7\" transform=\"translate(0,409.04)\" style=\"font-family: 'Open Sans', verdana, arial, sans-serif; font-size: 20px; fill: rgb(42, 63, 95); fill-opacity: 1; white-space: pre;\">−0.1</text></g><g class=\"ytick\"><text text-anchor=\"end\" x=\"63\" y=\"7\" transform=\"translate(0,329.96)\" style=\"font-family: 'Open Sans', verdana, arial, sans-serif; font-size: 20px; fill: rgb(42, 63, 95); fill-opacity: 1; white-space: pre;\">−0.05</text></g><g class=\"ytick\"><text text-anchor=\"end\" x=\"63\" y=\"7\" transform=\"translate(0,250.88)\" style=\"font-family: 'Open Sans', verdana, arial, sans-serif; font-size: 20px; fill: rgb(42, 63, 95); fill-opacity: 1; white-space: pre;\">0</text></g><g class=\"ytick\"><text text-anchor=\"end\" x=\"63\" y=\"7\" transform=\"translate(0,171.8)\" style=\"font-family: 'Open Sans', verdana, arial, sans-serif; font-size: 20px; fill: rgb(42, 63, 95); fill-opacity: 1; white-space: pre;\">0.05</text></g><g class=\"ytick\"><text text-anchor=\"end\" x=\"63\" y=\"7\" transform=\"translate(0,92.72)\" style=\"font-family: 'Open Sans', verdana, arial, sans-serif; font-size: 20px; fill: rgb(42, 63, 95); fill-opacity: 1; white-space: pre;\">0.1</text></g><g class=\"ytick\"><text text-anchor=\"end\" x=\"63\" y=\"7\" transform=\"translate(0,13.64)\" style=\"font-family: 'Open Sans', verdana, arial, sans-serif; font-size: 20px; fill: rgb(42, 63, 95); fill-opacity: 1; white-space: pre;\">0.15</text></g></g><g class=\"overaxes-above\"/></g></g><g class=\"polarlayer\"/><g class=\"ternarylayer\"/><g class=\"geolayer\"/><g class=\"funnelarealayer\"/><g class=\"pielayer\"/><g class=\"treemaplayer\"/><g class=\"sunburstlayer\"/><g class=\"glimages\"/><defs id=\"topdefs-490126\"><g class=\"clips\"/></defs><g class=\"layer-above\"><g class=\"imagelayer\"/><g class=\"shapelayer\"/></g><g class=\"infolayer\"><g class=\"g-gtitle\"/><g class=\"g-xtitle\"/><g class=\"g-ytitle\"/></g></svg>"
      ],
      "text/html": [
       "<div\n",
       "    class=\"webio-mountpoint\"\n",
       "    data-webio-mountpoint=\"12592193394700124670\"\n",
       ">\n",
       "    <script>\n",
       "    (function(){\n",
       "    // Some integrations (namely, IJulia/Jupyter) use an alternate render pathway than\n",
       "    // just putting the html on the page. If WebIO isn't defined, then it's pretty likely\n",
       "    // that we're in one of those situations and the integration just isn't installed\n",
       "    // correctly.\n",
       "    if (typeof window.WebIO === \"undefined\") {\n",
       "        document\n",
       "            .querySelector('[data-webio-mountpoint=\"12592193394700124670\"]')\n",
       "            .innerHTML = (\n",
       "                '<div style=\"padding: 1em; background-color: #f8d6da; border: 1px solid #f5c6cb; font-weight: bold;\">' +\n",
       "                '<p><strong>WebIO not detected.</strong></p>' +\n",
       "                '<p>Please read ' +\n",
       "                '<a href=\"https://juliagizmos.github.io/WebIO.jl/latest/troubleshooting/not-detected/\" target=\"_blank\">the troubleshooting guide</a> ' +\n",
       "                'for more information on how to resolve this issue.</p>' +\n",
       "                '<p><a href=\"https://juliagizmos.github.io/WebIO.jl/latest/troubleshooting/not-detected/\" target=\"_blank\">https://juliagizmos.github.io/WebIO.jl/latest/troubleshooting/not-detected/</a></p>' +\n",
       "                '</div>'\n",
       "            );\n",
       "        return;\n",
       "    }\n",
       "    WebIO.mount(\n",
       "        document.querySelector('[data-webio-mountpoint=\"12592193394700124670\"]'),\n",
       "        {\"props\":{},\"nodeType\":\"Scope\",\"type\":\"node\",\"instanceArgs\":{\"imports\":{\"data\":[{\"name\":\"Plotly\",\"type\":\"js\",\"url\":\"\\/assetserver\\/6ce5a5e5b28ac6ffdcfcd49d44ebd4d6dbe36ed4-plotly.min.js\"},{\"name\":null,\"type\":\"js\",\"url\":\"\\/assetserver\\/6f85150d15f92ccf38dc2254479a8612ce6d040e-plotly_webio.bundle.js\"}],\"type\":\"async_block\"},\"id\":\"15429502677606141629\",\"handlers\":{\"_toImage\":[\"(function (options){return this.Plotly.toImage(this.plotElem,options).then((function (data){return WebIO.setval({\\\"name\\\":\\\"image\\\",\\\"scope\\\":\\\"15429502677606141629\\\",\\\"id\\\":\\\"115\\\",\\\"type\\\":\\\"observable\\\"},data)}))})\"],\"__get_gd_contents\":[\"(function (prop){prop==\\\"data\\\" ? (WebIO.setval({\\\"name\\\":\\\"__gd_contents\\\",\\\"scope\\\":\\\"15429502677606141629\\\",\\\"id\\\":\\\"116\\\",\\\"type\\\":\\\"observable\\\"},this.plotElem.data)) : undefined; return prop==\\\"layout\\\" ? (WebIO.setval({\\\"name\\\":\\\"__gd_contents\\\",\\\"scope\\\":\\\"15429502677606141629\\\",\\\"id\\\":\\\"116\\\",\\\"type\\\":\\\"observable\\\"},this.plotElem.layout)) : undefined})\"],\"_downloadImage\":[\"(function (options){return this.Plotly.downloadImage(this.plotElem,options)})\"],\"_commands\":[\"(function (args){var fn=args.shift(); var elem=this.plotElem; var Plotly=this.Plotly; args.unshift(elem); return Plotly[fn].apply(this,args)})\"]},\"systemjs_options\":null,\"mount_callbacks\":[\"function () {\\n    var handler = ((function (Plotly,PlotlyWebIO){PlotlyWebIO.init(WebIO); var gd=this.dom.querySelector(\\\"#plot-58ddad36-8e8f-4f46-a223-e26dc4c3d45e\\\"); this.plotElem=gd; this.Plotly=Plotly; (window.Blink!==undefined) ? (gd.style.width=\\\"100%\\\", gd.style.height=\\\"100vh\\\", gd.style.marginLeft=\\\"0%\\\", gd.style.marginTop=\\\"0vh\\\") : undefined; window.onresize=(function (){return Plotly.Plots.resize(gd)}); Plotly.newPlot(gd,[{\\\"boxmean\\\":true,\\\"y\\\":[0.08547782578400175,-0.025904807806071767,0.09297945750246592,0.03243609262831311,0.02490580546456042,-0.018209067472620865,0.007199500000000025,0.10461215283898125,0.05118864215460142,0.05222495896053046,-0.01642194560546534,0.05326861755541656,-0.021329912529679668,-0.03762051566134159,-0.023513588349878836,0.003943407932050332,-0.022909692005871604,0.02933802388946575,0.038549858156483575,-0.02019133399780673,0.14057577863032494,0.007220021468589937,0.0026254957753356714,-0.08903807656446164,-0.059810285350672635,0.024522915340926096,0.03603082830633023,0.005956940184288805,0.0788196443982531,-0.021425463411985077,-0.046036034160126936,-0.012457683610507636,-0.056889335037778564,-0.031815483326674665,0.010187280374106511,0.04564132208095933,0.04541999428411072,-0.05984931967988474,-0.06451272417423212,-0.004203071987623892,-0.0575460837954984,0.006116793759732183,-0.0713279967538004,-0.011848000465979697,-0.03165155029193168,-0.05390664366318785,-0.007202707340639315,-0.012201863680041381,-0.04598318572611664,-0.09636412718853929,-0.13882537215066093,-0.0796137938059571,0.04809085890204514],\\\"type\\\":\\\"box\\\",\\\"quartilemethod\\\":\\\"linear\\\",\\\"name\\\":\\\"\\\",\\\"marker\\\":{\\\"color\\\":\\\"royalblue\\\",\\\"size\\\":1}}],{\\\"autosize\\\":false,\\\"font\\\":{\\\"size\\\":20},\\\"template\\\":{\\\"layout\\\":{\\\"coloraxis\\\":{\\\"colorbar\\\":{\\\"ticks\\\":\\\"\\\",\\\"outlinewidth\\\":0}},\\\"xaxis\\\":{\\\"gridcolor\\\":\\\"white\\\",\\\"zerolinewidth\\\":2,\\\"title\\\":{\\\"standoff\\\":15},\\\"ticks\\\":\\\"\\\",\\\"zerolinecolor\\\":\\\"white\\\",\\\"automargin\\\":true,\\\"linecolor\\\":\\\"white\\\"},\\\"hovermode\\\":\\\"closest\\\",\\\"paper_bgcolor\\\":\\\"white\\\",\\\"geo\\\":{\\\"showlakes\\\":true,\\\"showland\\\":true,\\\"landcolor\\\":\\\"#E5ECF6\\\",\\\"bgcolor\\\":\\\"white\\\",\\\"subunitcolor\\\":\\\"white\\\",\\\"lakecolor\\\":\\\"white\\\"},\\\"colorscale\\\":{\\\"sequential\\\":[[0.0,\\\"#0d0887\\\"],[0.1111111111111111,\\\"#46039f\\\"],[0.2222222222222222,\\\"#7201a8\\\"],[0.3333333333333333,\\\"#9c179e\\\"],[0.4444444444444444,\\\"#bd3786\\\"],[0.5555555555555556,\\\"#d8576b\\\"],[0.6666666666666666,\\\"#ed7953\\\"],[0.7777777777777778,\\\"#fb9f3a\\\"],[0.8888888888888888,\\\"#fdca26\\\"],[1.0,\\\"#f0f921\\\"]],\\\"diverging\\\":[[0,\\\"#8e0152\\\"],[0.1,\\\"#c51b7d\\\"],[0.2,\\\"#de77ae\\\"],[0.3,\\\"#f1b6da\\\"],[0.4,\\\"#fde0ef\\\"],[0.5,\\\"#f7f7f7\\\"],[0.6,\\\"#e6f5d0\\\"],[0.7,\\\"#b8e186\\\"],[0.8,\\\"#7fbc41\\\"],[0.9,\\\"#4d9221\\\"],[1,\\\"#276419\\\"]],\\\"sequentialminus\\\":[[0.0,\\\"#0d0887\\\"],[0.1111111111111111,\\\"#46039f\\\"],[0.2222222222222222,\\\"#7201a8\\\"],[0.3333333333333333,\\\"#9c179e\\\"],[0.4444444444444444,\\\"#bd3786\\\"],[0.5555555555555556,\\\"#d8576b\\\"],[0.6666666666666666,\\\"#ed7953\\\"],[0.7777777777777778,\\\"#fb9f3a\\\"],[0.8888888888888888,\\\"#fdca26\\\"],[1.0,\\\"#f0f921\\\"]]},\\\"yaxis\\\":{\\\"gridcolor\\\":\\\"white\\\",\\\"zerolinewidth\\\":2,\\\"title\\\":{\\\"standoff\\\":15},\\\"ticks\\\":\\\"\\\",\\\"zerolinecolor\\\":\\\"white\\\",\\\"automargin\\\":true,\\\"linecolor\\\":\\\"white\\\"},\\\"shapedefaults\\\":{\\\"line\\\":{\\\"color\\\":\\\"#2a3f5f\\\"}},\\\"hoverlabel\\\":{\\\"align\\\":\\\"left\\\"},\\\"mapbox\\\":{\\\"style\\\":\\\"light\\\"},\\\"polar\\\":{\\\"angularaxis\\\":{\\\"gridcolor\\\":\\\"white\\\",\\\"ticks\\\":\\\"\\\",\\\"linecolor\\\":\\\"white\\\"},\\\"bgcolor\\\":\\\"#E5ECF6\\\",\\\"radialaxis\\\":{\\\"gridcolor\\\":\\\"white\\\",\\\"ticks\\\":\\\"\\\",\\\"linecolor\\\":\\\"white\\\"}},\\\"autotypenumbers\\\":\\\"strict\\\",\\\"font\\\":{\\\"color\\\":\\\"#2a3f5f\\\"},\\\"ternary\\\":{\\\"baxis\\\":{\\\"gridcolor\\\":\\\"white\\\",\\\"ticks\\\":\\\"\\\",\\\"linecolor\\\":\\\"white\\\"},\\\"bgcolor\\\":\\\"#E5ECF6\\\",\\\"caxis\\\":{\\\"gridcolor\\\":\\\"white\\\",\\\"ticks\\\":\\\"\\\",\\\"linecolor\\\":\\\"white\\\"},\\\"aaxis\\\":{\\\"gridcolor\\\":\\\"white\\\",\\\"ticks\\\":\\\"\\\",\\\"linecolor\\\":\\\"white\\\"}},\\\"annotationdefaults\\\":{\\\"arrowhead\\\":0,\\\"arrowwidth\\\":1,\\\"arrowcolor\\\":\\\"#2a3f5f\\\"},\\\"plot_bgcolor\\\":\\\"#E5ECF6\\\",\\\"title\\\":{\\\"x\\\":0.05},\\\"scene\\\":{\\\"xaxis\\\":{\\\"gridcolor\\\":\\\"white\\\",\\\"gridwidth\\\":2,\\\"backgroundcolor\\\":\\\"#E5ECF6\\\",\\\"ticks\\\":\\\"\\\",\\\"showbackground\\\":true,\\\"zerolinecolor\\\":\\\"white\\\",\\\"linecolor\\\":\\\"white\\\"},\\\"zaxis\\\":{\\\"gridcolor\\\":\\\"white\\\",\\\"gridwidth\\\":2,\\\"backgroundcolor\\\":\\\"#E5ECF6\\\",\\\"ticks\\\":\\\"\\\",\\\"showbackground\\\":true,\\\"zerolinecolor\\\":\\\"white\\\",\\\"linecolor\\\":\\\"white\\\"},\\\"yaxis\\\":{\\\"gridcolor\\\":\\\"white\\\",\\\"gridwidth\\\":2,\\\"backgroundcolor\\\":\\\"#E5ECF6\\\",\\\"ticks\\\":\\\"\\\",\\\"showbackground\\\":true,\\\"zerolinecolor\\\":\\\"white\\\",\\\"linecolor\\\":\\\"white\\\"}},\\\"colorway\\\":[\\\"#636efa\\\",\\\"#EF553B\\\",\\\"#00cc96\\\",\\\"#ab63fa\\\",\\\"#FFA15A\\\",\\\"#19d3f3\\\",\\\"#FF6692\\\",\\\"#B6E880\\\",\\\"#FF97FF\\\",\\\"#FECB52\\\"]},\\\"data\\\":{\\\"barpolar\\\":[{\\\"type\\\":\\\"barpolar\\\",\\\"marker\\\":{\\\"line\\\":{\\\"color\\\":\\\"#E5ECF6\\\",\\\"width\\\":0.5}}}],\\\"carpet\\\":[{\\\"aaxis\\\":{\\\"gridcolor\\\":\\\"white\\\",\\\"endlinecolor\\\":\\\"#2a3f5f\\\",\\\"minorgridcolor\\\":\\\"white\\\",\\\"startlinecolor\\\":\\\"#2a3f5f\\\",\\\"linecolor\\\":\\\"white\\\"},\\\"type\\\":\\\"carpet\\\",\\\"baxis\\\":{\\\"gridcolor\\\":\\\"white\\\",\\\"endlinecolor\\\":\\\"#2a3f5f\\\",\\\"minorgridcolor\\\":\\\"white\\\",\\\"startlinecolor\\\":\\\"#2a3f5f\\\",\\\"linecolor\\\":\\\"white\\\"}}],\\\"scatterpolar\\\":[{\\\"type\\\":\\\"scatterpolar\\\",\\\"marker\\\":{\\\"colorbar\\\":{\\\"ticks\\\":\\\"\\\",\\\"outlinewidth\\\":0}}}],\\\"parcoords\\\":[{\\\"line\\\":{\\\"colorbar\\\":{\\\"ticks\\\":\\\"\\\",\\\"outlinewidth\\\":0}},\\\"type\\\":\\\"parcoords\\\"}],\\\"scatter\\\":[{\\\"type\\\":\\\"scatter\\\",\\\"marker\\\":{\\\"colorbar\\\":{\\\"ticks\\\":\\\"\\\",\\\"outlinewidth\\\":0}}}],\\\"histogram2dcontour\\\":[{\\\"colorbar\\\":{\\\"ticks\\\":\\\"\\\",\\\"outlinewidth\\\":0},\\\"type\\\":\\\"histogram2dcontour\\\",\\\"colorscale\\\":[[0.0,\\\"#0d0887\\\"],[0.1111111111111111,\\\"#46039f\\\"],[0.2222222222222222,\\\"#7201a8\\\"],[0.3333333333333333,\\\"#9c179e\\\"],[0.4444444444444444,\\\"#bd3786\\\"],[0.5555555555555556,\\\"#d8576b\\\"],[0.6666666666666666,\\\"#ed7953\\\"],[0.7777777777777778,\\\"#fb9f3a\\\"],[0.8888888888888888,\\\"#fdca26\\\"],[1.0,\\\"#f0f921\\\"]]}],\\\"contour\\\":[{\\\"colorbar\\\":{\\\"ticks\\\":\\\"\\\",\\\"outlinewidth\\\":0},\\\"type\\\":\\\"contour\\\",\\\"colorscale\\\":[[0.0,\\\"#0d0887\\\"],[0.1111111111111111,\\\"#46039f\\\"],[0.2222222222222222,\\\"#7201a8\\\"],[0.3333333333333333,\\\"#9c179e\\\"],[0.4444444444444444,\\\"#bd3786\\\"],[0.5555555555555556,\\\"#d8576b\\\"],[0.6666666666666666,\\\"#ed7953\\\"],[0.7777777777777778,\\\"#fb9f3a\\\"],[0.8888888888888888,\\\"#fdca26\\\"],[1.0,\\\"#f0f921\\\"]]}],\\\"scattercarpet\\\":[{\\\"type\\\":\\\"scattercarpet\\\",\\\"marker\\\":{\\\"colorbar\\\":{\\\"ticks\\\":\\\"\\\",\\\"outlinewidth\\\":0}}}],\\\"mesh3d\\\":[{\\\"colorbar\\\":{\\\"ticks\\\":\\\"\\\",\\\"outlinewidth\\\":0},\\\"type\\\":\\\"mesh3d\\\"}],\\\"surface\\\":[{\\\"colorbar\\\":{\\\"ticks\\\":\\\"\\\",\\\"outlinewidth\\\":0},\\\"type\\\":\\\"surface\\\",\\\"colorscale\\\":[[0.0,\\\"#0d0887\\\"],[0.1111111111111111,\\\"#46039f\\\"],[0.2222222222222222,\\\"#7201a8\\\"],[0.3333333333333333,\\\"#9c179e\\\"],[0.4444444444444444,\\\"#bd3786\\\"],[0.5555555555555556,\\\"#d8576b\\\"],[0.6666666666666666,\\\"#ed7953\\\"],[0.7777777777777778,\\\"#fb9f3a\\\"],[0.8888888888888888,\\\"#fdca26\\\"],[1.0,\\\"#f0f921\\\"]]}],\\\"scattermapbox\\\":[{\\\"type\\\":\\\"scattermapbox\\\",\\\"marker\\\":{\\\"colorbar\\\":{\\\"ticks\\\":\\\"\\\",\\\"outlinewidth\\\":0}}}],\\\"scattergeo\\\":[{\\\"type\\\":\\\"scattergeo\\\",\\\"marker\\\":{\\\"colorbar\\\":{\\\"ticks\\\":\\\"\\\",\\\"outlinewidth\\\":0}}}],\\\"histogram\\\":[{\\\"type\\\":\\\"histogram\\\",\\\"marker\\\":{\\\"colorbar\\\":{\\\"ticks\\\":\\\"\\\",\\\"outlinewidth\\\":0}}}],\\\"pie\\\":[{\\\"type\\\":\\\"pie\\\",\\\"automargin\\\":true}],\\\"choropleth\\\":[{\\\"colorbar\\\":{\\\"ticks\\\":\\\"\\\",\\\"outlinewidth\\\":0},\\\"type\\\":\\\"choropleth\\\"}],\\\"heatmapgl\\\":[{\\\"colorbar\\\":{\\\"ticks\\\":\\\"\\\",\\\"outlinewidth\\\":0},\\\"type\\\":\\\"heatmapgl\\\",\\\"colorscale\\\":[[0.0,\\\"#0d0887\\\"],[0.1111111111111111,\\\"#46039f\\\"],[0.2222222222222222,\\\"#7201a8\\\"],[0.3333333333333333,\\\"#9c179e\\\"],[0.4444444444444444,\\\"#bd3786\\\"],[0.5555555555555556,\\\"#d8576b\\\"],[0.6666666666666666,\\\"#ed7953\\\"],[0.7777777777777778,\\\"#fb9f3a\\\"],[0.8888888888888888,\\\"#fdca26\\\"],[1.0,\\\"#f0f921\\\"]]}],\\\"bar\\\":[{\\\"type\\\":\\\"bar\\\",\\\"error_y\\\":{\\\"color\\\":\\\"#2a3f5f\\\"},\\\"error_x\\\":{\\\"color\\\":\\\"#2a3f5f\\\"},\\\"marker\\\":{\\\"line\\\":{\\\"color\\\":\\\"#E5ECF6\\\",\\\"width\\\":0.5}}}],\\\"heatmap\\\":[{\\\"colorbar\\\":{\\\"ticks\\\":\\\"\\\",\\\"outlinewidth\\\":0},\\\"type\\\":\\\"heatmap\\\",\\\"colorscale\\\":[[0.0,\\\"#0d0887\\\"],[0.1111111111111111,\\\"#46039f\\\"],[0.2222222222222222,\\\"#7201a8\\\"],[0.3333333333333333,\\\"#9c179e\\\"],[0.4444444444444444,\\\"#bd3786\\\"],[0.5555555555555556,\\\"#d8576b\\\"],[0.6666666666666666,\\\"#ed7953\\\"],[0.7777777777777778,\\\"#fb9f3a\\\"],[0.8888888888888888,\\\"#fdca26\\\"],[1.0,\\\"#f0f921\\\"]]}],\\\"contourcarpet\\\":[{\\\"colorbar\\\":{\\\"ticks\\\":\\\"\\\",\\\"outlinewidth\\\":0},\\\"type\\\":\\\"contourcarpet\\\"}],\\\"table\\\":[{\\\"type\\\":\\\"table\\\",\\\"header\\\":{\\\"line\\\":{\\\"color\\\":\\\"white\\\"},\\\"fill\\\":{\\\"color\\\":\\\"#C8D4E3\\\"}},\\\"cells\\\":{\\\"line\\\":{\\\"color\\\":\\\"white\\\"},\\\"fill\\\":{\\\"color\\\":\\\"#EBF0F8\\\"}}}],\\\"scatter3d\\\":[{\\\"line\\\":{\\\"colorbar\\\":{\\\"ticks\\\":\\\"\\\",\\\"outlinewidth\\\":0}},\\\"type\\\":\\\"scatter3d\\\",\\\"marker\\\":{\\\"colorbar\\\":{\\\"ticks\\\":\\\"\\\",\\\"outlinewidth\\\":0}}}],\\\"scattergl\\\":[{\\\"type\\\":\\\"scattergl\\\",\\\"marker\\\":{\\\"colorbar\\\":{\\\"ticks\\\":\\\"\\\",\\\"outlinewidth\\\":0}}}],\\\"histogram2d\\\":[{\\\"colorbar\\\":{\\\"ticks\\\":\\\"\\\",\\\"outlinewidth\\\":0},\\\"type\\\":\\\"histogram2d\\\",\\\"colorscale\\\":[[0.0,\\\"#0d0887\\\"],[0.1111111111111111,\\\"#46039f\\\"],[0.2222222222222222,\\\"#7201a8\\\"],[0.3333333333333333,\\\"#9c179e\\\"],[0.4444444444444444,\\\"#bd3786\\\"],[0.5555555555555556,\\\"#d8576b\\\"],[0.6666666666666666,\\\"#ed7953\\\"],[0.7777777777777778,\\\"#fb9f3a\\\"],[0.8888888888888888,\\\"#fdca26\\\"],[1.0,\\\"#f0f921\\\"]]}],\\\"scatterternary\\\":[{\\\"type\\\":\\\"scatterternary\\\",\\\"marker\\\":{\\\"colorbar\\\":{\\\"ticks\\\":\\\"\\\",\\\"outlinewidth\\\":0}}}],\\\"scatterpolargl\\\":[{\\\"type\\\":\\\"scatterpolargl\\\",\\\"marker\\\":{\\\"colorbar\\\":{\\\"ticks\\\":\\\"\\\",\\\"outlinewidth\\\":0}}}]}},\\\"height\\\":500,\\\"margin\\\":{\\\"l\\\":1,\\\"b\\\":1,\\\"pad\\\":4,\\\"r\\\":1,\\\"t\\\":1},\\\"width\\\":500},{\\\"showLink\\\":false,\\\"editable\\\":false,\\\"responsive\\\":true,\\\"staticPlot\\\":false,\\\"scrollZoom\\\":true}); gd.on(\\\"plotly_hover\\\",(function (data){var filtered_data=WebIO.PlotlyCommands.filterEventData(gd,data,\\\"hover\\\"); return !(filtered_data.isnil) ? (WebIO.setval({\\\"name\\\":\\\"hover\\\",\\\"scope\\\":\\\"15429502677606141629\\\",\\\"id\\\":\\\"111\\\",\\\"type\\\":\\\"observable\\\"},filtered_data.out)) : undefined})); gd.on(\\\"plotly_unhover\\\",(function (){return WebIO.setval({\\\"name\\\":\\\"hover\\\",\\\"scope\\\":\\\"15429502677606141629\\\",\\\"id\\\":\\\"111\\\",\\\"type\\\":\\\"observable\\\"},{})})); gd.on(\\\"plotly_selected\\\",(function (data){var filtered_data=WebIO.PlotlyCommands.filterEventData(gd,data,\\\"selected\\\"); return !(filtered_data.isnil) ? (WebIO.setval({\\\"name\\\":\\\"selected\\\",\\\"scope\\\":\\\"15429502677606141629\\\",\\\"id\\\":\\\"112\\\",\\\"type\\\":\\\"observable\\\"},filtered_data.out)) : undefined})); gd.on(\\\"plotly_deselect\\\",(function (){return WebIO.setval({\\\"name\\\":\\\"selected\\\",\\\"scope\\\":\\\"15429502677606141629\\\",\\\"id\\\":\\\"112\\\",\\\"type\\\":\\\"observable\\\"},{})})); gd.on(\\\"plotly_relayout\\\",(function (data){var filtered_data=WebIO.PlotlyCommands.filterEventData(gd,data,\\\"relayout\\\"); return !(filtered_data.isnil) ? (WebIO.setval({\\\"name\\\":\\\"relayout\\\",\\\"scope\\\":\\\"15429502677606141629\\\",\\\"id\\\":\\\"114\\\",\\\"type\\\":\\\"observable\\\"},filtered_data.out)) : undefined})); return gd.on(\\\"plotly_click\\\",(function (data){var filtered_data=WebIO.PlotlyCommands.filterEventData(gd,data,\\\"click\\\"); return !(filtered_data.isnil) ? (WebIO.setval({\\\"name\\\":\\\"click\\\",\\\"scope\\\":\\\"15429502677606141629\\\",\\\"id\\\":\\\"113\\\",\\\"type\\\":\\\"observable\\\"},filtered_data.out)) : undefined}))}));\\n    (WebIO.importBlock({\\\"data\\\":[{\\\"name\\\":\\\"Plotly\\\",\\\"type\\\":\\\"js\\\",\\\"url\\\":\\\"\\/assetserver\\/6ce5a5e5b28ac6ffdcfcd49d44ebd4d6dbe36ed4-plotly.min.js\\\"},{\\\"name\\\":null,\\\"type\\\":\\\"js\\\",\\\"url\\\":\\\"\\/assetserver\\/6f85150d15f92ccf38dc2254479a8612ce6d040e-plotly_webio.bundle.js\\\"}],\\\"type\\\":\\\"async_block\\\"})).then((imports) => handler.apply(this, imports));\\n}\\n\"],\"observables\":{\"_toImage\":{\"sync\":false,\"id\":\"118\",\"value\":{}},\"hover\":{\"sync\":false,\"id\":\"111\",\"value\":{}},\"selected\":{\"sync\":false,\"id\":\"112\",\"value\":{}},\"__gd_contents\":{\"sync\":false,\"id\":\"116\",\"value\":{}},\"click\":{\"sync\":false,\"id\":\"113\",\"value\":{}},\"image\":{\"sync\":true,\"id\":\"115\",\"value\":\"\"},\"__get_gd_contents\":{\"sync\":false,\"id\":\"120\",\"value\":\"\"},\"_downloadImage\":{\"sync\":false,\"id\":\"119\",\"value\":{}},\"relayout\":{\"sync\":false,\"id\":\"114\",\"value\":{}},\"_commands\":{\"sync\":false,\"id\":\"117\",\"value\":[]}}},\"children\":[{\"props\":{\"id\":\"plot-58ddad36-8e8f-4f46-a223-e26dc4c3d45e\"},\"nodeType\":\"DOM\",\"type\":\"node\",\"instanceArgs\":{\"namespace\":\"html\",\"tag\":\"div\"},\"children\":[]}]},\n",
       "        window,\n",
       "    );\n",
       "    })()\n",
       "    </script>\n",
       "</div>\n"
      ],
      "text/plain": [
       "data: [\n",
       "  \"box with fields boxmean, marker, name, quartilemethod, type, and y\"\n",
       "]\n",
       "\n",
       "layout: \"layout with fields autosize, font, height, margin, template, and width\"\n",
       "\n"
      ]
     },
     "metadata": {},
     "output_type": "display_data"
    }
   ],
   "source": [
    "trace = box(y=rel_diff,\n",
    "marker=attr(\n",
    "        color=\"LightSkyBlue\",\n",
    "        size=1),\n",
    "quartilemethod=\"linear\",\n",
    "name=\"\",\n",
    "marker_color=\"royalblue\",\n",
    "boxmean=true)\n",
    "\n",
    "layout = Layout(\n",
    "    autosize=false,\n",
    "    width=500,\n",
    "    height=500,\n",
    "    margin=attr(l=1, r=1, b=1, t=1, pad=4),\n",
    "    font_size=20,\n",
    ")\n",
    "PlotlyJS.plot(trace,layout)\n",
    "\n",
    "name = \"emp_LS_HKPV\"*\"n\"*string(n)*\"p\"*string(p)*\"eta\"*string(eta)*\"q\"*string(q)\n",
    "\n",
    "plt = PlotlyJS.plot(trace,layout)\n",
    "PlotlyJS.savefig(plt,\"figures/\"*name*\".pdf\")"
   ]
  },
  {
   "cell_type": "code",
   "execution_count": 58,
   "metadata": {},
   "outputs": [
    {
     "data": {
      "image/png": "[encoded data removed]",
      "image/svg+xml": [
       "<?xml version=\"1.0\" encoding=\"utf-8\"?>\n",
       "<svg xmlns=\"http://www.w3.org/2000/svg\" xmlns:xlink=\"http://www.w3.org/1999/xlink\" width=\"600\" height=\"400\" viewBox=\"0 0 2400 1600\">\n",
       "<defs>\n",
       "  <clipPath id=\"clip490\">\n",
       "    <rect x=\"0\" y=\"0\" width=\"2400\" height=\"1600\"/>\n",
       "  </clipPath>\n",
       "</defs>\n",
       "<path clip-path=\"url(#clip490)\" d=\"M0 1600 L2400 1600 L2400 0 L0 0  Z\" fill=\"#ffffff\" fill-rule=\"evenodd\" fill-opacity=\"1\"/>\n",
       "<defs>\n",
       "  <clipPath id=\"clip491\">\n",
       "    <rect x=\"480\" y=\"0\" width=\"1681\" height=\"1600\"/>\n",
       "  </clipPath>\n",
       "</defs>\n",
       "<path clip-path=\"url(#clip490)\" d=\"M215.85 1449.1 L2337.01 1449.1 L2337.01 62.9921 L215.85 62.9921  Z\" fill=\"#ffffff\" fill-rule=\"evenodd\" fill-opacity=\"1\"/>\n",
       "<defs>\n",
       "  <clipPath id=\"clip492\">\n",
       "    <rect x=\"215\" y=\"62\" width=\"2122\" height=\"1387\"/>\n",
       "  </clipPath>\n",
       "</defs>\n",
       "<polyline clip-path=\"url(#clip492)\" style=\"stroke:#000000; stroke-linecap:round; stroke-linejoin:round; stroke-width:2; stroke-opacity:0.1; fill:none\" points=\"237.4,1449.1 237.4,62.9921 \"/>\n",
       "<polyline clip-path=\"url(#clip492)\" style=\"stroke:#000000; stroke-linecap:round; stroke-linejoin:round; stroke-width:2; stroke-opacity:0.1; fill:none\" points=\"622.226,1449.1 622.226,62.9921 \"/>\n",
       "<polyline clip-path=\"url(#clip492)\" style=\"stroke:#000000; stroke-linecap:round; stroke-linejoin:round; stroke-width:2; stroke-opacity:0.1; fill:none\" points=\"1007.05,1449.1 1007.05,62.9921 \"/>\n",
       "<polyline clip-path=\"url(#clip492)\" style=\"stroke:#000000; stroke-linecap:round; stroke-linejoin:round; stroke-width:2; stroke-opacity:0.1; fill:none\" points=\"1391.88,1449.1 1391.88,62.9921 \"/>\n",
       "<polyline clip-path=\"url(#clip492)\" style=\"stroke:#000000; stroke-linecap:round; stroke-linejoin:round; stroke-width:2; stroke-opacity:0.1; fill:none\" points=\"1776.7,1449.1 1776.7,62.9921 \"/>\n",
       "<polyline clip-path=\"url(#clip492)\" style=\"stroke:#000000; stroke-linecap:round; stroke-linejoin:round; stroke-width:2; stroke-opacity:0.1; fill:none\" points=\"2161.53,1449.1 2161.53,62.9921 \"/>\n",
       "<polyline clip-path=\"url(#clip490)\" style=\"stroke:#000000; stroke-linecap:round; stroke-linejoin:round; stroke-width:4; stroke-opacity:1; fill:none\" points=\"215.85,1449.1 2337.01,1449.1 \"/>\n",
       "<polyline clip-path=\"url(#clip490)\" style=\"stroke:#000000; stroke-linecap:round; stroke-linejoin:round; stroke-width:4; stroke-opacity:1; fill:none\" points=\"215.85,62.9921 2337.01,62.9921 \"/>\n",
       "<polyline clip-path=\"url(#clip490)\" style=\"stroke:#000000; stroke-linecap:round; stroke-linejoin:round; stroke-width:4; stroke-opacity:1; fill:none\" points=\"237.4,1449.1 237.4,1430.2 \"/>\n",
       "<polyline clip-path=\"url(#clip490)\" style=\"stroke:#000000; stroke-linecap:round; stroke-linejoin:round; stroke-width:4; stroke-opacity:1; fill:none\" points=\"622.226,1449.1 622.226,1430.2 \"/>\n",
       "<polyline clip-path=\"url(#clip490)\" style=\"stroke:#000000; stroke-linecap:round; stroke-linejoin:round; stroke-width:4; stroke-opacity:1; fill:none\" points=\"1007.05,1449.1 1007.05,1430.2 \"/>\n",
       "<polyline clip-path=\"url(#clip490)\" style=\"stroke:#000000; stroke-linecap:round; stroke-linejoin:round; stroke-width:4; stroke-opacity:1; fill:none\" points=\"1391.88,1449.1 1391.88,1430.2 \"/>\n",
       "<polyline clip-path=\"url(#clip490)\" style=\"stroke:#000000; stroke-linecap:round; stroke-linejoin:round; stroke-width:4; stroke-opacity:1; fill:none\" points=\"1776.7,1449.1 1776.7,1430.2 \"/>\n",
       "<polyline clip-path=\"url(#clip490)\" style=\"stroke:#000000; stroke-linecap:round; stroke-linejoin:round; stroke-width:4; stroke-opacity:1; fill:none\" points=\"2161.53,1449.1 2161.53,1430.2 \"/>\n",
       "<path clip-path=\"url(#clip490)\" d=\"M237.4 1487.34 Q231.532 1487.34 228.561 1493.14 Q225.627 1498.89 225.627 1510.48 Q225.627 1522.02 228.561 1527.82 Q231.532 1533.57 237.4 1533.57 Q243.306 1533.57 246.24 1527.82 Q249.212 1522.02 249.212 1510.48 Q249.212 1498.89 246.24 1493.14 Q243.306 1487.34 237.4 1487.34 M237.4 1481.32 Q246.842 1481.32 251.807 1488.81 Q256.81 1496.26 256.81 1510.48 Q256.81 1524.66 251.807 1532.14 Q246.842 1539.59 237.4 1539.59 Q227.959 1539.59 222.956 1532.14 Q217.991 1524.66 217.991 1510.48 Q217.991 1496.26 222.956 1488.81 Q227.959 1481.32 237.4 1481.32 Z\" fill=\"#000000\" fill-rule=\"nonzero\" fill-opacity=\"1\" /><path clip-path=\"url(#clip490)\" d=\"M581.093 1532.11 L593.506 1532.11 L593.506 1489.26 L580.002 1491.97 L580.002 1485.05 L593.431 1482.34 L601.029 1482.34 L601.029 1532.11 L613.443 1532.11 L613.443 1538.5 L581.093 1538.5 L581.093 1532.11 Z\" fill=\"#000000\" fill-rule=\"nonzero\" fill-opacity=\"1\" /><path clip-path=\"url(#clip490)\" d=\"M645.04 1487.34 Q639.172 1487.34 636.2 1493.14 Q633.266 1498.89 633.266 1510.48 Q633.266 1522.02 636.2 1527.82 Q639.172 1533.57 645.04 1533.57 Q650.945 1533.57 653.879 1527.82 Q656.851 1522.02 656.851 1510.48 Q656.851 1498.89 653.879 1493.14 Q650.945 1487.34 645.04 1487.34 M645.04 1481.32 Q654.481 1481.32 659.446 1488.81 Q664.449 1496.26 664.449 1510.48 Q664.449 1524.66 659.446 1532.14 Q654.481 1539.59 645.04 1539.59 Q635.598 1539.59 630.595 1532.14 Q625.63 1524.66 625.63 1510.48 Q625.63 1496.26 630.595 1488.81 Q635.598 1481.32 645.04 1481.32 Z\" fill=\"#000000\" fill-rule=\"nonzero\" fill-opacity=\"1\" /><path clip-path=\"url(#clip490)\" d=\"M972.558 1532.11 L999.077 1532.11 L999.077 1538.5 L963.417 1538.5 L963.417 1532.11 Q967.743 1527.63 975.191 1520.11 Q982.676 1512.55 984.595 1510.36 Q988.243 1506.26 989.673 1503.44 Q991.14 1500.58 991.14 1497.84 Q991.14 1493.36 987.98 1490.54 Q984.858 1487.72 979.818 1487.72 Q976.244 1487.72 972.257 1488.96 Q968.307 1490.2 963.793 1492.72 L963.793 1485.05 Q968.382 1483.2 972.37 1482.26 Q976.357 1481.32 979.667 1481.32 Q988.394 1481.32 993.585 1485.69 Q998.776 1490.05 998.776 1497.35 Q998.776 1500.81 997.459 1503.93 Q996.18 1507.02 992.757 1511.23 Q991.817 1512.32 986.776 1517.55 Q981.736 1522.74 972.558 1532.11 Z\" fill=\"#000000\" fill-rule=\"nonzero\" fill-opacity=\"1\" /><path clip-path=\"url(#clip490)\" d=\"M1031.28 1487.34 Q1025.41 1487.34 1022.44 1493.14 Q1019.5 1498.89 1019.5 1510.48 Q1019.5 1522.02 1022.44 1527.82 Q1025.41 1533.57 1031.28 1533.57 Q1037.18 1533.57 1040.12 1527.82 Q1043.09 1522.02 1043.09 1510.48 Q1043.09 1498.89 1040.12 1493.14 Q1037.18 1487.34 1031.28 1487.34 M1031.28 1481.32 Q1040.72 1481.32 1045.68 1488.81 Q1050.69 1496.26 1050.69 1510.48 Q1050.69 1524.66 1045.68 1532.14 Q1040.72 1539.59 1031.28 1539.59 Q1021.83 1539.59 1016.83 1532.14 Q1011.87 1524.66 1011.87 1510.48 Q1011.87 1496.26 1016.83 1488.81 Q1021.83 1481.32 1031.28 1481.32 Z\" fill=\"#000000\" fill-rule=\"nonzero\" fill-opacity=\"1\" /><path clip-path=\"url(#clip490)\" d=\"M1373.75 1508.22 Q1379.2 1509.39 1382.25 1513.07 Q1385.33 1516.76 1385.33 1522.17 Q1385.33 1530.49 1379.61 1535.04 Q1373.9 1539.59 1363.36 1539.59 Q1359.83 1539.59 1356.07 1538.88 Q1352.34 1538.2 1348.36 1536.81 L1348.36 1529.47 Q1351.52 1531.32 1355.28 1532.26 Q1359.04 1533.2 1363.14 1533.2 Q1370.29 1533.2 1374.01 1530.37 Q1377.77 1527.55 1377.77 1522.17 Q1377.77 1517.21 1374.27 1514.43 Q1370.81 1511.6 1364.61 1511.6 L1358.06 1511.6 L1358.06 1505.36 L1364.91 1505.36 Q1370.51 1505.36 1373.48 1503.14 Q1376.45 1500.88 1376.45 1496.67 Q1376.45 1492.35 1373.37 1490.05 Q1370.32 1487.72 1364.61 1487.72 Q1361.48 1487.72 1357.91 1488.4 Q1354.34 1489.07 1350.05 1490.5 L1350.05 1483.73 Q1354.37 1482.53 1358.14 1481.93 Q1361.93 1481.32 1365.28 1481.32 Q1373.93 1481.32 1378.97 1485.27 Q1384.01 1489.19 1384.01 1495.88 Q1384.01 1500.55 1381.34 1503.78 Q1378.67 1506.98 1373.75 1508.22 Z\" fill=\"#000000\" fill-rule=\"nonzero\" fill-opacity=\"1\" /><path clip-path=\"url(#clip490)\" d=\"M1415.99 1487.34 Q1410.12 1487.34 1407.15 1493.14 Q1404.21 1498.89 1404.21 1510.48 Q1404.21 1522.02 1407.15 1527.82 Q1410.12 1533.57 1415.99 1533.57 Q1421.89 1533.57 1424.83 1527.82 Q1427.8 1522.02 1427.8 1510.48 Q1427.8 1498.89 1424.83 1493.14 Q1421.89 1487.34 1415.99 1487.34 M1415.99 1481.32 Q1425.43 1481.32 1430.39 1488.81 Q1435.4 1496.26 1435.4 1510.48 Q1435.4 1524.66 1430.39 1532.14 Q1425.43 1539.59 1415.99 1539.59 Q1406.55 1539.59 1401.54 1532.14 Q1396.58 1524.66 1396.58 1510.48 Q1396.58 1496.26 1401.54 1488.81 Q1406.55 1481.32 1415.99 1481.32 Z\" fill=\"#000000\" fill-rule=\"nonzero\" fill-opacity=\"1\" /><path clip-path=\"url(#clip490)\" d=\"M1757.48 1488.96 L1738.3 1518.94 L1757.48 1518.94 L1757.48 1488.96 M1755.49 1482.34 L1765.04 1482.34 L1765.04 1518.94 L1773.05 1518.94 L1773.05 1525.26 L1765.04 1525.26 L1765.04 1538.5 L1757.48 1538.5 L1757.48 1525.26 L1732.13 1525.26 L1732.13 1517.92 L1755.49 1482.34 Z\" fill=\"#000000\" fill-rule=\"nonzero\" fill-opacity=\"1\" /><path clip-path=\"url(#clip490)\" d=\"M1801.87 1487.34 Q1796 1487.34 1793.03 1493.14 Q1790.09 1498.89 1790.09 1510.48 Q1790.09 1522.02 1793.03 1527.82 Q1796 1533.57 1801.87 1533.57 Q1807.77 1533.57 1810.71 1527.82 Q1813.68 1522.02 1813.68 1510.48 Q1813.68 1498.89 1810.71 1493.14 Q1807.77 1487.34 1801.87 1487.34 M1801.87 1481.32 Q1811.31 1481.32 1816.27 1488.81 Q1821.28 1496.26 1821.28 1510.48 Q1821.28 1524.66 1816.27 1532.14 Q1811.31 1539.59 1801.87 1539.59 Q1792.43 1539.59 1787.42 1532.14 Q1782.46 1524.66 1782.46 1510.48 Q1782.46 1496.26 1787.42 1488.81 Q1792.43 1481.32 1801.87 1481.32 Z\" fill=\"#000000\" fill-rule=\"nonzero\" fill-opacity=\"1\" /><path clip-path=\"url(#clip490)\" d=\"M2120.41 1482.34 L2150.24 1482.34 L2150.24 1488.73 L2127.37 1488.73 L2127.37 1502.5 Q2129.03 1501.94 2130.68 1501.67 Q2132.34 1501.37 2133.99 1501.37 Q2143.4 1501.37 2148.89 1506.53 Q2154.38 1511.68 2154.38 1520.48 Q2154.38 1529.55 2148.74 1534.59 Q2143.1 1539.59 2132.83 1539.59 Q2129.29 1539.59 2125.6 1538.99 Q2121.96 1538.39 2118.04 1537.18 L2118.04 1529.55 Q2121.43 1531.39 2125.04 1532.29 Q2128.65 1533.2 2132.68 1533.2 Q2139.18 1533.2 2142.98 1529.77 Q2146.78 1526.35 2146.78 1520.48 Q2146.78 1514.61 2142.98 1511.19 Q2139.18 1507.77 2132.68 1507.77 Q2129.63 1507.77 2126.58 1508.45 Q2123.57 1509.12 2120.41 1510.55 L2120.41 1482.34 Z\" fill=\"#000000\" fill-rule=\"nonzero\" fill-opacity=\"1\" /><path clip-path=\"url(#clip490)\" d=\"M2185.6 1487.34 Q2179.73 1487.34 2176.76 1493.14 Q2173.83 1498.89 2173.83 1510.48 Q2173.83 1522.02 2176.76 1527.82 Q2179.73 1533.57 2185.6 1533.57 Q2191.51 1533.57 2194.44 1527.82 Q2197.41 1522.02 2197.41 1510.48 Q2197.41 1498.89 2194.44 1493.14 Q2191.51 1487.34 2185.6 1487.34 M2185.6 1481.32 Q2195.04 1481.32 2200.01 1488.81 Q2205.01 1496.26 2205.01 1510.48 Q2205.01 1524.66 2200.01 1532.14 Q2195.04 1539.59 2185.6 1539.59 Q2176.16 1539.59 2171.16 1532.14 Q2166.19 1524.66 2166.19 1510.48 Q2166.19 1496.26 2171.16 1488.81 Q2176.16 1481.32 2185.6 1481.32 Z\" fill=\"#000000\" fill-rule=\"nonzero\" fill-opacity=\"1\" /><polyline clip-path=\"url(#clip492)\" style=\"stroke:#000000; stroke-linecap:round; stroke-linejoin:round; stroke-width:2; stroke-opacity:0.1; fill:none\" points=\"215.85,1137.65 2337.01,1137.65 \"/>\n",
       "<polyline clip-path=\"url(#clip492)\" style=\"stroke:#000000; stroke-linecap:round; stroke-linejoin:round; stroke-width:2; stroke-opacity:0.1; fill:none\" points=\"215.85,792.508 2337.01,792.508 \"/>\n",
       "<polyline clip-path=\"url(#clip492)\" style=\"stroke:#000000; stroke-linecap:round; stroke-linejoin:round; stroke-width:2; stroke-opacity:0.1; fill:none\" points=\"215.85,447.365 2337.01,447.365 \"/>\n",
       "<polyline clip-path=\"url(#clip492)\" style=\"stroke:#000000; stroke-linecap:round; stroke-linejoin:round; stroke-width:2; stroke-opacity:0.1; fill:none\" points=\"215.85,102.222 2337.01,102.222 \"/>\n",
       "<polyline clip-path=\"url(#clip490)\" style=\"stroke:#000000; stroke-linecap:round; stroke-linejoin:round; stroke-width:4; stroke-opacity:1; fill:none\" points=\"215.85,1449.1 215.85,62.9921 \"/>\n",
       "<polyline clip-path=\"url(#clip490)\" style=\"stroke:#000000; stroke-linecap:round; stroke-linejoin:round; stroke-width:4; stroke-opacity:1; fill:none\" points=\"2337.01,1449.1 2337.01,62.9921 \"/>\n",
       "<polyline clip-path=\"url(#clip490)\" style=\"stroke:#000000; stroke-linecap:round; stroke-linejoin:round; stroke-width:4; stroke-opacity:1; fill:none\" points=\"215.85,1137.65 234.748,1137.65 \"/>\n",
       "<polyline clip-path=\"url(#clip490)\" style=\"stroke:#000000; stroke-linecap:round; stroke-linejoin:round; stroke-width:4; stroke-opacity:1; fill:none\" points=\"215.85,792.508 234.748,792.508 \"/>\n",
       "<polyline clip-path=\"url(#clip490)\" style=\"stroke:#000000; stroke-linecap:round; stroke-linejoin:round; stroke-width:4; stroke-opacity:1; fill:none\" points=\"215.85,447.365 234.748,447.365 \"/>\n",
       "<polyline clip-path=\"url(#clip490)\" style=\"stroke:#000000; stroke-linecap:round; stroke-linejoin:round; stroke-width:4; stroke-opacity:1; fill:none\" points=\"215.85,102.222 234.748,102.222 \"/>\n",
       "<path clip-path=\"url(#clip490)\" d=\"M86.1498 1114.57 Q80.2818 1114.57 77.3101 1120.37 Q74.3761 1126.12 74.3761 1137.71 Q74.3761 1149.26 77.3101 1155.05 Q80.2818 1160.8 86.1498 1160.8 Q92.0554 1160.8 94.9894 1155.05 Q97.9611 1149.26 97.9611 1137.71 Q97.9611 1126.12 94.9894 1120.37 Q92.0554 1114.57 86.1498 1114.57 M86.1498 1108.56 Q95.5913 1108.56 100.557 1116.04 Q105.559 1123.49 105.559 1137.71 Q105.559 1151.89 100.557 1159.37 Q95.5913 1166.82 86.1498 1166.82 Q76.7083 1166.82 71.7054 1159.37 Q66.7402 1151.89 66.7402 1137.71 Q66.7402 1123.49 71.7054 1116.04 Q76.7083 1108.56 86.1498 1108.56 Z\" fill=\"#000000\" fill-rule=\"nonzero\" fill-opacity=\"1\" /><path clip-path=\"url(#clip490)\" d=\"M118.913 1156.18 L126.85 1156.18 L126.85 1165.73 L118.913 1165.73 L118.913 1156.18 Z\" fill=\"#000000\" fill-rule=\"nonzero\" fill-opacity=\"1\" /><path clip-path=\"url(#clip490)\" d=\"M164.277 1116.19 L145.093 1146.17 L164.277 1146.17 L164.277 1116.19 M162.284 1109.57 L171.838 1109.57 L171.838 1146.17 L179.85 1146.17 L179.85 1152.49 L171.838 1152.49 L171.838 1165.73 L164.277 1165.73 L164.277 1152.49 L138.924 1152.49 L138.924 1145.16 L162.284 1109.57 Z\" fill=\"#000000\" fill-rule=\"nonzero\" fill-opacity=\"1\" /><path clip-path=\"url(#clip490)\" d=\"M86.6764 769.431 Q80.8084 769.431 77.8367 775.223 Q74.9027 780.979 74.9027 792.564 Q74.9027 804.112 77.8367 809.905 Q80.8084 815.66 86.6764 815.66 Q92.582 815.66 95.516 809.905 Q98.4877 804.112 98.4877 792.564 Q98.4877 780.979 95.516 775.223 Q92.582 769.431 86.6764 769.431 M86.6764 763.412 Q96.1179 763.412 101.083 770.898 Q106.086 778.345 106.086 792.564 Q106.086 806.745 101.083 814.231 Q96.1179 821.679 86.6764 821.679 Q77.2349 821.679 72.232 814.231 Q67.2668 806.745 67.2668 792.564 Q67.2668 778.345 72.232 770.898 Q77.2349 763.412 86.6764 763.412 Z\" fill=\"#000000\" fill-rule=\"nonzero\" fill-opacity=\"1\" /><path clip-path=\"url(#clip490)\" d=\"M119.44 811.033 L127.376 811.033 L127.376 820.588 L119.44 820.588 L119.44 811.033 Z\" fill=\"#000000\" fill-rule=\"nonzero\" fill-opacity=\"1\" /><path clip-path=\"url(#clip490)\" d=\"M161.118 789.48 Q156.002 789.48 152.993 792.978 Q150.021 796.476 150.021 802.57 Q150.021 808.626 152.993 812.162 Q156.002 815.66 161.118 815.66 Q166.233 815.66 169.205 812.162 Q172.214 808.626 172.214 802.57 Q172.214 796.476 169.205 792.978 Q166.233 789.48 161.118 789.48 M176.201 765.669 L176.201 772.59 Q173.343 771.236 170.409 770.521 Q167.512 769.807 164.653 769.807 Q157.13 769.807 153.143 774.885 Q149.193 779.963 148.629 790.232 Q150.849 786.959 154.196 785.229 Q157.544 783.461 161.569 783.461 Q170.032 783.461 174.922 788.614 Q179.85 793.73 179.85 802.57 Q179.85 811.221 174.734 816.45 Q169.619 821.679 161.118 821.679 Q151.375 821.679 146.222 814.231 Q141.068 806.745 141.068 792.564 Q141.068 779.248 147.388 771.349 Q153.707 763.412 164.352 763.412 Q167.211 763.412 170.108 763.976 Q173.042 764.541 176.201 765.669 Z\" fill=\"#000000\" fill-rule=\"nonzero\" fill-opacity=\"1\" /><path clip-path=\"url(#clip490)\" d=\"M87.0902 424.288 Q81.2221 424.288 78.2505 430.08 Q75.3165 435.835 75.3165 447.421 Q75.3165 458.969 78.2505 464.762 Q81.2221 470.517 87.0902 470.517 Q92.9958 470.517 95.9298 464.762 Q98.9014 458.969 98.9014 447.421 Q98.9014 435.835 95.9298 430.08 Q92.9958 424.288 87.0902 424.288 M87.0902 418.269 Q96.5317 418.269 101.497 425.755 Q106.5 433.202 106.5 447.421 Q106.5 461.602 101.497 469.088 Q96.5317 476.535 87.0902 476.535 Q77.6487 476.535 72.6458 469.088 Q67.6805 461.602 67.6805 447.421 Q67.6805 433.202 72.6458 425.755 Q77.6487 418.269 87.0902 418.269 Z\" fill=\"#000000\" fill-rule=\"nonzero\" fill-opacity=\"1\" /><path clip-path=\"url(#clip490)\" d=\"M119.853 465.89 L127.79 465.89 L127.79 475.445 L119.853 475.445 L119.853 465.89 Z\" fill=\"#000000\" fill-rule=\"nonzero\" fill-opacity=\"1\" /><path clip-path=\"url(#clip490)\" d=\"M160.591 448.775 Q155.174 448.775 152.052 451.672 Q148.968 454.568 148.968 459.646 Q148.968 464.724 152.052 467.621 Q155.174 470.517 160.591 470.517 Q166.008 470.517 169.13 467.621 Q172.252 464.687 172.252 459.646 Q172.252 454.568 169.13 451.672 Q166.045 448.775 160.591 448.775 M152.993 445.54 Q148.103 444.337 145.357 440.989 Q142.648 437.641 142.648 432.826 Q142.648 426.093 147.425 422.181 Q152.24 418.269 160.591 418.269 Q168.979 418.269 173.756 422.181 Q178.534 426.093 178.534 432.826 Q178.534 437.641 175.788 440.989 Q173.079 444.337 168.227 445.54 Q173.719 446.819 176.766 450.543 Q179.85 454.267 179.85 459.646 Q179.85 467.809 174.847 472.172 Q169.882 476.535 160.591 476.535 Q151.3 476.535 146.297 472.172 Q141.332 467.809 141.332 459.646 Q141.332 454.267 144.416 450.543 Q147.501 446.819 152.993 445.54 M150.209 433.541 Q150.209 437.904 152.917 440.349 Q155.663 442.794 160.591 442.794 Q165.481 442.794 168.227 440.349 Q171.01 437.904 171.01 433.541 Q171.01 429.178 168.227 426.733 Q165.481 424.288 160.591 424.288 Q155.663 424.288 152.917 426.733 Q150.209 429.178 150.209 433.541 Z\" fill=\"#000000\" fill-rule=\"nonzero\" fill-opacity=\"1\" /><path clip-path=\"url(#clip490)\" d=\"M72.0063 123.907 L84.4195 123.907 L84.4195 81.0628 L70.9155 83.7712 L70.9155 76.8499 L84.3442 74.1416 L91.9426 74.1416 L91.9426 123.907 L104.356 123.907 L104.356 130.302 L72.0063 130.302 L72.0063 123.907 Z\" fill=\"#000000\" fill-rule=\"nonzero\" fill-opacity=\"1\" /><path clip-path=\"url(#clip490)\" d=\"M119.703 120.747 L127.64 120.747 L127.64 130.302 L119.703 130.302 L119.703 120.747 Z\" fill=\"#000000\" fill-rule=\"nonzero\" fill-opacity=\"1\" /><path clip-path=\"url(#clip490)\" d=\"M160.44 79.1445 Q154.572 79.1445 151.601 84.9372 Q148.667 90.6924 148.667 102.278 Q148.667 113.826 151.601 119.619 Q154.572 125.374 160.44 125.374 Q166.346 125.374 169.28 119.619 Q172.252 113.826 172.252 102.278 Q172.252 90.6924 169.28 84.9372 Q166.346 79.1445 160.44 79.1445 M160.44 73.126 Q169.882 73.126 174.847 80.6115 Q179.85 88.0593 179.85 102.278 Q179.85 116.459 174.847 123.945 Q169.882 131.392 160.44 131.392 Q150.999 131.392 145.996 123.945 Q141.031 116.459 141.031 102.278 Q141.031 88.0593 145.996 80.6115 Q150.999 73.126 160.44 73.126 Z\" fill=\"#000000\" fill-rule=\"nonzero\" fill-opacity=\"1\" /><circle clip-path=\"url(#clip492)\" cx=\"275.883\" cy=\"1220.67\" r=\"14.4\" fill=\"#0000ff\" fill-rule=\"evenodd\" fill-opacity=\"1\" stroke=\"#000000\" stroke-opacity=\"1\" stroke-width=\"3.2\"/>\n",
       "<circle clip-path=\"url(#clip492)\" cx=\"314.365\" cy=\"1106.91\" r=\"14.4\" fill=\"#0000ff\" fill-rule=\"evenodd\" fill-opacity=\"1\" stroke=\"#000000\" stroke-opacity=\"1\" stroke-width=\"3.2\"/>\n",
       "<circle clip-path=\"url(#clip492)\" cx=\"352.848\" cy=\"1224.39\" r=\"14.4\" fill=\"#0000ff\" fill-rule=\"evenodd\" fill-opacity=\"1\" stroke=\"#000000\" stroke-opacity=\"1\" stroke-width=\"3.2\"/>\n",
       "<circle clip-path=\"url(#clip492)\" cx=\"391.33\" cy=\"1191.98\" r=\"14.4\" fill=\"#0000ff\" fill-rule=\"evenodd\" fill-opacity=\"1\" stroke=\"#000000\" stroke-opacity=\"1\" stroke-width=\"3.2\"/>\n",
       "<circle clip-path=\"url(#clip492)\" cx=\"429.813\" cy=\"1308.25\" r=\"14.4\" fill=\"#0000ff\" fill-rule=\"evenodd\" fill-opacity=\"1\" stroke=\"#000000\" stroke-opacity=\"1\" stroke-width=\"3.2\"/>\n",
       "<circle clip-path=\"url(#clip492)\" cx=\"468.296\" cy=\"1369.94\" r=\"14.4\" fill=\"#0000ff\" fill-rule=\"evenodd\" fill-opacity=\"1\" stroke=\"#000000\" stroke-opacity=\"1\" stroke-width=\"3.2\"/>\n",
       "<circle clip-path=\"url(#clip492)\" cx=\"506.778\" cy=\"102.222\" r=\"14.4\" fill=\"#0000ff\" fill-rule=\"evenodd\" fill-opacity=\"1\" stroke=\"#000000\" stroke-opacity=\"1\" stroke-width=\"3.2\"/>\n",
       "<circle clip-path=\"url(#clip492)\" cx=\"545.261\" cy=\"1174.2\" r=\"14.4\" fill=\"#0000ff\" fill-rule=\"evenodd\" fill-opacity=\"1\" stroke=\"#000000\" stroke-opacity=\"1\" stroke-width=\"3.2\"/>\n",
       "<circle clip-path=\"url(#clip492)\" cx=\"583.743\" cy=\"1262.92\" r=\"14.4\" fill=\"#0000ff\" fill-rule=\"evenodd\" fill-opacity=\"1\" stroke=\"#000000\" stroke-opacity=\"1\" stroke-width=\"3.2\"/>\n",
       "<circle clip-path=\"url(#clip492)\" cx=\"622.226\" cy=\"1222.39\" r=\"14.4\" fill=\"#0000ff\" fill-rule=\"evenodd\" fill-opacity=\"1\" stroke=\"#000000\" stroke-opacity=\"1\" stroke-width=\"3.2\"/>\n",
       "<circle clip-path=\"url(#clip492)\" cx=\"660.708\" cy=\"1295.86\" r=\"14.4\" fill=\"#0000ff\" fill-rule=\"evenodd\" fill-opacity=\"1\" stroke=\"#000000\" stroke-opacity=\"1\" stroke-width=\"3.2\"/>\n",
       "<circle clip-path=\"url(#clip492)\" cx=\"699.191\" cy=\"1233.55\" r=\"14.4\" fill=\"#0000ff\" fill-rule=\"evenodd\" fill-opacity=\"1\" stroke=\"#000000\" stroke-opacity=\"1\" stroke-width=\"3.2\"/>\n",
       "<circle clip-path=\"url(#clip492)\" cx=\"737.673\" cy=\"1253.96\" r=\"14.4\" fill=\"#0000ff\" fill-rule=\"evenodd\" fill-opacity=\"1\" stroke=\"#000000\" stroke-opacity=\"1\" stroke-width=\"3.2\"/>\n",
       "<circle clip-path=\"url(#clip492)\" cx=\"776.156\" cy=\"1348.55\" r=\"14.4\" fill=\"#0000ff\" fill-rule=\"evenodd\" fill-opacity=\"1\" stroke=\"#000000\" stroke-opacity=\"1\" stroke-width=\"3.2\"/>\n",
       "<circle clip-path=\"url(#clip492)\" cx=\"814.638\" cy=\"1296.09\" r=\"14.4\" fill=\"#0000ff\" fill-rule=\"evenodd\" fill-opacity=\"1\" stroke=\"#000000\" stroke-opacity=\"1\" stroke-width=\"3.2\"/>\n",
       "<circle clip-path=\"url(#clip492)\" cx=\"853.121\" cy=\"1257.51\" r=\"14.4\" fill=\"#0000ff\" fill-rule=\"evenodd\" fill-opacity=\"1\" stroke=\"#000000\" stroke-opacity=\"1\" stroke-width=\"3.2\"/>\n",
       "<circle clip-path=\"url(#clip492)\" cx=\"891.604\" cy=\"1402.35\" r=\"14.4\" fill=\"#0000ff\" fill-rule=\"evenodd\" fill-opacity=\"1\" stroke=\"#000000\" stroke-opacity=\"1\" stroke-width=\"3.2\"/>\n",
       "<circle clip-path=\"url(#clip492)\" cx=\"930.086\" cy=\"1266.5\" r=\"14.4\" fill=\"#0000ff\" fill-rule=\"evenodd\" fill-opacity=\"1\" stroke=\"#000000\" stroke-opacity=\"1\" stroke-width=\"3.2\"/>\n",
       "<circle clip-path=\"url(#clip492)\" cx=\"968.569\" cy=\"1214.84\" r=\"14.4\" fill=\"#0000ff\" fill-rule=\"evenodd\" fill-opacity=\"1\" stroke=\"#000000\" stroke-opacity=\"1\" stroke-width=\"3.2\"/>\n",
       "<circle clip-path=\"url(#clip492)\" cx=\"1007.05\" cy=\"1296.97\" r=\"14.4\" fill=\"#0000ff\" fill-rule=\"evenodd\" fill-opacity=\"1\" stroke=\"#000000\" stroke-opacity=\"1\" stroke-width=\"3.2\"/>\n",
       "<circle clip-path=\"url(#clip492)\" cx=\"1045.53\" cy=\"1075.31\" r=\"14.4\" fill=\"#0000ff\" fill-rule=\"evenodd\" fill-opacity=\"1\" stroke=\"#000000\" stroke-opacity=\"1\" stroke-width=\"3.2\"/>\n",
       "<circle clip-path=\"url(#clip492)\" cx=\"1084.02\" cy=\"1274.32\" r=\"14.4\" fill=\"#0000ff\" fill-rule=\"evenodd\" fill-opacity=\"1\" stroke=\"#000000\" stroke-opacity=\"1\" stroke-width=\"3.2\"/>\n",
       "<circle clip-path=\"url(#clip492)\" cx=\"1122.5\" cy=\"1307.55\" r=\"14.4\" fill=\"#0000ff\" fill-rule=\"evenodd\" fill-opacity=\"1\" stroke=\"#000000\" stroke-opacity=\"1\" stroke-width=\"3.2\"/>\n",
       "<circle clip-path=\"url(#clip492)\" cx=\"1160.98\" cy=\"1284.61\" r=\"14.4\" fill=\"#0000ff\" fill-rule=\"evenodd\" fill-opacity=\"1\" stroke=\"#000000\" stroke-opacity=\"1\" stroke-width=\"3.2\"/>\n",
       "<circle clip-path=\"url(#clip492)\" cx=\"1199.46\" cy=\"1301.98\" r=\"14.4\" fill=\"#0000ff\" fill-rule=\"evenodd\" fill-opacity=\"1\" stroke=\"#000000\" stroke-opacity=\"1\" stroke-width=\"3.2\"/>\n",
       "<circle clip-path=\"url(#clip492)\" cx=\"1237.95\" cy=\"1194.83\" r=\"14.4\" fill=\"#0000ff\" fill-rule=\"evenodd\" fill-opacity=\"1\" stroke=\"#000000\" stroke-opacity=\"1\" stroke-width=\"3.2\"/>\n",
       "<circle clip-path=\"url(#clip492)\" cx=\"1276.43\" cy=\"941.325\" r=\"14.4\" fill=\"#0000ff\" fill-rule=\"evenodd\" fill-opacity=\"1\" stroke=\"#000000\" stroke-opacity=\"1\" stroke-width=\"3.2\"/>\n",
       "<circle clip-path=\"url(#clip492)\" cx=\"1314.91\" cy=\"946.32\" r=\"14.4\" fill=\"#0000ff\" fill-rule=\"evenodd\" fill-opacity=\"1\" stroke=\"#000000\" stroke-opacity=\"1\" stroke-width=\"3.2\"/>\n",
       "<circle clip-path=\"url(#clip492)\" cx=\"1353.39\" cy=\"789.717\" r=\"14.4\" fill=\"#0000ff\" fill-rule=\"evenodd\" fill-opacity=\"1\" stroke=\"#000000\" stroke-opacity=\"1\" stroke-width=\"3.2\"/>\n",
       "<circle clip-path=\"url(#clip492)\" cx=\"1391.88\" cy=\"1357.28\" r=\"14.4\" fill=\"#0000ff\" fill-rule=\"evenodd\" fill-opacity=\"1\" stroke=\"#000000\" stroke-opacity=\"1\" stroke-width=\"3.2\"/>\n",
       "<circle clip-path=\"url(#clip492)\" cx=\"1430.36\" cy=\"1350.5\" r=\"14.4\" fill=\"#0000ff\" fill-rule=\"evenodd\" fill-opacity=\"1\" stroke=\"#000000\" stroke-opacity=\"1\" stroke-width=\"3.2\"/>\n",
       "<circle clip-path=\"url(#clip492)\" cx=\"1468.84\" cy=\"1409.87\" r=\"14.4\" fill=\"#0000ff\" fill-rule=\"evenodd\" fill-opacity=\"1\" stroke=\"#000000\" stroke-opacity=\"1\" stroke-width=\"3.2\"/>\n",
       "<circle clip-path=\"url(#clip492)\" cx=\"1507.32\" cy=\"1406.87\" r=\"14.4\" fill=\"#0000ff\" fill-rule=\"evenodd\" fill-opacity=\"1\" stroke=\"#000000\" stroke-opacity=\"1\" stroke-width=\"3.2\"/>\n",
       "<circle clip-path=\"url(#clip492)\" cx=\"1545.81\" cy=\"1097.41\" r=\"14.4\" fill=\"#0000ff\" fill-rule=\"evenodd\" fill-opacity=\"1\" stroke=\"#000000\" stroke-opacity=\"1\" stroke-width=\"3.2\"/>\n",
       "<circle clip-path=\"url(#clip492)\" cx=\"1584.29\" cy=\"1270.19\" r=\"14.4\" fill=\"#0000ff\" fill-rule=\"evenodd\" fill-opacity=\"1\" stroke=\"#000000\" stroke-opacity=\"1\" stroke-width=\"3.2\"/>\n",
       "<circle clip-path=\"url(#clip492)\" cx=\"1622.77\" cy=\"784.685\" r=\"14.4\" fill=\"#0000ff\" fill-rule=\"evenodd\" fill-opacity=\"1\" stroke=\"#000000\" stroke-opacity=\"1\" stroke-width=\"3.2\"/>\n",
       "<circle clip-path=\"url(#clip492)\" cx=\"1661.25\" cy=\"784.685\" r=\"14.4\" fill=\"#0000ff\" fill-rule=\"evenodd\" fill-opacity=\"1\" stroke=\"#000000\" stroke-opacity=\"1\" stroke-width=\"3.2\"/>\n",
       "<circle clip-path=\"url(#clip492)\" cx=\"1699.74\" cy=\"1220.32\" r=\"14.4\" fill=\"#0000ff\" fill-rule=\"evenodd\" fill-opacity=\"1\" stroke=\"#000000\" stroke-opacity=\"1\" stroke-width=\"3.2\"/>\n",
       "<circle clip-path=\"url(#clip492)\" cx=\"1738.22\" cy=\"1376\" r=\"14.4\" fill=\"#0000ff\" fill-rule=\"evenodd\" fill-opacity=\"1\" stroke=\"#000000\" stroke-opacity=\"1\" stroke-width=\"3.2\"/>\n",
       "<circle clip-path=\"url(#clip492)\" cx=\"1776.7\" cy=\"1254.88\" r=\"14.4\" fill=\"#0000ff\" fill-rule=\"evenodd\" fill-opacity=\"1\" stroke=\"#000000\" stroke-opacity=\"1\" stroke-width=\"3.2\"/>\n",
       "<circle clip-path=\"url(#clip492)\" cx=\"1815.18\" cy=\"1131.75\" r=\"14.4\" fill=\"#0000ff\" fill-rule=\"evenodd\" fill-opacity=\"1\" stroke=\"#000000\" stroke-opacity=\"1\" stroke-width=\"3.2\"/>\n",
       "<circle clip-path=\"url(#clip492)\" cx=\"1853.67\" cy=\"1322.76\" r=\"14.4\" fill=\"#0000ff\" fill-rule=\"evenodd\" fill-opacity=\"1\" stroke=\"#000000\" stroke-opacity=\"1\" stroke-width=\"3.2\"/>\n",
       "<circle clip-path=\"url(#clip492)\" cx=\"1892.15\" cy=\"1366.99\" r=\"14.4\" fill=\"#0000ff\" fill-rule=\"evenodd\" fill-opacity=\"1\" stroke=\"#000000\" stroke-opacity=\"1\" stroke-width=\"3.2\"/>\n",
       "<circle clip-path=\"url(#clip492)\" cx=\"1930.63\" cy=\"1272.54\" r=\"14.4\" fill=\"#0000ff\" fill-rule=\"evenodd\" fill-opacity=\"1\" stroke=\"#000000\" stroke-opacity=\"1\" stroke-width=\"3.2\"/>\n",
       "<circle clip-path=\"url(#clip492)\" cx=\"1969.11\" cy=\"869.138\" r=\"14.4\" fill=\"#0000ff\" fill-rule=\"evenodd\" fill-opacity=\"1\" stroke=\"#000000\" stroke-opacity=\"1\" stroke-width=\"3.2\"/>\n",
       "<circle clip-path=\"url(#clip492)\" cx=\"2007.6\" cy=\"1049.08\" r=\"14.4\" fill=\"#0000ff\" fill-rule=\"evenodd\" fill-opacity=\"1\" stroke=\"#000000\" stroke-opacity=\"1\" stroke-width=\"3.2\"/>\n",
       "<circle clip-path=\"url(#clip492)\" cx=\"2046.08\" cy=\"1117.16\" r=\"14.4\" fill=\"#0000ff\" fill-rule=\"evenodd\" fill-opacity=\"1\" stroke=\"#000000\" stroke-opacity=\"1\" stroke-width=\"3.2\"/>\n",
       "<circle clip-path=\"url(#clip492)\" cx=\"2084.56\" cy=\"1094.14\" r=\"14.4\" fill=\"#0000ff\" fill-rule=\"evenodd\" fill-opacity=\"1\" stroke=\"#000000\" stroke-opacity=\"1\" stroke-width=\"3.2\"/>\n",
       "<circle clip-path=\"url(#clip492)\" cx=\"2123.04\" cy=\"1184.32\" r=\"14.4\" fill=\"#0000ff\" fill-rule=\"evenodd\" fill-opacity=\"1\" stroke=\"#000000\" stroke-opacity=\"1\" stroke-width=\"3.2\"/>\n",
       "<circle clip-path=\"url(#clip492)\" cx=\"2161.53\" cy=\"1116.9\" r=\"14.4\" fill=\"#0000ff\" fill-rule=\"evenodd\" fill-opacity=\"1\" stroke=\"#000000\" stroke-opacity=\"1\" stroke-width=\"3.2\"/>\n",
       "<circle clip-path=\"url(#clip492)\" cx=\"2200.01\" cy=\"1103.06\" r=\"14.4\" fill=\"#0000ff\" fill-rule=\"evenodd\" fill-opacity=\"1\" stroke=\"#000000\" stroke-opacity=\"1\" stroke-width=\"3.2\"/>\n",
       "<circle clip-path=\"url(#clip492)\" cx=\"2238.49\" cy=\"1219.58\" r=\"14.4\" fill=\"#0000ff\" fill-rule=\"evenodd\" fill-opacity=\"1\" stroke=\"#000000\" stroke-opacity=\"1\" stroke-width=\"3.2\"/>\n",
       "<circle clip-path=\"url(#clip492)\" cx=\"2276.98\" cy=\"1040.24\" r=\"14.4\" fill=\"#0000ff\" fill-rule=\"evenodd\" fill-opacity=\"1\" stroke=\"#000000\" stroke-opacity=\"1\" stroke-width=\"3.2\"/>\n",
       "<circle clip-path=\"url(#clip492)\" cx=\"275.883\" cy=\"1272.58\" r=\"14.4\" fill=\"#ff0000\" fill-rule=\"evenodd\" fill-opacity=\"1\" stroke=\"#000000\" stroke-opacity=\"1\" stroke-width=\"6.4\"/>\n",
       "<circle clip-path=\"url(#clip492)\" cx=\"314.365\" cy=\"1088.24\" r=\"14.4\" fill=\"#ff0000\" fill-rule=\"evenodd\" fill-opacity=\"1\" stroke=\"#000000\" stroke-opacity=\"1\" stroke-width=\"6.4\"/>\n",
       "<circle clip-path=\"url(#clip492)\" cx=\"352.848\" cy=\"1280.5\" r=\"14.4\" fill=\"#ff0000\" fill-rule=\"evenodd\" fill-opacity=\"1\" stroke=\"#000000\" stroke-opacity=\"1\" stroke-width=\"6.4\"/>\n",
       "<circle clip-path=\"url(#clip492)\" cx=\"391.33\" cy=\"1212.61\" r=\"14.4\" fill=\"#ff0000\" fill-rule=\"evenodd\" fill-opacity=\"1\" stroke=\"#000000\" stroke-opacity=\"1\" stroke-width=\"6.4\"/>\n",
       "<circle clip-path=\"url(#clip492)\" cx=\"429.813\" cy=\"1321.2\" r=\"14.4\" fill=\"#ff0000\" fill-rule=\"evenodd\" fill-opacity=\"1\" stroke=\"#000000\" stroke-opacity=\"1\" stroke-width=\"6.4\"/>\n",
       "<circle clip-path=\"url(#clip492)\" cx=\"468.296\" cy=\"1361.6\" r=\"14.4\" fill=\"#ff0000\" fill-rule=\"evenodd\" fill-opacity=\"1\" stroke=\"#000000\" stroke-opacity=\"1\" stroke-width=\"6.4\"/>\n",
       "<circle clip-path=\"url(#clip492)\" cx=\"506.778\" cy=\"114.646\" r=\"14.4\" fill=\"#ff0000\" fill-rule=\"evenodd\" fill-opacity=\"1\" stroke=\"#000000\" stroke-opacity=\"1\" stroke-width=\"6.4\"/>\n",
       "<circle clip-path=\"url(#clip492)\" cx=\"545.261\" cy=\"1242.58\" r=\"14.4\" fill=\"#ff0000\" fill-rule=\"evenodd\" fill-opacity=\"1\" stroke=\"#000000\" stroke-opacity=\"1\" stroke-width=\"6.4\"/>\n",
       "<circle clip-path=\"url(#clip492)\" cx=\"583.743\" cy=\"1291.84\" r=\"14.4\" fill=\"#ff0000\" fill-rule=\"evenodd\" fill-opacity=\"1\" stroke=\"#000000\" stroke-opacity=\"1\" stroke-width=\"6.4\"/>\n",
       "<circle clip-path=\"url(#clip492)\" cx=\"622.226\" cy=\"1254.02\" r=\"14.4\" fill=\"#ff0000\" fill-rule=\"evenodd\" fill-opacity=\"1\" stroke=\"#000000\" stroke-opacity=\"1\" stroke-width=\"6.4\"/>\n",
       "<circle clip-path=\"url(#clip492)\" cx=\"660.708\" cy=\"1287.12\" r=\"14.4\" fill=\"#ff0000\" fill-rule=\"evenodd\" fill-opacity=\"1\" stroke=\"#000000\" stroke-opacity=\"1\" stroke-width=\"6.4\"/>\n",
       "<circle clip-path=\"url(#clip492)\" cx=\"699.191\" cy=\"1265.21\" r=\"14.4\" fill=\"#ff0000\" fill-rule=\"evenodd\" fill-opacity=\"1\" stroke=\"#000000\" stroke-opacity=\"1\" stroke-width=\"6.4\"/>\n",
       "<circle clip-path=\"url(#clip492)\" cx=\"737.673\" cy=\"1241.71\" r=\"14.4\" fill=\"#ff0000\" fill-rule=\"evenodd\" fill-opacity=\"1\" stroke=\"#000000\" stroke-opacity=\"1\" stroke-width=\"6.4\"/>\n",
       "<circle clip-path=\"url(#clip492)\" cx=\"776.156\" cy=\"1330.52\" r=\"14.4\" fill=\"#ff0000\" fill-rule=\"evenodd\" fill-opacity=\"1\" stroke=\"#000000\" stroke-opacity=\"1\" stroke-width=\"6.4\"/>\n",
       "<circle clip-path=\"url(#clip492)\" cx=\"814.638\" cy=\"1283.59\" r=\"14.4\" fill=\"#ff0000\" fill-rule=\"evenodd\" fill-opacity=\"1\" stroke=\"#000000\" stroke-opacity=\"1\" stroke-width=\"6.4\"/>\n",
       "<circle clip-path=\"url(#clip492)\" cx=\"853.121\" cy=\"1259.76\" r=\"14.4\" fill=\"#ff0000\" fill-rule=\"evenodd\" fill-opacity=\"1\" stroke=\"#000000\" stroke-opacity=\"1\" stroke-width=\"6.4\"/>\n",
       "<circle clip-path=\"url(#clip492)\" cx=\"891.604\" cy=\"1392.6\" r=\"14.4\" fill=\"#ff0000\" fill-rule=\"evenodd\" fill-opacity=\"1\" stroke=\"#000000\" stroke-opacity=\"1\" stroke-width=\"6.4\"/>\n",
       "<circle clip-path=\"url(#clip492)\" cx=\"930.086\" cy=\"1282.97\" r=\"14.4\" fill=\"#ff0000\" fill-rule=\"evenodd\" fill-opacity=\"1\" stroke=\"#000000\" stroke-opacity=\"1\" stroke-width=\"6.4\"/>\n",
       "<circle clip-path=\"url(#clip492)\" cx=\"968.569\" cy=\"1238.48\" r=\"14.4\" fill=\"#ff0000\" fill-rule=\"evenodd\" fill-opacity=\"1\" stroke=\"#000000\" stroke-opacity=\"1\" stroke-width=\"6.4\"/>\n",
       "<circle clip-path=\"url(#clip492)\" cx=\"1007.05\" cy=\"1286.25\" r=\"14.4\" fill=\"#ff0000\" fill-rule=\"evenodd\" fill-opacity=\"1\" stroke=\"#000000\" stroke-opacity=\"1\" stroke-width=\"6.4\"/>\n",
       "<circle clip-path=\"url(#clip492)\" cx=\"1045.53\" cy=\"1181.11\" r=\"14.4\" fill=\"#ff0000\" fill-rule=\"evenodd\" fill-opacity=\"1\" stroke=\"#000000\" stroke-opacity=\"1\" stroke-width=\"6.4\"/>\n",
       "<circle clip-path=\"url(#clip492)\" cx=\"1084.02\" cy=\"1278.31\" r=\"14.4\" fill=\"#ff0000\" fill-rule=\"evenodd\" fill-opacity=\"1\" stroke=\"#000000\" stroke-opacity=\"1\" stroke-width=\"6.4\"/>\n",
       "<circle clip-path=\"url(#clip492)\" cx=\"1122.5\" cy=\"1308.91\" r=\"14.4\" fill=\"#ff0000\" fill-rule=\"evenodd\" fill-opacity=\"1\" stroke=\"#000000\" stroke-opacity=\"1\" stroke-width=\"6.4\"/>\n",
       "<circle clip-path=\"url(#clip492)\" cx=\"1160.98\" cy=\"1236.23\" r=\"14.4\" fill=\"#ff0000\" fill-rule=\"evenodd\" fill-opacity=\"1\" stroke=\"#000000\" stroke-opacity=\"1\" stroke-width=\"6.4\"/>\n",
       "<circle clip-path=\"url(#clip492)\" cx=\"1199.46\" cy=\"1270.52\" r=\"14.4\" fill=\"#ff0000\" fill-rule=\"evenodd\" fill-opacity=\"1\" stroke=\"#000000\" stroke-opacity=\"1\" stroke-width=\"6.4\"/>\n",
       "<circle clip-path=\"url(#clip492)\" cx=\"1237.95\" cy=\"1210.35\" r=\"14.4\" fill=\"#ff0000\" fill-rule=\"evenodd\" fill-opacity=\"1\" stroke=\"#000000\" stroke-opacity=\"1\" stroke-width=\"6.4\"/>\n",
       "<circle clip-path=\"url(#clip492)\" cx=\"1276.43\" cy=\"973.27\" r=\"14.4\" fill=\"#ff0000\" fill-rule=\"evenodd\" fill-opacity=\"1\" stroke=\"#000000\" stroke-opacity=\"1\" stroke-width=\"6.4\"/>\n",
       "<circle clip-path=\"url(#clip492)\" cx=\"1314.91\" cy=\"951.572\" r=\"14.4\" fill=\"#ff0000\" fill-rule=\"evenodd\" fill-opacity=\"1\" stroke=\"#000000\" stroke-opacity=\"1\" stroke-width=\"6.4\"/>\n",
       "<circle clip-path=\"url(#clip492)\" cx=\"1353.39\" cy=\"871.549\" r=\"14.4\" fill=\"#ff0000\" fill-rule=\"evenodd\" fill-opacity=\"1\" stroke=\"#000000\" stroke-opacity=\"1\" stroke-width=\"6.4\"/>\n",
       "<circle clip-path=\"url(#clip492)\" cx=\"1391.88\" cy=\"1347.19\" r=\"14.4\" fill=\"#ff0000\" fill-rule=\"evenodd\" fill-opacity=\"1\" stroke=\"#000000\" stroke-opacity=\"1\" stroke-width=\"6.4\"/>\n",
       "<circle clip-path=\"url(#clip492)\" cx=\"1430.36\" cy=\"1328.53\" r=\"14.4\" fill=\"#ff0000\" fill-rule=\"evenodd\" fill-opacity=\"1\" stroke=\"#000000\" stroke-opacity=\"1\" stroke-width=\"6.4\"/>\n",
       "<circle clip-path=\"url(#clip492)\" cx=\"1468.84\" cy=\"1404.66\" r=\"14.4\" fill=\"#ff0000\" fill-rule=\"evenodd\" fill-opacity=\"1\" stroke=\"#000000\" stroke-opacity=\"1\" stroke-width=\"6.4\"/>\n",
       "<circle clip-path=\"url(#clip492)\" cx=\"1507.32\" cy=\"1382.91\" r=\"14.4\" fill=\"#ff0000\" fill-rule=\"evenodd\" fill-opacity=\"1\" stroke=\"#000000\" stroke-opacity=\"1\" stroke-width=\"6.4\"/>\n",
       "<circle clip-path=\"url(#clip492)\" cx=\"1545.81\" cy=\"1074.17\" r=\"14.4\" fill=\"#ff0000\" fill-rule=\"evenodd\" fill-opacity=\"1\" stroke=\"#000000\" stroke-opacity=\"1\" stroke-width=\"6.4\"/>\n",
       "<circle clip-path=\"url(#clip492)\" cx=\"1584.29\" cy=\"1275.87\" r=\"14.4\" fill=\"#ff0000\" fill-rule=\"evenodd\" fill-opacity=\"1\" stroke=\"#000000\" stroke-opacity=\"1\" stroke-width=\"6.4\"/>\n",
       "<circle clip-path=\"url(#clip492)\" cx=\"1622.77\" cy=\"832.3\" r=\"14.4\" fill=\"#ff0000\" fill-rule=\"evenodd\" fill-opacity=\"1\" stroke=\"#000000\" stroke-opacity=\"1\" stroke-width=\"6.4\"/>\n",
       "<circle clip-path=\"url(#clip492)\" cx=\"1661.25\" cy=\"832.069\" r=\"14.4\" fill=\"#ff0000\" fill-rule=\"evenodd\" fill-opacity=\"1\" stroke=\"#000000\" stroke-opacity=\"1\" stroke-width=\"6.4\"/>\n",
       "<circle clip-path=\"url(#clip492)\" cx=\"1699.74\" cy=\"1183.96\" r=\"14.4\" fill=\"#ff0000\" fill-rule=\"evenodd\" fill-opacity=\"1\" stroke=\"#000000\" stroke-opacity=\"1\" stroke-width=\"6.4\"/>\n",
       "<circle clip-path=\"url(#clip492)\" cx=\"1738.22\" cy=\"1346.84\" r=\"14.4\" fill=\"#ff0000\" fill-rule=\"evenodd\" fill-opacity=\"1\" stroke=\"#000000\" stroke-opacity=\"1\" stroke-width=\"6.4\"/>\n",
       "<circle clip-path=\"url(#clip492)\" cx=\"1776.7\" cy=\"1252.47\" r=\"14.4\" fill=\"#ff0000\" fill-rule=\"evenodd\" fill-opacity=\"1\" stroke=\"#000000\" stroke-opacity=\"1\" stroke-width=\"6.4\"/>\n",
       "<circle clip-path=\"url(#clip492)\" cx=\"1815.18\" cy=\"1091.68\" r=\"14.4\" fill=\"#ff0000\" fill-rule=\"evenodd\" fill-opacity=\"1\" stroke=\"#000000\" stroke-opacity=\"1\" stroke-width=\"6.4\"/>\n",
       "<circle clip-path=\"url(#clip492)\" cx=\"1853.67\" cy=\"1325.85\" r=\"14.4\" fill=\"#ff0000\" fill-rule=\"evenodd\" fill-opacity=\"1\" stroke=\"#000000\" stroke-opacity=\"1\" stroke-width=\"6.4\"/>\n",
       "<circle clip-path=\"url(#clip492)\" cx=\"1892.15\" cy=\"1334.11\" r=\"14.4\" fill=\"#ff0000\" fill-rule=\"evenodd\" fill-opacity=\"1\" stroke=\"#000000\" stroke-opacity=\"1\" stroke-width=\"6.4\"/>\n",
       "<circle clip-path=\"url(#clip492)\" cx=\"1930.63\" cy=\"1265.96\" r=\"14.4\" fill=\"#ff0000\" fill-rule=\"evenodd\" fill-opacity=\"1\" stroke=\"#000000\" stroke-opacity=\"1\" stroke-width=\"6.4\"/>\n",
       "<circle clip-path=\"url(#clip492)\" cx=\"1969.11\" cy=\"838.791\" r=\"14.4\" fill=\"#ff0000\" fill-rule=\"evenodd\" fill-opacity=\"1\" stroke=\"#000000\" stroke-opacity=\"1\" stroke-width=\"6.4\"/>\n",
       "<circle clip-path=\"url(#clip492)\" cx=\"2007.6\" cy=\"1007.1\" r=\"14.4\" fill=\"#ff0000\" fill-rule=\"evenodd\" fill-opacity=\"1\" stroke=\"#000000\" stroke-opacity=\"1\" stroke-width=\"6.4\"/>\n",
       "<circle clip-path=\"url(#clip492)\" cx=\"2046.08\" cy=\"1112.04\" r=\"14.4\" fill=\"#ff0000\" fill-rule=\"evenodd\" fill-opacity=\"1\" stroke=\"#000000\" stroke-opacity=\"1\" stroke-width=\"6.4\"/>\n",
       "<circle clip-path=\"url(#clip492)\" cx=\"2084.56\" cy=\"1085.18\" r=\"14.4\" fill=\"#ff0000\" fill-rule=\"evenodd\" fill-opacity=\"1\" stroke=\"#000000\" stroke-opacity=\"1\" stroke-width=\"6.4\"/>\n",
       "<circle clip-path=\"url(#clip492)\" cx=\"2123.04\" cy=\"1154.73\" r=\"14.4\" fill=\"#ff0000\" fill-rule=\"evenodd\" fill-opacity=\"1\" stroke=\"#000000\" stroke-opacity=\"1\" stroke-width=\"6.4\"/>\n",
       "<circle clip-path=\"url(#clip492)\" cx=\"2161.53\" cy=\"1048.39\" r=\"14.4\" fill=\"#ff0000\" fill-rule=\"evenodd\" fill-opacity=\"1\" stroke=\"#000000\" stroke-opacity=\"1\" stroke-width=\"6.4\"/>\n",
       "<circle clip-path=\"url(#clip492)\" cx=\"2200.01\" cy=\"1002.43\" r=\"14.4\" fill=\"#ff0000\" fill-rule=\"evenodd\" fill-opacity=\"1\" stroke=\"#000000\" stroke-opacity=\"1\" stroke-width=\"6.4\"/>\n",
       "<circle clip-path=\"url(#clip492)\" cx=\"2238.49\" cy=\"1171.15\" r=\"14.4\" fill=\"#ff0000\" fill-rule=\"evenodd\" fill-opacity=\"1\" stroke=\"#000000\" stroke-opacity=\"1\" stroke-width=\"6.4\"/>\n",
       "<circle clip-path=\"url(#clip492)\" cx=\"2276.98\" cy=\"1078.12\" r=\"14.4\" fill=\"#ff0000\" fill-rule=\"evenodd\" fill-opacity=\"1\" stroke=\"#000000\" stroke-opacity=\"1\" stroke-width=\"6.4\"/>\n",
       "<path clip-path=\"url(#clip490)\" d=\"M1604.97 303.596 L2266.3 303.596 L2266.3 109.196 L1604.97 109.196  Z\" fill=\"#ffffff\" fill-rule=\"evenodd\" fill-opacity=\"1\"/>\n",
       "<polyline clip-path=\"url(#clip490)\" style=\"stroke:#000000; stroke-linecap:round; stroke-linejoin:round; stroke-width:4; stroke-opacity:1; fill:none\" points=\"1604.97,303.596 2266.3,303.596 2266.3,109.196 1604.97,109.196 1604.97,303.596 \"/>\n",
       "<circle clip-path=\"url(#clip490)\" cx=\"1699.24\" cy=\"173.996\" r=\"25.6\" fill=\"#0000ff\" fill-rule=\"evenodd\" fill-opacity=\"1\" stroke=\"#000000\" stroke-opacity=\"1\" stroke-width=\"5.68889\"/>\n",
       "<path clip-path=\"url(#clip490)\" d=\"M1823.55 178.061 L1823.55 180.665 L1799.07 180.665 Q1799.42 186.163 1802.37 189.056 Q1805.35 191.921 1810.65 191.921 Q1813.71 191.921 1816.58 191.169 Q1819.47 190.416 1822.31 188.912 L1822.31 193.946 Q1819.44 195.162 1816.43 195.798 Q1813.43 196.435 1810.33 196.435 Q1802.57 196.435 1798.03 191.921 Q1793.52 187.407 1793.52 179.71 Q1793.52 171.753 1797.8 167.095 Q1802.11 162.407 1809.4 162.407 Q1815.94 162.407 1819.73 166.632 Q1823.55 170.827 1823.55 178.061 M1818.23 176.499 Q1818.17 172.129 1815.77 169.525 Q1813.4 166.921 1809.46 166.921 Q1805.01 166.921 1802.31 169.438 Q1799.65 171.956 1799.25 176.528 L1818.23 176.499 Z\" fill=\"#000000\" fill-rule=\"nonzero\" fill-opacity=\"1\" /><path clip-path=\"url(#clip490)\" d=\"M1858.19 163.188 L1846.47 178.958 L1858.8 195.596 L1852.52 195.596 L1843.08 182.864 L1833.65 195.596 L1827.37 195.596 L1839.96 178.64 L1828.44 163.188 L1834.72 163.188 L1843.32 174.734 L1851.91 163.188 L1858.19 163.188 Z\" fill=\"#000000\" fill-rule=\"nonzero\" fill-opacity=\"1\" /><path clip-path=\"url(#clip490)\" d=\"M1881.05 179.305 Q1874.59 179.305 1872.11 180.781 Q1869.62 182.257 1869.62 185.816 Q1869.62 188.651 1871.47 190.33 Q1873.35 191.979 1876.56 191.979 Q1880.99 191.979 1883.65 188.854 Q1886.34 185.7 1886.34 180.492 L1886.34 179.305 L1881.05 179.305 M1891.67 177.106 L1891.67 195.596 L1886.34 195.596 L1886.34 190.677 Q1884.52 193.628 1881.8 195.046 Q1879.08 196.435 1875.14 196.435 Q1870.17 196.435 1867.22 193.657 Q1864.29 190.85 1864.29 186.163 Q1864.29 180.694 1867.94 177.916 Q1871.61 175.139 1878.88 175.139 L1886.34 175.139 L1886.34 174.618 Q1886.34 170.943 1883.91 168.947 Q1881.51 166.921 1877.14 166.921 Q1874.36 166.921 1871.73 167.587 Q1869.1 168.252 1866.67 169.583 L1866.67 164.664 Q1869.59 163.536 1872.34 162.986 Q1875.09 162.407 1877.69 162.407 Q1884.72 162.407 1888.19 166.053 Q1891.67 169.699 1891.67 177.106 Z\" fill=\"#000000\" fill-rule=\"nonzero\" fill-opacity=\"1\" /><path clip-path=\"url(#clip490)\" d=\"M1925.95 164.433 L1925.95 169.41 Q1923.7 168.165 1921.41 167.558 Q1919.15 166.921 1916.84 166.921 Q1911.66 166.921 1908.8 170.22 Q1905.93 173.489 1905.93 179.421 Q1905.93 185.353 1908.8 188.651 Q1911.66 191.921 1916.84 191.921 Q1919.15 191.921 1921.41 191.313 Q1923.7 190.677 1925.95 189.433 L1925.95 194.352 Q1923.73 195.393 1921.32 195.914 Q1918.95 196.435 1916.26 196.435 Q1908.94 196.435 1904.63 191.834 Q1900.32 187.233 1900.32 179.421 Q1900.32 171.493 1904.66 166.95 Q1909.03 162.407 1916.61 162.407 Q1919.07 162.407 1921.41 162.928 Q1923.75 163.42 1925.95 164.433 Z\" fill=\"#000000\" fill-rule=\"nonzero\" fill-opacity=\"1\" /><path clip-path=\"url(#clip490)\" d=\"M1940.48 153.987 L1940.48 163.188 L1951.45 163.188 L1951.45 167.326 L1940.48 167.326 L1940.48 184.919 Q1940.48 188.883 1941.55 190.011 Q1942.65 191.14 1945.98 191.14 L1951.45 191.14 L1951.45 195.596 L1945.98 195.596 Q1939.81 195.596 1937.47 193.31 Q1935.13 190.995 1935.13 184.919 L1935.13 167.326 L1931.22 167.326 L1931.22 163.188 L1935.13 163.188 L1935.13 153.987 L1940.48 153.987 Z\" fill=\"#000000\" fill-rule=\"nonzero\" fill-opacity=\"1\" /><circle clip-path=\"url(#clip490)\" cx=\"1699.24\" cy=\"238.796\" r=\"23.04\" fill=\"#ff0000\" fill-rule=\"evenodd\" fill-opacity=\"1\" stroke=\"#000000\" stroke-opacity=\"1\" stroke-width=\"10.24\"/>\n",
       "<path clip-path=\"url(#clip490)\" d=\"M1823.55 242.861 L1823.55 245.465 L1799.07 245.465 Q1799.42 250.963 1802.37 253.856 Q1805.35 256.721 1810.65 256.721 Q1813.71 256.721 1816.58 255.969 Q1819.47 255.216 1822.31 253.712 L1822.31 258.746 Q1819.44 259.962 1816.43 260.598 Q1813.43 261.235 1810.33 261.235 Q1802.57 261.235 1798.03 256.721 Q1793.52 252.207 1793.52 244.51 Q1793.52 236.553 1797.8 231.895 Q1802.11 227.207 1809.4 227.207 Q1815.94 227.207 1819.73 231.432 Q1823.55 235.627 1823.55 242.861 M1818.23 241.299 Q1818.17 236.929 1815.77 234.325 Q1813.4 231.721 1809.46 231.721 Q1805.01 231.721 1802.31 234.238 Q1799.65 236.756 1799.25 241.328 L1818.23 241.299 Z\" fill=\"#000000\" fill-rule=\"nonzero\" fill-opacity=\"1\" /><path clip-path=\"url(#clip490)\" d=\"M1857.52 234.21 Q1859.52 230.622 1862.3 228.914 Q1865.07 227.207 1868.84 227.207 Q1873.9 227.207 1876.65 230.766 Q1879.4 234.296 1879.4 240.836 L1879.4 260.396 L1874.04 260.396 L1874.04 241.009 Q1874.04 236.351 1872.39 234.094 Q1870.75 231.837 1867.36 231.837 Q1863.22 231.837 1860.82 234.586 Q1858.42 237.334 1858.42 242.08 L1858.42 260.396 L1853.07 260.396 L1853.07 241.009 Q1853.07 236.322 1851.42 234.094 Q1849.77 231.837 1846.32 231.837 Q1842.24 231.837 1839.84 234.615 Q1837.44 237.363 1837.44 242.08 L1837.44 260.396 L1832.09 260.396 L1832.09 227.988 L1837.44 227.988 L1837.44 233.023 Q1839.26 230.043 1841.81 228.625 Q1844.36 227.207 1847.86 227.207 Q1851.39 227.207 1853.85 229.001 Q1856.34 230.795 1857.52 234.21 Z\" fill=\"#000000\" fill-rule=\"nonzero\" fill-opacity=\"1\" /><path clip-path=\"url(#clip490)\" d=\"M1895.17 255.535 L1895.17 272.722 L1889.81 272.722 L1889.81 227.988 L1895.17 227.988 L1895.17 232.907 Q1896.84 230.014 1899.39 228.625 Q1901.97 227.207 1905.53 227.207 Q1911.43 227.207 1915.1 231.895 Q1918.81 236.582 1918.81 244.221 Q1918.81 251.86 1915.1 256.547 Q1911.43 261.235 1905.53 261.235 Q1901.97 261.235 1899.39 259.846 Q1896.84 258.428 1895.17 255.535 M1913.28 244.221 Q1913.28 238.347 1910.85 235.02 Q1908.45 231.663 1904.22 231.663 Q1900 231.663 1897.57 235.02 Q1895.17 238.347 1895.17 244.221 Q1895.17 250.095 1897.57 253.451 Q1900 256.779 1904.22 256.779 Q1908.45 256.779 1910.85 253.451 Q1913.28 250.095 1913.28 244.221 Z\" fill=\"#000000\" fill-rule=\"nonzero\" fill-opacity=\"1\" /><path clip-path=\"url(#clip490)\" d=\"M1927.63 227.988 L1932.96 227.988 L1932.96 260.396 L1927.63 260.396 L1927.63 227.988 M1927.63 215.373 L1932.96 215.373 L1932.96 222.115 L1927.63 222.115 L1927.63 215.373 Z\" fill=\"#000000\" fill-rule=\"nonzero\" fill-opacity=\"1\" /><path clip-path=\"url(#clip490)\" d=\"M1962.87 232.965 Q1961.98 232.444 1960.91 232.213 Q1959.87 231.953 1958.59 231.953 Q1954.08 231.953 1951.65 234.904 Q1949.25 237.826 1949.25 243.324 L1949.25 260.396 L1943.89 260.396 L1943.89 227.988 L1949.25 227.988 L1949.25 233.023 Q1950.92 230.072 1953.62 228.654 Q1956.31 227.207 1960.15 227.207 Q1960.7 227.207 1961.37 227.294 Q1962.04 227.352 1962.85 227.497 L1962.87 232.965 Z\" fill=\"#000000\" fill-rule=\"nonzero\" fill-opacity=\"1\" /><path clip-path=\"url(#clip490)\" d=\"M1968.46 227.988 L1973.78 227.988 L1973.78 260.396 L1968.46 260.396 L1968.46 227.988 M1968.46 215.373 L1973.78 215.373 L1973.78 222.115 L1968.46 222.115 L1968.46 215.373 Z\" fill=\"#000000\" fill-rule=\"nonzero\" fill-opacity=\"1\" /><path clip-path=\"url(#clip490)\" d=\"M2008.24 229.233 L2008.24 234.21 Q2005.99 232.965 2003.7 232.358 Q2001.44 231.721 1999.13 231.721 Q1993.95 231.721 1991.09 235.02 Q1988.22 238.289 1988.22 244.221 Q1988.22 250.153 1991.09 253.451 Q1993.95 256.721 1999.13 256.721 Q2001.44 256.721 2003.7 256.113 Q2005.99 255.477 2008.24 254.233 L2008.24 259.152 Q2006.02 260.193 2003.62 260.714 Q2001.24 261.235 1998.55 261.235 Q1991.23 261.235 1986.92 256.634 Q1982.61 252.033 1982.61 244.221 Q1982.61 236.293 1986.95 231.75 Q1991.32 227.207 1998.9 227.207 Q2001.36 227.207 2003.7 227.728 Q2006.05 228.22 2008.24 229.233 Z\" fill=\"#000000\" fill-rule=\"nonzero\" fill-opacity=\"1\" /><path clip-path=\"url(#clip490)\" d=\"M2032.23 244.105 Q2025.78 244.105 2023.29 245.581 Q2020.8 247.057 2020.8 250.616 Q2020.8 253.451 2022.65 255.13 Q2024.54 256.779 2027.75 256.779 Q2032.17 256.779 2034.84 253.654 Q2037.53 250.5 2037.53 245.292 L2037.53 244.105 L2032.23 244.105 M2042.85 241.906 L2042.85 260.396 L2037.53 260.396 L2037.53 255.477 Q2035.7 258.428 2032.98 259.846 Q2030.26 261.235 2026.33 261.235 Q2021.35 261.235 2018.4 258.457 Q2015.48 255.65 2015.48 250.963 Q2015.48 245.494 2019.12 242.716 Q2022.8 239.939 2030.06 239.939 L2037.53 239.939 L2037.53 239.418 Q2037.53 235.743 2035.1 233.747 Q2032.69 231.721 2028.33 231.721 Q2025.55 231.721 2022.91 232.387 Q2020.28 233.052 2017.85 234.383 L2017.85 229.464 Q2020.77 228.336 2023.52 227.786 Q2026.27 227.207 2028.88 227.207 Q2035.91 227.207 2039.38 230.853 Q2042.85 234.499 2042.85 241.906 Z\" fill=\"#000000\" fill-rule=\"nonzero\" fill-opacity=\"1\" /><path clip-path=\"url(#clip490)\" d=\"M2053.82 215.373 L2059.14 215.373 L2059.14 260.396 L2053.82 260.396 L2053.82 215.373 Z\" fill=\"#000000\" fill-rule=\"nonzero\" fill-opacity=\"1\" /><path clip-path=\"url(#clip490)\" d=\"M2089.35 217.196 L2095.19 217.196 L2095.19 234.904 L2116.43 234.904 L2116.43 217.196 L2122.28 217.196 L2122.28 260.396 L2116.43 260.396 L2116.43 239.823 L2095.19 239.823 L2095.19 260.396 L2089.35 260.396 L2089.35 217.196 Z\" fill=\"#000000\" fill-rule=\"nonzero\" fill-opacity=\"1\" /><path clip-path=\"url(#clip490)\" d=\"M2133.91 217.196 L2139.75 217.196 L2139.75 235.454 L2159.14 217.196 L2166.66 217.196 L2145.22 237.334 L2168.2 260.396 L2160.5 260.396 L2139.75 239.591 L2139.75 260.396 L2133.91 260.396 L2133.91 217.196 Z\" fill=\"#000000\" fill-rule=\"nonzero\" fill-opacity=\"1\" /><path clip-path=\"url(#clip490)\" d=\"M2178.61 221.999 L2178.61 238.231 L2185.96 238.231 Q2190.04 238.231 2192.27 236.119 Q2194.5 234.007 2194.5 230.101 Q2194.5 226.223 2192.27 224.111 Q2190.04 221.999 2185.96 221.999 L2178.61 221.999 M2172.77 217.196 L2185.96 217.196 Q2193.23 217.196 2196.93 220.494 Q2200.66 223.764 2200.66 230.101 Q2200.66 236.495 2196.93 239.765 Q2193.23 243.035 2185.96 243.035 L2178.61 243.035 L2178.61 260.396 L2172.77 260.396 L2172.77 217.196 Z\" fill=\"#000000\" fill-rule=\"nonzero\" fill-opacity=\"1\" /><path clip-path=\"url(#clip490)\" d=\"M2219.64 260.396 L2203.15 217.196 L2209.26 217.196 L2222.94 253.567 L2236.66 217.196 L2242.73 217.196 L2226.27 260.396 L2219.64 260.396 Z\" fill=\"#000000\" fill-rule=\"nonzero\" fill-opacity=\"1\" /></svg>\n"
      ],
      "text/html": [
       "<?xml version=\"1.0\" encoding=\"utf-8\"?>\n",
       "<svg xmlns=\"http://www.w3.org/2000/svg\" xmlns:xlink=\"http://www.w3.org/1999/xlink\" width=\"600\" height=\"400\" viewBox=\"0 0 2400 1600\">\n",
       "<defs>\n",
       "  <clipPath id=\"clip540\">\n",
       "    <rect x=\"0\" y=\"0\" width=\"2400\" height=\"1600\"/>\n",
       "  </clipPath>\n",
       "</defs>\n",
       "<path clip-path=\"url(#clip540)\" d=\"M0 1600 L2400 1600 L2400 0 L0 0  Z\" fill=\"#ffffff\" fill-rule=\"evenodd\" fill-opacity=\"1\"/>\n",
       "<defs>\n",
       "  <clipPath id=\"clip541\">\n",
       "    <rect x=\"480\" y=\"0\" width=\"1681\" height=\"1600\"/>\n",
       "  </clipPath>\n",
       "</defs>\n",
       "<path clip-path=\"url(#clip540)\" d=\"M215.85 1449.1 L2337.01 1449.1 L2337.01 62.9921 L215.85 62.9921  Z\" fill=\"#ffffff\" fill-rule=\"evenodd\" fill-opacity=\"1\"/>\n",
       "<defs>\n",
       "  <clipPath id=\"clip542\">\n",
       "    <rect x=\"215\" y=\"62\" width=\"2122\" height=\"1387\"/>\n",
       "  </clipPath>\n",
       "</defs>\n",
       "<polyline clip-path=\"url(#clip542)\" style=\"stroke:#000000; stroke-linecap:round; stroke-linejoin:round; stroke-width:2; stroke-opacity:0.1; fill:none\" points=\"237.4,1449.1 237.4,62.9921 \"/>\n",
       "<polyline clip-path=\"url(#clip542)\" style=\"stroke:#000000; stroke-linecap:round; stroke-linejoin:round; stroke-width:2; stroke-opacity:0.1; fill:none\" points=\"622.226,1449.1 622.226,62.9921 \"/>\n",
       "<polyline clip-path=\"url(#clip542)\" style=\"stroke:#000000; stroke-linecap:round; stroke-linejoin:round; stroke-width:2; stroke-opacity:0.1; fill:none\" points=\"1007.05,1449.1 1007.05,62.9921 \"/>\n",
       "<polyline clip-path=\"url(#clip542)\" style=\"stroke:#000000; stroke-linecap:round; stroke-linejoin:round; stroke-width:2; stroke-opacity:0.1; fill:none\" points=\"1391.88,1449.1 1391.88,62.9921 \"/>\n",
       "<polyline clip-path=\"url(#clip542)\" style=\"stroke:#000000; stroke-linecap:round; stroke-linejoin:round; stroke-width:2; stroke-opacity:0.1; fill:none\" points=\"1776.7,1449.1 1776.7,62.9921 \"/>\n",
       "<polyline clip-path=\"url(#clip542)\" style=\"stroke:#000000; stroke-linecap:round; stroke-linejoin:round; stroke-width:2; stroke-opacity:0.1; fill:none\" points=\"2161.53,1449.1 2161.53,62.9921 \"/>\n",
       "<polyline clip-path=\"url(#clip540)\" style=\"stroke:#000000; stroke-linecap:round; stroke-linejoin:round; stroke-width:4; stroke-opacity:1; fill:none\" points=\"215.85,1449.1 2337.01,1449.1 \"/>\n",
       "<polyline clip-path=\"url(#clip540)\" style=\"stroke:#000000; stroke-linecap:round; stroke-linejoin:round; stroke-width:4; stroke-opacity:1; fill:none\" points=\"215.85,62.9921 2337.01,62.9921 \"/>\n",
       "<polyline clip-path=\"url(#clip540)\" style=\"stroke:#000000; stroke-linecap:round; stroke-linejoin:round; stroke-width:4; stroke-opacity:1; fill:none\" points=\"237.4,1449.1 237.4,1430.2 \"/>\n",
       "<polyline clip-path=\"url(#clip540)\" style=\"stroke:#000000; stroke-linecap:round; stroke-linejoin:round; stroke-width:4; stroke-opacity:1; fill:none\" points=\"622.226,1449.1 622.226,1430.2 \"/>\n",
       "<polyline clip-path=\"url(#clip540)\" style=\"stroke:#000000; stroke-linecap:round; stroke-linejoin:round; stroke-width:4; stroke-opacity:1; fill:none\" points=\"1007.05,1449.1 1007.05,1430.2 \"/>\n",
       "<polyline clip-path=\"url(#clip540)\" style=\"stroke:#000000; stroke-linecap:round; stroke-linejoin:round; stroke-width:4; stroke-opacity:1; fill:none\" points=\"1391.88,1449.1 1391.88,1430.2 \"/>\n",
       "<polyline clip-path=\"url(#clip540)\" style=\"stroke:#000000; stroke-linecap:round; stroke-linejoin:round; stroke-width:4; stroke-opacity:1; fill:none\" points=\"1776.7,1449.1 1776.7,1430.2 \"/>\n",
       "<polyline clip-path=\"url(#clip540)\" style=\"stroke:#000000; stroke-linecap:round; stroke-linejoin:round; stroke-width:4; stroke-opacity:1; fill:none\" points=\"2161.53,1449.1 2161.53,1430.2 \"/>\n",
       "<path clip-path=\"url(#clip540)\" d=\"M237.4 1487.34 Q231.532 1487.34 228.561 1493.14 Q225.627 1498.89 225.627 1510.48 Q225.627 1522.02 228.561 1527.82 Q231.532 1533.57 237.4 1533.57 Q243.306 1533.57 246.24 1527.82 Q249.212 1522.02 249.212 1510.48 Q249.212 1498.89 246.24 1493.14 Q243.306 1487.34 237.4 1487.34 M237.4 1481.32 Q246.842 1481.32 251.807 1488.81 Q256.81 1496.26 256.81 1510.48 Q256.81 1524.66 251.807 1532.14 Q246.842 1539.59 237.4 1539.59 Q227.959 1539.59 222.956 1532.14 Q217.991 1524.66 217.991 1510.48 Q217.991 1496.26 222.956 1488.81 Q227.959 1481.32 237.4 1481.32 Z\" fill=\"#000000\" fill-rule=\"nonzero\" fill-opacity=\"1\" /><path clip-path=\"url(#clip540)\" d=\"M581.093 1532.11 L593.506 1532.11 L593.506 1489.26 L580.002 1491.97 L580.002 1485.05 L593.431 1482.34 L601.029 1482.34 L601.029 1532.11 L613.443 1532.11 L613.443 1538.5 L581.093 1538.5 L581.093 1532.11 Z\" fill=\"#000000\" fill-rule=\"nonzero\" fill-opacity=\"1\" /><path clip-path=\"url(#clip540)\" d=\"M645.04 1487.34 Q639.172 1487.34 636.2 1493.14 Q633.266 1498.89 633.266 1510.48 Q633.266 1522.02 636.2 1527.82 Q639.172 1533.57 645.04 1533.57 Q650.945 1533.57 653.879 1527.82 Q656.851 1522.02 656.851 1510.48 Q656.851 1498.89 653.879 1493.14 Q650.945 1487.34 645.04 1487.34 M645.04 1481.32 Q654.481 1481.32 659.446 1488.81 Q664.449 1496.26 664.449 1510.48 Q664.449 1524.66 659.446 1532.14 Q654.481 1539.59 645.04 1539.59 Q635.598 1539.59 630.595 1532.14 Q625.63 1524.66 625.63 1510.48 Q625.63 1496.26 630.595 1488.81 Q635.598 1481.32 645.04 1481.32 Z\" fill=\"#000000\" fill-rule=\"nonzero\" fill-opacity=\"1\" /><path clip-path=\"url(#clip540)\" d=\"M972.558 1532.11 L999.077 1532.11 L999.077 1538.5 L963.417 1538.5 L963.417 1532.11 Q967.743 1527.63 975.191 1520.11 Q982.676 1512.55 984.595 1510.36 Q988.243 1506.26 989.673 1503.44 Q991.14 1500.58 991.14 1497.84 Q991.14 1493.36 987.98 1490.54 Q984.858 1487.72 979.818 1487.72 Q976.244 1487.72 972.257 1488.96 Q968.307 1490.2 963.793 1492.72 L963.793 1485.05 Q968.382 1483.2 972.37 1482.26 Q976.357 1481.32 979.667 1481.32 Q988.394 1481.32 993.585 1485.69 Q998.776 1490.05 998.776 1497.35 Q998.776 1500.81 997.459 1503.93 Q996.18 1507.02 992.757 1511.23 Q991.817 1512.32 986.776 1517.55 Q981.736 1522.74 972.558 1532.11 Z\" fill=\"#000000\" fill-rule=\"nonzero\" fill-opacity=\"1\" /><path clip-path=\"url(#clip540)\" d=\"M1031.28 1487.34 Q1025.41 1487.34 1022.44 1493.14 Q1019.5 1498.89 1019.5 1510.48 Q1019.5 1522.02 1022.44 1527.82 Q1025.41 1533.57 1031.28 1533.57 Q1037.18 1533.57 1040.12 1527.82 Q1043.09 1522.02 1043.09 1510.48 Q1043.09 1498.89 1040.12 1493.14 Q1037.18 1487.34 1031.28 1487.34 M1031.28 1481.32 Q1040.72 1481.32 1045.68 1488.81 Q1050.69 1496.26 1050.69 1510.48 Q1050.69 1524.66 1045.68 1532.14 Q1040.72 1539.59 1031.28 1539.59 Q1021.83 1539.59 1016.83 1532.14 Q1011.87 1524.66 1011.87 1510.48 Q1011.87 1496.26 1016.83 1488.81 Q1021.83 1481.32 1031.28 1481.32 Z\" fill=\"#000000\" fill-rule=\"nonzero\" fill-opacity=\"1\" /><path clip-path=\"url(#clip540)\" d=\"M1373.75 1508.22 Q1379.2 1509.39 1382.25 1513.07 Q1385.33 1516.76 1385.33 1522.17 Q1385.33 1530.49 1379.61 1535.04 Q1373.9 1539.59 1363.36 1539.59 Q1359.83 1539.59 1356.07 1538.88 Q1352.34 1538.2 1348.36 1536.81 L1348.36 1529.47 Q1351.52 1531.32 1355.28 1532.26 Q1359.04 1533.2 1363.14 1533.2 Q1370.29 1533.2 1374.01 1530.37 Q1377.77 1527.55 1377.77 1522.17 Q1377.77 1517.21 1374.27 1514.43 Q1370.81 1511.6 1364.61 1511.6 L1358.06 1511.6 L1358.06 1505.36 L1364.91 1505.36 Q1370.51 1505.36 1373.48 1503.14 Q1376.45 1500.88 1376.45 1496.67 Q1376.45 1492.35 1373.37 1490.05 Q1370.32 1487.72 1364.61 1487.72 Q1361.48 1487.72 1357.91 1488.4 Q1354.34 1489.07 1350.05 1490.5 L1350.05 1483.73 Q1354.37 1482.53 1358.14 1481.93 Q1361.93 1481.32 1365.28 1481.32 Q1373.93 1481.32 1378.97 1485.27 Q1384.01 1489.19 1384.01 1495.88 Q1384.01 1500.55 1381.34 1503.78 Q1378.67 1506.98 1373.75 1508.22 Z\" fill=\"#000000\" fill-rule=\"nonzero\" fill-opacity=\"1\" /><path clip-path=\"url(#clip540)\" d=\"M1415.99 1487.34 Q1410.12 1487.34 1407.15 1493.14 Q1404.21 1498.89 1404.21 1510.48 Q1404.21 1522.02 1407.15 1527.82 Q1410.12 1533.57 1415.99 1533.57 Q1421.89 1533.57 1424.83 1527.82 Q1427.8 1522.02 1427.8 1510.48 Q1427.8 1498.89 1424.83 1493.14 Q1421.89 1487.34 1415.99 1487.34 M1415.99 1481.32 Q1425.43 1481.32 1430.39 1488.81 Q1435.4 1496.26 1435.4 1510.48 Q1435.4 1524.66 1430.39 1532.14 Q1425.43 1539.59 1415.99 1539.59 Q1406.55 1539.59 1401.54 1532.14 Q1396.58 1524.66 1396.58 1510.48 Q1396.58 1496.26 1401.54 1488.81 Q1406.55 1481.32 1415.99 1481.32 Z\" fill=\"#000000\" fill-rule=\"nonzero\" fill-opacity=\"1\" /><path clip-path=\"url(#clip540)\" d=\"M1757.48 1488.96 L1738.3 1518.94 L1757.48 1518.94 L1757.48 1488.96 M1755.49 1482.34 L1765.04 1482.34 L1765.04 1518.94 L1773.05 1518.94 L1773.05 1525.26 L1765.04 1525.26 L1765.04 1538.5 L1757.48 1538.5 L1757.48 1525.26 L1732.13 1525.26 L1732.13 1517.92 L1755.49 1482.34 Z\" fill=\"#000000\" fill-rule=\"nonzero\" fill-opacity=\"1\" /><path clip-path=\"url(#clip540)\" d=\"M1801.87 1487.34 Q1796 1487.34 1793.03 1493.14 Q1790.09 1498.89 1790.09 1510.48 Q1790.09 1522.02 1793.03 1527.82 Q1796 1533.57 1801.87 1533.57 Q1807.77 1533.57 1810.71 1527.82 Q1813.68 1522.02 1813.68 1510.48 Q1813.68 1498.89 1810.71 1493.14 Q1807.77 1487.34 1801.87 1487.34 M1801.87 1481.32 Q1811.31 1481.32 1816.27 1488.81 Q1821.28 1496.26 1821.28 1510.48 Q1821.28 1524.66 1816.27 1532.14 Q1811.31 1539.59 1801.87 1539.59 Q1792.43 1539.59 1787.42 1532.14 Q1782.46 1524.66 1782.46 1510.48 Q1782.46 1496.26 1787.42 1488.81 Q1792.43 1481.32 1801.87 1481.32 Z\" fill=\"#000000\" fill-rule=\"nonzero\" fill-opacity=\"1\" /><path clip-path=\"url(#clip540)\" d=\"M2120.41 1482.34 L2150.24 1482.34 L2150.24 1488.73 L2127.37 1488.73 L2127.37 1502.5 Q2129.03 1501.94 2130.68 1501.67 Q2132.34 1501.37 2133.99 1501.37 Q2143.4 1501.37 2148.89 1506.53 Q2154.38 1511.68 2154.38 1520.48 Q2154.38 1529.55 2148.74 1534.59 Q2143.1 1539.59 2132.83 1539.59 Q2129.29 1539.59 2125.6 1538.99 Q2121.96 1538.39 2118.04 1537.18 L2118.04 1529.55 Q2121.43 1531.39 2125.04 1532.29 Q2128.65 1533.2 2132.68 1533.2 Q2139.18 1533.2 2142.98 1529.77 Q2146.78 1526.35 2146.78 1520.48 Q2146.78 1514.61 2142.98 1511.19 Q2139.18 1507.77 2132.68 1507.77 Q2129.63 1507.77 2126.58 1508.45 Q2123.57 1509.12 2120.41 1510.55 L2120.41 1482.34 Z\" fill=\"#000000\" fill-rule=\"nonzero\" fill-opacity=\"1\" /><path clip-path=\"url(#clip540)\" d=\"M2185.6 1487.34 Q2179.73 1487.34 2176.76 1493.14 Q2173.83 1498.89 2173.83 1510.48 Q2173.83 1522.02 2176.76 1527.82 Q2179.73 1533.57 2185.6 1533.57 Q2191.51 1533.57 2194.44 1527.82 Q2197.41 1522.02 2197.41 1510.48 Q2197.41 1498.89 2194.44 1493.14 Q2191.51 1487.34 2185.6 1487.34 M2185.6 1481.32 Q2195.04 1481.32 2200.01 1488.81 Q2205.01 1496.26 2205.01 1510.48 Q2205.01 1524.66 2200.01 1532.14 Q2195.04 1539.59 2185.6 1539.59 Q2176.16 1539.59 2171.16 1532.14 Q2166.19 1524.66 2166.19 1510.48 Q2166.19 1496.26 2171.16 1488.81 Q2176.16 1481.32 2185.6 1481.32 Z\" fill=\"#000000\" fill-rule=\"nonzero\" fill-opacity=\"1\" /><polyline clip-path=\"url(#clip542)\" style=\"stroke:#000000; stroke-linecap:round; stroke-linejoin:round; stroke-width:2; stroke-opacity:0.1; fill:none\" points=\"215.85,1137.65 2337.01,1137.65 \"/>\n",
       "<polyline clip-path=\"url(#clip542)\" style=\"stroke:#000000; stroke-linecap:round; stroke-linejoin:round; stroke-width:2; stroke-opacity:0.1; fill:none\" points=\"215.85,792.508 2337.01,792.508 \"/>\n",
       "<polyline clip-path=\"url(#clip542)\" style=\"stroke:#000000; stroke-linecap:round; stroke-linejoin:round; stroke-width:2; stroke-opacity:0.1; fill:none\" points=\"215.85,447.365 2337.01,447.365 \"/>\n",
       "<polyline clip-path=\"url(#clip542)\" style=\"stroke:#000000; stroke-linecap:round; stroke-linejoin:round; stroke-width:2; stroke-opacity:0.1; fill:none\" points=\"215.85,102.222 2337.01,102.222 \"/>\n",
       "<polyline clip-path=\"url(#clip540)\" style=\"stroke:#000000; stroke-linecap:round; stroke-linejoin:round; stroke-width:4; stroke-opacity:1; fill:none\" points=\"215.85,1449.1 215.85,62.9921 \"/>\n",
       "<polyline clip-path=\"url(#clip540)\" style=\"stroke:#000000; stroke-linecap:round; stroke-linejoin:round; stroke-width:4; stroke-opacity:1; fill:none\" points=\"2337.01,1449.1 2337.01,62.9921 \"/>\n",
       "<polyline clip-path=\"url(#clip540)\" style=\"stroke:#000000; stroke-linecap:round; stroke-linejoin:round; stroke-width:4; stroke-opacity:1; fill:none\" points=\"215.85,1137.65 234.748,1137.65 \"/>\n",
       "<polyline clip-path=\"url(#clip540)\" style=\"stroke:#000000; stroke-linecap:round; stroke-linejoin:round; stroke-width:4; stroke-opacity:1; fill:none\" points=\"215.85,792.508 234.748,792.508 \"/>\n",
       "<polyline clip-path=\"url(#clip540)\" style=\"stroke:#000000; stroke-linecap:round; stroke-linejoin:round; stroke-width:4; stroke-opacity:1; fill:none\" points=\"215.85,447.365 234.748,447.365 \"/>\n",
       "<polyline clip-path=\"url(#clip540)\" style=\"stroke:#000000; stroke-linecap:round; stroke-linejoin:round; stroke-width:4; stroke-opacity:1; fill:none\" points=\"215.85,102.222 234.748,102.222 \"/>\n",
       "<path clip-path=\"url(#clip540)\" d=\"M86.1498 1114.57 Q80.2818 1114.57 77.3101 1120.37 Q74.3761 1126.12 74.3761 1137.71 Q74.3761 1149.26 77.3101 1155.05 Q80.2818 1160.8 86.1498 1160.8 Q92.0554 1160.8 94.9894 1155.05 Q97.9611 1149.26 97.9611 1137.71 Q97.9611 1126.12 94.9894 1120.37 Q92.0554 1114.57 86.1498 1114.57 M86.1498 1108.56 Q95.5913 1108.56 100.557 1116.04 Q105.559 1123.49 105.559 1137.71 Q105.559 1151.89 100.557 1159.37 Q95.5913 1166.82 86.1498 1166.82 Q76.7083 1166.82 71.7054 1159.37 Q66.7402 1151.89 66.7402 1137.71 Q66.7402 1123.49 71.7054 1116.04 Q76.7083 1108.56 86.1498 1108.56 Z\" fill=\"#000000\" fill-rule=\"nonzero\" fill-opacity=\"1\" /><path clip-path=\"url(#clip540)\" d=\"M118.913 1156.18 L126.85 1156.18 L126.85 1165.73 L118.913 1165.73 L118.913 1156.18 Z\" fill=\"#000000\" fill-rule=\"nonzero\" fill-opacity=\"1\" /><path clip-path=\"url(#clip540)\" d=\"M164.277 1116.19 L145.093 1146.17 L164.277 1146.17 L164.277 1116.19 M162.284 1109.57 L171.838 1109.57 L171.838 1146.17 L179.85 1146.17 L179.85 1152.49 L171.838 1152.49 L171.838 1165.73 L164.277 1165.73 L164.277 1152.49 L138.924 1152.49 L138.924 1145.16 L162.284 1109.57 Z\" fill=\"#000000\" fill-rule=\"nonzero\" fill-opacity=\"1\" /><path clip-path=\"url(#clip540)\" d=\"M86.6764 769.431 Q80.8084 769.431 77.8367 775.223 Q74.9027 780.979 74.9027 792.564 Q74.9027 804.112 77.8367 809.905 Q80.8084 815.66 86.6764 815.66 Q92.582 815.66 95.516 809.905 Q98.4877 804.112 98.4877 792.564 Q98.4877 780.979 95.516 775.223 Q92.582 769.431 86.6764 769.431 M86.6764 763.412 Q96.1179 763.412 101.083 770.898 Q106.086 778.345 106.086 792.564 Q106.086 806.745 101.083 814.231 Q96.1179 821.679 86.6764 821.679 Q77.2349 821.679 72.232 814.231 Q67.2668 806.745 67.2668 792.564 Q67.2668 778.345 72.232 770.898 Q77.2349 763.412 86.6764 763.412 Z\" fill=\"#000000\" fill-rule=\"nonzero\" fill-opacity=\"1\" /><path clip-path=\"url(#clip540)\" d=\"M119.44 811.033 L127.376 811.033 L127.376 820.588 L119.44 820.588 L119.44 811.033 Z\" fill=\"#000000\" fill-rule=\"nonzero\" fill-opacity=\"1\" /><path clip-path=\"url(#clip540)\" d=\"M161.118 789.48 Q156.002 789.48 152.993 792.978 Q150.021 796.476 150.021 802.57 Q150.021 808.626 152.993 812.162 Q156.002 815.66 161.118 815.66 Q166.233 815.66 169.205 812.162 Q172.214 808.626 172.214 802.57 Q172.214 796.476 169.205 792.978 Q166.233 789.48 161.118 789.48 M176.201 765.669 L176.201 772.59 Q173.343 771.236 170.409 770.521 Q167.512 769.807 164.653 769.807 Q157.13 769.807 153.143 774.885 Q149.193 779.963 148.629 790.232 Q150.849 786.959 154.196 785.229 Q157.544 783.461 161.569 783.461 Q170.032 783.461 174.922 788.614 Q179.85 793.73 179.85 802.57 Q179.85 811.221 174.734 816.45 Q169.619 821.679 161.118 821.679 Q151.375 821.679 146.222 814.231 Q141.068 806.745 141.068 792.564 Q141.068 779.248 147.388 771.349 Q153.707 763.412 164.352 763.412 Q167.211 763.412 170.108 763.976 Q173.042 764.541 176.201 765.669 Z\" fill=\"#000000\" fill-rule=\"nonzero\" fill-opacity=\"1\" /><path clip-path=\"url(#clip540)\" d=\"M87.0902 424.288 Q81.2221 424.288 78.2505 430.08 Q75.3165 435.835 75.3165 447.421 Q75.3165 458.969 78.2505 464.762 Q81.2221 470.517 87.0902 470.517 Q92.9958 470.517 95.9298 464.762 Q98.9014 458.969 98.9014 447.421 Q98.9014 435.835 95.9298 430.08 Q92.9958 424.288 87.0902 424.288 M87.0902 418.269 Q96.5317 418.269 101.497 425.755 Q106.5 433.202 106.5 447.421 Q106.5 461.602 101.497 469.088 Q96.5317 476.535 87.0902 476.535 Q77.6487 476.535 72.6458 469.088 Q67.6805 461.602 67.6805 447.421 Q67.6805 433.202 72.6458 425.755 Q77.6487 418.269 87.0902 418.269 Z\" fill=\"#000000\" fill-rule=\"nonzero\" fill-opacity=\"1\" /><path clip-path=\"url(#clip540)\" d=\"M119.853 465.89 L127.79 465.89 L127.79 475.445 L119.853 475.445 L119.853 465.89 Z\" fill=\"#000000\" fill-rule=\"nonzero\" fill-opacity=\"1\" /><path clip-path=\"url(#clip540)\" d=\"M160.591 448.775 Q155.174 448.775 152.052 451.672 Q148.968 454.568 148.968 459.646 Q148.968 464.724 152.052 467.621 Q155.174 470.517 160.591 470.517 Q166.008 470.517 169.13 467.621 Q172.252 464.687 172.252 459.646 Q172.252 454.568 169.13 451.672 Q166.045 448.775 160.591 448.775 M152.993 445.54 Q148.103 444.337 145.357 440.989 Q142.648 437.641 142.648 432.826 Q142.648 426.093 147.425 422.181 Q152.24 418.269 160.591 418.269 Q168.979 418.269 173.756 422.181 Q178.534 426.093 178.534 432.826 Q178.534 437.641 175.788 440.989 Q173.079 444.337 168.227 445.54 Q173.719 446.819 176.766 450.543 Q179.85 454.267 179.85 459.646 Q179.85 467.809 174.847 472.172 Q169.882 476.535 160.591 476.535 Q151.3 476.535 146.297 472.172 Q141.332 467.809 141.332 459.646 Q141.332 454.267 144.416 450.543 Q147.501 446.819 152.993 445.54 M150.209 433.541 Q150.209 437.904 152.917 440.349 Q155.663 442.794 160.591 442.794 Q165.481 442.794 168.227 440.349 Q171.01 437.904 171.01 433.541 Q171.01 429.178 168.227 426.733 Q165.481 424.288 160.591 424.288 Q155.663 424.288 152.917 426.733 Q150.209 429.178 150.209 433.541 Z\" fill=\"#000000\" fill-rule=\"nonzero\" fill-opacity=\"1\" /><path clip-path=\"url(#clip540)\" d=\"M72.0063 123.907 L84.4195 123.907 L84.4195 81.0628 L70.9155 83.7712 L70.9155 76.8499 L84.3442 74.1416 L91.9426 74.1416 L91.9426 123.907 L104.356 123.907 L104.356 130.302 L72.0063 130.302 L72.0063 123.907 Z\" fill=\"#000000\" fill-rule=\"nonzero\" fill-opacity=\"1\" /><path clip-path=\"url(#clip540)\" d=\"M119.703 120.747 L127.64 120.747 L127.64 130.302 L119.703 130.302 L119.703 120.747 Z\" fill=\"#000000\" fill-rule=\"nonzero\" fill-opacity=\"1\" /><path clip-path=\"url(#clip540)\" d=\"M160.44 79.1445 Q154.572 79.1445 151.601 84.9372 Q148.667 90.6924 148.667 102.278 Q148.667 113.826 151.601 119.619 Q154.572 125.374 160.44 125.374 Q166.346 125.374 169.28 119.619 Q172.252 113.826 172.252 102.278 Q172.252 90.6924 169.28 84.9372 Q166.346 79.1445 160.44 79.1445 M160.44 73.126 Q169.882 73.126 174.847 80.6115 Q179.85 88.0593 179.85 102.278 Q179.85 116.459 174.847 123.945 Q169.882 131.392 160.44 131.392 Q150.999 131.392 145.996 123.945 Q141.031 116.459 141.031 102.278 Q141.031 88.0593 145.996 80.6115 Q150.999 73.126 160.44 73.126 Z\" fill=\"#000000\" fill-rule=\"nonzero\" fill-opacity=\"1\" /><circle clip-path=\"url(#clip542)\" cx=\"275.883\" cy=\"1220.67\" r=\"14.4\" fill=\"#0000ff\" fill-rule=\"evenodd\" fill-opacity=\"1\" stroke=\"#000000\" stroke-opacity=\"1\" stroke-width=\"3.2\"/>\n",
       "<circle clip-path=\"url(#clip542)\" cx=\"314.365\" cy=\"1106.91\" r=\"14.4\" fill=\"#0000ff\" fill-rule=\"evenodd\" fill-opacity=\"1\" stroke=\"#000000\" stroke-opacity=\"1\" stroke-width=\"3.2\"/>\n",
       "<circle clip-path=\"url(#clip542)\" cx=\"352.848\" cy=\"1224.39\" r=\"14.4\" fill=\"#0000ff\" fill-rule=\"evenodd\" fill-opacity=\"1\" stroke=\"#000000\" stroke-opacity=\"1\" stroke-width=\"3.2\"/>\n",
       "<circle clip-path=\"url(#clip542)\" cx=\"391.33\" cy=\"1191.98\" r=\"14.4\" fill=\"#0000ff\" fill-rule=\"evenodd\" fill-opacity=\"1\" stroke=\"#000000\" stroke-opacity=\"1\" stroke-width=\"3.2\"/>\n",
       "<circle clip-path=\"url(#clip542)\" cx=\"429.813\" cy=\"1308.25\" r=\"14.4\" fill=\"#0000ff\" fill-rule=\"evenodd\" fill-opacity=\"1\" stroke=\"#000000\" stroke-opacity=\"1\" stroke-width=\"3.2\"/>\n",
       "<circle clip-path=\"url(#clip542)\" cx=\"468.296\" cy=\"1369.94\" r=\"14.4\" fill=\"#0000ff\" fill-rule=\"evenodd\" fill-opacity=\"1\" stroke=\"#000000\" stroke-opacity=\"1\" stroke-width=\"3.2\"/>\n",
       "<circle clip-path=\"url(#clip542)\" cx=\"506.778\" cy=\"102.222\" r=\"14.4\" fill=\"#0000ff\" fill-rule=\"evenodd\" fill-opacity=\"1\" stroke=\"#000000\" stroke-opacity=\"1\" stroke-width=\"3.2\"/>\n",
       "<circle clip-path=\"url(#clip542)\" cx=\"545.261\" cy=\"1174.2\" r=\"14.4\" fill=\"#0000ff\" fill-rule=\"evenodd\" fill-opacity=\"1\" stroke=\"#000000\" stroke-opacity=\"1\" stroke-width=\"3.2\"/>\n",
       "<circle clip-path=\"url(#clip542)\" cx=\"583.743\" cy=\"1262.92\" r=\"14.4\" fill=\"#0000ff\" fill-rule=\"evenodd\" fill-opacity=\"1\" stroke=\"#000000\" stroke-opacity=\"1\" stroke-width=\"3.2\"/>\n",
       "<circle clip-path=\"url(#clip542)\" cx=\"622.226\" cy=\"1222.39\" r=\"14.4\" fill=\"#0000ff\" fill-rule=\"evenodd\" fill-opacity=\"1\" stroke=\"#000000\" stroke-opacity=\"1\" stroke-width=\"3.2\"/>\n",
       "<circle clip-path=\"url(#clip542)\" cx=\"660.708\" cy=\"1295.86\" r=\"14.4\" fill=\"#0000ff\" fill-rule=\"evenodd\" fill-opacity=\"1\" stroke=\"#000000\" stroke-opacity=\"1\" stroke-width=\"3.2\"/>\n",
       "<circle clip-path=\"url(#clip542)\" cx=\"699.191\" cy=\"1233.55\" r=\"14.4\" fill=\"#0000ff\" fill-rule=\"evenodd\" fill-opacity=\"1\" stroke=\"#000000\" stroke-opacity=\"1\" stroke-width=\"3.2\"/>\n",
       "<circle clip-path=\"url(#clip542)\" cx=\"737.673\" cy=\"1253.96\" r=\"14.4\" fill=\"#0000ff\" fill-rule=\"evenodd\" fill-opacity=\"1\" stroke=\"#000000\" stroke-opacity=\"1\" stroke-width=\"3.2\"/>\n",
       "<circle clip-path=\"url(#clip542)\" cx=\"776.156\" cy=\"1348.55\" r=\"14.4\" fill=\"#0000ff\" fill-rule=\"evenodd\" fill-opacity=\"1\" stroke=\"#000000\" stroke-opacity=\"1\" stroke-width=\"3.2\"/>\n",
       "<circle clip-path=\"url(#clip542)\" cx=\"814.638\" cy=\"1296.09\" r=\"14.4\" fill=\"#0000ff\" fill-rule=\"evenodd\" fill-opacity=\"1\" stroke=\"#000000\" stroke-opacity=\"1\" stroke-width=\"3.2\"/>\n",
       "<circle clip-path=\"url(#clip542)\" cx=\"853.121\" cy=\"1257.51\" r=\"14.4\" fill=\"#0000ff\" fill-rule=\"evenodd\" fill-opacity=\"1\" stroke=\"#000000\" stroke-opacity=\"1\" stroke-width=\"3.2\"/>\n",
       "<circle clip-path=\"url(#clip542)\" cx=\"891.604\" cy=\"1402.35\" r=\"14.4\" fill=\"#0000ff\" fill-rule=\"evenodd\" fill-opacity=\"1\" stroke=\"#000000\" stroke-opacity=\"1\" stroke-width=\"3.2\"/>\n",
       "<circle clip-path=\"url(#clip542)\" cx=\"930.086\" cy=\"1266.5\" r=\"14.4\" fill=\"#0000ff\" fill-rule=\"evenodd\" fill-opacity=\"1\" stroke=\"#000000\" stroke-opacity=\"1\" stroke-width=\"3.2\"/>\n",
       "<circle clip-path=\"url(#clip542)\" cx=\"968.569\" cy=\"1214.84\" r=\"14.4\" fill=\"#0000ff\" fill-rule=\"evenodd\" fill-opacity=\"1\" stroke=\"#000000\" stroke-opacity=\"1\" stroke-width=\"3.2\"/>\n",
       "<circle clip-path=\"url(#clip542)\" cx=\"1007.05\" cy=\"1296.97\" r=\"14.4\" fill=\"#0000ff\" fill-rule=\"evenodd\" fill-opacity=\"1\" stroke=\"#000000\" stroke-opacity=\"1\" stroke-width=\"3.2\"/>\n",
       "<circle clip-path=\"url(#clip542)\" cx=\"1045.53\" cy=\"1075.31\" r=\"14.4\" fill=\"#0000ff\" fill-rule=\"evenodd\" fill-opacity=\"1\" stroke=\"#000000\" stroke-opacity=\"1\" stroke-width=\"3.2\"/>\n",
       "<circle clip-path=\"url(#clip542)\" cx=\"1084.02\" cy=\"1274.32\" r=\"14.4\" fill=\"#0000ff\" fill-rule=\"evenodd\" fill-opacity=\"1\" stroke=\"#000000\" stroke-opacity=\"1\" stroke-width=\"3.2\"/>\n",
       "<circle clip-path=\"url(#clip542)\" cx=\"1122.5\" cy=\"1307.55\" r=\"14.4\" fill=\"#0000ff\" fill-rule=\"evenodd\" fill-opacity=\"1\" stroke=\"#000000\" stroke-opacity=\"1\" stroke-width=\"3.2\"/>\n",
       "<circle clip-path=\"url(#clip542)\" cx=\"1160.98\" cy=\"1284.61\" r=\"14.4\" fill=\"#0000ff\" fill-rule=\"evenodd\" fill-opacity=\"1\" stroke=\"#000000\" stroke-opacity=\"1\" stroke-width=\"3.2\"/>\n",
       "<circle clip-path=\"url(#clip542)\" cx=\"1199.46\" cy=\"1301.98\" r=\"14.4\" fill=\"#0000ff\" fill-rule=\"evenodd\" fill-opacity=\"1\" stroke=\"#000000\" stroke-opacity=\"1\" stroke-width=\"3.2\"/>\n",
       "<circle clip-path=\"url(#clip542)\" cx=\"1237.95\" cy=\"1194.83\" r=\"14.4\" fill=\"#0000ff\" fill-rule=\"evenodd\" fill-opacity=\"1\" stroke=\"#000000\" stroke-opacity=\"1\" stroke-width=\"3.2\"/>\n",
       "<circle clip-path=\"url(#clip542)\" cx=\"1276.43\" cy=\"941.325\" r=\"14.4\" fill=\"#0000ff\" fill-rule=\"evenodd\" fill-opacity=\"1\" stroke=\"#000000\" stroke-opacity=\"1\" stroke-width=\"3.2\"/>\n",
       "<circle clip-path=\"url(#clip542)\" cx=\"1314.91\" cy=\"946.32\" r=\"14.4\" fill=\"#0000ff\" fill-rule=\"evenodd\" fill-opacity=\"1\" stroke=\"#000000\" stroke-opacity=\"1\" stroke-width=\"3.2\"/>\n",
       "<circle clip-path=\"url(#clip542)\" cx=\"1353.39\" cy=\"789.717\" r=\"14.4\" fill=\"#0000ff\" fill-rule=\"evenodd\" fill-opacity=\"1\" stroke=\"#000000\" stroke-opacity=\"1\" stroke-width=\"3.2\"/>\n",
       "<circle clip-path=\"url(#clip542)\" cx=\"1391.88\" cy=\"1357.28\" r=\"14.4\" fill=\"#0000ff\" fill-rule=\"evenodd\" fill-opacity=\"1\" stroke=\"#000000\" stroke-opacity=\"1\" stroke-width=\"3.2\"/>\n",
       "<circle clip-path=\"url(#clip542)\" cx=\"1430.36\" cy=\"1350.5\" r=\"14.4\" fill=\"#0000ff\" fill-rule=\"evenodd\" fill-opacity=\"1\" stroke=\"#000000\" stroke-opacity=\"1\" stroke-width=\"3.2\"/>\n",
       "<circle clip-path=\"url(#clip542)\" cx=\"1468.84\" cy=\"1409.87\" r=\"14.4\" fill=\"#0000ff\" fill-rule=\"evenodd\" fill-opacity=\"1\" stroke=\"#000000\" stroke-opacity=\"1\" stroke-width=\"3.2\"/>\n",
       "<circle clip-path=\"url(#clip542)\" cx=\"1507.32\" cy=\"1406.87\" r=\"14.4\" fill=\"#0000ff\" fill-rule=\"evenodd\" fill-opacity=\"1\" stroke=\"#000000\" stroke-opacity=\"1\" stroke-width=\"3.2\"/>\n",
       "<circle clip-path=\"url(#clip542)\" cx=\"1545.81\" cy=\"1097.41\" r=\"14.4\" fill=\"#0000ff\" fill-rule=\"evenodd\" fill-opacity=\"1\" stroke=\"#000000\" stroke-opacity=\"1\" stroke-width=\"3.2\"/>\n",
       "<circle clip-path=\"url(#clip542)\" cx=\"1584.29\" cy=\"1270.19\" r=\"14.4\" fill=\"#0000ff\" fill-rule=\"evenodd\" fill-opacity=\"1\" stroke=\"#000000\" stroke-opacity=\"1\" stroke-width=\"3.2\"/>\n",
       "<circle clip-path=\"url(#clip542)\" cx=\"1622.77\" cy=\"784.685\" r=\"14.4\" fill=\"#0000ff\" fill-rule=\"evenodd\" fill-opacity=\"1\" stroke=\"#000000\" stroke-opacity=\"1\" stroke-width=\"3.2\"/>\n",
       "<circle clip-path=\"url(#clip542)\" cx=\"1661.25\" cy=\"784.685\" r=\"14.4\" fill=\"#0000ff\" fill-rule=\"evenodd\" fill-opacity=\"1\" stroke=\"#000000\" stroke-opacity=\"1\" stroke-width=\"3.2\"/>\n",
       "<circle clip-path=\"url(#clip542)\" cx=\"1699.74\" cy=\"1220.32\" r=\"14.4\" fill=\"#0000ff\" fill-rule=\"evenodd\" fill-opacity=\"1\" stroke=\"#000000\" stroke-opacity=\"1\" stroke-width=\"3.2\"/>\n",
       "<circle clip-path=\"url(#clip542)\" cx=\"1738.22\" cy=\"1376\" r=\"14.4\" fill=\"#0000ff\" fill-rule=\"evenodd\" fill-opacity=\"1\" stroke=\"#000000\" stroke-opacity=\"1\" stroke-width=\"3.2\"/>\n",
       "<circle clip-path=\"url(#clip542)\" cx=\"1776.7\" cy=\"1254.88\" r=\"14.4\" fill=\"#0000ff\" fill-rule=\"evenodd\" fill-opacity=\"1\" stroke=\"#000000\" stroke-opacity=\"1\" stroke-width=\"3.2\"/>\n",
       "<circle clip-path=\"url(#clip542)\" cx=\"1815.18\" cy=\"1131.75\" r=\"14.4\" fill=\"#0000ff\" fill-rule=\"evenodd\" fill-opacity=\"1\" stroke=\"#000000\" stroke-opacity=\"1\" stroke-width=\"3.2\"/>\n",
       "<circle clip-path=\"url(#clip542)\" cx=\"1853.67\" cy=\"1322.76\" r=\"14.4\" fill=\"#0000ff\" fill-rule=\"evenodd\" fill-opacity=\"1\" stroke=\"#000000\" stroke-opacity=\"1\" stroke-width=\"3.2\"/>\n",
       "<circle clip-path=\"url(#clip542)\" cx=\"1892.15\" cy=\"1366.99\" r=\"14.4\" fill=\"#0000ff\" fill-rule=\"evenodd\" fill-opacity=\"1\" stroke=\"#000000\" stroke-opacity=\"1\" stroke-width=\"3.2\"/>\n",
       "<circle clip-path=\"url(#clip542)\" cx=\"1930.63\" cy=\"1272.54\" r=\"14.4\" fill=\"#0000ff\" fill-rule=\"evenodd\" fill-opacity=\"1\" stroke=\"#000000\" stroke-opacity=\"1\" stroke-width=\"3.2\"/>\n",
       "<circle clip-path=\"url(#clip542)\" cx=\"1969.11\" cy=\"869.138\" r=\"14.4\" fill=\"#0000ff\" fill-rule=\"evenodd\" fill-opacity=\"1\" stroke=\"#000000\" stroke-opacity=\"1\" stroke-width=\"3.2\"/>\n",
       "<circle clip-path=\"url(#clip542)\" cx=\"2007.6\" cy=\"1049.08\" r=\"14.4\" fill=\"#0000ff\" fill-rule=\"evenodd\" fill-opacity=\"1\" stroke=\"#000000\" stroke-opacity=\"1\" stroke-width=\"3.2\"/>\n",
       "<circle clip-path=\"url(#clip542)\" cx=\"2046.08\" cy=\"1117.16\" r=\"14.4\" fill=\"#0000ff\" fill-rule=\"evenodd\" fill-opacity=\"1\" stroke=\"#000000\" stroke-opacity=\"1\" stroke-width=\"3.2\"/>\n",
       "<circle clip-path=\"url(#clip542)\" cx=\"2084.56\" cy=\"1094.14\" r=\"14.4\" fill=\"#0000ff\" fill-rule=\"evenodd\" fill-opacity=\"1\" stroke=\"#000000\" stroke-opacity=\"1\" stroke-width=\"3.2\"/>\n",
       "<circle clip-path=\"url(#clip542)\" cx=\"2123.04\" cy=\"1184.32\" r=\"14.4\" fill=\"#0000ff\" fill-rule=\"evenodd\" fill-opacity=\"1\" stroke=\"#000000\" stroke-opacity=\"1\" stroke-width=\"3.2\"/>\n",
       "<circle clip-path=\"url(#clip542)\" cx=\"2161.53\" cy=\"1116.9\" r=\"14.4\" fill=\"#0000ff\" fill-rule=\"evenodd\" fill-opacity=\"1\" stroke=\"#000000\" stroke-opacity=\"1\" stroke-width=\"3.2\"/>\n",
       "<circle clip-path=\"url(#clip542)\" cx=\"2200.01\" cy=\"1103.06\" r=\"14.4\" fill=\"#0000ff\" fill-rule=\"evenodd\" fill-opacity=\"1\" stroke=\"#000000\" stroke-opacity=\"1\" stroke-width=\"3.2\"/>\n",
       "<circle clip-path=\"url(#clip542)\" cx=\"2238.49\" cy=\"1219.58\" r=\"14.4\" fill=\"#0000ff\" fill-rule=\"evenodd\" fill-opacity=\"1\" stroke=\"#000000\" stroke-opacity=\"1\" stroke-width=\"3.2\"/>\n",
       "<circle clip-path=\"url(#clip542)\" cx=\"2276.98\" cy=\"1040.24\" r=\"14.4\" fill=\"#0000ff\" fill-rule=\"evenodd\" fill-opacity=\"1\" stroke=\"#000000\" stroke-opacity=\"1\" stroke-width=\"3.2\"/>\n",
       "<circle clip-path=\"url(#clip542)\" cx=\"275.883\" cy=\"1272.58\" r=\"14.4\" fill=\"#ff0000\" fill-rule=\"evenodd\" fill-opacity=\"1\" stroke=\"#000000\" stroke-opacity=\"1\" stroke-width=\"6.4\"/>\n",
       "<circle clip-path=\"url(#clip542)\" cx=\"314.365\" cy=\"1088.24\" r=\"14.4\" fill=\"#ff0000\" fill-rule=\"evenodd\" fill-opacity=\"1\" stroke=\"#000000\" stroke-opacity=\"1\" stroke-width=\"6.4\"/>\n",
       "<circle clip-path=\"url(#clip542)\" cx=\"352.848\" cy=\"1280.5\" r=\"14.4\" fill=\"#ff0000\" fill-rule=\"evenodd\" fill-opacity=\"1\" stroke=\"#000000\" stroke-opacity=\"1\" stroke-width=\"6.4\"/>\n",
       "<circle clip-path=\"url(#clip542)\" cx=\"391.33\" cy=\"1212.61\" r=\"14.4\" fill=\"#ff0000\" fill-rule=\"evenodd\" fill-opacity=\"1\" stroke=\"#000000\" stroke-opacity=\"1\" stroke-width=\"6.4\"/>\n",
       "<circle clip-path=\"url(#clip542)\" cx=\"429.813\" cy=\"1321.2\" r=\"14.4\" fill=\"#ff0000\" fill-rule=\"evenodd\" fill-opacity=\"1\" stroke=\"#000000\" stroke-opacity=\"1\" stroke-width=\"6.4\"/>\n",
       "<circle clip-path=\"url(#clip542)\" cx=\"468.296\" cy=\"1361.6\" r=\"14.4\" fill=\"#ff0000\" fill-rule=\"evenodd\" fill-opacity=\"1\" stroke=\"#000000\" stroke-opacity=\"1\" stroke-width=\"6.4\"/>\n",
       "<circle clip-path=\"url(#clip542)\" cx=\"506.778\" cy=\"114.646\" r=\"14.4\" fill=\"#ff0000\" fill-rule=\"evenodd\" fill-opacity=\"1\" stroke=\"#000000\" stroke-opacity=\"1\" stroke-width=\"6.4\"/>\n",
       "<circle clip-path=\"url(#clip542)\" cx=\"545.261\" cy=\"1242.58\" r=\"14.4\" fill=\"#ff0000\" fill-rule=\"evenodd\" fill-opacity=\"1\" stroke=\"#000000\" stroke-opacity=\"1\" stroke-width=\"6.4\"/>\n",
       "<circle clip-path=\"url(#clip542)\" cx=\"583.743\" cy=\"1291.84\" r=\"14.4\" fill=\"#ff0000\" fill-rule=\"evenodd\" fill-opacity=\"1\" stroke=\"#000000\" stroke-opacity=\"1\" stroke-width=\"6.4\"/>\n",
       "<circle clip-path=\"url(#clip542)\" cx=\"622.226\" cy=\"1254.02\" r=\"14.4\" fill=\"#ff0000\" fill-rule=\"evenodd\" fill-opacity=\"1\" stroke=\"#000000\" stroke-opacity=\"1\" stroke-width=\"6.4\"/>\n",
       "<circle clip-path=\"url(#clip542)\" cx=\"660.708\" cy=\"1287.12\" r=\"14.4\" fill=\"#ff0000\" fill-rule=\"evenodd\" fill-opacity=\"1\" stroke=\"#000000\" stroke-opacity=\"1\" stroke-width=\"6.4\"/>\n",
       "<circle clip-path=\"url(#clip542)\" cx=\"699.191\" cy=\"1265.21\" r=\"14.4\" fill=\"#ff0000\" fill-rule=\"evenodd\" fill-opacity=\"1\" stroke=\"#000000\" stroke-opacity=\"1\" stroke-width=\"6.4\"/>\n",
       "<circle clip-path=\"url(#clip542)\" cx=\"737.673\" cy=\"1241.71\" r=\"14.4\" fill=\"#ff0000\" fill-rule=\"evenodd\" fill-opacity=\"1\" stroke=\"#000000\" stroke-opacity=\"1\" stroke-width=\"6.4\"/>\n",
       "<circle clip-path=\"url(#clip542)\" cx=\"776.156\" cy=\"1330.52\" r=\"14.4\" fill=\"#ff0000\" fill-rule=\"evenodd\" fill-opacity=\"1\" stroke=\"#000000\" stroke-opacity=\"1\" stroke-width=\"6.4\"/>\n",
       "<circle clip-path=\"url(#clip542)\" cx=\"814.638\" cy=\"1283.59\" r=\"14.4\" fill=\"#ff0000\" fill-rule=\"evenodd\" fill-opacity=\"1\" stroke=\"#000000\" stroke-opacity=\"1\" stroke-width=\"6.4\"/>\n",
       "<circle clip-path=\"url(#clip542)\" cx=\"853.121\" cy=\"1259.76\" r=\"14.4\" fill=\"#ff0000\" fill-rule=\"evenodd\" fill-opacity=\"1\" stroke=\"#000000\" stroke-opacity=\"1\" stroke-width=\"6.4\"/>\n",
       "<circle clip-path=\"url(#clip542)\" cx=\"891.604\" cy=\"1392.6\" r=\"14.4\" fill=\"#ff0000\" fill-rule=\"evenodd\" fill-opacity=\"1\" stroke=\"#000000\" stroke-opacity=\"1\" stroke-width=\"6.4\"/>\n",
       "<circle clip-path=\"url(#clip542)\" cx=\"930.086\" cy=\"1282.97\" r=\"14.4\" fill=\"#ff0000\" fill-rule=\"evenodd\" fill-opacity=\"1\" stroke=\"#000000\" stroke-opacity=\"1\" stroke-width=\"6.4\"/>\n",
       "<circle clip-path=\"url(#clip542)\" cx=\"968.569\" cy=\"1238.48\" r=\"14.4\" fill=\"#ff0000\" fill-rule=\"evenodd\" fill-opacity=\"1\" stroke=\"#000000\" stroke-opacity=\"1\" stroke-width=\"6.4\"/>\n",
       "<circle clip-path=\"url(#clip542)\" cx=\"1007.05\" cy=\"1286.25\" r=\"14.4\" fill=\"#ff0000\" fill-rule=\"evenodd\" fill-opacity=\"1\" stroke=\"#000000\" stroke-opacity=\"1\" stroke-width=\"6.4\"/>\n",
       "<circle clip-path=\"url(#clip542)\" cx=\"1045.53\" cy=\"1181.11\" r=\"14.4\" fill=\"#ff0000\" fill-rule=\"evenodd\" fill-opacity=\"1\" stroke=\"#000000\" stroke-opacity=\"1\" stroke-width=\"6.4\"/>\n",
       "<circle clip-path=\"url(#clip542)\" cx=\"1084.02\" cy=\"1278.31\" r=\"14.4\" fill=\"#ff0000\" fill-rule=\"evenodd\" fill-opacity=\"1\" stroke=\"#000000\" stroke-opacity=\"1\" stroke-width=\"6.4\"/>\n",
       "<circle clip-path=\"url(#clip542)\" cx=\"1122.5\" cy=\"1308.91\" r=\"14.4\" fill=\"#ff0000\" fill-rule=\"evenodd\" fill-opacity=\"1\" stroke=\"#000000\" stroke-opacity=\"1\" stroke-width=\"6.4\"/>\n",
       "<circle clip-path=\"url(#clip542)\" cx=\"1160.98\" cy=\"1236.23\" r=\"14.4\" fill=\"#ff0000\" fill-rule=\"evenodd\" fill-opacity=\"1\" stroke=\"#000000\" stroke-opacity=\"1\" stroke-width=\"6.4\"/>\n",
       "<circle clip-path=\"url(#clip542)\" cx=\"1199.46\" cy=\"1270.52\" r=\"14.4\" fill=\"#ff0000\" fill-rule=\"evenodd\" fill-opacity=\"1\" stroke=\"#000000\" stroke-opacity=\"1\" stroke-width=\"6.4\"/>\n",
       "<circle clip-path=\"url(#clip542)\" cx=\"1237.95\" cy=\"1210.35\" r=\"14.4\" fill=\"#ff0000\" fill-rule=\"evenodd\" fill-opacity=\"1\" stroke=\"#000000\" stroke-opacity=\"1\" stroke-width=\"6.4\"/>\n",
       "<circle clip-path=\"url(#clip542)\" cx=\"1276.43\" cy=\"973.27\" r=\"14.4\" fill=\"#ff0000\" fill-rule=\"evenodd\" fill-opacity=\"1\" stroke=\"#000000\" stroke-opacity=\"1\" stroke-width=\"6.4\"/>\n",
       "<circle clip-path=\"url(#clip542)\" cx=\"1314.91\" cy=\"951.572\" r=\"14.4\" fill=\"#ff0000\" fill-rule=\"evenodd\" fill-opacity=\"1\" stroke=\"#000000\" stroke-opacity=\"1\" stroke-width=\"6.4\"/>\n",
       "<circle clip-path=\"url(#clip542)\" cx=\"1353.39\" cy=\"871.549\" r=\"14.4\" fill=\"#ff0000\" fill-rule=\"evenodd\" fill-opacity=\"1\" stroke=\"#000000\" stroke-opacity=\"1\" stroke-width=\"6.4\"/>\n",
       "<circle clip-path=\"url(#clip542)\" cx=\"1391.88\" cy=\"1347.19\" r=\"14.4\" fill=\"#ff0000\" fill-rule=\"evenodd\" fill-opacity=\"1\" stroke=\"#000000\" stroke-opacity=\"1\" stroke-width=\"6.4\"/>\n",
       "<circle clip-path=\"url(#clip542)\" cx=\"1430.36\" cy=\"1328.53\" r=\"14.4\" fill=\"#ff0000\" fill-rule=\"evenodd\" fill-opacity=\"1\" stroke=\"#000000\" stroke-opacity=\"1\" stroke-width=\"6.4\"/>\n",
       "<circle clip-path=\"url(#clip542)\" cx=\"1468.84\" cy=\"1404.66\" r=\"14.4\" fill=\"#ff0000\" fill-rule=\"evenodd\" fill-opacity=\"1\" stroke=\"#000000\" stroke-opacity=\"1\" stroke-width=\"6.4\"/>\n",
       "<circle clip-path=\"url(#clip542)\" cx=\"1507.32\" cy=\"1382.91\" r=\"14.4\" fill=\"#ff0000\" fill-rule=\"evenodd\" fill-opacity=\"1\" stroke=\"#000000\" stroke-opacity=\"1\" stroke-width=\"6.4\"/>\n",
       "<circle clip-path=\"url(#clip542)\" cx=\"1545.81\" cy=\"1074.17\" r=\"14.4\" fill=\"#ff0000\" fill-rule=\"evenodd\" fill-opacity=\"1\" stroke=\"#000000\" stroke-opacity=\"1\" stroke-width=\"6.4\"/>\n",
       "<circle clip-path=\"url(#clip542)\" cx=\"1584.29\" cy=\"1275.87\" r=\"14.4\" fill=\"#ff0000\" fill-rule=\"evenodd\" fill-opacity=\"1\" stroke=\"#000000\" stroke-opacity=\"1\" stroke-width=\"6.4\"/>\n",
       "<circle clip-path=\"url(#clip542)\" cx=\"1622.77\" cy=\"832.3\" r=\"14.4\" fill=\"#ff0000\" fill-rule=\"evenodd\" fill-opacity=\"1\" stroke=\"#000000\" stroke-opacity=\"1\" stroke-width=\"6.4\"/>\n",
       "<circle clip-path=\"url(#clip542)\" cx=\"1661.25\" cy=\"832.069\" r=\"14.4\" fill=\"#ff0000\" fill-rule=\"evenodd\" fill-opacity=\"1\" stroke=\"#000000\" stroke-opacity=\"1\" stroke-width=\"6.4\"/>\n",
       "<circle clip-path=\"url(#clip542)\" cx=\"1699.74\" cy=\"1183.96\" r=\"14.4\" fill=\"#ff0000\" fill-rule=\"evenodd\" fill-opacity=\"1\" stroke=\"#000000\" stroke-opacity=\"1\" stroke-width=\"6.4\"/>\n",
       "<circle clip-path=\"url(#clip542)\" cx=\"1738.22\" cy=\"1346.84\" r=\"14.4\" fill=\"#ff0000\" fill-rule=\"evenodd\" fill-opacity=\"1\" stroke=\"#000000\" stroke-opacity=\"1\" stroke-width=\"6.4\"/>\n",
       "<circle clip-path=\"url(#clip542)\" cx=\"1776.7\" cy=\"1252.47\" r=\"14.4\" fill=\"#ff0000\" fill-rule=\"evenodd\" fill-opacity=\"1\" stroke=\"#000000\" stroke-opacity=\"1\" stroke-width=\"6.4\"/>\n",
       "<circle clip-path=\"url(#clip542)\" cx=\"1815.18\" cy=\"1091.68\" r=\"14.4\" fill=\"#ff0000\" fill-rule=\"evenodd\" fill-opacity=\"1\" stroke=\"#000000\" stroke-opacity=\"1\" stroke-width=\"6.4\"/>\n",
       "<circle clip-path=\"url(#clip542)\" cx=\"1853.67\" cy=\"1325.85\" r=\"14.4\" fill=\"#ff0000\" fill-rule=\"evenodd\" fill-opacity=\"1\" stroke=\"#000000\" stroke-opacity=\"1\" stroke-width=\"6.4\"/>\n",
       "<circle clip-path=\"url(#clip542)\" cx=\"1892.15\" cy=\"1334.11\" r=\"14.4\" fill=\"#ff0000\" fill-rule=\"evenodd\" fill-opacity=\"1\" stroke=\"#000000\" stroke-opacity=\"1\" stroke-width=\"6.4\"/>\n",
       "<circle clip-path=\"url(#clip542)\" cx=\"1930.63\" cy=\"1265.96\" r=\"14.4\" fill=\"#ff0000\" fill-rule=\"evenodd\" fill-opacity=\"1\" stroke=\"#000000\" stroke-opacity=\"1\" stroke-width=\"6.4\"/>\n",
       "<circle clip-path=\"url(#clip542)\" cx=\"1969.11\" cy=\"838.791\" r=\"14.4\" fill=\"#ff0000\" fill-rule=\"evenodd\" fill-opacity=\"1\" stroke=\"#000000\" stroke-opacity=\"1\" stroke-width=\"6.4\"/>\n",
       "<circle clip-path=\"url(#clip542)\" cx=\"2007.6\" cy=\"1007.1\" r=\"14.4\" fill=\"#ff0000\" fill-rule=\"evenodd\" fill-opacity=\"1\" stroke=\"#000000\" stroke-opacity=\"1\" stroke-width=\"6.4\"/>\n",
       "<circle clip-path=\"url(#clip542)\" cx=\"2046.08\" cy=\"1112.04\" r=\"14.4\" fill=\"#ff0000\" fill-rule=\"evenodd\" fill-opacity=\"1\" stroke=\"#000000\" stroke-opacity=\"1\" stroke-width=\"6.4\"/>\n",
       "<circle clip-path=\"url(#clip542)\" cx=\"2084.56\" cy=\"1085.18\" r=\"14.4\" fill=\"#ff0000\" fill-rule=\"evenodd\" fill-opacity=\"1\" stroke=\"#000000\" stroke-opacity=\"1\" stroke-width=\"6.4\"/>\n",
       "<circle clip-path=\"url(#clip542)\" cx=\"2123.04\" cy=\"1154.73\" r=\"14.4\" fill=\"#ff0000\" fill-rule=\"evenodd\" fill-opacity=\"1\" stroke=\"#000000\" stroke-opacity=\"1\" stroke-width=\"6.4\"/>\n",
       "<circle clip-path=\"url(#clip542)\" cx=\"2161.53\" cy=\"1048.39\" r=\"14.4\" fill=\"#ff0000\" fill-rule=\"evenodd\" fill-opacity=\"1\" stroke=\"#000000\" stroke-opacity=\"1\" stroke-width=\"6.4\"/>\n",
       "<circle clip-path=\"url(#clip542)\" cx=\"2200.01\" cy=\"1002.43\" r=\"14.4\" fill=\"#ff0000\" fill-rule=\"evenodd\" fill-opacity=\"1\" stroke=\"#000000\" stroke-opacity=\"1\" stroke-width=\"6.4\"/>\n",
       "<circle clip-path=\"url(#clip542)\" cx=\"2238.49\" cy=\"1171.15\" r=\"14.4\" fill=\"#ff0000\" fill-rule=\"evenodd\" fill-opacity=\"1\" stroke=\"#000000\" stroke-opacity=\"1\" stroke-width=\"6.4\"/>\n",
       "<circle clip-path=\"url(#clip542)\" cx=\"2276.98\" cy=\"1078.12\" r=\"14.4\" fill=\"#ff0000\" fill-rule=\"evenodd\" fill-opacity=\"1\" stroke=\"#000000\" stroke-opacity=\"1\" stroke-width=\"6.4\"/>\n",
       "<path clip-path=\"url(#clip540)\" d=\"M1604.97 303.596 L2266.3 303.596 L2266.3 109.196 L1604.97 109.196  Z\" fill=\"#ffffff\" fill-rule=\"evenodd\" fill-opacity=\"1\"/>\n",
       "<polyline clip-path=\"url(#clip540)\" style=\"stroke:#000000; stroke-linecap:round; stroke-linejoin:round; stroke-width:4; stroke-opacity:1; fill:none\" points=\"1604.97,303.596 2266.3,303.596 2266.3,109.196 1604.97,109.196 1604.97,303.596 \"/>\n",
       "<circle clip-path=\"url(#clip540)\" cx=\"1699.24\" cy=\"173.996\" r=\"25.6\" fill=\"#0000ff\" fill-rule=\"evenodd\" fill-opacity=\"1\" stroke=\"#000000\" stroke-opacity=\"1\" stroke-width=\"5.68889\"/>\n",
       "<path clip-path=\"url(#clip540)\" d=\"M1823.55 178.061 L1823.55 180.665 L1799.07 180.665 Q1799.42 186.163 1802.37 189.056 Q1805.35 191.921 1810.65 191.921 Q1813.71 191.921 1816.58 191.169 Q1819.47 190.416 1822.31 188.912 L1822.31 193.946 Q1819.44 195.162 1816.43 195.798 Q1813.43 196.435 1810.33 196.435 Q1802.57 196.435 1798.03 191.921 Q1793.52 187.407 1793.52 179.71 Q1793.52 171.753 1797.8 167.095 Q1802.11 162.407 1809.4 162.407 Q1815.94 162.407 1819.73 166.632 Q1823.55 170.827 1823.55 178.061 M1818.23 176.499 Q1818.17 172.129 1815.77 169.525 Q1813.4 166.921 1809.46 166.921 Q1805.01 166.921 1802.31 169.438 Q1799.65 171.956 1799.25 176.528 L1818.23 176.499 Z\" fill=\"#000000\" fill-rule=\"nonzero\" fill-opacity=\"1\" /><path clip-path=\"url(#clip540)\" d=\"M1858.19 163.188 L1846.47 178.958 L1858.8 195.596 L1852.52 195.596 L1843.08 182.864 L1833.65 195.596 L1827.37 195.596 L1839.96 178.64 L1828.44 163.188 L1834.72 163.188 L1843.32 174.734 L1851.91 163.188 L1858.19 163.188 Z\" fill=\"#000000\" fill-rule=\"nonzero\" fill-opacity=\"1\" /><path clip-path=\"url(#clip540)\" d=\"M1881.05 179.305 Q1874.59 179.305 1872.11 180.781 Q1869.62 182.257 1869.62 185.816 Q1869.62 188.651 1871.47 190.33 Q1873.35 191.979 1876.56 191.979 Q1880.99 191.979 1883.65 188.854 Q1886.34 185.7 1886.34 180.492 L1886.34 179.305 L1881.05 179.305 M1891.67 177.106 L1891.67 195.596 L1886.34 195.596 L1886.34 190.677 Q1884.52 193.628 1881.8 195.046 Q1879.08 196.435 1875.14 196.435 Q1870.17 196.435 1867.22 193.657 Q1864.29 190.85 1864.29 186.163 Q1864.29 180.694 1867.94 177.916 Q1871.61 175.139 1878.88 175.139 L1886.34 175.139 L1886.34 174.618 Q1886.34 170.943 1883.91 168.947 Q1881.51 166.921 1877.14 166.921 Q1874.36 166.921 1871.73 167.587 Q1869.1 168.252 1866.67 169.583 L1866.67 164.664 Q1869.59 163.536 1872.34 162.986 Q1875.09 162.407 1877.69 162.407 Q1884.72 162.407 1888.19 166.053 Q1891.67 169.699 1891.67 177.106 Z\" fill=\"#000000\" fill-rule=\"nonzero\" fill-opacity=\"1\" /><path clip-path=\"url(#clip540)\" d=\"M1925.95 164.433 L1925.95 169.41 Q1923.7 168.165 1921.41 167.558 Q1919.15 166.921 1916.84 166.921 Q1911.66 166.921 1908.8 170.22 Q1905.93 173.489 1905.93 179.421 Q1905.93 185.353 1908.8 188.651 Q1911.66 191.921 1916.84 191.921 Q1919.15 191.921 1921.41 191.313 Q1923.7 190.677 1925.95 189.433 L1925.95 194.352 Q1923.73 195.393 1921.32 195.914 Q1918.95 196.435 1916.26 196.435 Q1908.94 196.435 1904.63 191.834 Q1900.32 187.233 1900.32 179.421 Q1900.32 171.493 1904.66 166.95 Q1909.03 162.407 1916.61 162.407 Q1919.07 162.407 1921.41 162.928 Q1923.75 163.42 1925.95 164.433 Z\" fill=\"#000000\" fill-rule=\"nonzero\" fill-opacity=\"1\" /><path clip-path=\"url(#clip540)\" d=\"M1940.48 153.987 L1940.48 163.188 L1951.45 163.188 L1951.45 167.326 L1940.48 167.326 L1940.48 184.919 Q1940.48 188.883 1941.55 190.011 Q1942.65 191.14 1945.98 191.14 L1951.45 191.14 L1951.45 195.596 L1945.98 195.596 Q1939.81 195.596 1937.47 193.31 Q1935.13 190.995 1935.13 184.919 L1935.13 167.326 L1931.22 167.326 L1931.22 163.188 L1935.13 163.188 L1935.13 153.987 L1940.48 153.987 Z\" fill=\"#000000\" fill-rule=\"nonzero\" fill-opacity=\"1\" /><circle clip-path=\"url(#clip540)\" cx=\"1699.24\" cy=\"238.796\" r=\"23.04\" fill=\"#ff0000\" fill-rule=\"evenodd\" fill-opacity=\"1\" stroke=\"#000000\" stroke-opacity=\"1\" stroke-width=\"10.24\"/>\n",
       "<path clip-path=\"url(#clip540)\" d=\"M1823.55 242.861 L1823.55 245.465 L1799.07 245.465 Q1799.42 250.963 1802.37 253.856 Q1805.35 256.721 1810.65 256.721 Q1813.71 256.721 1816.58 255.969 Q1819.47 255.216 1822.31 253.712 L1822.31 258.746 Q1819.44 259.962 1816.43 260.598 Q1813.43 261.235 1810.33 261.235 Q1802.57 261.235 1798.03 256.721 Q1793.52 252.207 1793.52 244.51 Q1793.52 236.553 1797.8 231.895 Q1802.11 227.207 1809.4 227.207 Q1815.94 227.207 1819.73 231.432 Q1823.55 235.627 1823.55 242.861 M1818.23 241.299 Q1818.17 236.929 1815.77 234.325 Q1813.4 231.721 1809.46 231.721 Q1805.01 231.721 1802.31 234.238 Q1799.65 236.756 1799.25 241.328 L1818.23 241.299 Z\" fill=\"#000000\" fill-rule=\"nonzero\" fill-opacity=\"1\" /><path clip-path=\"url(#clip540)\" d=\"M1857.52 234.21 Q1859.52 230.622 1862.3 228.914 Q1865.07 227.207 1868.84 227.207 Q1873.9 227.207 1876.65 230.766 Q1879.4 234.296 1879.4 240.836 L1879.4 260.396 L1874.04 260.396 L1874.04 241.009 Q1874.04 236.351 1872.39 234.094 Q1870.75 231.837 1867.36 231.837 Q1863.22 231.837 1860.82 234.586 Q1858.42 237.334 1858.42 242.08 L1858.42 260.396 L1853.07 260.396 L1853.07 241.009 Q1853.07 236.322 1851.42 234.094 Q1849.77 231.837 1846.32 231.837 Q1842.24 231.837 1839.84 234.615 Q1837.44 237.363 1837.44 242.08 L1837.44 260.396 L1832.09 260.396 L1832.09 227.988 L1837.44 227.988 L1837.44 233.023 Q1839.26 230.043 1841.81 228.625 Q1844.36 227.207 1847.86 227.207 Q1851.39 227.207 1853.85 229.001 Q1856.34 230.795 1857.52 234.21 Z\" fill=\"#000000\" fill-rule=\"nonzero\" fill-opacity=\"1\" /><path clip-path=\"url(#clip540)\" d=\"M1895.17 255.535 L1895.17 272.722 L1889.81 272.722 L1889.81 227.988 L1895.17 227.988 L1895.17 232.907 Q1896.84 230.014 1899.39 228.625 Q1901.97 227.207 1905.53 227.207 Q1911.43 227.207 1915.1 231.895 Q1918.81 236.582 1918.81 244.221 Q1918.81 251.86 1915.1 256.547 Q1911.43 261.235 1905.53 261.235 Q1901.97 261.235 1899.39 259.846 Q1896.84 258.428 1895.17 255.535 M1913.28 244.221 Q1913.28 238.347 1910.85 235.02 Q1908.45 231.663 1904.22 231.663 Q1900 231.663 1897.57 235.02 Q1895.17 238.347 1895.17 244.221 Q1895.17 250.095 1897.57 253.451 Q1900 256.779 1904.22 256.779 Q1908.45 256.779 1910.85 253.451 Q1913.28 250.095 1913.28 244.221 Z\" fill=\"#000000\" fill-rule=\"nonzero\" fill-opacity=\"1\" /><path clip-path=\"url(#clip540)\" d=\"M1927.63 227.988 L1932.96 227.988 L1932.96 260.396 L1927.63 260.396 L1927.63 227.988 M1927.63 215.373 L1932.96 215.373 L1932.96 222.115 L1927.63 222.115 L1927.63 215.373 Z\" fill=\"#000000\" fill-rule=\"nonzero\" fill-opacity=\"1\" /><path clip-path=\"url(#clip540)\" d=\"M1962.87 232.965 Q1961.98 232.444 1960.91 232.213 Q1959.87 231.953 1958.59 231.953 Q1954.08 231.953 1951.65 234.904 Q1949.25 237.826 1949.25 243.324 L1949.25 260.396 L1943.89 260.396 L1943.89 227.988 L1949.25 227.988 L1949.25 233.023 Q1950.92 230.072 1953.62 228.654 Q1956.31 227.207 1960.15 227.207 Q1960.7 227.207 1961.37 227.294 Q1962.04 227.352 1962.85 227.497 L1962.87 232.965 Z\" fill=\"#000000\" fill-rule=\"nonzero\" fill-opacity=\"1\" /><path clip-path=\"url(#clip540)\" d=\"M1968.46 227.988 L1973.78 227.988 L1973.78 260.396 L1968.46 260.396 L1968.46 227.988 M1968.46 215.373 L1973.78 215.373 L1973.78 222.115 L1968.46 222.115 L1968.46 215.373 Z\" fill=\"#000000\" fill-rule=\"nonzero\" fill-opacity=\"1\" /><path clip-path=\"url(#clip540)\" d=\"M2008.24 229.233 L2008.24 234.21 Q2005.99 232.965 2003.7 232.358 Q2001.44 231.721 1999.13 231.721 Q1993.95 231.721 1991.09 235.02 Q1988.22 238.289 1988.22 244.221 Q1988.22 250.153 1991.09 253.451 Q1993.95 256.721 1999.13 256.721 Q2001.44 256.721 2003.7 256.113 Q2005.99 255.477 2008.24 254.233 L2008.24 259.152 Q2006.02 260.193 2003.62 260.714 Q2001.24 261.235 1998.55 261.235 Q1991.23 261.235 1986.92 256.634 Q1982.61 252.033 1982.61 244.221 Q1982.61 236.293 1986.95 231.75 Q1991.32 227.207 1998.9 227.207 Q2001.36 227.207 2003.7 227.728 Q2006.05 228.22 2008.24 229.233 Z\" fill=\"#000000\" fill-rule=\"nonzero\" fill-opacity=\"1\" /><path clip-path=\"url(#clip540)\" d=\"M2032.23 244.105 Q2025.78 244.105 2023.29 245.581 Q2020.8 247.057 2020.8 250.616 Q2020.8 253.451 2022.65 255.13 Q2024.54 256.779 2027.75 256.779 Q2032.17 256.779 2034.84 253.654 Q2037.53 250.5 2037.53 245.292 L2037.53 244.105 L2032.23 244.105 M2042.85 241.906 L2042.85 260.396 L2037.53 260.396 L2037.53 255.477 Q2035.7 258.428 2032.98 259.846 Q2030.26 261.235 2026.33 261.235 Q2021.35 261.235 2018.4 258.457 Q2015.48 255.65 2015.48 250.963 Q2015.48 245.494 2019.12 242.716 Q2022.8 239.939 2030.06 239.939 L2037.53 239.939 L2037.53 239.418 Q2037.53 235.743 2035.1 233.747 Q2032.69 231.721 2028.33 231.721 Q2025.55 231.721 2022.91 232.387 Q2020.28 233.052 2017.85 234.383 L2017.85 229.464 Q2020.77 228.336 2023.52 227.786 Q2026.27 227.207 2028.88 227.207 Q2035.91 227.207 2039.38 230.853 Q2042.85 234.499 2042.85 241.906 Z\" fill=\"#000000\" fill-rule=\"nonzero\" fill-opacity=\"1\" /><path clip-path=\"url(#clip540)\" d=\"M2053.82 215.373 L2059.14 215.373 L2059.14 260.396 L2053.82 260.396 L2053.82 215.373 Z\" fill=\"#000000\" fill-rule=\"nonzero\" fill-opacity=\"1\" /><path clip-path=\"url(#clip540)\" d=\"M2089.35 217.196 L2095.19 217.196 L2095.19 234.904 L2116.43 234.904 L2116.43 217.196 L2122.28 217.196 L2122.28 260.396 L2116.43 260.396 L2116.43 239.823 L2095.19 239.823 L2095.19 260.396 L2089.35 260.396 L2089.35 217.196 Z\" fill=\"#000000\" fill-rule=\"nonzero\" fill-opacity=\"1\" /><path clip-path=\"url(#clip540)\" d=\"M2133.91 217.196 L2139.75 217.196 L2139.75 235.454 L2159.14 217.196 L2166.66 217.196 L2145.22 237.334 L2168.2 260.396 L2160.5 260.396 L2139.75 239.591 L2139.75 260.396 L2133.91 260.396 L2133.91 217.196 Z\" fill=\"#000000\" fill-rule=\"nonzero\" fill-opacity=\"1\" /><path clip-path=\"url(#clip540)\" d=\"M2178.61 221.999 L2178.61 238.231 L2185.96 238.231 Q2190.04 238.231 2192.27 236.119 Q2194.5 234.007 2194.5 230.101 Q2194.5 226.223 2192.27 224.111 Q2190.04 221.999 2185.96 221.999 L2178.61 221.999 M2172.77 217.196 L2185.96 217.196 Q2193.23 217.196 2196.93 220.494 Q2200.66 223.764 2200.66 230.101 Q2200.66 236.495 2196.93 239.765 Q2193.23 243.035 2185.96 243.035 L2178.61 243.035 L2178.61 260.396 L2172.77 260.396 L2172.77 217.196 Z\" fill=\"#000000\" fill-rule=\"nonzero\" fill-opacity=\"1\" /><path clip-path=\"url(#clip540)\" d=\"M2219.64 260.396 L2203.15 217.196 L2209.26 217.196 L2222.94 253.567 L2236.66 217.196 L2242.73 217.196 L2226.27 260.396 L2219.64 260.396 Z\" fill=\"#000000\" fill-rule=\"nonzero\" fill-opacity=\"1\" /></svg>\n"
      ]
     },
     "metadata": {},
     "output_type": "display_data"
    }
   ],
   "source": [
    "\n",
    "Plots.scatter(1:ne(meta_g),lev,label=\"exact\", color=:blue,             \n",
    "markersize=4,\n",
    "xtickfont=font(13),\n",
    "ytickfont=font(13),\n",
    "guidefont=font(13),\n",
    "legendfont=font(10),\n",
    "framestyle=:box,\n",
    "#size=(500, 500),\n",
    "margins=0.1 * 2cm,);\n",
    "# #\n",
    "Plots.scatter!(1:ne(meta_g),emp_lev,label=\"empirical HKPV\",                \n",
    "markersize=4,\n",
    "linewidth=2,\n",
    "markerstrokewidth=2,\n",
    "xtickfont=font(13),\n",
    "ytickfont=font(13),\n",
    "guidefont=font(13),\n",
    "legendfont=font(10),\n",
    "framestyle=:box,\n",
    "#size=(500, 500),\n",
    "margins=0.1 * 2cm,\n",
    "color=:red)\n"
   ]
  },
  {
   "cell_type": "markdown",
   "metadata": {},
   "source": [
    "##### Small graph with large inconsistenties"
   ]
  },
  {
   "cell_type": "code",
   "execution_count": 7,
   "metadata": {},
   "outputs": [
    {
     "data": {
      "text/plain": [
       "0"
      ]
     },
     "metadata": {},
     "output_type": "display_data"
    }
   ],
   "source": [
    "# common parameters\n",
    "type=\"MUN\"\n",
    "rng = Random.default_rng()\n",
    "\n",
    "# graph parameters\n",
    "n = 20\n",
    "p = 0.9\n",
    "\n",
    "# regularization\n",
    "q = 0\n",
    "\n",
    "# planted ranking score\n",
    "planted_score = randperm(rng,n)\n",
    "\n",
    "# for MC evaluations\n",
    "nb_samples = 100\n",
    "\n",
    "eta = 0.9\n",
    "\n",
    "# planted ranking score\n",
    "planted_score = randperm(rng,n)\n",
    "\n",
    "# graph model\n",
    "if type==\"MUN\"\n",
    "    meta_g = gen_graph_mun(rng, n, p, eta;planted_score)\n",
    "elseif type==\"ERO\"\n",
    "    meta_g = gen_graph_ero(rng, n, p, eta;planted_score)\n",
    "end\n",
    "sparseB = sp_magnetic_incidence(meta_g; oriented=true);\n",
    "n = nv(meta_g)\n",
    "\n",
    "# regularization\n",
    "q = 0"
   ]
  },
  {
   "cell_type": "code",
   "execution_count": 8,
   "metadata": {},
   "outputs": [
    {
     "name": "stdout",
     "output_type": "stream",
     "text": [
      "[1.0, 1.0, 1.0, 2.0, 1.0, 1.0, 1.0, 0.0, 1.0, 0.0, 1.0, 1.0, 2.0, 2.0, 1.0, 1.0, 2.0, 1.0, 0.0, 1.0, 1.0, 1.0, 1.0, 1.0, 2.0, 1.0, 1.0, 2.0, 1.0, 0.0, 2.0, 1.0, 1.0, 1.0, 1.0, 1.0, 1.0, 1.0, 1.0, 1.0, 1.0, 1.0, 1.0, 1.0, 1.0, 2.0, 0.0, 1.0, 1.0, 1.0, 0.0, 0.0, 1.0, 1.0, 1.0, 0.0, 1.0, 1.0, 1.0, 2.0, 0.0, 0.0, 0.0, 2.0, 1.0, 1.0, 2.0, 1.0, 0.0, 1.0, 2.0, 1.0, 1.0, 1.0, 2.0, 0.0, 1.0, 1.0, 2.0, 1.0, 1.0, 1.0, 1.0, 1.0, 0.0, 0.0, 0.0, 1.0, 1.0, 1.0, 1.0, 1.0, 1.0, 1.0, 2.0, 1.0, 1.0, 1.0, 3.0, 1.0]\n",
      "[0.0, 0.0, 0.0, 0.0, 0.0, 0.0, 0.0, 0.0, 0.0, 1.0, 0.0, 0.0, 0.0, 0.0, 0.0, 0.0, 0.0, 0.0, 0.0, 1.0, 0.0"
     ]
    },
    {
     "name": "stdout",
     "output_type": "stream",
     "text": [
      ", 0.0, 0.0, 0.0, 0.0, 0.0, 0.0, 0.0, 0.0, 2.0, 0.0, 0.0, 0.0, 0.0, 0.0, 0.0, 0.0, 0.0, 0.0, 0.0, 0.0, 0.0, 0.0, 0.0, 0.0, 0.0, 2.0, 0.0, 0.0, 0.0, 0.0, 2.0, 0.0, 0.0, 0.0, 2.0, 0.0, 0.0, 0.0, 0.0, 1.0, 0.0, 1.0, 0.0, 0.0, 0.0, 0.0, 0.0, 1.0, 0.0, 0.0, 0.0, 0.0, 0.0, 0.0, 0.0, 0.0, 0.0, 0.0, 0.0, 0.0, 0.0, 0.0, 0.0, 1.0, 1.0, 0.0, 0.0, 0.0, 0.0, 0.0, 0.0, 0.0, 0.0, 0.0, 0.0, 0.0, 0.0, 0.0, 0.0]\n",
      "[0.0, 0.0, 0.0, 0.0, 0.0, 0.0, 0.0, 1.0, 0.0, 1.0, 0.0, 0.0, 0.0, 0.0, 0.0, 0.0, 0.0, 0.0, 1.0, 1.0, 0.0, 0.0, 0.0, 0.0, 0.0, "
     ]
    },
    {
     "name": "stdout",
     "output_type": "stream",
     "text": [
      "0.0, 0.0, 0.0, 0.0, 1.0, 0.0, 0.0, 0.0, 0.0, 0.0, 0.0, 0.0, 0.0, 0.0, 0.0, 0.0, 0.0, 0.0, 0.0, 0.0, 0.0, 1.0, 0.0, 0.0, 0.0, 1.0, 1.0, 0.0, 0.0, 0.0, 1.0, 0.0, 0.0, 0.0, 0.0, 1.0, 1.0, 1.0, 0.0, 0.0, 0.0, 0.0, 0.0, 1.0, 0.0, 0.0, 0.0, 0.0, 0.0, 0.0, 1.0, 0.0, 0.0, 0.0, 0.0, 0.0, 0.0, 0.0, 0.0, 1.0, 1.0, 1.0, 0.0, 0.0, 0.0, 0.0, 0.0, 0.0, 0.0, 0.0, 0.0, 0.0, 0.0, 0.0, 0.0]\n",
      " \n",
      "[0.0006312525399999999 0.00030051451]\n"
     ]
    }
   ],
   "source": [
    "nb_edges = zeros(nb_samples)\n",
    "nb_cc = zeros(nb_samples)\n",
    "\n",
    "\n",
    "cc_with_1_cycle = zeros(nb_samples)\n",
    "cc_with_0_cycle = zeros(nb_samples)\n",
    "cc_with_more_than_1_cycle = zeros(nb_samples)\n",
    "\n",
    "time_hkpv = zeros(nb_samples)\n",
    "time_mtsf = zeros(nb_samples)\n",
    "\n",
    "V = Matrix(qr(Matrix(sparseB)).Q)\n",
    "\n",
    "for i_sample in 1:nb_samples\n",
    "\n",
    "    id, t = @timed sample_pdpp(V)\n",
    "    e = collect(edges(meta_g))\n",
    "    subgraph,_ = induced_subgraph(meta_g, e[id])\n",
    "\n",
    "    nb_edges[i_sample] = ne(subgraph)\n",
    "    cc = connected_components(subgraph)\n",
    "\n",
    "    nb_cc[i_sample] = length(cc)\n",
    "\n",
    "    cc = [induced_subgraph(subgraph, cc)[1] for cc in connected_components(subgraph)]\n",
    "\n",
    "    temp_cc_with_1_cycle = 0\n",
    "    temp_cc_with_0_cycle = 0\n",
    "    temp_cc_with_more_than_1_cycle = 0\n",
    "\n",
    "    for i in cc\n",
    "        l = length(cycle_basis(i))\n",
    "        if l == 1\n",
    "            temp_cc_with_1_cycle += 1\n",
    "        elseif l == 0\n",
    "            temp_cc_with_0_cycle += 1\n",
    "        else\n",
    "            temp_cc_with_more_than_1_cycle += 1\n",
    "        end\n",
    "    end\n",
    "\n",
    "    cc_with_1_cycle[i_sample] = temp_cc_with_1_cycle\n",
    "    cc_with_0_cycle[i_sample] = temp_cc_with_0_cycle\n",
    "    cc_with_more_than_1_cycle[i_sample] = temp_cc_with_more_than_1_cycle\n",
    "\n",
    "    time_hkpv[i_sample] = t\n",
    "    mtsf, t_mtsf = @timed multi_type_spanning_forest(rng, meta_g, q)\n",
    "    time_mtsf[i_sample] = t_mtsf\n",
    "\n",
    "end    \n",
    "\n",
    "println(cc_with_1_cycle)\n",
    "println(cc_with_0_cycle)\n",
    "println(cc_with_more_than_1_cycle)\n",
    "println(\" \")\n",
    "println([mean(time_hkpv) mean(time_mtsf)])"
   ]
  },
  {
   "cell_type": "code",
   "execution_count": 9,
   "metadata": {},
   "outputs": [
    {
     "data": {
      "application/vnd.plotly.v1+json": {
       "config": {
        "editable": false,
        "responsive": true,
        "scrollZoom": true,
        "showLink": false,
        "staticPlot": false
       },
       "data": [
        {
         "histnorm": "probability density",
         "type": "histogram",
         "x": [
          "0",
          "0",
          "0",
          "0",
          "0",
          "0",
          "0",
          "0",
          "0",
          "0",
          "0",
          "0",
          "0",
          "0",
          "0",
          "0",
          "1",
          "1",
          "1",
          "1",
          "1",
          "1",
          "1",
          "1",
          "1",
          "1",
          "1",
          "1",
          "1",
          "1",
          "1",
          "1",
          "1",
          "1",
          "1",
          "1",
          "1",
          "1",
          "1",
          "1",
          "1",
          "1",
          "1",
          "1",
          "1",
          "1",
          "1",
          "1",
          "1",
          "1",
          "1",
          "1",
          "1",
          "1",
          "1",
          "1",
          "1",
          "1",
          "1",
          "1",
          "1",
          "1",
          "1",
          "1",
          "1",
          "1",
          "1",
          "1",
          "1",
          "1",
          "1",
          "1",
          "1",
          "1",
          "1",
          "1",
          "1",
          "1",
          "1",
          "1",
          "1",
          "1",
          "1",
          "1",
          "2",
          "2",
          "2",
          "2",
          "2",
          "2",
          "2",
          "2",
          "2",
          "2",
          "2",
          "2",
          "2",
          "2",
          "2",
          "3"
         ]
        }
       ],
       "frames": [],
       "layout": {
        "autosize": false,
        "font": {
         "size": 35
        },
        "height": 200,
        "margin": {
         "b": 1,
         "l": 1,
         "pad": 4,
         "r": 1,
         "t": 1
        },
        "template": {
         "data": {
          "bar": [
           {
            "error_x": {
             "color": "#2a3f5f"
            },
            "error_y": {
             "color": "#2a3f5f"
            },
            "marker": {
             "line": {
              "color": "#E5ECF6",
              "width": 0.5
             }
            },
            "type": "bar"
           }
          ],
          "barpolar": [
           {
            "marker": {
             "line": {
              "color": "#E5ECF6",
              "width": 0.5
             }
            },
            "type": "barpolar"
           }
          ],
          "carpet": [
           {
            "aaxis": {
             "endlinecolor": "#2a3f5f",
             "gridcolor": "white",
             "linecolor": "white",
             "minorgridcolor": "white",
             "startlinecolor": "#2a3f5f"
            },
            "baxis": {
             "endlinecolor": "#2a3f5f",
             "gridcolor": "white",
             "linecolor": "white",
             "minorgridcolor": "white",
             "startlinecolor": "#2a3f5f"
            },
            "type": "carpet"
           }
          ],
          "choropleth": [
           {
            "colorbar": {
             "outlinewidth": 0,
             "ticks": ""
            },
            "type": "choropleth"
           }
          ],
          "contour": [
           {
            "colorbar": {
             "outlinewidth": 0,
             "ticks": ""
            },
            "colorscale": [
             [
              0,
              "#0d0887"
             ],
             [
              0.1111111111111111,
              "#46039f"
             ],
             [
              0.2222222222222222,
              "#7201a8"
             ],
             [
              0.3333333333333333,
              "#9c179e"
             ],
             [
              0.4444444444444444,
              "#bd3786"
             ],
             [
              0.5555555555555556,
              "#d8576b"
             ],
             [
              0.6666666666666666,
              "#ed7953"
             ],
             [
              0.7777777777777778,
              "#fb9f3a"
             ],
             [
              0.8888888888888888,
              "#fdca26"
             ],
             [
              1,
              "#f0f921"
             ]
            ],
            "type": "contour"
           }
          ],
          "contourcarpet": [
           {
            "colorbar": {
             "outlinewidth": 0,
             "ticks": ""
            },
            "type": "contourcarpet"
           }
          ],
          "heatmap": [
           {
            "colorbar": {
             "outlinewidth": 0,
             "ticks": ""
            },
            "colorscale": [
             [
              0,
              "#0d0887"
             ],
             [
              0.1111111111111111,
              "#46039f"
             ],
             [
              0.2222222222222222,
              "#7201a8"
             ],
             [
              0.3333333333333333,
              "#9c179e"
             ],
             [
              0.4444444444444444,
              "#bd3786"
             ],
             [
              0.5555555555555556,
              "#d8576b"
             ],
             [
              0.6666666666666666,
              "#ed7953"
             ],
             [
              0.7777777777777778,
              "#fb9f3a"
             ],
             [
              0.8888888888888888,
              "#fdca26"
             ],
             [
              1,
              "#f0f921"
             ]
            ],
            "type": "heatmap"
           }
          ],
          "heatmapgl": [
           {
            "colorbar": {
             "outlinewidth": 0,
             "ticks": ""
            },
            "colorscale": [
             [
              0,
              "#0d0887"
             ],
             [
              0.1111111111111111,
              "#46039f"
             ],
             [
              0.2222222222222222,
              "#7201a8"
             ],
             [
              0.3333333333333333,
              "#9c179e"
             ],
             [
              0.4444444444444444,
              "#bd3786"
             ],
             [
              0.5555555555555556,
              "#d8576b"
             ],
             [
              0.6666666666666666,
              "#ed7953"
             ],
             [
              0.7777777777777778,
              "#fb9f3a"
             ],
             [
              0.8888888888888888,
              "#fdca26"
             ],
             [
              1,
              "#f0f921"
             ]
            ],
            "type": "heatmapgl"
           }
          ],
          "histogram": [
           {
            "marker": {
             "colorbar": {
              "outlinewidth": 0,
              "ticks": ""
             }
            },
            "type": "histogram"
           }
          ],
          "histogram2d": [
           {
            "colorbar": {
             "outlinewidth": 0,
             "ticks": ""
            },
            "colorscale": [
             [
              0,
              "#0d0887"
             ],
             [
              0.1111111111111111,
              "#46039f"
             ],
             [
              0.2222222222222222,
              "#7201a8"
             ],
             [
              0.3333333333333333,
              "#9c179e"
             ],
             [
              0.4444444444444444,
              "#bd3786"
             ],
             [
              0.5555555555555556,
              "#d8576b"
             ],
             [
              0.6666666666666666,
              "#ed7953"
             ],
             [
              0.7777777777777778,
              "#fb9f3a"
             ],
             [
              0.8888888888888888,
              "#fdca26"
             ],
             [
              1,
              "#f0f921"
             ]
            ],
            "type": "histogram2d"
           }
          ],
          "histogram2dcontour": [
           {
            "colorbar": {
             "outlinewidth": 0,
             "ticks": ""
            },
            "colorscale": [
             [
              0,
              "#0d0887"
             ],
             [
              0.1111111111111111,
              "#46039f"
             ],
             [
              0.2222222222222222,
              "#7201a8"
             ],
             [
              0.3333333333333333,
              "#9c179e"
             ],
             [
              0.4444444444444444,
              "#bd3786"
             ],
             [
              0.5555555555555556,
              "#d8576b"
             ],
             [
              0.6666666666666666,
              "#ed7953"
             ],
             [
              0.7777777777777778,
              "#fb9f3a"
             ],
             [
              0.8888888888888888,
              "#fdca26"
             ],
             [
              1,
              "#f0f921"
             ]
            ],
            "type": "histogram2dcontour"
           }
          ],
          "mesh3d": [
           {
            "colorbar": {
             "outlinewidth": 0,
             "ticks": ""
            },
            "type": "mesh3d"
           }
          ],
          "parcoords": [
           {
            "line": {
             "colorbar": {
              "outlinewidth": 0,
              "ticks": ""
             }
            },
            "type": "parcoords"
           }
          ],
          "pie": [
           {
            "automargin": true,
            "type": "pie"
           }
          ],
          "scatter": [
           {
            "marker": {
             "colorbar": {
              "outlinewidth": 0,
              "ticks": ""
             }
            },
            "type": "scatter"
           }
          ],
          "scatter3d": [
           {
            "line": {
             "colorbar": {
              "outlinewidth": 0,
              "ticks": ""
             }
            },
            "marker": {
             "colorbar": {
              "outlinewidth": 0,
              "ticks": ""
             }
            },
            "type": "scatter3d"
           }
          ],
          "scattercarpet": [
           {
            "marker": {
             "colorbar": {
              "outlinewidth": 0,
              "ticks": ""
             }
            },
            "type": "scattercarpet"
           }
          ],
          "scattergeo": [
           {
            "marker": {
             "colorbar": {
              "outlinewidth": 0,
              "ticks": ""
             }
            },
            "type": "scattergeo"
           }
          ],
          "scattergl": [
           {
            "marker": {
             "colorbar": {
              "outlinewidth": 0,
              "ticks": ""
             }
            },
            "type": "scattergl"
           }
          ],
          "scattermapbox": [
           {
            "marker": {
             "colorbar": {
              "outlinewidth": 0,
              "ticks": ""
             }
            },
            "type": "scattermapbox"
           }
          ],
          "scatterpolar": [
           {
            "marker": {
             "colorbar": {
              "outlinewidth": 0,
              "ticks": ""
             }
            },
            "type": "scatterpolar"
           }
          ],
          "scatterpolargl": [
           {
            "marker": {
             "colorbar": {
              "outlinewidth": 0,
              "ticks": ""
             }
            },
            "type": "scatterpolargl"
           }
          ],
          "scatterternary": [
           {
            "marker": {
             "colorbar": {
              "outlinewidth": 0,
              "ticks": ""
             }
            },
            "type": "scatterternary"
           }
          ],
          "surface": [
           {
            "colorbar": {
             "outlinewidth": 0,
             "ticks": ""
            },
            "colorscale": [
             [
              0,
              "#0d0887"
             ],
             [
              0.1111111111111111,
              "#46039f"
             ],
             [
              0.2222222222222222,
              "#7201a8"
             ],
             [
              0.3333333333333333,
              "#9c179e"
             ],
             [
              0.4444444444444444,
              "#bd3786"
             ],
             [
              0.5555555555555556,
              "#d8576b"
             ],
             [
              0.6666666666666666,
              "#ed7953"
             ],
             [
              0.7777777777777778,
              "#fb9f3a"
             ],
             [
              0.8888888888888888,
              "#fdca26"
             ],
             [
              1,
              "#f0f921"
             ]
            ],
            "type": "surface"
           }
          ],
          "table": [
           {
            "cells": {
             "fill": {
              "color": "#EBF0F8"
             },
             "line": {
              "color": "white"
             }
            },
            "header": {
             "fill": {
              "color": "#C8D4E3"
             },
             "line": {
              "color": "white"
             }
            },
            "type": "table"
           }
          ]
         },
         "layout": {
          "annotationdefaults": {
           "arrowcolor": "#2a3f5f",
           "arrowhead": 0,
           "arrowwidth": 1
          },
          "autotypenumbers": "strict",
          "coloraxis": {
           "colorbar": {
            "outlinewidth": 0,
            "ticks": ""
           }
          },
          "colorscale": {
           "diverging": [
            [
             0,
             "#8e0152"
            ],
            [
             0.1,
             "#c51b7d"
            ],
            [
             0.2,
             "#de77ae"
            ],
            [
             0.3,
             "#f1b6da"
            ],
            [
             0.4,
             "#fde0ef"
            ],
            [
             0.5,
             "#f7f7f7"
            ],
            [
             0.6,
             "#e6f5d0"
            ],
            [
             0.7,
             "#b8e186"
            ],
            [
             0.8,
             "#7fbc41"
            ],
            [
             0.9,
             "#4d9221"
            ],
            [
             1,
             "#276419"
            ]
           ],
           "sequential": [
            [
             0,
             "#0d0887"
            ],
            [
             0.1111111111111111,
             "#46039f"
            ],
            [
             0.2222222222222222,
             "#7201a8"
            ],
            [
             0.3333333333333333,
             "#9c179e"
            ],
            [
             0.4444444444444444,
             "#bd3786"
            ],
            [
             0.5555555555555556,
             "#d8576b"
            ],
            [
             0.6666666666666666,
             "#ed7953"
            ],
            [
             0.7777777777777778,
             "#fb9f3a"
            ],
            [
             0.8888888888888888,
             "#fdca26"
            ],
            [
             1,
             "#f0f921"
            ]
           ],
           "sequentialminus": [
            [
             0,
             "#0d0887"
            ],
            [
             0.1111111111111111,
             "#46039f"
            ],
            [
             0.2222222222222222,
             "#7201a8"
            ],
            [
             0.3333333333333333,
             "#9c179e"
            ],
            [
             0.4444444444444444,
             "#bd3786"
            ],
            [
             0.5555555555555556,
             "#d8576b"
            ],
            [
             0.6666666666666666,
             "#ed7953"
            ],
            [
             0.7777777777777778,
             "#fb9f3a"
            ],
            [
             0.8888888888888888,
             "#fdca26"
            ],
            [
             1,
             "#f0f921"
            ]
           ]
          },
          "colorway": [
           "#636efa",
           "#EF553B",
           "#00cc96",
           "#ab63fa",
           "#FFA15A",
           "#19d3f3",
           "#FF6692",
           "#B6E880",
           "#FF97FF",
           "#FECB52"
          ],
          "font": {
           "color": "#2a3f5f"
          },
          "geo": {
           "bgcolor": "white",
           "lakecolor": "white",
           "landcolor": "#E5ECF6",
           "showlakes": true,
           "showland": true,
           "subunitcolor": "white"
          },
          "hoverlabel": {
           "align": "left"
          },
          "hovermode": "closest",
          "mapbox": {
           "style": "light"
          },
          "paper_bgcolor": "white",
          "plot_bgcolor": "#E5ECF6",
          "polar": {
           "angularaxis": {
            "gridcolor": "white",
            "linecolor": "white",
            "ticks": ""
           },
           "bgcolor": "#E5ECF6",
           "radialaxis": {
            "gridcolor": "white",
            "linecolor": "white",
            "ticks": ""
           }
          },
          "scene": {
           "xaxis": {
            "backgroundcolor": "#E5ECF6",
            "gridcolor": "white",
            "gridwidth": 2,
            "linecolor": "white",
            "showbackground": true,
            "ticks": "",
            "zerolinecolor": "white"
           },
           "yaxis": {
            "backgroundcolor": "#E5ECF6",
            "gridcolor": "white",
            "gridwidth": 2,
            "linecolor": "white",
            "showbackground": true,
            "ticks": "",
            "zerolinecolor": "white"
           },
           "zaxis": {
            "backgroundcolor": "#E5ECF6",
            "gridcolor": "white",
            "gridwidth": 2,
            "linecolor": "white",
            "showbackground": true,
            "ticks": "",
            "zerolinecolor": "white"
           }
          },
          "shapedefaults": {
           "line": {
            "color": "#2a3f5f"
           }
          },
          "ternary": {
           "aaxis": {
            "gridcolor": "white",
            "linecolor": "white",
            "ticks": ""
           },
           "baxis": {
            "gridcolor": "white",
            "linecolor": "white",
            "ticks": ""
           },
           "bgcolor": "#E5ECF6",
           "caxis": {
            "gridcolor": "white",
            "linecolor": "white",
            "ticks": ""
           }
          },
          "title": {
           "x": 0.05
          },
          "xaxis": {
           "automargin": true,
           "gridcolor": "white",
           "linecolor": "white",
           "ticks": "",
           "title": {
            "standoff": 15
           },
           "zerolinecolor": "white",
           "zerolinewidth": 2
          },
          "yaxis": {
           "automargin": true,
           "gridcolor": "white",
           "linecolor": "white",
           "ticks": "",
           "title": {
            "standoff": 15
           },
           "zerolinecolor": "white",
           "zerolinewidth": 2
          }
         }
        },
        "width": 500,
        "xaxis": {
         "type": "category"
        }
       }
      },
      "image/png": "[encoded data removed]",
      "image/svg+xml": [
       "<svg class=\"main-svg\" xmlns=\"http://www.w3.org/2000/svg\" xmlns:xlink=\"http://www.w3.org/1999/xlink\" width=\"700\" height=\"500\" style=\"\" viewBox=\"0 0 700 500\"><rect x=\"0\" y=\"0\" width=\"700\" height=\"500\" style=\"fill: rgb(255, 255, 255); fill-opacity: 1;\"/><defs id=\"defs-0e2ba0\"><g class=\"clips\"><clipPath id=\"clip0e2ba0xyplot\" class=\"plotclip\"><rect width=\"636\" height=\"438\"/></clipPath><clipPath class=\"axesclip\" id=\"clip0e2ba0x\"><rect x=\"63\" y=\"0\" width=\"636\" height=\"500\"/></clipPath><clipPath class=\"axesclip\" id=\"clip0e2ba0y\"><rect x=\"0\" y=\"13\" width=\"700\" height=\"438\"/></clipPath><clipPath class=\"axesclip\" id=\"clip0e2ba0xy\"><rect x=\"63\" y=\"13\" width=\"636\" height=\"438\"/></clipPath></g><g class=\"gradients\"/></defs><g class=\"bglayer\"><rect class=\"bg\" x=\"59\" y=\"9\" width=\"644\" height=\"446\" style=\"fill: rgb(229, 236, 246); fill-opacity: 1; stroke-width: 0;\"/></g><g class=\"layer-below\"><g class=\"imagelayer\"/><g class=\"shapelayer\"/></g><g class=\"cartesianlayer\"><g class=\"subplot xy\"><g class=\"layer-subplot\"><g class=\"shapelayer\"/><g class=\"imagelayer\"/></g><g class=\"gridlayer\"><g class=\"x\"/><g class=\"y\"><path class=\"ygrid crisp\" transform=\"translate(0,389.81)\" d=\"M63,0h636\" style=\"stroke: rgb(255, 255, 255); stroke-opacity: 1; stroke-width: 1px;\"/><path class=\"ygrid crisp\" transform=\"translate(0,328.62)\" d=\"M63,0h636\" style=\"stroke: rgb(255, 255, 255); stroke-opacity: 1; stroke-width: 1px;\"/><path class=\"ygrid crisp\" transform=\"translate(0,267.43)\" d=\"M63,0h636\" style=\"stroke: rgb(255, 255, 255); stroke-opacity: 1; stroke-width: 1px;\"/><path class=\"ygrid crisp\" transform=\"translate(0,206.24)\" d=\"M63,0h636\" style=\"stroke: rgb(255, 255, 255); stroke-opacity: 1; stroke-width: 1px;\"/><path class=\"ygrid crisp\" transform=\"translate(0,145.04)\" d=\"M63,0h636\" style=\"stroke: rgb(255, 255, 255); stroke-opacity: 1; stroke-width: 1px;\"/><path class=\"ygrid crisp\" transform=\"translate(0,83.85)\" d=\"M63,0h636\" style=\"stroke: rgb(255, 255, 255); stroke-opacity: 1; stroke-width: 1px;\"/><path class=\"ygrid crisp\" transform=\"translate(0,22.66)\" d=\"M63,0h636\" style=\"stroke: rgb(255, 255, 255); stroke-opacity: 1; stroke-width: 1px;\"/></g></g><g class=\"zerolinelayer\"><path class=\"yzl zl crisp\" transform=\"translate(0,451)\" d=\"M63,0h636\" style=\"stroke: rgb(255, 255, 255); stroke-opacity: 1; stroke-width: 2px;\"/></g><path class=\"xlines-below\"/><path class=\"ylines-below\"/><g class=\"overlines-below\"/><g class=\"xaxislayer-below\"/><g class=\"yaxislayer-below\"/><g class=\"overaxes-below\"/><g class=\"plot\" transform=\"translate(63,13)\" clip-path=\"url('#clip0e2ba0xyplot')\"><g class=\"barlayer mlayer\"><g class=\"trace bars\" style=\"opacity: 1;\"><g class=\"points\"><g class=\"point\"><path d=\"M15.9,438V340.09H143.1V438Z\" style=\"vector-effect: non-scaling-stroke; opacity: 1; stroke-width: 0px; fill: rgb(99, 110, 250); fill-opacity: 1;\"/></g><g class=\"point\"><path d=\"M174.9,438V21.9H302.1V438Z\" style=\"vector-effect: non-scaling-stroke; opacity: 1; stroke-width: 0px; fill: rgb(99, 110, 250); fill-opacity: 1;\"/></g><g class=\"point\"><path d=\"M333.9,438V346.21H461.1V438Z\" style=\"vector-effect: non-scaling-stroke; opacity: 1; stroke-width: 0px; fill: rgb(99, 110, 250); fill-opacity: 1;\"/></g><g class=\"point\"><path d=\"M492.9,438V431.88H620.1V438Z\" style=\"vector-effect: non-scaling-stroke; opacity: 1; stroke-width: 0px; fill: rgb(99, 110, 250); fill-opacity: 1;\"/></g></g></g></g></g><g class=\"overplot\"/><path class=\"xlines-above crisp\" d=\"M0,0\" style=\"fill: none;\"/><path class=\"ylines-above crisp\" d=\"M0,0\" style=\"fill: none;\"/><g class=\"overlines-above\"/><g class=\"xaxislayer-above\"><g class=\"xtick\"><text text-anchor=\"middle\" x=\"0\" y=\"491\" transform=\"translate(142.5,0)\" style=\"font-family: 'Open Sans', verdana, arial, sans-serif; font-size: 35px; fill: rgb(42, 63, 95); fill-opacity: 1; white-space: pre;\">0</text></g><g class=\"xtick\"><text text-anchor=\"middle\" x=\"0\" y=\"491\" transform=\"translate(301.5,0)\" style=\"font-family: 'Open Sans', verdana, arial, sans-serif; font-size: 35px; fill: rgb(42, 63, 95); fill-opacity: 1; white-space: pre;\">1</text></g><g class=\"xtick\"><text text-anchor=\"middle\" x=\"0\" y=\"491\" transform=\"translate(460.5,0)\" style=\"font-family: 'Open Sans', verdana, arial, sans-serif; font-size: 35px; fill: rgb(42, 63, 95); fill-opacity: 1; white-space: pre;\">2</text></g><g class=\"xtick\"><text text-anchor=\"middle\" x=\"0\" y=\"491\" transform=\"translate(619.5,0)\" style=\"font-family: 'Open Sans', verdana, arial, sans-serif; font-size: 35px; fill: rgb(42, 63, 95); fill-opacity: 1; white-space: pre;\">3</text></g></g><g class=\"yaxislayer-above\"><g class=\"ytick\"><text text-anchor=\"end\" x=\"58\" y=\"12.25\" transform=\"translate(0,451)\" style=\"font-family: 'Open Sans', verdana, arial, sans-serif; font-size: 35px; fill: rgb(42, 63, 95); fill-opacity: 1; white-space: pre;\">0</text></g><g class=\"ytick\"><text text-anchor=\"end\" x=\"58\" y=\"12.25\" transform=\"translate(0,389.81)\" style=\"font-family: 'Open Sans', verdana, arial, sans-serif; font-size: 35px; fill: rgb(42, 63, 95); fill-opacity: 1; white-space: pre;\">0.1</text></g><g class=\"ytick\"><text text-anchor=\"end\" x=\"58\" y=\"12.25\" transform=\"translate(0,328.62)\" style=\"font-family: 'Open Sans', verdana, arial, sans-serif; font-size: 35px; fill: rgb(42, 63, 95); fill-opacity: 1; white-space: pre;\">0.2</text></g><g class=\"ytick\"><text text-anchor=\"end\" x=\"58\" y=\"12.25\" transform=\"translate(0,267.43)\" style=\"font-family: 'Open Sans', verdana, arial, sans-serif; font-size: 35px; fill: rgb(42, 63, 95); fill-opacity: 1; white-space: pre;\">0.3</text></g><g class=\"ytick\"><text text-anchor=\"end\" x=\"58\" y=\"12.25\" transform=\"translate(0,206.24)\" style=\"font-family: 'Open Sans', verdana, arial, sans-serif; font-size: 35px; fill: rgb(42, 63, 95); fill-opacity: 1; white-space: pre;\">0.4</text></g><g class=\"ytick\"><text text-anchor=\"end\" x=\"58\" y=\"12.25\" transform=\"translate(0,145.04)\" style=\"font-family: 'Open Sans', verdana, arial, sans-serif; font-size: 35px; fill: rgb(42, 63, 95); fill-opacity: 1; white-space: pre;\">0.5</text></g><g class=\"ytick\"><text text-anchor=\"end\" x=\"58\" y=\"12.25\" transform=\"translate(0,83.85)\" style=\"font-family: 'Open Sans', verdana, arial, sans-serif; font-size: 35px; fill: rgb(42, 63, 95); fill-opacity: 1; white-space: pre;\">0.6</text></g><g class=\"ytick\"><text text-anchor=\"end\" x=\"58\" y=\"12.25\" transform=\"translate(0,22.66)\" style=\"font-family: 'Open Sans', verdana, arial, sans-serif; font-size: 35px; fill: rgb(42, 63, 95); fill-opacity: 1; white-space: pre;\">0.7</text></g></g><g class=\"overaxes-above\"/></g></g><g class=\"polarlayer\"/><g class=\"ternarylayer\"/><g class=\"geolayer\"/><g class=\"funnelarealayer\"/><g class=\"pielayer\"/><g class=\"treemaplayer\"/><g class=\"sunburstlayer\"/><g class=\"glimages\"/><defs id=\"topdefs-0e2ba0\"><g class=\"clips\"/></defs><g class=\"layer-above\"><g class=\"imagelayer\"/><g class=\"shapelayer\"/></g><g class=\"infolayer\"><g class=\"g-gtitle\"/><g class=\"g-xtitle\"/><g class=\"g-ytitle\"/></g></svg>"
      ],
      "text/html": [
       "<div\n",
       "    class=\"webio-mountpoint\"\n",
       "    data-webio-mountpoint=\"17861952104704504839\"\n",
       ">\n",
       "    <script>\n",
       "    (function(){\n",
       "    // Some integrations (namely, IJulia/Jupyter) use an alternate render pathway than\n",
       "    // just putting the html on the page. If WebIO isn't defined, then it's pretty likely\n",
       "    // that we're in one of those situations and the integration just isn't installed\n",
       "    // correctly.\n",
       "    if (typeof window.WebIO === \"undefined\") {\n",
       "        document\n",
       "            .querySelector('[data-webio-mountpoint=\"17861952104704504839\"]')\n",
       "            .innerHTML = (\n",
       "                '<div style=\"padding: 1em; background-color: #f8d6da; border: 1px solid #f5c6cb; font-weight: bold;\">' +\n",
       "                '<p><strong>WebIO not detected.</strong></p>' +\n",
       "                '<p>Please read ' +\n",
       "                '<a href=\"https://juliagizmos.github.io/WebIO.jl/latest/troubleshooting/not-detected/\" target=\"_blank\">the troubleshooting guide</a> ' +\n",
       "                'for more information on how to resolve this issue.</p>' +\n",
       "                '<p><a href=\"https://juliagizmos.github.io/WebIO.jl/latest/troubleshooting/not-detected/\" target=\"_blank\">https://juliagizmos.github.io/WebIO.jl/latest/troubleshooting/not-detected/</a></p>' +\n",
       "                '</div>'\n",
       "            );\n",
       "        return;\n",
       "    }\n",
       "    WebIO.mount(\n",
       "        document.querySelector('[data-webio-mountpoint=\"17861952104704504839\"]'),\n",
       "        {\"props\":{},\"nodeType\":\"Scope\",\"type\":\"node\",\"instanceArgs\":{\"imports\":{\"data\":[{\"name\":\"Plotly\",\"type\":\"js\",\"url\":\"\\/assetserver\\/6ce5a5e5b28ac6ffdcfcd49d44ebd4d6dbe36ed4-plotly.min.js\"},{\"name\":null,\"type\":\"js\",\"url\":\"\\/assetserver\\/6f85150d15f92ccf38dc2254479a8612ce6d040e-plotly_webio.bundle.js\"}],\"type\":\"async_block\"},\"id\":\"15484735260957235017\",\"handlers\":{\"_toImage\":[\"(function (options){return this.Plotly.toImage(this.plotElem,options).then((function (data){return WebIO.setval({\\\"name\\\":\\\"image\\\",\\\"scope\\\":\\\"15484735260957235017\\\",\\\"id\\\":\\\"35\\\",\\\"type\\\":\\\"observable\\\"},data)}))})\"],\"__get_gd_contents\":[\"(function (prop){prop==\\\"data\\\" ? (WebIO.setval({\\\"name\\\":\\\"__gd_contents\\\",\\\"scope\\\":\\\"15484735260957235017\\\",\\\"id\\\":\\\"36\\\",\\\"type\\\":\\\"observable\\\"},this.plotElem.data)) : undefined; return prop==\\\"layout\\\" ? (WebIO.setval({\\\"name\\\":\\\"__gd_contents\\\",\\\"scope\\\":\\\"15484735260957235017\\\",\\\"id\\\":\\\"36\\\",\\\"type\\\":\\\"observable\\\"},this.plotElem.layout)) : undefined})\"],\"_downloadImage\":[\"(function (options){return this.Plotly.downloadImage(this.plotElem,options)})\"],\"_commands\":[\"(function (args){var fn=args.shift(); var elem=this.plotElem; var Plotly=this.Plotly; args.unshift(elem); return Plotly[fn].apply(this,args)})\"]},\"systemjs_options\":null,\"mount_callbacks\":[\"function () {\\n    var handler = ((function (Plotly,PlotlyWebIO){PlotlyWebIO.init(WebIO); var gd=this.dom.querySelector(\\\"#plot-a66000d0-28ee-4e4a-b9d1-d2940651ec72\\\"); this.plotElem=gd; this.Plotly=Plotly; (window.Blink!==undefined) ? (gd.style.width=\\\"100%\\\", gd.style.height=\\\"100vh\\\", gd.style.marginLeft=\\\"0%\\\", gd.style.marginTop=\\\"0vh\\\") : undefined; window.onresize=(function (){return Plotly.Plots.resize(gd)}); Plotly.newPlot(gd,[{\\\"type\\\":\\\"histogram\\\",\\\"histnorm\\\":\\\"probability density\\\",\\\"x\\\":[\\\"0\\\",\\\"0\\\",\\\"0\\\",\\\"0\\\",\\\"0\\\",\\\"0\\\",\\\"0\\\",\\\"0\\\",\\\"0\\\",\\\"0\\\",\\\"0\\\",\\\"0\\\",\\\"0\\\",\\\"0\\\",\\\"0\\\",\\\"0\\\",\\\"1\\\",\\\"1\\\",\\\"1\\\",\\\"1\\\",\\\"1\\\",\\\"1\\\",\\\"1\\\",\\\"1\\\",\\\"1\\\",\\\"1\\\",\\\"1\\\",\\\"1\\\",\\\"1\\\",\\\"1\\\",\\\"1\\\",\\\"1\\\",\\\"1\\\",\\\"1\\\",\\\"1\\\",\\\"1\\\",\\\"1\\\",\\\"1\\\",\\\"1\\\",\\\"1\\\",\\\"1\\\",\\\"1\\\",\\\"1\\\",\\\"1\\\",\\\"1\\\",\\\"1\\\",\\\"1\\\",\\\"1\\\",\\\"1\\\",\\\"1\\\",\\\"1\\\",\\\"1\\\",\\\"1\\\",\\\"1\\\",\\\"1\\\",\\\"1\\\",\\\"1\\\",\\\"1\\\",\\\"1\\\",\\\"1\\\",\\\"1\\\",\\\"1\\\",\\\"1\\\",\\\"1\\\",\\\"1\\\",\\\"1\\\",\\\"1\\\",\\\"1\\\",\\\"1\\\",\\\"1\\\",\\\"1\\\",\\\"1\\\",\\\"1\\\",\\\"1\\\",\\\"1\\\",\\\"1\\\",\\\"1\\\",\\\"1\\\",\\\"1\\\",\\\"1\\\",\\\"1\\\",\\\"1\\\",\\\"1\\\",\\\"1\\\",\\\"2\\\",\\\"2\\\",\\\"2\\\",\\\"2\\\",\\\"2\\\",\\\"2\\\",\\\"2\\\",\\\"2\\\",\\\"2\\\",\\\"2\\\",\\\"2\\\",\\\"2\\\",\\\"2\\\",\\\"2\\\",\\\"2\\\",\\\"3\\\"]}],{\\\"autosize\\\":false,\\\"xaxis\\\":{\\\"type\\\":\\\"category\\\"},\\\"font\\\":{\\\"size\\\":35},\\\"template\\\":{\\\"layout\\\":{\\\"coloraxis\\\":{\\\"colorbar\\\":{\\\"ticks\\\":\\\"\\\",\\\"outlinewidth\\\":0}},\\\"xaxis\\\":{\\\"gridcolor\\\":\\\"white\\\",\\\"zerolinewidth\\\":2,\\\"title\\\":{\\\"standoff\\\":15},\\\"ticks\\\":\\\"\\\",\\\"zerolinecolor\\\":\\\"white\\\",\\\"automargin\\\":true,\\\"linecolor\\\":\\\"white\\\"},\\\"hovermode\\\":\\\"closest\\\",\\\"paper_bgcolor\\\":\\\"white\\\",\\\"geo\\\":{\\\"showlakes\\\":true,\\\"showland\\\":true,\\\"landcolor\\\":\\\"#E5ECF6\\\",\\\"bgcolor\\\":\\\"white\\\",\\\"subunitcolor\\\":\\\"white\\\",\\\"lakecolor\\\":\\\"white\\\"},\\\"colorscale\\\":{\\\"sequential\\\":[[0.0,\\\"#0d0887\\\"],[0.1111111111111111,\\\"#46039f\\\"],[0.2222222222222222,\\\"#7201a8\\\"],[0.3333333333333333,\\\"#9c179e\\\"],[0.4444444444444444,\\\"#bd3786\\\"],[0.5555555555555556,\\\"#d8576b\\\"],[0.6666666666666666,\\\"#ed7953\\\"],[0.7777777777777778,\\\"#fb9f3a\\\"],[0.8888888888888888,\\\"#fdca26\\\"],[1.0,\\\"#f0f921\\\"]],\\\"diverging\\\":[[0,\\\"#8e0152\\\"],[0.1,\\\"#c51b7d\\\"],[0.2,\\\"#de77ae\\\"],[0.3,\\\"#f1b6da\\\"],[0.4,\\\"#fde0ef\\\"],[0.5,\\\"#f7f7f7\\\"],[0.6,\\\"#e6f5d0\\\"],[0.7,\\\"#b8e186\\\"],[0.8,\\\"#7fbc41\\\"],[0.9,\\\"#4d9221\\\"],[1,\\\"#276419\\\"]],\\\"sequentialminus\\\":[[0.0,\\\"#0d0887\\\"],[0.1111111111111111,\\\"#46039f\\\"],[0.2222222222222222,\\\"#7201a8\\\"],[0.3333333333333333,\\\"#9c179e\\\"],[0.4444444444444444,\\\"#bd3786\\\"],[0.5555555555555556,\\\"#d8576b\\\"],[0.6666666666666666,\\\"#ed7953\\\"],[0.7777777777777778,\\\"#fb9f3a\\\"],[0.8888888888888888,\\\"#fdca26\\\"],[1.0,\\\"#f0f921\\\"]]},\\\"yaxis\\\":{\\\"gridcolor\\\":\\\"white\\\",\\\"zerolinewidth\\\":2,\\\"title\\\":{\\\"standoff\\\":15},\\\"ticks\\\":\\\"\\\",\\\"zerolinecolor\\\":\\\"white\\\",\\\"automargin\\\":true,\\\"linecolor\\\":\\\"white\\\"},\\\"shapedefaults\\\":{\\\"line\\\":{\\\"color\\\":\\\"#2a3f5f\\\"}},\\\"hoverlabel\\\":{\\\"align\\\":\\\"left\\\"},\\\"mapbox\\\":{\\\"style\\\":\\\"light\\\"},\\\"polar\\\":{\\\"angularaxis\\\":{\\\"gridcolor\\\":\\\"white\\\",\\\"ticks\\\":\\\"\\\",\\\"linecolor\\\":\\\"white\\\"},\\\"bgcolor\\\":\\\"#E5ECF6\\\",\\\"radialaxis\\\":{\\\"gridcolor\\\":\\\"white\\\",\\\"ticks\\\":\\\"\\\",\\\"linecolor\\\":\\\"white\\\"}},\\\"autotypenumbers\\\":\\\"strict\\\",\\\"font\\\":{\\\"color\\\":\\\"#2a3f5f\\\"},\\\"ternary\\\":{\\\"baxis\\\":{\\\"gridcolor\\\":\\\"white\\\",\\\"ticks\\\":\\\"\\\",\\\"linecolor\\\":\\\"white\\\"},\\\"bgcolor\\\":\\\"#E5ECF6\\\",\\\"caxis\\\":{\\\"gridcolor\\\":\\\"white\\\",\\\"ticks\\\":\\\"\\\",\\\"linecolor\\\":\\\"white\\\"},\\\"aaxis\\\":{\\\"gridcolor\\\":\\\"white\\\",\\\"ticks\\\":\\\"\\\",\\\"linecolor\\\":\\\"white\\\"}},\\\"annotationdefaults\\\":{\\\"arrowhead\\\":0,\\\"arrowwidth\\\":1,\\\"arrowcolor\\\":\\\"#2a3f5f\\\"},\\\"plot_bgcolor\\\":\\\"#E5ECF6\\\",\\\"title\\\":{\\\"x\\\":0.05},\\\"scene\\\":{\\\"xaxis\\\":{\\\"gridcolor\\\":\\\"white\\\",\\\"gridwidth\\\":2,\\\"backgroundcolor\\\":\\\"#E5ECF6\\\",\\\"ticks\\\":\\\"\\\",\\\"showbackground\\\":true,\\\"zerolinecolor\\\":\\\"white\\\",\\\"linecolor\\\":\\\"white\\\"},\\\"zaxis\\\":{\\\"gridcolor\\\":\\\"white\\\",\\\"gridwidth\\\":2,\\\"backgroundcolor\\\":\\\"#E5ECF6\\\",\\\"ticks\\\":\\\"\\\",\\\"showbackground\\\":true,\\\"zerolinecolor\\\":\\\"white\\\",\\\"linecolor\\\":\\\"white\\\"},\\\"yaxis\\\":{\\\"gridcolor\\\":\\\"white\\\",\\\"gridwidth\\\":2,\\\"backgroundcolor\\\":\\\"#E5ECF6\\\",\\\"ticks\\\":\\\"\\\",\\\"showbackground\\\":true,\\\"zerolinecolor\\\":\\\"white\\\",\\\"linecolor\\\":\\\"white\\\"}},\\\"colorway\\\":[\\\"#636efa\\\",\\\"#EF553B\\\",\\\"#00cc96\\\",\\\"#ab63fa\\\",\\\"#FFA15A\\\",\\\"#19d3f3\\\",\\\"#FF6692\\\",\\\"#B6E880\\\",\\\"#FF97FF\\\",\\\"#FECB52\\\"]},\\\"data\\\":{\\\"barpolar\\\":[{\\\"type\\\":\\\"barpolar\\\",\\\"marker\\\":{\\\"line\\\":{\\\"color\\\":\\\"#E5ECF6\\\",\\\"width\\\":0.5}}}],\\\"carpet\\\":[{\\\"aaxis\\\":{\\\"gridcolor\\\":\\\"white\\\",\\\"endlinecolor\\\":\\\"#2a3f5f\\\",\\\"minorgridcolor\\\":\\\"white\\\",\\\"startlinecolor\\\":\\\"#2a3f5f\\\",\\\"linecolor\\\":\\\"white\\\"},\\\"type\\\":\\\"carpet\\\",\\\"baxis\\\":{\\\"gridcolor\\\":\\\"white\\\",\\\"endlinecolor\\\":\\\"#2a3f5f\\\",\\\"minorgridcolor\\\":\\\"white\\\",\\\"startlinecolor\\\":\\\"#2a3f5f\\\",\\\"linecolor\\\":\\\"white\\\"}}],\\\"scatterpolar\\\":[{\\\"type\\\":\\\"scatterpolar\\\",\\\"marker\\\":{\\\"colorbar\\\":{\\\"ticks\\\":\\\"\\\",\\\"outlinewidth\\\":0}}}],\\\"parcoords\\\":[{\\\"line\\\":{\\\"colorbar\\\":{\\\"ticks\\\":\\\"\\\",\\\"outlinewidth\\\":0}},\\\"type\\\":\\\"parcoords\\\"}],\\\"scatter\\\":[{\\\"type\\\":\\\"scatter\\\",\\\"marker\\\":{\\\"colorbar\\\":{\\\"ticks\\\":\\\"\\\",\\\"outlinewidth\\\":0}}}],\\\"histogram2dcontour\\\":[{\\\"colorbar\\\":{\\\"ticks\\\":\\\"\\\",\\\"outlinewidth\\\":0},\\\"type\\\":\\\"histogram2dcontour\\\",\\\"colorscale\\\":[[0.0,\\\"#0d0887\\\"],[0.1111111111111111,\\\"#46039f\\\"],[0.2222222222222222,\\\"#7201a8\\\"],[0.3333333333333333,\\\"#9c179e\\\"],[0.4444444444444444,\\\"#bd3786\\\"],[0.5555555555555556,\\\"#d8576b\\\"],[0.6666666666666666,\\\"#ed7953\\\"],[0.7777777777777778,\\\"#fb9f3a\\\"],[0.8888888888888888,\\\"#fdca26\\\"],[1.0,\\\"#f0f921\\\"]]}],\\\"contour\\\":[{\\\"colorbar\\\":{\\\"ticks\\\":\\\"\\\",\\\"outlinewidth\\\":0},\\\"type\\\":\\\"contour\\\",\\\"colorscale\\\":[[0.0,\\\"#0d0887\\\"],[0.1111111111111111,\\\"#46039f\\\"],[0.2222222222222222,\\\"#7201a8\\\"],[0.3333333333333333,\\\"#9c179e\\\"],[0.4444444444444444,\\\"#bd3786\\\"],[0.5555555555555556,\\\"#d8576b\\\"],[0.6666666666666666,\\\"#ed7953\\\"],[0.7777777777777778,\\\"#fb9f3a\\\"],[0.8888888888888888,\\\"#fdca26\\\"],[1.0,\\\"#f0f921\\\"]]}],\\\"scattercarpet\\\":[{\\\"type\\\":\\\"scattercarpet\\\",\\\"marker\\\":{\\\"colorbar\\\":{\\\"ticks\\\":\\\"\\\",\\\"outlinewidth\\\":0}}}],\\\"mesh3d\\\":[{\\\"colorbar\\\":{\\\"ticks\\\":\\\"\\\",\\\"outlinewidth\\\":0},\\\"type\\\":\\\"mesh3d\\\"}],\\\"surface\\\":[{\\\"colorbar\\\":{\\\"ticks\\\":\\\"\\\",\\\"outlinewidth\\\":0},\\\"type\\\":\\\"surface\\\",\\\"colorscale\\\":[[0.0,\\\"#0d0887\\\"],[0.1111111111111111,\\\"#46039f\\\"],[0.2222222222222222,\\\"#7201a8\\\"],[0.3333333333333333,\\\"#9c179e\\\"],[0.4444444444444444,\\\"#bd3786\\\"],[0.5555555555555556,\\\"#d8576b\\\"],[0.6666666666666666,\\\"#ed7953\\\"],[0.7777777777777778,\\\"#fb9f3a\\\"],[0.8888888888888888,\\\"#fdca26\\\"],[1.0,\\\"#f0f921\\\"]]}],\\\"scattermapbox\\\":[{\\\"type\\\":\\\"scattermapbox\\\",\\\"marker\\\":{\\\"colorbar\\\":{\\\"ticks\\\":\\\"\\\",\\\"outlinewidth\\\":0}}}],\\\"scattergeo\\\":[{\\\"type\\\":\\\"scattergeo\\\",\\\"marker\\\":{\\\"colorbar\\\":{\\\"ticks\\\":\\\"\\\",\\\"outlinewidth\\\":0}}}],\\\"histogram\\\":[{\\\"type\\\":\\\"histogram\\\",\\\"marker\\\":{\\\"colorbar\\\":{\\\"ticks\\\":\\\"\\\",\\\"outlinewidth\\\":0}}}],\\\"pie\\\":[{\\\"type\\\":\\\"pie\\\",\\\"automargin\\\":true}],\\\"choropleth\\\":[{\\\"colorbar\\\":{\\\"ticks\\\":\\\"\\\",\\\"outlinewidth\\\":0},\\\"type\\\":\\\"choropleth\\\"}],\\\"heatmapgl\\\":[{\\\"colorbar\\\":{\\\"ticks\\\":\\\"\\\",\\\"outlinewidth\\\":0},\\\"type\\\":\\\"heatmapgl\\\",\\\"colorscale\\\":[[0.0,\\\"#0d0887\\\"],[0.1111111111111111,\\\"#46039f\\\"],[0.2222222222222222,\\\"#7201a8\\\"],[0.3333333333333333,\\\"#9c179e\\\"],[0.4444444444444444,\\\"#bd3786\\\"],[0.5555555555555556,\\\"#d8576b\\\"],[0.6666666666666666,\\\"#ed7953\\\"],[0.7777777777777778,\\\"#fb9f3a\\\"],[0.8888888888888888,\\\"#fdca26\\\"],[1.0,\\\"#f0f921\\\"]]}],\\\"bar\\\":[{\\\"type\\\":\\\"bar\\\",\\\"error_y\\\":{\\\"color\\\":\\\"#2a3f5f\\\"},\\\"error_x\\\":{\\\"color\\\":\\\"#2a3f5f\\\"},\\\"marker\\\":{\\\"line\\\":{\\\"color\\\":\\\"#E5ECF6\\\",\\\"width\\\":0.5}}}],\\\"heatmap\\\":[{\\\"colorbar\\\":{\\\"ticks\\\":\\\"\\\",\\\"outlinewidth\\\":0},\\\"type\\\":\\\"heatmap\\\",\\\"colorscale\\\":[[0.0,\\\"#0d0887\\\"],[0.1111111111111111,\\\"#46039f\\\"],[0.2222222222222222,\\\"#7201a8\\\"],[0.3333333333333333,\\\"#9c179e\\\"],[0.4444444444444444,\\\"#bd3786\\\"],[0.5555555555555556,\\\"#d8576b\\\"],[0.6666666666666666,\\\"#ed7953\\\"],[0.7777777777777778,\\\"#fb9f3a\\\"],[0.8888888888888888,\\\"#fdca26\\\"],[1.0,\\\"#f0f921\\\"]]}],\\\"contourcarpet\\\":[{\\\"colorbar\\\":{\\\"ticks\\\":\\\"\\\",\\\"outlinewidth\\\":0},\\\"type\\\":\\\"contourcarpet\\\"}],\\\"table\\\":[{\\\"type\\\":\\\"table\\\",\\\"header\\\":{\\\"line\\\":{\\\"color\\\":\\\"white\\\"},\\\"fill\\\":{\\\"color\\\":\\\"#C8D4E3\\\"}},\\\"cells\\\":{\\\"line\\\":{\\\"color\\\":\\\"white\\\"},\\\"fill\\\":{\\\"color\\\":\\\"#EBF0F8\\\"}}}],\\\"scatter3d\\\":[{\\\"line\\\":{\\\"colorbar\\\":{\\\"ticks\\\":\\\"\\\",\\\"outlinewidth\\\":0}},\\\"type\\\":\\\"scatter3d\\\",\\\"marker\\\":{\\\"colorbar\\\":{\\\"ticks\\\":\\\"\\\",\\\"outlinewidth\\\":0}}}],\\\"scattergl\\\":[{\\\"type\\\":\\\"scattergl\\\",\\\"marker\\\":{\\\"colorbar\\\":{\\\"ticks\\\":\\\"\\\",\\\"outlinewidth\\\":0}}}],\\\"histogram2d\\\":[{\\\"colorbar\\\":{\\\"ticks\\\":\\\"\\\",\\\"outlinewidth\\\":0},\\\"type\\\":\\\"histogram2d\\\",\\\"colorscale\\\":[[0.0,\\\"#0d0887\\\"],[0.1111111111111111,\\\"#46039f\\\"],[0.2222222222222222,\\\"#7201a8\\\"],[0.3333333333333333,\\\"#9c179e\\\"],[0.4444444444444444,\\\"#bd3786\\\"],[0.5555555555555556,\\\"#d8576b\\\"],[0.6666666666666666,\\\"#ed7953\\\"],[0.7777777777777778,\\\"#fb9f3a\\\"],[0.8888888888888888,\\\"#fdca26\\\"],[1.0,\\\"#f0f921\\\"]]}],\\\"scatterternary\\\":[{\\\"type\\\":\\\"scatterternary\\\",\\\"marker\\\":{\\\"colorbar\\\":{\\\"ticks\\\":\\\"\\\",\\\"outlinewidth\\\":0}}}],\\\"scatterpolargl\\\":[{\\\"type\\\":\\\"scatterpolargl\\\",\\\"marker\\\":{\\\"colorbar\\\":{\\\"ticks\\\":\\\"\\\",\\\"outlinewidth\\\":0}}}]}},\\\"height\\\":200,\\\"margin\\\":{\\\"l\\\":1,\\\"b\\\":1,\\\"pad\\\":4,\\\"r\\\":1,\\\"t\\\":1},\\\"width\\\":500},{\\\"showLink\\\":false,\\\"editable\\\":false,\\\"responsive\\\":true,\\\"staticPlot\\\":false,\\\"scrollZoom\\\":true}); gd.on(\\\"plotly_hover\\\",(function (data){var filtered_data=WebIO.PlotlyCommands.filterEventData(gd,data,\\\"hover\\\"); return !(filtered_data.isnil) ? (WebIO.setval({\\\"name\\\":\\\"hover\\\",\\\"scope\\\":\\\"15484735260957235017\\\",\\\"id\\\":\\\"31\\\",\\\"type\\\":\\\"observable\\\"},filtered_data.out)) : undefined})); gd.on(\\\"plotly_unhover\\\",(function (){return WebIO.setval({\\\"name\\\":\\\"hover\\\",\\\"scope\\\":\\\"15484735260957235017\\\",\\\"id\\\":\\\"31\\\",\\\"type\\\":\\\"observable\\\"},{})})); gd.on(\\\"plotly_selected\\\",(function (data){var filtered_data=WebIO.PlotlyCommands.filterEventData(gd,data,\\\"selected\\\"); return !(filtered_data.isnil) ? (WebIO.setval({\\\"name\\\":\\\"selected\\\",\\\"scope\\\":\\\"15484735260957235017\\\",\\\"id\\\":\\\"32\\\",\\\"type\\\":\\\"observable\\\"},filtered_data.out)) : undefined})); gd.on(\\\"plotly_deselect\\\",(function (){return WebIO.setval({\\\"name\\\":\\\"selected\\\",\\\"scope\\\":\\\"15484735260957235017\\\",\\\"id\\\":\\\"32\\\",\\\"type\\\":\\\"observable\\\"},{})})); gd.on(\\\"plotly_relayout\\\",(function (data){var filtered_data=WebIO.PlotlyCommands.filterEventData(gd,data,\\\"relayout\\\"); return !(filtered_data.isnil) ? (WebIO.setval({\\\"name\\\":\\\"relayout\\\",\\\"scope\\\":\\\"15484735260957235017\\\",\\\"id\\\":\\\"34\\\",\\\"type\\\":\\\"observable\\\"},filtered_data.out)) : undefined})); return gd.on(\\\"plotly_click\\\",(function (data){var filtered_data=WebIO.PlotlyCommands.filterEventData(gd,data,\\\"click\\\"); return !(filtered_data.isnil) ? (WebIO.setval({\\\"name\\\":\\\"click\\\",\\\"scope\\\":\\\"15484735260957235017\\\",\\\"id\\\":\\\"33\\\",\\\"type\\\":\\\"observable\\\"},filtered_data.out)) : undefined}))}));\\n    (WebIO.importBlock({\\\"data\\\":[{\\\"name\\\":\\\"Plotly\\\",\\\"type\\\":\\\"js\\\",\\\"url\\\":\\\"\\/assetserver\\/6ce5a5e5b28ac6ffdcfcd49d44ebd4d6dbe36ed4-plotly.min.js\\\"},{\\\"name\\\":null,\\\"type\\\":\\\"js\\\",\\\"url\\\":\\\"\\/assetserver\\/6f85150d15f92ccf38dc2254479a8612ce6d040e-plotly_webio.bundle.js\\\"}],\\\"type\\\":\\\"async_block\\\"})).then((imports) => handler.apply(this, imports));\\n}\\n\"],\"observables\":{\"_toImage\":{\"sync\":false,\"id\":\"38\",\"value\":{}},\"hover\":{\"sync\":false,\"id\":\"31\",\"value\":{}},\"selected\":{\"sync\":false,\"id\":\"32\",\"value\":{}},\"__gd_contents\":{\"sync\":false,\"id\":\"36\",\"value\":{}},\"click\":{\"sync\":false,\"id\":\"33\",\"value\":{}},\"image\":{\"sync\":true,\"id\":\"35\",\"value\":\"\"},\"__get_gd_contents\":{\"sync\":false,\"id\":\"40\",\"value\":\"\"},\"_downloadImage\":{\"sync\":false,\"id\":\"39\",\"value\":{}},\"relayout\":{\"sync\":false,\"id\":\"34\",\"value\":{}},\"_commands\":{\"sync\":false,\"id\":\"37\",\"value\":[]}}},\"children\":[{\"props\":{\"id\":\"plot-a66000d0-28ee-4e4a-b9d1-d2940651ec72\"},\"nodeType\":\"DOM\",\"type\":\"node\",\"instanceArgs\":{\"namespace\":\"html\",\"tag\":\"div\"},\"children\":[]}]},\n",
       "        window,\n",
       "    );\n",
       "    })()\n",
       "    </script>\n",
       "</div>\n"
      ],
      "text/plain": [
       "data: [\n",
       "  \"histogram with fields histnorm, type, and x\"\n",
       "]\n",
       "\n",
       "layout: \"layout with fields autosize, font, height, margin, template, width, and xaxis\"\n",
       "\n"
      ]
     },
     "metadata": {},
     "output_type": "display_data"
    }
   ],
   "source": [
    "cat_nb_cc_1_cycle = string.(sort(Int.(cc_with_1_cycle)))\n",
    "trace = PlotlyJS.histogram(x=cat_nb_cc_1_cycle, histnorm=\"probability density\")\n",
    "layout = Layout(\n",
    "    autosize=false,\n",
    "    width=500,\n",
    "    height=200,\n",
    "    margin=attr(l=1, r=1, b=1, t=1, pad=4),\n",
    "    font_size=35,\n",
    "    xaxis_type=\"category\",\n",
    ")\n",
    "name = \"comparison_hpkv_MUN_cc_with_1_cycle_\"*\"n\"*string(n)*\"p\"*string(p)*\"eta\"*string(eta)*\"q\"*string(q)\n",
    "p_1 = PlotlyJS.plot(trace,layout)\n"
   ]
  },
  {
   "cell_type": "code",
   "execution_count": 10,
   "metadata": {},
   "outputs": [
    {
     "data": {
      "application/vnd.plotly.v1+json": {
       "config": {
        "editable": false,
        "responsive": true,
        "scrollZoom": true,
        "showLink": false,
        "staticPlot": false
       },
       "data": [
        {
         "histnorm": "probability density",
         "type": "histogram",
         "x": [
          "0",
          "0",
          "0",
          "0",
          "0",
          "0",
          "0",
          "0",
          "0",
          "0",
          "0",
          "0",
          "0",
          "0",
          "0",
          "0",
          "0",
          "0",
          "0",
          "0",
          "0",
          "0",
          "0",
          "0",
          "0",
          "0",
          "0",
          "0",
          "0",
          "0",
          "0",
          "0",
          "0",
          "0",
          "0",
          "0",
          "0",
          "0",
          "0",
          "0",
          "0",
          "0",
          "0",
          "0",
          "0",
          "0",
          "0",
          "0",
          "0",
          "0",
          "0",
          "0",
          "0",
          "0",
          "0",
          "0",
          "0",
          "0",
          "0",
          "0",
          "0",
          "0",
          "0",
          "0",
          "0",
          "0",
          "0",
          "0",
          "0",
          "0",
          "0",
          "0",
          "0",
          "0",
          "0",
          "0",
          "0",
          "0",
          "0",
          "0",
          "0",
          "0",
          "0",
          "1",
          "1",
          "1",
          "1",
          "1",
          "1",
          "1",
          "1",
          "1",
          "1",
          "1",
          "1",
          "1",
          "1",
          "1",
          "1",
          "1"
         ]
        }
       ],
       "frames": [],
       "layout": {
        "autosize": false,
        "font": {
         "size": 35
        },
        "height": 200,
        "margin": {
         "b": 1,
         "l": 1,
         "pad": 4,
         "r": 1,
         "t": 1
        },
        "template": {
         "data": {
          "bar": [
           {
            "error_x": {
             "color": "#2a3f5f"
            },
            "error_y": {
             "color": "#2a3f5f"
            },
            "marker": {
             "line": {
              "color": "#E5ECF6",
              "width": 0.5
             }
            },
            "type": "bar"
           }
          ],
          "barpolar": [
           {
            "marker": {
             "line": {
              "color": "#E5ECF6",
              "width": 0.5
             }
            },
            "type": "barpolar"
           }
          ],
          "carpet": [
           {
            "aaxis": {
             "endlinecolor": "#2a3f5f",
             "gridcolor": "white",
             "linecolor": "white",
             "minorgridcolor": "white",
             "startlinecolor": "#2a3f5f"
            },
            "baxis": {
             "endlinecolor": "#2a3f5f",
             "gridcolor": "white",
             "linecolor": "white",
             "minorgridcolor": "white",
             "startlinecolor": "#2a3f5f"
            },
            "type": "carpet"
           }
          ],
          "choropleth": [
           {
            "colorbar": {
             "outlinewidth": 0,
             "ticks": ""
            },
            "type": "choropleth"
           }
          ],
          "contour": [
           {
            "colorbar": {
             "outlinewidth": 0,
             "ticks": ""
            },
            "colorscale": [
             [
              0,
              "#0d0887"
             ],
             [
              0.1111111111111111,
              "#46039f"
             ],
             [
              0.2222222222222222,
              "#7201a8"
             ],
             [
              0.3333333333333333,
              "#9c179e"
             ],
             [
              0.4444444444444444,
              "#bd3786"
             ],
             [
              0.5555555555555556,
              "#d8576b"
             ],
             [
              0.6666666666666666,
              "#ed7953"
             ],
             [
              0.7777777777777778,
              "#fb9f3a"
             ],
             [
              0.8888888888888888,
              "#fdca26"
             ],
             [
              1,
              "#f0f921"
             ]
            ],
            "type": "contour"
           }
          ],
          "contourcarpet": [
           {
            "colorbar": {
             "outlinewidth": 0,
             "ticks": ""
            },
            "type": "contourcarpet"
           }
          ],
          "heatmap": [
           {
            "colorbar": {
             "outlinewidth": 0,
             "ticks": ""
            },
            "colorscale": [
             [
              0,
              "#0d0887"
             ],
             [
              0.1111111111111111,
              "#46039f"
             ],
             [
              0.2222222222222222,
              "#7201a8"
             ],
             [
              0.3333333333333333,
              "#9c179e"
             ],
             [
              0.4444444444444444,
              "#bd3786"
             ],
             [
              0.5555555555555556,
              "#d8576b"
             ],
             [
              0.6666666666666666,
              "#ed7953"
             ],
             [
              0.7777777777777778,
              "#fb9f3a"
             ],
             [
              0.8888888888888888,
              "#fdca26"
             ],
             [
              1,
              "#f0f921"
             ]
            ],
            "type": "heatmap"
           }
          ],
          "heatmapgl": [
           {
            "colorbar": {
             "outlinewidth": 0,
             "ticks": ""
            },
            "colorscale": [
             [
              0,
              "#0d0887"
             ],
             [
              0.1111111111111111,
              "#46039f"
             ],
             [
              0.2222222222222222,
              "#7201a8"
             ],
             [
              0.3333333333333333,
              "#9c179e"
             ],
             [
              0.4444444444444444,
              "#bd3786"
             ],
             [
              0.5555555555555556,
              "#d8576b"
             ],
             [
              0.6666666666666666,
              "#ed7953"
             ],
             [
              0.7777777777777778,
              "#fb9f3a"
             ],
             [
              0.8888888888888888,
              "#fdca26"
             ],
             [
              1,
              "#f0f921"
             ]
            ],
            "type": "heatmapgl"
           }
          ],
          "histogram": [
           {
            "marker": {
             "colorbar": {
              "outlinewidth": 0,
              "ticks": ""
             }
            },
            "type": "histogram"
           }
          ],
          "histogram2d": [
           {
            "colorbar": {
             "outlinewidth": 0,
             "ticks": ""
            },
            "colorscale": [
             [
              0,
              "#0d0887"
             ],
             [
              0.1111111111111111,
              "#46039f"
             ],
             [
              0.2222222222222222,
              "#7201a8"
             ],
             [
              0.3333333333333333,
              "#9c179e"
             ],
             [
              0.4444444444444444,
              "#bd3786"
             ],
             [
              0.5555555555555556,
              "#d8576b"
             ],
             [
              0.6666666666666666,
              "#ed7953"
             ],
             [
              0.7777777777777778,
              "#fb9f3a"
             ],
             [
              0.8888888888888888,
              "#fdca26"
             ],
             [
              1,
              "#f0f921"
             ]
            ],
            "type": "histogram2d"
           }
          ],
          "histogram2dcontour": [
           {
            "colorbar": {
             "outlinewidth": 0,
             "ticks": ""
            },
            "colorscale": [
             [
              0,
              "#0d0887"
             ],
             [
              0.1111111111111111,
              "#46039f"
             ],
             [
              0.2222222222222222,
              "#7201a8"
             ],
             [
              0.3333333333333333,
              "#9c179e"
             ],
             [
              0.4444444444444444,
              "#bd3786"
             ],
             [
              0.5555555555555556,
              "#d8576b"
             ],
             [
              0.6666666666666666,
              "#ed7953"
             ],
             [
              0.7777777777777778,
              "#fb9f3a"
             ],
             [
              0.8888888888888888,
              "#fdca26"
             ],
             [
              1,
              "#f0f921"
             ]
            ],
            "type": "histogram2dcontour"
           }
          ],
          "mesh3d": [
           {
            "colorbar": {
             "outlinewidth": 0,
             "ticks": ""
            },
            "type": "mesh3d"
           }
          ],
          "parcoords": [
           {
            "line": {
             "colorbar": {
              "outlinewidth": 0,
              "ticks": ""
             }
            },
            "type": "parcoords"
           }
          ],
          "pie": [
           {
            "automargin": true,
            "type": "pie"
           }
          ],
          "scatter": [
           {
            "marker": {
             "colorbar": {
              "outlinewidth": 0,
              "ticks": ""
             }
            },
            "type": "scatter"
           }
          ],
          "scatter3d": [
           {
            "line": {
             "colorbar": {
              "outlinewidth": 0,
              "ticks": ""
             }
            },
            "marker": {
             "colorbar": {
              "outlinewidth": 0,
              "ticks": ""
             }
            },
            "type": "scatter3d"
           }
          ],
          "scattercarpet": [
           {
            "marker": {
             "colorbar": {
              "outlinewidth": 0,
              "ticks": ""
             }
            },
            "type": "scattercarpet"
           }
          ],
          "scattergeo": [
           {
            "marker": {
             "colorbar": {
              "outlinewidth": 0,
              "ticks": ""
             }
            },
            "type": "scattergeo"
           }
          ],
          "scattergl": [
           {
            "marker": {
             "colorbar": {
              "outlinewidth": 0,
              "ticks": ""
             }
            },
            "type": "scattergl"
           }
          ],
          "scattermapbox": [
           {
            "marker": {
             "colorbar": {
              "outlinewidth": 0,
              "ticks": ""
             }
            },
            "type": "scattermapbox"
           }
          ],
          "scatterpolar": [
           {
            "marker": {
             "colorbar": {
              "outlinewidth": 0,
              "ticks": ""
             }
            },
            "type": "scatterpolar"
           }
          ],
          "scatterpolargl": [
           {
            "marker": {
             "colorbar": {
              "outlinewidth": 0,
              "ticks": ""
             }
            },
            "type": "scatterpolargl"
           }
          ],
          "scatterternary": [
           {
            "marker": {
             "colorbar": {
              "outlinewidth": 0,
              "ticks": ""
             }
            },
            "type": "scatterternary"
           }
          ],
          "surface": [
           {
            "colorbar": {
             "outlinewidth": 0,
             "ticks": ""
            },
            "colorscale": [
             [
              0,
              "#0d0887"
             ],
             [
              0.1111111111111111,
              "#46039f"
             ],
             [
              0.2222222222222222,
              "#7201a8"
             ],
             [
              0.3333333333333333,
              "#9c179e"
             ],
             [
              0.4444444444444444,
              "#bd3786"
             ],
             [
              0.5555555555555556,
              "#d8576b"
             ],
             [
              0.6666666666666666,
              "#ed7953"
             ],
             [
              0.7777777777777778,
              "#fb9f3a"
             ],
             [
              0.8888888888888888,
              "#fdca26"
             ],
             [
              1,
              "#f0f921"
             ]
            ],
            "type": "surface"
           }
          ],
          "table": [
           {
            "cells": {
             "fill": {
              "color": "#EBF0F8"
             },
             "line": {
              "color": "white"
             }
            },
            "header": {
             "fill": {
              "color": "#C8D4E3"
             },
             "line": {
              "color": "white"
             }
            },
            "type": "table"
           }
          ]
         },
         "layout": {
          "annotationdefaults": {
           "arrowcolor": "#2a3f5f",
           "arrowhead": 0,
           "arrowwidth": 1
          },
          "autotypenumbers": "strict",
          "coloraxis": {
           "colorbar": {
            "outlinewidth": 0,
            "ticks": ""
           }
          },
          "colorscale": {
           "diverging": [
            [
             0,
             "#8e0152"
            ],
            [
             0.1,
             "#c51b7d"
            ],
            [
             0.2,
             "#de77ae"
            ],
            [
             0.3,
             "#f1b6da"
            ],
            [
             0.4,
             "#fde0ef"
            ],
            [
             0.5,
             "#f7f7f7"
            ],
            [
             0.6,
             "#e6f5d0"
            ],
            [
             0.7,
             "#b8e186"
            ],
            [
             0.8,
             "#7fbc41"
            ],
            [
             0.9,
             "#4d9221"
            ],
            [
             1,
             "#276419"
            ]
           ],
           "sequential": [
            [
             0,
             "#0d0887"
            ],
            [
             0.1111111111111111,
             "#46039f"
            ],
            [
             0.2222222222222222,
             "#7201a8"
            ],
            [
             0.3333333333333333,
             "#9c179e"
            ],
            [
             0.4444444444444444,
             "#bd3786"
            ],
            [
             0.5555555555555556,
             "#d8576b"
            ],
            [
             0.6666666666666666,
             "#ed7953"
            ],
            [
             0.7777777777777778,
             "#fb9f3a"
            ],
            [
             0.8888888888888888,
             "#fdca26"
            ],
            [
             1,
             "#f0f921"
            ]
           ],
           "sequentialminus": [
            [
             0,
             "#0d0887"
            ],
            [
             0.1111111111111111,
             "#46039f"
            ],
            [
             0.2222222222222222,
             "#7201a8"
            ],
            [
             0.3333333333333333,
             "#9c179e"
            ],
            [
             0.4444444444444444,
             "#bd3786"
            ],
            [
             0.5555555555555556,
             "#d8576b"
            ],
            [
             0.6666666666666666,
             "#ed7953"
            ],
            [
             0.7777777777777778,
             "#fb9f3a"
            ],
            [
             0.8888888888888888,
             "#fdca26"
            ],
            [
             1,
             "#f0f921"
            ]
           ]
          },
          "colorway": [
           "#636efa",
           "#EF553B",
           "#00cc96",
           "#ab63fa",
           "#FFA15A",
           "#19d3f3",
           "#FF6692",
           "#B6E880",
           "#FF97FF",
           "#FECB52"
          ],
          "font": {
           "color": "#2a3f5f"
          },
          "geo": {
           "bgcolor": "white",
           "lakecolor": "white",
           "landcolor": "#E5ECF6",
           "showlakes": true,
           "showland": true,
           "subunitcolor": "white"
          },
          "hoverlabel": {
           "align": "left"
          },
          "hovermode": "closest",
          "mapbox": {
           "style": "light"
          },
          "paper_bgcolor": "white",
          "plot_bgcolor": "#E5ECF6",
          "polar": {
           "angularaxis": {
            "gridcolor": "white",
            "linecolor": "white",
            "ticks": ""
           },
           "bgcolor": "#E5ECF6",
           "radialaxis": {
            "gridcolor": "white",
            "linecolor": "white",
            "ticks": ""
           }
          },
          "scene": {
           "xaxis": {
            "backgroundcolor": "#E5ECF6",
            "gridcolor": "white",
            "gridwidth": 2,
            "linecolor": "white",
            "showbackground": true,
            "ticks": "",
            "zerolinecolor": "white"
           },
           "yaxis": {
            "backgroundcolor": "#E5ECF6",
            "gridcolor": "white",
            "gridwidth": 2,
            "linecolor": "white",
            "showbackground": true,
            "ticks": "",
            "zerolinecolor": "white"
           },
           "zaxis": {
            "backgroundcolor": "#E5ECF6",
            "gridcolor": "white",
            "gridwidth": 2,
            "linecolor": "white",
            "showbackground": true,
            "ticks": "",
            "zerolinecolor": "white"
           }
          },
          "shapedefaults": {
           "line": {
            "color": "#2a3f5f"
           }
          },
          "ternary": {
           "aaxis": {
            "gridcolor": "white",
            "linecolor": "white",
            "ticks": ""
           },
           "baxis": {
            "gridcolor": "white",
            "linecolor": "white",
            "ticks": ""
           },
           "bgcolor": "#E5ECF6",
           "caxis": {
            "gridcolor": "white",
            "linecolor": "white",
            "ticks": ""
           }
          },
          "title": {
           "x": 0.05
          },
          "xaxis": {
           "automargin": true,
           "gridcolor": "white",
           "linecolor": "white",
           "ticks": "",
           "title": {
            "standoff": 15
           },
           "zerolinecolor": "white",
           "zerolinewidth": 2
          },
          "yaxis": {
           "automargin": true,
           "gridcolor": "white",
           "linecolor": "white",
           "ticks": "",
           "title": {
            "standoff": 15
           },
           "zerolinecolor": "white",
           "zerolinewidth": 2
          }
         }
        },
        "width": 500,
        "xaxis": {
         "type": "category"
        }
       }
      },
      "image/png": "[encoded data removed]",
      "image/svg+xml": [
       "<svg class=\"main-svg\" xmlns=\"http://www.w3.org/2000/svg\" xmlns:xlink=\"http://www.w3.org/1999/xlink\" width=\"700\" height=\"500\" style=\"\" viewBox=\"0 0 700 500\"><rect x=\"0\" y=\"0\" width=\"700\" height=\"500\" style=\"fill: rgb(255, 255, 255); fill-opacity: 1;\"/><defs id=\"defs-a5fb95\"><g class=\"clips\"><clipPath id=\"clipa5fb95xyplot\" class=\"plotclip\"><rect width=\"636\" height=\"450\"/></clipPath><clipPath class=\"axesclip\" id=\"clipa5fb95x\"><rect x=\"63\" y=\"0\" width=\"636\" height=\"500\"/></clipPath><clipPath class=\"axesclip\" id=\"clipa5fb95y\"><rect x=\"0\" y=\"1\" width=\"700\" height=\"450\"/></clipPath><clipPath class=\"axesclip\" id=\"clipa5fb95xy\"><rect x=\"63\" y=\"1\" width=\"636\" height=\"450\"/></clipPath></g><g class=\"gradients\"/></defs><g class=\"bglayer\"><rect class=\"bg\" x=\"59\" y=\"-3\" width=\"644\" height=\"458\" style=\"fill: rgb(229, 236, 246); fill-opacity: 1; stroke-width: 0;\"/></g><g class=\"layer-below\"><g class=\"imagelayer\"/><g class=\"shapelayer\"/></g><g class=\"cartesianlayer\"><g class=\"subplot xy\"><g class=\"layer-subplot\"><g class=\"shapelayer\"/><g class=\"imagelayer\"/></g><g class=\"gridlayer\"><g class=\"x\"/><g class=\"y\"><path class=\"ygrid crisp\" transform=\"translate(0,399.49)\" d=\"M63,0h636\" style=\"stroke: rgb(255, 255, 255); stroke-opacity: 1; stroke-width: 1px;\"/><path class=\"ygrid crisp\" transform=\"translate(0,347.99)\" d=\"M63,0h636\" style=\"stroke: rgb(255, 255, 255); stroke-opacity: 1; stroke-width: 1px;\"/><path class=\"ygrid crisp\" transform=\"translate(0,296.48)\" d=\"M63,0h636\" style=\"stroke: rgb(255, 255, 255); stroke-opacity: 1; stroke-width: 1px;\"/><path class=\"ygrid crisp\" transform=\"translate(0,244.98)\" d=\"M63,0h636\" style=\"stroke: rgb(255, 255, 255); stroke-opacity: 1; stroke-width: 1px;\"/><path class=\"ygrid crisp\" transform=\"translate(0,193.47)\" d=\"M63,0h636\" style=\"stroke: rgb(255, 255, 255); stroke-opacity: 1; stroke-width: 1px;\"/><path class=\"ygrid crisp\" transform=\"translate(0,141.96)\" d=\"M63,0h636\" style=\"stroke: rgb(255, 255, 255); stroke-opacity: 1; stroke-width: 1px;\"/><path class=\"ygrid crisp\" transform=\"translate(0,90.46)\" d=\"M63,0h636\" style=\"stroke: rgb(255, 255, 255); stroke-opacity: 1; stroke-width: 1px;\"/><path class=\"ygrid crisp\" transform=\"translate(0,38.95)\" d=\"M63,0h636\" style=\"stroke: rgb(255, 255, 255); stroke-opacity: 1; stroke-width: 1px;\"/></g></g><g class=\"zerolinelayer\"><path class=\"yzl zl crisp\" transform=\"translate(0,451)\" d=\"M63,0h636\" style=\"stroke: rgb(255, 255, 255); stroke-opacity: 1; stroke-width: 2px;\"/></g><path class=\"xlines-below\"/><path class=\"ylines-below\"/><g class=\"overlines-below\"/><g class=\"xaxislayer-below\"/><g class=\"yaxislayer-below\"/><g class=\"overaxes-below\"/><g class=\"plot\" transform=\"translate(63,1)\" clip-path=\"url('#clipa5fb95xyplot')\"><g class=\"barlayer mlayer\"><g class=\"trace bars\" style=\"opacity: 1;\"><g class=\"points\"><g class=\"point\"><path d=\"M31.8,450V22.5H286.2V450Z\" style=\"vector-effect: non-scaling-stroke; opacity: 1; stroke-width: 0px; fill: rgb(99, 110, 250); fill-opacity: 1;\"/></g><g class=\"point\"><path d=\"M349.8,450V362.44H604.2V450Z\" style=\"vector-effect: non-scaling-stroke; opacity: 1; stroke-width: 0px; fill: rgb(99, 110, 250); fill-opacity: 1;\"/></g></g></g></g></g><g class=\"overplot\"/><path class=\"xlines-above crisp\" d=\"M0,0\" style=\"fill: none;\"/><path class=\"ylines-above crisp\" d=\"M0,0\" style=\"fill: none;\"/><g class=\"overlines-above\"/><g class=\"xaxislayer-above\"><g class=\"xtick\"><text text-anchor=\"middle\" x=\"0\" y=\"491\" transform=\"translate(222,0)\" style=\"font-family: 'Open Sans', verdana, arial, sans-serif; font-size: 35px; fill: rgb(42, 63, 95); fill-opacity: 1; white-space: pre;\">0</text></g><g class=\"xtick\"><text text-anchor=\"middle\" x=\"0\" y=\"491\" transform=\"translate(540,0)\" style=\"font-family: 'Open Sans', verdana, arial, sans-serif; font-size: 35px; fill: rgb(42, 63, 95); fill-opacity: 1; white-space: pre;\">1</text></g></g><g class=\"yaxislayer-above\"><g class=\"ytick\"><text text-anchor=\"end\" x=\"58\" y=\"12.25\" transform=\"translate(0,451)\" style=\"font-family: 'Open Sans', verdana, arial, sans-serif; font-size: 35px; fill: rgb(42, 63, 95); fill-opacity: 1; white-space: pre;\">0</text></g><g class=\"ytick\"><text text-anchor=\"end\" x=\"58\" y=\"12.25\" transform=\"translate(0,399.49)\" style=\"font-family: 'Open Sans', verdana, arial, sans-serif; font-size: 35px; fill: rgb(42, 63, 95); fill-opacity: 1; white-space: pre;\">0.1</text></g><g class=\"ytick\"><text text-anchor=\"end\" x=\"58\" y=\"12.25\" transform=\"translate(0,347.99)\" style=\"font-family: 'Open Sans', verdana, arial, sans-serif; font-size: 35px; fill: rgb(42, 63, 95); fill-opacity: 1; white-space: pre;\">0.2</text></g><g class=\"ytick\"><text text-anchor=\"end\" x=\"58\" y=\"12.25\" transform=\"translate(0,296.48)\" style=\"font-family: 'Open Sans', verdana, arial, sans-serif; font-size: 35px; fill: rgb(42, 63, 95); fill-opacity: 1; white-space: pre;\">0.3</text></g><g class=\"ytick\"><text text-anchor=\"end\" x=\"58\" y=\"12.25\" transform=\"translate(0,244.98)\" style=\"font-family: 'Open Sans', verdana, arial, sans-serif; font-size: 35px; fill: rgb(42, 63, 95); fill-opacity: 1; white-space: pre;\">0.4</text></g><g class=\"ytick\"><text text-anchor=\"end\" x=\"58\" y=\"12.25\" transform=\"translate(0,193.47)\" style=\"font-family: 'Open Sans', verdana, arial, sans-serif; font-size: 35px; fill: rgb(42, 63, 95); fill-opacity: 1; white-space: pre;\">0.5</text></g><g class=\"ytick\"><text text-anchor=\"end\" x=\"58\" y=\"12.25\" transform=\"translate(0,141.96)\" style=\"font-family: 'Open Sans', verdana, arial, sans-serif; font-size: 35px; fill: rgb(42, 63, 95); fill-opacity: 1; white-space: pre;\">0.6</text></g><g class=\"ytick\"><text text-anchor=\"end\" x=\"58\" y=\"12.25\" transform=\"translate(0,90.46)\" style=\"font-family: 'Open Sans', verdana, arial, sans-serif; font-size: 35px; fill: rgb(42, 63, 95); fill-opacity: 1; white-space: pre;\">0.7</text></g><g class=\"ytick\"><text text-anchor=\"end\" x=\"58\" y=\"12.25\" transform=\"translate(0,38.95)\" style=\"font-family: 'Open Sans', verdana, arial, sans-serif; font-size: 35px; fill: rgb(42, 63, 95); fill-opacity: 1; white-space: pre;\">0.8</text></g></g><g class=\"overaxes-above\"/></g></g><g class=\"polarlayer\"/><g class=\"ternarylayer\"/><g class=\"geolayer\"/><g class=\"funnelarealayer\"/><g class=\"pielayer\"/><g class=\"treemaplayer\"/><g class=\"sunburstlayer\"/><g class=\"glimages\"/><defs id=\"topdefs-a5fb95\"><g class=\"clips\"/></defs><g class=\"layer-above\"><g class=\"imagelayer\"/><g class=\"shapelayer\"/></g><g class=\"infolayer\"><g class=\"g-gtitle\"/><g class=\"g-xtitle\"/><g class=\"g-ytitle\"/></g></svg>"
      ],
      "text/html": [
       "<div\n",
       "    class=\"webio-mountpoint\"\n",
       "    data-webio-mountpoint=\"5520650280589143241\"\n",
       ">\n",
       "    <script>\n",
       "    (function(){\n",
       "    // Some integrations (namely, IJulia/Jupyter) use an alternate render pathway than\n",
       "    // just putting the html on the page. If WebIO isn't defined, then it's pretty likely\n",
       "    // that we're in one of those situations and the integration just isn't installed\n",
       "    // correctly.\n",
       "    if (typeof window.WebIO === \"undefined\") {\n",
       "        document\n",
       "            .querySelector('[data-webio-mountpoint=\"5520650280589143241\"]')\n",
       "            .innerHTML = (\n",
       "                '<div style=\"padding: 1em; background-color: #f8d6da; border: 1px solid #f5c6cb; font-weight: bold;\">' +\n",
       "                '<p><strong>WebIO not detected.</strong></p>' +\n",
       "                '<p>Please read ' +\n",
       "                '<a href=\"https://juliagizmos.github.io/WebIO.jl/latest/troubleshooting/not-detected/\" target=\"_blank\">the troubleshooting guide</a> ' +\n",
       "                'for more information on how to resolve this issue.</p>' +\n",
       "                '<p><a href=\"https://juliagizmos.github.io/WebIO.jl/latest/troubleshooting/not-detected/\" target=\"_blank\">https://juliagizmos.github.io/WebIO.jl/latest/troubleshooting/not-detected/</a></p>' +\n",
       "                '</div>'\n",
       "            );\n",
       "        return;\n",
       "    }\n",
       "    WebIO.mount(\n",
       "        document.querySelector('[data-webio-mountpoint=\"5520650280589143241\"]'),\n",
       "        {\"props\":{},\"nodeType\":\"Scope\",\"type\":\"node\",\"instanceArgs\":{\"imports\":{\"data\":[{\"name\":\"Plotly\",\"type\":\"js\",\"url\":\"\\/assetserver\\/6ce5a5e5b28ac6ffdcfcd49d44ebd4d6dbe36ed4-plotly.min.js\"},{\"name\":null,\"type\":\"js\",\"url\":\"\\/assetserver\\/6f85150d15f92ccf38dc2254479a8612ce6d040e-plotly_webio.bundle.js\"}],\"type\":\"async_block\"},\"id\":\"13630989968069765714\",\"handlers\":{\"_toImage\":[\"(function (options){return this.Plotly.toImage(this.plotElem,options).then((function (data){return WebIO.setval({\\\"name\\\":\\\"image\\\",\\\"scope\\\":\\\"13630989968069765714\\\",\\\"id\\\":\\\"45\\\",\\\"type\\\":\\\"observable\\\"},data)}))})\"],\"__get_gd_contents\":[\"(function (prop){prop==\\\"data\\\" ? (WebIO.setval({\\\"name\\\":\\\"__gd_contents\\\",\\\"scope\\\":\\\"13630989968069765714\\\",\\\"id\\\":\\\"46\\\",\\\"type\\\":\\\"observable\\\"},this.plotElem.data)) : undefined; return prop==\\\"layout\\\" ? (WebIO.setval({\\\"name\\\":\\\"__gd_contents\\\",\\\"scope\\\":\\\"13630989968069765714\\\",\\\"id\\\":\\\"46\\\",\\\"type\\\":\\\"observable\\\"},this.plotElem.layout)) : undefined})\"],\"_downloadImage\":[\"(function (options){return this.Plotly.downloadImage(this.plotElem,options)})\"],\"_commands\":[\"(function (args){var fn=args.shift(); var elem=this.plotElem; var Plotly=this.Plotly; args.unshift(elem); return Plotly[fn].apply(this,args)})\"]},\"systemjs_options\":null,\"mount_callbacks\":[\"function () {\\n    var handler = ((function (Plotly,PlotlyWebIO){PlotlyWebIO.init(WebIO); var gd=this.dom.querySelector(\\\"#plot-92725241-b1ba-4528-90ac-33076da31df7\\\"); this.plotElem=gd; this.Plotly=Plotly; (window.Blink!==undefined) ? (gd.style.width=\\\"100%\\\", gd.style.height=\\\"100vh\\\", gd.style.marginLeft=\\\"0%\\\", gd.style.marginTop=\\\"0vh\\\") : undefined; window.onresize=(function (){return Plotly.Plots.resize(gd)}); Plotly.newPlot(gd,[{\\\"type\\\":\\\"histogram\\\",\\\"histnorm\\\":\\\"probability density\\\",\\\"x\\\":[\\\"0\\\",\\\"0\\\",\\\"0\\\",\\\"0\\\",\\\"0\\\",\\\"0\\\",\\\"0\\\",\\\"0\\\",\\\"0\\\",\\\"0\\\",\\\"0\\\",\\\"0\\\",\\\"0\\\",\\\"0\\\",\\\"0\\\",\\\"0\\\",\\\"0\\\",\\\"0\\\",\\\"0\\\",\\\"0\\\",\\\"0\\\",\\\"0\\\",\\\"0\\\",\\\"0\\\",\\\"0\\\",\\\"0\\\",\\\"0\\\",\\\"0\\\",\\\"0\\\",\\\"0\\\",\\\"0\\\",\\\"0\\\",\\\"0\\\",\\\"0\\\",\\\"0\\\",\\\"0\\\",\\\"0\\\",\\\"0\\\",\\\"0\\\",\\\"0\\\",\\\"0\\\",\\\"0\\\",\\\"0\\\",\\\"0\\\",\\\"0\\\",\\\"0\\\",\\\"0\\\",\\\"0\\\",\\\"0\\\",\\\"0\\\",\\\"0\\\",\\\"0\\\",\\\"0\\\",\\\"0\\\",\\\"0\\\",\\\"0\\\",\\\"0\\\",\\\"0\\\",\\\"0\\\",\\\"0\\\",\\\"0\\\",\\\"0\\\",\\\"0\\\",\\\"0\\\",\\\"0\\\",\\\"0\\\",\\\"0\\\",\\\"0\\\",\\\"0\\\",\\\"0\\\",\\\"0\\\",\\\"0\\\",\\\"0\\\",\\\"0\\\",\\\"0\\\",\\\"0\\\",\\\"0\\\",\\\"0\\\",\\\"0\\\",\\\"0\\\",\\\"0\\\",\\\"0\\\",\\\"0\\\",\\\"1\\\",\\\"1\\\",\\\"1\\\",\\\"1\\\",\\\"1\\\",\\\"1\\\",\\\"1\\\",\\\"1\\\",\\\"1\\\",\\\"1\\\",\\\"1\\\",\\\"1\\\",\\\"1\\\",\\\"1\\\",\\\"1\\\",\\\"1\\\",\\\"1\\\"]}],{\\\"autosize\\\":false,\\\"xaxis\\\":{\\\"type\\\":\\\"category\\\"},\\\"font\\\":{\\\"size\\\":35},\\\"template\\\":{\\\"layout\\\":{\\\"coloraxis\\\":{\\\"colorbar\\\":{\\\"ticks\\\":\\\"\\\",\\\"outlinewidth\\\":0}},\\\"xaxis\\\":{\\\"gridcolor\\\":\\\"white\\\",\\\"zerolinewidth\\\":2,\\\"title\\\":{\\\"standoff\\\":15},\\\"ticks\\\":\\\"\\\",\\\"zerolinecolor\\\":\\\"white\\\",\\\"automargin\\\":true,\\\"linecolor\\\":\\\"white\\\"},\\\"hovermode\\\":\\\"closest\\\",\\\"paper_bgcolor\\\":\\\"white\\\",\\\"geo\\\":{\\\"showlakes\\\":true,\\\"showland\\\":true,\\\"landcolor\\\":\\\"#E5ECF6\\\",\\\"bgcolor\\\":\\\"white\\\",\\\"subunitcolor\\\":\\\"white\\\",\\\"lakecolor\\\":\\\"white\\\"},\\\"colorscale\\\":{\\\"sequential\\\":[[0.0,\\\"#0d0887\\\"],[0.1111111111111111,\\\"#46039f\\\"],[0.2222222222222222,\\\"#7201a8\\\"],[0.3333333333333333,\\\"#9c179e\\\"],[0.4444444444444444,\\\"#bd3786\\\"],[0.5555555555555556,\\\"#d8576b\\\"],[0.6666666666666666,\\\"#ed7953\\\"],[0.7777777777777778,\\\"#fb9f3a\\\"],[0.8888888888888888,\\\"#fdca26\\\"],[1.0,\\\"#f0f921\\\"]],\\\"diverging\\\":[[0,\\\"#8e0152\\\"],[0.1,\\\"#c51b7d\\\"],[0.2,\\\"#de77ae\\\"],[0.3,\\\"#f1b6da\\\"],[0.4,\\\"#fde0ef\\\"],[0.5,\\\"#f7f7f7\\\"],[0.6,\\\"#e6f5d0\\\"],[0.7,\\\"#b8e186\\\"],[0.8,\\\"#7fbc41\\\"],[0.9,\\\"#4d9221\\\"],[1,\\\"#276419\\\"]],\\\"sequentialminus\\\":[[0.0,\\\"#0d0887\\\"],[0.1111111111111111,\\\"#46039f\\\"],[0.2222222222222222,\\\"#7201a8\\\"],[0.3333333333333333,\\\"#9c179e\\\"],[0.4444444444444444,\\\"#bd3786\\\"],[0.5555555555555556,\\\"#d8576b\\\"],[0.6666666666666666,\\\"#ed7953\\\"],[0.7777777777777778,\\\"#fb9f3a\\\"],[0.8888888888888888,\\\"#fdca26\\\"],[1.0,\\\"#f0f921\\\"]]},\\\"yaxis\\\":{\\\"gridcolor\\\":\\\"white\\\",\\\"zerolinewidth\\\":2,\\\"title\\\":{\\\"standoff\\\":15},\\\"ticks\\\":\\\"\\\",\\\"zerolinecolor\\\":\\\"white\\\",\\\"automargin\\\":true,\\\"linecolor\\\":\\\"white\\\"},\\\"shapedefaults\\\":{\\\"line\\\":{\\\"color\\\":\\\"#2a3f5f\\\"}},\\\"hoverlabel\\\":{\\\"align\\\":\\\"left\\\"},\\\"mapbox\\\":{\\\"style\\\":\\\"light\\\"},\\\"polar\\\":{\\\"angularaxis\\\":{\\\"gridcolor\\\":\\\"white\\\",\\\"ticks\\\":\\\"\\\",\\\"linecolor\\\":\\\"white\\\"},\\\"bgcolor\\\":\\\"#E5ECF6\\\",\\\"radialaxis\\\":{\\\"gridcolor\\\":\\\"white\\\",\\\"ticks\\\":\\\"\\\",\\\"linecolor\\\":\\\"white\\\"}},\\\"autotypenumbers\\\":\\\"strict\\\",\\\"font\\\":{\\\"color\\\":\\\"#2a3f5f\\\"},\\\"ternary\\\":{\\\"baxis\\\":{\\\"gridcolor\\\":\\\"white\\\",\\\"ticks\\\":\\\"\\\",\\\"linecolor\\\":\\\"white\\\"},\\\"bgcolor\\\":\\\"#E5ECF6\\\",\\\"caxis\\\":{\\\"gridcolor\\\":\\\"white\\\",\\\"ticks\\\":\\\"\\\",\\\"linecolor\\\":\\\"white\\\"},\\\"aaxis\\\":{\\\"gridcolor\\\":\\\"white\\\",\\\"ticks\\\":\\\"\\\",\\\"linecolor\\\":\\\"white\\\"}},\\\"annotationdefaults\\\":{\\\"arrowhead\\\":0,\\\"arrowwidth\\\":1,\\\"arrowcolor\\\":\\\"#2a3f5f\\\"},\\\"plot_bgcolor\\\":\\\"#E5ECF6\\\",\\\"title\\\":{\\\"x\\\":0.05},\\\"scene\\\":{\\\"xaxis\\\":{\\\"gridcolor\\\":\\\"white\\\",\\\"gridwidth\\\":2,\\\"backgroundcolor\\\":\\\"#E5ECF6\\\",\\\"ticks\\\":\\\"\\\",\\\"showbackground\\\":true,\\\"zerolinecolor\\\":\\\"white\\\",\\\"linecolor\\\":\\\"white\\\"},\\\"zaxis\\\":{\\\"gridcolor\\\":\\\"white\\\",\\\"gridwidth\\\":2,\\\"backgroundcolor\\\":\\\"#E5ECF6\\\",\\\"ticks\\\":\\\"\\\",\\\"showbackground\\\":true,\\\"zerolinecolor\\\":\\\"white\\\",\\\"linecolor\\\":\\\"white\\\"},\\\"yaxis\\\":{\\\"gridcolor\\\":\\\"white\\\",\\\"gridwidth\\\":2,\\\"backgroundcolor\\\":\\\"#E5ECF6\\\",\\\"ticks\\\":\\\"\\\",\\\"showbackground\\\":true,\\\"zerolinecolor\\\":\\\"white\\\",\\\"linecolor\\\":\\\"white\\\"}},\\\"colorway\\\":[\\\"#636efa\\\",\\\"#EF553B\\\",\\\"#00cc96\\\",\\\"#ab63fa\\\",\\\"#FFA15A\\\",\\\"#19d3f3\\\",\\\"#FF6692\\\",\\\"#B6E880\\\",\\\"#FF97FF\\\",\\\"#FECB52\\\"]},\\\"data\\\":{\\\"barpolar\\\":[{\\\"type\\\":\\\"barpolar\\\",\\\"marker\\\":{\\\"line\\\":{\\\"color\\\":\\\"#E5ECF6\\\",\\\"width\\\":0.5}}}],\\\"carpet\\\":[{\\\"aaxis\\\":{\\\"gridcolor\\\":\\\"white\\\",\\\"endlinecolor\\\":\\\"#2a3f5f\\\",\\\"minorgridcolor\\\":\\\"white\\\",\\\"startlinecolor\\\":\\\"#2a3f5f\\\",\\\"linecolor\\\":\\\"white\\\"},\\\"type\\\":\\\"carpet\\\",\\\"baxis\\\":{\\\"gridcolor\\\":\\\"white\\\",\\\"endlinecolor\\\":\\\"#2a3f5f\\\",\\\"minorgridcolor\\\":\\\"white\\\",\\\"startlinecolor\\\":\\\"#2a3f5f\\\",\\\"linecolor\\\":\\\"white\\\"}}],\\\"scatterpolar\\\":[{\\\"type\\\":\\\"scatterpolar\\\",\\\"marker\\\":{\\\"colorbar\\\":{\\\"ticks\\\":\\\"\\\",\\\"outlinewidth\\\":0}}}],\\\"parcoords\\\":[{\\\"line\\\":{\\\"colorbar\\\":{\\\"ticks\\\":\\\"\\\",\\\"outlinewidth\\\":0}},\\\"type\\\":\\\"parcoords\\\"}],\\\"scatter\\\":[{\\\"type\\\":\\\"scatter\\\",\\\"marker\\\":{\\\"colorbar\\\":{\\\"ticks\\\":\\\"\\\",\\\"outlinewidth\\\":0}}}],\\\"histogram2dcontour\\\":[{\\\"colorbar\\\":{\\\"ticks\\\":\\\"\\\",\\\"outlinewidth\\\":0},\\\"type\\\":\\\"histogram2dcontour\\\",\\\"colorscale\\\":[[0.0,\\\"#0d0887\\\"],[0.1111111111111111,\\\"#46039f\\\"],[0.2222222222222222,\\\"#7201a8\\\"],[0.3333333333333333,\\\"#9c179e\\\"],[0.4444444444444444,\\\"#bd3786\\\"],[0.5555555555555556,\\\"#d8576b\\\"],[0.6666666666666666,\\\"#ed7953\\\"],[0.7777777777777778,\\\"#fb9f3a\\\"],[0.8888888888888888,\\\"#fdca26\\\"],[1.0,\\\"#f0f921\\\"]]}],\\\"contour\\\":[{\\\"colorbar\\\":{\\\"ticks\\\":\\\"\\\",\\\"outlinewidth\\\":0},\\\"type\\\":\\\"contour\\\",\\\"colorscale\\\":[[0.0,\\\"#0d0887\\\"],[0.1111111111111111,\\\"#46039f\\\"],[0.2222222222222222,\\\"#7201a8\\\"],[0.3333333333333333,\\\"#9c179e\\\"],[0.4444444444444444,\\\"#bd3786\\\"],[0.5555555555555556,\\\"#d8576b\\\"],[0.6666666666666666,\\\"#ed7953\\\"],[0.7777777777777778,\\\"#fb9f3a\\\"],[0.8888888888888888,\\\"#fdca26\\\"],[1.0,\\\"#f0f921\\\"]]}],\\\"scattercarpet\\\":[{\\\"type\\\":\\\"scattercarpet\\\",\\\"marker\\\":{\\\"colorbar\\\":{\\\"ticks\\\":\\\"\\\",\\\"outlinewidth\\\":0}}}],\\\"mesh3d\\\":[{\\\"colorbar\\\":{\\\"ticks\\\":\\\"\\\",\\\"outlinewidth\\\":0},\\\"type\\\":\\\"mesh3d\\\"}],\\\"surface\\\":[{\\\"colorbar\\\":{\\\"ticks\\\":\\\"\\\",\\\"outlinewidth\\\":0},\\\"type\\\":\\\"surface\\\",\\\"colorscale\\\":[[0.0,\\\"#0d0887\\\"],[0.1111111111111111,\\\"#46039f\\\"],[0.2222222222222222,\\\"#7201a8\\\"],[0.3333333333333333,\\\"#9c179e\\\"],[0.4444444444444444,\\\"#bd3786\\\"],[0.5555555555555556,\\\"#d8576b\\\"],[0.6666666666666666,\\\"#ed7953\\\"],[0.7777777777777778,\\\"#fb9f3a\\\"],[0.8888888888888888,\\\"#fdca26\\\"],[1.0,\\\"#f0f921\\\"]]}],\\\"scattermapbox\\\":[{\\\"type\\\":\\\"scattermapbox\\\",\\\"marker\\\":{\\\"colorbar\\\":{\\\"ticks\\\":\\\"\\\",\\\"outlinewidth\\\":0}}}],\\\"scattergeo\\\":[{\\\"type\\\":\\\"scattergeo\\\",\\\"marker\\\":{\\\"colorbar\\\":{\\\"ticks\\\":\\\"\\\",\\\"outlinewidth\\\":0}}}],\\\"histogram\\\":[{\\\"type\\\":\\\"histogram\\\",\\\"marker\\\":{\\\"colorbar\\\":{\\\"ticks\\\":\\\"\\\",\\\"outlinewidth\\\":0}}}],\\\"pie\\\":[{\\\"type\\\":\\\"pie\\\",\\\"automargin\\\":true}],\\\"choropleth\\\":[{\\\"colorbar\\\":{\\\"ticks\\\":\\\"\\\",\\\"outlinewidth\\\":0},\\\"type\\\":\\\"choropleth\\\"}],\\\"heatmapgl\\\":[{\\\"colorbar\\\":{\\\"ticks\\\":\\\"\\\",\\\"outlinewidth\\\":0},\\\"type\\\":\\\"heatmapgl\\\",\\\"colorscale\\\":[[0.0,\\\"#0d0887\\\"],[0.1111111111111111,\\\"#46039f\\\"],[0.2222222222222222,\\\"#7201a8\\\"],[0.3333333333333333,\\\"#9c179e\\\"],[0.4444444444444444,\\\"#bd3786\\\"],[0.5555555555555556,\\\"#d8576b\\\"],[0.6666666666666666,\\\"#ed7953\\\"],[0.7777777777777778,\\\"#fb9f3a\\\"],[0.8888888888888888,\\\"#fdca26\\\"],[1.0,\\\"#f0f921\\\"]]}],\\\"bar\\\":[{\\\"type\\\":\\\"bar\\\",\\\"error_y\\\":{\\\"color\\\":\\\"#2a3f5f\\\"},\\\"error_x\\\":{\\\"color\\\":\\\"#2a3f5f\\\"},\\\"marker\\\":{\\\"line\\\":{\\\"color\\\":\\\"#E5ECF6\\\",\\\"width\\\":0.5}}}],\\\"heatmap\\\":[{\\\"colorbar\\\":{\\\"ticks\\\":\\\"\\\",\\\"outlinewidth\\\":0},\\\"type\\\":\\\"heatmap\\\",\\\"colorscale\\\":[[0.0,\\\"#0d0887\\\"],[0.1111111111111111,\\\"#46039f\\\"],[0.2222222222222222,\\\"#7201a8\\\"],[0.3333333333333333,\\\"#9c179e\\\"],[0.4444444444444444,\\\"#bd3786\\\"],[0.5555555555555556,\\\"#d8576b\\\"],[0.6666666666666666,\\\"#ed7953\\\"],[0.7777777777777778,\\\"#fb9f3a\\\"],[0.8888888888888888,\\\"#fdca26\\\"],[1.0,\\\"#f0f921\\\"]]}],\\\"contourcarpet\\\":[{\\\"colorbar\\\":{\\\"ticks\\\":\\\"\\\",\\\"outlinewidth\\\":0},\\\"type\\\":\\\"contourcarpet\\\"}],\\\"table\\\":[{\\\"type\\\":\\\"table\\\",\\\"header\\\":{\\\"line\\\":{\\\"color\\\":\\\"white\\\"},\\\"fill\\\":{\\\"color\\\":\\\"#C8D4E3\\\"}},\\\"cells\\\":{\\\"line\\\":{\\\"color\\\":\\\"white\\\"},\\\"fill\\\":{\\\"color\\\":\\\"#EBF0F8\\\"}}}],\\\"scatter3d\\\":[{\\\"line\\\":{\\\"colorbar\\\":{\\\"ticks\\\":\\\"\\\",\\\"outlinewidth\\\":0}},\\\"type\\\":\\\"scatter3d\\\",\\\"marker\\\":{\\\"colorbar\\\":{\\\"ticks\\\":\\\"\\\",\\\"outlinewidth\\\":0}}}],\\\"scattergl\\\":[{\\\"type\\\":\\\"scattergl\\\",\\\"marker\\\":{\\\"colorbar\\\":{\\\"ticks\\\":\\\"\\\",\\\"outlinewidth\\\":0}}}],\\\"histogram2d\\\":[{\\\"colorbar\\\":{\\\"ticks\\\":\\\"\\\",\\\"outlinewidth\\\":0},\\\"type\\\":\\\"histogram2d\\\",\\\"colorscale\\\":[[0.0,\\\"#0d0887\\\"],[0.1111111111111111,\\\"#46039f\\\"],[0.2222222222222222,\\\"#7201a8\\\"],[0.3333333333333333,\\\"#9c179e\\\"],[0.4444444444444444,\\\"#bd3786\\\"],[0.5555555555555556,\\\"#d8576b\\\"],[0.6666666666666666,\\\"#ed7953\\\"],[0.7777777777777778,\\\"#fb9f3a\\\"],[0.8888888888888888,\\\"#fdca26\\\"],[1.0,\\\"#f0f921\\\"]]}],\\\"scatterternary\\\":[{\\\"type\\\":\\\"scatterternary\\\",\\\"marker\\\":{\\\"colorbar\\\":{\\\"ticks\\\":\\\"\\\",\\\"outlinewidth\\\":0}}}],\\\"scatterpolargl\\\":[{\\\"type\\\":\\\"scatterpolargl\\\",\\\"marker\\\":{\\\"colorbar\\\":{\\\"ticks\\\":\\\"\\\",\\\"outlinewidth\\\":0}}}]}},\\\"height\\\":200,\\\"margin\\\":{\\\"l\\\":1,\\\"b\\\":1,\\\"pad\\\":4,\\\"r\\\":1,\\\"t\\\":1},\\\"width\\\":500},{\\\"showLink\\\":false,\\\"editable\\\":false,\\\"responsive\\\":true,\\\"staticPlot\\\":false,\\\"scrollZoom\\\":true}); gd.on(\\\"plotly_hover\\\",(function (data){var filtered_data=WebIO.PlotlyCommands.filterEventData(gd,data,\\\"hover\\\"); return !(filtered_data.isnil) ? (WebIO.setval({\\\"name\\\":\\\"hover\\\",\\\"scope\\\":\\\"13630989968069765714\\\",\\\"id\\\":\\\"41\\\",\\\"type\\\":\\\"observable\\\"},filtered_data.out)) : undefined})); gd.on(\\\"plotly_unhover\\\",(function (){return WebIO.setval({\\\"name\\\":\\\"hover\\\",\\\"scope\\\":\\\"13630989968069765714\\\",\\\"id\\\":\\\"41\\\",\\\"type\\\":\\\"observable\\\"},{})})); gd.on(\\\"plotly_selected\\\",(function (data){var filtered_data=WebIO.PlotlyCommands.filterEventData(gd,data,\\\"selected\\\"); return !(filtered_data.isnil) ? (WebIO.setval({\\\"name\\\":\\\"selected\\\",\\\"scope\\\":\\\"13630989968069765714\\\",\\\"id\\\":\\\"42\\\",\\\"type\\\":\\\"observable\\\"},filtered_data.out)) : undefined})); gd.on(\\\"plotly_deselect\\\",(function (){return WebIO.setval({\\\"name\\\":\\\"selected\\\",\\\"scope\\\":\\\"13630989968069765714\\\",\\\"id\\\":\\\"42\\\",\\\"type\\\":\\\"observable\\\"},{})})); gd.on(\\\"plotly_relayout\\\",(function (data){var filtered_data=WebIO.PlotlyCommands.filterEventData(gd,data,\\\"relayout\\\"); return !(filtered_data.isnil) ? (WebIO.setval({\\\"name\\\":\\\"relayout\\\",\\\"scope\\\":\\\"13630989968069765714\\\",\\\"id\\\":\\\"44\\\",\\\"type\\\":\\\"observable\\\"},filtered_data.out)) : undefined})); return gd.on(\\\"plotly_click\\\",(function (data){var filtered_data=WebIO.PlotlyCommands.filterEventData(gd,data,\\\"click\\\"); return !(filtered_data.isnil) ? (WebIO.setval({\\\"name\\\":\\\"click\\\",\\\"scope\\\":\\\"13630989968069765714\\\",\\\"id\\\":\\\"43\\\",\\\"type\\\":\\\"observable\\\"},filtered_data.out)) : undefined}))}));\\n    (WebIO.importBlock({\\\"data\\\":[{\\\"name\\\":\\\"Plotly\\\",\\\"type\\\":\\\"js\\\",\\\"url\\\":\\\"\\/assetserver\\/6ce5a5e5b28ac6ffdcfcd49d44ebd4d6dbe36ed4-plotly.min.js\\\"},{\\\"name\\\":null,\\\"type\\\":\\\"js\\\",\\\"url\\\":\\\"\\/assetserver\\/6f85150d15f92ccf38dc2254479a8612ce6d040e-plotly_webio.bundle.js\\\"}],\\\"type\\\":\\\"async_block\\\"})).then((imports) => handler.apply(this, imports));\\n}\\n\"],\"observables\":{\"_toImage\":{\"sync\":false,\"id\":\"48\",\"value\":{}},\"hover\":{\"sync\":false,\"id\":\"41\",\"value\":{}},\"selected\":{\"sync\":false,\"id\":\"42\",\"value\":{}},\"__gd_contents\":{\"sync\":false,\"id\":\"46\",\"value\":{}},\"click\":{\"sync\":false,\"id\":\"43\",\"value\":{}},\"image\":{\"sync\":true,\"id\":\"45\",\"value\":\"\"},\"__get_gd_contents\":{\"sync\":false,\"id\":\"50\",\"value\":\"\"},\"_downloadImage\":{\"sync\":false,\"id\":\"49\",\"value\":{}},\"relayout\":{\"sync\":false,\"id\":\"44\",\"value\":{}},\"_commands\":{\"sync\":false,\"id\":\"47\",\"value\":[]}}},\"children\":[{\"props\":{\"id\":\"plot-92725241-b1ba-4528-90ac-33076da31df7\"},\"nodeType\":\"DOM\",\"type\":\"node\",\"instanceArgs\":{\"namespace\":\"html\",\"tag\":\"div\"},\"children\":[]}]},\n",
       "        window,\n",
       "    );\n",
       "    })()\n",
       "    </script>\n",
       "</div>\n"
      ],
      "text/plain": [
       "data: [\n",
       "  \"histogram with fields histnorm, type, and x\"\n",
       "]\n",
       "\n",
       "layout: \"layout with fields autosize, font, height, margin, template, width, and xaxis\"\n",
       "\n"
      ]
     },
     "metadata": {},
     "output_type": "display_data"
    }
   ],
   "source": [
    "cat_nb_cc_with_more_than_1_cycle = string.(sort(Int.(cc_with_more_than_1_cycle\n",
    ")))\n",
    "trace = PlotlyJS.histogram(x=cat_nb_cc_with_more_than_1_cycle, histnorm=\"probability density\")\n",
    "layout = Layout(\n",
    "    autosize=false,\n",
    "    width=500,\n",
    "    height=200,\n",
    "    margin=attr(l=1, r=1, b=1, t=1, pad=4),\n",
    "    font_size=35,\n",
    "    xaxis_type=\"category\",\n",
    ")\n",
    "name = \"comparison_hpkv_MUN_cc_more_than_1_cycle_\"*\"n\"*string(n)*\"p\"*string(p)*\"eta\"*string(eta)*\"q\"*string(q)\n",
    "p_more_than_1 = PlotlyJS.plot(trace,layout)\n"
   ]
  },
  {
   "cell_type": "code",
   "execution_count": null,
   "metadata": {},
   "outputs": [],
   "source": []
  }
 ],
 "metadata": {
  "kernelspec": {
   "display_name": "Julia 1.6.7",
   "language": "julia",
   "name": "julia-1.6"
  },
  "language_info": {
   "file_extension": ".jl",
   "mimetype": "application/julia",
   "name": "julia",
   "version": "1.6.7"
  }
 },
 "nbformat": 4,
 "nbformat_minor": 2
}
