{
 "cells": [
  {
   "cell_type": "code",
   "execution_count": 11,
   "metadata": {},
   "outputs": [],
   "source": [
    "using MagneticLaplacianSparsifier\n",
    "using Graphs, MetaGraphs, Random, IterTools, LinearAlgebra, GraphPlot, Arpack, Plots, SparseArrays\n",
    "using Statistics\n",
    "using Measures\n",
    "using StatsBase\n",
    "using GraphIO \n",
    "using ParserCombinator "
   ]
  },
  {
   "cell_type": "code",
   "execution_count": 9,
   "metadata": {},
   "outputs": [
    {
     "data": {
      "text/plain": [
       "1.2029595220360425"
      ]
     },
     "metadata": {},
     "output_type": "display_data"
    }
   ],
   "source": [
    "n = 100\n",
    "p = 0.9\n",
    "eta = 0.\n",
    "\n",
    "rng = Random.default_rng()\n",
    "meta_g = gen_graph_mun(rng, n, p, eta)\n",
    "for e in edges(meta_g)\n",
    "    set_prop!(meta_g, e, :angle, 0.0)\n",
    "end\n",
    "\n",
    "B = magnetic_incidence(meta_g)\n",
    "L = B * B'\n",
    "\n",
    "lambda = eigvals(L)\n",
    "\n",
    "cond_comb_Laplacian(L)\n"
   ]
  },
  {
   "cell_type": "code",
   "execution_count": 22,
   "metadata": {},
   "outputs": [
    {
     "data": {
      "text/plain": [
       "42.06095402194582"
      ]
     },
     "metadata": {},
     "output_type": "display_data"
    }
   ],
   "source": [
    "# SBM\n",
    "c = [50 1;\n",
    "1 50]\n",
    "n = [500 ; 500]\n",
    "g =  stochastic_block_model(c, n)\n",
    "meta_g = MetaGraph(g)\n",
    "for e in edges(meta_g)\n",
    "    set_prop!(meta_g, e, :angle, 0.0)\n",
    "end\n",
    "\n",
    "\n",
    "B = magnetic_incidence(meta_g)\n",
    "L = B * B'\n",
    "\n",
    "lambda = eigvals(L)\n",
    "\n",
    "cond_comb_Laplacian(L)\n"
   ]
  },
  {
   "cell_type": "code",
   "execution_count": 8,
   "metadata": {},
   "outputs": [
    {
     "data": {
      "text/plain": [
       "cond_comb_Laplacian (generic function with 1 method)"
      ]
     },
     "metadata": {},
     "output_type": "display_data"
    }
   ],
   "source": [
    "function cond_comb_Laplacian(L)\n",
    "    sz = size(L)\n",
    "    n = sz[1]\n",
    "    lambda = eigvals(L)\n",
    "    # exclude zero eigenvalue of combinatorial Laplacian\n",
    "    cd = lambda[n]/lambda[2]\n",
    "    return cd\n",
    "end"
   ]
  },
  {
   "cell_type": "code",
   "execution_count": null,
   "metadata": {},
   "outputs": [],
   "source": []
  }
 ],
 "metadata": {
  "kernelspec": {
   "display_name": "Julia 1.6.3",
   "language": "julia",
   "name": "julia-1.6"
  },
  "language_info": {
   "file_extension": ".jl",
   "mimetype": "application/julia",
   "name": "julia",
   "version": "1.6.3"
  },
  "orig_nbformat": 4
 },
 "nbformat": 4,
 "nbformat_minor": 2
}
