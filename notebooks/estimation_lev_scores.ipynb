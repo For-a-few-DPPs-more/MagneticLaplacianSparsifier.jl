{
 "cells": [
  {
   "cell_type": "code",
   "execution_count": null,
   "metadata": {},
   "outputs": [],
   "source": [
    "using MagneticLaplacianSparsifier\n",
    "using Graphs, MetaGraphs, Random, IterTools, LinearAlgebra, GraphPlot, Arpack, Plots, SparseArrays\n",
    "using PlotlyJS\n",
    "using StatsBase, JLD2"
   ]
  },
  {
   "cell_type": "markdown",
   "metadata": {},
   "source": [
    "# Leverage score approximation"
   ]
  },
  {
   "cell_type": "markdown",
   "metadata": {},
   "source": [
    "* 1. [MUN graph](#graph)\n",
    "* 2. [Comparison between exact and JL estimates of leverage scores](#JLestimates) \n",
    "    * 2.1 [JL estimates $q=0$](#JLestimatesq0)  \n",
    "    * 2.2 [JL estimates $q=1$](#JLestimatesq1) \n",
    "* 3. [Comparison between exact and empirical estimates of leverage scores](#empLS) \n",
    "    * 3.1 [Cycle popping $q=0$ (self-normalized importance sampling)](#empLS_CP_q0)\n",
    "    * 3.2 [Cycle popping $q=1$ (self-normalized importance sampling)](#empLS_CP_q1) \n",
    "    * 3.3 [HKPV $q=0$](#empLS_HKPV_q0) \n",
    "    * 3.4 [HKPV $q=1$](#empLS_HKPV_q1) "
   ]
  },
  {
   "cell_type": "markdown",
   "metadata": {},
   "source": [
    "<a name=\"graph\"></a>"
   ]
  },
  {
   "cell_type": "markdown",
   "metadata": {},
   "source": [
    "#### 1. MUN graph  <a id=\"graph\"></a>"
   ]
  },
  {
   "cell_type": "code",
   "execution_count": null,
   "metadata": {},
   "outputs": [],
   "source": [
    "# sample a MUN graph\n",
    "n = 500\n",
    "p = 0.2\n",
    "eta = 0.1\n",
    "cst = 40\n",
    "\n",
    "rng = Random.default_rng()\n",
    "type = \"MUN\"\n",
    "meta_g = gen_graph_mun(rng, n, p, eta)\n",
    "B = magnetic_incidence_matrix(meta_g);"
   ]
  },
  {
   "cell_type": "markdown",
   "metadata": {},
   "source": [
    "#### 2. Comparison between exact and JL estimates of leverage scores <a id=\"JLestimates\"></a>"
   ]
  },
  {
   "cell_type": "markdown",
   "metadata": {},
   "source": [
    "2.1 JL estimates for $q=0$ <a id=\"JLestimatesq0\"></a>"
   ]
  },
  {
   "cell_type": "code",
   "execution_count": null,
   "metadata": {},
   "outputs": [],
   "source": [
    "q = 0\n",
    "lev = leverage_score(B, q)\n",
    "JL_lev = JL_lev_score_estimates(B, q; cst);\n",
    "\n",
    "name = \"JL-LS\"*\"n\"*string(n)*\"p\"*string(p)*\"eta\"*string(eta)*\"q\"*string(q)\n",
    "file = \"figures/data/\"*name*\"_data.jld2\"\n",
    "save(file, \"lev\", lev,\"JL_lev\", JL_lev)\n",
    "\n",
    "println(\"times saved in \"*file)\n",
    "rel_diff = (lev-JL_lev)./lev;\n",
    "println(\"mean: \", mean(rel_diff), \" std: \", std(rel_diff))"
   ]
  },
  {
   "cell_type": "code",
   "execution_count": null,
   "metadata": {},
   "outputs": [],
   "source": [
    "file = \"figures/data/JL-LSn500p0.2eta0.1q0_data.jld2\"\n",
    "D = load(file)\n",
    "lev = D[\"lev\"]\n",
    "JL_lev = D[\"JL_lev\"]\n",
    "\n",
    "rel_diff = (lev-JL_lev)./lev;\n",
    "\n",
    "trace = box(y=rel_diff,\n",
    "marker=attr(\n",
    "        color=\"LightSkyBlue\",\n",
    "        size=1),\n",
    "quartilemethod=\"linear\",\n",
    "name=\"\",\n",
    "marker_color=\"royalblue\",\n",
    "boxmean=true)\n",
    "\n",
    "\n",
    "layout = Layout(\n",
    "    autosize=false,\n",
    "    width=500,\n",
    "    height=500,\n",
    "    margin=attr(l=1, r=1, b=1, t=1, pad=4),\n",
    "    font_size=20,\n",
    ")\n",
    "PlotlyJS.plot(trace,layout)\n",
    "\n",
    "# saving\n",
    "plt = PlotlyJS.plot(trace,layout)\n",
    "PlotlyJS.savefig(plt,\"figures/\"*name*\".pdf\")"
   ]
  },
  {
   "cell_type": "markdown",
   "metadata": {},
   "source": [
    "2.2 JL estimates for $q=1$ <a id=\"JLestimatesq1\"></a>"
   ]
  },
  {
   "cell_type": "code",
   "execution_count": null,
   "metadata": {},
   "outputs": [],
   "source": [
    "q = 1\n",
    "lev = leverage_score(B, q)\n",
    "JL_lev = JL_lev_score_estimates(B, q; cst);\n",
    "\n",
    "rel_diff = (lev-JL_lev)./lev;\n",
    "println(\"mean: \", mean(rel_diff), \" std: \", std(rel_diff))\n",
    "\n",
    "name = \"JL-LS\"*\"n\"*string(n)*\"p\"*string(p)*\"eta\"*string(eta)*\"q\"*string(q)\n",
    "\n",
    "file = \"figures/data/\"*name*\"_data.jld2\"\n",
    "save(file, \"lev\", lev,\"JL_lev\", JL_lev )\n",
    "\n",
    "println(\"times saved in \"*file)\n",
    "rel_diff = (lev-JL_lev)./lev;\n",
    "println(\"mean: \", mean(rel_diff), \" std: \", std(rel_diff))\n"
   ]
  },
  {
   "cell_type": "code",
   "execution_count": null,
   "metadata": {},
   "outputs": [],
   "source": [
    "file = \"figures/data/JL-LSn500p0.2eta0.1q1_data.jld2\"\n",
    "D = load(file)\n",
    "lev = D[\"lev\"]\n",
    "JL_lev = D[\"JL_lev\"]\n",
    "\n",
    "rel_diff = (lev-JL_lev)./lev;\n",
    "\n",
    "trace = box(y=rel_diff,\n",
    "marker=attr(\n",
    "        color=\"LightSkyBlue\",\n",
    "        size=1),\n",
    "quartilemethod=\"linear\",\n",
    "name=\"\",\n",
    "marker_color=\"royalblue\",\n",
    "boxmean=true)\n",
    "\n",
    "layout = Layout(\n",
    "    autosize=false,\n",
    "    width=500,\n",
    "    height=500,\n",
    "    margin=attr(l=1, r=1, b=1, t=1, pad=4),\n",
    "    font_size=20,\n",
    ")\n",
    "PlotlyJS.plot(trace,layout)\n",
    "\n",
    "name = \"JL-LS\"*\"n\"*string(n)*\"p\"*string(p)*\"eta\"*string(eta)*\"q\"*string(q)\n",
    "\n",
    "plt = PlotlyJS.plot(trace,layout)\n",
    "PlotlyJS.savefig(plt,\"figures/\"*name*\".pdf\")"
   ]
  },
  {
   "cell_type": "markdown",
   "metadata": {},
   "source": [
    "#### 3. Comparison between exact  and empirical estimates of leverage scores <a id=\"empLS\"></a>"
   ]
  },
  {
   "cell_type": "markdown",
   "metadata": {},
   "source": [
    "3.1 Cycle popping for $q=0$ <a id=\"empLS_CP_q0\"></a>"
   ]
  },
  {
   "cell_type": "code",
   "execution_count": null,
   "metadata": {},
   "outputs": [],
   "source": [
    "nb_samples = Int(1e5)\n",
    "\n",
    "q = 0.\n",
    "\n",
    "lev = leverage_score(B, q)\n",
    "emp_lev = emp_leverage_score(rng, meta_g, q, nb_samples)\n",
    "\n",
    "rel_diff = vec((lev-emp_lev)./lev);\n",
    "println(\"mean: \", mean(rel_diff), \" std: \", std(rel_diff))\n",
    "\n",
    "name = \"emp-LS\"*\"n\"*string(n)*\"p\"*string(p)*\"eta\"*string(eta)*\"q\"*string(q)\n",
    "\n",
    "file = \"figures/data/\"*name*\"_data.jld2\"\n",
    "save(file, \"lev\", lev,\"emp_lev\", emp_lev )\n",
    "println(\"times saved in \"*file)\n"
   ]
  },
  {
   "cell_type": "code",
   "execution_count": null,
   "metadata": {},
   "outputs": [],
   "source": [
    "D = load(file)\n",
    "lev = D[\"lev\"]\n",
    "emp_lev = D[\"emp_lev\"]\n",
    "\n",
    "rel_diff = vec((lev-emp_lev)./lev);\n",
    "\n",
    "\n",
    "trace = box(y=rel_diff,\n",
    "marker=attr(\n",
    "        color=\"LightSkyBlue\",\n",
    "        size=1),\n",
    "quartilemethod=\"linear\",\n",
    "name=\"\",\n",
    "marker_color=\"royalblue\",\n",
    "boxmean=true)\n",
    "\n",
    "layout = Layout(\n",
    "    autosize=false,\n",
    "    width=500,\n",
    "    height=500,\n",
    "    margin=attr(l=1, r=1, b=1, t=1, pad=4),\n",
    "    font_size=20,\n",
    ")\n",
    "PlotlyJS.plot(trace,layout)\n",
    "\n",
    "\n",
    "plt = PlotlyJS.plot(trace,layout)\n",
    "PlotlyJS.savefig(plt,\"figures/\"*name*\".pdf\")"
   ]
  },
  {
   "cell_type": "markdown",
   "metadata": {},
   "source": [
    "3.2 Cycle popping for $q=1$ <a id=\"empLS_CP_q1\"></a>"
   ]
  },
  {
   "cell_type": "code",
   "execution_count": null,
   "metadata": {},
   "outputs": [],
   "source": [
    "nb_samples = Int(1e5)\n",
    "\n",
    "q = 1\n",
    "name = \"emp-LS\"*\"n\"*string(n)*\"p\"*string(p)*\"eta\"*string(eta)*\"q\"*string(q)*\"nb_samples\"*string(nb_samples)\n",
    "\n",
    "lev = leverage_score(B, q)\n",
    "emp_lev = emp_leverage_score(rng, meta_g, q, nb_samples)\n",
    "\n",
    "rel_diff = vec((lev-emp_lev)./lev);\n",
    "println(\"mean: \", mean(rel_diff), \" std: \", std(rel_diff))\n",
    "\n",
    "\n",
    "file = \"figures/data/\"*name*\"_data.jld2\"\n",
    "save(file, \"lev\", lev,\"emp_lev\", emp_lev )\n",
    "println(\"times saved in \"*file)\n"
   ]
  },
  {
   "cell_type": "code",
   "execution_count": null,
   "metadata": {},
   "outputs": [],
   "source": [
    "file = \"figures/data/\"*name*\"_data.jld2\"\n",
    "D = load(file)\n",
    "lev = D[\"lev\"]\n",
    "emp_lev = D[\"emp_lev\"]\n",
    "rel_diff = vec((lev-emp_lev)./lev);\n",
    "\n",
    "\n",
    "trace = box(y=rel_diff,\n",
    "marker=attr(\n",
    "        color=\"LightSkyBlue\",\n",
    "        size=1),\n",
    "quartilemethod=\"linear\",\n",
    "name=\"\",\n",
    "marker_color=\"royalblue\",\n",
    "boxmean=true)\n",
    "\n",
    "layout = Layout(\n",
    "    autosize=false,\n",
    "    width=500,\n",
    "    height=500,\n",
    "    margin=attr(l=1, r=1, b=1, t=1, pad=4),\n",
    "    font_size=20,\n",
    ")\n",
    "PlotlyJS.plot(trace,layout)\n",
    "\n",
    "name = \"emp_LS\"*\"n\"*string(n)*\"p\"*string(p)*\"eta\"*string(eta)*\"q\"*string(q)\n",
    "\n",
    "plt = PlotlyJS.plot(trace,layout)\n",
    "PlotlyJS.savefig(plt,\"figures/\"*name*\".pdf\")"
   ]
  },
  {
   "cell_type": "markdown",
   "metadata": {},
   "source": [
    "3.3 HKPV for $q=0$ <a id=\"empLS_HKPV_q0\"></a>"
   ]
  },
  {
   "cell_type": "code",
   "execution_count": null,
   "metadata": {},
   "outputs": [],
   "source": [
    "nb_samples = Int(100)\n",
    "\n",
    "q = 0.\n",
    "\n",
    "lev = leverage_score(B, q)\n",
    "hkpv = true\n",
    "emp_lev = emp_leverage_score(rng, meta_g, q, nb_samples;hkpv)\n",
    "\n",
    "rel_diff = vec((lev-emp_lev)./lev);\n",
    "println(\"mean: \", mean(rel_diff), \" std: \", std(rel_diff))\n",
    "\n",
    "name = \"emp_LS_HKPV\"*\"n\"*string(n)*\"p\"*string(p)*\"eta\"*string(eta)*\"q\"*string(q)\n",
    "\n",
    "file = \"figures/data/\"*name*\"_data.jld2\"\n",
    "save(file, \"lev\", lev,\"emp_lev\", emp_lev )\n",
    "println(\"times saved in \"*file)\n"
   ]
  },
  {
   "cell_type": "code",
   "execution_count": null,
   "metadata": {},
   "outputs": [],
   "source": [
    "file = \"figures/data/\"*name*\"_data.jld2\"\n",
    "D = load(file)\n",
    "lev = D[\"lev\"]\n",
    "emp_lev = D[\"emp_lev\"]\n",
    "rel_diff = vec((lev-emp_lev)./lev);\n",
    "\n",
    "\n",
    "trace = box(y=rel_diff,\n",
    "marker=attr(\n",
    "        color=\"LightSkyBlue\",\n",
    "        size=1),\n",
    "quartilemethod=\"linear\",\n",
    "name=\"\",\n",
    "marker_color=\"royalblue\",\n",
    "boxmean=true)\n",
    "\n",
    "layout = Layout(\n",
    "    autosize=false,\n",
    "    width=500,\n",
    "    height=500,\n",
    "    margin=attr(l=1, r=1, b=1, t=1, pad=4),\n",
    "    font_size=20,\n",
    ")\n",
    "PlotlyJS.plot(trace,layout)\n",
    "\n",
    "name = \"emp_LS_HKPV\"*\"n\"*string(n)*\"p\"*string(p)*\"eta\"*string(eta)*\"q\"*string(q)\n",
    "\n",
    "plt = PlotlyJS.plot(trace,layout)\n",
    "PlotlyJS.savefig(plt,\"figures/\"*name*\".pdf\")"
   ]
  },
  {
   "cell_type": "markdown",
   "metadata": {},
   "source": [
    "3.4 HKPV for $q=1$ <a id=\"empLS_HKPV_q1\"></a>"
   ]
  },
  {
   "cell_type": "code",
   "execution_count": null,
   "metadata": {},
   "outputs": [],
   "source": [
    "nb_samples = Int(100)\n",
    "\n",
    "q = 1\n",
    "\n",
    "lev = leverage_score(B, q)\n",
    "hkpv = true\n",
    "emp_lev = emp_leverage_score(rng, meta_g, q, nb_samples;hkpv)\n",
    "\n",
    "rel_diff = vec((lev-emp_lev)./lev);\n",
    "println(\"mean: \", mean(rel_diff), \" std: \", std(rel_diff))\n",
    "\n",
    "name = \"emp_LS_HKPV\"*\"n\"*string(n)*\"p\"*string(p)*\"eta\"*string(eta)*\"q\"*string(q)\n",
    "\n",
    "file = \"figures/data/\"*name*\"_data.jld2\"\n",
    "save(file, \"lev\", lev,\"emp_lev\", emp_lev )\n",
    "println(\"times saved in \"*file)\n"
   ]
  },
  {
   "cell_type": "code",
   "execution_count": null,
   "metadata": {},
   "outputs": [],
   "source": [
    "file = \"figures/data/\"*name*\"_data.jld2\"\n",
    "D = load(file)\n",
    "lev = D[\"lev\"]\n",
    "emp_lev = D[\"emp_lev\"]\n",
    "rel_diff = vec((lev-emp_lev)./lev);\n",
    "\n",
    "trace = box(y=rel_diff,\n",
    "marker=attr(\n",
    "        color=\"LightSkyBlue\",\n",
    "        size=1),\n",
    "quartilemethod=\"linear\",\n",
    "name=\"\",\n",
    "marker_color=\"royalblue\",\n",
    "boxmean=true)\n",
    "\n",
    "layout = Layout(\n",
    "    autosize=false,\n",
    "    width=500,\n",
    "    height=500,\n",
    "    margin=attr(l=1, r=1, b=1, t=1, pad=4),\n",
    "    font_size=20,\n",
    ")\n",
    "PlotlyJS.plot(trace,layout)\n",
    "\n",
    "name = \"emp_LS_HKPV\"*\"n\"*string(n)*\"p\"*string(p)*\"eta\"*string(eta)*\"q\"*string(q)\n",
    "\n",
    "plt = PlotlyJS.plot(trace,layout)\n",
    "PlotlyJS.savefig(plt,\"figures/\"*name*\".pdf\")"
   ]
  },
  {
   "cell_type": "code",
   "execution_count": null,
   "metadata": {},
   "outputs": [],
   "source": []
  }
 ],
 "metadata": {
  "kernelspec": {
   "display_name": "Julia 1.6.7",
   "language": "julia",
   "name": "julia-1.6"
  },
  "language_info": {
   "file_extension": ".jl",
   "mimetype": "application/julia",
   "name": "julia",
   "version": "1.6.7"
  },
  "orig_nbformat": 4
 },
 "nbformat": 4,
 "nbformat_minor": 2
}
