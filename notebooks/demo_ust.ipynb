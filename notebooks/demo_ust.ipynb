{
 "cells": [
  {
   "cell_type": "code",
   "execution_count": 1,
   "metadata": {},
   "outputs": [],
   "source": [
    "using MagneticLaplacianSparsifier\n",
    "using Graphs, MetaGraphs, Random, IterTools, LinearAlgebra, GraphPlot, Arpack, Plots, SparseArrays\n",
    "using Statistics\n",
    "using Measures\n",
    "using StatsBase\n",
    "\n",
    "rng = Random.default_rng();\n"
   ]
  },
  {
   "cell_type": "code",
   "execution_count": 14,
   "metadata": {},
   "outputs": [
    {
     "data": {
      "text/plain": [
       "99"
      ]
     },
     "metadata": {},
     "output_type": "display_data"
    }
   ],
   "source": [
    "n = 100\n",
    "p = 0.9\n",
    "eta = 0\n",
    "q=0\n",
    "\n",
    "\n",
    "meta_g = gen_graph_mun(rng, n, p, eta)\n",
    "mtsf = multi_type_spanning_forest(rng, meta_g, q; weighted=false,absorbing_node=true,ust=true)\n",
    "ne(mtsf)"
   ]
  },
  {
   "cell_type": "code",
   "execution_count": 18,
   "metadata": {},
   "outputs": [
    {
     "ename": "InterruptException",
     "evalue": "InterruptException:",
     "output_type": "error",
     "traceback": [
      "InterruptException:\n",
      "\n",
      "Stacktrace:\n",
      "  [1] curvature(g::MetaGraph{Int64, Float64}, edges::IterTools.Partition{SubArray{Int64, 1, Vector{Int64}, Tuple{UnitRange{Int64}}, true}, 2}, oriented::Bool, default_angle::Float64)\n",
      "    @ MagneticLaplacianSparsifier ~/Documents/Code/juliaTemplate/MagneticLaplacianSparsifier/src/mtsf.jl:140\n",
      "  [2] curvature\n",
      "    @ ~/Documents/Code/juliaTemplate/MagneticLaplacianSparsifier/src/mtsf.jl:136 [inlined]\n",
      "  [3] keep_cycle(rng::MersenneTwister, graph::MetaGraph{Int64, Float64}, cycle_edges::IterTools.Partition{SubArray{Int64, 1, Vector{Int64}, Tuple{UnitRange{Int64}}, true}, 2})\n",
      "    @ MagneticLaplacianSparsifier ~/Documents/Code/juliaTemplate/MagneticLaplacianSparsifier/src/mtsf.jl:129\n",
      "  [4] multi_type_spanning_forest(rng::MersenneTwister, g::MetaGraph{Int64, Float64}, q::Int64; weighted::Bool, absorbing_node::Bool, ust::Bool)\n",
      "    @ MagneticLaplacianSparsifier ~/Documents/Code/juliaTemplate/MagneticLaplacianSparsifier/src/mtsf.jl:81\n",
      "  [5] emp_leverage_score(rng::MersenneTwister, meta_g::MetaGraph{Int64, Float64}, q::Int64, t::Int64; weighted::Bool, absorbing_node::Bool, ust::Bool)\n",
      "    @ MagneticLaplacianSparsifier ~/Documents/Code/juliaTemplate/MagneticLaplacianSparsifier/src/laplacians.jl:126\n",
      "  [6] emp_leverage_score(rng::MersenneTwister, meta_g::MetaGraph{Int64, Float64}, q::Int64, t::Int64)\n",
      "    @ MagneticLaplacianSparsifier ~/Documents/Code/juliaTemplate/MagneticLaplacianSparsifier/src/laplacians.jl:123\n",
      "  [7] top-level scope\n",
      "    @ ~/Documents/Code/juliaTemplate/MagneticLaplacianSparsifier/notebooks/demo_ust.ipynb:15\n",
      "  [8] eval\n",
      "    @ ./boot.jl:360 [inlined]\n",
      "  [9] include_string(mapexpr::typeof(REPL.softscope), mod::Module, code::String, filename::String)\n",
      "    @ Base ./loading.jl:1116\n",
      " [10] #invokelatest#2\n",
      "    @ ./essentials.jl:708 [inlined]\n",
      " [11] invokelatest\n",
      "    @ ./essentials.jl:706 [inlined]\n",
      " [12] (::VSCodeServer.var\"#154#155\"{VSCodeServer.NotebookRunCellArguments, String})()\n",
      "    @ VSCodeServer ~/.vscode/extensions/julialang.language-julia-1.6.6/scripts/packages/VSCodeServer/src/serve_notebook.jl:19\n",
      " [13] withpath(f::VSCodeServer.var\"#154#155\"{VSCodeServer.NotebookRunCellArguments, String}, path::String)\n",
      "    @ VSCodeServer ~/.vscode/extensions/julialang.language-julia-1.6.6/scripts/packages/VSCodeServer/src/repl.jl:184\n",
      " [14] notebook_runcell_request(conn::VSCodeServer.JSONRPC.JSONRPCEndpoint{Base.PipeEndpoint, Base.PipeEndpoint}, params::VSCodeServer.NotebookRunCellArguments)\n",
      "    @ VSCodeServer ~/.vscode/extensions/julialang.language-julia-1.6.6/scripts/packages/VSCodeServer/src/serve_notebook.jl:13\n",
      " [15] dispatch_msg(x::VSCodeServer.JSONRPC.JSONRPCEndpoint{Base.PipeEndpoint, Base.PipeEndpoint}, dispatcher::VSCodeServer.JSONRPC.MsgDispatcher, msg::Dict{String, Any})\n",
      "    @ VSCodeServer.JSONRPC ~/.vscode/extensions/julialang.language-julia-1.6.6/scripts/packages/JSONRPC/src/typed.jl:67\n",
      " [16] serve_notebook(pipename::String; crashreporting_pipename::String)\n",
      "    @ VSCodeServer ~/.vscode/extensions/julialang.language-julia-1.6.6/scripts/packages/VSCodeServer/src/serve_notebook.jl:114\n",
      " [17] top-level scope\n",
      "    @ ~/.vscode/extensions/julialang.language-julia-1.6.6/scripts/notebook/notebook.jl:14\n",
      " [18] include(mod::Module, _path::String)\n",
      "    @ Base ./Base.jl:386\n",
      " [19] exec_options(opts::Base.JLOptions)\n",
      "    @ Base ./client.jl:285\n",
      " [20] _start()\n",
      "    @ Base ./client.jl:485"
     ]
    }
   ],
   "source": [
    "n = 20\n",
    "p = 0.5\n",
    "eta = 0.0\n",
    "rng = Random.default_rng();\n",
    "\n",
    "meta_g = gen_graph_mun(rng, n, p, eta)\n",
    "B = magnetic_incidence(meta_g; oriented=true)\n",
    "L = B * B'\n",
    "\n",
    "\n",
    "absorbing_node=true\n",
    "ust=true\n",
    "nb_samples = 1000\n",
    "q = 0\n",
    "emp_lev = emp_leverage_score(rng, meta_g, q, nb_samples)\n",
    "lev = leverage_score(B, q)\n",
    "\n",
    "relative_error = (norm(emp_lev - lev) / norm(lev))\n",
    "print(\"relative_error: \", relative_error, \"\\n\")\n",
    "\n",
    "        "
   ]
  },
  {
   "cell_type": "code",
   "execution_count": null,
   "metadata": {},
   "outputs": [],
   "source": []
  }
 ],
 "metadata": {
  "kernelspec": {
   "display_name": "Julia 1.6.3",
   "language": "julia",
   "name": "julia-1.6"
  },
  "language_info": {
   "file_extension": ".jl",
   "mimetype": "application/julia",
   "name": "julia",
   "version": "1.6.3"
  },
  "orig_nbformat": 4
 },
 "nbformat": 4,
 "nbformat_minor": 2
}
