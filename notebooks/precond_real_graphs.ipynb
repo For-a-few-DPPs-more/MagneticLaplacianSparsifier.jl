{
 "cells": [
  {
   "cell_type": "code",
   "execution_count": null,
   "metadata": {},
   "outputs": [],
   "source": [
    "using MagneticLaplacianSparsifier\n",
    "using Graphs, MetaGraphs, Random, IterTools, LinearAlgebra, GraphPlot, Arpack, Plots, SparseArrays\n",
    "using Statistics\n",
    "using Measures\n",
    "using GraphIO \n",
    "using ParserCombinator \n",
    "using PlotlyJS\n",
    "using JLD2, DelimitedFiles"
   ]
  },
  {
   "cell_type": "markdown",
   "metadata": {},
   "source": [
    "<h1>Table of Contents</h1>\n",
    "<ul>\n",
    "    <li>\n",
    "        <a href=\"#Polblogs\"> PolBlogs</a>\n",
    "    </li>\n",
    "    <li>\n",
    "        <a href=\"#LargeGraphs\"> Large Graphs</a>\n",
    "    </li>\n",
    "    <ul>\n",
    "        <li>\n",
    "            <a href=\"#Epinions\"> Epinions</a>\n",
    "            <ul>\n",
    "                <li><a href=\"#MUNEpinions\"> MUN Epinions</a></li>\n",
    "                <li><a href=\"#EROEpinions\"> ERO Epinions</a></li>\n",
    "            </ul>\n",
    "        </li>\n",
    "        <li>\n",
    "            <a href=\"#Stanford\"> Stanford</a>\n",
    "            <ul>\n",
    "                <li><a href=\"#MUNStanford\"> MUN Stanford</a></li>\n",
    "                <li><a href=\"#EROStanford\"> ERO Stanford</a></li>\n",
    "            </ul>\n",
    "        </li>\n",
    "    </ul>\n",
    "</ul>\n"
   ]
  },
  {
   "cell_type": "markdown",
   "metadata": {},
   "source": [
    "## PolBlogs graph  <a id=\"PolBlogs\"></a>"
   ]
  },
  {
   "cell_type": "code",
   "execution_count": null,
   "metadata": {},
   "outputs": [],
   "source": [
    "splg_methods = [\n",
    "    \"DPP(K) unif\",\n",
    "    \"DPP(K) JL-LS\",\n",
    "    #\"DPP(K) LS\", # requires computing exact leverage scores\n",
    "    \"iid JL-LS\",\n",
    "    #\"iid LS\", # requires computing exact leverage scores\n",
    "    \"ST JL-LS\",\n",
    "    # \"ST LS\", # requires computing exact leverage scores\n",
    "]\n",
    "# simulation parameters\n",
    "n_batch = 6; # maximum batch size considered\n",
    "n_rep = 3; # number of runs"
   ]
  },
  {
   "cell_type": "markdown",
   "metadata": {},
   "source": [
    "#### Laplacian spectrum"
   ]
  },
  {
   "cell_type": "code",
   "execution_count": null,
   "metadata": {},
   "outputs": [],
   "source": [
    "graph_name = \"polblogs\"\n",
    "# available at http://www-personal.umich.edu/~mejn/netdata/\n",
    "g = loadgraph(\"polblogs.gml\", \"digraph\", GraphIO.GML.GMLFormat())\n",
    "g = SimpleGraph(g)\n",
    "rng = Random.default_rng()\n",
    "\n",
    "# select largest connected component\n",
    "temp = connected_components(g)\n",
    "g = g[temp[1]]\n",
    "\n",
    "meta_g = MetaGraph(g)\n",
    "for e in edges(meta_g)\n",
    "    set_prop!(meta_g, e, :angle, 0.0)\n",
    "end\n",
    "\n",
    "### plotting Laplacian spectrum\n",
    "B = sp_magnetic_incidence(meta_g)\n",
    "Lap = B' * B\n",
    "Lap = 0.5 * (Lap + Lap')\n",
    "least_eigs,_ = eigs(Lap; nev=6, which=:SM)\n",
    "Plots.scatter(1:6,sort(real.(least_eigs));legend=false,title=\"Laplacian spectrum\")"
   ]
  },
  {
   "cell_type": "code",
   "execution_count": null,
   "metadata": {},
   "outputs": [],
   "source": [
    "# regularization parameter\n",
    "q = 0.01\n",
    "# storing settings\n",
    "D_params = Dict(\"q\" => q,\"n_batch\" => n_batch,\"n_rep\" => n_rep)\n",
    "# compute condition numbers\n",
    "D_results = cond_numbers(meta_g,q,n_batch,n_rep,rng;splg_methods)\n",
    "name = \"precond_\"*graph_name*\"_\"*\"q\"*string(q)\n",
    "save(\"figures/data/\"*name*\"_data.jld2\", \"D_results\", D_results,\"D_params\", D_params)"
   ]
  },
  {
   "cell_type": "code",
   "execution_count": null,
   "metadata": {},
   "outputs": [],
   "source": [
    "# loading results\n",
    "q = 0.01\n",
    "name = \"precond_\"*graph_name*\"_\"*\"q\"*string(q)\n",
    "load(\"figures/data/\"*name*\"_data.jld2\")\n",
    "# plotting\n",
    "y_limits = (1,1e5)\n",
    "plot_comparison_cond(D_results,y_limits;legendposition=:topright,splg_methods)\n",
    "# saving plot\n",
    "Plots.savefig(\"figures/\"*name*\".pdf\")"
   ]
  },
  {
   "cell_type": "markdown",
   "metadata": {},
   "source": [
    "## Large graphs <a id=\"LargeGraphs\"></a>"
   ]
  },
  {
   "cell_type": "markdown",
   "metadata": {},
   "source": [
    "For efficiency, we define the following function."
   ]
  },
  {
   "cell_type": "code",
   "execution_count": null,
   "metadata": {},
   "outputs": [],
   "source": [
    "function timing_and_precond(rng,graph_name,type,q,eta,n_rep_time,n_rep_cond,splg_methods)\n",
    "\n",
    "    if  graph_name == \"epinions\"\n",
    "        # Available at https://snap.stanford.edu/data/soc-Epinions1.html.\n",
    "        list = readdlm(\"soc-Epinions1.txt\")\n",
    "        mist = list .+ 1 # s.t. indices start at 1\n",
    "        list_tuple = Array(tuple.(eachcol(Int.(list))...))\n",
    "        e_list = Edge.(list_tuple)\n",
    "        meta_g = SimpleGraphFromIterator(e_list)\n",
    "    elseif graph_name == \"stanford\"\n",
    "        # Available at https://snap.stanford.edu/data/web-Stanford.html.\n",
    "        graph_name = \"stanford\"\n",
    "        list = readdlm(\"web-stanford.txt\")\n",
    "        list_tuple = Array(tuple.(eachcol(Int.(list))...))\n",
    "        e_list = Edge.(list_tuple)\n",
    "        meta_g = SimpleGraphFromIterator(e_list)\n",
    "    else\n",
    "        error(\"graph not known\")\n",
    "    end\n",
    "\n",
    "    meta_g = main_component(meta_g)\n",
    "    meta_g = SimpleGraph(meta_g)\n",
    "    n = nv(meta_g)\n",
    "    m = ne(meta_g)\n",
    "    println(\"n= \",n)\n",
    "    println(\"m= \",m)\n",
    "    \n",
    "    meta_g = MetaGraph(meta_g)\n",
    "    if type == \"combinatorial\"\n",
    "        for e in edges(meta_g)\n",
    "            set_prop!(meta_g, e, :angle, 0.0)\n",
    "        end\n",
    "        eta = 0\n",
    "    elseif type == \"MUN\" || type == \"ERO\"\n",
    "        planted_score = randperm(rng,n)\n",
    "        meta_g = turn_into_connection_graph(rng,meta_g,eta,type,planted_score)\n",
    "    else\n",
    "        error(\"type not known\")\n",
    "    end\n",
    "\n",
    "    time_crsf = zeros(n_rep_time)\n",
    "    time_st = zeros(n_rep_time)\n",
    "\n",
    "    # warm up (precompiling takes time)\n",
    "    vec_crsf = @timed multi_type_spanning_forest(rng, meta_g, q)\n",
    "    absorbing_node = true\n",
    "    ust = true\n",
    "    weighted = false\n",
    "    vec_st = @timed multi_type_spanning_forest(rng, meta_g, q; weighted, absorbing_node, ust)\n",
    "\n",
    "    for i_rep = 1:n_rep_time\n",
    "        vec_crsf = @timed multi_type_spanning_forest(rng, meta_g, q)\n",
    "        vec_st = @timed multi_type_spanning_forest(rng, meta_g, q; weighted, absorbing_node, ust)\n",
    "        time_crsf[i_rep] = vec_crsf[2]\n",
    "        time_st[i_rep] = vec_st[2]\n",
    "    end\n",
    "    if q > 1e-10\n",
    "        println(\"mean time CRSF sampling: \", mean(time_crsf))\n",
    "    else\n",
    "        println(\"mean time MTSF sampling: \", mean(time_crsf))\n",
    "    end\n",
    "    println(\"mean time ST sampling: \",mean(time_st))\n",
    "    \n",
    "    D_params = Dict(\"type\" => type,\"eta\" => eta,\"n_rep\" =>  n_rep_time)\n",
    "    name = type*\"_time_\"*graph_name*\"_\"*\"eta\"*string(eta)*\"q\"*string(q)\n",
    "    file_time = \"figures/data/\"*name*\"_data.jld2\"\n",
    "    save(file_time, \"time_crsf\", time_crsf,\"time_st\", time_st ,\"D_params\", D_params)\n",
    "\n",
    "    println(\"times saved in \"*file_time)\n",
    "\n",
    "    # simulation parameters\n",
    "    n_batch = 3 # maximum number of batches considered\n",
    "\n",
    "    # storing settings\n",
    "    D_params = Dict(\"q\" => q,\"n_batch\" => n_batch,\"n_rep\" => n_rep_cond)\n",
    "\n",
    "    # compute condition numbers\n",
    "    D_results = cond_numbers(meta_g,q,n_batch,n_rep_cond,rng;splg_methods)\n",
    "    name = type*\"precond_\"*graph_name*\"_\"*\"q\"*string(q)\n",
    "    file_cond = \"figures/data/\"*name*\"_data.jld2\"\n",
    "    save(file_cond, \"D_results\", D_results,\"D_params\", D_params)\n",
    "\n",
    "    println(\"cond numbers saved in \"*file_cond)\n",
    "\n",
    "    return file_time,file_cond\n",
    "end"
   ]
  },
  {
   "cell_type": "markdown",
   "metadata": {},
   "source": [
    "###  Epinions  <a id=\"Epinions\"></a>"
   ]
  },
  {
   "cell_type": "markdown",
   "metadata": {},
   "source": [
    "MUN Epinions <a id=\"MUNEpinions\"></a>"
   ]
  },
  {
   "cell_type": "code",
   "execution_count": null,
   "metadata": {},
   "outputs": [],
   "source": [
    "graph_name = \"epinions\"\n",
    "type = \"MUN\"\n",
    "rng = Random.default_rng()\n",
    "\n",
    "eta = 0.05\n",
    "q = 0\n",
    "splg_methods = [\"DPP(K) unif\",\"ST unif\"]\n",
    "n_rep_time = 10\n",
    "n_rep_cond = 1\n",
    "file_time,file_cond = timing_and_precond(rng,graph_name,type,q,eta,n_rep_time,n_rep_cond,splg_methods)"
   ]
  },
  {
   "cell_type": "markdown",
   "metadata": {},
   "source": [
    "Plotting times"
   ]
  },
  {
   "cell_type": "code",
   "execution_count": null,
   "metadata": {},
   "outputs": [],
   "source": [
    "D = load(file_time)\n",
    "time_crsf = D[\"time_crsf\"]\n",
    "time_st = D[\"time_st\"]\n",
    "\n",
    "# cycle-rooted spanning forests\n",
    "trace_crsf = box(y=time_crsf,\n",
    "quartilemethod=\"linear\",\n",
    "name=\"CRSF\",\n",
    "boxmean=true)\n",
    "\n",
    "# spanning trees\n",
    "trace_st = box(y=time_st,\n",
    "quartilemethod=\"linear\",\n",
    "name=\"ST\",\n",
    "boxmean=true)\n",
    "\n",
    "layout = Layout(\n",
    "    autosize=false,\n",
    "    width=500,\n",
    "    height=500,\n",
    "    margin=attr(l=1, r=1, b=1, t=1, pad=4),\n",
    "    font_size=20,\n",
    "    boxmode=\"group\",\n",
    "    showlegend=false\n",
    ")\n",
    "plt_MUN = PlotlyJS.plot([trace_crsf, trace_st],layout)\n",
    "\n",
    "name = type*\"_time_\"*graph_name*\"_\"*\"eta\"*string(eta)*\"q\"*string(q)\n",
    "PlotlyJS.savefig(plt_MUN,\"figures/\"*name*\".pdf\")"
   ]
  },
  {
   "cell_type": "markdown",
   "metadata": {},
   "source": [
    "plotting condition numbers"
   ]
  },
  {
   "cell_type": "code",
   "execution_count": null,
   "metadata": {},
   "outputs": [],
   "source": [
    "D = load(file_cond)\n",
    "D_results = D[\"D_results\"]\n",
    "# plotting\n",
    "y_limits = (1,1e9)\n",
    "plot_comparison_cond(D_results,y_limits;legendposition=:topright,splg_methods)\n",
    "\n",
    "# saving plot\n",
    "name = type*\"_cond_\"*graph_name*\"_\"*\"eta\"*string(eta)*\"q\"*string(q)\n",
    "Plots.savefig(\"figures/\"*name*\".pdf\")"
   ]
  },
  {
   "cell_type": "markdown",
   "metadata": {},
   "source": [
    "ERO Epinions <a id=\"EROEpinions\"></a>"
   ]
  },
  {
   "cell_type": "code",
   "execution_count": null,
   "metadata": {},
   "outputs": [],
   "source": [
    "type = \"ERO\"\n",
    "graph_name = \"epinions\"\n",
    "rng = Random.default_rng()\n",
    "eta = 2*1e-5\n",
    "q = 0\n",
    "splg_methods = [\"DPP(K) unif\",\"ST unif\"]\n",
    "n_rep_time = 10\n",
    "n_rep_cond = 1\n",
    "file_time_ERO_epinions,file_cond_ERO_epinions = timing_and_precond(rng,graph_name,type,q,eta,n_rep_time,n_rep_cond,splg_methods)"
   ]
  },
  {
   "cell_type": "code",
   "execution_count": null,
   "metadata": {},
   "outputs": [],
   "source": [
    "D = load(file_time_ERO_epinions)\n",
    "time_crsf = D[\"time_crsf\"]\n",
    "time_st = D[\"time_st\"]\n",
    "\n",
    "# cycle-rooted spanning forests\n",
    "trace_crsf = box(y=time_crsf,\n",
    "quartilemethod=\"linear\",\n",
    "name=\"CRSF\",\n",
    "boxmean=true)\n",
    "\n",
    "# spanning trees\n",
    "trace_st = box(y=time_st,\n",
    "quartilemethod=\"linear\",\n",
    "name=\"ST\",\n",
    "boxmean=true)\n",
    "\n",
    "layout = Layout(\n",
    "    autosize=false,\n",
    "    width=500,\n",
    "    height=500,\n",
    "    margin=attr(l=1, r=1, b=1, t=1, pad=4),\n",
    "    font_size=20,\n",
    "    boxmode=\"group\",\n",
    "    showlegend=false\n",
    ")\n",
    "name = type*\"_time_\"*graph_name*\"_\"*\"eta\"*string(eta)*\"q\"*string(q)\n",
    "plt_MUN = PlotlyJS.plot([trace_crsf, trace_st],layout)\n",
    "PlotlyJS.savefig(plt_MUN,\"figures/\"*name*\".pdf\")"
   ]
  },
  {
   "cell_type": "code",
   "execution_count": null,
   "metadata": {},
   "outputs": [],
   "source": [
    "D = load(file_cond_ERO_epinions)\n",
    "D_results = D[\"D_results\"]\n",
    "# plotting\n",
    "y_limits = (1,1e9)\n",
    "plot_comparison_cond(D_results,y_limits;legendposition=:topright,splg_methods)\n",
    "\n",
    "# saving plot\n",
    "name = type*\"_cond_\"*graph_name*\"_\"*\"eta\"*string(eta)*\"q\"*string(q)\n",
    "Plots.savefig(\"figures/\"*name*\".pdf\")"
   ]
  },
  {
   "cell_type": "markdown",
   "metadata": {},
   "source": [
    "## Stanford graph  <a id=\"Stanford\"></a>"
   ]
  },
  {
   "cell_type": "markdown",
   "metadata": {},
   "source": [
    "### MUN Stanford <a id=\"MUNStanford\"></a>"
   ]
  },
  {
   "cell_type": "code",
   "execution_count": null,
   "metadata": {},
   "outputs": [],
   "source": [
    "type = \"MUN\"\n",
    "graph_name = \"stanford\"\n",
    "rng = Random.default_rng()\n",
    "eta = 0.01\n",
    "q = 0\n",
    "splg_methods = [\"DPP(K) unif\",\"ST unif\"]\n",
    "n_rep_time = 10\n",
    "n_rep_cond = 1\n",
    "file_time_MUN_stanford,file_cond_MUN_stanford = timing_and_precond(rng,graph_name,type,q,eta,n_rep_time,n_rep_cond,splg_methods)"
   ]
  },
  {
   "cell_type": "code",
   "execution_count": null,
   "metadata": {},
   "outputs": [],
   "source": [
    "D = load(file_time_MUN_stanford)\n",
    "time_crsf = D[\"time_crsf\"]\n",
    "time_st = D[\"time_st\"]\n",
    "\n",
    "# cycle-rooted spanning forests\n",
    "trace_crsf = box(y=time_crsf,\n",
    "quartilemethod=\"linear\",\n",
    "name=\"CRSF\",\n",
    "boxmean=true)\n",
    "\n",
    "# spanning trees\n",
    "trace_st = box(y=time_st,\n",
    "quartilemethod=\"linear\",\n",
    "name=\"ST\",\n",
    "boxmean=true)\n",
    "\n",
    "layout = Layout(\n",
    "    autosize=false,\n",
    "    width=500,\n",
    "    height=500,\n",
    "    margin=attr(l=1, r=1, b=1, t=1, pad=4),\n",
    "    font_size=20,\n",
    "    boxmode=\"group\",\n",
    "    showlegend=false\n",
    ")\n",
    "name = type*\"_time_\"*graph_name*\"_\"*\"eta\"*string(eta)*\"q\"*string(q)\n",
    "\n",
    "plt_MUN = PlotlyJS.plot([trace_crsf, trace_st],layout)\n",
    "PlotlyJS.savefig(plt_MUN,\"figures/\"*name*\".pdf\")"
   ]
  },
  {
   "cell_type": "code",
   "execution_count": null,
   "metadata": {},
   "outputs": [],
   "source": [
    "D = load(file_cond_MUN_stanford)\n",
    "D_results = D[\"D_results\"]\n",
    "name = type*\"_cond_\"*graph_name*\"_\"*\"eta\"*string(eta)*\"q\"*string(q)\n",
    "# plotting\n",
    "y_limits = (1,1e9)\n",
    "plot_comparison_cond(D_results,y_limits;legendposition=:topright,splg_methods)\n",
    "# saving plot\n",
    "Plots.savefig(\"figures/\"*name*\".pdf\")"
   ]
  },
  {
   "cell_type": "markdown",
   "metadata": {},
   "source": [
    "### ERO Stanford <a id=\"EROStanford\"></a>"
   ]
  },
  {
   "cell_type": "code",
   "execution_count": null,
   "metadata": {},
   "outputs": [],
   "source": [
    "type = \"ERO\"\n",
    "graph_name = \"stanford\"\n",
    "rng = Random.default_rng()\n",
    "eta = 1.0e-5\n",
    "q = 0\n",
    "splg_methods = [\"DPP(K) unif\",\"ST unif\"]\n",
    "n_rep_time = 10\n",
    "n_rep_cond = 1\n",
    "file_time_ERO_stanford,file_cond_ERO_stanford = timing_and_precond(rng,graph_name,type,q,eta,n_rep_time,n_rep_cond,splg_methods)"
   ]
  },
  {
   "cell_type": "code",
   "execution_count": null,
   "metadata": {},
   "outputs": [],
   "source": [
    "D = load(file_time_ERO_stanford)\n",
    "time_crsf = D[\"time_crsf\"]\n",
    "time_st = D[\"time_st\"]\n",
    "\n",
    "# cycle-rooted spanning forests\n",
    "trace_crsf = box(y=time_crsf,\n",
    "quartilemethod=\"linear\",\n",
    "name=\"CRSF\",\n",
    "boxmean=true)\n",
    "\n",
    "# spanning trees\n",
    "trace_st = box(y=time_st,\n",
    "quartilemethod=\"linear\",\n",
    "name=\"ST\",\n",
    "boxmean=true)\n",
    "\n",
    "layout = Layout(\n",
    "    autosize=false,\n",
    "    width=500,\n",
    "    height=500,\n",
    "    margin=attr(l=1, r=1, b=1, t=1, pad=4),\n",
    "    font_size=20,\n",
    "    boxmode=\"group\",\n",
    "    showlegend=false\n",
    ")\n",
    "name = type*\"_time_\"*graph_name*\"_\"*\"eta\"*string(eta)*\"q\"*string(q)\n",
    "plt_MUN = PlotlyJS.plot([trace_crsf, trace_st],layout)\n",
    "PlotlyJS.savefig(plt_MUN,\"figures/\"*name*\".pdf\")"
   ]
  },
  {
   "cell_type": "code",
   "execution_count": null,
   "metadata": {},
   "outputs": [],
   "source": [
    "D = load(file_cond_ERO_stanford)\n",
    "D_results = D[\"D_results\"]\n",
    "name = type*\"_cond_\"*graph_name*\"_\"*\"eta\"*string(eta)*\"q\"*string(q)\n",
    "# plotting\n",
    "y_limits = (1,1e9)\n",
    "plot_comparison_cond(D_results,y_limits;legendposition=:topright,splg_methods)\n",
    "# saving plot\n",
    "Plots.savefig(\"figures/\"*name*\".pdf\")"
   ]
  }
 ],
 "metadata": {
  "kernelspec": {
   "display_name": "Julia 1.6.7",
   "language": "julia",
   "name": "julia-1.6"
  },
  "language_info": {
   "file_extension": ".jl",
   "mimetype": "application/julia",
   "name": "julia",
   "version": "1.6.7"
  },
  "orig_nbformat": 4
 },
 "nbformat": 4,
 "nbformat_minor": 2
}
