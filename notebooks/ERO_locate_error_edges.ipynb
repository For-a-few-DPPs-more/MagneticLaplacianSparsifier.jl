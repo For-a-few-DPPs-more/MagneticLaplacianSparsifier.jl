{
 "cells": [
  {
   "cell_type": "markdown",
   "metadata": {},
   "source": [
    "### Computing the number of noisy edges of ERO graphs within spanning subgraphs"
   ]
  },
  {
   "cell_type": "code",
   "execution_count": 1,
   "metadata": {},
   "outputs": [
    {
     "data": {
      "text/plain": [
       "common_edges (generic function with 1 method)"
      ]
     },
     "metadata": {},
     "output_type": "display_data"
    }
   ],
   "source": [
    "using MagneticLaplacianSparsifier\n",
    "using Graphs, MetaGraphs, Random, IterTools, LinearAlgebra, GraphPlot, Arpack, Plots, SparseArrays\n",
    "using Statistics\n",
    "using Measures\n",
    "using StatsBase\n",
    "using Random\n",
    "\n",
    "using GraphIO \n",
    "using ParserCombinator \n",
    "\n",
    "rng = Random.default_rng();\n",
    "\n",
    "# graph parameters\n",
    "n = 2000\n",
    "p = 0.01\n",
    "eta = 1e-4\n",
    "\n",
    "# planted ranking score\n",
    "planted_score = randperm(rng,n);\n",
    "\n",
    "# utility\n",
    "function common_edges(g,noisy_edges)\n",
    "    common = []\n",
    "    for l = 1:length(noisy_edges)\n",
    "        edge = noisy_edges[l]\n",
    "        s = edge[1]\n",
    "        d = edge[2]\n",
    "        if  has_edge(g, s, d) || has_edge(g, d, s)\n",
    "            push!(common,edge)\n",
    "        end\n",
    "    end\n",
    "    return common\n",
    "end"
   ]
  },
  {
   "cell_type": "code",
   "execution_count": 2,
   "metadata": {},
   "outputs": [
    {
     "name": "stdout",
     "output_type": "stream",
     "text": [
      "crsf \n"
     ]
    },
    {
     "name": "stdout",
     "output_type": "stream",
     "text": [
      "mean 1.04"
     ]
    },
    {
     "name": "stdout",
     "output_type": "stream",
     "text": [
      " std 0.19694638556693236\n",
      "st\n",
      "mean 0.17 std 0.40339468604243256\n"
     ]
    }
   ],
   "source": [
    "n_rep = 100\n",
    "\n",
    "nb_noisy_crsf = zeros(n_rep,1)\n",
    "nb_noisy_st = zeros(n_rep,1)\n",
    "\n",
    "meta_g, noisy_edges,err_edges = ero_located(rng, n, p, eta;planted_score)\n",
    "\n",
    "\n",
    "for i = 1:n_rep\n",
    "    q = 0\n",
    "    crsf = multi_type_spanning_forest(rng, meta_g, q;)\n",
    "    absorbing_node = true\n",
    "    ust = true\n",
    "    st = multi_type_spanning_forest(rng, meta_g, q; absorbing_node, ust)\n",
    "    #\n",
    "    common_crsf = common_edges(crsf,noisy_edges)\n",
    "    nb_noisy_crsf[i] = length(common_crsf)\n",
    "    common_st = common_edges(st,noisy_edges)\n",
    "    nb_noisy_st[i] = length(common_st)\n",
    "end\n",
    "\n",
    "println(\"CRSF \") \n",
    "println(\"mean \", mean(nb_noisy_crsf), \" std \" ,std(nb_noisy_crsf))\n",
    "println(\"ST\")\n",
    "println(\"mean \",  mean(nb_noisy_st), \" std \" ,std(nb_noisy_st))"
   ]
  },
  {
   "cell_type": "code",
   "execution_count": 3,
   "metadata": {},
   "outputs": [
    {
     "ename": "InterruptException",
     "evalue": "InterruptException:",
     "output_type": "error",
     "traceback": [
      "InterruptException:\n",
      "\n",
      "Stacktrace:\n",
      " [1] _subplot_setup(plt::Plots.Plot{Plots.GRBackend}, plotattributes::Dict{Symbol, Any}, kw_list::Vector{Dict{Symbol, Any}})\n",
      "   @ Plots ~/.julia/packages/Plots/sxUvK/src/pipeline.jl:294\n",
      " [2] plot_setup!(plt::Plots.Plot{Plots.GRBackend}, plotattributes::Dict{Symbol, Any}, kw_list::Vector{Dict{Symbol, Any}})\n",
      "   @ Plots ~/.julia/packages/Plots/sxUvK/src/pipeline.jl:149\n",
      " [3] recipe_pipeline!(plt::Any, plotattributes::Any, args::Any)\n",
      "   @ RecipesPipeline ~/.julia/packages/RecipesPipeline/BGM3l/src/RecipesPipeline.jl:89\n",
      " [4] _plot!(plt::Plots.Plot, plotattributes::Any, args::Any)\n",
      "   @ Plots ~/.julia/packages/Plots/sxUvK/src/plot.jl:223\n",
      " [5] #plot#184\n",
      "   @ ~/.julia/packages/Plots/sxUvK/src/plot.jl:102 [inlined]\n",
      " [6] top-level scope\n",
      "   @ ~/Documents/Code/juliaTemplate/MagneticLaplacianSparsifier/notebooks/ERO_locate_error_edges.ipynb:22"
     ]
    }
   ],
   "source": [
    "# plot in a former version of the paper\n",
    "# # identify id of errored edges before plot\n",
    "# errored_edges = zeros(ne(meta_g),1)\n",
    "# it = 0\n",
    "# for e in edges(meta_g)\n",
    "#     it +=1\n",
    "\n",
    "#     iter = 0\n",
    "#     for ne in noisy_edges\n",
    "#         iter += 1\n",
    "#         if ne == [src(e) dst(e)] || ne == [dst(e) src(e)]\n",
    "#             errored_edges[it] = err_edges[iter]\n",
    "#         end\n",
    "#     end\n",
    "# end\n",
    "\n",
    "# # magnetic leverage score (LS)\n",
    "# B = sp_magnetic_incidence(meta_g)\n",
    "# q = 0\n",
    "# mag_ls = leverage_score(B, q)\n",
    "\n",
    "# # plot errors and magnetic LS\n",
    "# plot(mag_ls, ylabel = \"magnetic LS\", xlabel = \"edge index\",label = \"magnetic LS\",legend = :topleft,linestyle=:dash,framestyle=:box,\n",
    "# xtickfont=font(13),\n",
    "# ytickfont=font(13),\n",
    "# guidefont=font(13),\n",
    "# legendfont=font(13),right_margin = 15mm)\n",
    "# p = twinx()\n",
    "# plot!(p,errored_edges,color = :red, ylabel = \"edge error\",label = \"edge error\", linestyle=:dash,legend = :topright,\n",
    "# framestyle=:box,legendfont=font(13),ytickfont=font(13),xtickfont=font(13),guidefont=font(13),\n",
    "# right_margin = 15mm)\n"
   ]
  },
  {
   "cell_type": "code",
   "execution_count": null,
   "metadata": {},
   "outputs": [],
   "source": [
    "# # saving\n",
    "# foldername = \"figures/ero_locate_errors_ls.pdf\"\n",
    "# savefig(foldername)"
   ]
  },
  {
   "cell_type": "code",
   "execution_count": null,
   "metadata": {},
   "outputs": [],
   "source": []
  }
 ],
 "metadata": {
  "kernelspec": {
   "display_name": "Julia 1.6.7",
   "language": "julia",
   "name": "julia-1.6"
  },
  "language_info": {
   "file_extension": ".jl",
   "mimetype": "application/julia",
   "name": "julia",
   "version": "1.6.7"
  },
  "orig_nbformat": 4
 },
 "nbformat": 4,
 "nbformat_minor": 2
}
