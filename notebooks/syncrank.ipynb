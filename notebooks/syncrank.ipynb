{
 "cells": [
  {
   "cell_type": "markdown",
   "metadata": {},
   "source": [
    "### Approximate SyncRank with sparsified Laplacian \n"
   ]
  },
  {
   "cell_type": "markdown",
   "metadata": {},
   "source": [
    "* 1. [MUN graph](#MUNgraph)\n",
    "* 2. [ERO graph](#EROgraph)\n",
    "* 3. [SBM MUN graph](#SBMMUNgraph)"
   ]
  },
  {
   "cell_type": "code",
   "execution_count": 85,
   "metadata": {},
   "outputs": [],
   "source": [
    "using MagneticLaplacianSparsifier\n",
    "using Graphs, MetaGraphs, Random, IterTools, LinearAlgebra, GraphPlot, Arpack, Plots, SparseArrays\n",
    "using Statistics\n",
    "using Measures\n",
    "using StatsBase#, JLD\n",
    "using PlotlyJS"
   ]
  },
  {
   "cell_type": "markdown",
   "metadata": {},
   "source": [
    "### 1. MUN graph  <a id=\"MUNgraph\"></a>"
   ]
  },
  {
   "cell_type": "markdown",
   "metadata": {},
   "source": [
    "Common parameters"
   ]
  },
  {
   "cell_type": "code",
   "execution_count": 86,
   "metadata": {},
   "outputs": [
    {
     "data": {
      "text/plain": [
       "0.01"
      ]
     },
     "metadata": {},
     "output_type": "display_data"
    }
   ],
   "source": [
    "methods = [\n",
    "    \"DPP(K) unif\",\n",
    "    \"DPP(K) JL-LS\",\n",
    "    #\"DPP(K) LS\",\n",
    "    \"iid JL-LS\",\n",
    "    # \"iid LS\",\n",
    "    \"ST JL-LS\",\n",
    "    # \"ST LS\",\n",
    "]\n",
    "\n",
    "# simulation parameters\n",
    "n_batch = 6 # maximum number of batches considered\n",
    "n_rep = 3 # number of runs\n",
    "\n",
    "# regularization parameter\n",
    "q = 0\n",
    "rng = Random.default_rng()\n",
    "\n",
    "# graph parameters\n",
    "n = 2000\n",
    "p = 0.01\n"
   ]
  },
  {
   "cell_type": "code",
   "execution_count": 87,
   "metadata": {},
   "outputs": [],
   "source": [
    "type = \"MUN\" \n",
    "\n",
    "eta = 1e-1# 1e-3\n",
    "\n",
    "# planted ranking score\n",
    "planted_score = randperm(rng,n)\n",
    "\n",
    "# graph model\n",
    "if type==\"MUN\"\n",
    "    meta_g = gen_graph_mun(rng, n, p, eta;planted_score)\n",
    "elseif type==\"ERO\"\n",
    "    meta_g = gen_graph_ero(rng, n, p, eta;planted_score)\n",
    "end\n",
    "\n",
    "# storing settings\n",
    "D_params = Dict(\"n\" => n,\"p\" => p,\"eta\" => eta,\"q\" => q,\"n_batch\" => n_batch,\"n_rep\" => n_rep)\n",
    "D_results = benchmark_syncrank(meta_g,planted_score, n_batch, n_rep, rng; methods)\n",
    "\n",
    "# plotting distance between eigenvectors\n",
    "check_connected = true\n",
    "metric= \"err\"\n",
    "y_limits = (1.5*1e-4, 1.4)\n",
    "legendposition=:topright\n",
    "plot_comparison_sync(metric,D_results,y_limits;legendposition,methods,check_connected)\n",
    "name = \"syncrank_\"*metric*\"_\"*type*\"n\"*string(n)*\"p\"*string(p)*\"eta\"*string(eta)*\"q\"*string(q)\n",
    "\n",
    "# saving plot\n",
    "Plots.savefig(\"figures/\"*name*\".pdf\")\n",
    "\n",
    "# # saving results\n",
    "# save(\"figures/\"*name*\"_data.jld\", \"D_results\", D_results,\"D_params\", D_params)"
   ]
  },
  {
   "cell_type": "code",
   "execution_count": null,
   "metadata": {},
   "outputs": [],
   "source": [
    "# plotting distance between eigenvectors\n",
    "check_connected = true\n",
    "metric= \"err\"\n",
    "y_limits = (1.5*1e-9, 1.4)\n",
    "legendposition=:topright\n",
    "plot_comparison_sync(metric,D_results,y_limits;legendposition,methods,check_connected)\n",
    "name = \"syncrank_\"*metric*\"_\"*type*\"n\"*string(n)*\"p\"*string(p)*\"eta\"*string(eta)*\"q\"*string(q)"
   ]
  },
  {
   "cell_type": "code",
   "execution_count": null,
   "metadata": {},
   "outputs": [],
   "source": [
    "# plotting Kendall's tau between rankings\n",
    "\n",
    "metric= \"tau\" \n",
    "y_limits = (0.4, 1.03)\n",
    "legendposition=:bottomright\n",
    "plot_comparison_sync(metric,D_results,y_limits;legendposition,methods)\n",
    "\n",
    "name = \"syncrank_\"*metric*\"_\"*type*\"n\"*string(n)*\"p\"*string(p)*\"eta\"*string(eta)*\"q\"*string(q)\n",
    "# saving plot\n",
    "Plots.savefig(\"figures/\"*name*\".pdf\")"
   ]
  },
  {
   "cell_type": "markdown",
   "metadata": {},
   "source": [
    "#### Number of cycles"
   ]
  },
  {
   "cell_type": "code",
   "execution_count": null,
   "metadata": {},
   "outputs": [],
   "source": [
    "nb_samples = 100\n",
    "nb_cycles = zeros(nb_samples)\n",
    "weights_crsf = zeros(nb_samples)\n",
    "for i_sample in 1:nb_samples\n",
    "    mtsf = multi_type_spanning_forest(rng, meta_g, q)\n",
    "    # check nb roots and cycles\n",
    "    cycles = get_prop(mtsf, :cycle_nodes)\n",
    "    nb_cycles[i_sample] = length(cycles)\n",
    "    weights_crsf[i_sample] = get_prop(mtsf, :weight)\n",
    "end    \n",
    "\n",
    "cat_nb_cycles = string.(sort(Int.(nb_cycles)))\n",
    "trace = PlotlyJS.histogram(x=cat_nb_cycles, histnorm=\"probability density\")\n",
    "layout = Layout(\n",
    "    autosize=false,\n",
    "    width=500,\n",
    "    height=200,\n",
    "    margin=attr(l=1, r=1, b=1, t=1, pad=4),\n",
    "    font_size=35,\n",
    "    xaxis_type=\"category\",\n",
    ")\n",
    "plt_cycles = PlotlyJS.plot(trace,layout)\n",
    "name = \"nb_cycles\"*type*\"eta\"*string(eta)*\"q\"*string(q)\n",
    "PlotlyJS.savefig(plt_cycles,\"figures/\"*name*\".pdf\")"
   ]
  },
  {
   "cell_type": "code",
   "execution_count": null,
   "metadata": {},
   "outputs": [],
   "source": [
    "trace = box(y=weights_crsf,\n",
    "boxpoints=\"all\",\n",
    "marker=attr(\n",
    "        color=\"LightSkyBlue\",\n",
    "        size=1),\n",
    "quartilemethod=\"linear\",\n",
    "name=\"\",\n",
    "marker_color=\"royalblue\",\n",
    "boxmean=true)\n",
    "\n",
    "layout = Layout(\n",
    "    autosize=false,\n",
    "    width=500,\n",
    "    height=500,\n",
    "    margin=attr(l=1, r=1, b=1, t=1, pad=4),\n",
    "    font_size=20,\n",
    ")\n",
    "name = \"crsf_weight\"*type*\"eta\"*string(eta)*\"q\"*string(q)\n",
    "plt_weight = PlotlyJS.plot(trace,layout)\n",
    "PlotlyJS.savefig(plt_weight,\"figures/\"*name*\".pdf\")"
   ]
  },
  {
   "cell_type": "markdown",
   "metadata": {},
   "source": [
    "### 2. ERO graph  <a id=\"EROgraph\"></a>"
   ]
  },
  {
   "cell_type": "code",
   "execution_count": null,
   "metadata": {},
   "outputs": [],
   "source": [
    "type = \"ERO\" \n",
    "\n",
    "eta = 0.1\n",
    "#eta = 0.02\n",
    "# planted ranking score\n",
    "planted_score = randperm(rng,n)\n",
    "\n",
    "# graph model\n",
    "if type==\"MUN\"\n",
    "    meta_g = gen_graph_mun(rng, n, p, eta;planted_score)\n",
    "elseif type==\"ERO\"\n",
    "    meta_g = gen_graph_ero(rng, n, p, eta;planted_score)\n",
    "end\n",
    "\n",
    "# storing settings\n",
    "D_params = Dict(\"n\" => n,\"p\" => p,\"eta\" => eta,\"q\" => q,\"n_batch\" => n_batch,\"n_rep\" => n_rep)\n",
    "\n",
    "check_connected = true\n",
    "hkpv = false\n",
    "D_results = benchmark_syncrank(meta_g,planted_score, n_batch, n_rep, rng; methods, hkpv)\n",
    "# plotting distance between eigenvectors\n",
    "metric= \"err\"\n",
    "y_limits = (1.5*1e-4, 1.4)\n",
    "legendposition=:bottomright\n",
    "plot_comparison_sync(metric,D_results,y_limits;legendposition,methods,check_connected)\n",
    "name = \"syncrank_\"*metric*\"_\"*type*\"n\"*string(n)*\"p\"*string(p)*\"eta\"*string(eta)*\"q\"*string(q)\n",
    "\n",
    "# # saving plot\n",
    "Plots.savefig(\"figures/\"*name*\".pdf\")\n",
    "\n",
    "# # saving results\n",
    "# save(\"figures/\"*name*\"_data.jld\", \"D_results\", D_results,\"D_params\", D_params)"
   ]
  },
  {
   "cell_type": "code",
   "execution_count": null,
   "metadata": {},
   "outputs": [],
   "source": [
    "# plotting Kendall's tau between rankings\n",
    "metric= \"tau\" \n",
    "y_limits = (0.1, 1.)\n",
    "legendposition=:bottomright\n",
    "plot_comparison_sync(metric,D_results,y_limits;legendposition,methods)\n",
    "\n",
    "name = \"syncrank_\"*metric*\"_\"*type*\"n\"*string(n)*\"p\"*string(p)*\"eta\"*string(eta)*\"q\"*string(q)\n",
    "# saving plot\n",
    "Plots.savefig(\"figures/\"*name*\".pdf\")"
   ]
  },
  {
   "cell_type": "code",
   "execution_count": null,
   "metadata": {},
   "outputs": [],
   "source": [
    "nb_samples = 100\n",
    "nb_cycles = zeros(nb_samples)\n",
    "weights_crsf = zeros(nb_samples)\n",
    "for i_sample in 1:nb_samples\n",
    "    mtsf = multi_type_spanning_forest(rng, meta_g, q)\n",
    "    # check nb roots and cycles\n",
    "    cycles = get_prop(mtsf, :cycle_nodes)\n",
    "    nb_cycles[i_sample] = length(cycles)\n",
    "    weights_crsf[i_sample] = get_prop(mtsf, :weight)\n",
    "end    \n",
    "\n",
    "cat_nb_cycles = string.(sort(Int.(nb_cycles)))\n",
    "trace = PlotlyJS.histogram(x=cat_nb_cycles, histnorm=\"probability density\")\n",
    "layout = Layout(\n",
    "    autosize=false,\n",
    "    width=500,\n",
    "    height=200,\n",
    "    margin=attr(l=1, r=1, b=1, t=1, pad=4),\n",
    "    font_size=35,\n",
    "    xaxis_type=\"category\",\n",
    ")\n",
    "plt_cycles = PlotlyJS.plot(trace,layout)\n",
    "name = \"nb_cycles\"*type*\"eta\"*string(eta)*\"q\"*string(q)\n",
    "PlotlyJS.savefig(plt_cycles,\"figures/\"*name*\".pdf\")"
   ]
  },
  {
   "cell_type": "code",
   "execution_count": null,
   "metadata": {},
   "outputs": [],
   "source": [
    "trace = box(y=weights_crsf,\n",
    "boxpoints=\"all\",\n",
    "marker=attr(\n",
    "        color=\"LightSkyBlue\",\n",
    "        size=1),\n",
    "quartilemethod=\"linear\",\n",
    "name=\"\",\n",
    "marker_color=\"royalblue\",\n",
    "boxmean=true)\n",
    "\n",
    "layout = Layout(\n",
    "    autosize=false,\n",
    "    width=500,\n",
    "    height=500,\n",
    "    margin=attr(l=1, r=1, b=1, t=1, pad=4),\n",
    "    font_size=20,\n",
    ")\n",
    "\n",
    "name = \"crsf_weight\"*type*\"eta\"*string(eta)*\"q\"*string(q)\n",
    "plt_weight = PlotlyJS.plot(trace,layout)\n",
    "PlotlyJS.savefig(plt_weight,\"figures/\"*name*\".pdf\")"
   ]
  },
  {
   "cell_type": "markdown",
   "metadata": {},
   "source": [
    "#### 3. SBM MUN graph  <a id=\"SBMMUNgraph\"></a>"
   ]
  },
  {
   "cell_type": "code",
   "execution_count": null,
   "metadata": {},
   "outputs": [],
   "source": [
    "# rng = Random.default_rng()\n",
    "\n",
    "# # graph parameters\n",
    "# n = 400\n",
    "# p_in = 0.2\n",
    "# p_out = 0.001\n",
    "# η = 0.1\n",
    "# #noise = 0.3\n",
    "\n",
    "# # planted ranking score\n",
    "# planted_score = randperm(rng,n)\n",
    "\n",
    "\n",
    "# meta_g = MetaGraph(n)\n",
    "# ic = false\n",
    "# while !ic\n",
    "#     if type==\"MUN\"\n",
    "#         meta_g = ero_mun_sbm(rng,n,p_in,p_out,η,noise;planted_score)\n",
    "#     elseif type==\"ERO\"\n",
    "#         meta_g = ero_mun_sbm(rng,n,p_in,p_out,η,noise;planted_score)\n",
    "#     end\n",
    "#     ic = is_connected(meta_g)\n",
    "# end\n",
    "# println(\"connected graph generated with m/n = \", ne(meta_g) / nv(meta_g))\n",
    "\n",
    "\n",
    "\n",
    "# # simulation parameters\n",
    "# n_batch = 7 # maximum number of batches considered\n",
    "# n_rep = 1 # number of runs\n",
    "\n",
    "# # regularization parameter\n",
    "# q = 0\n",
    "\n",
    "# # # storing settings\n",
    "# # D_params = Dict(\"n\" => n,\"p\" => p,\"eta\" => eta,\"q\" => q,\"n_batch\" => n_batch,\"n_rep\" => n_rep)\n",
    "\n",
    "\n",
    "# methods = [\n",
    "#     \"DPP(K) unif\",\n",
    "#     \"DPP(K) JL-LS\",\n",
    "#     #\"DPP(K) LS\",\n",
    "#     \"iid JL-LS\",\n",
    "#     # \"iid LS\",\n",
    "#     #\"ST JL-LS\",\n",
    "#     # \"ST LS\",\n",
    "# ]\n",
    "\n",
    "# D_results = benchmark_syncrank(meta_g,planted_score, n_batch, n_rep, rng; methods)\n",
    "# # plotting distance between eigenvectors\n",
    "# metric= \"err\"\n",
    "# y_limits = (1.5*1e-4, 1.4)\n",
    "# legendposition=:topright\n",
    "# plot_comparison_sync(metric,D_results,y_limits;legendposition,methods)\n",
    "# name = \"syncrank_\"*metric*\"_\"*type*\"n\"*string(n)*\"p\"*string(p)*\"eta\"*string(eta)*\"q\"*string(q)\n",
    "\n",
    "# # saving plot\n",
    "# savefig(\"figures/\"*name*\".pdf\")"
   ]
  },
  {
   "cell_type": "code",
   "execution_count": null,
   "metadata": {},
   "outputs": [],
   "source": [
    "# # plotting Kendall's tau between rankings\n",
    "\n",
    "# metric= \"tau\" \n",
    "# y_limits = (1.5*1e-4, 1.1)\n",
    "\n",
    "# legendposition=:bottomright\n",
    "# plot_comparison_sync(metric,D_results,y_limits;legendposition,methods)\n",
    "\n",
    "# name = \"syncrank_\"*metric*\"_\"*type*\"n\"*string(n)*\"p\"*string(p)*\"eta\"*string(eta)*\"q\"*string(q)\n",
    "\n",
    "# # saving plot\n",
    "# savefig(\"figures/\"*name*\".pdf\")"
   ]
  },
  {
   "cell_type": "code",
   "execution_count": null,
   "metadata": {},
   "outputs": [],
   "source": []
  }
 ],
 "metadata": {
  "kernelspec": {
   "display_name": "Julia 1.6.7",
   "language": "julia",
   "name": "julia-1.6"
  },
  "language_info": {
   "file_extension": ".jl",
   "mimetype": "application/julia",
   "name": "julia",
   "version": "1.6.7"
  },
  "orig_nbformat": 4
 },
 "nbformat": 4,
 "nbformat_minor": 2
}
