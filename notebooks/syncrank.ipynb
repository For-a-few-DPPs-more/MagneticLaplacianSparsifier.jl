{
 "cells": [
  {
   "cell_type": "markdown",
   "metadata": {},
   "source": [
    "### Approximate SyncRank with sparsified Laplacian \n"
   ]
  },
  {
   "cell_type": "markdown",
   "metadata": {},
   "source": [
    "<ul>\n",
    "    <li>\n",
    "        <a href=\"#MUNgraph\"> 1. MUN graph</a>\n",
    "    </li>\n",
    "    <li>\n",
    "        <a href=\"#EROgraph\"> 2. ERO graph</a>\n",
    "    </li>\n",
    "</ul>"
   ]
  },
  {
   "cell_type": "code",
   "execution_count": null,
   "metadata": {},
   "outputs": [],
   "source": [
    "using MagneticLaplacianSparsifier\n",
    "using Graphs, MetaGraphs, Random, IterTools, LinearAlgebra, GraphPlot, Arpack, Plots, SparseArrays\n",
    "using Statistics\n",
    "using Measures\n",
    "using StatsBase\n",
    "using PlotlyJS\n",
    "using JLD2\n",
    "\n",
    "function sync_random_graphs(rng,type,n,p,q,eta,n_rep_sync,n_rep_cycle,n_batch,splg_methods)\n",
    "    # planted ranking score\n",
    "    planted_score = randperm(rng,n)\n",
    "\n",
    "    # graph model\n",
    "    if type==\"MUN\"\n",
    "        meta_g = gen_graph_mun(rng, n, p, eta;planted_score)\n",
    "    elseif type==\"ERO\"\n",
    "        meta_g = gen_graph_ero(rng, n, p, eta;planted_score)\n",
    "    end\n",
    "\n",
    "    # storing settings\n",
    "    D_params = Dict(\"n\" => n,\"p\" => p,\"eta\" => eta,\"q\" => q,\"n_batch\" => n_batch,\"n_rep\" => n_rep_sync)\n",
    "    D_results = benchmark_syncrank(meta_g,planted_score, n_batch, n_rep_sync, rng; splg_methods)\n",
    "\n",
    "    name = type*\"_sync_\"*\"p\"*string(p)*\"_\"*\"eta\"*string(eta)*\"_\"*\"q\"*string(q)\n",
    "    file_sync = \"figures/data/\"*name*\"_data.jld2\"\n",
    "    save(file_sync, \"D_results\", D_results,\"D_params\", D_params)\n",
    "    println(\"synchronization results saved in \"*file_sync)\n",
    "\n",
    "\n",
    "    # computing the distribution of cycles\n",
    "    nb_cycles = zeros(n_rep_cycle)\n",
    "    weights_crsf = zeros(n_rep_cycle)\n",
    "    for i_sample in 1:n_rep_cycle\n",
    "        mtsf = multi_type_spanning_forest(rng, meta_g, q)\n",
    "        # check nb roots and cycles\n",
    "        cycles = get_prop(mtsf, :cycle_nodes)\n",
    "        nb_cycles[i_sample] = length(cycles)\n",
    "        weights_crsf[i_sample] = get_prop(mtsf, :weight)\n",
    "    end    \n",
    "    D_params = Dict(\"n_rep\" => n_rep_cycle)\n",
    "    name = type*\"_cycles_\"*\"p\"*string(p)*\"_\"*\"eta\"*string(eta)*\"_\"*\"q\"*string(q)\n",
    "    file_cycles = \"figures/data/\"*name*\"_data.jld2\"\n",
    "    save(file_cycles, \"nb_cycles\", nb_cycles,\"weights_crsf\", weights_crsf)\n",
    "    println(\"synchronization results saved in \"*file_sync)\n",
    "    \n",
    "    return file_sync, file_cycles\n",
    "end"
   ]
  },
  {
   "cell_type": "code",
   "execution_count": null,
   "metadata": {},
   "outputs": [],
   "source": [
    "rng = Random.default_rng()\n",
    "splg_methods = [\n",
    "    \"DPP(K) unif\",\n",
    "    \"DPP(K) JL-LS\",\n",
    "    #\"DPP(K) LS\",\n",
    "    \"iid JL-LS\",\n",
    "    # \"iid LS\",\n",
    "    \"ST JL-LS\",\n",
    "    # \"ST LS\",\n",
    "]\n",
    "# simulation parameters\n",
    "n_batch = 6 # maximum number of batches considered\n",
    "n_rep_sync = 3 # number of runs\n",
    "n_rep_cycle = 10\n",
    "# regularization parameter\n",
    "q = 0\n",
    "# graph parameters\n",
    "n = 2000;\n",
    "p = 0.01;"
   ]
  },
  {
   "cell_type": "markdown",
   "metadata": {},
   "source": [
    "### 1. MUN graph  <a id=\"MUNgraph\"></a>"
   ]
  },
  {
   "cell_type": "code",
   "execution_count": null,
   "metadata": {},
   "outputs": [],
   "source": [
    "# graph parameters\n",
    "type = \"MUN\" \n",
    "eta = 1e-1\n",
    "# eta = 1e-3\n",
    "file_sync, file_cycles = sync_random_graphs(rng,type,n,p,q,eta,n_rep_sync,n_rep_cycle,n_batch,splg_methods)"
   ]
  },
  {
   "cell_type": "code",
   "execution_count": null,
   "metadata": {},
   "outputs": [],
   "source": [
    "file_sync = \"figures/data/MUN_sync_p0.01_eta0.1_q0_data.jld2\"\n",
    "type = \"MUN\" \n",
    "eta = 1e-1\n",
    "q = 0\n",
    "p = 0.01\n",
    "\n",
    "D = load(file_sync)\n",
    "D_results = D[\"D_results\"]\n",
    "# plotting distance between eigenvectors\n",
    "check_connected = true\n",
    "metric= \"err\"\n",
    "y_limits = (1.5*1e-4, 1.4)\n",
    "legendposition=:topright\n",
    "plot_comparison_sync(metric,D_results,y_limits;legendposition,splg_methods,check_connected)\n",
    "name = \"syncrank_\"*metric*\"_\"*type*\"n\"*string(n)*\"p\"*string(p)*\"eta\"*string(eta)*\"q\"*string(q)\n",
    "Plots.savefig(\"figures/\"*name*\".pdf\")"
   ]
  },
  {
   "cell_type": "markdown",
   "metadata": {},
   "source": [
    "#### 1.1 Eigenvector estimation  <a id=\"MUNeig\"></a>"
   ]
  },
  {
   "cell_type": "code",
   "execution_count": null,
   "metadata": {},
   "outputs": [],
   "source": [
    "# plotting distance between eigenvectors\n",
    "check_connected = true\n",
    "metric= \"err\"\n",
    "y_limits = (1.5*1e-4, 1.4)\n",
    "legendposition=:topright\n",
    "plot_comparison_sync(metric,D_results,y_limits;legendposition,splg_methods,check_connected)\n",
    "name = \"syncrank_\"*metric*\"_\"*type*\"n\"*string(n)*\"p\"*string(p)*\"eta\"*string(eta)*\"q\"*string(q)\n",
    "Plots.savefig(\"figures/\"*name*\".pdf\")"
   ]
  },
  {
   "cell_type": "code",
   "execution_count": null,
   "metadata": {},
   "outputs": [],
   "source": [
    "# plotting distance between eigenvectors\n",
    "check_connected = true\n",
    "metric= \"err\"\n",
    "y_limits = (1e-4, 1.4)\n",
    "legendposition=:topright\n",
    "plot_comparison_sync(metric,D_results,y_limits;legendposition,splg_methods,check_connected)\n",
    "name = \"syncrank_\"*metric*\"_\"*type*\"n\"*string(n)*\"p\"*string(p)*\"eta\"*string(eta)*\"q\"*string(q)"
   ]
  },
  {
   "cell_type": "markdown",
   "metadata": {},
   "source": [
    "#### 1.2 Kendall's tau  <a id=\"MUNtau\"></a>"
   ]
  },
  {
   "cell_type": "code",
   "execution_count": null,
   "metadata": {},
   "outputs": [],
   "source": [
    "# plotting Kendall's tau between rankings\n",
    "metric= \"tau\" \n",
    "y_limits = (0.63, 1.)\n",
    "legendposition=:bottomright\n",
    "plot_comparison_sync(metric,D_results,y_limits;legendposition,splg_methods)\n",
    "name = \"syncrank_\"*metric*\"_\"*type*\"n\"*string(n)*\"p\"*string(p)*\"eta\"*string(eta)*\"q\"*string(q)\n",
    "Plots.savefig(\"figures/\"*name*\".pdf\")"
   ]
  },
  {
   "cell_type": "markdown",
   "metadata": {},
   "source": [
    "#### 1.3 Cycles  <a id=\"MUNcycles\"></a>"
   ]
  },
  {
   "cell_type": "code",
   "execution_count": null,
   "metadata": {},
   "outputs": [],
   "source": [
    "file_cycles = \"figures/data/MUN_cycles_p0.01_eta0.1_q0_data.jld2\"\n",
    "eta = 0.1\n",
    "q = 0\n",
    "type = \"MUN\" \n",
    "D = load(file_cycles)\n",
    "\n",
    "nb_cycles = D[\"nb_cycles\"]\n",
    "weights_crsf = D[\"weights_crsf\"]\n",
    "\n",
    "cat_nb_cycles = string.(sort(Int.(nb_cycles)))\n",
    "trace = PlotlyJS.histogram(x=cat_nb_cycles, histnorm=\"probability density\")\n",
    "layout = Layout(\n",
    "    autosize=false,\n",
    "    width=500,\n",
    "    height=200,\n",
    "    margin=attr(l=1, r=1, b=1, t=1, pad=4),\n",
    "    font_size=35,\n",
    "    xaxis_type=\"category\",\n",
    ")\n",
    "name = \"nb_cycles\"*type*\"eta\"*string(eta)*\"q\"*string(q)\n",
    "plt_cycles = PlotlyJS.plot(trace,layout)\n",
    "\n",
    "# PlotlyJS.savefig(plt_cycles,\"figures/\"*name*\".pdf\")"
   ]
  },
  {
   "cell_type": "code",
   "execution_count": null,
   "metadata": {},
   "outputs": [],
   "source": [
    "trace = box(y=weights_crsf,\n",
    "#boxpoints=\"all\",\n",
    "marker=attr(\n",
    "        color=\"LightSkyBlue\",\n",
    "        size=1),\n",
    "quartilemethod=\"linear\",\n",
    "name=\"\",\n",
    "marker_color=\"royalblue\",\n",
    "boxmean=true)\n",
    "\n",
    "layout = Layout(\n",
    "    autosize=false,\n",
    "    width=500,\n",
    "    height=500,\n",
    "    margin=attr(l=1, r=1, b=1, t=1, pad=4),\n",
    "    font_size=30,\n",
    "    yaxis_range=[1, 1.02],\n",
    ")\n",
    "name = \"crsf_weight\"*type*\"eta\"*string(eta)*\"q\"*string(q)\n",
    "plt_weight = PlotlyJS.plot(trace,layout)\n",
    "PlotlyJS.savefig(plt_weight,\"figures/\"*name*\".pdf\")"
   ]
  },
  {
   "cell_type": "markdown",
   "metadata": {},
   "source": [
    "### 2. ERO graph  <a id=\"EROgraph\"></a>"
   ]
  },
  {
   "cell_type": "code",
   "execution_count": null,
   "metadata": {},
   "outputs": [],
   "source": [
    "type = \"ERO\" \n",
    "\n",
    "eta = 0.1\n",
    "# planted ranking score\n",
    "planted_score = randperm(rng,n)\n",
    "\n",
    "file_sync, file_cycles = sync_random_graphs(rng,type,n,p,q,eta,n_rep_sync,n_rep_cycle,n_batch,splg_methods)"
   ]
  },
  {
   "cell_type": "markdown",
   "metadata": {},
   "source": [
    "#### 2.1 Eigenvector estimation  <a id=\"EROeig\"></a>"
   ]
  },
  {
   "cell_type": "code",
   "execution_count": null,
   "metadata": {},
   "outputs": [],
   "source": [
    "file_sync = \"figures/data/ERO_sync_p0.01_eta0.1_q0_data.jld2\"\n",
    "file_cycles = \"figures/data/ERO_cycles_p0.01_eta0.1_q0_data.jld2\"\n",
    "eta = 0.1\n",
    "q = 0\n",
    "p = 0.01\n",
    "type = \"ERO\"\n",
    "\n",
    "D = load(file_sync)\n",
    "D_results = D[\"D_results\"]\n",
    "\n",
    "check_connected = true\n",
    "# plotting distance between eigenvectors\n",
    "metric= \"err\"\n",
    "y_limits = (1e-2, 1.4)\n",
    "legendposition=:topright\n",
    "plot_comparison_sync(metric,D_results,y_limits;legendposition,splg_methods,check_connected)\n",
    "name = \"syncrank_\"*metric*\"_\"*type*\"n\"*string(n)*\"p\"*string(p)*\"eta\"*string(eta)*\"q\"*string(q)\n",
    "\n",
    "# saving plot\n",
    "Plots.savefig(\"figures/\"*name*\".pdf\")"
   ]
  },
  {
   "cell_type": "code",
   "execution_count": null,
   "metadata": {},
   "outputs": [],
   "source": [
    "# plotting Kendall's tau between rankings\n",
    "metric= \"tau\" \n",
    "y_limits = (0.1, 1.)\n",
    "legendposition=:bottomright\n",
    "plot_comparison_sync(metric,D_results,y_limits;legendposition,splg_methods)\n",
    "\n",
    "name = \"syncrank_\"*metric*\"_\"*type*\"n\"*string(n)*\"p\"*string(p)*\"eta\"*string(eta)*\"q\"*string(q)\n",
    "# saving plot\n",
    "Plots.savefig(\"figures/\"*name*\".pdf\")"
   ]
  },
  {
   "cell_type": "code",
   "execution_count": null,
   "metadata": {},
   "outputs": [],
   "source": [
    "D = load(file_cycles)\n",
    "nb_cycles = D[\"nb_cycles\"]\n",
    "weights_crsf = D[\"weights_crsf\"]\n",
    "\n",
    "cat_nb_cycles = string.(sort(Int.(nb_cycles)))\n",
    "trace = PlotlyJS.histogram(x=cat_nb_cycles, histnorm=\"probability density\")\n",
    "layout = Layout(\n",
    "    autosize=false,\n",
    "    width=500,\n",
    "    height=200,\n",
    "    margin=attr(l=1, r=1, b=1, t=1, pad=4),\n",
    "    font_size=35,\n",
    "    xaxis_type=\"category\",\n",
    ")\n",
    "name = \"nb_cycles\"*type*\"eta\"*string(eta)*\"q\"*string(q)\n",
    "\n",
    "plt_cycles = PlotlyJS.plot(trace,layout)\n",
    "# PlotlyJS.savefig(plt_cycles,\"figures/\"*name*\".pdf\")"
   ]
  },
  {
   "cell_type": "code",
   "execution_count": null,
   "metadata": {},
   "outputs": [],
   "source": [
    "trace = box(y=weights_crsf,\n",
    "marker=attr(\n",
    "        color=\"LightSkyBlue\",\n",
    "        size=1),\n",
    "quartilemethod=\"linear\",\n",
    "name=\"\",\n",
    "marker_color=\"royalblue\",\n",
    "boxmean=true)\n",
    "\n",
    "layout = Layout(\n",
    "    autosize=false,\n",
    "    width=500,\n",
    "    height=500,\n",
    "    margin=attr(l=1, r=1, b=1, t=1, pad=4),\n",
    "    font_size=30,\n",
    "    yaxis_range=[1, 4],\n",
    "\n",
    ")\n",
    "\n",
    "name = \"crsf_weight\"*type*\"eta\"*string(eta)*\"q\"*string(q)\n",
    "plt_weight = PlotlyJS.plot(trace,layout)\n",
    "PlotlyJS.savefig(plt_weight,\"figures/\"*name*\".pdf\")"
   ]
  },
  {
   "cell_type": "code",
   "execution_count": null,
   "metadata": {},
   "outputs": [],
   "source": []
  }
 ],
 "metadata": {
  "kernelspec": {
   "display_name": "Julia 1.6.7",
   "language": "julia",
   "name": "julia-1.6"
  },
  "language_info": {
   "file_extension": ".jl",
   "mimetype": "application/julia",
   "name": "julia",
   "version": "1.6.7"
  },
  "orig_nbformat": 4
 },
 "nbformat": 4,
 "nbformat_minor": 2
}
