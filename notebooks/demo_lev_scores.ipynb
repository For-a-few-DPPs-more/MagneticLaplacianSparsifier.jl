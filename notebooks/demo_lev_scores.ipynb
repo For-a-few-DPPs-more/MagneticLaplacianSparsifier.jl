{
 "cells": [
  {
   "cell_type": "code",
   "execution_count": null,
   "metadata": {},
   "outputs": [],
   "source": [
    "using MagneticLaplacianSparsifier\n",
    "using Graphs, MetaGraphs, Random, IterTools, LinearAlgebra, GraphPlot, Arpack, Plots, SparseArrays"
   ]
  },
  {
   "cell_type": "markdown",
   "metadata": {},
   "source": [
    "### Comparison between exact Leverage Scores (LSs) and empirical LSs"
   ]
  },
  {
   "cell_type": "markdown",
   "metadata": {},
   "source": [
    "Combinatorial Laplacian"
   ]
  },
  {
   "cell_type": "code",
   "execution_count": null,
   "metadata": {},
   "outputs": [],
   "source": [
    "n = 20\n",
    "p = 0.8\n",
    "eta = 0.0\n",
    "\n",
    "rng = Random.default_rng()\n",
    "\n",
    "meta_g = gen_graph_mun(rng, n, p, eta)\n",
    "q = 0\n",
    "B_ust = Matrix(magnetic_incidence_matrix(meta_g; oriented=true, phases=false))\n",
    "lev = leverage_score(B_ust, q)\n",
    "\n",
    "nb_samples = 1000000\n",
    "q = 0\n",
    "emp_lev = emp_leverage_score(rng, meta_g, q, nb_samples; weighted=false, absorbing_node=true, ust=true)\n",
    "\n",
    "plot(lev)\n",
    "plot!(emp_lev)\n"
   ]
  },
  {
   "cell_type": "markdown",
   "metadata": {},
   "source": [
    "Magnetic Laplacian"
   ]
  },
  {
   "cell_type": "code",
   "execution_count": null,
   "metadata": {},
   "outputs": [],
   "source": [
    "n = 20\n",
    "p = 0.5\n",
    "eta = 0.1\n",
    "\n",
    "rng = Random.default_rng()\n",
    "meta_g = gen_graph_mun(rng, n, p, eta)\n",
    "B = magnetic_incidence(meta_g)\n",
    "L = B * B'\n",
    "\n",
    "q = 0\n",
    "\n",
    "nb_samples = 1e4:1e4:3*1e4\n",
    "inf_error = zeros(size(nb_samples))\n",
    "for i = 1:length(nb_samples)\n",
    "    emp_lev = emp_leverage_score(rng, meta_g, q, nb_samples[i])\n",
    "    lev = leverage_score(B, q)\n",
    "\n",
    "    inf_error[i] = norm(emp_lev - lev,Inf)\n",
    "end\n",
    "\n",
    "plot(range_MC, inf_error)\n"
   ]
  },
  {
   "cell_type": "code",
   "execution_count": null,
   "metadata": {},
   "outputs": [],
   "source": []
  }
 ],
 "metadata": {
  "kernelspec": {
   "display_name": "Julia 1.6.3",
   "language": "julia",
   "name": "julia-1.6"
  },
  "language_info": {
   "file_extension": ".jl",
   "mimetype": "application/julia",
   "name": "julia",
   "version": "1.6.3"
  },
  "orig_nbformat": 4
 },
 "nbformat": 4,
 "nbformat_minor": 2
}
