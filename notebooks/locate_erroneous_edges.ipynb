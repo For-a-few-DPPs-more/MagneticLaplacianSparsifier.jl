{
 "cells": [
  {
   "cell_type": "code",
   "execution_count": 1,
   "metadata": {},
   "outputs": [],
   "source": [
    "using MagneticLaplacianSparsifier\n",
    "using Graphs, MetaGraphs, Random, IterTools, LinearAlgebra, GraphPlot, Arpack, Plots, SparseArrays\n",
    "using Statistics\n",
    "using Measures\n",
    "using StatsBase\n",
    "using Random\n",
    "\n",
    "using GraphIO \n",
    "using ParserCombinator "
   ]
  },
  {
   "cell_type": "code",
   "execution_count": 56,
   "metadata": {},
   "outputs": [
    {
     "data": {
      "text/plain": [
       "common_edges (generic function with 1 method)"
      ]
     },
     "metadata": {},
     "output_type": "display_data"
    }
   ],
   "source": [
    "function common_edges(g,noisy_edges)\n",
    "    common = []\n",
    "    for l = 1:length(noisy_edges)\n",
    "        edge = noisy_edges[l]\n",
    "        s = edge[1]\n",
    "        d = edge[2]\n",
    "        if  has_edge(g, s, d) || has_edge(g, d, s)\n",
    "            push!(common,edge)\n",
    "        end\n",
    "    end\n",
    "    return common\n",
    "end"
   ]
  },
  {
   "cell_type": "code",
   "execution_count": 70,
   "metadata": {},
   "outputs": [],
   "source": [
    "rng = Random.default_rng();\n",
    "\n",
    "# graph parameters\n",
    "n = 100\n",
    "p = 0.9\n",
    "eta = 0.001\n",
    "\n",
    "# planted ranking score\n",
    "planted_score = randperm(rng,n);"
   ]
  },
  {
   "cell_type": "code",
   "execution_count": 85,
   "metadata": {},
   "outputs": [
    {
     "name": "stdout",
     "output_type": "stream",
     "text": [
      "crsf \n",
      "mean 1.2 std 0.4264014327112209\n",
      "st\n",
      "mean 0.38 std 0.5993262210114948\n"
     ]
    }
   ],
   "source": [
    "n_rep = 100\n",
    "\n",
    "nb_noisy_crsf = zeros(n_rep,1)\n",
    "nb_noisy_st = zeros(n_rep,1)\n",
    "\n",
    "meta_g, noisy_edges,err_edges = ero_located(rng, n, p, eta;planted_score)\n",
    "\n",
    "# edges_crsf = []\n",
    "# edges_st = []\n",
    "\n",
    "for i = 1:n_rep\n",
    "    q = 0\n",
    "    crsf = multi_type_spanning_forest(rng, meta_g, q;)\n",
    "    absorbing_node = true\n",
    "    ust = true\n",
    "    st = multi_type_spanning_forest(rng, meta_g, q; absorbing_node, ust)\n",
    "    #\n",
    "    common_crsf = common_edges(crsf,noisy_edges)\n",
    "    nb_noisy_crsf[i] = length(common_crsf)\n",
    "    common_st = common_edges(st,noisy_edges)\n",
    "    nb_noisy_st[i] = length(common_st)\n",
    "\n",
    "    # push!(edges_crsf,common_crsf)\n",
    "    # push!(edges_st,common_st)\n",
    "end\n",
    "\n",
    "println(\"crsf \") \n",
    "println(\"mean \", mean(nb_noisy_crsf), \" std \" ,std(nb_noisy_crsf))\n",
    "println(\"st\")\n",
    "println(\"mean \",  mean(nb_noisy_st), \" std \" ,std(nb_noisy_st))\n"
   ]
  },
  {
   "cell_type": "code",
   "execution_count": null,
   "metadata": {},
   "outputs": [],
   "source": []
  }
 ],
 "metadata": {
  "kernelspec": {
   "display_name": "Julia 1.6.3",
   "language": "julia",
   "name": "julia-1.6"
  },
  "language_info": {
   "file_extension": ".jl",
   "mimetype": "application/julia",
   "name": "julia",
   "version": "1.6.3"
  },
  "orig_nbformat": 4
 },
 "nbformat": 4,
 "nbformat_minor": 2
}
