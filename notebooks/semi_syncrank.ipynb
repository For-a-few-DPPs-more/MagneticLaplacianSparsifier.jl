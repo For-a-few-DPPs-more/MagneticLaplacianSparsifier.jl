{
 "cells": [
  {
   "cell_type": "code",
   "execution_count": 1,
   "metadata": {},
   "outputs": [],
   "source": [
    "using MagneticLaplacianSparsifier\n",
    "using Graphs, MetaGraphs, Random, IterTools, LinearAlgebra, GraphPlot, Arpack, Plots, SparseArrays\n",
    "using Statistics\n",
    "using Measures\n",
    "using StatsBase"
   ]
  },
  {
   "cell_type": "code",
   "execution_count": 15,
   "metadata": {},
   "outputs": [
    {
     "data": {
      "text/plain": [
       "{50, 1104} undirected Int64 metagraph with Float64 weights defined by :weight (default weight 1.0)"
      ]
     },
     "metadata": {},
     "output_type": "display_data"
    }
   ],
   "source": [
    "rng = Random.default_rng();\n",
    "\n",
    "# graph parameters\n",
    "n = 50\n",
    "p = 0.9\n",
    "eta = 0.\n",
    "\n",
    "# planted ranking score\n",
    "planted_score = randperm(rng,n)\n",
    "\n",
    "# graph model\n",
    "type = \"MUN\" \n",
    "\n",
    "if type==\"MUN\"\n",
    "    meta_g = gen_graph_mun(rng, n, p, eta;planted_score)\n",
    "elseif type==\"ERO\"\n",
    "    meta_g = gen_graph_ero(rng, n, p, eta;planted_score)\n",
    "end\n"
   ]
  },
  {
   "cell_type": "code",
   "execution_count": 16,
   "metadata": {},
   "outputs": [
    {
     "data": {
      "text/plain": [
       "0.9755102040816327"
      ]
     },
     "metadata": {},
     "output_type": "display_data"
    }
   ],
   "source": [
    "batch = 5\n",
    "\n",
    "# technical parameters\n",
    "weighted = true # normalized Laplacian is used\n",
    "singular = true # all eigenpairs are computed for more stability\n",
    "\n",
    "# incidence matrix\n",
    "B = magnetic_incidence(meta_g)\n",
    "\n",
    "# full magnetic Laplacian\n",
    "W = I # weight matrix\n",
    "if weighted\n",
    "    e_weights = get_edges_prop(meta_g, :e_weight, true, 1.0)\n",
    "    W *= diagm(e_weights)\n",
    "end\n",
    "L = B * W * B'\n",
    "\n",
    "# normalization of L\n",
    "normalize_Lap!(L)\n",
    "\n",
    "# least eigenvector full Laplacian\n",
    "v = least_eigenvector(L; singular)\n",
    "\n",
    "# recovered ranking full Laplacian\n",
    "ranking_full = syncrank(L, meta_g; singular)\n",
    "\n",
    "planted_ranking = ranking_from_score(planted_score)\n",
    "tau_full = corkendall(planted_ranking, ranking_full)"
   ]
  },
  {
   "cell_type": "code",
   "execution_count": null,
   "metadata": {},
   "outputs": [],
   "source": []
  }
 ],
 "metadata": {
  "kernelspec": {
   "display_name": "Julia 1.6.3",
   "language": "julia",
   "name": "julia-1.6"
  },
  "language_info": {
   "file_extension": ".jl",
   "mimetype": "application/julia",
   "name": "julia",
   "version": "1.6.3"
  },
  "orig_nbformat": 4
 },
 "nbformat": 4,
 "nbformat_minor": 2
}
