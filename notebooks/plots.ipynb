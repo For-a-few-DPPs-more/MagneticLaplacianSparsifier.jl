{
 "cells": [
  {
   "cell_type": "code",
   "execution_count": 2,
   "metadata": {},
   "outputs": [],
   "source": [
    "using MagneticLaplacianSparsifier\n",
    "using Graphs, MetaGraphs, Random, IterTools, LinearAlgebra, GraphPlot, Arpack, Plots, SparseArrays\n",
    "using Statistics\n",
    "using Measures\n",
    "using StatsBase\n",
    "\n",
    "using CairoMakie\n",
    "CairoMakie.activate!(type=\"png\")\n",
    "set_theme!(resolution=(400, 400))\n",
    "CairoMakie.inline!(true)\n",
    "using GraphMakie: graphplot\n",
    "using CairoMakie.Colors\n",
    "using GeometryBasics: Point"
   ]
  },
  {
   "cell_type": "code",
   "execution_count": 56,
   "metadata": {},
   "outputs": [
    {
     "data": {
      "image/png": "[encoded data removed]",
      "text/plain": [
       "Scene (400px, 400px):\n",
       "  18 Plots:\n",
       "    ├ Combined{Makie.poly, Tuple{Vector{Vector{Point{2, Float32}}}}}\n",
       "    ├ LineSegments{Tuple{Vector{Point{2, Float32}}}}\n",
       "    ├ LineSegments{Tuple{Vector{Point{2, Float32}}}}\n",
       "    ├ LineSegments{Tuple{Vector{Point{2, Float32}}}}\n",
       "    ├ LineSegments{Tuple{Vector{Point{2, Float32}}}}\n",
       "    ├ LineSegments{Tuple{Vector{Point{2, Float32}}}}\n",
       "    ├ LineSegments{Tuple{Vector{Point{2, Float32}}}}\n",
       "    ├ MakieCore.Text{Tuple{String}}\n",
       "    ├ Lines{Tuple{Vector{Point{2, Float32}}}}\n",
       "    ├ MakieCore.Text{Tuple{Vector{Tuple{AbstractString, Point{2, Float32}}}}}\n",
       "    ├ LineSegments{Tuple{Vector{Point{2, Float32}}}}\n",
       "    ├ LineSegments{Tuple{Vector{Point{2, Float32}}}}\n",
       "    ├ MakieCore.Text{Tuple{String}}\n",
       "    ├ Lines{Tuple{Vector{Point{2, Float32}}}}\n",
       "    ├ MakieCore.Text{Tuple{Vector{Tuple{AbstractString, Point{2, Float32}}}}}\n",
       "    ├ Lines{Tuple{Vector{Point{2, Float32}}}}\n",
       "    ├ Lines{Tuple{Vector{Point{2, Float32}}}}\n",
       "    └ MakieCore.Text{Tuple{String}}\n",
       "  1 Child Scene:\n",
       "    └ Scene (368px, 368px)"
      ]
     },
     "metadata": {},
     "output_type": "display_data"
    }
   ],
   "source": [
    "spanning_graph = \"MTSF\"\n",
    "\n",
    "##  default parameters\n",
    "# number of nodes on the side\n",
    "n_side = 7\n",
    "\n",
    "# interval [a,b]^2\n",
    "a = 0\n",
    "b = 1\n",
    "\n",
    "# for sampling\n",
    "absorbing_node = false\n",
    "ust = false # for spanning trees\n",
    "\n",
    "# proba to have an outlier edge\n",
    "η = 0.\n",
    "# uniform noise on edges\n",
    "noise = 0.\n",
    "# regularization parameter\n",
    "q = 0.\n",
    "\n",
    "if spanning_graph == \"ST\"\n",
    "    absorbing_node = true\n",
    "    ust = true\n",
    "    η = 0.\n",
    "    noise = 0.\n",
    "elseif spanning_graph == \"SF\"\n",
    "    q = 0.1\n",
    "elseif spanning_graph == \"CRSF\"\n",
    "    η = 0.2\n",
    "    noise =0.1\n",
    "elseif spanning_graph == \"MTSF\"\n",
    "    q = 0.05\n",
    "    η = 0.2\n",
    "    noise = 0.\n",
    "end\n",
    "\n",
    "# edges weights?\n",
    "weighted = false\n",
    "\n",
    "# random generator\n",
    "rng = Random.default_rng()\n",
    "\n",
    "# number of nodes\n",
    "n_v = n_side^2\n",
    "\n",
    "# grid spacing\n",
    "grid_spacing = (b-a)/(n_side - 1) \n",
    "# grid coordinates\n",
    "x = flat_square_2d_grid(n_v, a, b)\n",
    "# for plotting\n",
    "function mylayout(g::AbstractGraph)\n",
    "    # create iterator going over x-coord and y-coord \n",
    "    return Point.(zip(x[:, 1], x[:, 2]))\n",
    "end\n",
    "\n",
    "# planted ranking score\n",
    "planted_score = randperm(rng,n_v);\n",
    "\n",
    "meta_g = MetaGraph(n_v)\n",
    "\n",
    "for u in 1:n_v\n",
    "    for v in 1:n_v\n",
    "        if u < v\n",
    "            edge_exits = (norm(x[u,:]-x[v,:],1) < grid_spacing + 1e-10)\n",
    "            if edge_exits\n",
    "                h_u = planted_score[u]\n",
    "                h_v = planted_score[v]\n",
    "                θ = (h_u - h_v) * π / (n_v - 1)\n",
    "                if (rand(rng) < η)\n",
    "                    θ = rand(rng, (-n_v + 1):(n_v - 1)) * π / (n_v - 1)\n",
    "                else\n",
    "                    θ *= 1.0 + noise * 2 * (rand(rng) - 0.5)\n",
    "                end\n",
    "                add_edge!(meta_g, u, v, :angle, θ)\n",
    "            end\n",
    "        end\n",
    "    end\n",
    "end\n",
    "\n",
    "crsf = multi_type_spanning_forest(rng, meta_g, q; weighted, absorbing_node, ust)\n",
    "\n",
    "\n",
    "cycles = get_prop(crsf, :cycle_nodes)\n",
    "cycle_g = MetaGraph(n_v)\n",
    "\n",
    "for c in cycles \n",
    "    for u in 1:n_v\n",
    "        for v in 1:n_v\n",
    "            if u < v\n",
    "                edge_exits = (norm(x[u,:]-x[v,:],1) < grid_spacing + 1e-10)\n",
    "                u_in_c = (indexin(u, c)[1] !== nothing)\n",
    "                v_in_c = (indexin(v, c)[1] !== nothing)\n",
    "\n",
    "                if u_in_c && v_in_c && edge_exits\n",
    "                    add_edge!(cycle_g, u, v)\n",
    "                end\n",
    "            end\n",
    "        end\n",
    "    end\n",
    "end\n",
    "\n",
    "\n",
    "f, ax, p = graphplot(crsf; layout=mylayout)\n",
    "hidedecorations!(ax); hidespines!(ax)\n",
    "ax.aspect = DataAspect()\n",
    "f"
   ]
  },
  {
   "cell_type": "code",
   "execution_count": 8,
   "metadata": {},
   "outputs": [
    {
     "data": {
      "text/plain": [
       "Int64[]"
      ]
     },
     "metadata": {},
     "output_type": "display_data"
    }
   ],
   "source": [
    "roots = get_prop(crsf, :roots)"
   ]
  },
  {
   "cell_type": "code",
   "execution_count": 22,
   "metadata": {},
   "outputs": [
    {
     "data": {
      "text/plain": [
       "1-element Vector{Vector{Int64}}:\n",
       " [13, 14, 21, 20]"
      ]
     },
     "metadata": {},
     "output_type": "display_data"
    }
   ],
   "source": [
    "cycles = get_prop(crsf, :cycle_nodes)"
   ]
  },
  {
   "cell_type": "code",
   "execution_count": 52,
   "metadata": {},
   "outputs": [
    {
     "data": {
      "image/png": "[encoded data removed]",
      "text/plain": [
       "Scene (400px, 400px):\n",
       "  18 Plots:\n",
       "    ├ Combined{Makie.poly, Tuple{Vector{Vector{Point{2, Float32}}}}}\n",
       "    ├ LineSegments{Tuple{Vector{Point{2, Float32}}}}\n",
       "    ├ LineSegments{Tuple{Vector{Point{2, Float32}}}}\n",
       "    ├ LineSegments{Tuple{Vector{Point{2, Float32}}}}\n",
       "    ├ LineSegments{Tuple{Vector{Point{2, Float32}}}}\n",
       "    ├ LineSegments{Tuple{Vector{Point{2, Float32}}}}\n",
       "    ├ LineSegments{Tuple{Vector{Point{2, Float32}}}}\n",
       "    ├ MakieCore.Text{Tuple{String}}\n",
       "    ├ Lines{Tuple{Vector{Point{2, Float32}}}}\n",
       "    ├ MakieCore.Text{Tuple{Vector{Tuple{AbstractString, Point{2, Float32}}}}}\n",
       "    ├ LineSegments{Tuple{Vector{Point{2, Float32}}}}\n",
       "    ├ LineSegments{Tuple{Vector{Point{2, Float32}}}}\n",
       "    ├ MakieCore.Text{Tuple{String}}\n",
       "    ├ Lines{Tuple{Vector{Point{2, Float32}}}}\n",
       "    ├ MakieCore.Text{Tuple{Vector{Tuple{AbstractString, Point{2, Float32}}}}}\n",
       "    ├ Lines{Tuple{Vector{Point{2, Float32}}}}\n",
       "    ├ Lines{Tuple{Vector{Point{2, Float32}}}}\n",
       "    └ MakieCore.Text{Tuple{String}}\n",
       "  1 Child Scene:\n",
       "    └ Scene (368px, 368px)"
      ]
     },
     "metadata": {},
     "output_type": "display_data"
    }
   ],
   "source": [
    "cycles = get_prop(crsf, :cycle_nodes)\n",
    "\n",
    "cycle_g = MetaGraph(n_v)\n",
    "\n",
    "for c in cycles \n",
    "    for u in 1:n_v\n",
    "        for v in 1:n_v\n",
    "            if u < v\n",
    "                edge_exits = (norm(x[u,:]-x[v,:],1) < grid_spacing + 1e-10)\n",
    "                u_in_c = (indexin(u, c)[1] !== nothing)\n",
    "                v_in_c = (indexin(v, c)[1] !== nothing)\n",
    "\n",
    "                if u_in_c && v_in_c && edge_exits\n",
    "                    add_edge!(cycle_g, u, v)\n",
    "                end\n",
    "            end\n",
    "        end\n",
    "    end\n",
    "end\n",
    "\n",
    "f, ax, p = graphplot(cycle_g, layout=mylayout)\n",
    "hidedecorations!(ax); hidespines!(ax)\n",
    "ax.aspect = DataAspect()\n",
    "\n",
    "display(f)"
   ]
  },
  {
   "cell_type": "code",
   "execution_count": 29,
   "metadata": {},
   "outputs": [
    {
     "data": {
      "text/plain": [
       "false"
      ]
     },
     "metadata": {},
     "output_type": "display_data"
    }
   ],
   "source": [
    "c = cycles[1]\n",
    "u = 1\n",
    "isempty(indexin(u, c))"
   ]
  },
  {
   "cell_type": "code",
   "execution_count": 30,
   "metadata": {},
   "outputs": [
    {
     "data": {
      "text/plain": [
       "4-element Vector{Int64}:\n",
       " 13\n",
       " 14\n",
       " 21\n",
       " 20"
      ]
     },
     "metadata": {},
     "output_type": "display_data"
    }
   ],
   "source": [
    "c"
   ]
  },
  {
   "cell_type": "code",
   "execution_count": null,
   "metadata": {},
   "outputs": [],
   "source": []
  }
 ],
 "metadata": {
  "kernelspec": {
   "display_name": "Julia 1.6.3",
   "language": "julia",
   "name": "julia-1.6"
  },
  "language_info": {
   "file_extension": ".jl",
   "mimetype": "application/julia",
   "name": "julia",
   "version": "1.6.3"
  },
  "orig_nbformat": 4
 },
 "nbformat": 4,
 "nbformat_minor": 2
}
