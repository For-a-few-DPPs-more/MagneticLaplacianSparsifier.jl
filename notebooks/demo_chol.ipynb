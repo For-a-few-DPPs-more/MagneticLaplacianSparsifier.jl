{
 "cells": [
  {
   "cell_type": "code",
   "execution_count": 1,
   "metadata": {},
   "outputs": [],
   "source": [
    "using MagneticLaplacianSparsifier\n",
    "using Graphs, MetaGraphs, Random, IterTools, LinearAlgebra, GraphPlot, Arpack, Plots, SparseArrays\n",
    "using Statistics\n",
    "using Measures\n",
    "using StatsBase"
   ]
  },
  {
   "cell_type": "code",
   "execution_count": 11,
   "metadata": {},
   "outputs": [
    {
     "name": "stdout",
     "output_type": "stream",
     "text": [
      "choleski of L with custom perm: 314.0 off diagonal entries \n",
      "theoretical upper bound: 314 off diagonal entries \n",
      "choleski of L with RANDOM permutation: 1231.0 off diagonal entries \n",
      "choleski of L with AUTOMATIC permutation: 314.0 off diagonal entries \n"
     ]
    }
   ],
   "source": [
    "# graph generation\n",
    "q = 0;\n",
    "n = 300;\n",
    "eta = 0.5;\n",
    "p = 0.9;\n",
    "\n",
    "rng = Random.default_rng();\n",
    "\n",
    "# planted ranking score\n",
    "planted_score = randperm(rng,n)\n",
    "\n",
    "n_rep = 1\n",
    "\n",
    "off_diag_chol_custom = zeros(n_rep,1)\n",
    "off_diag_chol_random = zeros(n_rep,1)\n",
    "off_diag_chol_auto = zeros(n_rep,1)\n",
    "chol_bound = zeros(n_rep,1)\n",
    "\n",
    "for i= 1:n_rep\n",
    "    comp_graph = gen_graph_ero(rng, n, p, eta;planted_score)\n",
    "\n",
    "    # sample a CRSF\n",
    "    crsf = multi_type_spanning_forest(rng, comp_graph, q)\n",
    "\n",
    "    # get the nodes in the cycle(s)\n",
    "    cycles = get_prop(crsf,:cycle_nodes)\n",
    "\n",
    "    # # get the branches in the (reverse) order there were sampled\n",
    "    branches = get_prop(crsf,:branches)\n",
    "\n",
    "    flt_branches = collect(Iterators.flatten(branches))\n",
    "    flt_cycles = collect(Iterators.flatten(cycles))\n",
    "\n",
    "    # indices array putting the nodes in the right order\n",
    "    ind = [flt_branches; setdiff(1:n,flt_branches)];\n",
    "    # construct Laplacian\n",
    "    B = sp_magnetic_incidence(crsf; oriented=true);\n",
    "    L = B*B';\n",
    "\n",
    "    # find cholesky\n",
    "    lower_factor = cholesky(L, perm = ind).L;\n",
    "\n",
    "    chol_matrix = sparse(lower_factor)\n",
    "    # number of diag entries\n",
    "\n",
    "    off_diag_chol_custom[i] = nnz(chol_matrix) - n\n",
    "\n",
    "    print(\"choleski of L with custom perm: \", off_diag_chol_custom[i], \" off diagonal entries \\n\")\n",
    "\n",
    "    # upper bound on number of non-zero entries (Prop 2 in paper)\n",
    "    # n + sum_{cycle c}(n_c - 3)\n",
    "\n",
    "    bound = isempty(cycles) ? 0 : sum(length(c) - 3 for c in cycles)\n",
    "    bound += nv(crsf)\n",
    "\n",
    "    print(\"theoretical upper bound: \", bound, \" off diagonal entries \\n\")\n",
    "\n",
    "    chol_bound[i] = bound\n",
    "\n",
    "    # cholesky of random permuted Laplacian\n",
    "    perm = randperm(n);\n",
    "    lower_factor_rand_perm = sparse(cholesky(L, perm = perm).L);\n",
    "\n",
    "    off_diag_chol_random[i] = nnz(lower_factor_rand_perm) - n\n",
    "\n",
    "    print(\"choleski of L with RANDOM permutation: \", off_diag_chol_random[i], \" off diagonal entries \\n\")\n",
    "\n",
    "    # cholesky of raw Laplacian\n",
    "    lower_factor_raw = sparse(cholesky(L).L);\n",
    "\n",
    "    off_diag_chol_auto[i] = nnz(lower_factor_raw) - n\n",
    "\n",
    "    print(\"choleski of L with AUTOMATIC permutation: \", off_diag_chol_auto[i], \" off diagonal entries \\n\")\n",
    "\n",
    "end\n",
    "\n"
   ]
  },
  {
   "cell_type": "code",
   "execution_count": 12,
   "metadata": {},
   "outputs": [],
   "source": []
  }
 ],
 "metadata": {
  "kernelspec": {
   "display_name": "Julia 1.6.3",
   "language": "julia",
   "name": "julia-1.6"
  },
  "language_info": {
   "file_extension": ".jl",
   "mimetype": "application/julia",
   "name": "julia",
   "version": "1.6.3"
  },
  "orig_nbformat": 4
 },
 "nbformat": 4,
 "nbformat_minor": 2
}
