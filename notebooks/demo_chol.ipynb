{
 "cells": [
  {
   "cell_type": "code",
   "execution_count": null,
   "metadata": {},
   "outputs": [],
   "source": [
    "using Random, LinearAlgebra, SparseArrays\n",
    "using Graphs, MetaGraphs, GraphPlot\n",
    "\n",
    "using MagneticLaplacianSparsifier\n",
    "using MagneticLaplacianSparsifier: getRNG"
   ]
  },
  {
   "cell_type": "code",
   "execution_count": null,
   "metadata": {},
   "outputs": [],
   "source": [
    "# graph generation\n",
    "n = 30\n",
    "p = 0.5\n",
    "eta = 0.3\n",
    "\n",
    "rng = getRNG(0)\n",
    "comp_graph = gen_graph_mun(rng, n, p, eta)  # add rng\n",
    "collect(edges(comp_graph))\n",
    "\n",
    "# plotting\n",
    "gplot(comp_graph, nodelabel=1:nv(comp_graph))\n",
    "\n",
    "# sample a CRSF\n",
    "q = 0\n",
    "crsf = multi_type_spanning_forest(rng, comp_graph, q)\n",
    "\n",
    "flt_branches = collect(Iterators.flatten(get_prop(crsf, :branches)))\n",
    "flt_cycles = collect(Iterators.flatten(get_prop(crsf, :cycle_nodes)))\n",
    "\n",
    "print(\"peeling leafs order: \", flt_branches, \"\\n\")\n",
    "print(\"cycle nodes: \", flt_cycles)\n",
    "\n",
    "# plotting\n",
    "gplot(crsf, nodelabel=1:nv(crsf))"
   ]
  },
  {
   "cell_type": "code",
   "execution_count": null,
   "metadata": {},
   "outputs": [],
   "source": [
    "# construct Laplacian\n",
    "B = sp_magnetic_incidence(crsf; oriented=true)\n",
    "L = B*B'\n",
    "# reorder Laplacian\n",
    "ind = [flt_branches; setdiff(1:n,flt_branches)]\n",
    "L_perm = L[ind,ind]\n",
    "chol_matrix = sparse(cholesky(L_perm).L)\n",
    "# number of diag entries\n",
    "print(\"choleski off diagonal entries: \", nnz(chol_matrix) - n, \"\\n\")\n",
    "\n",
    "# upper bound on number of non-zero entries (Prop 2 in paper)\n",
    "bound = n + sum(length(c) - 3 for c in flt_cycles)\n",
    "print(\"theory: upper bound on off diagonal entries:  \", bound)\n",
    "chol_matrix"
   ]
  },
  {
   "cell_type": "code",
   "execution_count": null,
   "metadata": {},
   "outputs": [],
   "source": [
    "# cholesky of raw Laplacian\n",
    "sparse(cholesky(L).L)"
   ]
  }
 ],
 "metadata": {
  "interpreter": {
   "hash": "31f2aee4e71d21fbe5cf8b01ff0e069b9275f58929596ceb00d14d90e3e16cd6"
  },
  "kernelspec": {
   "display_name": "Julia 1.6.1",
   "language": "julia",
   "name": "julia-1.6"
  },
  "language_info": {
   "file_extension": ".jl",
   "mimetype": "application/julia",
   "name": "julia",
   "version": "1.6.1"
  },
  "orig_nbformat": 4
 },
 "nbformat": 4,
 "nbformat_minor": 2
}
