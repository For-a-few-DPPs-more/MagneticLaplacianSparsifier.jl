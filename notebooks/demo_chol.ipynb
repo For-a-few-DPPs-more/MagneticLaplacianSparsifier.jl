{
 "cells": [
  {
   "cell_type": "code",
   "execution_count": null,
   "metadata": {},
   "outputs": [],
   "source": [
    "using MagneticLaplacianSparsifier\n",
    "using Graphs, MetaGraphs, Random, IterTools, LinearAlgebra, GraphPlot, Arpack, Plots, SparseArrays"
   ]
  },
  {
   "cell_type": "code",
   "execution_count": null,
   "metadata": {},
   "outputs": [],
   "source": [
    "# graph generation\n",
    "q = 0;\n",
    "n = 10;\n",
    "eta = 0.5;\n",
    "p = 0.9;\n",
    "\n",
    "rng = Random.default_rng();\n",
    "comp_graph = gen_graph_ero(rng, n, p, eta);\n",
    "\n",
    "# sample a CRSF\n",
    "crsf = multi_type_spanning_forest(rng, comp_graph, q)\n",
    "\n",
    "# get the nodes in the cycle(s)\n",
    "cycles = get_prop(crsf,:cycle_nodes)\n",
    "# get the branches in the (reverse) order there were sampled\n",
    "branches = get_prop(crsf,:branches)\n",
    "\n",
    "flt_branches = collect(Iterators.flatten(branches))\n",
    "flt_cycles = collect(Iterators.flatten(cycles))\n",
    "\n",
    "print(\"peeling leafs order: \", flt_branches, \"\\n\")\n",
    "print(\"cycle nodes: \",flt_cycles)\n",
    "\n",
    "# plotting\n",
    "nodelabel = 1:nv(crsf)\n",
    "gplot(crsf, nodelabel=nodelabel)"
   ]
  },
  {
   "cell_type": "code",
   "execution_count": null,
   "metadata": {},
   "outputs": [],
   "source": [
    "# indices array putting the nodes in the right order\n",
    "ind = [flt_branches; setdiff(1:n,flt_branches)];\n",
    "# construct Laplacian\n",
    "B = sp_magnetic_incidence(crsf; oriented=true);\n",
    "L = B*B';\n",
    "# reorder Laplacian\n",
    "L_perm = L[ind,ind];\n",
    "# find cholesky\n",
    "lower_factor = cholesky(L, perm = ind).L;\n",
    "\n",
    "chol_matrix = sparse(lower_factor)\n",
    "# number of diag entries\n",
    "print(\"choleski of L with custom perm: \", nnz(chol_matrix) - n, \" off diagonal entries \\n\")\n",
    "\n",
    "# upper bound on number of non-zero entries (Prop 2 in paper)\n",
    "# n + sum_{cycle c}(n_c - 3)\n",
    "bound = 0;\n",
    "for i=1:length(flt_cycles)\n",
    "    bound += length(flt_cycles[i]) - 3\n",
    "end\n",
    "bound  += n;\n",
    "print(\"theoretical upper bound: \", bound, \" off diagonal entries \\n\")\n",
    "#print(sparse(lower_factor))\n",
    "\n",
    "# cholesky of random permuted Laplacian\n",
    "p = randperm(n);\n",
    "lower_factor_rand_perm = sparse(cholesky(L, perm = p).L);\n",
    "print(\"choleski of L with RANDOM permutation: \", nnz(lower_factor_rand_perm) - n, \" off diagonal entries \\n\")\n",
    "#print(lower_factor_rand_perm)\n",
    "\n",
    "# cholesky of raw Laplacian\n",
    "lower_factor_raw = sparse(cholesky(L).L);\n",
    "print(\"choleski of L with AUTOMATIC permutation: \", nnz(lower_factor_raw) - n, \" off diagonal entries \\n\")\n"
   ]
  },
  {
   "cell_type": "code",
   "execution_count": null,
   "metadata": {},
   "outputs": [],
   "source": []
  }
 ],
 "metadata": {
  "kernelspec": {
   "display_name": "Julia 1.6.3",
   "language": "julia",
   "name": "julia-1.6"
  },
  "language_info": {
   "file_extension": ".jl",
   "mimetype": "application/julia",
   "name": "julia",
   "version": "1.6.3"
  },
  "orig_nbformat": 4
 },
 "nbformat": 4,
 "nbformat_minor": 2
}
