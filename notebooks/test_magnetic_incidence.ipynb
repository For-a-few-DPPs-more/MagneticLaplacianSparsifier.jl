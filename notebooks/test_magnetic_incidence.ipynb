{
 "cells": [
  {
   "cell_type": "code",
   "execution_count": 18,
   "metadata": {},
   "outputs": [],
   "source": [
    "using MagneticLaplacianSparsifier\n",
    "using Graphs, MetaGraphs, Random, IterTools, LinearAlgebra, GraphPlot, Arpack, Plots, SparseArrays\n",
    "using Statistics\n",
    "using Measures"
   ]
  },
  {
   "cell_type": "code",
   "execution_count": 32,
   "metadata": {},
   "outputs": [
    {
     "name": "stdout",
     "output_type": "stream",
     "text": [
      "(1, 2)"
     ]
    },
    {
     "data": {
      "text/plain": [
       "1×2 adjoint(::Matrix{ComplexF64}) with eltype ComplexF64:\n",
       " -0.707107+0.707107im  0.707107+0.707107im"
      ]
     },
     "metadata": {},
     "output_type": "display_data"
    }
   ],
   "source": [
    "n = 2\n",
    "\n",
    "g = Graph(n)\n",
    "meta_g = MetaGraph(g, :angle, 0.0)\n",
    "\n",
    "\n",
    "e = [1 2]\n",
    "a = pi/2\n",
    "edge = consecutive_pairs(e)\n",
    "add_edges_from!(meta_g, edge)\n",
    "for e in edges\n",
    "    set_prop!(meta_g, Edge(e), :angle, a)\n",
    "    print(e)\n",
    "end\n",
    "\n",
    "B = magnetic_incidence(meta_g)\n",
    "\n",
    "B'"
   ]
  },
  {
   "cell_type": "code",
   "execution_count": 31,
   "metadata": {},
   "outputs": [
    {
     "data": {
      "text/plain": [
       "2×2 Matrix{ComplexF64}:\n",
       "          1.0+0.0im  -2.22045e-16-1.0im\n",
       " -2.22045e-16+1.0im           1.0+0.0im"
      ]
     },
     "metadata": {},
     "output_type": "display_data"
    }
   ],
   "source": [
    "B*B'"
   ]
  },
  {
   "cell_type": "code",
   "execution_count": null,
   "metadata": {},
   "outputs": [],
   "source": [
    "c"
   ]
  }
 ],
 "metadata": {
  "kernelspec": {
   "display_name": "Julia 1.6.3",
   "language": "julia",
   "name": "julia-1.6"
  },
  "language_info": {
   "file_extension": ".jl",
   "mimetype": "application/julia",
   "name": "julia",
   "version": "1.6.3"
  },
  "orig_nbformat": 4
 },
 "nbformat": 4,
 "nbformat_minor": 2
}
