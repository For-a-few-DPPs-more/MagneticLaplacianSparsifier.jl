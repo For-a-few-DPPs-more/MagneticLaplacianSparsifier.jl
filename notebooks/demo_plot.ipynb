{
 "cells": [
  {
   "cell_type": "code",
   "execution_count": 2,
   "metadata": {},
   "outputs": [],
   "source": [
    "\n",
    "using MagneticLaplacianSparsifier\n",
    "using Graphs, MetaGraphs, Random, IterTools, LinearAlgebra, GraphPlot, Arpack, Plots, SparseArrays"
   ]
  },
  {
   "cell_type": "code",
   "execution_count": 4,
   "metadata": {},
   "outputs": [
    {
     "ename": "MethodError",
     "evalue": "MethodError: no method matching Graphs.SimpleGraphs.SimpleEdge(::Int64)\nClosest candidates are:\n  Graphs.SimpleGraphs.SimpleEdge(::T, !Matched::T) where T<:Integer at /Users/mfanuel/.julia/packages/Graphs/Mih78/src/SimpleGraphs/simpleedge.jl:7\n  Graphs.SimpleGraphs.SimpleEdge(!Matched::Pair) at /Users/mfanuel/.julia/packages/Graphs/Mih78/src/SimpleGraphs/simpleedge.jl:12\n  Graphs.SimpleGraphs.SimpleEdge(!Matched::Tuple) at /Users/mfanuel/.julia/packages/Graphs/Mih78/src/SimpleGraphs/simpleedge.jl:11",
     "output_type": "error",
     "traceback": [
      "MethodError: no method matching Graphs.SimpleGraphs.SimpleEdge(::Int64)\n",
      "Closest candidates are:\n",
      "  Graphs.SimpleGraphs.SimpleEdge(::T, !Matched::T) where T<:Integer at /Users/mfanuel/.julia/packages/Graphs/Mih78/src/SimpleGraphs/simpleedge.jl:7\n",
      "  Graphs.SimpleGraphs.SimpleEdge(!Matched::Pair) at /Users/mfanuel/.julia/packages/Graphs/Mih78/src/SimpleGraphs/simpleedge.jl:12\n",
      "  Graphs.SimpleGraphs.SimpleEdge(!Matched::Tuple) at /Users/mfanuel/.julia/packages/Graphs/Mih78/src/SimpleGraphs/simpleedge.jl:11\n",
      "\n",
      "Stacktrace:\n",
      "  [1] add_edges_from!(g::MetaGraph{Int64, Float64}, edges::Vector{Int64})\n",
      "    @ MagneticLaplacianSparsifier ~/Documents/Code/juliaTemplate/MagneticLaplacianSparsifier/src/utils.jl:10\n",
      "  [2] top-level scope\n",
      "    @ ~/Documents/Code/juliaTemplate/MagneticLaplacianSparsifier/notebooks/demo_plot.ipynb:13\n",
      "  [3] eval\n",
      "    @ ./boot.jl:360 [inlined]\n",
      "  [4] include_string(mapexpr::typeof(REPL.softscope), mod::Module, code::String, filename::String)\n",
      "    @ Base ./loading.jl:1116\n",
      "  [5] #invokelatest#2\n",
      "    @ ./essentials.jl:708 [inlined]\n",
      "  [6] invokelatest\n",
      "    @ ./essentials.jl:706 [inlined]\n",
      "  [7] (::VSCodeServer.var\"#146#147\"{VSCodeServer.NotebookRunCellArguments, String})()\n",
      "    @ VSCodeServer ~/.vscode/extensions/julialang.language-julia-1.5.6/scripts/packages/VSCodeServer/src/serve_notebook.jl:18\n",
      "  [8] withpath(f::VSCodeServer.var\"#146#147\"{VSCodeServer.NotebookRunCellArguments, String}, path::String)\n",
      "    @ VSCodeServer ~/.vscode/extensions/julialang.language-julia-1.5.6/scripts/packages/VSCodeServer/src/repl.jl:185\n",
      "  [9] notebook_runcell_request(conn::VSCodeServer.JSONRPC.JSONRPCEndpoint{Base.PipeEndpoint, Base.PipeEndpoint}, params::VSCodeServer.NotebookRunCellArguments)\n",
      "    @ VSCodeServer ~/.vscode/extensions/julialang.language-julia-1.5.6/scripts/packages/VSCodeServer/src/serve_notebook.jl:14\n",
      " [10] dispatch_msg(x::VSCodeServer.JSONRPC.JSONRPCEndpoint{Base.PipeEndpoint, Base.PipeEndpoint}, dispatcher::VSCodeServer.JSONRPC.MsgDispatcher, msg::Dict{String, Any})\n",
      "    @ VSCodeServer.JSONRPC ~/.vscode/extensions/julialang.language-julia-1.5.6/scripts/packages/JSONRPC/src/typed.jl:67\n",
      " [11] serve_notebook(pipename::String; crashreporting_pipename::String)\n",
      "    @ VSCodeServer ~/.vscode/extensions/julialang.language-julia-1.5.6/scripts/packages/VSCodeServer/src/serve_notebook.jl:94\n",
      " [12] top-level scope\n",
      "    @ ~/.vscode/extensions/julialang.language-julia-1.5.6/scripts/notebook/notebook.jl:12\n",
      " [13] include(mod::Module, _path::String)\n",
      "    @ Base ./Base.jl:386\n",
      " [14] exec_options(opts::Base.JLOptions)\n",
      "    @ Base ./client.jl:285\n",
      " [15] _start()\n",
      "    @ Base ./client.jl:485"
     ]
    }
   ],
   "source": [
    "n = 9\n",
    "meta_g = MetaGraph(n)\n",
    "\n",
    "sqrtn = Int64(floor(sqrt(n)));\n",
    "\n",
    "a = 0\n",
    "b = 1\n",
    "\n",
    "counter = 0;\n",
    "for i in 1:sqrtn\n",
    "    for j in 1:sqrtn\n",
    "        counter += 1;\n",
    "        #add_edges_from!(meta_g, [counter , counter+1])\n",
    "        vec_xNode[counter] =  a + (b-a)*(i-1)/(sqrtn-1);\n",
    "        vec_yNode[counter] =  a + (b-a)*(j-1)/(sqrtn-1);\n",
    "    end\n",
    "end\n",
    "\n",
    "meta_g = MetaGraph{T,U}(n)\n",
    "\n",
    "for i in 1:n\n",
    "    set_props!(meta_g, i, Dict(\n",
    "        Symbol(\"vec_xNode\") => vec_xNode[i],\n",
    "        Symbol(\"vec_yNode\") => vec_yNode[i]\n",
    "        ))\n",
    "end\n",
    "# Plot the graph\n",
    "graphplot(gr, x=vec_xNode, y=vec_yNode)"
   ]
  },
  {
   "cell_type": "code",
   "execution_count": null,
   "metadata": {},
   "outputs": [],
   "source": []
  }
 ],
 "metadata": {
  "kernelspec": {
   "display_name": "Julia 1.6.3",
   "language": "julia",
   "name": "julia-1.6"
  },
  "language_info": {
   "file_extension": ".jl",
   "mimetype": "application/julia",
   "name": "julia",
   "version": "1.6.3"
  },
  "orig_nbformat": 4
 },
 "nbformat": 4,
 "nbformat_minor": 2
}
