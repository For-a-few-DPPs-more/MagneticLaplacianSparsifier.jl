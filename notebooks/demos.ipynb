{
 "cells": [
  {
   "cell_type": "code",
   "execution_count": 51,
   "metadata": {},
   "outputs": [],
   "source": [
    "using MagneticLaplacianSparsifier\n",
    "using Graphs, MetaGraphs, Random, IterTools, LinearAlgebra"
   ]
  },
  {
   "cell_type": "code",
   "execution_count": 61,
   "metadata": {},
   "outputs": [
    {
     "data": {
      "text/plain": [
       "51-element Vector{Float64}:\n",
       " 0.2868494781659077\n",
       " 0.2568879869563111\n",
       " 0.28018409971935015\n",
       " 0.30515178673594007\n",
       " 0.29964089664770654\n",
       " 0.3671826463198192\n",
       " 0.28797272623500203\n",
       " 0.4210491524023379\n",
       " 0.28168050639180886\n",
       " 0.33487215586215213\n",
       " ⋮\n",
       " 0.5739447701686891\n",
       " 0.2856815882297835\n",
       " 0.3250186444341021\n",
       " 0.5739447701686932\n",
       " 0.4431399609737557\n",
       " 0.32087034697437417\n",
       " 0.3342594680387466\n",
       " 0.4721592592967785\n",
       " 0.4856661043042119"
      ]
     },
     "metadata": {},
     "output_type": "display_data"
    }
   ],
   "source": [
    "n = 20\n",
    "p = 0.3\n",
    "eta = 0.1\n",
    "\n",
    "compGraph = generateGraphMUN(n, p, eta);\n",
    "#comparison_graph = generateGraphERO(n, p, eta)\n",
    "B = magneticIncidence(compGraph);\n",
    "L = B*B';\n",
    "\n",
    "levScores = real(diag(B'*inv(L)*B))"
   ]
  },
  {
   "cell_type": "code",
   "execution_count": 54,
   "metadata": {},
   "outputs": [
    {
     "data": {
      "text/plain": [
       "{20, 20} undirected Int64 metagraph with Float64 weights defined by :weight (default weight 1.0)"
      ]
     },
     "metadata": {},
     "output_type": "display_data"
    }
   ],
   "source": [
    "rng = Random.default_rng()\n",
    "q = 0.0\n",
    "crsf = multi_type_spanning_forest(rng, compGraph, q)"
   ]
  },
  {
   "cell_type": "code",
   "execution_count": 69,
   "metadata": {},
   "outputs": [],
   "source": [
    "t = 100\n",
    "sparseL = zeros(n,n);\n",
    "for i = 1: t\n",
    "    crsf = multi_type_spanning_forest(rng, compGraph, q)\n",
    "    sparseB = magneticIncidence(crsf);\n",
    "    sparseL = sparseL + sparseB*sparseB';\n",
    "end\n",
    "sparseL = sparseL/t;"
   ]
  },
  {
   "cell_type": "code",
   "execution_count": 70,
   "metadata": {},
   "outputs": [
    {
     "data": {
      "text/plain": [
       "20×2 Matrix{Float64}:\n",
       "  0.00307997  0.520184\n",
       "  0.828528    0.666385\n",
       "  1.26904     0.724796\n",
       "  1.7931      0.964916\n",
       "  1.82689     1.05772\n",
       "  2.19836     1.24676\n",
       "  2.68284     1.38577\n",
       "  3.50966     1.4383\n",
       "  4.25919     1.63311\n",
       "  4.86002     1.8928\n",
       "  5.38321     2.03787\n",
       "  5.51063     2.19569\n",
       "  5.62367     2.27833\n",
       "  6.46552     2.55858\n",
       "  7.77126     2.72475\n",
       "  8.03172     2.88437\n",
       "  8.39079     3.07623\n",
       "  9.48003     3.35123\n",
       " 10.5043      3.54677\n",
       " 11.6081      3.81543"
      ]
     },
     "metadata": {},
     "output_type": "display_data"
    }
   ],
   "source": [
    "[eigvals(L) eigvals(sparseL)]"
   ]
  },
  {
   "cell_type": "code",
   "execution_count": null,
   "metadata": {},
   "outputs": [],
   "source": []
  }
 ],
 "metadata": {
  "kernelspec": {
   "display_name": "Julia 1.6.3",
   "language": "julia",
   "name": "julia-1.6"
  },
  "language_info": {
   "file_extension": ".jl",
   "mimetype": "application/julia",
   "name": "julia",
   "version": "1.6.3"
  },
  "orig_nbformat": 4
 },
 "nbformat": 4,
 "nbformat_minor": 2
}
