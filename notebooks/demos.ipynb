{
 "cells": [
  {
   "cell_type": "code",
   "execution_count": 1,
   "metadata": {},
   "outputs": [],
   "source": [
    "using MagneticLaplacianSparsifier\n",
    "using Graphs, MetaGraphs, Random, IterTools, LinearAlgebra, GraphPlot, Arpack, Plots, SparseArrays"
   ]
  },
  {
   "cell_type": "code",
   "execution_count": 2,
   "metadata": {},
   "outputs": [],
   "source": [
    "n = 50\n",
    "p = 0.3\n",
    "eta = 0.3\n",
    "\n",
    "rng = Random.default_rng();\n",
    "compGraph = gen_graph_mun(rng, n, p, eta);\n",
    "B = magnetic_incidence(compGraph; oriented=true);\n",
    "L = B*B';"
   ]
  },
  {
   "cell_type": "markdown",
   "metadata": {},
   "source": [
    "### LS approx with MC"
   ]
  },
  {
   "cell_type": "code",
   "execution_count": null,
   "metadata": {},
   "outputs": [],
   "source": [
    "t= 50000;\n",
    "q = 0;\n",
    "empLev = empLeverageScore(rng, compGraph, q,  t);\n",
    "lev = leverageScore(B, q);\n",
    "\n",
    "print(\"relative error: \",norm(empLev - lev)/norm(lev))\n",
    "plot(empLev,xlabel = \"edge index\",ylabel = \"leverage score\",labels=\"empirical leverage score (q = 0)\");\n",
    "plot!(lev,labels=\"leverage score (q = 0)\")"
   ]
  },
  {
   "cell_type": "markdown",
   "metadata": {},
   "source": [
    "condition number of precond system vs nb of CRSFs"
   ]
  },
  {
   "cell_type": "code",
   "execution_count": null,
   "metadata": {},
   "outputs": [],
   "source": [
    "n = nv(compGraph);\n",
    "m = ne(compGraph);\n",
    "\n",
    "q = 0;\n",
    "lev = leverageScore(B, q);\n",
    "\n",
    "n_tot = 10;\n",
    "cnd_number = zeros(n_tot,1);\n",
    "cnd_number_no_lev = zeros(n_tot,1);\n",
    "\n",
    "percent_edges = zeros(n_tot,1);\n",
    "for i=1:n_tot\n",
    "    avgL = averageSparsifier(rng,compGraph,lev,true,q,i);\n",
    "    avgL_no_lev = averageSparsifier(rng,compGraph,lev,false,q,i);\n",
    "    cnd_number[i] = cond(inv(avgL)*L);\n",
    "    cnd_number_no_lev[i] = cond(inv(avgL_no_lev)*L);\n",
    "    percent_edges[i] = nb_of_edges(avgL)/m;\n",
    "end\n",
    "scatter(1:n_tot,cnd_number, yaxis=:log,xlabel = \"batch size\",labels = \"precond\")\n",
    "scatter!(1:n_tot,cnd_number_no_lev, yaxis=:log,xlabel = \"batch size\",labels = \"precond w/o LS\")\n",
    "scatter!(1:n_tot,percent_edges,labels = \"percentage of edges\")\n",
    "plot!(1:n_tot,cond(L)*ones(n_tot,1),labels = \"cond Laplacian\")"
   ]
  },
  {
   "cell_type": "markdown",
   "metadata": {},
   "source": [
    "### eigenvalue approximation"
   ]
  },
  {
   "cell_type": "code",
   "execution_count": null,
   "metadata": {},
   "outputs": [],
   "source": [
    "\n",
    "\n",
    "t = 3;\n",
    "q = 0;\n",
    "n = nv(compGraph);\n",
    "m = ne(compGraph);\n",
    "\n",
    "levScores = leverageScore(B, q);\n",
    "\n",
    "avgL = averageSparsifier(rng,compGraph,levScores,true,q,t);\n",
    "avgL_no_lev = averageSparsifier(rng,compGraph,levScores,false,q,t);\n",
    "\n",
    "percent = ((nnz(sparse(avgL))-n)/2)/m;\n",
    "print(\"percentage of number of edges : \", percent )\n",
    "plot(real(eigvals(L)), real(eigvals(avgL)),xlabel = \"exact eigenvalues\",ylabel = \"approximate eigenvalues\", labels = \"empirical result\")\n",
    "plot!(real(eigvals(L)), real(eigvals(avgL_no_lev)), labels = \"empirical result w/o LS\")\n",
    "\n",
    "plot!(real(eigvals(L)), real(eigvals(L)),linestyle= :dash, labels = \"ideal case\",legend=:bottomright)\n",
    "\n"
   ]
  },
  {
   "cell_type": "markdown",
   "metadata": {},
   "source": [
    "### Ranking"
   ]
  },
  {
   "cell_type": "code",
   "execution_count": null,
   "metadata": {},
   "outputs": [],
   "source": [
    "B = magnetic_incidence(compGraph; oriented=true);\n",
    "L = B*B';\n",
    "\n",
    "lam,v = eigs(L, nev=1, which=:SM);\n",
    "print(\"nb of edges: \", nb_of_edges(L))\n",
    "\n",
    "scatter(angular_score(v))\n"
   ]
  },
  {
   "cell_type": "code",
   "execution_count": null,
   "metadata": {},
   "outputs": [],
   "source": [
    "\n",
    "\n",
    "t = 3;\n",
    "q = 0;\n",
    "lev = leverageScore(B, q);\n",
    "\n",
    "avgL = averageSparsifier(rng,compGraph,lev,true,q,t);\n",
    "print(\"nb of edges: \", nb_of_edges(avgL), \" over \", nb_of_edges(L))\n",
    "\n",
    "lam,v = eigs(avgL, nev=1, which=:SM);\n",
    "scatter(angular_score(v))\n",
    "\n"
   ]
  },
  {
   "cell_type": "code",
   "execution_count": null,
   "metadata": {},
   "outputs": [],
   "source": [
    "\n",
    "\n",
    "t = 3;\n",
    "q = 0;\n",
    "lev = leverageScore(B, q);\n",
    "# without LS\n",
    "avgL = averageSparsifier(rng,compGraph,lev,false,q,t);\n",
    "print(\"nb of edges: \", nb_of_edges(avgL), \" over \", nb_of_edges(L))\n",
    "lam,v = eigs(avgL, nev=1, which=:SM);\n",
    "scatter(angular_score(v))\n",
    "\n"
   ]
  }
 ],
 "metadata": {
  "kernelspec": {
   "display_name": "Julia 1.6.3",
   "language": "julia",
   "name": "julia-1.6"
  },
  "language_info": {
   "file_extension": ".jl",
   "mimetype": "application/julia",
   "name": "julia",
   "version": "1.6.3"
  },
  "orig_nbformat": 4
 },
 "nbformat": 4,
 "nbformat_minor": 2
}
