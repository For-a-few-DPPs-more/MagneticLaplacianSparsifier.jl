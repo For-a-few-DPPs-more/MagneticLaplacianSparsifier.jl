{
 "cells": [
  {
   "cell_type": "code",
   "execution_count": 29,
   "metadata": {},
   "outputs": [],
   "source": [
    "using MagneticLaplacianSparsifier\n",
    "using Graphs, MetaGraphs, Random, IterTools"
   ]
  },
  {
   "cell_type": "code",
   "execution_count": 27,
   "metadata": {},
   "outputs": [
    {
     "data": {
      "text/plain": [
       "20×52 SparseArrays.SparseMatrixCSC{Complex, Int64} with 104 stored entries:\n",
       "⠉⠱⡒⠒⠒⠤⠤⣀⣀⣀⠀⠀⠀⠀⠀⠀⠀⠀⠀⠀⠀⠀⠀⠀⠀⠀\n",
       "⠀⠀⠀⠀⠀⠁⠀⠢⠀⠀⠱⠒⠒⢢⠤⠤⢄⡀⠀⠀⠀⠀⠀⠀⠀⠀\n",
       "⠂⠀⠠⠀⠀⠐⢄⠀⠂⠀⠀⠁⠀⠀⡀⠀⠠⠨⠉⠉⡒⠒⣀⠀⠀⠀\n",
       "⠀⠀⠀⠄⠀⠀⠀⠀⠈⢂⠄⠐⡀⠀⠐⡀⠀⠂⠑⠄⢀⠀⠁⠉⠤⠀\n",
       "⠈⡀⠀⠈⢄⠀⠀⠀⠀⠀⠀⠀⠈⠂⠀⠈⡀⠀⠀⠈⠀⢂⠈⢂⢂⢖"
      ]
     },
     "metadata": {},
     "output_type": "display_data"
    }
   ],
   "source": [
    "n = 20\n",
    "p = 0.3\n",
    "eta = 0.1\n",
    "\n",
    "compGraph = generateGraphMUN(n, p, eta)\n",
    "#comparison_graph = generateGraphERO(n, p, eta)\n",
    "B = magneticIncidence(compGraph)"
   ]
  },
  {
   "cell_type": "code",
   "execution_count": 30,
   "metadata": {},
   "outputs": [
    {
     "data": {
      "text/plain": [
       "{20, 20} undirected simple Int64 graph"
      ]
     },
     "metadata": {},
     "output_type": "display_data"
    }
   ],
   "source": [
    "rng = Random.default_rng()\n",
    "q = 0.0\n",
    "crsf = multi_type_spanning_forest(rng, compGraph, q)\n",
    "crsfGraph = crsf.graph\n"
   ]
  },
  {
   "cell_type": "code",
   "execution_count": 34,
   "metadata": {},
   "outputs": [
    {
     "ename": "MethodError",
     "evalue": "MethodError: no method matching get_edge_property(::SimpleGraph{Int64}, ::Graphs.SimpleGraphs.SimpleEdge{Int64}, ::Symbol)\nClosest candidates are:\n  get_edge_property(!Matched::AbstractMetaGraph, ::Graphs.SimpleGraphs.SimpleEdge, ::Symbol) at /Users/mfanuel/Documents/Code/juliaTemplate/MagneticLaplacianSparsifier/src/mtsf.jl:105\n  get_edge_property(!Matched::AbstractMetaGraph, ::Graphs.SimpleGraphs.SimpleEdge, ::Symbol, !Matched::Bool) at /Users/mfanuel/Documents/Code/juliaTemplate/MagneticLaplacianSparsifier/src/mtsf.jl:105\n  get_edge_property(!Matched::AbstractMetaGraph, ::Graphs.SimpleGraphs.SimpleEdge, ::Symbol, !Matched::Bool, !Matched::Real) at /Users/mfanuel/Documents/Code/juliaTemplate/MagneticLaplacianSparsifier/src/mtsf.jl:105\n  ...",
     "output_type": "error",
     "traceback": [
      "MethodError: no method matching get_edge_property(::SimpleGraph{Int64}, ::Graphs.SimpleGraphs.SimpleEdge{Int64}, ::Symbol)\n",
      "Closest candidates are:\n",
      "  get_edge_property(!Matched::AbstractMetaGraph, ::Graphs.SimpleGraphs.SimpleEdge, ::Symbol) at /Users/mfanuel/Documents/Code/juliaTemplate/MagneticLaplacianSparsifier/src/mtsf.jl:105\n",
      "  get_edge_property(!Matched::AbstractMetaGraph, ::Graphs.SimpleGraphs.SimpleEdge, ::Symbol, !Matched::Bool) at /Users/mfanuel/Documents/Code/juliaTemplate/MagneticLaplacianSparsifier/src/mtsf.jl:105\n",
      "  get_edge_property(!Matched::AbstractMetaGraph, ::Graphs.SimpleGraphs.SimpleEdge, ::Symbol, !Matched::Bool, !Matched::Real) at /Users/mfanuel/Documents/Code/juliaTemplate/MagneticLaplacianSparsifier/src/mtsf.jl:105\n",
      "  ...\n",
      "\n",
      "Stacktrace:\n",
      "  [1] magneticIncidence(compGraph::SimpleGraph{Int64})\n",
      "    @ MagneticLaplacianSparsifier ~/Documents/Code/juliaTemplate/MagneticLaplacianSparsifier/src/laplacians.jl:14\n",
      "  [2] top-level scope\n",
      "    @ ~/Documents/Code/juliaTemplate/MagneticLaplacianSparsifier/notebooks/demos.ipynb:1\n",
      "  [3] eval\n",
      "    @ ./boot.jl:360 [inlined]\n",
      "  [4] include_string(mapexpr::typeof(REPL.softscope), mod::Module, code::String, filename::String)\n",
      "    @ Base ./loading.jl:1116\n",
      "  [5] #invokelatest#2\n",
      "    @ ./essentials.jl:708 [inlined]\n",
      "  [6] invokelatest\n",
      "    @ ./essentials.jl:706 [inlined]\n",
      "  [7] (::VSCodeServer.var\"#146#147\"{VSCodeServer.NotebookRunCellArguments, String})()\n",
      "    @ VSCodeServer ~/.vscode/extensions/julialang.language-julia-1.5.5/scripts/packages/VSCodeServer/src/serve_notebook.jl:18\n",
      "  [8] withpath(f::VSCodeServer.var\"#146#147\"{VSCodeServer.NotebookRunCellArguments, String}, path::String)\n",
      "    @ VSCodeServer ~/.vscode/extensions/julialang.language-julia-1.5.5/scripts/packages/VSCodeServer/src/repl.jl:185\n",
      "  [9] notebook_runcell_request(conn::VSCodeServer.JSONRPC.JSONRPCEndpoint{Base.PipeEndpoint, Base.PipeEndpoint}, params::VSCodeServer.NotebookRunCellArguments)\n",
      "    @ VSCodeServer ~/.vscode/extensions/julialang.language-julia-1.5.5/scripts/packages/VSCodeServer/src/serve_notebook.jl:14\n",
      " [10] dispatch_msg(x::VSCodeServer.JSONRPC.JSONRPCEndpoint{Base.PipeEndpoint, Base.PipeEndpoint}, dispatcher::VSCodeServer.JSONRPC.MsgDispatcher, msg::Dict{String, Any})\n",
      "    @ VSCodeServer.JSONRPC ~/.vscode/extensions/julialang.language-julia-1.5.5/scripts/packages/JSONRPC/src/typed.jl:67\n",
      " [11] serve_notebook(pipename::String; crashreporting_pipename::String)\n",
      "    @ VSCodeServer ~/.vscode/extensions/julialang.language-julia-1.5.5/scripts/packages/VSCodeServer/src/serve_notebook.jl:94\n",
      " [12] top-level scope\n",
      "    @ ~/.vscode/extensions/julialang.language-julia-1.5.5/scripts/notebook/notebook.jl:12\n",
      " [13] include(mod::Module, _path::String)\n",
      "    @ Base ./Base.jl:386\n",
      " [14] exec_options(opts::Base.JLOptions)\n",
      "    @ Base ./client.jl:285\n",
      " [15] _start()\n",
      "    @ Base ./client.jl:485"
     ]
    }
   ],
   "source": [
    "B = magneticIncidence(crsfGraph)"
   ]
  },
  {
   "cell_type": "code",
   "execution_count": 33,
   "metadata": {},
   "outputs": [
    {
     "data": {
      "text/plain": [
       "{20, 56} undirected Int64 metagraph with Float64 weights defined by :angle (default weight 0.0)"
      ]
     },
     "metadata": {},
     "output_type": "display_data"
    }
   ],
   "source": [
    "compGraph = generateGraphMUN(n, p, eta)\n"
   ]
  },
  {
   "cell_type": "code",
   "execution_count": null,
   "metadata": {},
   "outputs": [],
   "source": []
  }
 ],
 "metadata": {
  "kernelspec": {
   "display_name": "Julia 1.6.3",
   "language": "julia",
   "name": "julia-1.6"
  },
  "language_info": {
   "file_extension": ".jl",
   "mimetype": "application/julia",
   "name": "julia",
   "version": "1.6.3"
  },
  "orig_nbformat": 4
 },
 "nbformat": 4,
 "nbformat_minor": 2
}
