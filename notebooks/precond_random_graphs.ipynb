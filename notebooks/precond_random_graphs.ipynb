{
 "cells": [
  {
   "cell_type": "code",
   "execution_count": null,
   "metadata": {},
   "outputs": [],
   "source": [
    "using MagneticLaplacianSparsifier\n",
    "using Graphs, MetaGraphs, Random, IterTools, LinearAlgebra, GraphPlot, Arpack, Plots, SparseArrays\n",
    "using Statistics\n",
    "using Measures\n",
    "\n",
    "using CSV, DelimitedFiles, DataFrames\n",
    "using JLD2\n",
    "using PlotlyJS"
   ]
  },
  {
   "cell_type": "code",
   "execution_count": null,
   "metadata": {},
   "outputs": [],
   "source": [
    "splg_methods = [\n",
    "    \"DPP(K) unif\",\n",
    "    \"DPP(K) JL-LS\",\n",
    "    #\"DPP(K) LS\", # requires computing exact leverage scores\n",
    "    \"iid JL-LS\",\n",
    "    #\"iid LS\", # requires computing exact leverage scores\n",
    "    \"ST JL-LS\",\n",
    "    # \"ST LS\", # requires computing exact leverage scores\n",
    "]\n",
    "# simulation parameters\n",
    "n_batch = 6; # maximum batch size considered\n",
    "n_rep = 3; # number of runs"
   ]
  },
  {
   "cell_type": "markdown",
   "metadata": {},
   "source": [
    "## Combinatorial Laplacian with random graphs"
   ]
  },
  {
   "cell_type": "markdown",
   "metadata": {},
   "source": [
    "$q=0.1$"
   ]
  },
  {
   "cell_type": "code",
   "execution_count": null,
   "metadata": {},
   "outputs": [],
   "source": [
    "rng = Random.default_rng()\n",
    "# connection graph parameters\n",
    "n = 2000\n",
    "p = 0.01\n",
    "eta = 0.\n",
    "# simple ER graph\n",
    "meta_g = gen_graph_mun(rng, n, p, eta)\n",
    "for e in edges(meta_g)\n",
    "    set_prop!(meta_g, e, :angle, 0.0)\n",
    "end\n",
    "### plotting Laplacian spectrum\n",
    "B = sp_magnetic_incidence(meta_g)\n",
    "Lap = B' * B\n",
    "Lap = 0.5 * (Lap + Lap')\n",
    "least_eigs,_ = eigs(Lap; nev=6, which=:SM)\n",
    "\n",
    "println(\"smallest eigvals\")\n",
    "println(real.(least_eigs))\n",
    "\n",
    "Plots.scatter(1:6,sort(real.(least_eigs));legend=false,title=\"Laplacian spectrum\")"
   ]
  },
  {
   "cell_type": "code",
   "execution_count": null,
   "metadata": {},
   "outputs": [],
   "source": [
    "# regularization parameter\n",
    "q = 0.1\n",
    "# storing settings\n",
    "D_params = Dict(\"n\" => n,\"p\" => p,\"eta\" => eta,\"q\" => q,\"n_batch\" => n_batch,\"n_rep\" => n_rep)\n",
    "# compute condition numbers\n",
    "D_results = cond_numbers(meta_g,q,n_batch,n_rep,rng;splg_methods)\n",
    "\n",
    "name = \"precond\"*\"ER\"*\"n\"*string(n)*\"p\"*string(p)*\"eta\"*string(eta)*\"q\"*string(q)\n",
    "save(\"figures/data/\"*name*\"_data.jld2\",\n",
    " \"D_params\", D_params,\n",
    " \"D_results\", D_results)"
   ]
  },
  {
   "cell_type": "code",
   "execution_count": null,
   "metadata": {},
   "outputs": [],
   "source": [
    "name = \"precond\"*\"ER\"*\"n\"*string(n)*\"p\"*string(p)*\"eta\"*string(eta)*\"q\"*string(q)\n",
    "D = load(\"figures/data/\"*name*\"_data.jld2\")\n",
    "\n",
    "D_results = D[\"D_results\"]\n",
    "# plotting\n",
    "y_limits = (1,1e4)\n",
    "plot_comparison_cond(D_results,y_limits;legendposition=:topright,splg_methods)\n",
    "# # saving plot\n",
    "name = \"precond\"*\"ER\"*\"n\"*string(n)*\"p\"*string(p)*\"eta\"*string(eta)*\"q\"*string(q)\n",
    "Plots.savefig(\"figures/\"*name*\".pdf\")"
   ]
  },
  {
   "cell_type": "markdown",
   "metadata": {},
   "source": [
    "$q= 0.001$"
   ]
  },
  {
   "cell_type": "code",
   "execution_count": null,
   "metadata": {},
   "outputs": [],
   "source": [
    "rng = Random.default_rng()\n",
    "# connection graph parameters\n",
    "n = 2000\n",
    "p = 0.01\n",
    "eta = 0.\n",
    "# storing settings\n",
    "D_params = Dict(\"n\" => n,\"p\" => p,\"eta\" => eta,\"q\" => q,\"n_batch\" => n_batch,\"n_rep\" => n_rep)\n",
    "# simple ER graph\n",
    "meta_g = gen_graph_mun(rng, n, p, eta)\n",
    "for e in edges(meta_g)\n",
    "    set_prop!(meta_g, e, :angle, 0.0)\n",
    "end"
   ]
  },
  {
   "cell_type": "code",
   "execution_count": null,
   "metadata": {},
   "outputs": [],
   "source": [
    "# regularization parameter\n",
    "q = 0.001 \n",
    "# compute condition numbers\n",
    "D_results = cond_numbers(meta_g,q,n_batch,n_rep,rng;splg_methods)\n",
    "\n",
    "name = \"precond\"*\"ER\"*\"n\"*string(n)*\"p\"*string(p)*\"eta\"*string(eta)*\"q\"*string(q)\n",
    "save(\"figures/data/\"*name*\"_data.jld2\",\n",
    " \"D_params\", D_params,\n",
    " \"D_results\", D_results)"
   ]
  },
  {
   "cell_type": "code",
   "execution_count": null,
   "metadata": {},
   "outputs": [],
   "source": [
    "name = \"precond\"*\"ER\"*\"n\"*string(n)*\"p\"*string(p)*\"eta\"*string(eta)*\"q\"*string(q)\n",
    "D = load(\"figures/data/\"*name*\"_data.jld2\")\n",
    "\n",
    "D_results = D[\"D_results\"]\n",
    "\n",
    "# plotting\n",
    "y_limits = (1,1e6)\n",
    "plot_comparison_cond(D_results,y_limits;legendposition=:topright,splg_methods)\n",
    "\n",
    "# # saving plot\n",
    "name = \"precond\"*\"ER\"*\"n\"*string(n)*\"p\"*string(p)*\"eta\"*string(eta)*\"q\"*string(q)\n",
    "Plots.savefig(\"figures/\"*name*\".pdf\")"
   ]
  },
  {
   "cell_type": "code",
   "execution_count": null,
   "metadata": {},
   "outputs": [],
   "source": [
    "\n",
    "q = 0.001\n",
    "# q = 0.1\n",
    "name = \"nb_roots_ER\"*string(q)\n",
    "\n",
    "nb_samples = 200\n",
    "nb_roots = zeros(nb_samples)\n",
    "for i_sample in 1:nb_samples\n",
    "    mtsf = multi_type_spanning_forest(rng, meta_g, q)\n",
    "    nb_roots[i_sample] = length(get_prop(mtsf, :roots))\n",
    "end    \n",
    "\n",
    "save(\"figures/data/\"*name*\"_data.jld2\",\n",
    " \"nb_roots\", nb_roots)"
   ]
  },
  {
   "cell_type": "code",
   "execution_count": null,
   "metadata": {},
   "outputs": [],
   "source": [
    "\n",
    "q=0.1\n",
    "name = \"nb_roots_ER\"*string(q)\n",
    "\n",
    "D = load(\"figures/data/\"*name*\"_data.jld2\")\n",
    "nb_roots = D[\"nb_roots\"]\n",
    "\n",
    "cat_nb_roots = string.(sort(Int.(nb_roots)))\n",
    "trace = PlotlyJS.histogram(x=cat_nb_roots, histnorm=\"probability density\")\n",
    "layout = Layout(\n",
    "    autosize=false,\n",
    "    width=500,\n",
    "    height=200,\n",
    "    margin=attr(l=1, r=1, b=1, t=1, pad=4),\n",
    "    font_size=35,\n",
    "    xaxis_type=\"category\",\n",
    ")\n",
    "p = PlotlyJS.plot(trace,layout)\n",
    "# PlotlyJS.savefig(p,\"figures/\"*name*\".pdf\")"
   ]
  },
  {
   "cell_type": "markdown",
   "metadata": {},
   "source": [
    "## Magnetic Laplacian with random graphs"
   ]
  },
  {
   "cell_type": "markdown",
   "metadata": {},
   "source": [
    "MUN graph model"
   ]
  },
  {
   "cell_type": "code",
   "execution_count": null,
   "metadata": {},
   "outputs": [],
   "source": [
    "type = \"MUN\" \n",
    "\n",
    "rng = Random.default_rng()\n",
    "\n",
    "# connection graph parameters\n",
    "n = 2000\n",
    "p = 0.01\n",
    "eta = 1e-1\n",
    "\n",
    "# regularization parameter\n",
    "q = 0\n",
    "\n",
    "# storing settings\n",
    "D_params = Dict(\"n\" => n,\"p\" => p,\"eta\" => eta,\"q\" => q,\"n_batch\" => n_batch,\"n_rep\" => n_rep)\n",
    "\n",
    "# planted ranking score\n",
    "planted_score = randperm(rng,n)\n",
    "\n",
    "# graph model\n",
    "meta_g = MetaGraph(n)\n",
    "\n",
    "if type==\"MUN\"\n",
    "    meta_g = gen_graph_mun(rng, n, p, eta;planted_score)\n",
    "elseif type==\"ERO\"\n",
    "    meta_g = gen_graph_ero(rng, n, p, eta;planted_score)\n",
    "end\n",
    "\n",
    "# compute condition numbers\n",
    "D_results = cond_numbers(meta_g,q,n_batch,n_rep,rng; q_system=1e-13,splg_methods)\n",
    "name = \"precond\"*type*\"n\"*string(n)*\"p\"*string(p)*\"eta\"*string(eta)*\"q\"*string(q)\n",
    "\n",
    "\n",
    "save(\"figures/data/\"*name*\"_data.jld2\",\n",
    " \"D_params\", D_params,\n",
    " \"D_results\", D_results)"
   ]
  },
  {
   "cell_type": "code",
   "execution_count": null,
   "metadata": {},
   "outputs": [],
   "source": [
    "D = load(\"figures/data/\"*name*\"_data.jld2\")\n",
    "D_results = D[\"D_results\"]\n",
    "# plotting\n",
    "y_limits = (1,1e8)\n",
    "plot_comparison_cond(D_results,y_limits;legendposition=:topright,splg_methods)\n",
    "# # saving plot\n",
    "Plots.savefig(\"figures/\"*name*\".pdf\")"
   ]
  },
  {
   "cell_type": "code",
   "execution_count": null,
   "metadata": {},
   "outputs": [],
   "source": [
    "nb_samples = 200\n",
    "nb_cycles = zeros(nb_samples)\n",
    "for i_sample in 1:nb_samples\n",
    "    mtsf = multi_type_spanning_forest(rng, meta_g, q)\n",
    "    cycles = get_prop(mtsf, :cycle_nodes)\n",
    "    nb_cycles[i_sample] = length(cycles)\n",
    "end    \n",
    "name = \"nb_cycles_MUN_precond_\"*type*string(eta)\n",
    "\n",
    "save(\"figures/data/\"*name*\"_data.jld2\",\n",
    " \"nb_cycles\", nb_cycles)"
   ]
  },
  {
   "cell_type": "code",
   "execution_count": null,
   "metadata": {},
   "outputs": [],
   "source": [
    "name = \"nb_cycles_MUN_precond_\"*type*string(eta)\n",
    "D = load(\"figures/data/\"*name*\"_data.jld2\")\n",
    "nb_cycles = D[\"nb_cycles\"]\n",
    "\n",
    "cat_nb_cycles = string.(sort(Int.(nb_cycles)))\n",
    "trace = PlotlyJS.histogram(x=cat_nb_cycles, histnorm=\"probability density\")\n",
    "layout = Layout(\n",
    "    autosize=false,\n",
    "    width=500,\n",
    "    height=200,\n",
    "    margin=attr(l=1, r=1, b=1, t=1, pad=4),\n",
    "    font_size=35,\n",
    "    xaxis_type=\"category\",\n",
    ")\n",
    "p = PlotlyJS.plot(trace,layout)\n",
    "# PlotlyJS.savefig(p,\"figures/\"*name*\".pdf\")\n"
   ]
  },
  {
   "cell_type": "markdown",
   "metadata": {},
   "source": [
    "ERO graph model"
   ]
  },
  {
   "cell_type": "code",
   "execution_count": null,
   "metadata": {},
   "outputs": [],
   "source": [
    "type = \"ERO\" \n",
    "\n",
    "rng = Random.default_rng()\n",
    "\n",
    "# connection graph parameters\n",
    "n = 2000 \n",
    "p = 0.01 \n",
    "eta = 1e-3 #1e-4 \n",
    "\n",
    "# regularization parameter\n",
    "q = 0\n",
    "\n",
    "# storing settings\n",
    "D_params = Dict(\"n\" => n,\"p\" => p,\"eta\" => eta,\"q\" => q,\"n_batch\" => n_batch,\"n_rep\" => n_rep)\n",
    "\n",
    "# planted ranking score\n",
    "planted_score = randperm(rng,n)\n",
    "\n",
    "# graph model\n",
    "meta_g = MetaGraph(n)\n",
    "\n",
    "if type==\"MUN\"\n",
    "    meta_g = gen_graph_mun(rng, n, p, eta;planted_score)\n",
    "elseif type==\"ERO\"\n",
    "    meta_g = gen_graph_ero(rng, n, p, eta;planted_score)\n",
    "end\n",
    "\n",
    "# compute condition numbers\n",
    "D_results = cond_numbers(meta_g,q,n_batch,n_rep,rng; q_system=1e-13,splg_methods)\n",
    "name = \"precond\"*type*\"n\"*string(n)*\"p\"*string(p)*\"eta\"*string(eta)*\"q\"*string(q)\n",
    "\n",
    "save(\"figures/data/\"*name*\"_data.jld2\",\n",
    " \"D_params\", D_params,\n",
    " \"D_results\", D_results)"
   ]
  },
  {
   "cell_type": "code",
   "execution_count": null,
   "metadata": {},
   "outputs": [],
   "source": [
    "name = \"precond\"*type*\"n\"*string(n)*\"p\"*string(p)*\"eta\"*string(eta)*\"q\"*string(q)\n",
    "D = load(\"figures/data/\"*name*\"_data.jld2\")\n",
    "D_results = D[\"D_results\"]\n",
    "\n",
    "# plotting\n",
    "y_limits = (1,1e6)\n",
    "name = \"precond\"*type*\"n\"*string(n)*\"p\"*string(p)*\"eta\"*string(eta)*\"q\"*string(q)\n",
    "plot_comparison_cond(D_results,y_limits;legendposition=:topright,splg_methods)\n",
    "\n",
    "Plots.savefig(\"figures/\"*name*\".pdf\")"
   ]
  },
  {
   "cell_type": "code",
   "execution_count": null,
   "metadata": {},
   "outputs": [],
   "source": [
    "nb_samples = 200\n",
    "nb_cycles = zeros(nb_samples)\n",
    "for i_sample in 1:nb_samples\n",
    "    mtsf = multi_type_spanning_forest(rng, meta_g, q)\n",
    "    cycles = get_prop(mtsf, :cycle_nodes)\n",
    "    nb_cycles[i_sample] = length(cycles)\n",
    "end    \n",
    "\n",
    "name = \"nb_cycles_\"*type*string(eta)\n",
    "\n",
    "save(\"figures/data/\"*name*\"_data.jld2\",\n",
    " \"nb_cycles\", nb_cycles)"
   ]
  },
  {
   "cell_type": "code",
   "execution_count": null,
   "metadata": {},
   "outputs": [],
   "source": [
    "name = \"nb_cycles_\"*type*string(eta)\n",
    "D = load(\"figures/data/\"*name*\"_data.jld2\")\n",
    "\n",
    "nb_cycles = D[\"nb_cycles\"]\n",
    "\n",
    "cat_nb_cycles = string.(sort(Int.(nb_cycles)))\n",
    "trace = PlotlyJS.histogram(x=cat_nb_cycles, histnorm=\"probability density\")\n",
    "layout = Layout(\n",
    "    autosize=false,\n",
    "    width=500,\n",
    "    height=200,\n",
    "    margin=attr(l=1, r=1, b=1, t=1, pad=4),\n",
    "    font_size=35,\n",
    "    xaxis_type=\"category\",\n",
    ")\n",
    "p = PlotlyJS.plot(trace,layout)\n",
    "# PlotlyJS.savefig(p,\"figures/\"*name*\".pdf\")"
   ]
  },
  {
   "cell_type": "code",
   "execution_count": null,
   "metadata": {},
   "outputs": [],
   "source": []
  }
 ],
 "metadata": {
  "kernelspec": {
   "display_name": "Julia 1.6.7",
   "language": "julia",
   "name": "julia-1.6"
  },
  "language_info": {
   "file_extension": ".jl",
   "mimetype": "application/julia",
   "name": "julia",
   "version": "1.6.7"
  },
  "orig_nbformat": 4
 },
 "nbformat": 4,
 "nbformat_minor": 2
}
